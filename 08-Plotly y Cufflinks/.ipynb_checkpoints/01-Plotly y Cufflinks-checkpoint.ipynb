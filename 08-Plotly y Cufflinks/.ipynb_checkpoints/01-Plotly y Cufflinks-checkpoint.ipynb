{
 "cells": [
  {
   "cell_type": "markdown",
   "metadata": {},
   "source": [
    "___\n",
    "\n",
    "<a href='https://plotly.com/python/'> <img src='https://plotly.com/all_static/images/plotly_graphing_libraries_1.png' /></a>\n",
    "___\n",
    "# Plotly y Cufflinks"
   ]
  },
  {
   "cell_type": "markdown",
   "metadata": {},
   "source": [
    "**Plotly** es una libreria que permite crear gráficos interactivos para poder usarse en cuadros de mando o sitios web (se pueden guardar como archivos html o imágenes estáticas).\n",
    "\n",
    "**Cufflinks** es una libreria que conecta un dataframe de Pandas con Plotly, lo que permite a los usuarios crear visualizaciones directamente desde Pandas. Esta libreria une el poder de Plotly con la flexibilidad de Pandas para facilitar la visualización de los datos.\n",
    "\n",
    "## Instalación\n",
    "\n",
    "Para que todo esto funcione, se deberá instalar plotly y cufflinks para llamar a los gráficos directamente desde un dataframe de Pandas. Estas librerias no están disponibles actualmente a través de Conda, pero están disponibles a través de pip . Instalar las librerias en su línea de comando/terminal usando:\n",
    "\n",
    "    pip install plotly\n",
    "    pip install cufflinks\n",
    "\n",
    "## Importaciones y configuración "
   ]
  },
  {
   "cell_type": "code",
   "execution_count": 22,
   "metadata": {},
   "outputs": [],
   "source": [
    "import pandas as pd\n",
    "import numpy as np\n",
    "%matplotlib inline"
   ]
  },
  {
   "cell_type": "code",
   "execution_count": 23,
   "metadata": {},
   "outputs": [
    {
     "name": "stdout",
     "output_type": "stream",
     "text": [
      "4.14.2\n"
     ]
    }
   ],
   "source": [
    "from plotly import __version__\n",
    "from plotly.offline import download_plotlyjs, init_notebook_mode, plot, iplot\n",
    "\n",
    "print(__version__) # requires version >= 1.9.0"
   ]
  },
  {
   "cell_type": "code",
   "execution_count": 24,
   "metadata": {},
   "outputs": [],
   "source": [
    "import cufflinks as cf"
   ]
  },
  {
   "cell_type": "code",
   "execution_count": 25,
   "metadata": {},
   "outputs": [
    {
     "data": {
      "text/html": [
       "        <script type=\"text/javascript\">\n",
       "        window.PlotlyConfig = {MathJaxConfig: 'local'};\n",
       "        if (window.MathJax) {MathJax.Hub.Config({SVG: {font: \"STIX-Web\"}});}\n",
       "        if (typeof require !== 'undefined') {\n",
       "        require.undef(\"plotly\");\n",
       "        requirejs.config({\n",
       "            paths: {\n",
       "                'plotly': ['https://cdn.plot.ly/plotly-latest.min']\n",
       "            }\n",
       "        });\n",
       "        require(['plotly'], function(Plotly) {\n",
       "            window._Plotly = Plotly;\n",
       "        });\n",
       "        }\n",
       "        </script>\n",
       "        "
      ]
     },
     "metadata": {},
     "output_type": "display_data"
    }
   ],
   "source": [
    "# Para Notebooks\n",
    "init_notebook_mode(connected=True)"
   ]
  },
  {
   "cell_type": "code",
   "execution_count": 26,
   "metadata": {},
   "outputs": [
    {
     "data": {
      "text/html": [
       "        <script type=\"text/javascript\">\n",
       "        window.PlotlyConfig = {MathJaxConfig: 'local'};\n",
       "        if (window.MathJax) {MathJax.Hub.Config({SVG: {font: \"STIX-Web\"}});}\n",
       "        if (typeof require !== 'undefined') {\n",
       "        require.undef(\"plotly\");\n",
       "        requirejs.config({\n",
       "            paths: {\n",
       "                'plotly': ['https://cdn.plot.ly/plotly-latest.min']\n",
       "            }\n",
       "        });\n",
       "        require(['plotly'], function(Plotly) {\n",
       "            window._Plotly = Plotly;\n",
       "        });\n",
       "        }\n",
       "        </script>\n",
       "        "
      ]
     },
     "metadata": {},
     "output_type": "display_data"
    }
   ],
   "source": [
    "# Para uso offline colocar\n",
    "cf.go_offline()"
   ]
  },
  {
   "cell_type": "markdown",
   "metadata": {},
   "source": [
    "### Datos de prueba"
   ]
  },
  {
   "cell_type": "code",
   "execution_count": 27,
   "metadata": {},
   "outputs": [],
   "source": [
    "df = pd.DataFrame(np.random.randn(100,4),columns='A B C D'.split())"
   ]
  },
  {
   "cell_type": "code",
   "execution_count": 28,
   "metadata": {},
   "outputs": [
    {
     "data": {
      "text/html": [
       "<div>\n",
       "<style scoped>\n",
       "    .dataframe tbody tr th:only-of-type {\n",
       "        vertical-align: middle;\n",
       "    }\n",
       "\n",
       "    .dataframe tbody tr th {\n",
       "        vertical-align: top;\n",
       "    }\n",
       "\n",
       "    .dataframe thead th {\n",
       "        text-align: right;\n",
       "    }\n",
       "</style>\n",
       "<table border=\"1\" class=\"dataframe\">\n",
       "  <thead>\n",
       "    <tr style=\"text-align: right;\">\n",
       "      <th></th>\n",
       "      <th>A</th>\n",
       "      <th>B</th>\n",
       "      <th>C</th>\n",
       "      <th>D</th>\n",
       "    </tr>\n",
       "  </thead>\n",
       "  <tbody>\n",
       "    <tr>\n",
       "      <th>0</th>\n",
       "      <td>-0.784766</td>\n",
       "      <td>0.557215</td>\n",
       "      <td>-0.845549</td>\n",
       "      <td>0.672334</td>\n",
       "    </tr>\n",
       "    <tr>\n",
       "      <th>1</th>\n",
       "      <td>0.588729</td>\n",
       "      <td>-0.455045</td>\n",
       "      <td>-0.484543</td>\n",
       "      <td>1.101802</td>\n",
       "    </tr>\n",
       "    <tr>\n",
       "      <th>2</th>\n",
       "      <td>-0.551407</td>\n",
       "      <td>0.439724</td>\n",
       "      <td>0.027427</td>\n",
       "      <td>0.735744</td>\n",
       "    </tr>\n",
       "    <tr>\n",
       "      <th>3</th>\n",
       "      <td>0.088408</td>\n",
       "      <td>-0.276339</td>\n",
       "      <td>-1.321577</td>\n",
       "      <td>-1.228063</td>\n",
       "    </tr>\n",
       "    <tr>\n",
       "      <th>4</th>\n",
       "      <td>-0.957132</td>\n",
       "      <td>-0.085710</td>\n",
       "      <td>0.220342</td>\n",
       "      <td>-0.440055</td>\n",
       "    </tr>\n",
       "  </tbody>\n",
       "</table>\n",
       "</div>"
      ],
      "text/plain": [
       "          A         B         C         D\n",
       "0 -0.784766  0.557215 -0.845549  0.672334\n",
       "1  0.588729 -0.455045 -0.484543  1.101802\n",
       "2 -0.551407  0.439724  0.027427  0.735744\n",
       "3  0.088408 -0.276339 -1.321577 -1.228063\n",
       "4 -0.957132 -0.085710  0.220342 -0.440055"
      ]
     },
     "execution_count": 28,
     "metadata": {},
     "output_type": "execute_result"
    }
   ],
   "source": [
    "df.head()"
   ]
  },
  {
   "cell_type": "code",
   "execution_count": 29,
   "metadata": {},
   "outputs": [],
   "source": [
    "df2 = pd.DataFrame({'Category':['A','B','C'],'Values':[32,43,50]})"
   ]
  },
  {
   "cell_type": "code",
   "execution_count": 30,
   "metadata": {},
   "outputs": [
    {
     "data": {
      "text/html": [
       "<div>\n",
       "<style scoped>\n",
       "    .dataframe tbody tr th:only-of-type {\n",
       "        vertical-align: middle;\n",
       "    }\n",
       "\n",
       "    .dataframe tbody tr th {\n",
       "        vertical-align: top;\n",
       "    }\n",
       "\n",
       "    .dataframe thead th {\n",
       "        text-align: right;\n",
       "    }\n",
       "</style>\n",
       "<table border=\"1\" class=\"dataframe\">\n",
       "  <thead>\n",
       "    <tr style=\"text-align: right;\">\n",
       "      <th></th>\n",
       "      <th>Category</th>\n",
       "      <th>Values</th>\n",
       "    </tr>\n",
       "  </thead>\n",
       "  <tbody>\n",
       "    <tr>\n",
       "      <th>0</th>\n",
       "      <td>A</td>\n",
       "      <td>32</td>\n",
       "    </tr>\n",
       "    <tr>\n",
       "      <th>1</th>\n",
       "      <td>B</td>\n",
       "      <td>43</td>\n",
       "    </tr>\n",
       "    <tr>\n",
       "      <th>2</th>\n",
       "      <td>C</td>\n",
       "      <td>50</td>\n",
       "    </tr>\n",
       "  </tbody>\n",
       "</table>\n",
       "</div>"
      ],
      "text/plain": [
       "  Category  Values\n",
       "0        A      32\n",
       "1        B      43\n",
       "2        C      50"
      ]
     },
     "execution_count": 30,
     "metadata": {},
     "output_type": "execute_result"
    }
   ],
   "source": [
    "df2.head()"
   ]
  },
  {
   "cell_type": "markdown",
   "metadata": {},
   "source": [
    "## Usando Cufflinks e iplot()\n",
    "\n",
    "* Scatter\n",
    "* Bar\n",
    "* Boxplot\n",
    "* 3D surface\n",
    "* Histograma\n",
    "* Burbujas"
   ]
  },
  {
   "cell_type": "markdown",
   "metadata": {},
   "source": [
    "## Scatter"
   ]
  },
  {
   "cell_type": "code",
   "execution_count": 31,
   "metadata": {},
   "outputs": [
    {
     "data": {
      "application/vnd.plotly.v1+json": {
       "config": {
        "linkText": "Export to plot.ly",
        "plotlyServerURL": "https://plot.ly",
        "showLink": true
       },
       "data": [
        {
         "line": {
          "color": "rgba(255, 153, 51, 1.0)",
          "dash": "solid",
          "shape": "linear",
          "width": 1.3
         },
         "marker": {
          "size": 10,
          "symbol": "circle"
         },
         "mode": "markers",
         "name": "B",
         "text": "",
         "type": "scatter",
         "x": [
          -0.7847662484388648,
          0.5887290310128517,
          -0.5514071090214487,
          0.08840812267345483,
          -0.957132276940948,
          -0.1747201870186245,
          -0.775383100878524,
          0.4945756457748739,
          -0.45784395724355104,
          -0.7299542464491161,
          2.120508885901264,
          -2.2347271889052647,
          -0.216174711781822,
          -2.846486640307819,
          -0.5216053610061037,
          1.0601574186659917,
          -0.3979067592077603,
          1.8802233263322539,
          1.203817333279283,
          -0.8843606774688277,
          1.03031872907569,
          -0.4257523627376736,
          0.8729366328539484,
          0.7015791574627109,
          -0.38686542056186624,
          0.8413262603687331,
          0.05399293108518775,
          0.043179544666969855,
          -2.9220805766557323,
          0.08340038015300334,
          3.5137406018102793,
          0.06710822950599729,
          -0.8317463668012348,
          0.11787537086880737,
          -0.40091873975019443,
          -0.647274188279839,
          -1.2526617333340366,
          0.06122457684630888,
          -0.1444120037528103,
          -0.7903713996915007,
          -0.1232958328995701,
          1.026244203860463,
          0.24784413058545027,
          0.07654902167655836,
          0.6316802536407472,
          -1.3413050172070276,
          -1.4416712533630667,
          -0.10415219238574984,
          0.20676801944816472,
          -0.8887833483806576,
          -0.18089986860947765,
          -1.1791549223426931,
          0.8841397805651795,
          0.5430023355298771,
          -0.9259578970567877,
          0.6119061006624439,
          0.574018323672333,
          1.3093577253163893,
          0.5563033371402298,
          1.8136943649705675,
          -0.6442541240275126,
          2.0713926711402553,
          -1.0477806925379496,
          -1.2191288405576126,
          0.46833740043259986,
          -0.2272374953217602,
          -0.48093633214803955,
          0.9640139774346485,
          0.2698896656277988,
          0.08284925087705126,
          0.4891500704201871,
          0.740009758283557,
          -0.9394610595033338,
          1.0125457768568211,
          -0.6380799097814033,
          -0.532143093193377,
          0.7800276603962227,
          -0.6985563151031897,
          -0.9621143302322339,
          -0.6193184582765459,
          0.9043920195398775,
          -1.4522395983454406,
          -0.4893232211608719,
          -0.2642170873783527,
          0.8316859700169948,
          1.2489509315576732,
          -0.405229252832221,
          -0.3993210218041567,
          0.6301892319317067,
          -2.032615377066661,
          -0.2978316144783474,
          -0.7430723467788538,
          -0.05140898799930743,
          -1.6170545960302538,
          -0.04932390232689837,
          -0.8155700860817712,
          -1.7788024582795317,
          -1.6174420443715154,
          0.11267862990631071,
          1.2787293893763918
         ],
         "y": [
          0.5572145425894736,
          -0.45504520577696367,
          0.4397244784970589,
          -0.2763388377694911,
          -0.08571023954655589,
          -1.6755292215779456,
          -1.8334924719643624,
          -0.660543388652614,
          0.7078090548539063,
          -0.30404582808658714,
          0.7983154440193301,
          0.6389687724326867,
          -1.8050197876858236,
          -0.4025794005207336,
          0.3704656336659906,
          -0.747624783090879,
          -0.4392091376941933,
          -0.33047162205148,
          -0.1364354262968888,
          -0.8633476502974338,
          -0.16814011189850314,
          -1.4696332886345858,
          0.1585322391907727,
          -2.418076999992624,
          0.6622146788284973,
          0.8721367999555061,
          -1.25976348157494,
          1.8348088004628051,
          0.47688346565844086,
          0.14213908096085381,
          -1.8637299698264642,
          0.18280931235672152,
          1.2439722521750312,
          -0.3733871869316914,
          -2.1740967689550086,
          -0.15732638770451998,
          0.0633022732022018,
          -0.7790326367796533,
          -0.24491703017219643,
          0.5040191789600832,
          -0.9515995713121651,
          -0.8414065588473638,
          0.5955986478906864,
          0.7154922596789571,
          -0.0540021267028095,
          -0.045508513386948043,
          0.6119646956030508,
          1.1102705897798857,
          0.19750938669276072,
          -1.0931085199143398,
          -0.6088374888059043,
          0.879357016729816,
          -1.0545177862425543,
          -1.0615585452683487,
          -0.3395286389548686,
          0.9167954596280192,
          0.3056287217220758,
          1.1897269806627724,
          -0.5785892939226185,
          1.1882930981736926,
          -1.9453934420960646,
          0.40404565925308905,
          -0.47793302435649154,
          0.9554348023325204,
          -0.12910337890098902,
          -0.011338204028426009,
          -1.2864013072197011,
          1.9501586903960613,
          0.18449132473611274,
          -1.352778989230137,
          0.8139484363174008,
          -0.282173902035499,
          0.055616892028192616,
          1.1233026493199727,
          -0.06175109687338001,
          2.6230381340766007,
          -0.5766957704909688,
          -0.7597006964718782,
          -0.3769501067141862,
          -0.1760010222169406,
          2.688186774678746,
          -2.3362883690467933,
          -0.00034980439845702736,
          -0.3079688557143545,
          -0.4116002100009419,
          0.5599206118343988,
          0.16222988523787568,
          -0.3746644731060114,
          1.3783064233466986,
          -0.28963624409219874,
          0.48917493779357635,
          0.84254699744496,
          -0.16749916523803782,
          -0.44959956190182654,
          0.5678994707214291,
          0.05294747982035926,
          -0.5544304088936962,
          -0.41553679147877703,
          -1.9093260964550836,
          -0.11837954489758033
         ]
        }
       ],
       "layout": {
        "legend": {
         "bgcolor": "#F5F6F9",
         "font": {
          "color": "#4D5663"
         }
        },
        "paper_bgcolor": "#F5F6F9",
        "plot_bgcolor": "#F5F6F9",
        "template": {
         "data": {
          "bar": [
           {
            "error_x": {
             "color": "#2a3f5f"
            },
            "error_y": {
             "color": "#2a3f5f"
            },
            "marker": {
             "line": {
              "color": "#E5ECF6",
              "width": 0.5
             }
            },
            "type": "bar"
           }
          ],
          "barpolar": [
           {
            "marker": {
             "line": {
              "color": "#E5ECF6",
              "width": 0.5
             }
            },
            "type": "barpolar"
           }
          ],
          "carpet": [
           {
            "aaxis": {
             "endlinecolor": "#2a3f5f",
             "gridcolor": "white",
             "linecolor": "white",
             "minorgridcolor": "white",
             "startlinecolor": "#2a3f5f"
            },
            "baxis": {
             "endlinecolor": "#2a3f5f",
             "gridcolor": "white",
             "linecolor": "white",
             "minorgridcolor": "white",
             "startlinecolor": "#2a3f5f"
            },
            "type": "carpet"
           }
          ],
          "choropleth": [
           {
            "colorbar": {
             "outlinewidth": 0,
             "ticks": ""
            },
            "type": "choropleth"
           }
          ],
          "contour": [
           {
            "colorbar": {
             "outlinewidth": 0,
             "ticks": ""
            },
            "colorscale": [
             [
              0,
              "#0d0887"
             ],
             [
              0.1111111111111111,
              "#46039f"
             ],
             [
              0.2222222222222222,
              "#7201a8"
             ],
             [
              0.3333333333333333,
              "#9c179e"
             ],
             [
              0.4444444444444444,
              "#bd3786"
             ],
             [
              0.5555555555555556,
              "#d8576b"
             ],
             [
              0.6666666666666666,
              "#ed7953"
             ],
             [
              0.7777777777777778,
              "#fb9f3a"
             ],
             [
              0.8888888888888888,
              "#fdca26"
             ],
             [
              1,
              "#f0f921"
             ]
            ],
            "type": "contour"
           }
          ],
          "contourcarpet": [
           {
            "colorbar": {
             "outlinewidth": 0,
             "ticks": ""
            },
            "type": "contourcarpet"
           }
          ],
          "heatmap": [
           {
            "colorbar": {
             "outlinewidth": 0,
             "ticks": ""
            },
            "colorscale": [
             [
              0,
              "#0d0887"
             ],
             [
              0.1111111111111111,
              "#46039f"
             ],
             [
              0.2222222222222222,
              "#7201a8"
             ],
             [
              0.3333333333333333,
              "#9c179e"
             ],
             [
              0.4444444444444444,
              "#bd3786"
             ],
             [
              0.5555555555555556,
              "#d8576b"
             ],
             [
              0.6666666666666666,
              "#ed7953"
             ],
             [
              0.7777777777777778,
              "#fb9f3a"
             ],
             [
              0.8888888888888888,
              "#fdca26"
             ],
             [
              1,
              "#f0f921"
             ]
            ],
            "type": "heatmap"
           }
          ],
          "heatmapgl": [
           {
            "colorbar": {
             "outlinewidth": 0,
             "ticks": ""
            },
            "colorscale": [
             [
              0,
              "#0d0887"
             ],
             [
              0.1111111111111111,
              "#46039f"
             ],
             [
              0.2222222222222222,
              "#7201a8"
             ],
             [
              0.3333333333333333,
              "#9c179e"
             ],
             [
              0.4444444444444444,
              "#bd3786"
             ],
             [
              0.5555555555555556,
              "#d8576b"
             ],
             [
              0.6666666666666666,
              "#ed7953"
             ],
             [
              0.7777777777777778,
              "#fb9f3a"
             ],
             [
              0.8888888888888888,
              "#fdca26"
             ],
             [
              1,
              "#f0f921"
             ]
            ],
            "type": "heatmapgl"
           }
          ],
          "histogram": [
           {
            "marker": {
             "colorbar": {
              "outlinewidth": 0,
              "ticks": ""
             }
            },
            "type": "histogram"
           }
          ],
          "histogram2d": [
           {
            "colorbar": {
             "outlinewidth": 0,
             "ticks": ""
            },
            "colorscale": [
             [
              0,
              "#0d0887"
             ],
             [
              0.1111111111111111,
              "#46039f"
             ],
             [
              0.2222222222222222,
              "#7201a8"
             ],
             [
              0.3333333333333333,
              "#9c179e"
             ],
             [
              0.4444444444444444,
              "#bd3786"
             ],
             [
              0.5555555555555556,
              "#d8576b"
             ],
             [
              0.6666666666666666,
              "#ed7953"
             ],
             [
              0.7777777777777778,
              "#fb9f3a"
             ],
             [
              0.8888888888888888,
              "#fdca26"
             ],
             [
              1,
              "#f0f921"
             ]
            ],
            "type": "histogram2d"
           }
          ],
          "histogram2dcontour": [
           {
            "colorbar": {
             "outlinewidth": 0,
             "ticks": ""
            },
            "colorscale": [
             [
              0,
              "#0d0887"
             ],
             [
              0.1111111111111111,
              "#46039f"
             ],
             [
              0.2222222222222222,
              "#7201a8"
             ],
             [
              0.3333333333333333,
              "#9c179e"
             ],
             [
              0.4444444444444444,
              "#bd3786"
             ],
             [
              0.5555555555555556,
              "#d8576b"
             ],
             [
              0.6666666666666666,
              "#ed7953"
             ],
             [
              0.7777777777777778,
              "#fb9f3a"
             ],
             [
              0.8888888888888888,
              "#fdca26"
             ],
             [
              1,
              "#f0f921"
             ]
            ],
            "type": "histogram2dcontour"
           }
          ],
          "mesh3d": [
           {
            "colorbar": {
             "outlinewidth": 0,
             "ticks": ""
            },
            "type": "mesh3d"
           }
          ],
          "parcoords": [
           {
            "line": {
             "colorbar": {
              "outlinewidth": 0,
              "ticks": ""
             }
            },
            "type": "parcoords"
           }
          ],
          "pie": [
           {
            "automargin": true,
            "type": "pie"
           }
          ],
          "scatter": [
           {
            "marker": {
             "colorbar": {
              "outlinewidth": 0,
              "ticks": ""
             }
            },
            "type": "scatter"
           }
          ],
          "scatter3d": [
           {
            "line": {
             "colorbar": {
              "outlinewidth": 0,
              "ticks": ""
             }
            },
            "marker": {
             "colorbar": {
              "outlinewidth": 0,
              "ticks": ""
             }
            },
            "type": "scatter3d"
           }
          ],
          "scattercarpet": [
           {
            "marker": {
             "colorbar": {
              "outlinewidth": 0,
              "ticks": ""
             }
            },
            "type": "scattercarpet"
           }
          ],
          "scattergeo": [
           {
            "marker": {
             "colorbar": {
              "outlinewidth": 0,
              "ticks": ""
             }
            },
            "type": "scattergeo"
           }
          ],
          "scattergl": [
           {
            "marker": {
             "colorbar": {
              "outlinewidth": 0,
              "ticks": ""
             }
            },
            "type": "scattergl"
           }
          ],
          "scattermapbox": [
           {
            "marker": {
             "colorbar": {
              "outlinewidth": 0,
              "ticks": ""
             }
            },
            "type": "scattermapbox"
           }
          ],
          "scatterpolar": [
           {
            "marker": {
             "colorbar": {
              "outlinewidth": 0,
              "ticks": ""
             }
            },
            "type": "scatterpolar"
           }
          ],
          "scatterpolargl": [
           {
            "marker": {
             "colorbar": {
              "outlinewidth": 0,
              "ticks": ""
             }
            },
            "type": "scatterpolargl"
           }
          ],
          "scatterternary": [
           {
            "marker": {
             "colorbar": {
              "outlinewidth": 0,
              "ticks": ""
             }
            },
            "type": "scatterternary"
           }
          ],
          "surface": [
           {
            "colorbar": {
             "outlinewidth": 0,
             "ticks": ""
            },
            "colorscale": [
             [
              0,
              "#0d0887"
             ],
             [
              0.1111111111111111,
              "#46039f"
             ],
             [
              0.2222222222222222,
              "#7201a8"
             ],
             [
              0.3333333333333333,
              "#9c179e"
             ],
             [
              0.4444444444444444,
              "#bd3786"
             ],
             [
              0.5555555555555556,
              "#d8576b"
             ],
             [
              0.6666666666666666,
              "#ed7953"
             ],
             [
              0.7777777777777778,
              "#fb9f3a"
             ],
             [
              0.8888888888888888,
              "#fdca26"
             ],
             [
              1,
              "#f0f921"
             ]
            ],
            "type": "surface"
           }
          ],
          "table": [
           {
            "cells": {
             "fill": {
              "color": "#EBF0F8"
             },
             "line": {
              "color": "white"
             }
            },
            "header": {
             "fill": {
              "color": "#C8D4E3"
             },
             "line": {
              "color": "white"
             }
            },
            "type": "table"
           }
          ]
         },
         "layout": {
          "annotationdefaults": {
           "arrowcolor": "#2a3f5f",
           "arrowhead": 0,
           "arrowwidth": 1
          },
          "autotypenumbers": "strict",
          "coloraxis": {
           "colorbar": {
            "outlinewidth": 0,
            "ticks": ""
           }
          },
          "colorscale": {
           "diverging": [
            [
             0,
             "#8e0152"
            ],
            [
             0.1,
             "#c51b7d"
            ],
            [
             0.2,
             "#de77ae"
            ],
            [
             0.3,
             "#f1b6da"
            ],
            [
             0.4,
             "#fde0ef"
            ],
            [
             0.5,
             "#f7f7f7"
            ],
            [
             0.6,
             "#e6f5d0"
            ],
            [
             0.7,
             "#b8e186"
            ],
            [
             0.8,
             "#7fbc41"
            ],
            [
             0.9,
             "#4d9221"
            ],
            [
             1,
             "#276419"
            ]
           ],
           "sequential": [
            [
             0,
             "#0d0887"
            ],
            [
             0.1111111111111111,
             "#46039f"
            ],
            [
             0.2222222222222222,
             "#7201a8"
            ],
            [
             0.3333333333333333,
             "#9c179e"
            ],
            [
             0.4444444444444444,
             "#bd3786"
            ],
            [
             0.5555555555555556,
             "#d8576b"
            ],
            [
             0.6666666666666666,
             "#ed7953"
            ],
            [
             0.7777777777777778,
             "#fb9f3a"
            ],
            [
             0.8888888888888888,
             "#fdca26"
            ],
            [
             1,
             "#f0f921"
            ]
           ],
           "sequentialminus": [
            [
             0,
             "#0d0887"
            ],
            [
             0.1111111111111111,
             "#46039f"
            ],
            [
             0.2222222222222222,
             "#7201a8"
            ],
            [
             0.3333333333333333,
             "#9c179e"
            ],
            [
             0.4444444444444444,
             "#bd3786"
            ],
            [
             0.5555555555555556,
             "#d8576b"
            ],
            [
             0.6666666666666666,
             "#ed7953"
            ],
            [
             0.7777777777777778,
             "#fb9f3a"
            ],
            [
             0.8888888888888888,
             "#fdca26"
            ],
            [
             1,
             "#f0f921"
            ]
           ]
          },
          "colorway": [
           "#636efa",
           "#EF553B",
           "#00cc96",
           "#ab63fa",
           "#FFA15A",
           "#19d3f3",
           "#FF6692",
           "#B6E880",
           "#FF97FF",
           "#FECB52"
          ],
          "font": {
           "color": "#2a3f5f"
          },
          "geo": {
           "bgcolor": "white",
           "lakecolor": "white",
           "landcolor": "#E5ECF6",
           "showlakes": true,
           "showland": true,
           "subunitcolor": "white"
          },
          "hoverlabel": {
           "align": "left"
          },
          "hovermode": "closest",
          "mapbox": {
           "style": "light"
          },
          "paper_bgcolor": "white",
          "plot_bgcolor": "#E5ECF6",
          "polar": {
           "angularaxis": {
            "gridcolor": "white",
            "linecolor": "white",
            "ticks": ""
           },
           "bgcolor": "#E5ECF6",
           "radialaxis": {
            "gridcolor": "white",
            "linecolor": "white",
            "ticks": ""
           }
          },
          "scene": {
           "xaxis": {
            "backgroundcolor": "#E5ECF6",
            "gridcolor": "white",
            "gridwidth": 2,
            "linecolor": "white",
            "showbackground": true,
            "ticks": "",
            "zerolinecolor": "white"
           },
           "yaxis": {
            "backgroundcolor": "#E5ECF6",
            "gridcolor": "white",
            "gridwidth": 2,
            "linecolor": "white",
            "showbackground": true,
            "ticks": "",
            "zerolinecolor": "white"
           },
           "zaxis": {
            "backgroundcolor": "#E5ECF6",
            "gridcolor": "white",
            "gridwidth": 2,
            "linecolor": "white",
            "showbackground": true,
            "ticks": "",
            "zerolinecolor": "white"
           }
          },
          "shapedefaults": {
           "line": {
            "color": "#2a3f5f"
           }
          },
          "ternary": {
           "aaxis": {
            "gridcolor": "white",
            "linecolor": "white",
            "ticks": ""
           },
           "baxis": {
            "gridcolor": "white",
            "linecolor": "white",
            "ticks": ""
           },
           "bgcolor": "#E5ECF6",
           "caxis": {
            "gridcolor": "white",
            "linecolor": "white",
            "ticks": ""
           }
          },
          "title": {
           "x": 0.05
          },
          "xaxis": {
           "automargin": true,
           "gridcolor": "white",
           "linecolor": "white",
           "ticks": "",
           "title": {
            "standoff": 15
           },
           "zerolinecolor": "white",
           "zerolinewidth": 2
          },
          "yaxis": {
           "automargin": true,
           "gridcolor": "white",
           "linecolor": "white",
           "ticks": "",
           "title": {
            "standoff": 15
           },
           "zerolinecolor": "white",
           "zerolinewidth": 2
          }
         }
        },
        "title": {
         "font": {
          "color": "#4D5663"
         }
        },
        "xaxis": {
         "gridcolor": "#E1E5ED",
         "showgrid": true,
         "tickfont": {
          "color": "#4D5663"
         },
         "title": {
          "font": {
           "color": "#4D5663"
          },
          "text": ""
         },
         "zerolinecolor": "#E1E5ED"
        },
        "yaxis": {
         "gridcolor": "#E1E5ED",
         "showgrid": true,
         "tickfont": {
          "color": "#4D5663"
         },
         "title": {
          "font": {
           "color": "#4D5663"
          },
          "text": ""
         },
         "zerolinecolor": "#E1E5ED"
        }
       }
      },
      "text/html": [
       "<div>                            <div id=\"00960385-1efb-4b4d-90e4-aa4a9da62e47\" class=\"plotly-graph-div\" style=\"height:525px; width:100%;\"></div>            <script type=\"text/javascript\">                require([\"plotly\"], function(Plotly) {                    window.PLOTLYENV=window.PLOTLYENV || {};\n",
       "                    window.PLOTLYENV.BASE_URL='https://plot.ly';                                    if (document.getElementById(\"00960385-1efb-4b4d-90e4-aa4a9da62e47\")) {                    Plotly.newPlot(                        \"00960385-1efb-4b4d-90e4-aa4a9da62e47\",                        [{\"line\": {\"color\": \"rgba(255, 153, 51, 1.0)\", \"dash\": \"solid\", \"shape\": \"linear\", \"width\": 1.3}, \"marker\": {\"size\": 10, \"symbol\": \"circle\"}, \"mode\": \"markers\", \"name\": \"B\", \"text\": \"\", \"type\": \"scatter\", \"x\": [-0.7847662484388648, 0.5887290310128517, -0.5514071090214487, 0.08840812267345483, -0.957132276940948, -0.1747201870186245, -0.775383100878524, 0.4945756457748739, -0.45784395724355104, -0.7299542464491161, 2.120508885901264, -2.2347271889052647, -0.216174711781822, -2.846486640307819, -0.5216053610061037, 1.0601574186659917, -0.3979067592077603, 1.8802233263322539, 1.203817333279283, -0.8843606774688277, 1.03031872907569, -0.4257523627376736, 0.8729366328539484, 0.7015791574627109, -0.38686542056186624, 0.8413262603687331, 0.05399293108518775, 0.043179544666969855, -2.9220805766557323, 0.08340038015300334, 3.5137406018102793, 0.06710822950599729, -0.8317463668012348, 0.11787537086880737, -0.40091873975019443, -0.647274188279839, -1.2526617333340366, 0.06122457684630888, -0.1444120037528103, -0.7903713996915007, -0.1232958328995701, 1.026244203860463, 0.24784413058545027, 0.07654902167655836, 0.6316802536407472, -1.3413050172070276, -1.4416712533630667, -0.10415219238574984, 0.20676801944816472, -0.8887833483806576, -0.18089986860947765, -1.1791549223426931, 0.8841397805651795, 0.5430023355298771, -0.9259578970567877, 0.6119061006624439, 0.574018323672333, 1.3093577253163893, 0.5563033371402298, 1.8136943649705675, -0.6442541240275126, 2.0713926711402553, -1.0477806925379496, -1.2191288405576126, 0.46833740043259986, -0.2272374953217602, -0.48093633214803955, 0.9640139774346485, 0.2698896656277988, 0.08284925087705126, 0.4891500704201871, 0.740009758283557, -0.9394610595033338, 1.0125457768568211, -0.6380799097814033, -0.532143093193377, 0.7800276603962227, -0.6985563151031897, -0.9621143302322339, -0.6193184582765459, 0.9043920195398775, -1.4522395983454406, -0.4893232211608719, -0.2642170873783527, 0.8316859700169948, 1.2489509315576732, -0.405229252832221, -0.3993210218041567, 0.6301892319317067, -2.032615377066661, -0.2978316144783474, -0.7430723467788538, -0.05140898799930743, -1.6170545960302538, -0.04932390232689837, -0.8155700860817712, -1.7788024582795317, -1.6174420443715154, 0.11267862990631071, 1.2787293893763918], \"y\": [0.5572145425894736, -0.45504520577696367, 0.4397244784970589, -0.2763388377694911, -0.08571023954655589, -1.6755292215779456, -1.8334924719643624, -0.660543388652614, 0.7078090548539063, -0.30404582808658714, 0.7983154440193301, 0.6389687724326867, -1.8050197876858236, -0.4025794005207336, 0.3704656336659906, -0.747624783090879, -0.4392091376941933, -0.33047162205148, -0.1364354262968888, -0.8633476502974338, -0.16814011189850314, -1.4696332886345858, 0.1585322391907727, -2.418076999992624, 0.6622146788284973, 0.8721367999555061, -1.25976348157494, 1.8348088004628051, 0.47688346565844086, 0.14213908096085381, -1.8637299698264642, 0.18280931235672152, 1.2439722521750312, -0.3733871869316914, -2.1740967689550086, -0.15732638770451998, 0.0633022732022018, -0.7790326367796533, -0.24491703017219643, 0.5040191789600832, -0.9515995713121651, -0.8414065588473638, 0.5955986478906864, 0.7154922596789571, -0.0540021267028095, -0.045508513386948043, 0.6119646956030508, 1.1102705897798857, 0.19750938669276072, -1.0931085199143398, -0.6088374888059043, 0.879357016729816, -1.0545177862425543, -1.0615585452683487, -0.3395286389548686, 0.9167954596280192, 0.3056287217220758, 1.1897269806627724, -0.5785892939226185, 1.1882930981736926, -1.9453934420960646, 0.40404565925308905, -0.47793302435649154, 0.9554348023325204, -0.12910337890098902, -0.011338204028426009, -1.2864013072197011, 1.9501586903960613, 0.18449132473611274, -1.352778989230137, 0.8139484363174008, -0.282173902035499, 0.055616892028192616, 1.1233026493199727, -0.06175109687338001, 2.6230381340766007, -0.5766957704909688, -0.7597006964718782, -0.3769501067141862, -0.1760010222169406, 2.688186774678746, -2.3362883690467933, -0.00034980439845702736, -0.3079688557143545, -0.4116002100009419, 0.5599206118343988, 0.16222988523787568, -0.3746644731060114, 1.3783064233466986, -0.28963624409219874, 0.48917493779357635, 0.84254699744496, -0.16749916523803782, -0.44959956190182654, 0.5678994707214291, 0.05294747982035926, -0.5544304088936962, -0.41553679147877703, -1.9093260964550836, -0.11837954489758033]}],                        {\"legend\": {\"bgcolor\": \"#F5F6F9\", \"font\": {\"color\": \"#4D5663\"}}, \"paper_bgcolor\": \"#F5F6F9\", \"plot_bgcolor\": \"#F5F6F9\", \"template\": {\"data\": {\"bar\": [{\"error_x\": {\"color\": \"#2a3f5f\"}, \"error_y\": {\"color\": \"#2a3f5f\"}, \"marker\": {\"line\": {\"color\": \"#E5ECF6\", \"width\": 0.5}}, \"type\": \"bar\"}], \"barpolar\": [{\"marker\": {\"line\": {\"color\": \"#E5ECF6\", \"width\": 0.5}}, \"type\": \"barpolar\"}], \"carpet\": [{\"aaxis\": {\"endlinecolor\": \"#2a3f5f\", \"gridcolor\": \"white\", \"linecolor\": \"white\", \"minorgridcolor\": \"white\", \"startlinecolor\": \"#2a3f5f\"}, \"baxis\": {\"endlinecolor\": \"#2a3f5f\", \"gridcolor\": \"white\", \"linecolor\": \"white\", \"minorgridcolor\": \"white\", \"startlinecolor\": \"#2a3f5f\"}, \"type\": \"carpet\"}], \"choropleth\": [{\"colorbar\": {\"outlinewidth\": 0, \"ticks\": \"\"}, \"type\": \"choropleth\"}], \"contour\": [{\"colorbar\": {\"outlinewidth\": 0, \"ticks\": \"\"}, \"colorscale\": [[0.0, \"#0d0887\"], [0.1111111111111111, \"#46039f\"], [0.2222222222222222, \"#7201a8\"], [0.3333333333333333, \"#9c179e\"], [0.4444444444444444, \"#bd3786\"], [0.5555555555555556, \"#d8576b\"], [0.6666666666666666, \"#ed7953\"], [0.7777777777777778, \"#fb9f3a\"], [0.8888888888888888, \"#fdca26\"], [1.0, \"#f0f921\"]], \"type\": \"contour\"}], \"contourcarpet\": [{\"colorbar\": {\"outlinewidth\": 0, \"ticks\": \"\"}, \"type\": \"contourcarpet\"}], \"heatmap\": [{\"colorbar\": {\"outlinewidth\": 0, \"ticks\": \"\"}, \"colorscale\": [[0.0, \"#0d0887\"], [0.1111111111111111, \"#46039f\"], [0.2222222222222222, \"#7201a8\"], [0.3333333333333333, \"#9c179e\"], [0.4444444444444444, \"#bd3786\"], [0.5555555555555556, \"#d8576b\"], [0.6666666666666666, \"#ed7953\"], [0.7777777777777778, \"#fb9f3a\"], [0.8888888888888888, \"#fdca26\"], [1.0, \"#f0f921\"]], \"type\": \"heatmap\"}], \"heatmapgl\": [{\"colorbar\": {\"outlinewidth\": 0, \"ticks\": \"\"}, \"colorscale\": [[0.0, \"#0d0887\"], [0.1111111111111111, \"#46039f\"], [0.2222222222222222, \"#7201a8\"], [0.3333333333333333, \"#9c179e\"], [0.4444444444444444, \"#bd3786\"], [0.5555555555555556, \"#d8576b\"], [0.6666666666666666, \"#ed7953\"], [0.7777777777777778, \"#fb9f3a\"], [0.8888888888888888, \"#fdca26\"], [1.0, \"#f0f921\"]], \"type\": \"heatmapgl\"}], \"histogram\": [{\"marker\": {\"colorbar\": {\"outlinewidth\": 0, \"ticks\": \"\"}}, \"type\": \"histogram\"}], \"histogram2d\": [{\"colorbar\": {\"outlinewidth\": 0, \"ticks\": \"\"}, \"colorscale\": [[0.0, \"#0d0887\"], [0.1111111111111111, \"#46039f\"], [0.2222222222222222, \"#7201a8\"], [0.3333333333333333, \"#9c179e\"], [0.4444444444444444, \"#bd3786\"], [0.5555555555555556, \"#d8576b\"], [0.6666666666666666, \"#ed7953\"], [0.7777777777777778, \"#fb9f3a\"], [0.8888888888888888, \"#fdca26\"], [1.0, \"#f0f921\"]], \"type\": \"histogram2d\"}], \"histogram2dcontour\": [{\"colorbar\": {\"outlinewidth\": 0, \"ticks\": \"\"}, \"colorscale\": [[0.0, \"#0d0887\"], [0.1111111111111111, \"#46039f\"], [0.2222222222222222, \"#7201a8\"], [0.3333333333333333, \"#9c179e\"], [0.4444444444444444, \"#bd3786\"], [0.5555555555555556, \"#d8576b\"], [0.6666666666666666, \"#ed7953\"], [0.7777777777777778, \"#fb9f3a\"], [0.8888888888888888, \"#fdca26\"], [1.0, \"#f0f921\"]], \"type\": \"histogram2dcontour\"}], \"mesh3d\": [{\"colorbar\": {\"outlinewidth\": 0, \"ticks\": \"\"}, \"type\": \"mesh3d\"}], \"parcoords\": [{\"line\": {\"colorbar\": {\"outlinewidth\": 0, \"ticks\": \"\"}}, \"type\": \"parcoords\"}], \"pie\": [{\"automargin\": true, \"type\": \"pie\"}], \"scatter\": [{\"marker\": {\"colorbar\": {\"outlinewidth\": 0, \"ticks\": \"\"}}, \"type\": \"scatter\"}], \"scatter3d\": [{\"line\": {\"colorbar\": {\"outlinewidth\": 0, \"ticks\": \"\"}}, \"marker\": {\"colorbar\": {\"outlinewidth\": 0, \"ticks\": \"\"}}, \"type\": \"scatter3d\"}], \"scattercarpet\": [{\"marker\": {\"colorbar\": {\"outlinewidth\": 0, \"ticks\": \"\"}}, \"type\": \"scattercarpet\"}], \"scattergeo\": [{\"marker\": {\"colorbar\": {\"outlinewidth\": 0, \"ticks\": \"\"}}, \"type\": \"scattergeo\"}], \"scattergl\": [{\"marker\": {\"colorbar\": {\"outlinewidth\": 0, \"ticks\": \"\"}}, \"type\": \"scattergl\"}], \"scattermapbox\": [{\"marker\": {\"colorbar\": {\"outlinewidth\": 0, \"ticks\": \"\"}}, \"type\": \"scattermapbox\"}], \"scatterpolar\": [{\"marker\": {\"colorbar\": {\"outlinewidth\": 0, \"ticks\": \"\"}}, \"type\": \"scatterpolar\"}], \"scatterpolargl\": [{\"marker\": {\"colorbar\": {\"outlinewidth\": 0, \"ticks\": \"\"}}, \"type\": \"scatterpolargl\"}], \"scatterternary\": [{\"marker\": {\"colorbar\": {\"outlinewidth\": 0, \"ticks\": \"\"}}, \"type\": \"scatterternary\"}], \"surface\": [{\"colorbar\": {\"outlinewidth\": 0, \"ticks\": \"\"}, \"colorscale\": [[0.0, \"#0d0887\"], [0.1111111111111111, \"#46039f\"], [0.2222222222222222, \"#7201a8\"], [0.3333333333333333, \"#9c179e\"], [0.4444444444444444, \"#bd3786\"], [0.5555555555555556, \"#d8576b\"], [0.6666666666666666, \"#ed7953\"], [0.7777777777777778, \"#fb9f3a\"], [0.8888888888888888, \"#fdca26\"], [1.0, \"#f0f921\"]], \"type\": \"surface\"}], \"table\": [{\"cells\": {\"fill\": {\"color\": \"#EBF0F8\"}, \"line\": {\"color\": \"white\"}}, \"header\": {\"fill\": {\"color\": \"#C8D4E3\"}, \"line\": {\"color\": \"white\"}}, \"type\": \"table\"}]}, \"layout\": {\"annotationdefaults\": {\"arrowcolor\": \"#2a3f5f\", \"arrowhead\": 0, \"arrowwidth\": 1}, \"autotypenumbers\": \"strict\", \"coloraxis\": {\"colorbar\": {\"outlinewidth\": 0, \"ticks\": \"\"}}, \"colorscale\": {\"diverging\": [[0, \"#8e0152\"], [0.1, \"#c51b7d\"], [0.2, \"#de77ae\"], [0.3, \"#f1b6da\"], [0.4, \"#fde0ef\"], [0.5, \"#f7f7f7\"], [0.6, \"#e6f5d0\"], [0.7, \"#b8e186\"], [0.8, \"#7fbc41\"], [0.9, \"#4d9221\"], [1, \"#276419\"]], \"sequential\": [[0.0, \"#0d0887\"], [0.1111111111111111, \"#46039f\"], [0.2222222222222222, \"#7201a8\"], [0.3333333333333333, \"#9c179e\"], [0.4444444444444444, \"#bd3786\"], [0.5555555555555556, \"#d8576b\"], [0.6666666666666666, \"#ed7953\"], [0.7777777777777778, \"#fb9f3a\"], [0.8888888888888888, \"#fdca26\"], [1.0, \"#f0f921\"]], \"sequentialminus\": [[0.0, \"#0d0887\"], [0.1111111111111111, \"#46039f\"], [0.2222222222222222, \"#7201a8\"], [0.3333333333333333, \"#9c179e\"], [0.4444444444444444, \"#bd3786\"], [0.5555555555555556, \"#d8576b\"], [0.6666666666666666, \"#ed7953\"], [0.7777777777777778, \"#fb9f3a\"], [0.8888888888888888, \"#fdca26\"], [1.0, \"#f0f921\"]]}, \"colorway\": [\"#636efa\", \"#EF553B\", \"#00cc96\", \"#ab63fa\", \"#FFA15A\", \"#19d3f3\", \"#FF6692\", \"#B6E880\", \"#FF97FF\", \"#FECB52\"], \"font\": {\"color\": \"#2a3f5f\"}, \"geo\": {\"bgcolor\": \"white\", \"lakecolor\": \"white\", \"landcolor\": \"#E5ECF6\", \"showlakes\": true, \"showland\": true, \"subunitcolor\": \"white\"}, \"hoverlabel\": {\"align\": \"left\"}, \"hovermode\": \"closest\", \"mapbox\": {\"style\": \"light\"}, \"paper_bgcolor\": \"white\", \"plot_bgcolor\": \"#E5ECF6\", \"polar\": {\"angularaxis\": {\"gridcolor\": \"white\", \"linecolor\": \"white\", \"ticks\": \"\"}, \"bgcolor\": \"#E5ECF6\", \"radialaxis\": {\"gridcolor\": \"white\", \"linecolor\": \"white\", \"ticks\": \"\"}}, \"scene\": {\"xaxis\": {\"backgroundcolor\": \"#E5ECF6\", \"gridcolor\": \"white\", \"gridwidth\": 2, \"linecolor\": \"white\", \"showbackground\": true, \"ticks\": \"\", \"zerolinecolor\": \"white\"}, \"yaxis\": {\"backgroundcolor\": \"#E5ECF6\", \"gridcolor\": \"white\", \"gridwidth\": 2, \"linecolor\": \"white\", \"showbackground\": true, \"ticks\": \"\", \"zerolinecolor\": \"white\"}, \"zaxis\": {\"backgroundcolor\": \"#E5ECF6\", \"gridcolor\": \"white\", \"gridwidth\": 2, \"linecolor\": \"white\", \"showbackground\": true, \"ticks\": \"\", \"zerolinecolor\": \"white\"}}, \"shapedefaults\": {\"line\": {\"color\": \"#2a3f5f\"}}, \"ternary\": {\"aaxis\": {\"gridcolor\": \"white\", \"linecolor\": \"white\", \"ticks\": \"\"}, \"baxis\": {\"gridcolor\": \"white\", \"linecolor\": \"white\", \"ticks\": \"\"}, \"bgcolor\": \"#E5ECF6\", \"caxis\": {\"gridcolor\": \"white\", \"linecolor\": \"white\", \"ticks\": \"\"}}, \"title\": {\"x\": 0.05}, \"xaxis\": {\"automargin\": true, \"gridcolor\": \"white\", \"linecolor\": \"white\", \"ticks\": \"\", \"title\": {\"standoff\": 15}, \"zerolinecolor\": \"white\", \"zerolinewidth\": 2}, \"yaxis\": {\"automargin\": true, \"gridcolor\": \"white\", \"linecolor\": \"white\", \"ticks\": \"\", \"title\": {\"standoff\": 15}, \"zerolinecolor\": \"white\", \"zerolinewidth\": 2}}}, \"title\": {\"font\": {\"color\": \"#4D5663\"}}, \"xaxis\": {\"gridcolor\": \"#E1E5ED\", \"showgrid\": true, \"tickfont\": {\"color\": \"#4D5663\"}, \"title\": {\"font\": {\"color\": \"#4D5663\"}, \"text\": \"\"}, \"zerolinecolor\": \"#E1E5ED\"}, \"yaxis\": {\"gridcolor\": \"#E1E5ED\", \"showgrid\": true, \"tickfont\": {\"color\": \"#4D5663\"}, \"title\": {\"font\": {\"color\": \"#4D5663\"}, \"text\": \"\"}, \"zerolinecolor\": \"#E1E5ED\"}},                        {\"showLink\": true, \"linkText\": \"Export to plot.ly\", \"plotlyServerURL\": \"https://plot.ly\", \"responsive\": true}                    ).then(function(){\n",
       "                            \n",
       "var gd = document.getElementById('00960385-1efb-4b4d-90e4-aa4a9da62e47');\n",
       "var x = new MutationObserver(function (mutations, observer) {{\n",
       "        var display = window.getComputedStyle(gd).display;\n",
       "        if (!display || display === 'none') {{\n",
       "            console.log([gd, 'removed!']);\n",
       "            Plotly.purge(gd);\n",
       "            observer.disconnect();\n",
       "        }}\n",
       "}});\n",
       "\n",
       "// Listen for the removal of the full notebook cells\n",
       "var notebookContainer = gd.closest('#notebook-container');\n",
       "if (notebookContainer) {{\n",
       "    x.observe(notebookContainer, {childList: true});\n",
       "}}\n",
       "\n",
       "// Listen for the clearing of the current output cell\n",
       "var outputEl = gd.closest('.output');\n",
       "if (outputEl) {{\n",
       "    x.observe(outputEl, {childList: true});\n",
       "}}\n",
       "\n",
       "                        })                };                });            </script>        </div>"
      ]
     },
     "metadata": {},
     "output_type": "display_data"
    }
   ],
   "source": [
    "df.iplot(kind='scatter',x='A',y='B',mode='markers',size=10)"
   ]
  },
  {
   "cell_type": "markdown",
   "metadata": {},
   "source": [
    "## Bar Plots"
   ]
  },
  {
   "cell_type": "code",
   "execution_count": 32,
   "metadata": {},
   "outputs": [
    {
     "data": {
      "application/vnd.plotly.v1+json": {
       "config": {
        "linkText": "Export to plot.ly",
        "plotlyServerURL": "https://plot.ly",
        "showLink": true
       },
       "data": [
        {
         "marker": {
          "color": "rgba(255, 153, 51, 0.6)",
          "line": {
           "color": "rgba(255, 153, 51, 1.0)",
           "width": 1
          }
         },
         "name": "Values",
         "orientation": "v",
         "text": "",
         "type": "bar",
         "x": [
          "A",
          "B",
          "C"
         ],
         "y": [
          32,
          43,
          50
         ]
        }
       ],
       "layout": {
        "legend": {
         "bgcolor": "#F5F6F9",
         "font": {
          "color": "#4D5663"
         }
        },
        "paper_bgcolor": "#F5F6F9",
        "plot_bgcolor": "#F5F6F9",
        "template": {
         "data": {
          "bar": [
           {
            "error_x": {
             "color": "#2a3f5f"
            },
            "error_y": {
             "color": "#2a3f5f"
            },
            "marker": {
             "line": {
              "color": "#E5ECF6",
              "width": 0.5
             }
            },
            "type": "bar"
           }
          ],
          "barpolar": [
           {
            "marker": {
             "line": {
              "color": "#E5ECF6",
              "width": 0.5
             }
            },
            "type": "barpolar"
           }
          ],
          "carpet": [
           {
            "aaxis": {
             "endlinecolor": "#2a3f5f",
             "gridcolor": "white",
             "linecolor": "white",
             "minorgridcolor": "white",
             "startlinecolor": "#2a3f5f"
            },
            "baxis": {
             "endlinecolor": "#2a3f5f",
             "gridcolor": "white",
             "linecolor": "white",
             "minorgridcolor": "white",
             "startlinecolor": "#2a3f5f"
            },
            "type": "carpet"
           }
          ],
          "choropleth": [
           {
            "colorbar": {
             "outlinewidth": 0,
             "ticks": ""
            },
            "type": "choropleth"
           }
          ],
          "contour": [
           {
            "colorbar": {
             "outlinewidth": 0,
             "ticks": ""
            },
            "colorscale": [
             [
              0,
              "#0d0887"
             ],
             [
              0.1111111111111111,
              "#46039f"
             ],
             [
              0.2222222222222222,
              "#7201a8"
             ],
             [
              0.3333333333333333,
              "#9c179e"
             ],
             [
              0.4444444444444444,
              "#bd3786"
             ],
             [
              0.5555555555555556,
              "#d8576b"
             ],
             [
              0.6666666666666666,
              "#ed7953"
             ],
             [
              0.7777777777777778,
              "#fb9f3a"
             ],
             [
              0.8888888888888888,
              "#fdca26"
             ],
             [
              1,
              "#f0f921"
             ]
            ],
            "type": "contour"
           }
          ],
          "contourcarpet": [
           {
            "colorbar": {
             "outlinewidth": 0,
             "ticks": ""
            },
            "type": "contourcarpet"
           }
          ],
          "heatmap": [
           {
            "colorbar": {
             "outlinewidth": 0,
             "ticks": ""
            },
            "colorscale": [
             [
              0,
              "#0d0887"
             ],
             [
              0.1111111111111111,
              "#46039f"
             ],
             [
              0.2222222222222222,
              "#7201a8"
             ],
             [
              0.3333333333333333,
              "#9c179e"
             ],
             [
              0.4444444444444444,
              "#bd3786"
             ],
             [
              0.5555555555555556,
              "#d8576b"
             ],
             [
              0.6666666666666666,
              "#ed7953"
             ],
             [
              0.7777777777777778,
              "#fb9f3a"
             ],
             [
              0.8888888888888888,
              "#fdca26"
             ],
             [
              1,
              "#f0f921"
             ]
            ],
            "type": "heatmap"
           }
          ],
          "heatmapgl": [
           {
            "colorbar": {
             "outlinewidth": 0,
             "ticks": ""
            },
            "colorscale": [
             [
              0,
              "#0d0887"
             ],
             [
              0.1111111111111111,
              "#46039f"
             ],
             [
              0.2222222222222222,
              "#7201a8"
             ],
             [
              0.3333333333333333,
              "#9c179e"
             ],
             [
              0.4444444444444444,
              "#bd3786"
             ],
             [
              0.5555555555555556,
              "#d8576b"
             ],
             [
              0.6666666666666666,
              "#ed7953"
             ],
             [
              0.7777777777777778,
              "#fb9f3a"
             ],
             [
              0.8888888888888888,
              "#fdca26"
             ],
             [
              1,
              "#f0f921"
             ]
            ],
            "type": "heatmapgl"
           }
          ],
          "histogram": [
           {
            "marker": {
             "colorbar": {
              "outlinewidth": 0,
              "ticks": ""
             }
            },
            "type": "histogram"
           }
          ],
          "histogram2d": [
           {
            "colorbar": {
             "outlinewidth": 0,
             "ticks": ""
            },
            "colorscale": [
             [
              0,
              "#0d0887"
             ],
             [
              0.1111111111111111,
              "#46039f"
             ],
             [
              0.2222222222222222,
              "#7201a8"
             ],
             [
              0.3333333333333333,
              "#9c179e"
             ],
             [
              0.4444444444444444,
              "#bd3786"
             ],
             [
              0.5555555555555556,
              "#d8576b"
             ],
             [
              0.6666666666666666,
              "#ed7953"
             ],
             [
              0.7777777777777778,
              "#fb9f3a"
             ],
             [
              0.8888888888888888,
              "#fdca26"
             ],
             [
              1,
              "#f0f921"
             ]
            ],
            "type": "histogram2d"
           }
          ],
          "histogram2dcontour": [
           {
            "colorbar": {
             "outlinewidth": 0,
             "ticks": ""
            },
            "colorscale": [
             [
              0,
              "#0d0887"
             ],
             [
              0.1111111111111111,
              "#46039f"
             ],
             [
              0.2222222222222222,
              "#7201a8"
             ],
             [
              0.3333333333333333,
              "#9c179e"
             ],
             [
              0.4444444444444444,
              "#bd3786"
             ],
             [
              0.5555555555555556,
              "#d8576b"
             ],
             [
              0.6666666666666666,
              "#ed7953"
             ],
             [
              0.7777777777777778,
              "#fb9f3a"
             ],
             [
              0.8888888888888888,
              "#fdca26"
             ],
             [
              1,
              "#f0f921"
             ]
            ],
            "type": "histogram2dcontour"
           }
          ],
          "mesh3d": [
           {
            "colorbar": {
             "outlinewidth": 0,
             "ticks": ""
            },
            "type": "mesh3d"
           }
          ],
          "parcoords": [
           {
            "line": {
             "colorbar": {
              "outlinewidth": 0,
              "ticks": ""
             }
            },
            "type": "parcoords"
           }
          ],
          "pie": [
           {
            "automargin": true,
            "type": "pie"
           }
          ],
          "scatter": [
           {
            "marker": {
             "colorbar": {
              "outlinewidth": 0,
              "ticks": ""
             }
            },
            "type": "scatter"
           }
          ],
          "scatter3d": [
           {
            "line": {
             "colorbar": {
              "outlinewidth": 0,
              "ticks": ""
             }
            },
            "marker": {
             "colorbar": {
              "outlinewidth": 0,
              "ticks": ""
             }
            },
            "type": "scatter3d"
           }
          ],
          "scattercarpet": [
           {
            "marker": {
             "colorbar": {
              "outlinewidth": 0,
              "ticks": ""
             }
            },
            "type": "scattercarpet"
           }
          ],
          "scattergeo": [
           {
            "marker": {
             "colorbar": {
              "outlinewidth": 0,
              "ticks": ""
             }
            },
            "type": "scattergeo"
           }
          ],
          "scattergl": [
           {
            "marker": {
             "colorbar": {
              "outlinewidth": 0,
              "ticks": ""
             }
            },
            "type": "scattergl"
           }
          ],
          "scattermapbox": [
           {
            "marker": {
             "colorbar": {
              "outlinewidth": 0,
              "ticks": ""
             }
            },
            "type": "scattermapbox"
           }
          ],
          "scatterpolar": [
           {
            "marker": {
             "colorbar": {
              "outlinewidth": 0,
              "ticks": ""
             }
            },
            "type": "scatterpolar"
           }
          ],
          "scatterpolargl": [
           {
            "marker": {
             "colorbar": {
              "outlinewidth": 0,
              "ticks": ""
             }
            },
            "type": "scatterpolargl"
           }
          ],
          "scatterternary": [
           {
            "marker": {
             "colorbar": {
              "outlinewidth": 0,
              "ticks": ""
             }
            },
            "type": "scatterternary"
           }
          ],
          "surface": [
           {
            "colorbar": {
             "outlinewidth": 0,
             "ticks": ""
            },
            "colorscale": [
             [
              0,
              "#0d0887"
             ],
             [
              0.1111111111111111,
              "#46039f"
             ],
             [
              0.2222222222222222,
              "#7201a8"
             ],
             [
              0.3333333333333333,
              "#9c179e"
             ],
             [
              0.4444444444444444,
              "#bd3786"
             ],
             [
              0.5555555555555556,
              "#d8576b"
             ],
             [
              0.6666666666666666,
              "#ed7953"
             ],
             [
              0.7777777777777778,
              "#fb9f3a"
             ],
             [
              0.8888888888888888,
              "#fdca26"
             ],
             [
              1,
              "#f0f921"
             ]
            ],
            "type": "surface"
           }
          ],
          "table": [
           {
            "cells": {
             "fill": {
              "color": "#EBF0F8"
             },
             "line": {
              "color": "white"
             }
            },
            "header": {
             "fill": {
              "color": "#C8D4E3"
             },
             "line": {
              "color": "white"
             }
            },
            "type": "table"
           }
          ]
         },
         "layout": {
          "annotationdefaults": {
           "arrowcolor": "#2a3f5f",
           "arrowhead": 0,
           "arrowwidth": 1
          },
          "autotypenumbers": "strict",
          "coloraxis": {
           "colorbar": {
            "outlinewidth": 0,
            "ticks": ""
           }
          },
          "colorscale": {
           "diverging": [
            [
             0,
             "#8e0152"
            ],
            [
             0.1,
             "#c51b7d"
            ],
            [
             0.2,
             "#de77ae"
            ],
            [
             0.3,
             "#f1b6da"
            ],
            [
             0.4,
             "#fde0ef"
            ],
            [
             0.5,
             "#f7f7f7"
            ],
            [
             0.6,
             "#e6f5d0"
            ],
            [
             0.7,
             "#b8e186"
            ],
            [
             0.8,
             "#7fbc41"
            ],
            [
             0.9,
             "#4d9221"
            ],
            [
             1,
             "#276419"
            ]
           ],
           "sequential": [
            [
             0,
             "#0d0887"
            ],
            [
             0.1111111111111111,
             "#46039f"
            ],
            [
             0.2222222222222222,
             "#7201a8"
            ],
            [
             0.3333333333333333,
             "#9c179e"
            ],
            [
             0.4444444444444444,
             "#bd3786"
            ],
            [
             0.5555555555555556,
             "#d8576b"
            ],
            [
             0.6666666666666666,
             "#ed7953"
            ],
            [
             0.7777777777777778,
             "#fb9f3a"
            ],
            [
             0.8888888888888888,
             "#fdca26"
            ],
            [
             1,
             "#f0f921"
            ]
           ],
           "sequentialminus": [
            [
             0,
             "#0d0887"
            ],
            [
             0.1111111111111111,
             "#46039f"
            ],
            [
             0.2222222222222222,
             "#7201a8"
            ],
            [
             0.3333333333333333,
             "#9c179e"
            ],
            [
             0.4444444444444444,
             "#bd3786"
            ],
            [
             0.5555555555555556,
             "#d8576b"
            ],
            [
             0.6666666666666666,
             "#ed7953"
            ],
            [
             0.7777777777777778,
             "#fb9f3a"
            ],
            [
             0.8888888888888888,
             "#fdca26"
            ],
            [
             1,
             "#f0f921"
            ]
           ]
          },
          "colorway": [
           "#636efa",
           "#EF553B",
           "#00cc96",
           "#ab63fa",
           "#FFA15A",
           "#19d3f3",
           "#FF6692",
           "#B6E880",
           "#FF97FF",
           "#FECB52"
          ],
          "font": {
           "color": "#2a3f5f"
          },
          "geo": {
           "bgcolor": "white",
           "lakecolor": "white",
           "landcolor": "#E5ECF6",
           "showlakes": true,
           "showland": true,
           "subunitcolor": "white"
          },
          "hoverlabel": {
           "align": "left"
          },
          "hovermode": "closest",
          "mapbox": {
           "style": "light"
          },
          "paper_bgcolor": "white",
          "plot_bgcolor": "#E5ECF6",
          "polar": {
           "angularaxis": {
            "gridcolor": "white",
            "linecolor": "white",
            "ticks": ""
           },
           "bgcolor": "#E5ECF6",
           "radialaxis": {
            "gridcolor": "white",
            "linecolor": "white",
            "ticks": ""
           }
          },
          "scene": {
           "xaxis": {
            "backgroundcolor": "#E5ECF6",
            "gridcolor": "white",
            "gridwidth": 2,
            "linecolor": "white",
            "showbackground": true,
            "ticks": "",
            "zerolinecolor": "white"
           },
           "yaxis": {
            "backgroundcolor": "#E5ECF6",
            "gridcolor": "white",
            "gridwidth": 2,
            "linecolor": "white",
            "showbackground": true,
            "ticks": "",
            "zerolinecolor": "white"
           },
           "zaxis": {
            "backgroundcolor": "#E5ECF6",
            "gridcolor": "white",
            "gridwidth": 2,
            "linecolor": "white",
            "showbackground": true,
            "ticks": "",
            "zerolinecolor": "white"
           }
          },
          "shapedefaults": {
           "line": {
            "color": "#2a3f5f"
           }
          },
          "ternary": {
           "aaxis": {
            "gridcolor": "white",
            "linecolor": "white",
            "ticks": ""
           },
           "baxis": {
            "gridcolor": "white",
            "linecolor": "white",
            "ticks": ""
           },
           "bgcolor": "#E5ECF6",
           "caxis": {
            "gridcolor": "white",
            "linecolor": "white",
            "ticks": ""
           }
          },
          "title": {
           "x": 0.05
          },
          "xaxis": {
           "automargin": true,
           "gridcolor": "white",
           "linecolor": "white",
           "ticks": "",
           "title": {
            "standoff": 15
           },
           "zerolinecolor": "white",
           "zerolinewidth": 2
          },
          "yaxis": {
           "automargin": true,
           "gridcolor": "white",
           "linecolor": "white",
           "ticks": "",
           "title": {
            "standoff": 15
           },
           "zerolinecolor": "white",
           "zerolinewidth": 2
          }
         }
        },
        "title": {
         "font": {
          "color": "#4D5663"
         }
        },
        "xaxis": {
         "gridcolor": "#E1E5ED",
         "showgrid": true,
         "tickfont": {
          "color": "#4D5663"
         },
         "title": {
          "font": {
           "color": "#4D5663"
          },
          "text": ""
         },
         "zerolinecolor": "#E1E5ED"
        },
        "yaxis": {
         "gridcolor": "#E1E5ED",
         "showgrid": true,
         "tickfont": {
          "color": "#4D5663"
         },
         "title": {
          "font": {
           "color": "#4D5663"
          },
          "text": ""
         },
         "zerolinecolor": "#E1E5ED"
        }
       }
      },
      "text/html": [
       "<div>                            <div id=\"a87590e9-a2ba-4342-8129-a287139199c3\" class=\"plotly-graph-div\" style=\"height:525px; width:100%;\"></div>            <script type=\"text/javascript\">                require([\"plotly\"], function(Plotly) {                    window.PLOTLYENV=window.PLOTLYENV || {};\n",
       "                    window.PLOTLYENV.BASE_URL='https://plot.ly';                                    if (document.getElementById(\"a87590e9-a2ba-4342-8129-a287139199c3\")) {                    Plotly.newPlot(                        \"a87590e9-a2ba-4342-8129-a287139199c3\",                        [{\"marker\": {\"color\": \"rgba(255, 153, 51, 0.6)\", \"line\": {\"color\": \"rgba(255, 153, 51, 1.0)\", \"width\": 1}}, \"name\": \"Values\", \"orientation\": \"v\", \"text\": \"\", \"type\": \"bar\", \"x\": [\"A\", \"B\", \"C\"], \"y\": [32, 43, 50]}],                        {\"legend\": {\"bgcolor\": \"#F5F6F9\", \"font\": {\"color\": \"#4D5663\"}}, \"paper_bgcolor\": \"#F5F6F9\", \"plot_bgcolor\": \"#F5F6F9\", \"template\": {\"data\": {\"bar\": [{\"error_x\": {\"color\": \"#2a3f5f\"}, \"error_y\": {\"color\": \"#2a3f5f\"}, \"marker\": {\"line\": {\"color\": \"#E5ECF6\", \"width\": 0.5}}, \"type\": \"bar\"}], \"barpolar\": [{\"marker\": {\"line\": {\"color\": \"#E5ECF6\", \"width\": 0.5}}, \"type\": \"barpolar\"}], \"carpet\": [{\"aaxis\": {\"endlinecolor\": \"#2a3f5f\", \"gridcolor\": \"white\", \"linecolor\": \"white\", \"minorgridcolor\": \"white\", \"startlinecolor\": \"#2a3f5f\"}, \"baxis\": {\"endlinecolor\": \"#2a3f5f\", \"gridcolor\": \"white\", \"linecolor\": \"white\", \"minorgridcolor\": \"white\", \"startlinecolor\": \"#2a3f5f\"}, \"type\": \"carpet\"}], \"choropleth\": [{\"colorbar\": {\"outlinewidth\": 0, \"ticks\": \"\"}, \"type\": \"choropleth\"}], \"contour\": [{\"colorbar\": {\"outlinewidth\": 0, \"ticks\": \"\"}, \"colorscale\": [[0.0, \"#0d0887\"], [0.1111111111111111, \"#46039f\"], [0.2222222222222222, \"#7201a8\"], [0.3333333333333333, \"#9c179e\"], [0.4444444444444444, \"#bd3786\"], [0.5555555555555556, \"#d8576b\"], [0.6666666666666666, \"#ed7953\"], [0.7777777777777778, \"#fb9f3a\"], [0.8888888888888888, \"#fdca26\"], [1.0, \"#f0f921\"]], \"type\": \"contour\"}], \"contourcarpet\": [{\"colorbar\": {\"outlinewidth\": 0, \"ticks\": \"\"}, \"type\": \"contourcarpet\"}], \"heatmap\": [{\"colorbar\": {\"outlinewidth\": 0, \"ticks\": \"\"}, \"colorscale\": [[0.0, \"#0d0887\"], [0.1111111111111111, \"#46039f\"], [0.2222222222222222, \"#7201a8\"], [0.3333333333333333, \"#9c179e\"], [0.4444444444444444, \"#bd3786\"], [0.5555555555555556, \"#d8576b\"], [0.6666666666666666, \"#ed7953\"], [0.7777777777777778, \"#fb9f3a\"], [0.8888888888888888, \"#fdca26\"], [1.0, \"#f0f921\"]], \"type\": \"heatmap\"}], \"heatmapgl\": [{\"colorbar\": {\"outlinewidth\": 0, \"ticks\": \"\"}, \"colorscale\": [[0.0, \"#0d0887\"], [0.1111111111111111, \"#46039f\"], [0.2222222222222222, \"#7201a8\"], [0.3333333333333333, \"#9c179e\"], [0.4444444444444444, \"#bd3786\"], [0.5555555555555556, \"#d8576b\"], [0.6666666666666666, \"#ed7953\"], [0.7777777777777778, \"#fb9f3a\"], [0.8888888888888888, \"#fdca26\"], [1.0, \"#f0f921\"]], \"type\": \"heatmapgl\"}], \"histogram\": [{\"marker\": {\"colorbar\": {\"outlinewidth\": 0, \"ticks\": \"\"}}, \"type\": \"histogram\"}], \"histogram2d\": [{\"colorbar\": {\"outlinewidth\": 0, \"ticks\": \"\"}, \"colorscale\": [[0.0, \"#0d0887\"], [0.1111111111111111, \"#46039f\"], [0.2222222222222222, \"#7201a8\"], [0.3333333333333333, \"#9c179e\"], [0.4444444444444444, \"#bd3786\"], [0.5555555555555556, \"#d8576b\"], [0.6666666666666666, \"#ed7953\"], [0.7777777777777778, \"#fb9f3a\"], [0.8888888888888888, \"#fdca26\"], [1.0, \"#f0f921\"]], \"type\": \"histogram2d\"}], \"histogram2dcontour\": [{\"colorbar\": {\"outlinewidth\": 0, \"ticks\": \"\"}, \"colorscale\": [[0.0, \"#0d0887\"], [0.1111111111111111, \"#46039f\"], [0.2222222222222222, \"#7201a8\"], [0.3333333333333333, \"#9c179e\"], [0.4444444444444444, \"#bd3786\"], [0.5555555555555556, \"#d8576b\"], [0.6666666666666666, \"#ed7953\"], [0.7777777777777778, \"#fb9f3a\"], [0.8888888888888888, \"#fdca26\"], [1.0, \"#f0f921\"]], \"type\": \"histogram2dcontour\"}], \"mesh3d\": [{\"colorbar\": {\"outlinewidth\": 0, \"ticks\": \"\"}, \"type\": \"mesh3d\"}], \"parcoords\": [{\"line\": {\"colorbar\": {\"outlinewidth\": 0, \"ticks\": \"\"}}, \"type\": \"parcoords\"}], \"pie\": [{\"automargin\": true, \"type\": \"pie\"}], \"scatter\": [{\"marker\": {\"colorbar\": {\"outlinewidth\": 0, \"ticks\": \"\"}}, \"type\": \"scatter\"}], \"scatter3d\": [{\"line\": {\"colorbar\": {\"outlinewidth\": 0, \"ticks\": \"\"}}, \"marker\": {\"colorbar\": {\"outlinewidth\": 0, \"ticks\": \"\"}}, \"type\": \"scatter3d\"}], \"scattercarpet\": [{\"marker\": {\"colorbar\": {\"outlinewidth\": 0, \"ticks\": \"\"}}, \"type\": \"scattercarpet\"}], \"scattergeo\": [{\"marker\": {\"colorbar\": {\"outlinewidth\": 0, \"ticks\": \"\"}}, \"type\": \"scattergeo\"}], \"scattergl\": [{\"marker\": {\"colorbar\": {\"outlinewidth\": 0, \"ticks\": \"\"}}, \"type\": \"scattergl\"}], \"scattermapbox\": [{\"marker\": {\"colorbar\": {\"outlinewidth\": 0, \"ticks\": \"\"}}, \"type\": \"scattermapbox\"}], \"scatterpolar\": [{\"marker\": {\"colorbar\": {\"outlinewidth\": 0, \"ticks\": \"\"}}, \"type\": \"scatterpolar\"}], \"scatterpolargl\": [{\"marker\": {\"colorbar\": {\"outlinewidth\": 0, \"ticks\": \"\"}}, \"type\": \"scatterpolargl\"}], \"scatterternary\": [{\"marker\": {\"colorbar\": {\"outlinewidth\": 0, \"ticks\": \"\"}}, \"type\": \"scatterternary\"}], \"surface\": [{\"colorbar\": {\"outlinewidth\": 0, \"ticks\": \"\"}, \"colorscale\": [[0.0, \"#0d0887\"], [0.1111111111111111, \"#46039f\"], [0.2222222222222222, \"#7201a8\"], [0.3333333333333333, \"#9c179e\"], [0.4444444444444444, \"#bd3786\"], [0.5555555555555556, \"#d8576b\"], [0.6666666666666666, \"#ed7953\"], [0.7777777777777778, \"#fb9f3a\"], [0.8888888888888888, \"#fdca26\"], [1.0, \"#f0f921\"]], \"type\": \"surface\"}], \"table\": [{\"cells\": {\"fill\": {\"color\": \"#EBF0F8\"}, \"line\": {\"color\": \"white\"}}, \"header\": {\"fill\": {\"color\": \"#C8D4E3\"}, \"line\": {\"color\": \"white\"}}, \"type\": \"table\"}]}, \"layout\": {\"annotationdefaults\": {\"arrowcolor\": \"#2a3f5f\", \"arrowhead\": 0, \"arrowwidth\": 1}, \"autotypenumbers\": \"strict\", \"coloraxis\": {\"colorbar\": {\"outlinewidth\": 0, \"ticks\": \"\"}}, \"colorscale\": {\"diverging\": [[0, \"#8e0152\"], [0.1, \"#c51b7d\"], [0.2, \"#de77ae\"], [0.3, \"#f1b6da\"], [0.4, \"#fde0ef\"], [0.5, \"#f7f7f7\"], [0.6, \"#e6f5d0\"], [0.7, \"#b8e186\"], [0.8, \"#7fbc41\"], [0.9, \"#4d9221\"], [1, \"#276419\"]], \"sequential\": [[0.0, \"#0d0887\"], [0.1111111111111111, \"#46039f\"], [0.2222222222222222, \"#7201a8\"], [0.3333333333333333, \"#9c179e\"], [0.4444444444444444, \"#bd3786\"], [0.5555555555555556, \"#d8576b\"], [0.6666666666666666, \"#ed7953\"], [0.7777777777777778, \"#fb9f3a\"], [0.8888888888888888, \"#fdca26\"], [1.0, \"#f0f921\"]], \"sequentialminus\": [[0.0, \"#0d0887\"], [0.1111111111111111, \"#46039f\"], [0.2222222222222222, \"#7201a8\"], [0.3333333333333333, \"#9c179e\"], [0.4444444444444444, \"#bd3786\"], [0.5555555555555556, \"#d8576b\"], [0.6666666666666666, \"#ed7953\"], [0.7777777777777778, \"#fb9f3a\"], [0.8888888888888888, \"#fdca26\"], [1.0, \"#f0f921\"]]}, \"colorway\": [\"#636efa\", \"#EF553B\", \"#00cc96\", \"#ab63fa\", \"#FFA15A\", \"#19d3f3\", \"#FF6692\", \"#B6E880\", \"#FF97FF\", \"#FECB52\"], \"font\": {\"color\": \"#2a3f5f\"}, \"geo\": {\"bgcolor\": \"white\", \"lakecolor\": \"white\", \"landcolor\": \"#E5ECF6\", \"showlakes\": true, \"showland\": true, \"subunitcolor\": \"white\"}, \"hoverlabel\": {\"align\": \"left\"}, \"hovermode\": \"closest\", \"mapbox\": {\"style\": \"light\"}, \"paper_bgcolor\": \"white\", \"plot_bgcolor\": \"#E5ECF6\", \"polar\": {\"angularaxis\": {\"gridcolor\": \"white\", \"linecolor\": \"white\", \"ticks\": \"\"}, \"bgcolor\": \"#E5ECF6\", \"radialaxis\": {\"gridcolor\": \"white\", \"linecolor\": \"white\", \"ticks\": \"\"}}, \"scene\": {\"xaxis\": {\"backgroundcolor\": \"#E5ECF6\", \"gridcolor\": \"white\", \"gridwidth\": 2, \"linecolor\": \"white\", \"showbackground\": true, \"ticks\": \"\", \"zerolinecolor\": \"white\"}, \"yaxis\": {\"backgroundcolor\": \"#E5ECF6\", \"gridcolor\": \"white\", \"gridwidth\": 2, \"linecolor\": \"white\", \"showbackground\": true, \"ticks\": \"\", \"zerolinecolor\": \"white\"}, \"zaxis\": {\"backgroundcolor\": \"#E5ECF6\", \"gridcolor\": \"white\", \"gridwidth\": 2, \"linecolor\": \"white\", \"showbackground\": true, \"ticks\": \"\", \"zerolinecolor\": \"white\"}}, \"shapedefaults\": {\"line\": {\"color\": \"#2a3f5f\"}}, \"ternary\": {\"aaxis\": {\"gridcolor\": \"white\", \"linecolor\": \"white\", \"ticks\": \"\"}, \"baxis\": {\"gridcolor\": \"white\", \"linecolor\": \"white\", \"ticks\": \"\"}, \"bgcolor\": \"#E5ECF6\", \"caxis\": {\"gridcolor\": \"white\", \"linecolor\": \"white\", \"ticks\": \"\"}}, \"title\": {\"x\": 0.05}, \"xaxis\": {\"automargin\": true, \"gridcolor\": \"white\", \"linecolor\": \"white\", \"ticks\": \"\", \"title\": {\"standoff\": 15}, \"zerolinecolor\": \"white\", \"zerolinewidth\": 2}, \"yaxis\": {\"automargin\": true, \"gridcolor\": \"white\", \"linecolor\": \"white\", \"ticks\": \"\", \"title\": {\"standoff\": 15}, \"zerolinecolor\": \"white\", \"zerolinewidth\": 2}}}, \"title\": {\"font\": {\"color\": \"#4D5663\"}}, \"xaxis\": {\"gridcolor\": \"#E1E5ED\", \"showgrid\": true, \"tickfont\": {\"color\": \"#4D5663\"}, \"title\": {\"font\": {\"color\": \"#4D5663\"}, \"text\": \"\"}, \"zerolinecolor\": \"#E1E5ED\"}, \"yaxis\": {\"gridcolor\": \"#E1E5ED\", \"showgrid\": true, \"tickfont\": {\"color\": \"#4D5663\"}, \"title\": {\"font\": {\"color\": \"#4D5663\"}, \"text\": \"\"}, \"zerolinecolor\": \"#E1E5ED\"}},                        {\"showLink\": true, \"linkText\": \"Export to plot.ly\", \"plotlyServerURL\": \"https://plot.ly\", \"responsive\": true}                    ).then(function(){\n",
       "                            \n",
       "var gd = document.getElementById('a87590e9-a2ba-4342-8129-a287139199c3');\n",
       "var x = new MutationObserver(function (mutations, observer) {{\n",
       "        var display = window.getComputedStyle(gd).display;\n",
       "        if (!display || display === 'none') {{\n",
       "            console.log([gd, 'removed!']);\n",
       "            Plotly.purge(gd);\n",
       "            observer.disconnect();\n",
       "        }}\n",
       "}});\n",
       "\n",
       "// Listen for the removal of the full notebook cells\n",
       "var notebookContainer = gd.closest('#notebook-container');\n",
       "if (notebookContainer) {{\n",
       "    x.observe(notebookContainer, {childList: true});\n",
       "}}\n",
       "\n",
       "// Listen for the clearing of the current output cell\n",
       "var outputEl = gd.closest('.output');\n",
       "if (outputEl) {{\n",
       "    x.observe(outputEl, {childList: true});\n",
       "}}\n",
       "\n",
       "                        })                };                });            </script>        </div>"
      ]
     },
     "metadata": {},
     "output_type": "display_data"
    }
   ],
   "source": [
    "df2.iplot(kind='bar',x='Category',y='Values')"
   ]
  },
  {
   "cell_type": "code",
   "execution_count": 33,
   "metadata": {},
   "outputs": [
    {
     "data": {
      "application/vnd.plotly.v1+json": {
       "config": {
        "linkText": "Export to plot.ly",
        "plotlyServerURL": "https://plot.ly",
        "showLink": true
       },
       "data": [
        {
         "marker": {
          "color": "rgba(255, 153, 51, 0.6)",
          "line": {
           "color": "rgba(255, 153, 51, 1.0)",
           "width": 1
          }
         },
         "name": "None",
         "orientation": "v",
         "text": "",
         "type": "bar",
         "x": [
          "A",
          "B",
          "C",
          "D"
         ],
         "y": [
          100,
          100,
          100,
          100
         ]
        }
       ],
       "layout": {
        "legend": {
         "bgcolor": "#F5F6F9",
         "font": {
          "color": "#4D5663"
         }
        },
        "paper_bgcolor": "#F5F6F9",
        "plot_bgcolor": "#F5F6F9",
        "template": {
         "data": {
          "bar": [
           {
            "error_x": {
             "color": "#2a3f5f"
            },
            "error_y": {
             "color": "#2a3f5f"
            },
            "marker": {
             "line": {
              "color": "#E5ECF6",
              "width": 0.5
             }
            },
            "type": "bar"
           }
          ],
          "barpolar": [
           {
            "marker": {
             "line": {
              "color": "#E5ECF6",
              "width": 0.5
             }
            },
            "type": "barpolar"
           }
          ],
          "carpet": [
           {
            "aaxis": {
             "endlinecolor": "#2a3f5f",
             "gridcolor": "white",
             "linecolor": "white",
             "minorgridcolor": "white",
             "startlinecolor": "#2a3f5f"
            },
            "baxis": {
             "endlinecolor": "#2a3f5f",
             "gridcolor": "white",
             "linecolor": "white",
             "minorgridcolor": "white",
             "startlinecolor": "#2a3f5f"
            },
            "type": "carpet"
           }
          ],
          "choropleth": [
           {
            "colorbar": {
             "outlinewidth": 0,
             "ticks": ""
            },
            "type": "choropleth"
           }
          ],
          "contour": [
           {
            "colorbar": {
             "outlinewidth": 0,
             "ticks": ""
            },
            "colorscale": [
             [
              0,
              "#0d0887"
             ],
             [
              0.1111111111111111,
              "#46039f"
             ],
             [
              0.2222222222222222,
              "#7201a8"
             ],
             [
              0.3333333333333333,
              "#9c179e"
             ],
             [
              0.4444444444444444,
              "#bd3786"
             ],
             [
              0.5555555555555556,
              "#d8576b"
             ],
             [
              0.6666666666666666,
              "#ed7953"
             ],
             [
              0.7777777777777778,
              "#fb9f3a"
             ],
             [
              0.8888888888888888,
              "#fdca26"
             ],
             [
              1,
              "#f0f921"
             ]
            ],
            "type": "contour"
           }
          ],
          "contourcarpet": [
           {
            "colorbar": {
             "outlinewidth": 0,
             "ticks": ""
            },
            "type": "contourcarpet"
           }
          ],
          "heatmap": [
           {
            "colorbar": {
             "outlinewidth": 0,
             "ticks": ""
            },
            "colorscale": [
             [
              0,
              "#0d0887"
             ],
             [
              0.1111111111111111,
              "#46039f"
             ],
             [
              0.2222222222222222,
              "#7201a8"
             ],
             [
              0.3333333333333333,
              "#9c179e"
             ],
             [
              0.4444444444444444,
              "#bd3786"
             ],
             [
              0.5555555555555556,
              "#d8576b"
             ],
             [
              0.6666666666666666,
              "#ed7953"
             ],
             [
              0.7777777777777778,
              "#fb9f3a"
             ],
             [
              0.8888888888888888,
              "#fdca26"
             ],
             [
              1,
              "#f0f921"
             ]
            ],
            "type": "heatmap"
           }
          ],
          "heatmapgl": [
           {
            "colorbar": {
             "outlinewidth": 0,
             "ticks": ""
            },
            "colorscale": [
             [
              0,
              "#0d0887"
             ],
             [
              0.1111111111111111,
              "#46039f"
             ],
             [
              0.2222222222222222,
              "#7201a8"
             ],
             [
              0.3333333333333333,
              "#9c179e"
             ],
             [
              0.4444444444444444,
              "#bd3786"
             ],
             [
              0.5555555555555556,
              "#d8576b"
             ],
             [
              0.6666666666666666,
              "#ed7953"
             ],
             [
              0.7777777777777778,
              "#fb9f3a"
             ],
             [
              0.8888888888888888,
              "#fdca26"
             ],
             [
              1,
              "#f0f921"
             ]
            ],
            "type": "heatmapgl"
           }
          ],
          "histogram": [
           {
            "marker": {
             "colorbar": {
              "outlinewidth": 0,
              "ticks": ""
             }
            },
            "type": "histogram"
           }
          ],
          "histogram2d": [
           {
            "colorbar": {
             "outlinewidth": 0,
             "ticks": ""
            },
            "colorscale": [
             [
              0,
              "#0d0887"
             ],
             [
              0.1111111111111111,
              "#46039f"
             ],
             [
              0.2222222222222222,
              "#7201a8"
             ],
             [
              0.3333333333333333,
              "#9c179e"
             ],
             [
              0.4444444444444444,
              "#bd3786"
             ],
             [
              0.5555555555555556,
              "#d8576b"
             ],
             [
              0.6666666666666666,
              "#ed7953"
             ],
             [
              0.7777777777777778,
              "#fb9f3a"
             ],
             [
              0.8888888888888888,
              "#fdca26"
             ],
             [
              1,
              "#f0f921"
             ]
            ],
            "type": "histogram2d"
           }
          ],
          "histogram2dcontour": [
           {
            "colorbar": {
             "outlinewidth": 0,
             "ticks": ""
            },
            "colorscale": [
             [
              0,
              "#0d0887"
             ],
             [
              0.1111111111111111,
              "#46039f"
             ],
             [
              0.2222222222222222,
              "#7201a8"
             ],
             [
              0.3333333333333333,
              "#9c179e"
             ],
             [
              0.4444444444444444,
              "#bd3786"
             ],
             [
              0.5555555555555556,
              "#d8576b"
             ],
             [
              0.6666666666666666,
              "#ed7953"
             ],
             [
              0.7777777777777778,
              "#fb9f3a"
             ],
             [
              0.8888888888888888,
              "#fdca26"
             ],
             [
              1,
              "#f0f921"
             ]
            ],
            "type": "histogram2dcontour"
           }
          ],
          "mesh3d": [
           {
            "colorbar": {
             "outlinewidth": 0,
             "ticks": ""
            },
            "type": "mesh3d"
           }
          ],
          "parcoords": [
           {
            "line": {
             "colorbar": {
              "outlinewidth": 0,
              "ticks": ""
             }
            },
            "type": "parcoords"
           }
          ],
          "pie": [
           {
            "automargin": true,
            "type": "pie"
           }
          ],
          "scatter": [
           {
            "marker": {
             "colorbar": {
              "outlinewidth": 0,
              "ticks": ""
             }
            },
            "type": "scatter"
           }
          ],
          "scatter3d": [
           {
            "line": {
             "colorbar": {
              "outlinewidth": 0,
              "ticks": ""
             }
            },
            "marker": {
             "colorbar": {
              "outlinewidth": 0,
              "ticks": ""
             }
            },
            "type": "scatter3d"
           }
          ],
          "scattercarpet": [
           {
            "marker": {
             "colorbar": {
              "outlinewidth": 0,
              "ticks": ""
             }
            },
            "type": "scattercarpet"
           }
          ],
          "scattergeo": [
           {
            "marker": {
             "colorbar": {
              "outlinewidth": 0,
              "ticks": ""
             }
            },
            "type": "scattergeo"
           }
          ],
          "scattergl": [
           {
            "marker": {
             "colorbar": {
              "outlinewidth": 0,
              "ticks": ""
             }
            },
            "type": "scattergl"
           }
          ],
          "scattermapbox": [
           {
            "marker": {
             "colorbar": {
              "outlinewidth": 0,
              "ticks": ""
             }
            },
            "type": "scattermapbox"
           }
          ],
          "scatterpolar": [
           {
            "marker": {
             "colorbar": {
              "outlinewidth": 0,
              "ticks": ""
             }
            },
            "type": "scatterpolar"
           }
          ],
          "scatterpolargl": [
           {
            "marker": {
             "colorbar": {
              "outlinewidth": 0,
              "ticks": ""
             }
            },
            "type": "scatterpolargl"
           }
          ],
          "scatterternary": [
           {
            "marker": {
             "colorbar": {
              "outlinewidth": 0,
              "ticks": ""
             }
            },
            "type": "scatterternary"
           }
          ],
          "surface": [
           {
            "colorbar": {
             "outlinewidth": 0,
             "ticks": ""
            },
            "colorscale": [
             [
              0,
              "#0d0887"
             ],
             [
              0.1111111111111111,
              "#46039f"
             ],
             [
              0.2222222222222222,
              "#7201a8"
             ],
             [
              0.3333333333333333,
              "#9c179e"
             ],
             [
              0.4444444444444444,
              "#bd3786"
             ],
             [
              0.5555555555555556,
              "#d8576b"
             ],
             [
              0.6666666666666666,
              "#ed7953"
             ],
             [
              0.7777777777777778,
              "#fb9f3a"
             ],
             [
              0.8888888888888888,
              "#fdca26"
             ],
             [
              1,
              "#f0f921"
             ]
            ],
            "type": "surface"
           }
          ],
          "table": [
           {
            "cells": {
             "fill": {
              "color": "#EBF0F8"
             },
             "line": {
              "color": "white"
             }
            },
            "header": {
             "fill": {
              "color": "#C8D4E3"
             },
             "line": {
              "color": "white"
             }
            },
            "type": "table"
           }
          ]
         },
         "layout": {
          "annotationdefaults": {
           "arrowcolor": "#2a3f5f",
           "arrowhead": 0,
           "arrowwidth": 1
          },
          "autotypenumbers": "strict",
          "coloraxis": {
           "colorbar": {
            "outlinewidth": 0,
            "ticks": ""
           }
          },
          "colorscale": {
           "diverging": [
            [
             0,
             "#8e0152"
            ],
            [
             0.1,
             "#c51b7d"
            ],
            [
             0.2,
             "#de77ae"
            ],
            [
             0.3,
             "#f1b6da"
            ],
            [
             0.4,
             "#fde0ef"
            ],
            [
             0.5,
             "#f7f7f7"
            ],
            [
             0.6,
             "#e6f5d0"
            ],
            [
             0.7,
             "#b8e186"
            ],
            [
             0.8,
             "#7fbc41"
            ],
            [
             0.9,
             "#4d9221"
            ],
            [
             1,
             "#276419"
            ]
           ],
           "sequential": [
            [
             0,
             "#0d0887"
            ],
            [
             0.1111111111111111,
             "#46039f"
            ],
            [
             0.2222222222222222,
             "#7201a8"
            ],
            [
             0.3333333333333333,
             "#9c179e"
            ],
            [
             0.4444444444444444,
             "#bd3786"
            ],
            [
             0.5555555555555556,
             "#d8576b"
            ],
            [
             0.6666666666666666,
             "#ed7953"
            ],
            [
             0.7777777777777778,
             "#fb9f3a"
            ],
            [
             0.8888888888888888,
             "#fdca26"
            ],
            [
             1,
             "#f0f921"
            ]
           ],
           "sequentialminus": [
            [
             0,
             "#0d0887"
            ],
            [
             0.1111111111111111,
             "#46039f"
            ],
            [
             0.2222222222222222,
             "#7201a8"
            ],
            [
             0.3333333333333333,
             "#9c179e"
            ],
            [
             0.4444444444444444,
             "#bd3786"
            ],
            [
             0.5555555555555556,
             "#d8576b"
            ],
            [
             0.6666666666666666,
             "#ed7953"
            ],
            [
             0.7777777777777778,
             "#fb9f3a"
            ],
            [
             0.8888888888888888,
             "#fdca26"
            ],
            [
             1,
             "#f0f921"
            ]
           ]
          },
          "colorway": [
           "#636efa",
           "#EF553B",
           "#00cc96",
           "#ab63fa",
           "#FFA15A",
           "#19d3f3",
           "#FF6692",
           "#B6E880",
           "#FF97FF",
           "#FECB52"
          ],
          "font": {
           "color": "#2a3f5f"
          },
          "geo": {
           "bgcolor": "white",
           "lakecolor": "white",
           "landcolor": "#E5ECF6",
           "showlakes": true,
           "showland": true,
           "subunitcolor": "white"
          },
          "hoverlabel": {
           "align": "left"
          },
          "hovermode": "closest",
          "mapbox": {
           "style": "light"
          },
          "paper_bgcolor": "white",
          "plot_bgcolor": "#E5ECF6",
          "polar": {
           "angularaxis": {
            "gridcolor": "white",
            "linecolor": "white",
            "ticks": ""
           },
           "bgcolor": "#E5ECF6",
           "radialaxis": {
            "gridcolor": "white",
            "linecolor": "white",
            "ticks": ""
           }
          },
          "scene": {
           "xaxis": {
            "backgroundcolor": "#E5ECF6",
            "gridcolor": "white",
            "gridwidth": 2,
            "linecolor": "white",
            "showbackground": true,
            "ticks": "",
            "zerolinecolor": "white"
           },
           "yaxis": {
            "backgroundcolor": "#E5ECF6",
            "gridcolor": "white",
            "gridwidth": 2,
            "linecolor": "white",
            "showbackground": true,
            "ticks": "",
            "zerolinecolor": "white"
           },
           "zaxis": {
            "backgroundcolor": "#E5ECF6",
            "gridcolor": "white",
            "gridwidth": 2,
            "linecolor": "white",
            "showbackground": true,
            "ticks": "",
            "zerolinecolor": "white"
           }
          },
          "shapedefaults": {
           "line": {
            "color": "#2a3f5f"
           }
          },
          "ternary": {
           "aaxis": {
            "gridcolor": "white",
            "linecolor": "white",
            "ticks": ""
           },
           "baxis": {
            "gridcolor": "white",
            "linecolor": "white",
            "ticks": ""
           },
           "bgcolor": "#E5ECF6",
           "caxis": {
            "gridcolor": "white",
            "linecolor": "white",
            "ticks": ""
           }
          },
          "title": {
           "x": 0.05
          },
          "xaxis": {
           "automargin": true,
           "gridcolor": "white",
           "linecolor": "white",
           "ticks": "",
           "title": {
            "standoff": 15
           },
           "zerolinecolor": "white",
           "zerolinewidth": 2
          },
          "yaxis": {
           "automargin": true,
           "gridcolor": "white",
           "linecolor": "white",
           "ticks": "",
           "title": {
            "standoff": 15
           },
           "zerolinecolor": "white",
           "zerolinewidth": 2
          }
         }
        },
        "title": {
         "font": {
          "color": "#4D5663"
         }
        },
        "xaxis": {
         "gridcolor": "#E1E5ED",
         "showgrid": true,
         "tickfont": {
          "color": "#4D5663"
         },
         "title": {
          "font": {
           "color": "#4D5663"
          },
          "text": ""
         },
         "zerolinecolor": "#E1E5ED"
        },
        "yaxis": {
         "gridcolor": "#E1E5ED",
         "showgrid": true,
         "tickfont": {
          "color": "#4D5663"
         },
         "title": {
          "font": {
           "color": "#4D5663"
          },
          "text": ""
         },
         "zerolinecolor": "#E1E5ED"
        }
       }
      },
      "text/html": [
       "<div>                            <div id=\"24ed1a75-0716-475d-b152-c85a7c3bd482\" class=\"plotly-graph-div\" style=\"height:525px; width:100%;\"></div>            <script type=\"text/javascript\">                require([\"plotly\"], function(Plotly) {                    window.PLOTLYENV=window.PLOTLYENV || {};\n",
       "                    window.PLOTLYENV.BASE_URL='https://plot.ly';                                    if (document.getElementById(\"24ed1a75-0716-475d-b152-c85a7c3bd482\")) {                    Plotly.newPlot(                        \"24ed1a75-0716-475d-b152-c85a7c3bd482\",                        [{\"marker\": {\"color\": \"rgba(255, 153, 51, 0.6)\", \"line\": {\"color\": \"rgba(255, 153, 51, 1.0)\", \"width\": 1}}, \"name\": \"None\", \"orientation\": \"v\", \"text\": \"\", \"type\": \"bar\", \"x\": [\"A\", \"B\", \"C\", \"D\"], \"y\": [100, 100, 100, 100]}],                        {\"legend\": {\"bgcolor\": \"#F5F6F9\", \"font\": {\"color\": \"#4D5663\"}}, \"paper_bgcolor\": \"#F5F6F9\", \"plot_bgcolor\": \"#F5F6F9\", \"template\": {\"data\": {\"bar\": [{\"error_x\": {\"color\": \"#2a3f5f\"}, \"error_y\": {\"color\": \"#2a3f5f\"}, \"marker\": {\"line\": {\"color\": \"#E5ECF6\", \"width\": 0.5}}, \"type\": \"bar\"}], \"barpolar\": [{\"marker\": {\"line\": {\"color\": \"#E5ECF6\", \"width\": 0.5}}, \"type\": \"barpolar\"}], \"carpet\": [{\"aaxis\": {\"endlinecolor\": \"#2a3f5f\", \"gridcolor\": \"white\", \"linecolor\": \"white\", \"minorgridcolor\": \"white\", \"startlinecolor\": \"#2a3f5f\"}, \"baxis\": {\"endlinecolor\": \"#2a3f5f\", \"gridcolor\": \"white\", \"linecolor\": \"white\", \"minorgridcolor\": \"white\", \"startlinecolor\": \"#2a3f5f\"}, \"type\": \"carpet\"}], \"choropleth\": [{\"colorbar\": {\"outlinewidth\": 0, \"ticks\": \"\"}, \"type\": \"choropleth\"}], \"contour\": [{\"colorbar\": {\"outlinewidth\": 0, \"ticks\": \"\"}, \"colorscale\": [[0.0, \"#0d0887\"], [0.1111111111111111, \"#46039f\"], [0.2222222222222222, \"#7201a8\"], [0.3333333333333333, \"#9c179e\"], [0.4444444444444444, \"#bd3786\"], [0.5555555555555556, \"#d8576b\"], [0.6666666666666666, \"#ed7953\"], [0.7777777777777778, \"#fb9f3a\"], [0.8888888888888888, \"#fdca26\"], [1.0, \"#f0f921\"]], \"type\": \"contour\"}], \"contourcarpet\": [{\"colorbar\": {\"outlinewidth\": 0, \"ticks\": \"\"}, \"type\": \"contourcarpet\"}], \"heatmap\": [{\"colorbar\": {\"outlinewidth\": 0, \"ticks\": \"\"}, \"colorscale\": [[0.0, \"#0d0887\"], [0.1111111111111111, \"#46039f\"], [0.2222222222222222, \"#7201a8\"], [0.3333333333333333, \"#9c179e\"], [0.4444444444444444, \"#bd3786\"], [0.5555555555555556, \"#d8576b\"], [0.6666666666666666, \"#ed7953\"], [0.7777777777777778, \"#fb9f3a\"], [0.8888888888888888, \"#fdca26\"], [1.0, \"#f0f921\"]], \"type\": \"heatmap\"}], \"heatmapgl\": [{\"colorbar\": {\"outlinewidth\": 0, \"ticks\": \"\"}, \"colorscale\": [[0.0, \"#0d0887\"], [0.1111111111111111, \"#46039f\"], [0.2222222222222222, \"#7201a8\"], [0.3333333333333333, \"#9c179e\"], [0.4444444444444444, \"#bd3786\"], [0.5555555555555556, \"#d8576b\"], [0.6666666666666666, \"#ed7953\"], [0.7777777777777778, \"#fb9f3a\"], [0.8888888888888888, \"#fdca26\"], [1.0, \"#f0f921\"]], \"type\": \"heatmapgl\"}], \"histogram\": [{\"marker\": {\"colorbar\": {\"outlinewidth\": 0, \"ticks\": \"\"}}, \"type\": \"histogram\"}], \"histogram2d\": [{\"colorbar\": {\"outlinewidth\": 0, \"ticks\": \"\"}, \"colorscale\": [[0.0, \"#0d0887\"], [0.1111111111111111, \"#46039f\"], [0.2222222222222222, \"#7201a8\"], [0.3333333333333333, \"#9c179e\"], [0.4444444444444444, \"#bd3786\"], [0.5555555555555556, \"#d8576b\"], [0.6666666666666666, \"#ed7953\"], [0.7777777777777778, \"#fb9f3a\"], [0.8888888888888888, \"#fdca26\"], [1.0, \"#f0f921\"]], \"type\": \"histogram2d\"}], \"histogram2dcontour\": [{\"colorbar\": {\"outlinewidth\": 0, \"ticks\": \"\"}, \"colorscale\": [[0.0, \"#0d0887\"], [0.1111111111111111, \"#46039f\"], [0.2222222222222222, \"#7201a8\"], [0.3333333333333333, \"#9c179e\"], [0.4444444444444444, \"#bd3786\"], [0.5555555555555556, \"#d8576b\"], [0.6666666666666666, \"#ed7953\"], [0.7777777777777778, \"#fb9f3a\"], [0.8888888888888888, \"#fdca26\"], [1.0, \"#f0f921\"]], \"type\": \"histogram2dcontour\"}], \"mesh3d\": [{\"colorbar\": {\"outlinewidth\": 0, \"ticks\": \"\"}, \"type\": \"mesh3d\"}], \"parcoords\": [{\"line\": {\"colorbar\": {\"outlinewidth\": 0, \"ticks\": \"\"}}, \"type\": \"parcoords\"}], \"pie\": [{\"automargin\": true, \"type\": \"pie\"}], \"scatter\": [{\"marker\": {\"colorbar\": {\"outlinewidth\": 0, \"ticks\": \"\"}}, \"type\": \"scatter\"}], \"scatter3d\": [{\"line\": {\"colorbar\": {\"outlinewidth\": 0, \"ticks\": \"\"}}, \"marker\": {\"colorbar\": {\"outlinewidth\": 0, \"ticks\": \"\"}}, \"type\": \"scatter3d\"}], \"scattercarpet\": [{\"marker\": {\"colorbar\": {\"outlinewidth\": 0, \"ticks\": \"\"}}, \"type\": \"scattercarpet\"}], \"scattergeo\": [{\"marker\": {\"colorbar\": {\"outlinewidth\": 0, \"ticks\": \"\"}}, \"type\": \"scattergeo\"}], \"scattergl\": [{\"marker\": {\"colorbar\": {\"outlinewidth\": 0, \"ticks\": \"\"}}, \"type\": \"scattergl\"}], \"scattermapbox\": [{\"marker\": {\"colorbar\": {\"outlinewidth\": 0, \"ticks\": \"\"}}, \"type\": \"scattermapbox\"}], \"scatterpolar\": [{\"marker\": {\"colorbar\": {\"outlinewidth\": 0, \"ticks\": \"\"}}, \"type\": \"scatterpolar\"}], \"scatterpolargl\": [{\"marker\": {\"colorbar\": {\"outlinewidth\": 0, \"ticks\": \"\"}}, \"type\": \"scatterpolargl\"}], \"scatterternary\": [{\"marker\": {\"colorbar\": {\"outlinewidth\": 0, \"ticks\": \"\"}}, \"type\": \"scatterternary\"}], \"surface\": [{\"colorbar\": {\"outlinewidth\": 0, \"ticks\": \"\"}, \"colorscale\": [[0.0, \"#0d0887\"], [0.1111111111111111, \"#46039f\"], [0.2222222222222222, \"#7201a8\"], [0.3333333333333333, \"#9c179e\"], [0.4444444444444444, \"#bd3786\"], [0.5555555555555556, \"#d8576b\"], [0.6666666666666666, \"#ed7953\"], [0.7777777777777778, \"#fb9f3a\"], [0.8888888888888888, \"#fdca26\"], [1.0, \"#f0f921\"]], \"type\": \"surface\"}], \"table\": [{\"cells\": {\"fill\": {\"color\": \"#EBF0F8\"}, \"line\": {\"color\": \"white\"}}, \"header\": {\"fill\": {\"color\": \"#C8D4E3\"}, \"line\": {\"color\": \"white\"}}, \"type\": \"table\"}]}, \"layout\": {\"annotationdefaults\": {\"arrowcolor\": \"#2a3f5f\", \"arrowhead\": 0, \"arrowwidth\": 1}, \"autotypenumbers\": \"strict\", \"coloraxis\": {\"colorbar\": {\"outlinewidth\": 0, \"ticks\": \"\"}}, \"colorscale\": {\"diverging\": [[0, \"#8e0152\"], [0.1, \"#c51b7d\"], [0.2, \"#de77ae\"], [0.3, \"#f1b6da\"], [0.4, \"#fde0ef\"], [0.5, \"#f7f7f7\"], [0.6, \"#e6f5d0\"], [0.7, \"#b8e186\"], [0.8, \"#7fbc41\"], [0.9, \"#4d9221\"], [1, \"#276419\"]], \"sequential\": [[0.0, \"#0d0887\"], [0.1111111111111111, \"#46039f\"], [0.2222222222222222, \"#7201a8\"], [0.3333333333333333, \"#9c179e\"], [0.4444444444444444, \"#bd3786\"], [0.5555555555555556, \"#d8576b\"], [0.6666666666666666, \"#ed7953\"], [0.7777777777777778, \"#fb9f3a\"], [0.8888888888888888, \"#fdca26\"], [1.0, \"#f0f921\"]], \"sequentialminus\": [[0.0, \"#0d0887\"], [0.1111111111111111, \"#46039f\"], [0.2222222222222222, \"#7201a8\"], [0.3333333333333333, \"#9c179e\"], [0.4444444444444444, \"#bd3786\"], [0.5555555555555556, \"#d8576b\"], [0.6666666666666666, \"#ed7953\"], [0.7777777777777778, \"#fb9f3a\"], [0.8888888888888888, \"#fdca26\"], [1.0, \"#f0f921\"]]}, \"colorway\": [\"#636efa\", \"#EF553B\", \"#00cc96\", \"#ab63fa\", \"#FFA15A\", \"#19d3f3\", \"#FF6692\", \"#B6E880\", \"#FF97FF\", \"#FECB52\"], \"font\": {\"color\": \"#2a3f5f\"}, \"geo\": {\"bgcolor\": \"white\", \"lakecolor\": \"white\", \"landcolor\": \"#E5ECF6\", \"showlakes\": true, \"showland\": true, \"subunitcolor\": \"white\"}, \"hoverlabel\": {\"align\": \"left\"}, \"hovermode\": \"closest\", \"mapbox\": {\"style\": \"light\"}, \"paper_bgcolor\": \"white\", \"plot_bgcolor\": \"#E5ECF6\", \"polar\": {\"angularaxis\": {\"gridcolor\": \"white\", \"linecolor\": \"white\", \"ticks\": \"\"}, \"bgcolor\": \"#E5ECF6\", \"radialaxis\": {\"gridcolor\": \"white\", \"linecolor\": \"white\", \"ticks\": \"\"}}, \"scene\": {\"xaxis\": {\"backgroundcolor\": \"#E5ECF6\", \"gridcolor\": \"white\", \"gridwidth\": 2, \"linecolor\": \"white\", \"showbackground\": true, \"ticks\": \"\", \"zerolinecolor\": \"white\"}, \"yaxis\": {\"backgroundcolor\": \"#E5ECF6\", \"gridcolor\": \"white\", \"gridwidth\": 2, \"linecolor\": \"white\", \"showbackground\": true, \"ticks\": \"\", \"zerolinecolor\": \"white\"}, \"zaxis\": {\"backgroundcolor\": \"#E5ECF6\", \"gridcolor\": \"white\", \"gridwidth\": 2, \"linecolor\": \"white\", \"showbackground\": true, \"ticks\": \"\", \"zerolinecolor\": \"white\"}}, \"shapedefaults\": {\"line\": {\"color\": \"#2a3f5f\"}}, \"ternary\": {\"aaxis\": {\"gridcolor\": \"white\", \"linecolor\": \"white\", \"ticks\": \"\"}, \"baxis\": {\"gridcolor\": \"white\", \"linecolor\": \"white\", \"ticks\": \"\"}, \"bgcolor\": \"#E5ECF6\", \"caxis\": {\"gridcolor\": \"white\", \"linecolor\": \"white\", \"ticks\": \"\"}}, \"title\": {\"x\": 0.05}, \"xaxis\": {\"automargin\": true, \"gridcolor\": \"white\", \"linecolor\": \"white\", \"ticks\": \"\", \"title\": {\"standoff\": 15}, \"zerolinecolor\": \"white\", \"zerolinewidth\": 2}, \"yaxis\": {\"automargin\": true, \"gridcolor\": \"white\", \"linecolor\": \"white\", \"ticks\": \"\", \"title\": {\"standoff\": 15}, \"zerolinecolor\": \"white\", \"zerolinewidth\": 2}}}, \"title\": {\"font\": {\"color\": \"#4D5663\"}}, \"xaxis\": {\"gridcolor\": \"#E1E5ED\", \"showgrid\": true, \"tickfont\": {\"color\": \"#4D5663\"}, \"title\": {\"font\": {\"color\": \"#4D5663\"}, \"text\": \"\"}, \"zerolinecolor\": \"#E1E5ED\"}, \"yaxis\": {\"gridcolor\": \"#E1E5ED\", \"showgrid\": true, \"tickfont\": {\"color\": \"#4D5663\"}, \"title\": {\"font\": {\"color\": \"#4D5663\"}, \"text\": \"\"}, \"zerolinecolor\": \"#E1E5ED\"}},                        {\"showLink\": true, \"linkText\": \"Export to plot.ly\", \"plotlyServerURL\": \"https://plot.ly\", \"responsive\": true}                    ).then(function(){\n",
       "                            \n",
       "var gd = document.getElementById('24ed1a75-0716-475d-b152-c85a7c3bd482');\n",
       "var x = new MutationObserver(function (mutations, observer) {{\n",
       "        var display = window.getComputedStyle(gd).display;\n",
       "        if (!display || display === 'none') {{\n",
       "            console.log([gd, 'removed!']);\n",
       "            Plotly.purge(gd);\n",
       "            observer.disconnect();\n",
       "        }}\n",
       "}});\n",
       "\n",
       "// Listen for the removal of the full notebook cells\n",
       "var notebookContainer = gd.closest('#notebook-container');\n",
       "if (notebookContainer) {{\n",
       "    x.observe(notebookContainer, {childList: true});\n",
       "}}\n",
       "\n",
       "// Listen for the clearing of the current output cell\n",
       "var outputEl = gd.closest('.output');\n",
       "if (outputEl) {{\n",
       "    x.observe(outputEl, {childList: true});\n",
       "}}\n",
       "\n",
       "                        })                };                });            </script>        </div>"
      ]
     },
     "metadata": {},
     "output_type": "display_data"
    }
   ],
   "source": [
    "df.count().iplot(kind='bar')"
   ]
  },
  {
   "cell_type": "markdown",
   "metadata": {},
   "source": [
    "## Boxplots"
   ]
  },
  {
   "cell_type": "code",
   "execution_count": 34,
   "metadata": {},
   "outputs": [
    {
     "data": {
      "application/vnd.plotly.v1+json": {
       "config": {
        "linkText": "Export to plot.ly",
        "plotlyServerURL": "https://plot.ly",
        "showLink": true
       },
       "data": [
        {
         "boxpoints": false,
         "line": {
          "width": 1.3
         },
         "marker": {
          "color": "rgba(255, 153, 51, 1.0)"
         },
         "name": "A",
         "orientation": "v",
         "type": "box",
         "y": [
          -0.7847662484388648,
          0.5887290310128517,
          -0.5514071090214487,
          0.08840812267345483,
          -0.957132276940948,
          -0.1747201870186245,
          -0.775383100878524,
          0.4945756457748739,
          -0.45784395724355104,
          -0.7299542464491161,
          2.120508885901264,
          -2.2347271889052647,
          -0.216174711781822,
          -2.846486640307819,
          -0.5216053610061037,
          1.0601574186659917,
          -0.3979067592077603,
          1.8802233263322539,
          1.203817333279283,
          -0.8843606774688277,
          1.03031872907569,
          -0.4257523627376736,
          0.8729366328539484,
          0.7015791574627109,
          -0.38686542056186624,
          0.8413262603687331,
          0.05399293108518775,
          0.043179544666969855,
          -2.9220805766557323,
          0.08340038015300334,
          3.5137406018102793,
          0.06710822950599729,
          -0.8317463668012348,
          0.11787537086880737,
          -0.40091873975019443,
          -0.647274188279839,
          -1.2526617333340366,
          0.06122457684630888,
          -0.1444120037528103,
          -0.7903713996915007,
          -0.1232958328995701,
          1.026244203860463,
          0.24784413058545027,
          0.07654902167655836,
          0.6316802536407472,
          -1.3413050172070276,
          -1.4416712533630667,
          -0.10415219238574984,
          0.20676801944816472,
          -0.8887833483806576,
          -0.18089986860947765,
          -1.1791549223426931,
          0.8841397805651795,
          0.5430023355298771,
          -0.9259578970567877,
          0.6119061006624439,
          0.574018323672333,
          1.3093577253163893,
          0.5563033371402298,
          1.8136943649705675,
          -0.6442541240275126,
          2.0713926711402553,
          -1.0477806925379496,
          -1.2191288405576126,
          0.46833740043259986,
          -0.2272374953217602,
          -0.48093633214803955,
          0.9640139774346485,
          0.2698896656277988,
          0.08284925087705126,
          0.4891500704201871,
          0.740009758283557,
          -0.9394610595033338,
          1.0125457768568211,
          -0.6380799097814033,
          -0.532143093193377,
          0.7800276603962227,
          -0.6985563151031897,
          -0.9621143302322339,
          -0.6193184582765459,
          0.9043920195398775,
          -1.4522395983454406,
          -0.4893232211608719,
          -0.2642170873783527,
          0.8316859700169948,
          1.2489509315576732,
          -0.405229252832221,
          -0.3993210218041567,
          0.6301892319317067,
          -2.032615377066661,
          -0.2978316144783474,
          -0.7430723467788538,
          -0.05140898799930743,
          -1.6170545960302538,
          -0.04932390232689837,
          -0.8155700860817712,
          -1.7788024582795317,
          -1.6174420443715154,
          0.11267862990631071,
          1.2787293893763918
         ]
        },
        {
         "boxpoints": false,
         "line": {
          "width": 1.3
         },
         "marker": {
          "color": "rgba(55, 128, 191, 1.0)"
         },
         "name": "B",
         "orientation": "v",
         "type": "box",
         "y": [
          0.5572145425894736,
          -0.45504520577696367,
          0.4397244784970589,
          -0.2763388377694911,
          -0.08571023954655589,
          -1.6755292215779456,
          -1.8334924719643624,
          -0.660543388652614,
          0.7078090548539063,
          -0.30404582808658714,
          0.7983154440193301,
          0.6389687724326867,
          -1.8050197876858236,
          -0.4025794005207336,
          0.3704656336659906,
          -0.747624783090879,
          -0.4392091376941933,
          -0.33047162205148,
          -0.1364354262968888,
          -0.8633476502974338,
          -0.16814011189850314,
          -1.4696332886345858,
          0.1585322391907727,
          -2.418076999992624,
          0.6622146788284973,
          0.8721367999555061,
          -1.25976348157494,
          1.8348088004628051,
          0.47688346565844086,
          0.14213908096085381,
          -1.8637299698264642,
          0.18280931235672152,
          1.2439722521750312,
          -0.3733871869316914,
          -2.1740967689550086,
          -0.15732638770451998,
          0.0633022732022018,
          -0.7790326367796533,
          -0.24491703017219643,
          0.5040191789600832,
          -0.9515995713121651,
          -0.8414065588473638,
          0.5955986478906864,
          0.7154922596789571,
          -0.0540021267028095,
          -0.045508513386948043,
          0.6119646956030508,
          1.1102705897798857,
          0.19750938669276072,
          -1.0931085199143398,
          -0.6088374888059043,
          0.879357016729816,
          -1.0545177862425543,
          -1.0615585452683487,
          -0.3395286389548686,
          0.9167954596280192,
          0.3056287217220758,
          1.1897269806627724,
          -0.5785892939226185,
          1.1882930981736926,
          -1.9453934420960646,
          0.40404565925308905,
          -0.47793302435649154,
          0.9554348023325204,
          -0.12910337890098902,
          -0.011338204028426009,
          -1.2864013072197011,
          1.9501586903960613,
          0.18449132473611274,
          -1.352778989230137,
          0.8139484363174008,
          -0.282173902035499,
          0.055616892028192616,
          1.1233026493199727,
          -0.06175109687338001,
          2.6230381340766007,
          -0.5766957704909688,
          -0.7597006964718782,
          -0.3769501067141862,
          -0.1760010222169406,
          2.688186774678746,
          -2.3362883690467933,
          -0.00034980439845702736,
          -0.3079688557143545,
          -0.4116002100009419,
          0.5599206118343988,
          0.16222988523787568,
          -0.3746644731060114,
          1.3783064233466986,
          -0.28963624409219874,
          0.48917493779357635,
          0.84254699744496,
          -0.16749916523803782,
          -0.44959956190182654,
          0.5678994707214291,
          0.05294747982035926,
          -0.5544304088936962,
          -0.41553679147877703,
          -1.9093260964550836,
          -0.11837954489758033
         ]
        },
        {
         "boxpoints": false,
         "line": {
          "width": 1.3
         },
         "marker": {
          "color": "rgba(50, 171, 96, 1.0)"
         },
         "name": "C",
         "orientation": "v",
         "type": "box",
         "y": [
          -0.8455490038100929,
          -0.48454338439593486,
          0.02742728679775391,
          -1.321577142465884,
          0.22034173887314507,
          -2.093631831489845,
          1.6375593956971584,
          -1.1277801936235505,
          0.3825700052350184,
          1.8822973419146725,
          -0.39605151558761664,
          0.02557761876486907,
          -0.4001338463321016,
          -0.5476109604279163,
          1.0000540287182,
          1.3809141250288433,
          1.3559001306200087,
          -0.537461808418586,
          1.9764025692250418,
          -0.5450285848233788,
          -0.8184105442459356,
          0.9660172851223123,
          0.04360607110929835,
          0.6555413572469578,
          0.6478938871416958,
          0.8232634438410178,
          0.360630010432651,
          -1.666274007640765,
          1.2420290975760535,
          -0.427908886341726,
          0.6953509714286061,
          0.22873233028397466,
          2.5809679815426256,
          -0.647901182200101,
          1.161375338165576,
          0.9335962221008012,
          1.6328807925024402,
          -0.3374022029089827,
          -1.769585792875065,
          0.7824251490555052,
          -0.45802641924446996,
          0.5068791824566319,
          0.5275133432840038,
          0.9511672102602415,
          -0.7625223505564455,
          -2.410741386351486,
          -0.507924546178929,
          -1.4675375868347356,
          -0.27459017964509824,
          -0.03113635927484934,
          0.7391712376475289,
          0.2970522520979106,
          2.4314459346924906,
          -1.1951128713298187,
          -0.12754852794758628,
          0.3815298036628025,
          -0.27579117180706453,
          -1.1895175411507892,
          0.4685399709554705,
          -0.5370305241661832,
          -0.01690455876988005,
          -0.3187115873922865,
          0.5699447190004894,
          0.542856573551537,
          0.4170790196748748,
          1.119691957283167,
          0.48628227147625475,
          -0.35947513245747564,
          -0.756552382995433,
          -2.221532168108824,
          0.6100525508901942,
          1.0174467014168214,
          -0.5054489385179858,
          -0.358152743368648,
          -2.4109117440282226,
          0.8132654839817042,
          -0.9469437587689875,
          -0.1966778287985121,
          2.5269418651932893,
          -1.2597415003789403,
          1.0758341992422267,
          -0.7069671472601676,
          -0.7806185238327553,
          -0.13686197245146764,
          0.5951662456417477,
          0.8120653119290981,
          -0.22037037970159096,
          1.8292113959816145,
          -0.7655358365700549,
          -1.9760962864906375,
          -0.44449561619815775,
          -2.8920929220710625,
          -0.1533771025874444,
          0.4240708871637344,
          0.5940992720388655,
          -0.3215738488582108,
          -1.1603659418850012,
          -1.1820523847755509,
          -2.8783077551045917,
          -0.679565466604065
         ]
        },
        {
         "boxpoints": false,
         "line": {
          "width": 1.3
         },
         "marker": {
          "color": "rgba(128, 0, 128, 1.0)"
         },
         "name": "D",
         "orientation": "v",
         "type": "box",
         "y": [
          0.6723335848503301,
          1.101801859179172,
          0.7357435490315392,
          -1.2280625297956265,
          -0.44005532138364406,
          -0.16803502433740874,
          0.17351548394524194,
          -0.10633243490621885,
          0.7743910025386193,
          -1.4194451682443574,
          -0.10468995990216429,
          -1.0228073917500156,
          -1.5110864981774574,
          0.46774634637526913,
          -0.029036546764236424,
          2.257282303524755,
          -0.8534145035587284,
          -0.151571239746341,
          0.05571582131259527,
          0.7206600435884811,
          -0.11948099341997853,
          -0.04046681797066169,
          -2.1807707019167184,
          1.9278107411174663,
          -0.34345869873683005,
          -0.8830041256269417,
          -0.30625062177685547,
          -0.9700713583349314,
          -0.6761901851859845,
          2.0776298353366585,
          -0.6253688610172123,
          -3.4795102633333856,
          -0.49202318052004884,
          -0.6728050067233378,
          0.443847461494667,
          0.03756168972114086,
          2.026266202989236,
          -1.2829151383801376,
          -0.8877238787364174,
          -0.8269487791154158,
          0.8501296371411101,
          -0.4911038405418345,
          -0.4117073853202939,
          0.4508464892954036,
          -0.8011710991782471,
          0.23456400954708972,
          1.21979461080376,
          0.2705423336947931,
          -1.3749472636666433,
          -1.6443155450305198,
          -0.5901230324312452,
          -2.601359374010863,
          0.006956209350416803,
          0.35144868243848426,
          -0.5922937276979022,
          -0.415220928358183,
          -1.1478057759321942,
          0.240849997002987,
          0.39133678982290127,
          0.2812337799478269,
          -0.6061286804849573,
          0.6040571617321238,
          -0.65902589422123,
          0.5803167796163067,
          -2.0540546419731345,
          0.6805207680795181,
          0.18160651808373954,
          -0.5703572679097334,
          -0.05714329407579369,
          -0.40012661552664086,
          0.13796214865742956,
          1.0912609384875758,
          -0.5356081456092818,
          -0.26873089340455436,
          -0.4614811846134316,
          -0.09699149677595723,
          1.6269235472311914,
          0.21715869422828132,
          2.2500908709008414,
          0.943691136337086,
          0.2853156660825992,
          0.4646533381244412,
          -1.4264389756739138,
          -0.6198502359995962,
          0.5971836768817488,
          -0.25558068329428535,
          0.9978931730834676,
          -0.4116200673653917,
          -0.6004733877734261,
          -2.407506367171087,
          -1.7368375573647012,
          -0.3682387015220804,
          -2.377384140524957,
          1.018779544514356,
          -0.3335752771203218,
          0.16240182735686323,
          -1.2189955901752059,
          -0.7814894449663207,
          -0.5443515871725954,
          -0.7259076273739898
         ]
        }
       ],
       "layout": {
        "legend": {
         "bgcolor": "#F5F6F9",
         "font": {
          "color": "#4D5663"
         }
        },
        "paper_bgcolor": "#F5F6F9",
        "plot_bgcolor": "#F5F6F9",
        "template": {
         "data": {
          "bar": [
           {
            "error_x": {
             "color": "#2a3f5f"
            },
            "error_y": {
             "color": "#2a3f5f"
            },
            "marker": {
             "line": {
              "color": "#E5ECF6",
              "width": 0.5
             }
            },
            "type": "bar"
           }
          ],
          "barpolar": [
           {
            "marker": {
             "line": {
              "color": "#E5ECF6",
              "width": 0.5
             }
            },
            "type": "barpolar"
           }
          ],
          "carpet": [
           {
            "aaxis": {
             "endlinecolor": "#2a3f5f",
             "gridcolor": "white",
             "linecolor": "white",
             "minorgridcolor": "white",
             "startlinecolor": "#2a3f5f"
            },
            "baxis": {
             "endlinecolor": "#2a3f5f",
             "gridcolor": "white",
             "linecolor": "white",
             "minorgridcolor": "white",
             "startlinecolor": "#2a3f5f"
            },
            "type": "carpet"
           }
          ],
          "choropleth": [
           {
            "colorbar": {
             "outlinewidth": 0,
             "ticks": ""
            },
            "type": "choropleth"
           }
          ],
          "contour": [
           {
            "colorbar": {
             "outlinewidth": 0,
             "ticks": ""
            },
            "colorscale": [
             [
              0,
              "#0d0887"
             ],
             [
              0.1111111111111111,
              "#46039f"
             ],
             [
              0.2222222222222222,
              "#7201a8"
             ],
             [
              0.3333333333333333,
              "#9c179e"
             ],
             [
              0.4444444444444444,
              "#bd3786"
             ],
             [
              0.5555555555555556,
              "#d8576b"
             ],
             [
              0.6666666666666666,
              "#ed7953"
             ],
             [
              0.7777777777777778,
              "#fb9f3a"
             ],
             [
              0.8888888888888888,
              "#fdca26"
             ],
             [
              1,
              "#f0f921"
             ]
            ],
            "type": "contour"
           }
          ],
          "contourcarpet": [
           {
            "colorbar": {
             "outlinewidth": 0,
             "ticks": ""
            },
            "type": "contourcarpet"
           }
          ],
          "heatmap": [
           {
            "colorbar": {
             "outlinewidth": 0,
             "ticks": ""
            },
            "colorscale": [
             [
              0,
              "#0d0887"
             ],
             [
              0.1111111111111111,
              "#46039f"
             ],
             [
              0.2222222222222222,
              "#7201a8"
             ],
             [
              0.3333333333333333,
              "#9c179e"
             ],
             [
              0.4444444444444444,
              "#bd3786"
             ],
             [
              0.5555555555555556,
              "#d8576b"
             ],
             [
              0.6666666666666666,
              "#ed7953"
             ],
             [
              0.7777777777777778,
              "#fb9f3a"
             ],
             [
              0.8888888888888888,
              "#fdca26"
             ],
             [
              1,
              "#f0f921"
             ]
            ],
            "type": "heatmap"
           }
          ],
          "heatmapgl": [
           {
            "colorbar": {
             "outlinewidth": 0,
             "ticks": ""
            },
            "colorscale": [
             [
              0,
              "#0d0887"
             ],
             [
              0.1111111111111111,
              "#46039f"
             ],
             [
              0.2222222222222222,
              "#7201a8"
             ],
             [
              0.3333333333333333,
              "#9c179e"
             ],
             [
              0.4444444444444444,
              "#bd3786"
             ],
             [
              0.5555555555555556,
              "#d8576b"
             ],
             [
              0.6666666666666666,
              "#ed7953"
             ],
             [
              0.7777777777777778,
              "#fb9f3a"
             ],
             [
              0.8888888888888888,
              "#fdca26"
             ],
             [
              1,
              "#f0f921"
             ]
            ],
            "type": "heatmapgl"
           }
          ],
          "histogram": [
           {
            "marker": {
             "colorbar": {
              "outlinewidth": 0,
              "ticks": ""
             }
            },
            "type": "histogram"
           }
          ],
          "histogram2d": [
           {
            "colorbar": {
             "outlinewidth": 0,
             "ticks": ""
            },
            "colorscale": [
             [
              0,
              "#0d0887"
             ],
             [
              0.1111111111111111,
              "#46039f"
             ],
             [
              0.2222222222222222,
              "#7201a8"
             ],
             [
              0.3333333333333333,
              "#9c179e"
             ],
             [
              0.4444444444444444,
              "#bd3786"
             ],
             [
              0.5555555555555556,
              "#d8576b"
             ],
             [
              0.6666666666666666,
              "#ed7953"
             ],
             [
              0.7777777777777778,
              "#fb9f3a"
             ],
             [
              0.8888888888888888,
              "#fdca26"
             ],
             [
              1,
              "#f0f921"
             ]
            ],
            "type": "histogram2d"
           }
          ],
          "histogram2dcontour": [
           {
            "colorbar": {
             "outlinewidth": 0,
             "ticks": ""
            },
            "colorscale": [
             [
              0,
              "#0d0887"
             ],
             [
              0.1111111111111111,
              "#46039f"
             ],
             [
              0.2222222222222222,
              "#7201a8"
             ],
             [
              0.3333333333333333,
              "#9c179e"
             ],
             [
              0.4444444444444444,
              "#bd3786"
             ],
             [
              0.5555555555555556,
              "#d8576b"
             ],
             [
              0.6666666666666666,
              "#ed7953"
             ],
             [
              0.7777777777777778,
              "#fb9f3a"
             ],
             [
              0.8888888888888888,
              "#fdca26"
             ],
             [
              1,
              "#f0f921"
             ]
            ],
            "type": "histogram2dcontour"
           }
          ],
          "mesh3d": [
           {
            "colorbar": {
             "outlinewidth": 0,
             "ticks": ""
            },
            "type": "mesh3d"
           }
          ],
          "parcoords": [
           {
            "line": {
             "colorbar": {
              "outlinewidth": 0,
              "ticks": ""
             }
            },
            "type": "parcoords"
           }
          ],
          "pie": [
           {
            "automargin": true,
            "type": "pie"
           }
          ],
          "scatter": [
           {
            "marker": {
             "colorbar": {
              "outlinewidth": 0,
              "ticks": ""
             }
            },
            "type": "scatter"
           }
          ],
          "scatter3d": [
           {
            "line": {
             "colorbar": {
              "outlinewidth": 0,
              "ticks": ""
             }
            },
            "marker": {
             "colorbar": {
              "outlinewidth": 0,
              "ticks": ""
             }
            },
            "type": "scatter3d"
           }
          ],
          "scattercarpet": [
           {
            "marker": {
             "colorbar": {
              "outlinewidth": 0,
              "ticks": ""
             }
            },
            "type": "scattercarpet"
           }
          ],
          "scattergeo": [
           {
            "marker": {
             "colorbar": {
              "outlinewidth": 0,
              "ticks": ""
             }
            },
            "type": "scattergeo"
           }
          ],
          "scattergl": [
           {
            "marker": {
             "colorbar": {
              "outlinewidth": 0,
              "ticks": ""
             }
            },
            "type": "scattergl"
           }
          ],
          "scattermapbox": [
           {
            "marker": {
             "colorbar": {
              "outlinewidth": 0,
              "ticks": ""
             }
            },
            "type": "scattermapbox"
           }
          ],
          "scatterpolar": [
           {
            "marker": {
             "colorbar": {
              "outlinewidth": 0,
              "ticks": ""
             }
            },
            "type": "scatterpolar"
           }
          ],
          "scatterpolargl": [
           {
            "marker": {
             "colorbar": {
              "outlinewidth": 0,
              "ticks": ""
             }
            },
            "type": "scatterpolargl"
           }
          ],
          "scatterternary": [
           {
            "marker": {
             "colorbar": {
              "outlinewidth": 0,
              "ticks": ""
             }
            },
            "type": "scatterternary"
           }
          ],
          "surface": [
           {
            "colorbar": {
             "outlinewidth": 0,
             "ticks": ""
            },
            "colorscale": [
             [
              0,
              "#0d0887"
             ],
             [
              0.1111111111111111,
              "#46039f"
             ],
             [
              0.2222222222222222,
              "#7201a8"
             ],
             [
              0.3333333333333333,
              "#9c179e"
             ],
             [
              0.4444444444444444,
              "#bd3786"
             ],
             [
              0.5555555555555556,
              "#d8576b"
             ],
             [
              0.6666666666666666,
              "#ed7953"
             ],
             [
              0.7777777777777778,
              "#fb9f3a"
             ],
             [
              0.8888888888888888,
              "#fdca26"
             ],
             [
              1,
              "#f0f921"
             ]
            ],
            "type": "surface"
           }
          ],
          "table": [
           {
            "cells": {
             "fill": {
              "color": "#EBF0F8"
             },
             "line": {
              "color": "white"
             }
            },
            "header": {
             "fill": {
              "color": "#C8D4E3"
             },
             "line": {
              "color": "white"
             }
            },
            "type": "table"
           }
          ]
         },
         "layout": {
          "annotationdefaults": {
           "arrowcolor": "#2a3f5f",
           "arrowhead": 0,
           "arrowwidth": 1
          },
          "autotypenumbers": "strict",
          "coloraxis": {
           "colorbar": {
            "outlinewidth": 0,
            "ticks": ""
           }
          },
          "colorscale": {
           "diverging": [
            [
             0,
             "#8e0152"
            ],
            [
             0.1,
             "#c51b7d"
            ],
            [
             0.2,
             "#de77ae"
            ],
            [
             0.3,
             "#f1b6da"
            ],
            [
             0.4,
             "#fde0ef"
            ],
            [
             0.5,
             "#f7f7f7"
            ],
            [
             0.6,
             "#e6f5d0"
            ],
            [
             0.7,
             "#b8e186"
            ],
            [
             0.8,
             "#7fbc41"
            ],
            [
             0.9,
             "#4d9221"
            ],
            [
             1,
             "#276419"
            ]
           ],
           "sequential": [
            [
             0,
             "#0d0887"
            ],
            [
             0.1111111111111111,
             "#46039f"
            ],
            [
             0.2222222222222222,
             "#7201a8"
            ],
            [
             0.3333333333333333,
             "#9c179e"
            ],
            [
             0.4444444444444444,
             "#bd3786"
            ],
            [
             0.5555555555555556,
             "#d8576b"
            ],
            [
             0.6666666666666666,
             "#ed7953"
            ],
            [
             0.7777777777777778,
             "#fb9f3a"
            ],
            [
             0.8888888888888888,
             "#fdca26"
            ],
            [
             1,
             "#f0f921"
            ]
           ],
           "sequentialminus": [
            [
             0,
             "#0d0887"
            ],
            [
             0.1111111111111111,
             "#46039f"
            ],
            [
             0.2222222222222222,
             "#7201a8"
            ],
            [
             0.3333333333333333,
             "#9c179e"
            ],
            [
             0.4444444444444444,
             "#bd3786"
            ],
            [
             0.5555555555555556,
             "#d8576b"
            ],
            [
             0.6666666666666666,
             "#ed7953"
            ],
            [
             0.7777777777777778,
             "#fb9f3a"
            ],
            [
             0.8888888888888888,
             "#fdca26"
            ],
            [
             1,
             "#f0f921"
            ]
           ]
          },
          "colorway": [
           "#636efa",
           "#EF553B",
           "#00cc96",
           "#ab63fa",
           "#FFA15A",
           "#19d3f3",
           "#FF6692",
           "#B6E880",
           "#FF97FF",
           "#FECB52"
          ],
          "font": {
           "color": "#2a3f5f"
          },
          "geo": {
           "bgcolor": "white",
           "lakecolor": "white",
           "landcolor": "#E5ECF6",
           "showlakes": true,
           "showland": true,
           "subunitcolor": "white"
          },
          "hoverlabel": {
           "align": "left"
          },
          "hovermode": "closest",
          "mapbox": {
           "style": "light"
          },
          "paper_bgcolor": "white",
          "plot_bgcolor": "#E5ECF6",
          "polar": {
           "angularaxis": {
            "gridcolor": "white",
            "linecolor": "white",
            "ticks": ""
           },
           "bgcolor": "#E5ECF6",
           "radialaxis": {
            "gridcolor": "white",
            "linecolor": "white",
            "ticks": ""
           }
          },
          "scene": {
           "xaxis": {
            "backgroundcolor": "#E5ECF6",
            "gridcolor": "white",
            "gridwidth": 2,
            "linecolor": "white",
            "showbackground": true,
            "ticks": "",
            "zerolinecolor": "white"
           },
           "yaxis": {
            "backgroundcolor": "#E5ECF6",
            "gridcolor": "white",
            "gridwidth": 2,
            "linecolor": "white",
            "showbackground": true,
            "ticks": "",
            "zerolinecolor": "white"
           },
           "zaxis": {
            "backgroundcolor": "#E5ECF6",
            "gridcolor": "white",
            "gridwidth": 2,
            "linecolor": "white",
            "showbackground": true,
            "ticks": "",
            "zerolinecolor": "white"
           }
          },
          "shapedefaults": {
           "line": {
            "color": "#2a3f5f"
           }
          },
          "ternary": {
           "aaxis": {
            "gridcolor": "white",
            "linecolor": "white",
            "ticks": ""
           },
           "baxis": {
            "gridcolor": "white",
            "linecolor": "white",
            "ticks": ""
           },
           "bgcolor": "#E5ECF6",
           "caxis": {
            "gridcolor": "white",
            "linecolor": "white",
            "ticks": ""
           }
          },
          "title": {
           "x": 0.05
          },
          "xaxis": {
           "automargin": true,
           "gridcolor": "white",
           "linecolor": "white",
           "ticks": "",
           "title": {
            "standoff": 15
           },
           "zerolinecolor": "white",
           "zerolinewidth": 2
          },
          "yaxis": {
           "automargin": true,
           "gridcolor": "white",
           "linecolor": "white",
           "ticks": "",
           "title": {
            "standoff": 15
           },
           "zerolinecolor": "white",
           "zerolinewidth": 2
          }
         }
        },
        "title": {
         "font": {
          "color": "#4D5663"
         }
        },
        "xaxis": {
         "gridcolor": "#E1E5ED",
         "showgrid": true,
         "tickfont": {
          "color": "#4D5663"
         },
         "title": {
          "font": {
           "color": "#4D5663"
          },
          "text": ""
         },
         "zerolinecolor": "#E1E5ED"
        },
        "yaxis": {
         "gridcolor": "#E1E5ED",
         "showgrid": true,
         "tickfont": {
          "color": "#4D5663"
         },
         "title": {
          "font": {
           "color": "#4D5663"
          },
          "text": ""
         },
         "zerolinecolor": "#E1E5ED"
        }
       }
      },
      "text/html": [
       "<div>                            <div id=\"8095cdbf-52f2-42a7-bc9f-afab2b9d87bb\" class=\"plotly-graph-div\" style=\"height:525px; width:100%;\"></div>            <script type=\"text/javascript\">                require([\"plotly\"], function(Plotly) {                    window.PLOTLYENV=window.PLOTLYENV || {};\n",
       "                    window.PLOTLYENV.BASE_URL='https://plot.ly';                                    if (document.getElementById(\"8095cdbf-52f2-42a7-bc9f-afab2b9d87bb\")) {                    Plotly.newPlot(                        \"8095cdbf-52f2-42a7-bc9f-afab2b9d87bb\",                        [{\"boxpoints\": false, \"line\": {\"width\": 1.3}, \"marker\": {\"color\": \"rgba(255, 153, 51, 1.0)\"}, \"name\": \"A\", \"orientation\": \"v\", \"type\": \"box\", \"y\": [-0.7847662484388648, 0.5887290310128517, -0.5514071090214487, 0.08840812267345483, -0.957132276940948, -0.1747201870186245, -0.775383100878524, 0.4945756457748739, -0.45784395724355104, -0.7299542464491161, 2.120508885901264, -2.2347271889052647, -0.216174711781822, -2.846486640307819, -0.5216053610061037, 1.0601574186659917, -0.3979067592077603, 1.8802233263322539, 1.203817333279283, -0.8843606774688277, 1.03031872907569, -0.4257523627376736, 0.8729366328539484, 0.7015791574627109, -0.38686542056186624, 0.8413262603687331, 0.05399293108518775, 0.043179544666969855, -2.9220805766557323, 0.08340038015300334, 3.5137406018102793, 0.06710822950599729, -0.8317463668012348, 0.11787537086880737, -0.40091873975019443, -0.647274188279839, -1.2526617333340366, 0.06122457684630888, -0.1444120037528103, -0.7903713996915007, -0.1232958328995701, 1.026244203860463, 0.24784413058545027, 0.07654902167655836, 0.6316802536407472, -1.3413050172070276, -1.4416712533630667, -0.10415219238574984, 0.20676801944816472, -0.8887833483806576, -0.18089986860947765, -1.1791549223426931, 0.8841397805651795, 0.5430023355298771, -0.9259578970567877, 0.6119061006624439, 0.574018323672333, 1.3093577253163893, 0.5563033371402298, 1.8136943649705675, -0.6442541240275126, 2.0713926711402553, -1.0477806925379496, -1.2191288405576126, 0.46833740043259986, -0.2272374953217602, -0.48093633214803955, 0.9640139774346485, 0.2698896656277988, 0.08284925087705126, 0.4891500704201871, 0.740009758283557, -0.9394610595033338, 1.0125457768568211, -0.6380799097814033, -0.532143093193377, 0.7800276603962227, -0.6985563151031897, -0.9621143302322339, -0.6193184582765459, 0.9043920195398775, -1.4522395983454406, -0.4893232211608719, -0.2642170873783527, 0.8316859700169948, 1.2489509315576732, -0.405229252832221, -0.3993210218041567, 0.6301892319317067, -2.032615377066661, -0.2978316144783474, -0.7430723467788538, -0.05140898799930743, -1.6170545960302538, -0.04932390232689837, -0.8155700860817712, -1.7788024582795317, -1.6174420443715154, 0.11267862990631071, 1.2787293893763918]}, {\"boxpoints\": false, \"line\": {\"width\": 1.3}, \"marker\": {\"color\": \"rgba(55, 128, 191, 1.0)\"}, \"name\": \"B\", \"orientation\": \"v\", \"type\": \"box\", \"y\": [0.5572145425894736, -0.45504520577696367, 0.4397244784970589, -0.2763388377694911, -0.08571023954655589, -1.6755292215779456, -1.8334924719643624, -0.660543388652614, 0.7078090548539063, -0.30404582808658714, 0.7983154440193301, 0.6389687724326867, -1.8050197876858236, -0.4025794005207336, 0.3704656336659906, -0.747624783090879, -0.4392091376941933, -0.33047162205148, -0.1364354262968888, -0.8633476502974338, -0.16814011189850314, -1.4696332886345858, 0.1585322391907727, -2.418076999992624, 0.6622146788284973, 0.8721367999555061, -1.25976348157494, 1.8348088004628051, 0.47688346565844086, 0.14213908096085381, -1.8637299698264642, 0.18280931235672152, 1.2439722521750312, -0.3733871869316914, -2.1740967689550086, -0.15732638770451998, 0.0633022732022018, -0.7790326367796533, -0.24491703017219643, 0.5040191789600832, -0.9515995713121651, -0.8414065588473638, 0.5955986478906864, 0.7154922596789571, -0.0540021267028095, -0.045508513386948043, 0.6119646956030508, 1.1102705897798857, 0.19750938669276072, -1.0931085199143398, -0.6088374888059043, 0.879357016729816, -1.0545177862425543, -1.0615585452683487, -0.3395286389548686, 0.9167954596280192, 0.3056287217220758, 1.1897269806627724, -0.5785892939226185, 1.1882930981736926, -1.9453934420960646, 0.40404565925308905, -0.47793302435649154, 0.9554348023325204, -0.12910337890098902, -0.011338204028426009, -1.2864013072197011, 1.9501586903960613, 0.18449132473611274, -1.352778989230137, 0.8139484363174008, -0.282173902035499, 0.055616892028192616, 1.1233026493199727, -0.06175109687338001, 2.6230381340766007, -0.5766957704909688, -0.7597006964718782, -0.3769501067141862, -0.1760010222169406, 2.688186774678746, -2.3362883690467933, -0.00034980439845702736, -0.3079688557143545, -0.4116002100009419, 0.5599206118343988, 0.16222988523787568, -0.3746644731060114, 1.3783064233466986, -0.28963624409219874, 0.48917493779357635, 0.84254699744496, -0.16749916523803782, -0.44959956190182654, 0.5678994707214291, 0.05294747982035926, -0.5544304088936962, -0.41553679147877703, -1.9093260964550836, -0.11837954489758033]}, {\"boxpoints\": false, \"line\": {\"width\": 1.3}, \"marker\": {\"color\": \"rgba(50, 171, 96, 1.0)\"}, \"name\": \"C\", \"orientation\": \"v\", \"type\": \"box\", \"y\": [-0.8455490038100929, -0.48454338439593486, 0.02742728679775391, -1.321577142465884, 0.22034173887314507, -2.093631831489845, 1.6375593956971584, -1.1277801936235505, 0.3825700052350184, 1.8822973419146725, -0.39605151558761664, 0.02557761876486907, -0.4001338463321016, -0.5476109604279163, 1.0000540287182, 1.3809141250288433, 1.3559001306200087, -0.537461808418586, 1.9764025692250418, -0.5450285848233788, -0.8184105442459356, 0.9660172851223123, 0.04360607110929835, 0.6555413572469578, 0.6478938871416958, 0.8232634438410178, 0.360630010432651, -1.666274007640765, 1.2420290975760535, -0.427908886341726, 0.6953509714286061, 0.22873233028397466, 2.5809679815426256, -0.647901182200101, 1.161375338165576, 0.9335962221008012, 1.6328807925024402, -0.3374022029089827, -1.769585792875065, 0.7824251490555052, -0.45802641924446996, 0.5068791824566319, 0.5275133432840038, 0.9511672102602415, -0.7625223505564455, -2.410741386351486, -0.507924546178929, -1.4675375868347356, -0.27459017964509824, -0.03113635927484934, 0.7391712376475289, 0.2970522520979106, 2.4314459346924906, -1.1951128713298187, -0.12754852794758628, 0.3815298036628025, -0.27579117180706453, -1.1895175411507892, 0.4685399709554705, -0.5370305241661832, -0.01690455876988005, -0.3187115873922865, 0.5699447190004894, 0.542856573551537, 0.4170790196748748, 1.119691957283167, 0.48628227147625475, -0.35947513245747564, -0.756552382995433, -2.221532168108824, 0.6100525508901942, 1.0174467014168214, -0.5054489385179858, -0.358152743368648, -2.4109117440282226, 0.8132654839817042, -0.9469437587689875, -0.1966778287985121, 2.5269418651932893, -1.2597415003789403, 1.0758341992422267, -0.7069671472601676, -0.7806185238327553, -0.13686197245146764, 0.5951662456417477, 0.8120653119290981, -0.22037037970159096, 1.8292113959816145, -0.7655358365700549, -1.9760962864906375, -0.44449561619815775, -2.8920929220710625, -0.1533771025874444, 0.4240708871637344, 0.5940992720388655, -0.3215738488582108, -1.1603659418850012, -1.1820523847755509, -2.8783077551045917, -0.679565466604065]}, {\"boxpoints\": false, \"line\": {\"width\": 1.3}, \"marker\": {\"color\": \"rgba(128, 0, 128, 1.0)\"}, \"name\": \"D\", \"orientation\": \"v\", \"type\": \"box\", \"y\": [0.6723335848503301, 1.101801859179172, 0.7357435490315392, -1.2280625297956265, -0.44005532138364406, -0.16803502433740874, 0.17351548394524194, -0.10633243490621885, 0.7743910025386193, -1.4194451682443574, -0.10468995990216429, -1.0228073917500156, -1.5110864981774574, 0.46774634637526913, -0.029036546764236424, 2.257282303524755, -0.8534145035587284, -0.151571239746341, 0.05571582131259527, 0.7206600435884811, -0.11948099341997853, -0.04046681797066169, -2.1807707019167184, 1.9278107411174663, -0.34345869873683005, -0.8830041256269417, -0.30625062177685547, -0.9700713583349314, -0.6761901851859845, 2.0776298353366585, -0.6253688610172123, -3.4795102633333856, -0.49202318052004884, -0.6728050067233378, 0.443847461494667, 0.03756168972114086, 2.026266202989236, -1.2829151383801376, -0.8877238787364174, -0.8269487791154158, 0.8501296371411101, -0.4911038405418345, -0.4117073853202939, 0.4508464892954036, -0.8011710991782471, 0.23456400954708972, 1.21979461080376, 0.2705423336947931, -1.3749472636666433, -1.6443155450305198, -0.5901230324312452, -2.601359374010863, 0.006956209350416803, 0.35144868243848426, -0.5922937276979022, -0.415220928358183, -1.1478057759321942, 0.240849997002987, 0.39133678982290127, 0.2812337799478269, -0.6061286804849573, 0.6040571617321238, -0.65902589422123, 0.5803167796163067, -2.0540546419731345, 0.6805207680795181, 0.18160651808373954, -0.5703572679097334, -0.05714329407579369, -0.40012661552664086, 0.13796214865742956, 1.0912609384875758, -0.5356081456092818, -0.26873089340455436, -0.4614811846134316, -0.09699149677595723, 1.6269235472311914, 0.21715869422828132, 2.2500908709008414, 0.943691136337086, 0.2853156660825992, 0.4646533381244412, -1.4264389756739138, -0.6198502359995962, 0.5971836768817488, -0.25558068329428535, 0.9978931730834676, -0.4116200673653917, -0.6004733877734261, -2.407506367171087, -1.7368375573647012, -0.3682387015220804, -2.377384140524957, 1.018779544514356, -0.3335752771203218, 0.16240182735686323, -1.2189955901752059, -0.7814894449663207, -0.5443515871725954, -0.7259076273739898]}],                        {\"legend\": {\"bgcolor\": \"#F5F6F9\", \"font\": {\"color\": \"#4D5663\"}}, \"paper_bgcolor\": \"#F5F6F9\", \"plot_bgcolor\": \"#F5F6F9\", \"template\": {\"data\": {\"bar\": [{\"error_x\": {\"color\": \"#2a3f5f\"}, \"error_y\": {\"color\": \"#2a3f5f\"}, \"marker\": {\"line\": {\"color\": \"#E5ECF6\", \"width\": 0.5}}, \"type\": \"bar\"}], \"barpolar\": [{\"marker\": {\"line\": {\"color\": \"#E5ECF6\", \"width\": 0.5}}, \"type\": \"barpolar\"}], \"carpet\": [{\"aaxis\": {\"endlinecolor\": \"#2a3f5f\", \"gridcolor\": \"white\", \"linecolor\": \"white\", \"minorgridcolor\": \"white\", \"startlinecolor\": \"#2a3f5f\"}, \"baxis\": {\"endlinecolor\": \"#2a3f5f\", \"gridcolor\": \"white\", \"linecolor\": \"white\", \"minorgridcolor\": \"white\", \"startlinecolor\": \"#2a3f5f\"}, \"type\": \"carpet\"}], \"choropleth\": [{\"colorbar\": {\"outlinewidth\": 0, \"ticks\": \"\"}, \"type\": \"choropleth\"}], \"contour\": [{\"colorbar\": {\"outlinewidth\": 0, \"ticks\": \"\"}, \"colorscale\": [[0.0, \"#0d0887\"], [0.1111111111111111, \"#46039f\"], [0.2222222222222222, \"#7201a8\"], [0.3333333333333333, \"#9c179e\"], [0.4444444444444444, \"#bd3786\"], [0.5555555555555556, \"#d8576b\"], [0.6666666666666666, \"#ed7953\"], [0.7777777777777778, \"#fb9f3a\"], [0.8888888888888888, \"#fdca26\"], [1.0, \"#f0f921\"]], \"type\": \"contour\"}], \"contourcarpet\": [{\"colorbar\": {\"outlinewidth\": 0, \"ticks\": \"\"}, \"type\": \"contourcarpet\"}], \"heatmap\": [{\"colorbar\": {\"outlinewidth\": 0, \"ticks\": \"\"}, \"colorscale\": [[0.0, \"#0d0887\"], [0.1111111111111111, \"#46039f\"], [0.2222222222222222, \"#7201a8\"], [0.3333333333333333, \"#9c179e\"], [0.4444444444444444, \"#bd3786\"], [0.5555555555555556, \"#d8576b\"], [0.6666666666666666, \"#ed7953\"], [0.7777777777777778, \"#fb9f3a\"], [0.8888888888888888, \"#fdca26\"], [1.0, \"#f0f921\"]], \"type\": \"heatmap\"}], \"heatmapgl\": [{\"colorbar\": {\"outlinewidth\": 0, \"ticks\": \"\"}, \"colorscale\": [[0.0, \"#0d0887\"], [0.1111111111111111, \"#46039f\"], [0.2222222222222222, \"#7201a8\"], [0.3333333333333333, \"#9c179e\"], [0.4444444444444444, \"#bd3786\"], [0.5555555555555556, \"#d8576b\"], [0.6666666666666666, \"#ed7953\"], [0.7777777777777778, \"#fb9f3a\"], [0.8888888888888888, \"#fdca26\"], [1.0, \"#f0f921\"]], \"type\": \"heatmapgl\"}], \"histogram\": [{\"marker\": {\"colorbar\": {\"outlinewidth\": 0, \"ticks\": \"\"}}, \"type\": \"histogram\"}], \"histogram2d\": [{\"colorbar\": {\"outlinewidth\": 0, \"ticks\": \"\"}, \"colorscale\": [[0.0, \"#0d0887\"], [0.1111111111111111, \"#46039f\"], [0.2222222222222222, \"#7201a8\"], [0.3333333333333333, \"#9c179e\"], [0.4444444444444444, \"#bd3786\"], [0.5555555555555556, \"#d8576b\"], [0.6666666666666666, \"#ed7953\"], [0.7777777777777778, \"#fb9f3a\"], [0.8888888888888888, \"#fdca26\"], [1.0, \"#f0f921\"]], \"type\": \"histogram2d\"}], \"histogram2dcontour\": [{\"colorbar\": {\"outlinewidth\": 0, \"ticks\": \"\"}, \"colorscale\": [[0.0, \"#0d0887\"], [0.1111111111111111, \"#46039f\"], [0.2222222222222222, \"#7201a8\"], [0.3333333333333333, \"#9c179e\"], [0.4444444444444444, \"#bd3786\"], [0.5555555555555556, \"#d8576b\"], [0.6666666666666666, \"#ed7953\"], [0.7777777777777778, \"#fb9f3a\"], [0.8888888888888888, \"#fdca26\"], [1.0, \"#f0f921\"]], \"type\": \"histogram2dcontour\"}], \"mesh3d\": [{\"colorbar\": {\"outlinewidth\": 0, \"ticks\": \"\"}, \"type\": \"mesh3d\"}], \"parcoords\": [{\"line\": {\"colorbar\": {\"outlinewidth\": 0, \"ticks\": \"\"}}, \"type\": \"parcoords\"}], \"pie\": [{\"automargin\": true, \"type\": \"pie\"}], \"scatter\": [{\"marker\": {\"colorbar\": {\"outlinewidth\": 0, \"ticks\": \"\"}}, \"type\": \"scatter\"}], \"scatter3d\": [{\"line\": {\"colorbar\": {\"outlinewidth\": 0, \"ticks\": \"\"}}, \"marker\": {\"colorbar\": {\"outlinewidth\": 0, \"ticks\": \"\"}}, \"type\": \"scatter3d\"}], \"scattercarpet\": [{\"marker\": {\"colorbar\": {\"outlinewidth\": 0, \"ticks\": \"\"}}, \"type\": \"scattercarpet\"}], \"scattergeo\": [{\"marker\": {\"colorbar\": {\"outlinewidth\": 0, \"ticks\": \"\"}}, \"type\": \"scattergeo\"}], \"scattergl\": [{\"marker\": {\"colorbar\": {\"outlinewidth\": 0, \"ticks\": \"\"}}, \"type\": \"scattergl\"}], \"scattermapbox\": [{\"marker\": {\"colorbar\": {\"outlinewidth\": 0, \"ticks\": \"\"}}, \"type\": \"scattermapbox\"}], \"scatterpolar\": [{\"marker\": {\"colorbar\": {\"outlinewidth\": 0, \"ticks\": \"\"}}, \"type\": \"scatterpolar\"}], \"scatterpolargl\": [{\"marker\": {\"colorbar\": {\"outlinewidth\": 0, \"ticks\": \"\"}}, \"type\": \"scatterpolargl\"}], \"scatterternary\": [{\"marker\": {\"colorbar\": {\"outlinewidth\": 0, \"ticks\": \"\"}}, \"type\": \"scatterternary\"}], \"surface\": [{\"colorbar\": {\"outlinewidth\": 0, \"ticks\": \"\"}, \"colorscale\": [[0.0, \"#0d0887\"], [0.1111111111111111, \"#46039f\"], [0.2222222222222222, \"#7201a8\"], [0.3333333333333333, \"#9c179e\"], [0.4444444444444444, \"#bd3786\"], [0.5555555555555556, \"#d8576b\"], [0.6666666666666666, \"#ed7953\"], [0.7777777777777778, \"#fb9f3a\"], [0.8888888888888888, \"#fdca26\"], [1.0, \"#f0f921\"]], \"type\": \"surface\"}], \"table\": [{\"cells\": {\"fill\": {\"color\": \"#EBF0F8\"}, \"line\": {\"color\": \"white\"}}, \"header\": {\"fill\": {\"color\": \"#C8D4E3\"}, \"line\": {\"color\": \"white\"}}, \"type\": \"table\"}]}, \"layout\": {\"annotationdefaults\": {\"arrowcolor\": \"#2a3f5f\", \"arrowhead\": 0, \"arrowwidth\": 1}, \"autotypenumbers\": \"strict\", \"coloraxis\": {\"colorbar\": {\"outlinewidth\": 0, \"ticks\": \"\"}}, \"colorscale\": {\"diverging\": [[0, \"#8e0152\"], [0.1, \"#c51b7d\"], [0.2, \"#de77ae\"], [0.3, \"#f1b6da\"], [0.4, \"#fde0ef\"], [0.5, \"#f7f7f7\"], [0.6, \"#e6f5d0\"], [0.7, \"#b8e186\"], [0.8, \"#7fbc41\"], [0.9, \"#4d9221\"], [1, \"#276419\"]], \"sequential\": [[0.0, \"#0d0887\"], [0.1111111111111111, \"#46039f\"], [0.2222222222222222, \"#7201a8\"], [0.3333333333333333, \"#9c179e\"], [0.4444444444444444, \"#bd3786\"], [0.5555555555555556, \"#d8576b\"], [0.6666666666666666, \"#ed7953\"], [0.7777777777777778, \"#fb9f3a\"], [0.8888888888888888, \"#fdca26\"], [1.0, \"#f0f921\"]], \"sequentialminus\": [[0.0, \"#0d0887\"], [0.1111111111111111, \"#46039f\"], [0.2222222222222222, \"#7201a8\"], [0.3333333333333333, \"#9c179e\"], [0.4444444444444444, \"#bd3786\"], [0.5555555555555556, \"#d8576b\"], [0.6666666666666666, \"#ed7953\"], [0.7777777777777778, \"#fb9f3a\"], [0.8888888888888888, \"#fdca26\"], [1.0, \"#f0f921\"]]}, \"colorway\": [\"#636efa\", \"#EF553B\", \"#00cc96\", \"#ab63fa\", \"#FFA15A\", \"#19d3f3\", \"#FF6692\", \"#B6E880\", \"#FF97FF\", \"#FECB52\"], \"font\": {\"color\": \"#2a3f5f\"}, \"geo\": {\"bgcolor\": \"white\", \"lakecolor\": \"white\", \"landcolor\": \"#E5ECF6\", \"showlakes\": true, \"showland\": true, \"subunitcolor\": \"white\"}, \"hoverlabel\": {\"align\": \"left\"}, \"hovermode\": \"closest\", \"mapbox\": {\"style\": \"light\"}, \"paper_bgcolor\": \"white\", \"plot_bgcolor\": \"#E5ECF6\", \"polar\": {\"angularaxis\": {\"gridcolor\": \"white\", \"linecolor\": \"white\", \"ticks\": \"\"}, \"bgcolor\": \"#E5ECF6\", \"radialaxis\": {\"gridcolor\": \"white\", \"linecolor\": \"white\", \"ticks\": \"\"}}, \"scene\": {\"xaxis\": {\"backgroundcolor\": \"#E5ECF6\", \"gridcolor\": \"white\", \"gridwidth\": 2, \"linecolor\": \"white\", \"showbackground\": true, \"ticks\": \"\", \"zerolinecolor\": \"white\"}, \"yaxis\": {\"backgroundcolor\": \"#E5ECF6\", \"gridcolor\": \"white\", \"gridwidth\": 2, \"linecolor\": \"white\", \"showbackground\": true, \"ticks\": \"\", \"zerolinecolor\": \"white\"}, \"zaxis\": {\"backgroundcolor\": \"#E5ECF6\", \"gridcolor\": \"white\", \"gridwidth\": 2, \"linecolor\": \"white\", \"showbackground\": true, \"ticks\": \"\", \"zerolinecolor\": \"white\"}}, \"shapedefaults\": {\"line\": {\"color\": \"#2a3f5f\"}}, \"ternary\": {\"aaxis\": {\"gridcolor\": \"white\", \"linecolor\": \"white\", \"ticks\": \"\"}, \"baxis\": {\"gridcolor\": \"white\", \"linecolor\": \"white\", \"ticks\": \"\"}, \"bgcolor\": \"#E5ECF6\", \"caxis\": {\"gridcolor\": \"white\", \"linecolor\": \"white\", \"ticks\": \"\"}}, \"title\": {\"x\": 0.05}, \"xaxis\": {\"automargin\": true, \"gridcolor\": \"white\", \"linecolor\": \"white\", \"ticks\": \"\", \"title\": {\"standoff\": 15}, \"zerolinecolor\": \"white\", \"zerolinewidth\": 2}, \"yaxis\": {\"automargin\": true, \"gridcolor\": \"white\", \"linecolor\": \"white\", \"ticks\": \"\", \"title\": {\"standoff\": 15}, \"zerolinecolor\": \"white\", \"zerolinewidth\": 2}}}, \"title\": {\"font\": {\"color\": \"#4D5663\"}}, \"xaxis\": {\"gridcolor\": \"#E1E5ED\", \"showgrid\": true, \"tickfont\": {\"color\": \"#4D5663\"}, \"title\": {\"font\": {\"color\": \"#4D5663\"}, \"text\": \"\"}, \"zerolinecolor\": \"#E1E5ED\"}, \"yaxis\": {\"gridcolor\": \"#E1E5ED\", \"showgrid\": true, \"tickfont\": {\"color\": \"#4D5663\"}, \"title\": {\"font\": {\"color\": \"#4D5663\"}, \"text\": \"\"}, \"zerolinecolor\": \"#E1E5ED\"}},                        {\"showLink\": true, \"linkText\": \"Export to plot.ly\", \"plotlyServerURL\": \"https://plot.ly\", \"responsive\": true}                    ).then(function(){\n",
       "                            \n",
       "var gd = document.getElementById('8095cdbf-52f2-42a7-bc9f-afab2b9d87bb');\n",
       "var x = new MutationObserver(function (mutations, observer) {{\n",
       "        var display = window.getComputedStyle(gd).display;\n",
       "        if (!display || display === 'none') {{\n",
       "            console.log([gd, 'removed!']);\n",
       "            Plotly.purge(gd);\n",
       "            observer.disconnect();\n",
       "        }}\n",
       "}});\n",
       "\n",
       "// Listen for the removal of the full notebook cells\n",
       "var notebookContainer = gd.closest('#notebook-container');\n",
       "if (notebookContainer) {{\n",
       "    x.observe(notebookContainer, {childList: true});\n",
       "}}\n",
       "\n",
       "// Listen for the clearing of the current output cell\n",
       "var outputEl = gd.closest('.output');\n",
       "if (outputEl) {{\n",
       "    x.observe(outputEl, {childList: true});\n",
       "}}\n",
       "\n",
       "                        })                };                });            </script>        </div>"
      ]
     },
     "metadata": {},
     "output_type": "display_data"
    }
   ],
   "source": [
    "df.iplot(kind='box')"
   ]
  },
  {
   "cell_type": "markdown",
   "metadata": {},
   "source": [
    "## Superficie 3D"
   ]
  },
  {
   "cell_type": "code",
   "execution_count": 35,
   "metadata": {},
   "outputs": [
    {
     "data": {
      "application/vnd.plotly.v1+json": {
       "config": {
        "linkText": "Export to plot.ly",
        "plotlyServerURL": "https://plot.ly",
        "showLink": true
       },
       "data": [
        {
         "colorscale": [
          [
           0,
           "rgb(165,0,38)"
          ],
          [
           0.1,
           "rgb(215,48,39)"
          ],
          [
           0.2,
           "rgb(244,109,67)"
          ],
          [
           0.3,
           "rgb(253,174,97)"
          ],
          [
           0.4,
           "rgb(254,224,144)"
          ],
          [
           0.5,
           "rgb(255,255,191)"
          ],
          [
           0.6,
           "rgb(224,243,248)"
          ],
          [
           0.7,
           "rgb(171,217,233)"
          ],
          [
           0.8,
           "rgb(116,173,209)"
          ],
          [
           0.9,
           "rgb(69,117,180)"
          ],
          [
           1,
           "rgb(49,54,149)"
          ]
         ],
         "type": "surface",
         "x": [
          0,
          1,
          2,
          3,
          4
         ],
         "y": [
          "x",
          "y",
          "z"
         ],
         "z": [
          [
           1,
           2,
           3,
           4,
           5
          ],
          [
           10,
           20,
           30,
           20,
           10
          ],
          [
           5,
           4,
           3,
           2,
           1
          ]
         ]
        }
       ],
       "layout": {
        "legend": {
         "bgcolor": "#F5F6F9",
         "font": {
          "color": "#4D5663"
         }
        },
        "paper_bgcolor": "#F5F6F9",
        "plot_bgcolor": "#F5F6F9",
        "template": {
         "data": {
          "bar": [
           {
            "error_x": {
             "color": "#2a3f5f"
            },
            "error_y": {
             "color": "#2a3f5f"
            },
            "marker": {
             "line": {
              "color": "#E5ECF6",
              "width": 0.5
             }
            },
            "type": "bar"
           }
          ],
          "barpolar": [
           {
            "marker": {
             "line": {
              "color": "#E5ECF6",
              "width": 0.5
             }
            },
            "type": "barpolar"
           }
          ],
          "carpet": [
           {
            "aaxis": {
             "endlinecolor": "#2a3f5f",
             "gridcolor": "white",
             "linecolor": "white",
             "minorgridcolor": "white",
             "startlinecolor": "#2a3f5f"
            },
            "baxis": {
             "endlinecolor": "#2a3f5f",
             "gridcolor": "white",
             "linecolor": "white",
             "minorgridcolor": "white",
             "startlinecolor": "#2a3f5f"
            },
            "type": "carpet"
           }
          ],
          "choropleth": [
           {
            "colorbar": {
             "outlinewidth": 0,
             "ticks": ""
            },
            "type": "choropleth"
           }
          ],
          "contour": [
           {
            "colorbar": {
             "outlinewidth": 0,
             "ticks": ""
            },
            "colorscale": [
             [
              0,
              "#0d0887"
             ],
             [
              0.1111111111111111,
              "#46039f"
             ],
             [
              0.2222222222222222,
              "#7201a8"
             ],
             [
              0.3333333333333333,
              "#9c179e"
             ],
             [
              0.4444444444444444,
              "#bd3786"
             ],
             [
              0.5555555555555556,
              "#d8576b"
             ],
             [
              0.6666666666666666,
              "#ed7953"
             ],
             [
              0.7777777777777778,
              "#fb9f3a"
             ],
             [
              0.8888888888888888,
              "#fdca26"
             ],
             [
              1,
              "#f0f921"
             ]
            ],
            "type": "contour"
           }
          ],
          "contourcarpet": [
           {
            "colorbar": {
             "outlinewidth": 0,
             "ticks": ""
            },
            "type": "contourcarpet"
           }
          ],
          "heatmap": [
           {
            "colorbar": {
             "outlinewidth": 0,
             "ticks": ""
            },
            "colorscale": [
             [
              0,
              "#0d0887"
             ],
             [
              0.1111111111111111,
              "#46039f"
             ],
             [
              0.2222222222222222,
              "#7201a8"
             ],
             [
              0.3333333333333333,
              "#9c179e"
             ],
             [
              0.4444444444444444,
              "#bd3786"
             ],
             [
              0.5555555555555556,
              "#d8576b"
             ],
             [
              0.6666666666666666,
              "#ed7953"
             ],
             [
              0.7777777777777778,
              "#fb9f3a"
             ],
             [
              0.8888888888888888,
              "#fdca26"
             ],
             [
              1,
              "#f0f921"
             ]
            ],
            "type": "heatmap"
           }
          ],
          "heatmapgl": [
           {
            "colorbar": {
             "outlinewidth": 0,
             "ticks": ""
            },
            "colorscale": [
             [
              0,
              "#0d0887"
             ],
             [
              0.1111111111111111,
              "#46039f"
             ],
             [
              0.2222222222222222,
              "#7201a8"
             ],
             [
              0.3333333333333333,
              "#9c179e"
             ],
             [
              0.4444444444444444,
              "#bd3786"
             ],
             [
              0.5555555555555556,
              "#d8576b"
             ],
             [
              0.6666666666666666,
              "#ed7953"
             ],
             [
              0.7777777777777778,
              "#fb9f3a"
             ],
             [
              0.8888888888888888,
              "#fdca26"
             ],
             [
              1,
              "#f0f921"
             ]
            ],
            "type": "heatmapgl"
           }
          ],
          "histogram": [
           {
            "marker": {
             "colorbar": {
              "outlinewidth": 0,
              "ticks": ""
             }
            },
            "type": "histogram"
           }
          ],
          "histogram2d": [
           {
            "colorbar": {
             "outlinewidth": 0,
             "ticks": ""
            },
            "colorscale": [
             [
              0,
              "#0d0887"
             ],
             [
              0.1111111111111111,
              "#46039f"
             ],
             [
              0.2222222222222222,
              "#7201a8"
             ],
             [
              0.3333333333333333,
              "#9c179e"
             ],
             [
              0.4444444444444444,
              "#bd3786"
             ],
             [
              0.5555555555555556,
              "#d8576b"
             ],
             [
              0.6666666666666666,
              "#ed7953"
             ],
             [
              0.7777777777777778,
              "#fb9f3a"
             ],
             [
              0.8888888888888888,
              "#fdca26"
             ],
             [
              1,
              "#f0f921"
             ]
            ],
            "type": "histogram2d"
           }
          ],
          "histogram2dcontour": [
           {
            "colorbar": {
             "outlinewidth": 0,
             "ticks": ""
            },
            "colorscale": [
             [
              0,
              "#0d0887"
             ],
             [
              0.1111111111111111,
              "#46039f"
             ],
             [
              0.2222222222222222,
              "#7201a8"
             ],
             [
              0.3333333333333333,
              "#9c179e"
             ],
             [
              0.4444444444444444,
              "#bd3786"
             ],
             [
              0.5555555555555556,
              "#d8576b"
             ],
             [
              0.6666666666666666,
              "#ed7953"
             ],
             [
              0.7777777777777778,
              "#fb9f3a"
             ],
             [
              0.8888888888888888,
              "#fdca26"
             ],
             [
              1,
              "#f0f921"
             ]
            ],
            "type": "histogram2dcontour"
           }
          ],
          "mesh3d": [
           {
            "colorbar": {
             "outlinewidth": 0,
             "ticks": ""
            },
            "type": "mesh3d"
           }
          ],
          "parcoords": [
           {
            "line": {
             "colorbar": {
              "outlinewidth": 0,
              "ticks": ""
             }
            },
            "type": "parcoords"
           }
          ],
          "pie": [
           {
            "automargin": true,
            "type": "pie"
           }
          ],
          "scatter": [
           {
            "marker": {
             "colorbar": {
              "outlinewidth": 0,
              "ticks": ""
             }
            },
            "type": "scatter"
           }
          ],
          "scatter3d": [
           {
            "line": {
             "colorbar": {
              "outlinewidth": 0,
              "ticks": ""
             }
            },
            "marker": {
             "colorbar": {
              "outlinewidth": 0,
              "ticks": ""
             }
            },
            "type": "scatter3d"
           }
          ],
          "scattercarpet": [
           {
            "marker": {
             "colorbar": {
              "outlinewidth": 0,
              "ticks": ""
             }
            },
            "type": "scattercarpet"
           }
          ],
          "scattergeo": [
           {
            "marker": {
             "colorbar": {
              "outlinewidth": 0,
              "ticks": ""
             }
            },
            "type": "scattergeo"
           }
          ],
          "scattergl": [
           {
            "marker": {
             "colorbar": {
              "outlinewidth": 0,
              "ticks": ""
             }
            },
            "type": "scattergl"
           }
          ],
          "scattermapbox": [
           {
            "marker": {
             "colorbar": {
              "outlinewidth": 0,
              "ticks": ""
             }
            },
            "type": "scattermapbox"
           }
          ],
          "scatterpolar": [
           {
            "marker": {
             "colorbar": {
              "outlinewidth": 0,
              "ticks": ""
             }
            },
            "type": "scatterpolar"
           }
          ],
          "scatterpolargl": [
           {
            "marker": {
             "colorbar": {
              "outlinewidth": 0,
              "ticks": ""
             }
            },
            "type": "scatterpolargl"
           }
          ],
          "scatterternary": [
           {
            "marker": {
             "colorbar": {
              "outlinewidth": 0,
              "ticks": ""
             }
            },
            "type": "scatterternary"
           }
          ],
          "surface": [
           {
            "colorbar": {
             "outlinewidth": 0,
             "ticks": ""
            },
            "colorscale": [
             [
              0,
              "#0d0887"
             ],
             [
              0.1111111111111111,
              "#46039f"
             ],
             [
              0.2222222222222222,
              "#7201a8"
             ],
             [
              0.3333333333333333,
              "#9c179e"
             ],
             [
              0.4444444444444444,
              "#bd3786"
             ],
             [
              0.5555555555555556,
              "#d8576b"
             ],
             [
              0.6666666666666666,
              "#ed7953"
             ],
             [
              0.7777777777777778,
              "#fb9f3a"
             ],
             [
              0.8888888888888888,
              "#fdca26"
             ],
             [
              1,
              "#f0f921"
             ]
            ],
            "type": "surface"
           }
          ],
          "table": [
           {
            "cells": {
             "fill": {
              "color": "#EBF0F8"
             },
             "line": {
              "color": "white"
             }
            },
            "header": {
             "fill": {
              "color": "#C8D4E3"
             },
             "line": {
              "color": "white"
             }
            },
            "type": "table"
           }
          ]
         },
         "layout": {
          "annotationdefaults": {
           "arrowcolor": "#2a3f5f",
           "arrowhead": 0,
           "arrowwidth": 1
          },
          "autotypenumbers": "strict",
          "coloraxis": {
           "colorbar": {
            "outlinewidth": 0,
            "ticks": ""
           }
          },
          "colorscale": {
           "diverging": [
            [
             0,
             "#8e0152"
            ],
            [
             0.1,
             "#c51b7d"
            ],
            [
             0.2,
             "#de77ae"
            ],
            [
             0.3,
             "#f1b6da"
            ],
            [
             0.4,
             "#fde0ef"
            ],
            [
             0.5,
             "#f7f7f7"
            ],
            [
             0.6,
             "#e6f5d0"
            ],
            [
             0.7,
             "#b8e186"
            ],
            [
             0.8,
             "#7fbc41"
            ],
            [
             0.9,
             "#4d9221"
            ],
            [
             1,
             "#276419"
            ]
           ],
           "sequential": [
            [
             0,
             "#0d0887"
            ],
            [
             0.1111111111111111,
             "#46039f"
            ],
            [
             0.2222222222222222,
             "#7201a8"
            ],
            [
             0.3333333333333333,
             "#9c179e"
            ],
            [
             0.4444444444444444,
             "#bd3786"
            ],
            [
             0.5555555555555556,
             "#d8576b"
            ],
            [
             0.6666666666666666,
             "#ed7953"
            ],
            [
             0.7777777777777778,
             "#fb9f3a"
            ],
            [
             0.8888888888888888,
             "#fdca26"
            ],
            [
             1,
             "#f0f921"
            ]
           ],
           "sequentialminus": [
            [
             0,
             "#0d0887"
            ],
            [
             0.1111111111111111,
             "#46039f"
            ],
            [
             0.2222222222222222,
             "#7201a8"
            ],
            [
             0.3333333333333333,
             "#9c179e"
            ],
            [
             0.4444444444444444,
             "#bd3786"
            ],
            [
             0.5555555555555556,
             "#d8576b"
            ],
            [
             0.6666666666666666,
             "#ed7953"
            ],
            [
             0.7777777777777778,
             "#fb9f3a"
            ],
            [
             0.8888888888888888,
             "#fdca26"
            ],
            [
             1,
             "#f0f921"
            ]
           ]
          },
          "colorway": [
           "#636efa",
           "#EF553B",
           "#00cc96",
           "#ab63fa",
           "#FFA15A",
           "#19d3f3",
           "#FF6692",
           "#B6E880",
           "#FF97FF",
           "#FECB52"
          ],
          "font": {
           "color": "#2a3f5f"
          },
          "geo": {
           "bgcolor": "white",
           "lakecolor": "white",
           "landcolor": "#E5ECF6",
           "showlakes": true,
           "showland": true,
           "subunitcolor": "white"
          },
          "hoverlabel": {
           "align": "left"
          },
          "hovermode": "closest",
          "mapbox": {
           "style": "light"
          },
          "paper_bgcolor": "white",
          "plot_bgcolor": "#E5ECF6",
          "polar": {
           "angularaxis": {
            "gridcolor": "white",
            "linecolor": "white",
            "ticks": ""
           },
           "bgcolor": "#E5ECF6",
           "radialaxis": {
            "gridcolor": "white",
            "linecolor": "white",
            "ticks": ""
           }
          },
          "scene": {
           "xaxis": {
            "backgroundcolor": "#E5ECF6",
            "gridcolor": "white",
            "gridwidth": 2,
            "linecolor": "white",
            "showbackground": true,
            "ticks": "",
            "zerolinecolor": "white"
           },
           "yaxis": {
            "backgroundcolor": "#E5ECF6",
            "gridcolor": "white",
            "gridwidth": 2,
            "linecolor": "white",
            "showbackground": true,
            "ticks": "",
            "zerolinecolor": "white"
           },
           "zaxis": {
            "backgroundcolor": "#E5ECF6",
            "gridcolor": "white",
            "gridwidth": 2,
            "linecolor": "white",
            "showbackground": true,
            "ticks": "",
            "zerolinecolor": "white"
           }
          },
          "shapedefaults": {
           "line": {
            "color": "#2a3f5f"
           }
          },
          "ternary": {
           "aaxis": {
            "gridcolor": "white",
            "linecolor": "white",
            "ticks": ""
           },
           "baxis": {
            "gridcolor": "white",
            "linecolor": "white",
            "ticks": ""
           },
           "bgcolor": "#E5ECF6",
           "caxis": {
            "gridcolor": "white",
            "linecolor": "white",
            "ticks": ""
           }
          },
          "title": {
           "x": 0.05
          },
          "xaxis": {
           "automargin": true,
           "gridcolor": "white",
           "linecolor": "white",
           "ticks": "",
           "title": {
            "standoff": 15
           },
           "zerolinecolor": "white",
           "zerolinewidth": 2
          },
          "yaxis": {
           "automargin": true,
           "gridcolor": "white",
           "linecolor": "white",
           "ticks": "",
           "title": {
            "standoff": 15
           },
           "zerolinecolor": "white",
           "zerolinewidth": 2
          }
         }
        },
        "title": {
         "font": {
          "color": "#4D5663"
         }
        },
        "xaxis": {
         "gridcolor": "#E1E5ED",
         "showgrid": true,
         "tickfont": {
          "color": "#4D5663"
         },
         "title": {
          "font": {
           "color": "#4D5663"
          },
          "text": ""
         },
         "zerolinecolor": "#E1E5ED"
        },
        "yaxis": {
         "gridcolor": "#E1E5ED",
         "showgrid": true,
         "tickfont": {
          "color": "#4D5663"
         },
         "title": {
          "font": {
           "color": "#4D5663"
          },
          "text": ""
         },
         "zerolinecolor": "#E1E5ED"
        }
       }
      },
      "text/html": [
       "<div>                            <div id=\"9802900c-0a29-48d2-bbbd-700ab8dddc5e\" class=\"plotly-graph-div\" style=\"height:525px; width:100%;\"></div>            <script type=\"text/javascript\">                require([\"plotly\"], function(Plotly) {                    window.PLOTLYENV=window.PLOTLYENV || {};\n",
       "                    window.PLOTLYENV.BASE_URL='https://plot.ly';                                    if (document.getElementById(\"9802900c-0a29-48d2-bbbd-700ab8dddc5e\")) {                    Plotly.newPlot(                        \"9802900c-0a29-48d2-bbbd-700ab8dddc5e\",                        [{\"colorscale\": [[0.0, \"rgb(165,0,38)\"], [0.1, \"rgb(215,48,39)\"], [0.2, \"rgb(244,109,67)\"], [0.3, \"rgb(253,174,97)\"], [0.4, \"rgb(254,224,144)\"], [0.5, \"rgb(255,255,191)\"], [0.6, \"rgb(224,243,248)\"], [0.7, \"rgb(171,217,233)\"], [0.8, \"rgb(116,173,209)\"], [0.9, \"rgb(69,117,180)\"], [1.0, \"rgb(49,54,149)\"]], \"type\": \"surface\", \"x\": [0, 1, 2, 3, 4], \"y\": [\"x\", \"y\", \"z\"], \"z\": [[1, 2, 3, 4, 5], [10, 20, 30, 20, 10], [5, 4, 3, 2, 1]]}],                        {\"legend\": {\"bgcolor\": \"#F5F6F9\", \"font\": {\"color\": \"#4D5663\"}}, \"paper_bgcolor\": \"#F5F6F9\", \"plot_bgcolor\": \"#F5F6F9\", \"template\": {\"data\": {\"bar\": [{\"error_x\": {\"color\": \"#2a3f5f\"}, \"error_y\": {\"color\": \"#2a3f5f\"}, \"marker\": {\"line\": {\"color\": \"#E5ECF6\", \"width\": 0.5}}, \"type\": \"bar\"}], \"barpolar\": [{\"marker\": {\"line\": {\"color\": \"#E5ECF6\", \"width\": 0.5}}, \"type\": \"barpolar\"}], \"carpet\": [{\"aaxis\": {\"endlinecolor\": \"#2a3f5f\", \"gridcolor\": \"white\", \"linecolor\": \"white\", \"minorgridcolor\": \"white\", \"startlinecolor\": \"#2a3f5f\"}, \"baxis\": {\"endlinecolor\": \"#2a3f5f\", \"gridcolor\": \"white\", \"linecolor\": \"white\", \"minorgridcolor\": \"white\", \"startlinecolor\": \"#2a3f5f\"}, \"type\": \"carpet\"}], \"choropleth\": [{\"colorbar\": {\"outlinewidth\": 0, \"ticks\": \"\"}, \"type\": \"choropleth\"}], \"contour\": [{\"colorbar\": {\"outlinewidth\": 0, \"ticks\": \"\"}, \"colorscale\": [[0.0, \"#0d0887\"], [0.1111111111111111, \"#46039f\"], [0.2222222222222222, \"#7201a8\"], [0.3333333333333333, \"#9c179e\"], [0.4444444444444444, \"#bd3786\"], [0.5555555555555556, \"#d8576b\"], [0.6666666666666666, \"#ed7953\"], [0.7777777777777778, \"#fb9f3a\"], [0.8888888888888888, \"#fdca26\"], [1.0, \"#f0f921\"]], \"type\": \"contour\"}], \"contourcarpet\": [{\"colorbar\": {\"outlinewidth\": 0, \"ticks\": \"\"}, \"type\": \"contourcarpet\"}], \"heatmap\": [{\"colorbar\": {\"outlinewidth\": 0, \"ticks\": \"\"}, \"colorscale\": [[0.0, \"#0d0887\"], [0.1111111111111111, \"#46039f\"], [0.2222222222222222, \"#7201a8\"], [0.3333333333333333, \"#9c179e\"], [0.4444444444444444, \"#bd3786\"], [0.5555555555555556, \"#d8576b\"], [0.6666666666666666, \"#ed7953\"], [0.7777777777777778, \"#fb9f3a\"], [0.8888888888888888, \"#fdca26\"], [1.0, \"#f0f921\"]], \"type\": \"heatmap\"}], \"heatmapgl\": [{\"colorbar\": {\"outlinewidth\": 0, \"ticks\": \"\"}, \"colorscale\": [[0.0, \"#0d0887\"], [0.1111111111111111, \"#46039f\"], [0.2222222222222222, \"#7201a8\"], [0.3333333333333333, \"#9c179e\"], [0.4444444444444444, \"#bd3786\"], [0.5555555555555556, \"#d8576b\"], [0.6666666666666666, \"#ed7953\"], [0.7777777777777778, \"#fb9f3a\"], [0.8888888888888888, \"#fdca26\"], [1.0, \"#f0f921\"]], \"type\": \"heatmapgl\"}], \"histogram\": [{\"marker\": {\"colorbar\": {\"outlinewidth\": 0, \"ticks\": \"\"}}, \"type\": \"histogram\"}], \"histogram2d\": [{\"colorbar\": {\"outlinewidth\": 0, \"ticks\": \"\"}, \"colorscale\": [[0.0, \"#0d0887\"], [0.1111111111111111, \"#46039f\"], [0.2222222222222222, \"#7201a8\"], [0.3333333333333333, \"#9c179e\"], [0.4444444444444444, \"#bd3786\"], [0.5555555555555556, \"#d8576b\"], [0.6666666666666666, \"#ed7953\"], [0.7777777777777778, \"#fb9f3a\"], [0.8888888888888888, \"#fdca26\"], [1.0, \"#f0f921\"]], \"type\": \"histogram2d\"}], \"histogram2dcontour\": [{\"colorbar\": {\"outlinewidth\": 0, \"ticks\": \"\"}, \"colorscale\": [[0.0, \"#0d0887\"], [0.1111111111111111, \"#46039f\"], [0.2222222222222222, \"#7201a8\"], [0.3333333333333333, \"#9c179e\"], [0.4444444444444444, \"#bd3786\"], [0.5555555555555556, \"#d8576b\"], [0.6666666666666666, \"#ed7953\"], [0.7777777777777778, \"#fb9f3a\"], [0.8888888888888888, \"#fdca26\"], [1.0, \"#f0f921\"]], \"type\": \"histogram2dcontour\"}], \"mesh3d\": [{\"colorbar\": {\"outlinewidth\": 0, \"ticks\": \"\"}, \"type\": \"mesh3d\"}], \"parcoords\": [{\"line\": {\"colorbar\": {\"outlinewidth\": 0, \"ticks\": \"\"}}, \"type\": \"parcoords\"}], \"pie\": [{\"automargin\": true, \"type\": \"pie\"}], \"scatter\": [{\"marker\": {\"colorbar\": {\"outlinewidth\": 0, \"ticks\": \"\"}}, \"type\": \"scatter\"}], \"scatter3d\": [{\"line\": {\"colorbar\": {\"outlinewidth\": 0, \"ticks\": \"\"}}, \"marker\": {\"colorbar\": {\"outlinewidth\": 0, \"ticks\": \"\"}}, \"type\": \"scatter3d\"}], \"scattercarpet\": [{\"marker\": {\"colorbar\": {\"outlinewidth\": 0, \"ticks\": \"\"}}, \"type\": \"scattercarpet\"}], \"scattergeo\": [{\"marker\": {\"colorbar\": {\"outlinewidth\": 0, \"ticks\": \"\"}}, \"type\": \"scattergeo\"}], \"scattergl\": [{\"marker\": {\"colorbar\": {\"outlinewidth\": 0, \"ticks\": \"\"}}, \"type\": \"scattergl\"}], \"scattermapbox\": [{\"marker\": {\"colorbar\": {\"outlinewidth\": 0, \"ticks\": \"\"}}, \"type\": \"scattermapbox\"}], \"scatterpolar\": [{\"marker\": {\"colorbar\": {\"outlinewidth\": 0, \"ticks\": \"\"}}, \"type\": \"scatterpolar\"}], \"scatterpolargl\": [{\"marker\": {\"colorbar\": {\"outlinewidth\": 0, \"ticks\": \"\"}}, \"type\": \"scatterpolargl\"}], \"scatterternary\": [{\"marker\": {\"colorbar\": {\"outlinewidth\": 0, \"ticks\": \"\"}}, \"type\": \"scatterternary\"}], \"surface\": [{\"colorbar\": {\"outlinewidth\": 0, \"ticks\": \"\"}, \"colorscale\": [[0.0, \"#0d0887\"], [0.1111111111111111, \"#46039f\"], [0.2222222222222222, \"#7201a8\"], [0.3333333333333333, \"#9c179e\"], [0.4444444444444444, \"#bd3786\"], [0.5555555555555556, \"#d8576b\"], [0.6666666666666666, \"#ed7953\"], [0.7777777777777778, \"#fb9f3a\"], [0.8888888888888888, \"#fdca26\"], [1.0, \"#f0f921\"]], \"type\": \"surface\"}], \"table\": [{\"cells\": {\"fill\": {\"color\": \"#EBF0F8\"}, \"line\": {\"color\": \"white\"}}, \"header\": {\"fill\": {\"color\": \"#C8D4E3\"}, \"line\": {\"color\": \"white\"}}, \"type\": \"table\"}]}, \"layout\": {\"annotationdefaults\": {\"arrowcolor\": \"#2a3f5f\", \"arrowhead\": 0, \"arrowwidth\": 1}, \"autotypenumbers\": \"strict\", \"coloraxis\": {\"colorbar\": {\"outlinewidth\": 0, \"ticks\": \"\"}}, \"colorscale\": {\"diverging\": [[0, \"#8e0152\"], [0.1, \"#c51b7d\"], [0.2, \"#de77ae\"], [0.3, \"#f1b6da\"], [0.4, \"#fde0ef\"], [0.5, \"#f7f7f7\"], [0.6, \"#e6f5d0\"], [0.7, \"#b8e186\"], [0.8, \"#7fbc41\"], [0.9, \"#4d9221\"], [1, \"#276419\"]], \"sequential\": [[0.0, \"#0d0887\"], [0.1111111111111111, \"#46039f\"], [0.2222222222222222, \"#7201a8\"], [0.3333333333333333, \"#9c179e\"], [0.4444444444444444, \"#bd3786\"], [0.5555555555555556, \"#d8576b\"], [0.6666666666666666, \"#ed7953\"], [0.7777777777777778, \"#fb9f3a\"], [0.8888888888888888, \"#fdca26\"], [1.0, \"#f0f921\"]], \"sequentialminus\": [[0.0, \"#0d0887\"], [0.1111111111111111, \"#46039f\"], [0.2222222222222222, \"#7201a8\"], [0.3333333333333333, \"#9c179e\"], [0.4444444444444444, \"#bd3786\"], [0.5555555555555556, \"#d8576b\"], [0.6666666666666666, \"#ed7953\"], [0.7777777777777778, \"#fb9f3a\"], [0.8888888888888888, \"#fdca26\"], [1.0, \"#f0f921\"]]}, \"colorway\": [\"#636efa\", \"#EF553B\", \"#00cc96\", \"#ab63fa\", \"#FFA15A\", \"#19d3f3\", \"#FF6692\", \"#B6E880\", \"#FF97FF\", \"#FECB52\"], \"font\": {\"color\": \"#2a3f5f\"}, \"geo\": {\"bgcolor\": \"white\", \"lakecolor\": \"white\", \"landcolor\": \"#E5ECF6\", \"showlakes\": true, \"showland\": true, \"subunitcolor\": \"white\"}, \"hoverlabel\": {\"align\": \"left\"}, \"hovermode\": \"closest\", \"mapbox\": {\"style\": \"light\"}, \"paper_bgcolor\": \"white\", \"plot_bgcolor\": \"#E5ECF6\", \"polar\": {\"angularaxis\": {\"gridcolor\": \"white\", \"linecolor\": \"white\", \"ticks\": \"\"}, \"bgcolor\": \"#E5ECF6\", \"radialaxis\": {\"gridcolor\": \"white\", \"linecolor\": \"white\", \"ticks\": \"\"}}, \"scene\": {\"xaxis\": {\"backgroundcolor\": \"#E5ECF6\", \"gridcolor\": \"white\", \"gridwidth\": 2, \"linecolor\": \"white\", \"showbackground\": true, \"ticks\": \"\", \"zerolinecolor\": \"white\"}, \"yaxis\": {\"backgroundcolor\": \"#E5ECF6\", \"gridcolor\": \"white\", \"gridwidth\": 2, \"linecolor\": \"white\", \"showbackground\": true, \"ticks\": \"\", \"zerolinecolor\": \"white\"}, \"zaxis\": {\"backgroundcolor\": \"#E5ECF6\", \"gridcolor\": \"white\", \"gridwidth\": 2, \"linecolor\": \"white\", \"showbackground\": true, \"ticks\": \"\", \"zerolinecolor\": \"white\"}}, \"shapedefaults\": {\"line\": {\"color\": \"#2a3f5f\"}}, \"ternary\": {\"aaxis\": {\"gridcolor\": \"white\", \"linecolor\": \"white\", \"ticks\": \"\"}, \"baxis\": {\"gridcolor\": \"white\", \"linecolor\": \"white\", \"ticks\": \"\"}, \"bgcolor\": \"#E5ECF6\", \"caxis\": {\"gridcolor\": \"white\", \"linecolor\": \"white\", \"ticks\": \"\"}}, \"title\": {\"x\": 0.05}, \"xaxis\": {\"automargin\": true, \"gridcolor\": \"white\", \"linecolor\": \"white\", \"ticks\": \"\", \"title\": {\"standoff\": 15}, \"zerolinecolor\": \"white\", \"zerolinewidth\": 2}, \"yaxis\": {\"automargin\": true, \"gridcolor\": \"white\", \"linecolor\": \"white\", \"ticks\": \"\", \"title\": {\"standoff\": 15}, \"zerolinecolor\": \"white\", \"zerolinewidth\": 2}}}, \"title\": {\"font\": {\"color\": \"#4D5663\"}}, \"xaxis\": {\"gridcolor\": \"#E1E5ED\", \"showgrid\": true, \"tickfont\": {\"color\": \"#4D5663\"}, \"title\": {\"font\": {\"color\": \"#4D5663\"}, \"text\": \"\"}, \"zerolinecolor\": \"#E1E5ED\"}, \"yaxis\": {\"gridcolor\": \"#E1E5ED\", \"showgrid\": true, \"tickfont\": {\"color\": \"#4D5663\"}, \"title\": {\"font\": {\"color\": \"#4D5663\"}, \"text\": \"\"}, \"zerolinecolor\": \"#E1E5ED\"}},                        {\"showLink\": true, \"linkText\": \"Export to plot.ly\", \"plotlyServerURL\": \"https://plot.ly\", \"responsive\": true}                    ).then(function(){\n",
       "                            \n",
       "var gd = document.getElementById('9802900c-0a29-48d2-bbbd-700ab8dddc5e');\n",
       "var x = new MutationObserver(function (mutations, observer) {{\n",
       "        var display = window.getComputedStyle(gd).display;\n",
       "        if (!display || display === 'none') {{\n",
       "            console.log([gd, 'removed!']);\n",
       "            Plotly.purge(gd);\n",
       "            observer.disconnect();\n",
       "        }}\n",
       "}});\n",
       "\n",
       "// Listen for the removal of the full notebook cells\n",
       "var notebookContainer = gd.closest('#notebook-container');\n",
       "if (notebookContainer) {{\n",
       "    x.observe(notebookContainer, {childList: true});\n",
       "}}\n",
       "\n",
       "// Listen for the clearing of the current output cell\n",
       "var outputEl = gd.closest('.output');\n",
       "if (outputEl) {{\n",
       "    x.observe(outputEl, {childList: true});\n",
       "}}\n",
       "\n",
       "                        })                };                });            </script>        </div>"
      ]
     },
     "metadata": {},
     "output_type": "display_data"
    }
   ],
   "source": [
    "df3 = pd.DataFrame({'x':[1,2,3,4,5],'y':[10,20,30,20,10],'z':[5,4,3,2,1]})\n",
    "df3.iplot(kind='surface',colorscale='rdylbu')"
   ]
  },
  {
   "cell_type": "markdown",
   "metadata": {},
   "source": [
    "## histogram"
   ]
  },
  {
   "cell_type": "code",
   "execution_count": 37,
   "metadata": {},
   "outputs": [
    {
     "data": {
      "application/vnd.plotly.v1+json": {
       "config": {
        "linkText": "Export to plot.ly",
        "plotlyServerURL": "https://plot.ly",
        "showLink": true
       },
       "data": [
        {
         "histfunc": "count",
         "histnorm": "",
         "marker": {
          "color": "rgba(255, 153, 51, 1.0)",
          "line": {
           "color": "#4D5663",
           "width": 1.3
          }
         },
         "name": "A",
         "nbinsx": 25,
         "opacity": 0.8,
         "orientation": "v",
         "type": "histogram",
         "x": [
          -0.7847662484388648,
          0.5887290310128517,
          -0.5514071090214487,
          0.08840812267345483,
          -0.957132276940948,
          -0.1747201870186245,
          -0.775383100878524,
          0.4945756457748739,
          -0.45784395724355104,
          -0.7299542464491161,
          2.120508885901264,
          -2.2347271889052647,
          -0.216174711781822,
          -2.846486640307819,
          -0.5216053610061037,
          1.0601574186659917,
          -0.3979067592077603,
          1.8802233263322539,
          1.203817333279283,
          -0.8843606774688277,
          1.03031872907569,
          -0.4257523627376736,
          0.8729366328539484,
          0.7015791574627109,
          -0.38686542056186624,
          0.8413262603687331,
          0.05399293108518775,
          0.043179544666969855,
          -2.9220805766557323,
          0.08340038015300334,
          3.5137406018102793,
          0.06710822950599729,
          -0.8317463668012348,
          0.11787537086880737,
          -0.40091873975019443,
          -0.647274188279839,
          -1.2526617333340366,
          0.06122457684630888,
          -0.1444120037528103,
          -0.7903713996915007,
          -0.1232958328995701,
          1.026244203860463,
          0.24784413058545027,
          0.07654902167655836,
          0.6316802536407472,
          -1.3413050172070276,
          -1.4416712533630667,
          -0.10415219238574984,
          0.20676801944816472,
          -0.8887833483806576,
          -0.18089986860947765,
          -1.1791549223426931,
          0.8841397805651795,
          0.5430023355298771,
          -0.9259578970567877,
          0.6119061006624439,
          0.574018323672333,
          1.3093577253163893,
          0.5563033371402298,
          1.8136943649705675,
          -0.6442541240275126,
          2.0713926711402553,
          -1.0477806925379496,
          -1.2191288405576126,
          0.46833740043259986,
          -0.2272374953217602,
          -0.48093633214803955,
          0.9640139774346485,
          0.2698896656277988,
          0.08284925087705126,
          0.4891500704201871,
          0.740009758283557,
          -0.9394610595033338,
          1.0125457768568211,
          -0.6380799097814033,
          -0.532143093193377,
          0.7800276603962227,
          -0.6985563151031897,
          -0.9621143302322339,
          -0.6193184582765459,
          0.9043920195398775,
          -1.4522395983454406,
          -0.4893232211608719,
          -0.2642170873783527,
          0.8316859700169948,
          1.2489509315576732,
          -0.405229252832221,
          -0.3993210218041567,
          0.6301892319317067,
          -2.032615377066661,
          -0.2978316144783474,
          -0.7430723467788538,
          -0.05140898799930743,
          -1.6170545960302538,
          -0.04932390232689837,
          -0.8155700860817712,
          -1.7788024582795317,
          -1.6174420443715154,
          0.11267862990631071,
          1.2787293893763918
         ]
        }
       ],
       "layout": {
        "barmode": "overlay",
        "legend": {
         "bgcolor": "#F5F6F9",
         "font": {
          "color": "#4D5663"
         }
        },
        "paper_bgcolor": "#F5F6F9",
        "plot_bgcolor": "#F5F6F9",
        "template": {
         "data": {
          "bar": [
           {
            "error_x": {
             "color": "#2a3f5f"
            },
            "error_y": {
             "color": "#2a3f5f"
            },
            "marker": {
             "line": {
              "color": "#E5ECF6",
              "width": 0.5
             }
            },
            "type": "bar"
           }
          ],
          "barpolar": [
           {
            "marker": {
             "line": {
              "color": "#E5ECF6",
              "width": 0.5
             }
            },
            "type": "barpolar"
           }
          ],
          "carpet": [
           {
            "aaxis": {
             "endlinecolor": "#2a3f5f",
             "gridcolor": "white",
             "linecolor": "white",
             "minorgridcolor": "white",
             "startlinecolor": "#2a3f5f"
            },
            "baxis": {
             "endlinecolor": "#2a3f5f",
             "gridcolor": "white",
             "linecolor": "white",
             "minorgridcolor": "white",
             "startlinecolor": "#2a3f5f"
            },
            "type": "carpet"
           }
          ],
          "choropleth": [
           {
            "colorbar": {
             "outlinewidth": 0,
             "ticks": ""
            },
            "type": "choropleth"
           }
          ],
          "contour": [
           {
            "colorbar": {
             "outlinewidth": 0,
             "ticks": ""
            },
            "colorscale": [
             [
              0,
              "#0d0887"
             ],
             [
              0.1111111111111111,
              "#46039f"
             ],
             [
              0.2222222222222222,
              "#7201a8"
             ],
             [
              0.3333333333333333,
              "#9c179e"
             ],
             [
              0.4444444444444444,
              "#bd3786"
             ],
             [
              0.5555555555555556,
              "#d8576b"
             ],
             [
              0.6666666666666666,
              "#ed7953"
             ],
             [
              0.7777777777777778,
              "#fb9f3a"
             ],
             [
              0.8888888888888888,
              "#fdca26"
             ],
             [
              1,
              "#f0f921"
             ]
            ],
            "type": "contour"
           }
          ],
          "contourcarpet": [
           {
            "colorbar": {
             "outlinewidth": 0,
             "ticks": ""
            },
            "type": "contourcarpet"
           }
          ],
          "heatmap": [
           {
            "colorbar": {
             "outlinewidth": 0,
             "ticks": ""
            },
            "colorscale": [
             [
              0,
              "#0d0887"
             ],
             [
              0.1111111111111111,
              "#46039f"
             ],
             [
              0.2222222222222222,
              "#7201a8"
             ],
             [
              0.3333333333333333,
              "#9c179e"
             ],
             [
              0.4444444444444444,
              "#bd3786"
             ],
             [
              0.5555555555555556,
              "#d8576b"
             ],
             [
              0.6666666666666666,
              "#ed7953"
             ],
             [
              0.7777777777777778,
              "#fb9f3a"
             ],
             [
              0.8888888888888888,
              "#fdca26"
             ],
             [
              1,
              "#f0f921"
             ]
            ],
            "type": "heatmap"
           }
          ],
          "heatmapgl": [
           {
            "colorbar": {
             "outlinewidth": 0,
             "ticks": ""
            },
            "colorscale": [
             [
              0,
              "#0d0887"
             ],
             [
              0.1111111111111111,
              "#46039f"
             ],
             [
              0.2222222222222222,
              "#7201a8"
             ],
             [
              0.3333333333333333,
              "#9c179e"
             ],
             [
              0.4444444444444444,
              "#bd3786"
             ],
             [
              0.5555555555555556,
              "#d8576b"
             ],
             [
              0.6666666666666666,
              "#ed7953"
             ],
             [
              0.7777777777777778,
              "#fb9f3a"
             ],
             [
              0.8888888888888888,
              "#fdca26"
             ],
             [
              1,
              "#f0f921"
             ]
            ],
            "type": "heatmapgl"
           }
          ],
          "histogram": [
           {
            "marker": {
             "colorbar": {
              "outlinewidth": 0,
              "ticks": ""
             }
            },
            "type": "histogram"
           }
          ],
          "histogram2d": [
           {
            "colorbar": {
             "outlinewidth": 0,
             "ticks": ""
            },
            "colorscale": [
             [
              0,
              "#0d0887"
             ],
             [
              0.1111111111111111,
              "#46039f"
             ],
             [
              0.2222222222222222,
              "#7201a8"
             ],
             [
              0.3333333333333333,
              "#9c179e"
             ],
             [
              0.4444444444444444,
              "#bd3786"
             ],
             [
              0.5555555555555556,
              "#d8576b"
             ],
             [
              0.6666666666666666,
              "#ed7953"
             ],
             [
              0.7777777777777778,
              "#fb9f3a"
             ],
             [
              0.8888888888888888,
              "#fdca26"
             ],
             [
              1,
              "#f0f921"
             ]
            ],
            "type": "histogram2d"
           }
          ],
          "histogram2dcontour": [
           {
            "colorbar": {
             "outlinewidth": 0,
             "ticks": ""
            },
            "colorscale": [
             [
              0,
              "#0d0887"
             ],
             [
              0.1111111111111111,
              "#46039f"
             ],
             [
              0.2222222222222222,
              "#7201a8"
             ],
             [
              0.3333333333333333,
              "#9c179e"
             ],
             [
              0.4444444444444444,
              "#bd3786"
             ],
             [
              0.5555555555555556,
              "#d8576b"
             ],
             [
              0.6666666666666666,
              "#ed7953"
             ],
             [
              0.7777777777777778,
              "#fb9f3a"
             ],
             [
              0.8888888888888888,
              "#fdca26"
             ],
             [
              1,
              "#f0f921"
             ]
            ],
            "type": "histogram2dcontour"
           }
          ],
          "mesh3d": [
           {
            "colorbar": {
             "outlinewidth": 0,
             "ticks": ""
            },
            "type": "mesh3d"
           }
          ],
          "parcoords": [
           {
            "line": {
             "colorbar": {
              "outlinewidth": 0,
              "ticks": ""
             }
            },
            "type": "parcoords"
           }
          ],
          "pie": [
           {
            "automargin": true,
            "type": "pie"
           }
          ],
          "scatter": [
           {
            "marker": {
             "colorbar": {
              "outlinewidth": 0,
              "ticks": ""
             }
            },
            "type": "scatter"
           }
          ],
          "scatter3d": [
           {
            "line": {
             "colorbar": {
              "outlinewidth": 0,
              "ticks": ""
             }
            },
            "marker": {
             "colorbar": {
              "outlinewidth": 0,
              "ticks": ""
             }
            },
            "type": "scatter3d"
           }
          ],
          "scattercarpet": [
           {
            "marker": {
             "colorbar": {
              "outlinewidth": 0,
              "ticks": ""
             }
            },
            "type": "scattercarpet"
           }
          ],
          "scattergeo": [
           {
            "marker": {
             "colorbar": {
              "outlinewidth": 0,
              "ticks": ""
             }
            },
            "type": "scattergeo"
           }
          ],
          "scattergl": [
           {
            "marker": {
             "colorbar": {
              "outlinewidth": 0,
              "ticks": ""
             }
            },
            "type": "scattergl"
           }
          ],
          "scattermapbox": [
           {
            "marker": {
             "colorbar": {
              "outlinewidth": 0,
              "ticks": ""
             }
            },
            "type": "scattermapbox"
           }
          ],
          "scatterpolar": [
           {
            "marker": {
             "colorbar": {
              "outlinewidth": 0,
              "ticks": ""
             }
            },
            "type": "scatterpolar"
           }
          ],
          "scatterpolargl": [
           {
            "marker": {
             "colorbar": {
              "outlinewidth": 0,
              "ticks": ""
             }
            },
            "type": "scatterpolargl"
           }
          ],
          "scatterternary": [
           {
            "marker": {
             "colorbar": {
              "outlinewidth": 0,
              "ticks": ""
             }
            },
            "type": "scatterternary"
           }
          ],
          "surface": [
           {
            "colorbar": {
             "outlinewidth": 0,
             "ticks": ""
            },
            "colorscale": [
             [
              0,
              "#0d0887"
             ],
             [
              0.1111111111111111,
              "#46039f"
             ],
             [
              0.2222222222222222,
              "#7201a8"
             ],
             [
              0.3333333333333333,
              "#9c179e"
             ],
             [
              0.4444444444444444,
              "#bd3786"
             ],
             [
              0.5555555555555556,
              "#d8576b"
             ],
             [
              0.6666666666666666,
              "#ed7953"
             ],
             [
              0.7777777777777778,
              "#fb9f3a"
             ],
             [
              0.8888888888888888,
              "#fdca26"
             ],
             [
              1,
              "#f0f921"
             ]
            ],
            "type": "surface"
           }
          ],
          "table": [
           {
            "cells": {
             "fill": {
              "color": "#EBF0F8"
             },
             "line": {
              "color": "white"
             }
            },
            "header": {
             "fill": {
              "color": "#C8D4E3"
             },
             "line": {
              "color": "white"
             }
            },
            "type": "table"
           }
          ]
         },
         "layout": {
          "annotationdefaults": {
           "arrowcolor": "#2a3f5f",
           "arrowhead": 0,
           "arrowwidth": 1
          },
          "autotypenumbers": "strict",
          "coloraxis": {
           "colorbar": {
            "outlinewidth": 0,
            "ticks": ""
           }
          },
          "colorscale": {
           "diverging": [
            [
             0,
             "#8e0152"
            ],
            [
             0.1,
             "#c51b7d"
            ],
            [
             0.2,
             "#de77ae"
            ],
            [
             0.3,
             "#f1b6da"
            ],
            [
             0.4,
             "#fde0ef"
            ],
            [
             0.5,
             "#f7f7f7"
            ],
            [
             0.6,
             "#e6f5d0"
            ],
            [
             0.7,
             "#b8e186"
            ],
            [
             0.8,
             "#7fbc41"
            ],
            [
             0.9,
             "#4d9221"
            ],
            [
             1,
             "#276419"
            ]
           ],
           "sequential": [
            [
             0,
             "#0d0887"
            ],
            [
             0.1111111111111111,
             "#46039f"
            ],
            [
             0.2222222222222222,
             "#7201a8"
            ],
            [
             0.3333333333333333,
             "#9c179e"
            ],
            [
             0.4444444444444444,
             "#bd3786"
            ],
            [
             0.5555555555555556,
             "#d8576b"
            ],
            [
             0.6666666666666666,
             "#ed7953"
            ],
            [
             0.7777777777777778,
             "#fb9f3a"
            ],
            [
             0.8888888888888888,
             "#fdca26"
            ],
            [
             1,
             "#f0f921"
            ]
           ],
           "sequentialminus": [
            [
             0,
             "#0d0887"
            ],
            [
             0.1111111111111111,
             "#46039f"
            ],
            [
             0.2222222222222222,
             "#7201a8"
            ],
            [
             0.3333333333333333,
             "#9c179e"
            ],
            [
             0.4444444444444444,
             "#bd3786"
            ],
            [
             0.5555555555555556,
             "#d8576b"
            ],
            [
             0.6666666666666666,
             "#ed7953"
            ],
            [
             0.7777777777777778,
             "#fb9f3a"
            ],
            [
             0.8888888888888888,
             "#fdca26"
            ],
            [
             1,
             "#f0f921"
            ]
           ]
          },
          "colorway": [
           "#636efa",
           "#EF553B",
           "#00cc96",
           "#ab63fa",
           "#FFA15A",
           "#19d3f3",
           "#FF6692",
           "#B6E880",
           "#FF97FF",
           "#FECB52"
          ],
          "font": {
           "color": "#2a3f5f"
          },
          "geo": {
           "bgcolor": "white",
           "lakecolor": "white",
           "landcolor": "#E5ECF6",
           "showlakes": true,
           "showland": true,
           "subunitcolor": "white"
          },
          "hoverlabel": {
           "align": "left"
          },
          "hovermode": "closest",
          "mapbox": {
           "style": "light"
          },
          "paper_bgcolor": "white",
          "plot_bgcolor": "#E5ECF6",
          "polar": {
           "angularaxis": {
            "gridcolor": "white",
            "linecolor": "white",
            "ticks": ""
           },
           "bgcolor": "#E5ECF6",
           "radialaxis": {
            "gridcolor": "white",
            "linecolor": "white",
            "ticks": ""
           }
          },
          "scene": {
           "xaxis": {
            "backgroundcolor": "#E5ECF6",
            "gridcolor": "white",
            "gridwidth": 2,
            "linecolor": "white",
            "showbackground": true,
            "ticks": "",
            "zerolinecolor": "white"
           },
           "yaxis": {
            "backgroundcolor": "#E5ECF6",
            "gridcolor": "white",
            "gridwidth": 2,
            "linecolor": "white",
            "showbackground": true,
            "ticks": "",
            "zerolinecolor": "white"
           },
           "zaxis": {
            "backgroundcolor": "#E5ECF6",
            "gridcolor": "white",
            "gridwidth": 2,
            "linecolor": "white",
            "showbackground": true,
            "ticks": "",
            "zerolinecolor": "white"
           }
          },
          "shapedefaults": {
           "line": {
            "color": "#2a3f5f"
           }
          },
          "ternary": {
           "aaxis": {
            "gridcolor": "white",
            "linecolor": "white",
            "ticks": ""
           },
           "baxis": {
            "gridcolor": "white",
            "linecolor": "white",
            "ticks": ""
           },
           "bgcolor": "#E5ECF6",
           "caxis": {
            "gridcolor": "white",
            "linecolor": "white",
            "ticks": ""
           }
          },
          "title": {
           "x": 0.05
          },
          "xaxis": {
           "automargin": true,
           "gridcolor": "white",
           "linecolor": "white",
           "ticks": "",
           "title": {
            "standoff": 15
           },
           "zerolinecolor": "white",
           "zerolinewidth": 2
          },
          "yaxis": {
           "automargin": true,
           "gridcolor": "white",
           "linecolor": "white",
           "ticks": "",
           "title": {
            "standoff": 15
           },
           "zerolinecolor": "white",
           "zerolinewidth": 2
          }
         }
        },
        "title": {
         "font": {
          "color": "#4D5663"
         }
        },
        "xaxis": {
         "gridcolor": "#E1E5ED",
         "showgrid": true,
         "tickfont": {
          "color": "#4D5663"
         },
         "title": {
          "font": {
           "color": "#4D5663"
          },
          "text": ""
         },
         "zerolinecolor": "#E1E5ED"
        },
        "yaxis": {
         "gridcolor": "#E1E5ED",
         "showgrid": true,
         "tickfont": {
          "color": "#4D5663"
         },
         "title": {
          "font": {
           "color": "#4D5663"
          },
          "text": ""
         },
         "zerolinecolor": "#E1E5ED"
        }
       }
      },
      "text/html": [
       "<div>                            <div id=\"1e103547-8368-4070-91ff-d848be6d4e92\" class=\"plotly-graph-div\" style=\"height:525px; width:100%;\"></div>            <script type=\"text/javascript\">                require([\"plotly\"], function(Plotly) {                    window.PLOTLYENV=window.PLOTLYENV || {};\n",
       "                    window.PLOTLYENV.BASE_URL='https://plot.ly';                                    if (document.getElementById(\"1e103547-8368-4070-91ff-d848be6d4e92\")) {                    Plotly.newPlot(                        \"1e103547-8368-4070-91ff-d848be6d4e92\",                        [{\"histfunc\": \"count\", \"histnorm\": \"\", \"marker\": {\"color\": \"rgba(255, 153, 51, 1.0)\", \"line\": {\"color\": \"#4D5663\", \"width\": 1.3}}, \"name\": \"A\", \"nbinsx\": 25, \"opacity\": 0.8, \"orientation\": \"v\", \"type\": \"histogram\", \"x\": [-0.7847662484388648, 0.5887290310128517, -0.5514071090214487, 0.08840812267345483, -0.957132276940948, -0.1747201870186245, -0.775383100878524, 0.4945756457748739, -0.45784395724355104, -0.7299542464491161, 2.120508885901264, -2.2347271889052647, -0.216174711781822, -2.846486640307819, -0.5216053610061037, 1.0601574186659917, -0.3979067592077603, 1.8802233263322539, 1.203817333279283, -0.8843606774688277, 1.03031872907569, -0.4257523627376736, 0.8729366328539484, 0.7015791574627109, -0.38686542056186624, 0.8413262603687331, 0.05399293108518775, 0.043179544666969855, -2.9220805766557323, 0.08340038015300334, 3.5137406018102793, 0.06710822950599729, -0.8317463668012348, 0.11787537086880737, -0.40091873975019443, -0.647274188279839, -1.2526617333340366, 0.06122457684630888, -0.1444120037528103, -0.7903713996915007, -0.1232958328995701, 1.026244203860463, 0.24784413058545027, 0.07654902167655836, 0.6316802536407472, -1.3413050172070276, -1.4416712533630667, -0.10415219238574984, 0.20676801944816472, -0.8887833483806576, -0.18089986860947765, -1.1791549223426931, 0.8841397805651795, 0.5430023355298771, -0.9259578970567877, 0.6119061006624439, 0.574018323672333, 1.3093577253163893, 0.5563033371402298, 1.8136943649705675, -0.6442541240275126, 2.0713926711402553, -1.0477806925379496, -1.2191288405576126, 0.46833740043259986, -0.2272374953217602, -0.48093633214803955, 0.9640139774346485, 0.2698896656277988, 0.08284925087705126, 0.4891500704201871, 0.740009758283557, -0.9394610595033338, 1.0125457768568211, -0.6380799097814033, -0.532143093193377, 0.7800276603962227, -0.6985563151031897, -0.9621143302322339, -0.6193184582765459, 0.9043920195398775, -1.4522395983454406, -0.4893232211608719, -0.2642170873783527, 0.8316859700169948, 1.2489509315576732, -0.405229252832221, -0.3993210218041567, 0.6301892319317067, -2.032615377066661, -0.2978316144783474, -0.7430723467788538, -0.05140898799930743, -1.6170545960302538, -0.04932390232689837, -0.8155700860817712, -1.7788024582795317, -1.6174420443715154, 0.11267862990631071, 1.2787293893763918]}],                        {\"barmode\": \"overlay\", \"legend\": {\"bgcolor\": \"#F5F6F9\", \"font\": {\"color\": \"#4D5663\"}}, \"paper_bgcolor\": \"#F5F6F9\", \"plot_bgcolor\": \"#F5F6F9\", \"template\": {\"data\": {\"bar\": [{\"error_x\": {\"color\": \"#2a3f5f\"}, \"error_y\": {\"color\": \"#2a3f5f\"}, \"marker\": {\"line\": {\"color\": \"#E5ECF6\", \"width\": 0.5}}, \"type\": \"bar\"}], \"barpolar\": [{\"marker\": {\"line\": {\"color\": \"#E5ECF6\", \"width\": 0.5}}, \"type\": \"barpolar\"}], \"carpet\": [{\"aaxis\": {\"endlinecolor\": \"#2a3f5f\", \"gridcolor\": \"white\", \"linecolor\": \"white\", \"minorgridcolor\": \"white\", \"startlinecolor\": \"#2a3f5f\"}, \"baxis\": {\"endlinecolor\": \"#2a3f5f\", \"gridcolor\": \"white\", \"linecolor\": \"white\", \"minorgridcolor\": \"white\", \"startlinecolor\": \"#2a3f5f\"}, \"type\": \"carpet\"}], \"choropleth\": [{\"colorbar\": {\"outlinewidth\": 0, \"ticks\": \"\"}, \"type\": \"choropleth\"}], \"contour\": [{\"colorbar\": {\"outlinewidth\": 0, \"ticks\": \"\"}, \"colorscale\": [[0.0, \"#0d0887\"], [0.1111111111111111, \"#46039f\"], [0.2222222222222222, \"#7201a8\"], [0.3333333333333333, \"#9c179e\"], [0.4444444444444444, \"#bd3786\"], [0.5555555555555556, \"#d8576b\"], [0.6666666666666666, \"#ed7953\"], [0.7777777777777778, \"#fb9f3a\"], [0.8888888888888888, \"#fdca26\"], [1.0, \"#f0f921\"]], \"type\": \"contour\"}], \"contourcarpet\": [{\"colorbar\": {\"outlinewidth\": 0, \"ticks\": \"\"}, \"type\": \"contourcarpet\"}], \"heatmap\": [{\"colorbar\": {\"outlinewidth\": 0, \"ticks\": \"\"}, \"colorscale\": [[0.0, \"#0d0887\"], [0.1111111111111111, \"#46039f\"], [0.2222222222222222, \"#7201a8\"], [0.3333333333333333, \"#9c179e\"], [0.4444444444444444, \"#bd3786\"], [0.5555555555555556, \"#d8576b\"], [0.6666666666666666, \"#ed7953\"], [0.7777777777777778, \"#fb9f3a\"], [0.8888888888888888, \"#fdca26\"], [1.0, \"#f0f921\"]], \"type\": \"heatmap\"}], \"heatmapgl\": [{\"colorbar\": {\"outlinewidth\": 0, \"ticks\": \"\"}, \"colorscale\": [[0.0, \"#0d0887\"], [0.1111111111111111, \"#46039f\"], [0.2222222222222222, \"#7201a8\"], [0.3333333333333333, \"#9c179e\"], [0.4444444444444444, \"#bd3786\"], [0.5555555555555556, \"#d8576b\"], [0.6666666666666666, \"#ed7953\"], [0.7777777777777778, \"#fb9f3a\"], [0.8888888888888888, \"#fdca26\"], [1.0, \"#f0f921\"]], \"type\": \"heatmapgl\"}], \"histogram\": [{\"marker\": {\"colorbar\": {\"outlinewidth\": 0, \"ticks\": \"\"}}, \"type\": \"histogram\"}], \"histogram2d\": [{\"colorbar\": {\"outlinewidth\": 0, \"ticks\": \"\"}, \"colorscale\": [[0.0, \"#0d0887\"], [0.1111111111111111, \"#46039f\"], [0.2222222222222222, \"#7201a8\"], [0.3333333333333333, \"#9c179e\"], [0.4444444444444444, \"#bd3786\"], [0.5555555555555556, \"#d8576b\"], [0.6666666666666666, \"#ed7953\"], [0.7777777777777778, \"#fb9f3a\"], [0.8888888888888888, \"#fdca26\"], [1.0, \"#f0f921\"]], \"type\": \"histogram2d\"}], \"histogram2dcontour\": [{\"colorbar\": {\"outlinewidth\": 0, \"ticks\": \"\"}, \"colorscale\": [[0.0, \"#0d0887\"], [0.1111111111111111, \"#46039f\"], [0.2222222222222222, \"#7201a8\"], [0.3333333333333333, \"#9c179e\"], [0.4444444444444444, \"#bd3786\"], [0.5555555555555556, \"#d8576b\"], [0.6666666666666666, \"#ed7953\"], [0.7777777777777778, \"#fb9f3a\"], [0.8888888888888888, \"#fdca26\"], [1.0, \"#f0f921\"]], \"type\": \"histogram2dcontour\"}], \"mesh3d\": [{\"colorbar\": {\"outlinewidth\": 0, \"ticks\": \"\"}, \"type\": \"mesh3d\"}], \"parcoords\": [{\"line\": {\"colorbar\": {\"outlinewidth\": 0, \"ticks\": \"\"}}, \"type\": \"parcoords\"}], \"pie\": [{\"automargin\": true, \"type\": \"pie\"}], \"scatter\": [{\"marker\": {\"colorbar\": {\"outlinewidth\": 0, \"ticks\": \"\"}}, \"type\": \"scatter\"}], \"scatter3d\": [{\"line\": {\"colorbar\": {\"outlinewidth\": 0, \"ticks\": \"\"}}, \"marker\": {\"colorbar\": {\"outlinewidth\": 0, \"ticks\": \"\"}}, \"type\": \"scatter3d\"}], \"scattercarpet\": [{\"marker\": {\"colorbar\": {\"outlinewidth\": 0, \"ticks\": \"\"}}, \"type\": \"scattercarpet\"}], \"scattergeo\": [{\"marker\": {\"colorbar\": {\"outlinewidth\": 0, \"ticks\": \"\"}}, \"type\": \"scattergeo\"}], \"scattergl\": [{\"marker\": {\"colorbar\": {\"outlinewidth\": 0, \"ticks\": \"\"}}, \"type\": \"scattergl\"}], \"scattermapbox\": [{\"marker\": {\"colorbar\": {\"outlinewidth\": 0, \"ticks\": \"\"}}, \"type\": \"scattermapbox\"}], \"scatterpolar\": [{\"marker\": {\"colorbar\": {\"outlinewidth\": 0, \"ticks\": \"\"}}, \"type\": \"scatterpolar\"}], \"scatterpolargl\": [{\"marker\": {\"colorbar\": {\"outlinewidth\": 0, \"ticks\": \"\"}}, \"type\": \"scatterpolargl\"}], \"scatterternary\": [{\"marker\": {\"colorbar\": {\"outlinewidth\": 0, \"ticks\": \"\"}}, \"type\": \"scatterternary\"}], \"surface\": [{\"colorbar\": {\"outlinewidth\": 0, \"ticks\": \"\"}, \"colorscale\": [[0.0, \"#0d0887\"], [0.1111111111111111, \"#46039f\"], [0.2222222222222222, \"#7201a8\"], [0.3333333333333333, \"#9c179e\"], [0.4444444444444444, \"#bd3786\"], [0.5555555555555556, \"#d8576b\"], [0.6666666666666666, \"#ed7953\"], [0.7777777777777778, \"#fb9f3a\"], [0.8888888888888888, \"#fdca26\"], [1.0, \"#f0f921\"]], \"type\": \"surface\"}], \"table\": [{\"cells\": {\"fill\": {\"color\": \"#EBF0F8\"}, \"line\": {\"color\": \"white\"}}, \"header\": {\"fill\": {\"color\": \"#C8D4E3\"}, \"line\": {\"color\": \"white\"}}, \"type\": \"table\"}]}, \"layout\": {\"annotationdefaults\": {\"arrowcolor\": \"#2a3f5f\", \"arrowhead\": 0, \"arrowwidth\": 1}, \"autotypenumbers\": \"strict\", \"coloraxis\": {\"colorbar\": {\"outlinewidth\": 0, \"ticks\": \"\"}}, \"colorscale\": {\"diverging\": [[0, \"#8e0152\"], [0.1, \"#c51b7d\"], [0.2, \"#de77ae\"], [0.3, \"#f1b6da\"], [0.4, \"#fde0ef\"], [0.5, \"#f7f7f7\"], [0.6, \"#e6f5d0\"], [0.7, \"#b8e186\"], [0.8, \"#7fbc41\"], [0.9, \"#4d9221\"], [1, \"#276419\"]], \"sequential\": [[0.0, \"#0d0887\"], [0.1111111111111111, \"#46039f\"], [0.2222222222222222, \"#7201a8\"], [0.3333333333333333, \"#9c179e\"], [0.4444444444444444, \"#bd3786\"], [0.5555555555555556, \"#d8576b\"], [0.6666666666666666, \"#ed7953\"], [0.7777777777777778, \"#fb9f3a\"], [0.8888888888888888, \"#fdca26\"], [1.0, \"#f0f921\"]], \"sequentialminus\": [[0.0, \"#0d0887\"], [0.1111111111111111, \"#46039f\"], [0.2222222222222222, \"#7201a8\"], [0.3333333333333333, \"#9c179e\"], [0.4444444444444444, \"#bd3786\"], [0.5555555555555556, \"#d8576b\"], [0.6666666666666666, \"#ed7953\"], [0.7777777777777778, \"#fb9f3a\"], [0.8888888888888888, \"#fdca26\"], [1.0, \"#f0f921\"]]}, \"colorway\": [\"#636efa\", \"#EF553B\", \"#00cc96\", \"#ab63fa\", \"#FFA15A\", \"#19d3f3\", \"#FF6692\", \"#B6E880\", \"#FF97FF\", \"#FECB52\"], \"font\": {\"color\": \"#2a3f5f\"}, \"geo\": {\"bgcolor\": \"white\", \"lakecolor\": \"white\", \"landcolor\": \"#E5ECF6\", \"showlakes\": true, \"showland\": true, \"subunitcolor\": \"white\"}, \"hoverlabel\": {\"align\": \"left\"}, \"hovermode\": \"closest\", \"mapbox\": {\"style\": \"light\"}, \"paper_bgcolor\": \"white\", \"plot_bgcolor\": \"#E5ECF6\", \"polar\": {\"angularaxis\": {\"gridcolor\": \"white\", \"linecolor\": \"white\", \"ticks\": \"\"}, \"bgcolor\": \"#E5ECF6\", \"radialaxis\": {\"gridcolor\": \"white\", \"linecolor\": \"white\", \"ticks\": \"\"}}, \"scene\": {\"xaxis\": {\"backgroundcolor\": \"#E5ECF6\", \"gridcolor\": \"white\", \"gridwidth\": 2, \"linecolor\": \"white\", \"showbackground\": true, \"ticks\": \"\", \"zerolinecolor\": \"white\"}, \"yaxis\": {\"backgroundcolor\": \"#E5ECF6\", \"gridcolor\": \"white\", \"gridwidth\": 2, \"linecolor\": \"white\", \"showbackground\": true, \"ticks\": \"\", \"zerolinecolor\": \"white\"}, \"zaxis\": {\"backgroundcolor\": \"#E5ECF6\", \"gridcolor\": \"white\", \"gridwidth\": 2, \"linecolor\": \"white\", \"showbackground\": true, \"ticks\": \"\", \"zerolinecolor\": \"white\"}}, \"shapedefaults\": {\"line\": {\"color\": \"#2a3f5f\"}}, \"ternary\": {\"aaxis\": {\"gridcolor\": \"white\", \"linecolor\": \"white\", \"ticks\": \"\"}, \"baxis\": {\"gridcolor\": \"white\", \"linecolor\": \"white\", \"ticks\": \"\"}, \"bgcolor\": \"#E5ECF6\", \"caxis\": {\"gridcolor\": \"white\", \"linecolor\": \"white\", \"ticks\": \"\"}}, \"title\": {\"x\": 0.05}, \"xaxis\": {\"automargin\": true, \"gridcolor\": \"white\", \"linecolor\": \"white\", \"ticks\": \"\", \"title\": {\"standoff\": 15}, \"zerolinecolor\": \"white\", \"zerolinewidth\": 2}, \"yaxis\": {\"automargin\": true, \"gridcolor\": \"white\", \"linecolor\": \"white\", \"ticks\": \"\", \"title\": {\"standoff\": 15}, \"zerolinecolor\": \"white\", \"zerolinewidth\": 2}}}, \"title\": {\"font\": {\"color\": \"#4D5663\"}}, \"xaxis\": {\"gridcolor\": \"#E1E5ED\", \"showgrid\": true, \"tickfont\": {\"color\": \"#4D5663\"}, \"title\": {\"font\": {\"color\": \"#4D5663\"}, \"text\": \"\"}, \"zerolinecolor\": \"#E1E5ED\"}, \"yaxis\": {\"gridcolor\": \"#E1E5ED\", \"showgrid\": true, \"tickfont\": {\"color\": \"#4D5663\"}, \"title\": {\"font\": {\"color\": \"#4D5663\"}, \"text\": \"\"}, \"zerolinecolor\": \"#E1E5ED\"}},                        {\"showLink\": true, \"linkText\": \"Export to plot.ly\", \"plotlyServerURL\": \"https://plot.ly\", \"responsive\": true}                    ).then(function(){\n",
       "                            \n",
       "var gd = document.getElementById('1e103547-8368-4070-91ff-d848be6d4e92');\n",
       "var x = new MutationObserver(function (mutations, observer) {{\n",
       "        var display = window.getComputedStyle(gd).display;\n",
       "        if (!display || display === 'none') {{\n",
       "            console.log([gd, 'removed!']);\n",
       "            Plotly.purge(gd);\n",
       "            observer.disconnect();\n",
       "        }}\n",
       "}});\n",
       "\n",
       "// Listen for the removal of the full notebook cells\n",
       "var notebookContainer = gd.closest('#notebook-container');\n",
       "if (notebookContainer) {{\n",
       "    x.observe(notebookContainer, {childList: true});\n",
       "}}\n",
       "\n",
       "// Listen for the clearing of the current output cell\n",
       "var outputEl = gd.closest('.output');\n",
       "if (outputEl) {{\n",
       "    x.observe(outputEl, {childList: true});\n",
       "}}\n",
       "\n",
       "                        })                };                });            </script>        </div>"
      ]
     },
     "metadata": {},
     "output_type": "display_data"
    }
   ],
   "source": [
    "df['A'].iplot(kind='hist',bins=25)"
   ]
  },
  {
   "cell_type": "code",
   "execution_count": 38,
   "metadata": {},
   "outputs": [
    {
     "data": {
      "application/vnd.plotly.v1+json": {
       "config": {
        "linkText": "Export to plot.ly",
        "plotlyServerURL": "https://plot.ly",
        "showLink": true
       },
       "data": [
        {
         "marker": {
          "color": [
           "rgb(255, 153, 51)",
           "rgb(55, 128, 191)",
           "rgb(50, 171, 96)",
           "rgb(128, 0, 128)",
           "rgb(219, 64, 82)",
           "rgb(0, 128, 128)",
           "rgb(255, 255, 51)",
           "rgb(128, 128, 0)",
           "rgb(251, 128, 114)",
           "rgb(128, 177, 211)"
          ],
          "line": {
           "width": 1.3
          },
          "size": [
           49,
           55,
           65,
           40,
           68,
           26,
           94,
           44,
           71,
           99,
           57,
           65,
           57,
           54,
           83,
           90,
           89,
           55,
           100,
           54,
           49,
           82,
           65,
           76,
           76,
           79,
           71,
           34,
           87,
           57,
           77,
           69,
           111,
           53,
           86,
           81,
           94,
           58,
           32,
           79,
           56,
           74,
           74,
           82,
           50,
           20,
           55,
           38,
           59,
           64,
           78,
           70,
           109,
           43,
           62,
           71,
           59,
           43,
           73,
           55,
           64,
           59,
           75,
           74,
           72,
           85,
           73,
           58,
           51,
           24,
           75,
           83,
           55,
           58,
           20,
           79,
           47,
           61,
           111,
           41,
           84,
           51,
           50,
           62,
           75,
           79,
           60,
           98,
           50,
           28,
           56,
           12,
           62,
           72,
           75,
           58,
           43,
           43,
           12,
           52
          ],
          "symbol": "circle"
         },
         "mode": "markers",
         "text": "",
         "type": "scatter",
         "x": [
          -0.7847662484388648,
          0.5887290310128517,
          -0.5514071090214487,
          0.08840812267345483,
          -0.957132276940948,
          -0.1747201870186245,
          -0.775383100878524,
          0.4945756457748739,
          -0.45784395724355104,
          -0.7299542464491161,
          2.120508885901264,
          -2.2347271889052647,
          -0.216174711781822,
          -2.846486640307819,
          -0.5216053610061037,
          1.0601574186659917,
          -0.3979067592077603,
          1.8802233263322539,
          1.203817333279283,
          -0.8843606774688277,
          1.03031872907569,
          -0.4257523627376736,
          0.8729366328539484,
          0.7015791574627109,
          -0.38686542056186624,
          0.8413262603687331,
          0.05399293108518775,
          0.043179544666969855,
          -2.9220805766557323,
          0.08340038015300334,
          3.5137406018102793,
          0.06710822950599729,
          -0.8317463668012348,
          0.11787537086880737,
          -0.40091873975019443,
          -0.647274188279839,
          -1.2526617333340366,
          0.06122457684630888,
          -0.1444120037528103,
          -0.7903713996915007,
          -0.1232958328995701,
          1.026244203860463,
          0.24784413058545027,
          0.07654902167655836,
          0.6316802536407472,
          -1.3413050172070276,
          -1.4416712533630667,
          -0.10415219238574984,
          0.20676801944816472,
          -0.8887833483806576,
          -0.18089986860947765,
          -1.1791549223426931,
          0.8841397805651795,
          0.5430023355298771,
          -0.9259578970567877,
          0.6119061006624439,
          0.574018323672333,
          1.3093577253163893,
          0.5563033371402298,
          1.8136943649705675,
          -0.6442541240275126,
          2.0713926711402553,
          -1.0477806925379496,
          -1.2191288405576126,
          0.46833740043259986,
          -0.2272374953217602,
          -0.48093633214803955,
          0.9640139774346485,
          0.2698896656277988,
          0.08284925087705126,
          0.4891500704201871,
          0.740009758283557,
          -0.9394610595033338,
          1.0125457768568211,
          -0.6380799097814033,
          -0.532143093193377,
          0.7800276603962227,
          -0.6985563151031897,
          -0.9621143302322339,
          -0.6193184582765459,
          0.9043920195398775,
          -1.4522395983454406,
          -0.4893232211608719,
          -0.2642170873783527,
          0.8316859700169948,
          1.2489509315576732,
          -0.405229252832221,
          -0.3993210218041567,
          0.6301892319317067,
          -2.032615377066661,
          -0.2978316144783474,
          -0.7430723467788538,
          -0.05140898799930743,
          -1.6170545960302538,
          -0.04932390232689837,
          -0.8155700860817712,
          -1.7788024582795317,
          -1.6174420443715154,
          0.11267862990631071,
          1.2787293893763918
         ],
         "y": [
          0.5572145425894736,
          -0.45504520577696367,
          0.4397244784970589,
          -0.2763388377694911,
          -0.08571023954655589,
          -1.6755292215779456,
          -1.8334924719643624,
          -0.660543388652614,
          0.7078090548539063,
          -0.30404582808658714,
          0.7983154440193301,
          0.6389687724326867,
          -1.8050197876858236,
          -0.4025794005207336,
          0.3704656336659906,
          -0.747624783090879,
          -0.4392091376941933,
          -0.33047162205148,
          -0.1364354262968888,
          -0.8633476502974338,
          -0.16814011189850314,
          -1.4696332886345858,
          0.1585322391907727,
          -2.418076999992624,
          0.6622146788284973,
          0.8721367999555061,
          -1.25976348157494,
          1.8348088004628051,
          0.47688346565844086,
          0.14213908096085381,
          -1.8637299698264642,
          0.18280931235672152,
          1.2439722521750312,
          -0.3733871869316914,
          -2.1740967689550086,
          -0.15732638770451998,
          0.0633022732022018,
          -0.7790326367796533,
          -0.24491703017219643,
          0.5040191789600832,
          -0.9515995713121651,
          -0.8414065588473638,
          0.5955986478906864,
          0.7154922596789571,
          -0.0540021267028095,
          -0.045508513386948043,
          0.6119646956030508,
          1.1102705897798857,
          0.19750938669276072,
          -1.0931085199143398,
          -0.6088374888059043,
          0.879357016729816,
          -1.0545177862425543,
          -1.0615585452683487,
          -0.3395286389548686,
          0.9167954596280192,
          0.3056287217220758,
          1.1897269806627724,
          -0.5785892939226185,
          1.1882930981736926,
          -1.9453934420960646,
          0.40404565925308905,
          -0.47793302435649154,
          0.9554348023325204,
          -0.12910337890098902,
          -0.011338204028426009,
          -1.2864013072197011,
          1.9501586903960613,
          0.18449132473611274,
          -1.352778989230137,
          0.8139484363174008,
          -0.282173902035499,
          0.055616892028192616,
          1.1233026493199727,
          -0.06175109687338001,
          2.6230381340766007,
          -0.5766957704909688,
          -0.7597006964718782,
          -0.3769501067141862,
          -0.1760010222169406,
          2.688186774678746,
          -2.3362883690467933,
          -0.00034980439845702736,
          -0.3079688557143545,
          -0.4116002100009419,
          0.5599206118343988,
          0.16222988523787568,
          -0.3746644731060114,
          1.3783064233466986,
          -0.28963624409219874,
          0.48917493779357635,
          0.84254699744496,
          -0.16749916523803782,
          -0.44959956190182654,
          0.5678994707214291,
          0.05294747982035926,
          -0.5544304088936962,
          -0.41553679147877703,
          -1.9093260964550836,
          -0.11837954489758033
         ]
        }
       ],
       "layout": {
        "legend": {
         "bgcolor": "#F5F6F9",
         "font": {
          "color": "#4D5663"
         }
        },
        "paper_bgcolor": "#F5F6F9",
        "plot_bgcolor": "#F5F6F9",
        "template": {
         "data": {
          "bar": [
           {
            "error_x": {
             "color": "#2a3f5f"
            },
            "error_y": {
             "color": "#2a3f5f"
            },
            "marker": {
             "line": {
              "color": "#E5ECF6",
              "width": 0.5
             }
            },
            "type": "bar"
           }
          ],
          "barpolar": [
           {
            "marker": {
             "line": {
              "color": "#E5ECF6",
              "width": 0.5
             }
            },
            "type": "barpolar"
           }
          ],
          "carpet": [
           {
            "aaxis": {
             "endlinecolor": "#2a3f5f",
             "gridcolor": "white",
             "linecolor": "white",
             "minorgridcolor": "white",
             "startlinecolor": "#2a3f5f"
            },
            "baxis": {
             "endlinecolor": "#2a3f5f",
             "gridcolor": "white",
             "linecolor": "white",
             "minorgridcolor": "white",
             "startlinecolor": "#2a3f5f"
            },
            "type": "carpet"
           }
          ],
          "choropleth": [
           {
            "colorbar": {
             "outlinewidth": 0,
             "ticks": ""
            },
            "type": "choropleth"
           }
          ],
          "contour": [
           {
            "colorbar": {
             "outlinewidth": 0,
             "ticks": ""
            },
            "colorscale": [
             [
              0,
              "#0d0887"
             ],
             [
              0.1111111111111111,
              "#46039f"
             ],
             [
              0.2222222222222222,
              "#7201a8"
             ],
             [
              0.3333333333333333,
              "#9c179e"
             ],
             [
              0.4444444444444444,
              "#bd3786"
             ],
             [
              0.5555555555555556,
              "#d8576b"
             ],
             [
              0.6666666666666666,
              "#ed7953"
             ],
             [
              0.7777777777777778,
              "#fb9f3a"
             ],
             [
              0.8888888888888888,
              "#fdca26"
             ],
             [
              1,
              "#f0f921"
             ]
            ],
            "type": "contour"
           }
          ],
          "contourcarpet": [
           {
            "colorbar": {
             "outlinewidth": 0,
             "ticks": ""
            },
            "type": "contourcarpet"
           }
          ],
          "heatmap": [
           {
            "colorbar": {
             "outlinewidth": 0,
             "ticks": ""
            },
            "colorscale": [
             [
              0,
              "#0d0887"
             ],
             [
              0.1111111111111111,
              "#46039f"
             ],
             [
              0.2222222222222222,
              "#7201a8"
             ],
             [
              0.3333333333333333,
              "#9c179e"
             ],
             [
              0.4444444444444444,
              "#bd3786"
             ],
             [
              0.5555555555555556,
              "#d8576b"
             ],
             [
              0.6666666666666666,
              "#ed7953"
             ],
             [
              0.7777777777777778,
              "#fb9f3a"
             ],
             [
              0.8888888888888888,
              "#fdca26"
             ],
             [
              1,
              "#f0f921"
             ]
            ],
            "type": "heatmap"
           }
          ],
          "heatmapgl": [
           {
            "colorbar": {
             "outlinewidth": 0,
             "ticks": ""
            },
            "colorscale": [
             [
              0,
              "#0d0887"
             ],
             [
              0.1111111111111111,
              "#46039f"
             ],
             [
              0.2222222222222222,
              "#7201a8"
             ],
             [
              0.3333333333333333,
              "#9c179e"
             ],
             [
              0.4444444444444444,
              "#bd3786"
             ],
             [
              0.5555555555555556,
              "#d8576b"
             ],
             [
              0.6666666666666666,
              "#ed7953"
             ],
             [
              0.7777777777777778,
              "#fb9f3a"
             ],
             [
              0.8888888888888888,
              "#fdca26"
             ],
             [
              1,
              "#f0f921"
             ]
            ],
            "type": "heatmapgl"
           }
          ],
          "histogram": [
           {
            "marker": {
             "colorbar": {
              "outlinewidth": 0,
              "ticks": ""
             }
            },
            "type": "histogram"
           }
          ],
          "histogram2d": [
           {
            "colorbar": {
             "outlinewidth": 0,
             "ticks": ""
            },
            "colorscale": [
             [
              0,
              "#0d0887"
             ],
             [
              0.1111111111111111,
              "#46039f"
             ],
             [
              0.2222222222222222,
              "#7201a8"
             ],
             [
              0.3333333333333333,
              "#9c179e"
             ],
             [
              0.4444444444444444,
              "#bd3786"
             ],
             [
              0.5555555555555556,
              "#d8576b"
             ],
             [
              0.6666666666666666,
              "#ed7953"
             ],
             [
              0.7777777777777778,
              "#fb9f3a"
             ],
             [
              0.8888888888888888,
              "#fdca26"
             ],
             [
              1,
              "#f0f921"
             ]
            ],
            "type": "histogram2d"
           }
          ],
          "histogram2dcontour": [
           {
            "colorbar": {
             "outlinewidth": 0,
             "ticks": ""
            },
            "colorscale": [
             [
              0,
              "#0d0887"
             ],
             [
              0.1111111111111111,
              "#46039f"
             ],
             [
              0.2222222222222222,
              "#7201a8"
             ],
             [
              0.3333333333333333,
              "#9c179e"
             ],
             [
              0.4444444444444444,
              "#bd3786"
             ],
             [
              0.5555555555555556,
              "#d8576b"
             ],
             [
              0.6666666666666666,
              "#ed7953"
             ],
             [
              0.7777777777777778,
              "#fb9f3a"
             ],
             [
              0.8888888888888888,
              "#fdca26"
             ],
             [
              1,
              "#f0f921"
             ]
            ],
            "type": "histogram2dcontour"
           }
          ],
          "mesh3d": [
           {
            "colorbar": {
             "outlinewidth": 0,
             "ticks": ""
            },
            "type": "mesh3d"
           }
          ],
          "parcoords": [
           {
            "line": {
             "colorbar": {
              "outlinewidth": 0,
              "ticks": ""
             }
            },
            "type": "parcoords"
           }
          ],
          "pie": [
           {
            "automargin": true,
            "type": "pie"
           }
          ],
          "scatter": [
           {
            "marker": {
             "colorbar": {
              "outlinewidth": 0,
              "ticks": ""
             }
            },
            "type": "scatter"
           }
          ],
          "scatter3d": [
           {
            "line": {
             "colorbar": {
              "outlinewidth": 0,
              "ticks": ""
             }
            },
            "marker": {
             "colorbar": {
              "outlinewidth": 0,
              "ticks": ""
             }
            },
            "type": "scatter3d"
           }
          ],
          "scattercarpet": [
           {
            "marker": {
             "colorbar": {
              "outlinewidth": 0,
              "ticks": ""
             }
            },
            "type": "scattercarpet"
           }
          ],
          "scattergeo": [
           {
            "marker": {
             "colorbar": {
              "outlinewidth": 0,
              "ticks": ""
             }
            },
            "type": "scattergeo"
           }
          ],
          "scattergl": [
           {
            "marker": {
             "colorbar": {
              "outlinewidth": 0,
              "ticks": ""
             }
            },
            "type": "scattergl"
           }
          ],
          "scattermapbox": [
           {
            "marker": {
             "colorbar": {
              "outlinewidth": 0,
              "ticks": ""
             }
            },
            "type": "scattermapbox"
           }
          ],
          "scatterpolar": [
           {
            "marker": {
             "colorbar": {
              "outlinewidth": 0,
              "ticks": ""
             }
            },
            "type": "scatterpolar"
           }
          ],
          "scatterpolargl": [
           {
            "marker": {
             "colorbar": {
              "outlinewidth": 0,
              "ticks": ""
             }
            },
            "type": "scatterpolargl"
           }
          ],
          "scatterternary": [
           {
            "marker": {
             "colorbar": {
              "outlinewidth": 0,
              "ticks": ""
             }
            },
            "type": "scatterternary"
           }
          ],
          "surface": [
           {
            "colorbar": {
             "outlinewidth": 0,
             "ticks": ""
            },
            "colorscale": [
             [
              0,
              "#0d0887"
             ],
             [
              0.1111111111111111,
              "#46039f"
             ],
             [
              0.2222222222222222,
              "#7201a8"
             ],
             [
              0.3333333333333333,
              "#9c179e"
             ],
             [
              0.4444444444444444,
              "#bd3786"
             ],
             [
              0.5555555555555556,
              "#d8576b"
             ],
             [
              0.6666666666666666,
              "#ed7953"
             ],
             [
              0.7777777777777778,
              "#fb9f3a"
             ],
             [
              0.8888888888888888,
              "#fdca26"
             ],
             [
              1,
              "#f0f921"
             ]
            ],
            "type": "surface"
           }
          ],
          "table": [
           {
            "cells": {
             "fill": {
              "color": "#EBF0F8"
             },
             "line": {
              "color": "white"
             }
            },
            "header": {
             "fill": {
              "color": "#C8D4E3"
             },
             "line": {
              "color": "white"
             }
            },
            "type": "table"
           }
          ]
         },
         "layout": {
          "annotationdefaults": {
           "arrowcolor": "#2a3f5f",
           "arrowhead": 0,
           "arrowwidth": 1
          },
          "autotypenumbers": "strict",
          "coloraxis": {
           "colorbar": {
            "outlinewidth": 0,
            "ticks": ""
           }
          },
          "colorscale": {
           "diverging": [
            [
             0,
             "#8e0152"
            ],
            [
             0.1,
             "#c51b7d"
            ],
            [
             0.2,
             "#de77ae"
            ],
            [
             0.3,
             "#f1b6da"
            ],
            [
             0.4,
             "#fde0ef"
            ],
            [
             0.5,
             "#f7f7f7"
            ],
            [
             0.6,
             "#e6f5d0"
            ],
            [
             0.7,
             "#b8e186"
            ],
            [
             0.8,
             "#7fbc41"
            ],
            [
             0.9,
             "#4d9221"
            ],
            [
             1,
             "#276419"
            ]
           ],
           "sequential": [
            [
             0,
             "#0d0887"
            ],
            [
             0.1111111111111111,
             "#46039f"
            ],
            [
             0.2222222222222222,
             "#7201a8"
            ],
            [
             0.3333333333333333,
             "#9c179e"
            ],
            [
             0.4444444444444444,
             "#bd3786"
            ],
            [
             0.5555555555555556,
             "#d8576b"
            ],
            [
             0.6666666666666666,
             "#ed7953"
            ],
            [
             0.7777777777777778,
             "#fb9f3a"
            ],
            [
             0.8888888888888888,
             "#fdca26"
            ],
            [
             1,
             "#f0f921"
            ]
           ],
           "sequentialminus": [
            [
             0,
             "#0d0887"
            ],
            [
             0.1111111111111111,
             "#46039f"
            ],
            [
             0.2222222222222222,
             "#7201a8"
            ],
            [
             0.3333333333333333,
             "#9c179e"
            ],
            [
             0.4444444444444444,
             "#bd3786"
            ],
            [
             0.5555555555555556,
             "#d8576b"
            ],
            [
             0.6666666666666666,
             "#ed7953"
            ],
            [
             0.7777777777777778,
             "#fb9f3a"
            ],
            [
             0.8888888888888888,
             "#fdca26"
            ],
            [
             1,
             "#f0f921"
            ]
           ]
          },
          "colorway": [
           "#636efa",
           "#EF553B",
           "#00cc96",
           "#ab63fa",
           "#FFA15A",
           "#19d3f3",
           "#FF6692",
           "#B6E880",
           "#FF97FF",
           "#FECB52"
          ],
          "font": {
           "color": "#2a3f5f"
          },
          "geo": {
           "bgcolor": "white",
           "lakecolor": "white",
           "landcolor": "#E5ECF6",
           "showlakes": true,
           "showland": true,
           "subunitcolor": "white"
          },
          "hoverlabel": {
           "align": "left"
          },
          "hovermode": "closest",
          "mapbox": {
           "style": "light"
          },
          "paper_bgcolor": "white",
          "plot_bgcolor": "#E5ECF6",
          "polar": {
           "angularaxis": {
            "gridcolor": "white",
            "linecolor": "white",
            "ticks": ""
           },
           "bgcolor": "#E5ECF6",
           "radialaxis": {
            "gridcolor": "white",
            "linecolor": "white",
            "ticks": ""
           }
          },
          "scene": {
           "xaxis": {
            "backgroundcolor": "#E5ECF6",
            "gridcolor": "white",
            "gridwidth": 2,
            "linecolor": "white",
            "showbackground": true,
            "ticks": "",
            "zerolinecolor": "white"
           },
           "yaxis": {
            "backgroundcolor": "#E5ECF6",
            "gridcolor": "white",
            "gridwidth": 2,
            "linecolor": "white",
            "showbackground": true,
            "ticks": "",
            "zerolinecolor": "white"
           },
           "zaxis": {
            "backgroundcolor": "#E5ECF6",
            "gridcolor": "white",
            "gridwidth": 2,
            "linecolor": "white",
            "showbackground": true,
            "ticks": "",
            "zerolinecolor": "white"
           }
          },
          "shapedefaults": {
           "line": {
            "color": "#2a3f5f"
           }
          },
          "ternary": {
           "aaxis": {
            "gridcolor": "white",
            "linecolor": "white",
            "ticks": ""
           },
           "baxis": {
            "gridcolor": "white",
            "linecolor": "white",
            "ticks": ""
           },
           "bgcolor": "#E5ECF6",
           "caxis": {
            "gridcolor": "white",
            "linecolor": "white",
            "ticks": ""
           }
          },
          "title": {
           "x": 0.05
          },
          "xaxis": {
           "automargin": true,
           "gridcolor": "white",
           "linecolor": "white",
           "ticks": "",
           "title": {
            "standoff": 15
           },
           "zerolinecolor": "white",
           "zerolinewidth": 2
          },
          "yaxis": {
           "automargin": true,
           "gridcolor": "white",
           "linecolor": "white",
           "ticks": "",
           "title": {
            "standoff": 15
           },
           "zerolinecolor": "white",
           "zerolinewidth": 2
          }
         }
        },
        "title": {
         "font": {
          "color": "#4D5663"
         }
        },
        "xaxis": {
         "gridcolor": "#E1E5ED",
         "showgrid": true,
         "tickfont": {
          "color": "#4D5663"
         },
         "title": {
          "font": {
           "color": "#4D5663"
          },
          "text": ""
         },
         "zerolinecolor": "#E1E5ED"
        },
        "yaxis": {
         "gridcolor": "#E1E5ED",
         "showgrid": true,
         "tickfont": {
          "color": "#4D5663"
         },
         "title": {
          "font": {
           "color": "#4D5663"
          },
          "text": ""
         },
         "zerolinecolor": "#E1E5ED"
        }
       }
      },
      "text/html": [
       "<div>                            <div id=\"2334f7ca-e25a-4563-8c9c-9ae6ae8bc356\" class=\"plotly-graph-div\" style=\"height:525px; width:100%;\"></div>            <script type=\"text/javascript\">                require([\"plotly\"], function(Plotly) {                    window.PLOTLYENV=window.PLOTLYENV || {};\n",
       "                    window.PLOTLYENV.BASE_URL='https://plot.ly';                                    if (document.getElementById(\"2334f7ca-e25a-4563-8c9c-9ae6ae8bc356\")) {                    Plotly.newPlot(                        \"2334f7ca-e25a-4563-8c9c-9ae6ae8bc356\",                        [{\"marker\": {\"color\": [\"rgb(255, 153, 51)\", \"rgb(55, 128, 191)\", \"rgb(50, 171, 96)\", \"rgb(128, 0, 128)\", \"rgb(219, 64, 82)\", \"rgb(0, 128, 128)\", \"rgb(255, 255, 51)\", \"rgb(128, 128, 0)\", \"rgb(251, 128, 114)\", \"rgb(128, 177, 211)\"], \"line\": {\"width\": 1.3}, \"size\": [49, 55, 65, 40, 68, 26, 94, 44, 71, 99, 57, 65, 57, 54, 83, 90, 89, 55, 100, 54, 49, 82, 65, 76, 76, 79, 71, 34, 87, 57, 77, 69, 111, 53, 86, 81, 94, 58, 32, 79, 56, 74, 74, 82, 50, 20, 55, 38, 59, 64, 78, 70, 109, 43, 62, 71, 59, 43, 73, 55, 64, 59, 75, 74, 72, 85, 73, 58, 51, 24, 75, 83, 55, 58, 20, 79, 47, 61, 111, 41, 84, 51, 50, 62, 75, 79, 60, 98, 50, 28, 56, 12, 62, 72, 75, 58, 43, 43, 12, 52], \"symbol\": \"circle\"}, \"mode\": \"markers\", \"text\": \"\", \"type\": \"scatter\", \"x\": [-0.7847662484388648, 0.5887290310128517, -0.5514071090214487, 0.08840812267345483, -0.957132276940948, -0.1747201870186245, -0.775383100878524, 0.4945756457748739, -0.45784395724355104, -0.7299542464491161, 2.120508885901264, -2.2347271889052647, -0.216174711781822, -2.846486640307819, -0.5216053610061037, 1.0601574186659917, -0.3979067592077603, 1.8802233263322539, 1.203817333279283, -0.8843606774688277, 1.03031872907569, -0.4257523627376736, 0.8729366328539484, 0.7015791574627109, -0.38686542056186624, 0.8413262603687331, 0.05399293108518775, 0.043179544666969855, -2.9220805766557323, 0.08340038015300334, 3.5137406018102793, 0.06710822950599729, -0.8317463668012348, 0.11787537086880737, -0.40091873975019443, -0.647274188279839, -1.2526617333340366, 0.06122457684630888, -0.1444120037528103, -0.7903713996915007, -0.1232958328995701, 1.026244203860463, 0.24784413058545027, 0.07654902167655836, 0.6316802536407472, -1.3413050172070276, -1.4416712533630667, -0.10415219238574984, 0.20676801944816472, -0.8887833483806576, -0.18089986860947765, -1.1791549223426931, 0.8841397805651795, 0.5430023355298771, -0.9259578970567877, 0.6119061006624439, 0.574018323672333, 1.3093577253163893, 0.5563033371402298, 1.8136943649705675, -0.6442541240275126, 2.0713926711402553, -1.0477806925379496, -1.2191288405576126, 0.46833740043259986, -0.2272374953217602, -0.48093633214803955, 0.9640139774346485, 0.2698896656277988, 0.08284925087705126, 0.4891500704201871, 0.740009758283557, -0.9394610595033338, 1.0125457768568211, -0.6380799097814033, -0.532143093193377, 0.7800276603962227, -0.6985563151031897, -0.9621143302322339, -0.6193184582765459, 0.9043920195398775, -1.4522395983454406, -0.4893232211608719, -0.2642170873783527, 0.8316859700169948, 1.2489509315576732, -0.405229252832221, -0.3993210218041567, 0.6301892319317067, -2.032615377066661, -0.2978316144783474, -0.7430723467788538, -0.05140898799930743, -1.6170545960302538, -0.04932390232689837, -0.8155700860817712, -1.7788024582795317, -1.6174420443715154, 0.11267862990631071, 1.2787293893763918], \"y\": [0.5572145425894736, -0.45504520577696367, 0.4397244784970589, -0.2763388377694911, -0.08571023954655589, -1.6755292215779456, -1.8334924719643624, -0.660543388652614, 0.7078090548539063, -0.30404582808658714, 0.7983154440193301, 0.6389687724326867, -1.8050197876858236, -0.4025794005207336, 0.3704656336659906, -0.747624783090879, -0.4392091376941933, -0.33047162205148, -0.1364354262968888, -0.8633476502974338, -0.16814011189850314, -1.4696332886345858, 0.1585322391907727, -2.418076999992624, 0.6622146788284973, 0.8721367999555061, -1.25976348157494, 1.8348088004628051, 0.47688346565844086, 0.14213908096085381, -1.8637299698264642, 0.18280931235672152, 1.2439722521750312, -0.3733871869316914, -2.1740967689550086, -0.15732638770451998, 0.0633022732022018, -0.7790326367796533, -0.24491703017219643, 0.5040191789600832, -0.9515995713121651, -0.8414065588473638, 0.5955986478906864, 0.7154922596789571, -0.0540021267028095, -0.045508513386948043, 0.6119646956030508, 1.1102705897798857, 0.19750938669276072, -1.0931085199143398, -0.6088374888059043, 0.879357016729816, -1.0545177862425543, -1.0615585452683487, -0.3395286389548686, 0.9167954596280192, 0.3056287217220758, 1.1897269806627724, -0.5785892939226185, 1.1882930981736926, -1.9453934420960646, 0.40404565925308905, -0.47793302435649154, 0.9554348023325204, -0.12910337890098902, -0.011338204028426009, -1.2864013072197011, 1.9501586903960613, 0.18449132473611274, -1.352778989230137, 0.8139484363174008, -0.282173902035499, 0.055616892028192616, 1.1233026493199727, -0.06175109687338001, 2.6230381340766007, -0.5766957704909688, -0.7597006964718782, -0.3769501067141862, -0.1760010222169406, 2.688186774678746, -2.3362883690467933, -0.00034980439845702736, -0.3079688557143545, -0.4116002100009419, 0.5599206118343988, 0.16222988523787568, -0.3746644731060114, 1.3783064233466986, -0.28963624409219874, 0.48917493779357635, 0.84254699744496, -0.16749916523803782, -0.44959956190182654, 0.5678994707214291, 0.05294747982035926, -0.5544304088936962, -0.41553679147877703, -1.9093260964550836, -0.11837954489758033]}],                        {\"legend\": {\"bgcolor\": \"#F5F6F9\", \"font\": {\"color\": \"#4D5663\"}}, \"paper_bgcolor\": \"#F5F6F9\", \"plot_bgcolor\": \"#F5F6F9\", \"template\": {\"data\": {\"bar\": [{\"error_x\": {\"color\": \"#2a3f5f\"}, \"error_y\": {\"color\": \"#2a3f5f\"}, \"marker\": {\"line\": {\"color\": \"#E5ECF6\", \"width\": 0.5}}, \"type\": \"bar\"}], \"barpolar\": [{\"marker\": {\"line\": {\"color\": \"#E5ECF6\", \"width\": 0.5}}, \"type\": \"barpolar\"}], \"carpet\": [{\"aaxis\": {\"endlinecolor\": \"#2a3f5f\", \"gridcolor\": \"white\", \"linecolor\": \"white\", \"minorgridcolor\": \"white\", \"startlinecolor\": \"#2a3f5f\"}, \"baxis\": {\"endlinecolor\": \"#2a3f5f\", \"gridcolor\": \"white\", \"linecolor\": \"white\", \"minorgridcolor\": \"white\", \"startlinecolor\": \"#2a3f5f\"}, \"type\": \"carpet\"}], \"choropleth\": [{\"colorbar\": {\"outlinewidth\": 0, \"ticks\": \"\"}, \"type\": \"choropleth\"}], \"contour\": [{\"colorbar\": {\"outlinewidth\": 0, \"ticks\": \"\"}, \"colorscale\": [[0.0, \"#0d0887\"], [0.1111111111111111, \"#46039f\"], [0.2222222222222222, \"#7201a8\"], [0.3333333333333333, \"#9c179e\"], [0.4444444444444444, \"#bd3786\"], [0.5555555555555556, \"#d8576b\"], [0.6666666666666666, \"#ed7953\"], [0.7777777777777778, \"#fb9f3a\"], [0.8888888888888888, \"#fdca26\"], [1.0, \"#f0f921\"]], \"type\": \"contour\"}], \"contourcarpet\": [{\"colorbar\": {\"outlinewidth\": 0, \"ticks\": \"\"}, \"type\": \"contourcarpet\"}], \"heatmap\": [{\"colorbar\": {\"outlinewidth\": 0, \"ticks\": \"\"}, \"colorscale\": [[0.0, \"#0d0887\"], [0.1111111111111111, \"#46039f\"], [0.2222222222222222, \"#7201a8\"], [0.3333333333333333, \"#9c179e\"], [0.4444444444444444, \"#bd3786\"], [0.5555555555555556, \"#d8576b\"], [0.6666666666666666, \"#ed7953\"], [0.7777777777777778, \"#fb9f3a\"], [0.8888888888888888, \"#fdca26\"], [1.0, \"#f0f921\"]], \"type\": \"heatmap\"}], \"heatmapgl\": [{\"colorbar\": {\"outlinewidth\": 0, \"ticks\": \"\"}, \"colorscale\": [[0.0, \"#0d0887\"], [0.1111111111111111, \"#46039f\"], [0.2222222222222222, \"#7201a8\"], [0.3333333333333333, \"#9c179e\"], [0.4444444444444444, \"#bd3786\"], [0.5555555555555556, \"#d8576b\"], [0.6666666666666666, \"#ed7953\"], [0.7777777777777778, \"#fb9f3a\"], [0.8888888888888888, \"#fdca26\"], [1.0, \"#f0f921\"]], \"type\": \"heatmapgl\"}], \"histogram\": [{\"marker\": {\"colorbar\": {\"outlinewidth\": 0, \"ticks\": \"\"}}, \"type\": \"histogram\"}], \"histogram2d\": [{\"colorbar\": {\"outlinewidth\": 0, \"ticks\": \"\"}, \"colorscale\": [[0.0, \"#0d0887\"], [0.1111111111111111, \"#46039f\"], [0.2222222222222222, \"#7201a8\"], [0.3333333333333333, \"#9c179e\"], [0.4444444444444444, \"#bd3786\"], [0.5555555555555556, \"#d8576b\"], [0.6666666666666666, \"#ed7953\"], [0.7777777777777778, \"#fb9f3a\"], [0.8888888888888888, \"#fdca26\"], [1.0, \"#f0f921\"]], \"type\": \"histogram2d\"}], \"histogram2dcontour\": [{\"colorbar\": {\"outlinewidth\": 0, \"ticks\": \"\"}, \"colorscale\": [[0.0, \"#0d0887\"], [0.1111111111111111, \"#46039f\"], [0.2222222222222222, \"#7201a8\"], [0.3333333333333333, \"#9c179e\"], [0.4444444444444444, \"#bd3786\"], [0.5555555555555556, \"#d8576b\"], [0.6666666666666666, \"#ed7953\"], [0.7777777777777778, \"#fb9f3a\"], [0.8888888888888888, \"#fdca26\"], [1.0, \"#f0f921\"]], \"type\": \"histogram2dcontour\"}], \"mesh3d\": [{\"colorbar\": {\"outlinewidth\": 0, \"ticks\": \"\"}, \"type\": \"mesh3d\"}], \"parcoords\": [{\"line\": {\"colorbar\": {\"outlinewidth\": 0, \"ticks\": \"\"}}, \"type\": \"parcoords\"}], \"pie\": [{\"automargin\": true, \"type\": \"pie\"}], \"scatter\": [{\"marker\": {\"colorbar\": {\"outlinewidth\": 0, \"ticks\": \"\"}}, \"type\": \"scatter\"}], \"scatter3d\": [{\"line\": {\"colorbar\": {\"outlinewidth\": 0, \"ticks\": \"\"}}, \"marker\": {\"colorbar\": {\"outlinewidth\": 0, \"ticks\": \"\"}}, \"type\": \"scatter3d\"}], \"scattercarpet\": [{\"marker\": {\"colorbar\": {\"outlinewidth\": 0, \"ticks\": \"\"}}, \"type\": \"scattercarpet\"}], \"scattergeo\": [{\"marker\": {\"colorbar\": {\"outlinewidth\": 0, \"ticks\": \"\"}}, \"type\": \"scattergeo\"}], \"scattergl\": [{\"marker\": {\"colorbar\": {\"outlinewidth\": 0, \"ticks\": \"\"}}, \"type\": \"scattergl\"}], \"scattermapbox\": [{\"marker\": {\"colorbar\": {\"outlinewidth\": 0, \"ticks\": \"\"}}, \"type\": \"scattermapbox\"}], \"scatterpolar\": [{\"marker\": {\"colorbar\": {\"outlinewidth\": 0, \"ticks\": \"\"}}, \"type\": \"scatterpolar\"}], \"scatterpolargl\": [{\"marker\": {\"colorbar\": {\"outlinewidth\": 0, \"ticks\": \"\"}}, \"type\": \"scatterpolargl\"}], \"scatterternary\": [{\"marker\": {\"colorbar\": {\"outlinewidth\": 0, \"ticks\": \"\"}}, \"type\": \"scatterternary\"}], \"surface\": [{\"colorbar\": {\"outlinewidth\": 0, \"ticks\": \"\"}, \"colorscale\": [[0.0, \"#0d0887\"], [0.1111111111111111, \"#46039f\"], [0.2222222222222222, \"#7201a8\"], [0.3333333333333333, \"#9c179e\"], [0.4444444444444444, \"#bd3786\"], [0.5555555555555556, \"#d8576b\"], [0.6666666666666666, \"#ed7953\"], [0.7777777777777778, \"#fb9f3a\"], [0.8888888888888888, \"#fdca26\"], [1.0, \"#f0f921\"]], \"type\": \"surface\"}], \"table\": [{\"cells\": {\"fill\": {\"color\": \"#EBF0F8\"}, \"line\": {\"color\": \"white\"}}, \"header\": {\"fill\": {\"color\": \"#C8D4E3\"}, \"line\": {\"color\": \"white\"}}, \"type\": \"table\"}]}, \"layout\": {\"annotationdefaults\": {\"arrowcolor\": \"#2a3f5f\", \"arrowhead\": 0, \"arrowwidth\": 1}, \"autotypenumbers\": \"strict\", \"coloraxis\": {\"colorbar\": {\"outlinewidth\": 0, \"ticks\": \"\"}}, \"colorscale\": {\"diverging\": [[0, \"#8e0152\"], [0.1, \"#c51b7d\"], [0.2, \"#de77ae\"], [0.3, \"#f1b6da\"], [0.4, \"#fde0ef\"], [0.5, \"#f7f7f7\"], [0.6, \"#e6f5d0\"], [0.7, \"#b8e186\"], [0.8, \"#7fbc41\"], [0.9, \"#4d9221\"], [1, \"#276419\"]], \"sequential\": [[0.0, \"#0d0887\"], [0.1111111111111111, \"#46039f\"], [0.2222222222222222, \"#7201a8\"], [0.3333333333333333, \"#9c179e\"], [0.4444444444444444, \"#bd3786\"], [0.5555555555555556, \"#d8576b\"], [0.6666666666666666, \"#ed7953\"], [0.7777777777777778, \"#fb9f3a\"], [0.8888888888888888, \"#fdca26\"], [1.0, \"#f0f921\"]], \"sequentialminus\": [[0.0, \"#0d0887\"], [0.1111111111111111, \"#46039f\"], [0.2222222222222222, \"#7201a8\"], [0.3333333333333333, \"#9c179e\"], [0.4444444444444444, \"#bd3786\"], [0.5555555555555556, \"#d8576b\"], [0.6666666666666666, \"#ed7953\"], [0.7777777777777778, \"#fb9f3a\"], [0.8888888888888888, \"#fdca26\"], [1.0, \"#f0f921\"]]}, \"colorway\": [\"#636efa\", \"#EF553B\", \"#00cc96\", \"#ab63fa\", \"#FFA15A\", \"#19d3f3\", \"#FF6692\", \"#B6E880\", \"#FF97FF\", \"#FECB52\"], \"font\": {\"color\": \"#2a3f5f\"}, \"geo\": {\"bgcolor\": \"white\", \"lakecolor\": \"white\", \"landcolor\": \"#E5ECF6\", \"showlakes\": true, \"showland\": true, \"subunitcolor\": \"white\"}, \"hoverlabel\": {\"align\": \"left\"}, \"hovermode\": \"closest\", \"mapbox\": {\"style\": \"light\"}, \"paper_bgcolor\": \"white\", \"plot_bgcolor\": \"#E5ECF6\", \"polar\": {\"angularaxis\": {\"gridcolor\": \"white\", \"linecolor\": \"white\", \"ticks\": \"\"}, \"bgcolor\": \"#E5ECF6\", \"radialaxis\": {\"gridcolor\": \"white\", \"linecolor\": \"white\", \"ticks\": \"\"}}, \"scene\": {\"xaxis\": {\"backgroundcolor\": \"#E5ECF6\", \"gridcolor\": \"white\", \"gridwidth\": 2, \"linecolor\": \"white\", \"showbackground\": true, \"ticks\": \"\", \"zerolinecolor\": \"white\"}, \"yaxis\": {\"backgroundcolor\": \"#E5ECF6\", \"gridcolor\": \"white\", \"gridwidth\": 2, \"linecolor\": \"white\", \"showbackground\": true, \"ticks\": \"\", \"zerolinecolor\": \"white\"}, \"zaxis\": {\"backgroundcolor\": \"#E5ECF6\", \"gridcolor\": \"white\", \"gridwidth\": 2, \"linecolor\": \"white\", \"showbackground\": true, \"ticks\": \"\", \"zerolinecolor\": \"white\"}}, \"shapedefaults\": {\"line\": {\"color\": \"#2a3f5f\"}}, \"ternary\": {\"aaxis\": {\"gridcolor\": \"white\", \"linecolor\": \"white\", \"ticks\": \"\"}, \"baxis\": {\"gridcolor\": \"white\", \"linecolor\": \"white\", \"ticks\": \"\"}, \"bgcolor\": \"#E5ECF6\", \"caxis\": {\"gridcolor\": \"white\", \"linecolor\": \"white\", \"ticks\": \"\"}}, \"title\": {\"x\": 0.05}, \"xaxis\": {\"automargin\": true, \"gridcolor\": \"white\", \"linecolor\": \"white\", \"ticks\": \"\", \"title\": {\"standoff\": 15}, \"zerolinecolor\": \"white\", \"zerolinewidth\": 2}, \"yaxis\": {\"automargin\": true, \"gridcolor\": \"white\", \"linecolor\": \"white\", \"ticks\": \"\", \"title\": {\"standoff\": 15}, \"zerolinecolor\": \"white\", \"zerolinewidth\": 2}}}, \"title\": {\"font\": {\"color\": \"#4D5663\"}}, \"xaxis\": {\"gridcolor\": \"#E1E5ED\", \"showgrid\": true, \"tickfont\": {\"color\": \"#4D5663\"}, \"title\": {\"font\": {\"color\": \"#4D5663\"}, \"text\": \"\"}, \"zerolinecolor\": \"#E1E5ED\"}, \"yaxis\": {\"gridcolor\": \"#E1E5ED\", \"showgrid\": true, \"tickfont\": {\"color\": \"#4D5663\"}, \"title\": {\"font\": {\"color\": \"#4D5663\"}, \"text\": \"\"}, \"zerolinecolor\": \"#E1E5ED\"}},                        {\"showLink\": true, \"linkText\": \"Export to plot.ly\", \"plotlyServerURL\": \"https://plot.ly\", \"responsive\": true}                    ).then(function(){\n",
       "                            \n",
       "var gd = document.getElementById('2334f7ca-e25a-4563-8c9c-9ae6ae8bc356');\n",
       "var x = new MutationObserver(function (mutations, observer) {{\n",
       "        var display = window.getComputedStyle(gd).display;\n",
       "        if (!display || display === 'none') {{\n",
       "            console.log([gd, 'removed!']);\n",
       "            Plotly.purge(gd);\n",
       "            observer.disconnect();\n",
       "        }}\n",
       "}});\n",
       "\n",
       "// Listen for the removal of the full notebook cells\n",
       "var notebookContainer = gd.closest('#notebook-container');\n",
       "if (notebookContainer) {{\n",
       "    x.observe(notebookContainer, {childList: true});\n",
       "}}\n",
       "\n",
       "// Listen for the clearing of the current output cell\n",
       "var outputEl = gd.closest('.output');\n",
       "if (outputEl) {{\n",
       "    x.observe(outputEl, {childList: true});\n",
       "}}\n",
       "\n",
       "                        })                };                });            </script>        </div>"
      ]
     },
     "metadata": {},
     "output_type": "display_data"
    }
   ],
   "source": [
    "df.iplot(kind='bubble',x='A',y='B',size='C')"
   ]
  },
  {
   "cell_type": "markdown",
   "metadata": {},
   "source": [
    "## scatter_matrix()\n",
    "\n",
    "Similar a sns.pairplot()"
   ]
  },
  {
   "cell_type": "code",
   "execution_count": 39,
   "metadata": {},
   "outputs": [
    {
     "data": {
      "application/vnd.plotly.v1+json": {
       "config": {
        "linkText": "Export to plot.ly",
        "plotlyServerURL": "https://plot.ly",
        "showLink": true
       },
       "data": [
        {
         "histfunc": "count",
         "histnorm": "",
         "marker": {
          "color": "rgba(255, 153, 51, 1.0)",
          "line": {
           "color": "#4D5663",
           "width": 1.3
          }
         },
         "name": "A",
         "nbinsx": 10,
         "opacity": 0.8,
         "orientation": "v",
         "type": "histogram",
         "x": [
          -0.7847662484388648,
          0.5887290310128517,
          -0.5514071090214487,
          0.08840812267345483,
          -0.957132276940948,
          -0.1747201870186245,
          -0.775383100878524,
          0.4945756457748739,
          -0.45784395724355104,
          -0.7299542464491161,
          2.120508885901264,
          -2.2347271889052647,
          -0.216174711781822,
          -2.846486640307819,
          -0.5216053610061037,
          1.0601574186659917,
          -0.3979067592077603,
          1.8802233263322539,
          1.203817333279283,
          -0.8843606774688277,
          1.03031872907569,
          -0.4257523627376736,
          0.8729366328539484,
          0.7015791574627109,
          -0.38686542056186624,
          0.8413262603687331,
          0.05399293108518775,
          0.043179544666969855,
          -2.9220805766557323,
          0.08340038015300334,
          3.5137406018102793,
          0.06710822950599729,
          -0.8317463668012348,
          0.11787537086880737,
          -0.40091873975019443,
          -0.647274188279839,
          -1.2526617333340366,
          0.06122457684630888,
          -0.1444120037528103,
          -0.7903713996915007,
          -0.1232958328995701,
          1.026244203860463,
          0.24784413058545027,
          0.07654902167655836,
          0.6316802536407472,
          -1.3413050172070276,
          -1.4416712533630667,
          -0.10415219238574984,
          0.20676801944816472,
          -0.8887833483806576,
          -0.18089986860947765,
          -1.1791549223426931,
          0.8841397805651795,
          0.5430023355298771,
          -0.9259578970567877,
          0.6119061006624439,
          0.574018323672333,
          1.3093577253163893,
          0.5563033371402298,
          1.8136943649705675,
          -0.6442541240275126,
          2.0713926711402553,
          -1.0477806925379496,
          -1.2191288405576126,
          0.46833740043259986,
          -0.2272374953217602,
          -0.48093633214803955,
          0.9640139774346485,
          0.2698896656277988,
          0.08284925087705126,
          0.4891500704201871,
          0.740009758283557,
          -0.9394610595033338,
          1.0125457768568211,
          -0.6380799097814033,
          -0.532143093193377,
          0.7800276603962227,
          -0.6985563151031897,
          -0.9621143302322339,
          -0.6193184582765459,
          0.9043920195398775,
          -1.4522395983454406,
          -0.4893232211608719,
          -0.2642170873783527,
          0.8316859700169948,
          1.2489509315576732,
          -0.405229252832221,
          -0.3993210218041567,
          0.6301892319317067,
          -2.032615377066661,
          -0.2978316144783474,
          -0.7430723467788538,
          -0.05140898799930743,
          -1.6170545960302538,
          -0.04932390232689837,
          -0.8155700860817712,
          -1.7788024582795317,
          -1.6174420443715154,
          0.11267862990631071,
          1.2787293893763918
         ],
         "xaxis": "x",
         "yaxis": "y"
        },
        {
         "line": {
          "color": "rgba(128, 128, 128, 1.0)",
          "dash": "solid",
          "shape": "linear",
          "width": 1.3
         },
         "marker": {
          "size": 2,
          "symbol": "circle"
         },
         "mode": "markers",
         "name": "A",
         "text": "",
         "type": "scatter",
         "x": [
          0.5572145425894736,
          -0.45504520577696367,
          0.4397244784970589,
          -0.2763388377694911,
          -0.08571023954655589,
          -1.6755292215779456,
          -1.8334924719643624,
          -0.660543388652614,
          0.7078090548539063,
          -0.30404582808658714,
          0.7983154440193301,
          0.6389687724326867,
          -1.8050197876858236,
          -0.4025794005207336,
          0.3704656336659906,
          -0.747624783090879,
          -0.4392091376941933,
          -0.33047162205148,
          -0.1364354262968888,
          -0.8633476502974338,
          -0.16814011189850314,
          -1.4696332886345858,
          0.1585322391907727,
          -2.418076999992624,
          0.6622146788284973,
          0.8721367999555061,
          -1.25976348157494,
          1.8348088004628051,
          0.47688346565844086,
          0.14213908096085381,
          -1.8637299698264642,
          0.18280931235672152,
          1.2439722521750312,
          -0.3733871869316914,
          -2.1740967689550086,
          -0.15732638770451998,
          0.0633022732022018,
          -0.7790326367796533,
          -0.24491703017219643,
          0.5040191789600832,
          -0.9515995713121651,
          -0.8414065588473638,
          0.5955986478906864,
          0.7154922596789571,
          -0.0540021267028095,
          -0.045508513386948043,
          0.6119646956030508,
          1.1102705897798857,
          0.19750938669276072,
          -1.0931085199143398,
          -0.6088374888059043,
          0.879357016729816,
          -1.0545177862425543,
          -1.0615585452683487,
          -0.3395286389548686,
          0.9167954596280192,
          0.3056287217220758,
          1.1897269806627724,
          -0.5785892939226185,
          1.1882930981736926,
          -1.9453934420960646,
          0.40404565925308905,
          -0.47793302435649154,
          0.9554348023325204,
          -0.12910337890098902,
          -0.011338204028426009,
          -1.2864013072197011,
          1.9501586903960613,
          0.18449132473611274,
          -1.352778989230137,
          0.8139484363174008,
          -0.282173902035499,
          0.055616892028192616,
          1.1233026493199727,
          -0.06175109687338001,
          2.6230381340766007,
          -0.5766957704909688,
          -0.7597006964718782,
          -0.3769501067141862,
          -0.1760010222169406,
          2.688186774678746,
          -2.3362883690467933,
          -0.00034980439845702736,
          -0.3079688557143545,
          -0.4116002100009419,
          0.5599206118343988,
          0.16222988523787568,
          -0.3746644731060114,
          1.3783064233466986,
          -0.28963624409219874,
          0.48917493779357635,
          0.84254699744496,
          -0.16749916523803782,
          -0.44959956190182654,
          0.5678994707214291,
          0.05294747982035926,
          -0.5544304088936962,
          -0.41553679147877703,
          -1.9093260964550836,
          -0.11837954489758033
         ],
         "xaxis": "x2",
         "y": [
          -0.7847662484388648,
          0.5887290310128517,
          -0.5514071090214487,
          0.08840812267345483,
          -0.957132276940948,
          -0.1747201870186245,
          -0.775383100878524,
          0.4945756457748739,
          -0.45784395724355104,
          -0.7299542464491161,
          2.120508885901264,
          -2.2347271889052647,
          -0.216174711781822,
          -2.846486640307819,
          -0.5216053610061037,
          1.0601574186659917,
          -0.3979067592077603,
          1.8802233263322539,
          1.203817333279283,
          -0.8843606774688277,
          1.03031872907569,
          -0.4257523627376736,
          0.8729366328539484,
          0.7015791574627109,
          -0.38686542056186624,
          0.8413262603687331,
          0.05399293108518775,
          0.043179544666969855,
          -2.9220805766557323,
          0.08340038015300334,
          3.5137406018102793,
          0.06710822950599729,
          -0.8317463668012348,
          0.11787537086880737,
          -0.40091873975019443,
          -0.647274188279839,
          -1.2526617333340366,
          0.06122457684630888,
          -0.1444120037528103,
          -0.7903713996915007,
          -0.1232958328995701,
          1.026244203860463,
          0.24784413058545027,
          0.07654902167655836,
          0.6316802536407472,
          -1.3413050172070276,
          -1.4416712533630667,
          -0.10415219238574984,
          0.20676801944816472,
          -0.8887833483806576,
          -0.18089986860947765,
          -1.1791549223426931,
          0.8841397805651795,
          0.5430023355298771,
          -0.9259578970567877,
          0.6119061006624439,
          0.574018323672333,
          1.3093577253163893,
          0.5563033371402298,
          1.8136943649705675,
          -0.6442541240275126,
          2.0713926711402553,
          -1.0477806925379496,
          -1.2191288405576126,
          0.46833740043259986,
          -0.2272374953217602,
          -0.48093633214803955,
          0.9640139774346485,
          0.2698896656277988,
          0.08284925087705126,
          0.4891500704201871,
          0.740009758283557,
          -0.9394610595033338,
          1.0125457768568211,
          -0.6380799097814033,
          -0.532143093193377,
          0.7800276603962227,
          -0.6985563151031897,
          -0.9621143302322339,
          -0.6193184582765459,
          0.9043920195398775,
          -1.4522395983454406,
          -0.4893232211608719,
          -0.2642170873783527,
          0.8316859700169948,
          1.2489509315576732,
          -0.405229252832221,
          -0.3993210218041567,
          0.6301892319317067,
          -2.032615377066661,
          -0.2978316144783474,
          -0.7430723467788538,
          -0.05140898799930743,
          -1.6170545960302538,
          -0.04932390232689837,
          -0.8155700860817712,
          -1.7788024582795317,
          -1.6174420443715154,
          0.11267862990631071,
          1.2787293893763918
         ],
         "yaxis": "y2"
        },
        {
         "line": {
          "color": "rgba(128, 128, 128, 1.0)",
          "dash": "solid",
          "shape": "linear",
          "width": 1.3
         },
         "marker": {
          "size": 2,
          "symbol": "circle"
         },
         "mode": "markers",
         "name": "A",
         "text": "",
         "type": "scatter",
         "x": [
          -0.8455490038100929,
          -0.48454338439593486,
          0.02742728679775391,
          -1.321577142465884,
          0.22034173887314507,
          -2.093631831489845,
          1.6375593956971584,
          -1.1277801936235505,
          0.3825700052350184,
          1.8822973419146725,
          -0.39605151558761664,
          0.02557761876486907,
          -0.4001338463321016,
          -0.5476109604279163,
          1.0000540287182,
          1.3809141250288433,
          1.3559001306200087,
          -0.537461808418586,
          1.9764025692250418,
          -0.5450285848233788,
          -0.8184105442459356,
          0.9660172851223123,
          0.04360607110929835,
          0.6555413572469578,
          0.6478938871416958,
          0.8232634438410178,
          0.360630010432651,
          -1.666274007640765,
          1.2420290975760535,
          -0.427908886341726,
          0.6953509714286061,
          0.22873233028397466,
          2.5809679815426256,
          -0.647901182200101,
          1.161375338165576,
          0.9335962221008012,
          1.6328807925024402,
          -0.3374022029089827,
          -1.769585792875065,
          0.7824251490555052,
          -0.45802641924446996,
          0.5068791824566319,
          0.5275133432840038,
          0.9511672102602415,
          -0.7625223505564455,
          -2.410741386351486,
          -0.507924546178929,
          -1.4675375868347356,
          -0.27459017964509824,
          -0.03113635927484934,
          0.7391712376475289,
          0.2970522520979106,
          2.4314459346924906,
          -1.1951128713298187,
          -0.12754852794758628,
          0.3815298036628025,
          -0.27579117180706453,
          -1.1895175411507892,
          0.4685399709554705,
          -0.5370305241661832,
          -0.01690455876988005,
          -0.3187115873922865,
          0.5699447190004894,
          0.542856573551537,
          0.4170790196748748,
          1.119691957283167,
          0.48628227147625475,
          -0.35947513245747564,
          -0.756552382995433,
          -2.221532168108824,
          0.6100525508901942,
          1.0174467014168214,
          -0.5054489385179858,
          -0.358152743368648,
          -2.4109117440282226,
          0.8132654839817042,
          -0.9469437587689875,
          -0.1966778287985121,
          2.5269418651932893,
          -1.2597415003789403,
          1.0758341992422267,
          -0.7069671472601676,
          -0.7806185238327553,
          -0.13686197245146764,
          0.5951662456417477,
          0.8120653119290981,
          -0.22037037970159096,
          1.8292113959816145,
          -0.7655358365700549,
          -1.9760962864906375,
          -0.44449561619815775,
          -2.8920929220710625,
          -0.1533771025874444,
          0.4240708871637344,
          0.5940992720388655,
          -0.3215738488582108,
          -1.1603659418850012,
          -1.1820523847755509,
          -2.8783077551045917,
          -0.679565466604065
         ],
         "xaxis": "x3",
         "y": [
          -0.7847662484388648,
          0.5887290310128517,
          -0.5514071090214487,
          0.08840812267345483,
          -0.957132276940948,
          -0.1747201870186245,
          -0.775383100878524,
          0.4945756457748739,
          -0.45784395724355104,
          -0.7299542464491161,
          2.120508885901264,
          -2.2347271889052647,
          -0.216174711781822,
          -2.846486640307819,
          -0.5216053610061037,
          1.0601574186659917,
          -0.3979067592077603,
          1.8802233263322539,
          1.203817333279283,
          -0.8843606774688277,
          1.03031872907569,
          -0.4257523627376736,
          0.8729366328539484,
          0.7015791574627109,
          -0.38686542056186624,
          0.8413262603687331,
          0.05399293108518775,
          0.043179544666969855,
          -2.9220805766557323,
          0.08340038015300334,
          3.5137406018102793,
          0.06710822950599729,
          -0.8317463668012348,
          0.11787537086880737,
          -0.40091873975019443,
          -0.647274188279839,
          -1.2526617333340366,
          0.06122457684630888,
          -0.1444120037528103,
          -0.7903713996915007,
          -0.1232958328995701,
          1.026244203860463,
          0.24784413058545027,
          0.07654902167655836,
          0.6316802536407472,
          -1.3413050172070276,
          -1.4416712533630667,
          -0.10415219238574984,
          0.20676801944816472,
          -0.8887833483806576,
          -0.18089986860947765,
          -1.1791549223426931,
          0.8841397805651795,
          0.5430023355298771,
          -0.9259578970567877,
          0.6119061006624439,
          0.574018323672333,
          1.3093577253163893,
          0.5563033371402298,
          1.8136943649705675,
          -0.6442541240275126,
          2.0713926711402553,
          -1.0477806925379496,
          -1.2191288405576126,
          0.46833740043259986,
          -0.2272374953217602,
          -0.48093633214803955,
          0.9640139774346485,
          0.2698896656277988,
          0.08284925087705126,
          0.4891500704201871,
          0.740009758283557,
          -0.9394610595033338,
          1.0125457768568211,
          -0.6380799097814033,
          -0.532143093193377,
          0.7800276603962227,
          -0.6985563151031897,
          -0.9621143302322339,
          -0.6193184582765459,
          0.9043920195398775,
          -1.4522395983454406,
          -0.4893232211608719,
          -0.2642170873783527,
          0.8316859700169948,
          1.2489509315576732,
          -0.405229252832221,
          -0.3993210218041567,
          0.6301892319317067,
          -2.032615377066661,
          -0.2978316144783474,
          -0.7430723467788538,
          -0.05140898799930743,
          -1.6170545960302538,
          -0.04932390232689837,
          -0.8155700860817712,
          -1.7788024582795317,
          -1.6174420443715154,
          0.11267862990631071,
          1.2787293893763918
         ],
         "yaxis": "y3"
        },
        {
         "line": {
          "color": "rgba(128, 128, 128, 1.0)",
          "dash": "solid",
          "shape": "linear",
          "width": 1.3
         },
         "marker": {
          "size": 2,
          "symbol": "circle"
         },
         "mode": "markers",
         "name": "A",
         "text": "",
         "type": "scatter",
         "x": [
          0.6723335848503301,
          1.101801859179172,
          0.7357435490315392,
          -1.2280625297956265,
          -0.44005532138364406,
          -0.16803502433740874,
          0.17351548394524194,
          -0.10633243490621885,
          0.7743910025386193,
          -1.4194451682443574,
          -0.10468995990216429,
          -1.0228073917500156,
          -1.5110864981774574,
          0.46774634637526913,
          -0.029036546764236424,
          2.257282303524755,
          -0.8534145035587284,
          -0.151571239746341,
          0.05571582131259527,
          0.7206600435884811,
          -0.11948099341997853,
          -0.04046681797066169,
          -2.1807707019167184,
          1.9278107411174663,
          -0.34345869873683005,
          -0.8830041256269417,
          -0.30625062177685547,
          -0.9700713583349314,
          -0.6761901851859845,
          2.0776298353366585,
          -0.6253688610172123,
          -3.4795102633333856,
          -0.49202318052004884,
          -0.6728050067233378,
          0.443847461494667,
          0.03756168972114086,
          2.026266202989236,
          -1.2829151383801376,
          -0.8877238787364174,
          -0.8269487791154158,
          0.8501296371411101,
          -0.4911038405418345,
          -0.4117073853202939,
          0.4508464892954036,
          -0.8011710991782471,
          0.23456400954708972,
          1.21979461080376,
          0.2705423336947931,
          -1.3749472636666433,
          -1.6443155450305198,
          -0.5901230324312452,
          -2.601359374010863,
          0.006956209350416803,
          0.35144868243848426,
          -0.5922937276979022,
          -0.415220928358183,
          -1.1478057759321942,
          0.240849997002987,
          0.39133678982290127,
          0.2812337799478269,
          -0.6061286804849573,
          0.6040571617321238,
          -0.65902589422123,
          0.5803167796163067,
          -2.0540546419731345,
          0.6805207680795181,
          0.18160651808373954,
          -0.5703572679097334,
          -0.05714329407579369,
          -0.40012661552664086,
          0.13796214865742956,
          1.0912609384875758,
          -0.5356081456092818,
          -0.26873089340455436,
          -0.4614811846134316,
          -0.09699149677595723,
          1.6269235472311914,
          0.21715869422828132,
          2.2500908709008414,
          0.943691136337086,
          0.2853156660825992,
          0.4646533381244412,
          -1.4264389756739138,
          -0.6198502359995962,
          0.5971836768817488,
          -0.25558068329428535,
          0.9978931730834676,
          -0.4116200673653917,
          -0.6004733877734261,
          -2.407506367171087,
          -1.7368375573647012,
          -0.3682387015220804,
          -2.377384140524957,
          1.018779544514356,
          -0.3335752771203218,
          0.16240182735686323,
          -1.2189955901752059,
          -0.7814894449663207,
          -0.5443515871725954,
          -0.7259076273739898
         ],
         "xaxis": "x4",
         "y": [
          -0.7847662484388648,
          0.5887290310128517,
          -0.5514071090214487,
          0.08840812267345483,
          -0.957132276940948,
          -0.1747201870186245,
          -0.775383100878524,
          0.4945756457748739,
          -0.45784395724355104,
          -0.7299542464491161,
          2.120508885901264,
          -2.2347271889052647,
          -0.216174711781822,
          -2.846486640307819,
          -0.5216053610061037,
          1.0601574186659917,
          -0.3979067592077603,
          1.8802233263322539,
          1.203817333279283,
          -0.8843606774688277,
          1.03031872907569,
          -0.4257523627376736,
          0.8729366328539484,
          0.7015791574627109,
          -0.38686542056186624,
          0.8413262603687331,
          0.05399293108518775,
          0.043179544666969855,
          -2.9220805766557323,
          0.08340038015300334,
          3.5137406018102793,
          0.06710822950599729,
          -0.8317463668012348,
          0.11787537086880737,
          -0.40091873975019443,
          -0.647274188279839,
          -1.2526617333340366,
          0.06122457684630888,
          -0.1444120037528103,
          -0.7903713996915007,
          -0.1232958328995701,
          1.026244203860463,
          0.24784413058545027,
          0.07654902167655836,
          0.6316802536407472,
          -1.3413050172070276,
          -1.4416712533630667,
          -0.10415219238574984,
          0.20676801944816472,
          -0.8887833483806576,
          -0.18089986860947765,
          -1.1791549223426931,
          0.8841397805651795,
          0.5430023355298771,
          -0.9259578970567877,
          0.6119061006624439,
          0.574018323672333,
          1.3093577253163893,
          0.5563033371402298,
          1.8136943649705675,
          -0.6442541240275126,
          2.0713926711402553,
          -1.0477806925379496,
          -1.2191288405576126,
          0.46833740043259986,
          -0.2272374953217602,
          -0.48093633214803955,
          0.9640139774346485,
          0.2698896656277988,
          0.08284925087705126,
          0.4891500704201871,
          0.740009758283557,
          -0.9394610595033338,
          1.0125457768568211,
          -0.6380799097814033,
          -0.532143093193377,
          0.7800276603962227,
          -0.6985563151031897,
          -0.9621143302322339,
          -0.6193184582765459,
          0.9043920195398775,
          -1.4522395983454406,
          -0.4893232211608719,
          -0.2642170873783527,
          0.8316859700169948,
          1.2489509315576732,
          -0.405229252832221,
          -0.3993210218041567,
          0.6301892319317067,
          -2.032615377066661,
          -0.2978316144783474,
          -0.7430723467788538,
          -0.05140898799930743,
          -1.6170545960302538,
          -0.04932390232689837,
          -0.8155700860817712,
          -1.7788024582795317,
          -1.6174420443715154,
          0.11267862990631071,
          1.2787293893763918
         ],
         "yaxis": "y4"
        },
        {
         "line": {
          "color": "rgba(128, 128, 128, 1.0)",
          "dash": "solid",
          "shape": "linear",
          "width": 1.3
         },
         "marker": {
          "size": 2,
          "symbol": "circle"
         },
         "mode": "markers",
         "name": "B",
         "text": "",
         "type": "scatter",
         "x": [
          -0.7847662484388648,
          0.5887290310128517,
          -0.5514071090214487,
          0.08840812267345483,
          -0.957132276940948,
          -0.1747201870186245,
          -0.775383100878524,
          0.4945756457748739,
          -0.45784395724355104,
          -0.7299542464491161,
          2.120508885901264,
          -2.2347271889052647,
          -0.216174711781822,
          -2.846486640307819,
          -0.5216053610061037,
          1.0601574186659917,
          -0.3979067592077603,
          1.8802233263322539,
          1.203817333279283,
          -0.8843606774688277,
          1.03031872907569,
          -0.4257523627376736,
          0.8729366328539484,
          0.7015791574627109,
          -0.38686542056186624,
          0.8413262603687331,
          0.05399293108518775,
          0.043179544666969855,
          -2.9220805766557323,
          0.08340038015300334,
          3.5137406018102793,
          0.06710822950599729,
          -0.8317463668012348,
          0.11787537086880737,
          -0.40091873975019443,
          -0.647274188279839,
          -1.2526617333340366,
          0.06122457684630888,
          -0.1444120037528103,
          -0.7903713996915007,
          -0.1232958328995701,
          1.026244203860463,
          0.24784413058545027,
          0.07654902167655836,
          0.6316802536407472,
          -1.3413050172070276,
          -1.4416712533630667,
          -0.10415219238574984,
          0.20676801944816472,
          -0.8887833483806576,
          -0.18089986860947765,
          -1.1791549223426931,
          0.8841397805651795,
          0.5430023355298771,
          -0.9259578970567877,
          0.6119061006624439,
          0.574018323672333,
          1.3093577253163893,
          0.5563033371402298,
          1.8136943649705675,
          -0.6442541240275126,
          2.0713926711402553,
          -1.0477806925379496,
          -1.2191288405576126,
          0.46833740043259986,
          -0.2272374953217602,
          -0.48093633214803955,
          0.9640139774346485,
          0.2698896656277988,
          0.08284925087705126,
          0.4891500704201871,
          0.740009758283557,
          -0.9394610595033338,
          1.0125457768568211,
          -0.6380799097814033,
          -0.532143093193377,
          0.7800276603962227,
          -0.6985563151031897,
          -0.9621143302322339,
          -0.6193184582765459,
          0.9043920195398775,
          -1.4522395983454406,
          -0.4893232211608719,
          -0.2642170873783527,
          0.8316859700169948,
          1.2489509315576732,
          -0.405229252832221,
          -0.3993210218041567,
          0.6301892319317067,
          -2.032615377066661,
          -0.2978316144783474,
          -0.7430723467788538,
          -0.05140898799930743,
          -1.6170545960302538,
          -0.04932390232689837,
          -0.8155700860817712,
          -1.7788024582795317,
          -1.6174420443715154,
          0.11267862990631071,
          1.2787293893763918
         ],
         "xaxis": "x5",
         "y": [
          0.5572145425894736,
          -0.45504520577696367,
          0.4397244784970589,
          -0.2763388377694911,
          -0.08571023954655589,
          -1.6755292215779456,
          -1.8334924719643624,
          -0.660543388652614,
          0.7078090548539063,
          -0.30404582808658714,
          0.7983154440193301,
          0.6389687724326867,
          -1.8050197876858236,
          -0.4025794005207336,
          0.3704656336659906,
          -0.747624783090879,
          -0.4392091376941933,
          -0.33047162205148,
          -0.1364354262968888,
          -0.8633476502974338,
          -0.16814011189850314,
          -1.4696332886345858,
          0.1585322391907727,
          -2.418076999992624,
          0.6622146788284973,
          0.8721367999555061,
          -1.25976348157494,
          1.8348088004628051,
          0.47688346565844086,
          0.14213908096085381,
          -1.8637299698264642,
          0.18280931235672152,
          1.2439722521750312,
          -0.3733871869316914,
          -2.1740967689550086,
          -0.15732638770451998,
          0.0633022732022018,
          -0.7790326367796533,
          -0.24491703017219643,
          0.5040191789600832,
          -0.9515995713121651,
          -0.8414065588473638,
          0.5955986478906864,
          0.7154922596789571,
          -0.0540021267028095,
          -0.045508513386948043,
          0.6119646956030508,
          1.1102705897798857,
          0.19750938669276072,
          -1.0931085199143398,
          -0.6088374888059043,
          0.879357016729816,
          -1.0545177862425543,
          -1.0615585452683487,
          -0.3395286389548686,
          0.9167954596280192,
          0.3056287217220758,
          1.1897269806627724,
          -0.5785892939226185,
          1.1882930981736926,
          -1.9453934420960646,
          0.40404565925308905,
          -0.47793302435649154,
          0.9554348023325204,
          -0.12910337890098902,
          -0.011338204028426009,
          -1.2864013072197011,
          1.9501586903960613,
          0.18449132473611274,
          -1.352778989230137,
          0.8139484363174008,
          -0.282173902035499,
          0.055616892028192616,
          1.1233026493199727,
          -0.06175109687338001,
          2.6230381340766007,
          -0.5766957704909688,
          -0.7597006964718782,
          -0.3769501067141862,
          -0.1760010222169406,
          2.688186774678746,
          -2.3362883690467933,
          -0.00034980439845702736,
          -0.3079688557143545,
          -0.4116002100009419,
          0.5599206118343988,
          0.16222988523787568,
          -0.3746644731060114,
          1.3783064233466986,
          -0.28963624409219874,
          0.48917493779357635,
          0.84254699744496,
          -0.16749916523803782,
          -0.44959956190182654,
          0.5678994707214291,
          0.05294747982035926,
          -0.5544304088936962,
          -0.41553679147877703,
          -1.9093260964550836,
          -0.11837954489758033
         ],
         "yaxis": "y5"
        },
        {
         "histfunc": "count",
         "histnorm": "",
         "marker": {
          "color": "rgba(55, 128, 191, 1.0)",
          "line": {
           "color": "#4D5663",
           "width": 1.3
          }
         },
         "name": "B",
         "nbinsx": 10,
         "opacity": 0.8,
         "orientation": "v",
         "type": "histogram",
         "x": [
          0.5572145425894736,
          -0.45504520577696367,
          0.4397244784970589,
          -0.2763388377694911,
          -0.08571023954655589,
          -1.6755292215779456,
          -1.8334924719643624,
          -0.660543388652614,
          0.7078090548539063,
          -0.30404582808658714,
          0.7983154440193301,
          0.6389687724326867,
          -1.8050197876858236,
          -0.4025794005207336,
          0.3704656336659906,
          -0.747624783090879,
          -0.4392091376941933,
          -0.33047162205148,
          -0.1364354262968888,
          -0.8633476502974338,
          -0.16814011189850314,
          -1.4696332886345858,
          0.1585322391907727,
          -2.418076999992624,
          0.6622146788284973,
          0.8721367999555061,
          -1.25976348157494,
          1.8348088004628051,
          0.47688346565844086,
          0.14213908096085381,
          -1.8637299698264642,
          0.18280931235672152,
          1.2439722521750312,
          -0.3733871869316914,
          -2.1740967689550086,
          -0.15732638770451998,
          0.0633022732022018,
          -0.7790326367796533,
          -0.24491703017219643,
          0.5040191789600832,
          -0.9515995713121651,
          -0.8414065588473638,
          0.5955986478906864,
          0.7154922596789571,
          -0.0540021267028095,
          -0.045508513386948043,
          0.6119646956030508,
          1.1102705897798857,
          0.19750938669276072,
          -1.0931085199143398,
          -0.6088374888059043,
          0.879357016729816,
          -1.0545177862425543,
          -1.0615585452683487,
          -0.3395286389548686,
          0.9167954596280192,
          0.3056287217220758,
          1.1897269806627724,
          -0.5785892939226185,
          1.1882930981736926,
          -1.9453934420960646,
          0.40404565925308905,
          -0.47793302435649154,
          0.9554348023325204,
          -0.12910337890098902,
          -0.011338204028426009,
          -1.2864013072197011,
          1.9501586903960613,
          0.18449132473611274,
          -1.352778989230137,
          0.8139484363174008,
          -0.282173902035499,
          0.055616892028192616,
          1.1233026493199727,
          -0.06175109687338001,
          2.6230381340766007,
          -0.5766957704909688,
          -0.7597006964718782,
          -0.3769501067141862,
          -0.1760010222169406,
          2.688186774678746,
          -2.3362883690467933,
          -0.00034980439845702736,
          -0.3079688557143545,
          -0.4116002100009419,
          0.5599206118343988,
          0.16222988523787568,
          -0.3746644731060114,
          1.3783064233466986,
          -0.28963624409219874,
          0.48917493779357635,
          0.84254699744496,
          -0.16749916523803782,
          -0.44959956190182654,
          0.5678994707214291,
          0.05294747982035926,
          -0.5544304088936962,
          -0.41553679147877703,
          -1.9093260964550836,
          -0.11837954489758033
         ],
         "xaxis": "x6",
         "yaxis": "y6"
        },
        {
         "line": {
          "color": "rgba(128, 128, 128, 1.0)",
          "dash": "solid",
          "shape": "linear",
          "width": 1.3
         },
         "marker": {
          "size": 2,
          "symbol": "circle"
         },
         "mode": "markers",
         "name": "B",
         "text": "",
         "type": "scatter",
         "x": [
          -0.8455490038100929,
          -0.48454338439593486,
          0.02742728679775391,
          -1.321577142465884,
          0.22034173887314507,
          -2.093631831489845,
          1.6375593956971584,
          -1.1277801936235505,
          0.3825700052350184,
          1.8822973419146725,
          -0.39605151558761664,
          0.02557761876486907,
          -0.4001338463321016,
          -0.5476109604279163,
          1.0000540287182,
          1.3809141250288433,
          1.3559001306200087,
          -0.537461808418586,
          1.9764025692250418,
          -0.5450285848233788,
          -0.8184105442459356,
          0.9660172851223123,
          0.04360607110929835,
          0.6555413572469578,
          0.6478938871416958,
          0.8232634438410178,
          0.360630010432651,
          -1.666274007640765,
          1.2420290975760535,
          -0.427908886341726,
          0.6953509714286061,
          0.22873233028397466,
          2.5809679815426256,
          -0.647901182200101,
          1.161375338165576,
          0.9335962221008012,
          1.6328807925024402,
          -0.3374022029089827,
          -1.769585792875065,
          0.7824251490555052,
          -0.45802641924446996,
          0.5068791824566319,
          0.5275133432840038,
          0.9511672102602415,
          -0.7625223505564455,
          -2.410741386351486,
          -0.507924546178929,
          -1.4675375868347356,
          -0.27459017964509824,
          -0.03113635927484934,
          0.7391712376475289,
          0.2970522520979106,
          2.4314459346924906,
          -1.1951128713298187,
          -0.12754852794758628,
          0.3815298036628025,
          -0.27579117180706453,
          -1.1895175411507892,
          0.4685399709554705,
          -0.5370305241661832,
          -0.01690455876988005,
          -0.3187115873922865,
          0.5699447190004894,
          0.542856573551537,
          0.4170790196748748,
          1.119691957283167,
          0.48628227147625475,
          -0.35947513245747564,
          -0.756552382995433,
          -2.221532168108824,
          0.6100525508901942,
          1.0174467014168214,
          -0.5054489385179858,
          -0.358152743368648,
          -2.4109117440282226,
          0.8132654839817042,
          -0.9469437587689875,
          -0.1966778287985121,
          2.5269418651932893,
          -1.2597415003789403,
          1.0758341992422267,
          -0.7069671472601676,
          -0.7806185238327553,
          -0.13686197245146764,
          0.5951662456417477,
          0.8120653119290981,
          -0.22037037970159096,
          1.8292113959816145,
          -0.7655358365700549,
          -1.9760962864906375,
          -0.44449561619815775,
          -2.8920929220710625,
          -0.1533771025874444,
          0.4240708871637344,
          0.5940992720388655,
          -0.3215738488582108,
          -1.1603659418850012,
          -1.1820523847755509,
          -2.8783077551045917,
          -0.679565466604065
         ],
         "xaxis": "x7",
         "y": [
          0.5572145425894736,
          -0.45504520577696367,
          0.4397244784970589,
          -0.2763388377694911,
          -0.08571023954655589,
          -1.6755292215779456,
          -1.8334924719643624,
          -0.660543388652614,
          0.7078090548539063,
          -0.30404582808658714,
          0.7983154440193301,
          0.6389687724326867,
          -1.8050197876858236,
          -0.4025794005207336,
          0.3704656336659906,
          -0.747624783090879,
          -0.4392091376941933,
          -0.33047162205148,
          -0.1364354262968888,
          -0.8633476502974338,
          -0.16814011189850314,
          -1.4696332886345858,
          0.1585322391907727,
          -2.418076999992624,
          0.6622146788284973,
          0.8721367999555061,
          -1.25976348157494,
          1.8348088004628051,
          0.47688346565844086,
          0.14213908096085381,
          -1.8637299698264642,
          0.18280931235672152,
          1.2439722521750312,
          -0.3733871869316914,
          -2.1740967689550086,
          -0.15732638770451998,
          0.0633022732022018,
          -0.7790326367796533,
          -0.24491703017219643,
          0.5040191789600832,
          -0.9515995713121651,
          -0.8414065588473638,
          0.5955986478906864,
          0.7154922596789571,
          -0.0540021267028095,
          -0.045508513386948043,
          0.6119646956030508,
          1.1102705897798857,
          0.19750938669276072,
          -1.0931085199143398,
          -0.6088374888059043,
          0.879357016729816,
          -1.0545177862425543,
          -1.0615585452683487,
          -0.3395286389548686,
          0.9167954596280192,
          0.3056287217220758,
          1.1897269806627724,
          -0.5785892939226185,
          1.1882930981736926,
          -1.9453934420960646,
          0.40404565925308905,
          -0.47793302435649154,
          0.9554348023325204,
          -0.12910337890098902,
          -0.011338204028426009,
          -1.2864013072197011,
          1.9501586903960613,
          0.18449132473611274,
          -1.352778989230137,
          0.8139484363174008,
          -0.282173902035499,
          0.055616892028192616,
          1.1233026493199727,
          -0.06175109687338001,
          2.6230381340766007,
          -0.5766957704909688,
          -0.7597006964718782,
          -0.3769501067141862,
          -0.1760010222169406,
          2.688186774678746,
          -2.3362883690467933,
          -0.00034980439845702736,
          -0.3079688557143545,
          -0.4116002100009419,
          0.5599206118343988,
          0.16222988523787568,
          -0.3746644731060114,
          1.3783064233466986,
          -0.28963624409219874,
          0.48917493779357635,
          0.84254699744496,
          -0.16749916523803782,
          -0.44959956190182654,
          0.5678994707214291,
          0.05294747982035926,
          -0.5544304088936962,
          -0.41553679147877703,
          -1.9093260964550836,
          -0.11837954489758033
         ],
         "yaxis": "y7"
        },
        {
         "line": {
          "color": "rgba(128, 128, 128, 1.0)",
          "dash": "solid",
          "shape": "linear",
          "width": 1.3
         },
         "marker": {
          "size": 2,
          "symbol": "circle"
         },
         "mode": "markers",
         "name": "B",
         "text": "",
         "type": "scatter",
         "x": [
          0.6723335848503301,
          1.101801859179172,
          0.7357435490315392,
          -1.2280625297956265,
          -0.44005532138364406,
          -0.16803502433740874,
          0.17351548394524194,
          -0.10633243490621885,
          0.7743910025386193,
          -1.4194451682443574,
          -0.10468995990216429,
          -1.0228073917500156,
          -1.5110864981774574,
          0.46774634637526913,
          -0.029036546764236424,
          2.257282303524755,
          -0.8534145035587284,
          -0.151571239746341,
          0.05571582131259527,
          0.7206600435884811,
          -0.11948099341997853,
          -0.04046681797066169,
          -2.1807707019167184,
          1.9278107411174663,
          -0.34345869873683005,
          -0.8830041256269417,
          -0.30625062177685547,
          -0.9700713583349314,
          -0.6761901851859845,
          2.0776298353366585,
          -0.6253688610172123,
          -3.4795102633333856,
          -0.49202318052004884,
          -0.6728050067233378,
          0.443847461494667,
          0.03756168972114086,
          2.026266202989236,
          -1.2829151383801376,
          -0.8877238787364174,
          -0.8269487791154158,
          0.8501296371411101,
          -0.4911038405418345,
          -0.4117073853202939,
          0.4508464892954036,
          -0.8011710991782471,
          0.23456400954708972,
          1.21979461080376,
          0.2705423336947931,
          -1.3749472636666433,
          -1.6443155450305198,
          -0.5901230324312452,
          -2.601359374010863,
          0.006956209350416803,
          0.35144868243848426,
          -0.5922937276979022,
          -0.415220928358183,
          -1.1478057759321942,
          0.240849997002987,
          0.39133678982290127,
          0.2812337799478269,
          -0.6061286804849573,
          0.6040571617321238,
          -0.65902589422123,
          0.5803167796163067,
          -2.0540546419731345,
          0.6805207680795181,
          0.18160651808373954,
          -0.5703572679097334,
          -0.05714329407579369,
          -0.40012661552664086,
          0.13796214865742956,
          1.0912609384875758,
          -0.5356081456092818,
          -0.26873089340455436,
          -0.4614811846134316,
          -0.09699149677595723,
          1.6269235472311914,
          0.21715869422828132,
          2.2500908709008414,
          0.943691136337086,
          0.2853156660825992,
          0.4646533381244412,
          -1.4264389756739138,
          -0.6198502359995962,
          0.5971836768817488,
          -0.25558068329428535,
          0.9978931730834676,
          -0.4116200673653917,
          -0.6004733877734261,
          -2.407506367171087,
          -1.7368375573647012,
          -0.3682387015220804,
          -2.377384140524957,
          1.018779544514356,
          -0.3335752771203218,
          0.16240182735686323,
          -1.2189955901752059,
          -0.7814894449663207,
          -0.5443515871725954,
          -0.7259076273739898
         ],
         "xaxis": "x8",
         "y": [
          0.5572145425894736,
          -0.45504520577696367,
          0.4397244784970589,
          -0.2763388377694911,
          -0.08571023954655589,
          -1.6755292215779456,
          -1.8334924719643624,
          -0.660543388652614,
          0.7078090548539063,
          -0.30404582808658714,
          0.7983154440193301,
          0.6389687724326867,
          -1.8050197876858236,
          -0.4025794005207336,
          0.3704656336659906,
          -0.747624783090879,
          -0.4392091376941933,
          -0.33047162205148,
          -0.1364354262968888,
          -0.8633476502974338,
          -0.16814011189850314,
          -1.4696332886345858,
          0.1585322391907727,
          -2.418076999992624,
          0.6622146788284973,
          0.8721367999555061,
          -1.25976348157494,
          1.8348088004628051,
          0.47688346565844086,
          0.14213908096085381,
          -1.8637299698264642,
          0.18280931235672152,
          1.2439722521750312,
          -0.3733871869316914,
          -2.1740967689550086,
          -0.15732638770451998,
          0.0633022732022018,
          -0.7790326367796533,
          -0.24491703017219643,
          0.5040191789600832,
          -0.9515995713121651,
          -0.8414065588473638,
          0.5955986478906864,
          0.7154922596789571,
          -0.0540021267028095,
          -0.045508513386948043,
          0.6119646956030508,
          1.1102705897798857,
          0.19750938669276072,
          -1.0931085199143398,
          -0.6088374888059043,
          0.879357016729816,
          -1.0545177862425543,
          -1.0615585452683487,
          -0.3395286389548686,
          0.9167954596280192,
          0.3056287217220758,
          1.1897269806627724,
          -0.5785892939226185,
          1.1882930981736926,
          -1.9453934420960646,
          0.40404565925308905,
          -0.47793302435649154,
          0.9554348023325204,
          -0.12910337890098902,
          -0.011338204028426009,
          -1.2864013072197011,
          1.9501586903960613,
          0.18449132473611274,
          -1.352778989230137,
          0.8139484363174008,
          -0.282173902035499,
          0.055616892028192616,
          1.1233026493199727,
          -0.06175109687338001,
          2.6230381340766007,
          -0.5766957704909688,
          -0.7597006964718782,
          -0.3769501067141862,
          -0.1760010222169406,
          2.688186774678746,
          -2.3362883690467933,
          -0.00034980439845702736,
          -0.3079688557143545,
          -0.4116002100009419,
          0.5599206118343988,
          0.16222988523787568,
          -0.3746644731060114,
          1.3783064233466986,
          -0.28963624409219874,
          0.48917493779357635,
          0.84254699744496,
          -0.16749916523803782,
          -0.44959956190182654,
          0.5678994707214291,
          0.05294747982035926,
          -0.5544304088936962,
          -0.41553679147877703,
          -1.9093260964550836,
          -0.11837954489758033
         ],
         "yaxis": "y8"
        },
        {
         "line": {
          "color": "rgba(128, 128, 128, 1.0)",
          "dash": "solid",
          "shape": "linear",
          "width": 1.3
         },
         "marker": {
          "size": 2,
          "symbol": "circle"
         },
         "mode": "markers",
         "name": "C",
         "text": "",
         "type": "scatter",
         "x": [
          -0.7847662484388648,
          0.5887290310128517,
          -0.5514071090214487,
          0.08840812267345483,
          -0.957132276940948,
          -0.1747201870186245,
          -0.775383100878524,
          0.4945756457748739,
          -0.45784395724355104,
          -0.7299542464491161,
          2.120508885901264,
          -2.2347271889052647,
          -0.216174711781822,
          -2.846486640307819,
          -0.5216053610061037,
          1.0601574186659917,
          -0.3979067592077603,
          1.8802233263322539,
          1.203817333279283,
          -0.8843606774688277,
          1.03031872907569,
          -0.4257523627376736,
          0.8729366328539484,
          0.7015791574627109,
          -0.38686542056186624,
          0.8413262603687331,
          0.05399293108518775,
          0.043179544666969855,
          -2.9220805766557323,
          0.08340038015300334,
          3.5137406018102793,
          0.06710822950599729,
          -0.8317463668012348,
          0.11787537086880737,
          -0.40091873975019443,
          -0.647274188279839,
          -1.2526617333340366,
          0.06122457684630888,
          -0.1444120037528103,
          -0.7903713996915007,
          -0.1232958328995701,
          1.026244203860463,
          0.24784413058545027,
          0.07654902167655836,
          0.6316802536407472,
          -1.3413050172070276,
          -1.4416712533630667,
          -0.10415219238574984,
          0.20676801944816472,
          -0.8887833483806576,
          -0.18089986860947765,
          -1.1791549223426931,
          0.8841397805651795,
          0.5430023355298771,
          -0.9259578970567877,
          0.6119061006624439,
          0.574018323672333,
          1.3093577253163893,
          0.5563033371402298,
          1.8136943649705675,
          -0.6442541240275126,
          2.0713926711402553,
          -1.0477806925379496,
          -1.2191288405576126,
          0.46833740043259986,
          -0.2272374953217602,
          -0.48093633214803955,
          0.9640139774346485,
          0.2698896656277988,
          0.08284925087705126,
          0.4891500704201871,
          0.740009758283557,
          -0.9394610595033338,
          1.0125457768568211,
          -0.6380799097814033,
          -0.532143093193377,
          0.7800276603962227,
          -0.6985563151031897,
          -0.9621143302322339,
          -0.6193184582765459,
          0.9043920195398775,
          -1.4522395983454406,
          -0.4893232211608719,
          -0.2642170873783527,
          0.8316859700169948,
          1.2489509315576732,
          -0.405229252832221,
          -0.3993210218041567,
          0.6301892319317067,
          -2.032615377066661,
          -0.2978316144783474,
          -0.7430723467788538,
          -0.05140898799930743,
          -1.6170545960302538,
          -0.04932390232689837,
          -0.8155700860817712,
          -1.7788024582795317,
          -1.6174420443715154,
          0.11267862990631071,
          1.2787293893763918
         ],
         "xaxis": "x9",
         "y": [
          -0.8455490038100929,
          -0.48454338439593486,
          0.02742728679775391,
          -1.321577142465884,
          0.22034173887314507,
          -2.093631831489845,
          1.6375593956971584,
          -1.1277801936235505,
          0.3825700052350184,
          1.8822973419146725,
          -0.39605151558761664,
          0.02557761876486907,
          -0.4001338463321016,
          -0.5476109604279163,
          1.0000540287182,
          1.3809141250288433,
          1.3559001306200087,
          -0.537461808418586,
          1.9764025692250418,
          -0.5450285848233788,
          -0.8184105442459356,
          0.9660172851223123,
          0.04360607110929835,
          0.6555413572469578,
          0.6478938871416958,
          0.8232634438410178,
          0.360630010432651,
          -1.666274007640765,
          1.2420290975760535,
          -0.427908886341726,
          0.6953509714286061,
          0.22873233028397466,
          2.5809679815426256,
          -0.647901182200101,
          1.161375338165576,
          0.9335962221008012,
          1.6328807925024402,
          -0.3374022029089827,
          -1.769585792875065,
          0.7824251490555052,
          -0.45802641924446996,
          0.5068791824566319,
          0.5275133432840038,
          0.9511672102602415,
          -0.7625223505564455,
          -2.410741386351486,
          -0.507924546178929,
          -1.4675375868347356,
          -0.27459017964509824,
          -0.03113635927484934,
          0.7391712376475289,
          0.2970522520979106,
          2.4314459346924906,
          -1.1951128713298187,
          -0.12754852794758628,
          0.3815298036628025,
          -0.27579117180706453,
          -1.1895175411507892,
          0.4685399709554705,
          -0.5370305241661832,
          -0.01690455876988005,
          -0.3187115873922865,
          0.5699447190004894,
          0.542856573551537,
          0.4170790196748748,
          1.119691957283167,
          0.48628227147625475,
          -0.35947513245747564,
          -0.756552382995433,
          -2.221532168108824,
          0.6100525508901942,
          1.0174467014168214,
          -0.5054489385179858,
          -0.358152743368648,
          -2.4109117440282226,
          0.8132654839817042,
          -0.9469437587689875,
          -0.1966778287985121,
          2.5269418651932893,
          -1.2597415003789403,
          1.0758341992422267,
          -0.7069671472601676,
          -0.7806185238327553,
          -0.13686197245146764,
          0.5951662456417477,
          0.8120653119290981,
          -0.22037037970159096,
          1.8292113959816145,
          -0.7655358365700549,
          -1.9760962864906375,
          -0.44449561619815775,
          -2.8920929220710625,
          -0.1533771025874444,
          0.4240708871637344,
          0.5940992720388655,
          -0.3215738488582108,
          -1.1603659418850012,
          -1.1820523847755509,
          -2.8783077551045917,
          -0.679565466604065
         ],
         "yaxis": "y9"
        },
        {
         "line": {
          "color": "rgba(128, 128, 128, 1.0)",
          "dash": "solid",
          "shape": "linear",
          "width": 1.3
         },
         "marker": {
          "size": 2,
          "symbol": "circle"
         },
         "mode": "markers",
         "name": "C",
         "text": "",
         "type": "scatter",
         "x": [
          0.5572145425894736,
          -0.45504520577696367,
          0.4397244784970589,
          -0.2763388377694911,
          -0.08571023954655589,
          -1.6755292215779456,
          -1.8334924719643624,
          -0.660543388652614,
          0.7078090548539063,
          -0.30404582808658714,
          0.7983154440193301,
          0.6389687724326867,
          -1.8050197876858236,
          -0.4025794005207336,
          0.3704656336659906,
          -0.747624783090879,
          -0.4392091376941933,
          -0.33047162205148,
          -0.1364354262968888,
          -0.8633476502974338,
          -0.16814011189850314,
          -1.4696332886345858,
          0.1585322391907727,
          -2.418076999992624,
          0.6622146788284973,
          0.8721367999555061,
          -1.25976348157494,
          1.8348088004628051,
          0.47688346565844086,
          0.14213908096085381,
          -1.8637299698264642,
          0.18280931235672152,
          1.2439722521750312,
          -0.3733871869316914,
          -2.1740967689550086,
          -0.15732638770451998,
          0.0633022732022018,
          -0.7790326367796533,
          -0.24491703017219643,
          0.5040191789600832,
          -0.9515995713121651,
          -0.8414065588473638,
          0.5955986478906864,
          0.7154922596789571,
          -0.0540021267028095,
          -0.045508513386948043,
          0.6119646956030508,
          1.1102705897798857,
          0.19750938669276072,
          -1.0931085199143398,
          -0.6088374888059043,
          0.879357016729816,
          -1.0545177862425543,
          -1.0615585452683487,
          -0.3395286389548686,
          0.9167954596280192,
          0.3056287217220758,
          1.1897269806627724,
          -0.5785892939226185,
          1.1882930981736926,
          -1.9453934420960646,
          0.40404565925308905,
          -0.47793302435649154,
          0.9554348023325204,
          -0.12910337890098902,
          -0.011338204028426009,
          -1.2864013072197011,
          1.9501586903960613,
          0.18449132473611274,
          -1.352778989230137,
          0.8139484363174008,
          -0.282173902035499,
          0.055616892028192616,
          1.1233026493199727,
          -0.06175109687338001,
          2.6230381340766007,
          -0.5766957704909688,
          -0.7597006964718782,
          -0.3769501067141862,
          -0.1760010222169406,
          2.688186774678746,
          -2.3362883690467933,
          -0.00034980439845702736,
          -0.3079688557143545,
          -0.4116002100009419,
          0.5599206118343988,
          0.16222988523787568,
          -0.3746644731060114,
          1.3783064233466986,
          -0.28963624409219874,
          0.48917493779357635,
          0.84254699744496,
          -0.16749916523803782,
          -0.44959956190182654,
          0.5678994707214291,
          0.05294747982035926,
          -0.5544304088936962,
          -0.41553679147877703,
          -1.9093260964550836,
          -0.11837954489758033
         ],
         "xaxis": "x10",
         "y": [
          -0.8455490038100929,
          -0.48454338439593486,
          0.02742728679775391,
          -1.321577142465884,
          0.22034173887314507,
          -2.093631831489845,
          1.6375593956971584,
          -1.1277801936235505,
          0.3825700052350184,
          1.8822973419146725,
          -0.39605151558761664,
          0.02557761876486907,
          -0.4001338463321016,
          -0.5476109604279163,
          1.0000540287182,
          1.3809141250288433,
          1.3559001306200087,
          -0.537461808418586,
          1.9764025692250418,
          -0.5450285848233788,
          -0.8184105442459356,
          0.9660172851223123,
          0.04360607110929835,
          0.6555413572469578,
          0.6478938871416958,
          0.8232634438410178,
          0.360630010432651,
          -1.666274007640765,
          1.2420290975760535,
          -0.427908886341726,
          0.6953509714286061,
          0.22873233028397466,
          2.5809679815426256,
          -0.647901182200101,
          1.161375338165576,
          0.9335962221008012,
          1.6328807925024402,
          -0.3374022029089827,
          -1.769585792875065,
          0.7824251490555052,
          -0.45802641924446996,
          0.5068791824566319,
          0.5275133432840038,
          0.9511672102602415,
          -0.7625223505564455,
          -2.410741386351486,
          -0.507924546178929,
          -1.4675375868347356,
          -0.27459017964509824,
          -0.03113635927484934,
          0.7391712376475289,
          0.2970522520979106,
          2.4314459346924906,
          -1.1951128713298187,
          -0.12754852794758628,
          0.3815298036628025,
          -0.27579117180706453,
          -1.1895175411507892,
          0.4685399709554705,
          -0.5370305241661832,
          -0.01690455876988005,
          -0.3187115873922865,
          0.5699447190004894,
          0.542856573551537,
          0.4170790196748748,
          1.119691957283167,
          0.48628227147625475,
          -0.35947513245747564,
          -0.756552382995433,
          -2.221532168108824,
          0.6100525508901942,
          1.0174467014168214,
          -0.5054489385179858,
          -0.358152743368648,
          -2.4109117440282226,
          0.8132654839817042,
          -0.9469437587689875,
          -0.1966778287985121,
          2.5269418651932893,
          -1.2597415003789403,
          1.0758341992422267,
          -0.7069671472601676,
          -0.7806185238327553,
          -0.13686197245146764,
          0.5951662456417477,
          0.8120653119290981,
          -0.22037037970159096,
          1.8292113959816145,
          -0.7655358365700549,
          -1.9760962864906375,
          -0.44449561619815775,
          -2.8920929220710625,
          -0.1533771025874444,
          0.4240708871637344,
          0.5940992720388655,
          -0.3215738488582108,
          -1.1603659418850012,
          -1.1820523847755509,
          -2.8783077551045917,
          -0.679565466604065
         ],
         "yaxis": "y10"
        },
        {
         "histfunc": "count",
         "histnorm": "",
         "marker": {
          "color": "rgba(50, 171, 96, 1.0)",
          "line": {
           "color": "#4D5663",
           "width": 1.3
          }
         },
         "name": "C",
         "nbinsx": 10,
         "opacity": 0.8,
         "orientation": "v",
         "type": "histogram",
         "x": [
          -0.8455490038100929,
          -0.48454338439593486,
          0.02742728679775391,
          -1.321577142465884,
          0.22034173887314507,
          -2.093631831489845,
          1.6375593956971584,
          -1.1277801936235505,
          0.3825700052350184,
          1.8822973419146725,
          -0.39605151558761664,
          0.02557761876486907,
          -0.4001338463321016,
          -0.5476109604279163,
          1.0000540287182,
          1.3809141250288433,
          1.3559001306200087,
          -0.537461808418586,
          1.9764025692250418,
          -0.5450285848233788,
          -0.8184105442459356,
          0.9660172851223123,
          0.04360607110929835,
          0.6555413572469578,
          0.6478938871416958,
          0.8232634438410178,
          0.360630010432651,
          -1.666274007640765,
          1.2420290975760535,
          -0.427908886341726,
          0.6953509714286061,
          0.22873233028397466,
          2.5809679815426256,
          -0.647901182200101,
          1.161375338165576,
          0.9335962221008012,
          1.6328807925024402,
          -0.3374022029089827,
          -1.769585792875065,
          0.7824251490555052,
          -0.45802641924446996,
          0.5068791824566319,
          0.5275133432840038,
          0.9511672102602415,
          -0.7625223505564455,
          -2.410741386351486,
          -0.507924546178929,
          -1.4675375868347356,
          -0.27459017964509824,
          -0.03113635927484934,
          0.7391712376475289,
          0.2970522520979106,
          2.4314459346924906,
          -1.1951128713298187,
          -0.12754852794758628,
          0.3815298036628025,
          -0.27579117180706453,
          -1.1895175411507892,
          0.4685399709554705,
          -0.5370305241661832,
          -0.01690455876988005,
          -0.3187115873922865,
          0.5699447190004894,
          0.542856573551537,
          0.4170790196748748,
          1.119691957283167,
          0.48628227147625475,
          -0.35947513245747564,
          -0.756552382995433,
          -2.221532168108824,
          0.6100525508901942,
          1.0174467014168214,
          -0.5054489385179858,
          -0.358152743368648,
          -2.4109117440282226,
          0.8132654839817042,
          -0.9469437587689875,
          -0.1966778287985121,
          2.5269418651932893,
          -1.2597415003789403,
          1.0758341992422267,
          -0.7069671472601676,
          -0.7806185238327553,
          -0.13686197245146764,
          0.5951662456417477,
          0.8120653119290981,
          -0.22037037970159096,
          1.8292113959816145,
          -0.7655358365700549,
          -1.9760962864906375,
          -0.44449561619815775,
          -2.8920929220710625,
          -0.1533771025874444,
          0.4240708871637344,
          0.5940992720388655,
          -0.3215738488582108,
          -1.1603659418850012,
          -1.1820523847755509,
          -2.8783077551045917,
          -0.679565466604065
         ],
         "xaxis": "x11",
         "yaxis": "y11"
        },
        {
         "line": {
          "color": "rgba(128, 128, 128, 1.0)",
          "dash": "solid",
          "shape": "linear",
          "width": 1.3
         },
         "marker": {
          "size": 2,
          "symbol": "circle"
         },
         "mode": "markers",
         "name": "C",
         "text": "",
         "type": "scatter",
         "x": [
          0.6723335848503301,
          1.101801859179172,
          0.7357435490315392,
          -1.2280625297956265,
          -0.44005532138364406,
          -0.16803502433740874,
          0.17351548394524194,
          -0.10633243490621885,
          0.7743910025386193,
          -1.4194451682443574,
          -0.10468995990216429,
          -1.0228073917500156,
          -1.5110864981774574,
          0.46774634637526913,
          -0.029036546764236424,
          2.257282303524755,
          -0.8534145035587284,
          -0.151571239746341,
          0.05571582131259527,
          0.7206600435884811,
          -0.11948099341997853,
          -0.04046681797066169,
          -2.1807707019167184,
          1.9278107411174663,
          -0.34345869873683005,
          -0.8830041256269417,
          -0.30625062177685547,
          -0.9700713583349314,
          -0.6761901851859845,
          2.0776298353366585,
          -0.6253688610172123,
          -3.4795102633333856,
          -0.49202318052004884,
          -0.6728050067233378,
          0.443847461494667,
          0.03756168972114086,
          2.026266202989236,
          -1.2829151383801376,
          -0.8877238787364174,
          -0.8269487791154158,
          0.8501296371411101,
          -0.4911038405418345,
          -0.4117073853202939,
          0.4508464892954036,
          -0.8011710991782471,
          0.23456400954708972,
          1.21979461080376,
          0.2705423336947931,
          -1.3749472636666433,
          -1.6443155450305198,
          -0.5901230324312452,
          -2.601359374010863,
          0.006956209350416803,
          0.35144868243848426,
          -0.5922937276979022,
          -0.415220928358183,
          -1.1478057759321942,
          0.240849997002987,
          0.39133678982290127,
          0.2812337799478269,
          -0.6061286804849573,
          0.6040571617321238,
          -0.65902589422123,
          0.5803167796163067,
          -2.0540546419731345,
          0.6805207680795181,
          0.18160651808373954,
          -0.5703572679097334,
          -0.05714329407579369,
          -0.40012661552664086,
          0.13796214865742956,
          1.0912609384875758,
          -0.5356081456092818,
          -0.26873089340455436,
          -0.4614811846134316,
          -0.09699149677595723,
          1.6269235472311914,
          0.21715869422828132,
          2.2500908709008414,
          0.943691136337086,
          0.2853156660825992,
          0.4646533381244412,
          -1.4264389756739138,
          -0.6198502359995962,
          0.5971836768817488,
          -0.25558068329428535,
          0.9978931730834676,
          -0.4116200673653917,
          -0.6004733877734261,
          -2.407506367171087,
          -1.7368375573647012,
          -0.3682387015220804,
          -2.377384140524957,
          1.018779544514356,
          -0.3335752771203218,
          0.16240182735686323,
          -1.2189955901752059,
          -0.7814894449663207,
          -0.5443515871725954,
          -0.7259076273739898
         ],
         "xaxis": "x12",
         "y": [
          -0.8455490038100929,
          -0.48454338439593486,
          0.02742728679775391,
          -1.321577142465884,
          0.22034173887314507,
          -2.093631831489845,
          1.6375593956971584,
          -1.1277801936235505,
          0.3825700052350184,
          1.8822973419146725,
          -0.39605151558761664,
          0.02557761876486907,
          -0.4001338463321016,
          -0.5476109604279163,
          1.0000540287182,
          1.3809141250288433,
          1.3559001306200087,
          -0.537461808418586,
          1.9764025692250418,
          -0.5450285848233788,
          -0.8184105442459356,
          0.9660172851223123,
          0.04360607110929835,
          0.6555413572469578,
          0.6478938871416958,
          0.8232634438410178,
          0.360630010432651,
          -1.666274007640765,
          1.2420290975760535,
          -0.427908886341726,
          0.6953509714286061,
          0.22873233028397466,
          2.5809679815426256,
          -0.647901182200101,
          1.161375338165576,
          0.9335962221008012,
          1.6328807925024402,
          -0.3374022029089827,
          -1.769585792875065,
          0.7824251490555052,
          -0.45802641924446996,
          0.5068791824566319,
          0.5275133432840038,
          0.9511672102602415,
          -0.7625223505564455,
          -2.410741386351486,
          -0.507924546178929,
          -1.4675375868347356,
          -0.27459017964509824,
          -0.03113635927484934,
          0.7391712376475289,
          0.2970522520979106,
          2.4314459346924906,
          -1.1951128713298187,
          -0.12754852794758628,
          0.3815298036628025,
          -0.27579117180706453,
          -1.1895175411507892,
          0.4685399709554705,
          -0.5370305241661832,
          -0.01690455876988005,
          -0.3187115873922865,
          0.5699447190004894,
          0.542856573551537,
          0.4170790196748748,
          1.119691957283167,
          0.48628227147625475,
          -0.35947513245747564,
          -0.756552382995433,
          -2.221532168108824,
          0.6100525508901942,
          1.0174467014168214,
          -0.5054489385179858,
          -0.358152743368648,
          -2.4109117440282226,
          0.8132654839817042,
          -0.9469437587689875,
          -0.1966778287985121,
          2.5269418651932893,
          -1.2597415003789403,
          1.0758341992422267,
          -0.7069671472601676,
          -0.7806185238327553,
          -0.13686197245146764,
          0.5951662456417477,
          0.8120653119290981,
          -0.22037037970159096,
          1.8292113959816145,
          -0.7655358365700549,
          -1.9760962864906375,
          -0.44449561619815775,
          -2.8920929220710625,
          -0.1533771025874444,
          0.4240708871637344,
          0.5940992720388655,
          -0.3215738488582108,
          -1.1603659418850012,
          -1.1820523847755509,
          -2.8783077551045917,
          -0.679565466604065
         ],
         "yaxis": "y12"
        },
        {
         "line": {
          "color": "rgba(128, 128, 128, 1.0)",
          "dash": "solid",
          "shape": "linear",
          "width": 1.3
         },
         "marker": {
          "size": 2,
          "symbol": "circle"
         },
         "mode": "markers",
         "name": "D",
         "text": "",
         "type": "scatter",
         "x": [
          -0.7847662484388648,
          0.5887290310128517,
          -0.5514071090214487,
          0.08840812267345483,
          -0.957132276940948,
          -0.1747201870186245,
          -0.775383100878524,
          0.4945756457748739,
          -0.45784395724355104,
          -0.7299542464491161,
          2.120508885901264,
          -2.2347271889052647,
          -0.216174711781822,
          -2.846486640307819,
          -0.5216053610061037,
          1.0601574186659917,
          -0.3979067592077603,
          1.8802233263322539,
          1.203817333279283,
          -0.8843606774688277,
          1.03031872907569,
          -0.4257523627376736,
          0.8729366328539484,
          0.7015791574627109,
          -0.38686542056186624,
          0.8413262603687331,
          0.05399293108518775,
          0.043179544666969855,
          -2.9220805766557323,
          0.08340038015300334,
          3.5137406018102793,
          0.06710822950599729,
          -0.8317463668012348,
          0.11787537086880737,
          -0.40091873975019443,
          -0.647274188279839,
          -1.2526617333340366,
          0.06122457684630888,
          -0.1444120037528103,
          -0.7903713996915007,
          -0.1232958328995701,
          1.026244203860463,
          0.24784413058545027,
          0.07654902167655836,
          0.6316802536407472,
          -1.3413050172070276,
          -1.4416712533630667,
          -0.10415219238574984,
          0.20676801944816472,
          -0.8887833483806576,
          -0.18089986860947765,
          -1.1791549223426931,
          0.8841397805651795,
          0.5430023355298771,
          -0.9259578970567877,
          0.6119061006624439,
          0.574018323672333,
          1.3093577253163893,
          0.5563033371402298,
          1.8136943649705675,
          -0.6442541240275126,
          2.0713926711402553,
          -1.0477806925379496,
          -1.2191288405576126,
          0.46833740043259986,
          -0.2272374953217602,
          -0.48093633214803955,
          0.9640139774346485,
          0.2698896656277988,
          0.08284925087705126,
          0.4891500704201871,
          0.740009758283557,
          -0.9394610595033338,
          1.0125457768568211,
          -0.6380799097814033,
          -0.532143093193377,
          0.7800276603962227,
          -0.6985563151031897,
          -0.9621143302322339,
          -0.6193184582765459,
          0.9043920195398775,
          -1.4522395983454406,
          -0.4893232211608719,
          -0.2642170873783527,
          0.8316859700169948,
          1.2489509315576732,
          -0.405229252832221,
          -0.3993210218041567,
          0.6301892319317067,
          -2.032615377066661,
          -0.2978316144783474,
          -0.7430723467788538,
          -0.05140898799930743,
          -1.6170545960302538,
          -0.04932390232689837,
          -0.8155700860817712,
          -1.7788024582795317,
          -1.6174420443715154,
          0.11267862990631071,
          1.2787293893763918
         ],
         "xaxis": "x13",
         "y": [
          0.6723335848503301,
          1.101801859179172,
          0.7357435490315392,
          -1.2280625297956265,
          -0.44005532138364406,
          -0.16803502433740874,
          0.17351548394524194,
          -0.10633243490621885,
          0.7743910025386193,
          -1.4194451682443574,
          -0.10468995990216429,
          -1.0228073917500156,
          -1.5110864981774574,
          0.46774634637526913,
          -0.029036546764236424,
          2.257282303524755,
          -0.8534145035587284,
          -0.151571239746341,
          0.05571582131259527,
          0.7206600435884811,
          -0.11948099341997853,
          -0.04046681797066169,
          -2.1807707019167184,
          1.9278107411174663,
          -0.34345869873683005,
          -0.8830041256269417,
          -0.30625062177685547,
          -0.9700713583349314,
          -0.6761901851859845,
          2.0776298353366585,
          -0.6253688610172123,
          -3.4795102633333856,
          -0.49202318052004884,
          -0.6728050067233378,
          0.443847461494667,
          0.03756168972114086,
          2.026266202989236,
          -1.2829151383801376,
          -0.8877238787364174,
          -0.8269487791154158,
          0.8501296371411101,
          -0.4911038405418345,
          -0.4117073853202939,
          0.4508464892954036,
          -0.8011710991782471,
          0.23456400954708972,
          1.21979461080376,
          0.2705423336947931,
          -1.3749472636666433,
          -1.6443155450305198,
          -0.5901230324312452,
          -2.601359374010863,
          0.006956209350416803,
          0.35144868243848426,
          -0.5922937276979022,
          -0.415220928358183,
          -1.1478057759321942,
          0.240849997002987,
          0.39133678982290127,
          0.2812337799478269,
          -0.6061286804849573,
          0.6040571617321238,
          -0.65902589422123,
          0.5803167796163067,
          -2.0540546419731345,
          0.6805207680795181,
          0.18160651808373954,
          -0.5703572679097334,
          -0.05714329407579369,
          -0.40012661552664086,
          0.13796214865742956,
          1.0912609384875758,
          -0.5356081456092818,
          -0.26873089340455436,
          -0.4614811846134316,
          -0.09699149677595723,
          1.6269235472311914,
          0.21715869422828132,
          2.2500908709008414,
          0.943691136337086,
          0.2853156660825992,
          0.4646533381244412,
          -1.4264389756739138,
          -0.6198502359995962,
          0.5971836768817488,
          -0.25558068329428535,
          0.9978931730834676,
          -0.4116200673653917,
          -0.6004733877734261,
          -2.407506367171087,
          -1.7368375573647012,
          -0.3682387015220804,
          -2.377384140524957,
          1.018779544514356,
          -0.3335752771203218,
          0.16240182735686323,
          -1.2189955901752059,
          -0.7814894449663207,
          -0.5443515871725954,
          -0.7259076273739898
         ],
         "yaxis": "y13"
        },
        {
         "line": {
          "color": "rgba(128, 128, 128, 1.0)",
          "dash": "solid",
          "shape": "linear",
          "width": 1.3
         },
         "marker": {
          "size": 2,
          "symbol": "circle"
         },
         "mode": "markers",
         "name": "D",
         "text": "",
         "type": "scatter",
         "x": [
          0.5572145425894736,
          -0.45504520577696367,
          0.4397244784970589,
          -0.2763388377694911,
          -0.08571023954655589,
          -1.6755292215779456,
          -1.8334924719643624,
          -0.660543388652614,
          0.7078090548539063,
          -0.30404582808658714,
          0.7983154440193301,
          0.6389687724326867,
          -1.8050197876858236,
          -0.4025794005207336,
          0.3704656336659906,
          -0.747624783090879,
          -0.4392091376941933,
          -0.33047162205148,
          -0.1364354262968888,
          -0.8633476502974338,
          -0.16814011189850314,
          -1.4696332886345858,
          0.1585322391907727,
          -2.418076999992624,
          0.6622146788284973,
          0.8721367999555061,
          -1.25976348157494,
          1.8348088004628051,
          0.47688346565844086,
          0.14213908096085381,
          -1.8637299698264642,
          0.18280931235672152,
          1.2439722521750312,
          -0.3733871869316914,
          -2.1740967689550086,
          -0.15732638770451998,
          0.0633022732022018,
          -0.7790326367796533,
          -0.24491703017219643,
          0.5040191789600832,
          -0.9515995713121651,
          -0.8414065588473638,
          0.5955986478906864,
          0.7154922596789571,
          -0.0540021267028095,
          -0.045508513386948043,
          0.6119646956030508,
          1.1102705897798857,
          0.19750938669276072,
          -1.0931085199143398,
          -0.6088374888059043,
          0.879357016729816,
          -1.0545177862425543,
          -1.0615585452683487,
          -0.3395286389548686,
          0.9167954596280192,
          0.3056287217220758,
          1.1897269806627724,
          -0.5785892939226185,
          1.1882930981736926,
          -1.9453934420960646,
          0.40404565925308905,
          -0.47793302435649154,
          0.9554348023325204,
          -0.12910337890098902,
          -0.011338204028426009,
          -1.2864013072197011,
          1.9501586903960613,
          0.18449132473611274,
          -1.352778989230137,
          0.8139484363174008,
          -0.282173902035499,
          0.055616892028192616,
          1.1233026493199727,
          -0.06175109687338001,
          2.6230381340766007,
          -0.5766957704909688,
          -0.7597006964718782,
          -0.3769501067141862,
          -0.1760010222169406,
          2.688186774678746,
          -2.3362883690467933,
          -0.00034980439845702736,
          -0.3079688557143545,
          -0.4116002100009419,
          0.5599206118343988,
          0.16222988523787568,
          -0.3746644731060114,
          1.3783064233466986,
          -0.28963624409219874,
          0.48917493779357635,
          0.84254699744496,
          -0.16749916523803782,
          -0.44959956190182654,
          0.5678994707214291,
          0.05294747982035926,
          -0.5544304088936962,
          -0.41553679147877703,
          -1.9093260964550836,
          -0.11837954489758033
         ],
         "xaxis": "x14",
         "y": [
          0.6723335848503301,
          1.101801859179172,
          0.7357435490315392,
          -1.2280625297956265,
          -0.44005532138364406,
          -0.16803502433740874,
          0.17351548394524194,
          -0.10633243490621885,
          0.7743910025386193,
          -1.4194451682443574,
          -0.10468995990216429,
          -1.0228073917500156,
          -1.5110864981774574,
          0.46774634637526913,
          -0.029036546764236424,
          2.257282303524755,
          -0.8534145035587284,
          -0.151571239746341,
          0.05571582131259527,
          0.7206600435884811,
          -0.11948099341997853,
          -0.04046681797066169,
          -2.1807707019167184,
          1.9278107411174663,
          -0.34345869873683005,
          -0.8830041256269417,
          -0.30625062177685547,
          -0.9700713583349314,
          -0.6761901851859845,
          2.0776298353366585,
          -0.6253688610172123,
          -3.4795102633333856,
          -0.49202318052004884,
          -0.6728050067233378,
          0.443847461494667,
          0.03756168972114086,
          2.026266202989236,
          -1.2829151383801376,
          -0.8877238787364174,
          -0.8269487791154158,
          0.8501296371411101,
          -0.4911038405418345,
          -0.4117073853202939,
          0.4508464892954036,
          -0.8011710991782471,
          0.23456400954708972,
          1.21979461080376,
          0.2705423336947931,
          -1.3749472636666433,
          -1.6443155450305198,
          -0.5901230324312452,
          -2.601359374010863,
          0.006956209350416803,
          0.35144868243848426,
          -0.5922937276979022,
          -0.415220928358183,
          -1.1478057759321942,
          0.240849997002987,
          0.39133678982290127,
          0.2812337799478269,
          -0.6061286804849573,
          0.6040571617321238,
          -0.65902589422123,
          0.5803167796163067,
          -2.0540546419731345,
          0.6805207680795181,
          0.18160651808373954,
          -0.5703572679097334,
          -0.05714329407579369,
          -0.40012661552664086,
          0.13796214865742956,
          1.0912609384875758,
          -0.5356081456092818,
          -0.26873089340455436,
          -0.4614811846134316,
          -0.09699149677595723,
          1.6269235472311914,
          0.21715869422828132,
          2.2500908709008414,
          0.943691136337086,
          0.2853156660825992,
          0.4646533381244412,
          -1.4264389756739138,
          -0.6198502359995962,
          0.5971836768817488,
          -0.25558068329428535,
          0.9978931730834676,
          -0.4116200673653917,
          -0.6004733877734261,
          -2.407506367171087,
          -1.7368375573647012,
          -0.3682387015220804,
          -2.377384140524957,
          1.018779544514356,
          -0.3335752771203218,
          0.16240182735686323,
          -1.2189955901752059,
          -0.7814894449663207,
          -0.5443515871725954,
          -0.7259076273739898
         ],
         "yaxis": "y14"
        },
        {
         "line": {
          "color": "rgba(128, 128, 128, 1.0)",
          "dash": "solid",
          "shape": "linear",
          "width": 1.3
         },
         "marker": {
          "size": 2,
          "symbol": "circle"
         },
         "mode": "markers",
         "name": "D",
         "text": "",
         "type": "scatter",
         "x": [
          -0.8455490038100929,
          -0.48454338439593486,
          0.02742728679775391,
          -1.321577142465884,
          0.22034173887314507,
          -2.093631831489845,
          1.6375593956971584,
          -1.1277801936235505,
          0.3825700052350184,
          1.8822973419146725,
          -0.39605151558761664,
          0.02557761876486907,
          -0.4001338463321016,
          -0.5476109604279163,
          1.0000540287182,
          1.3809141250288433,
          1.3559001306200087,
          -0.537461808418586,
          1.9764025692250418,
          -0.5450285848233788,
          -0.8184105442459356,
          0.9660172851223123,
          0.04360607110929835,
          0.6555413572469578,
          0.6478938871416958,
          0.8232634438410178,
          0.360630010432651,
          -1.666274007640765,
          1.2420290975760535,
          -0.427908886341726,
          0.6953509714286061,
          0.22873233028397466,
          2.5809679815426256,
          -0.647901182200101,
          1.161375338165576,
          0.9335962221008012,
          1.6328807925024402,
          -0.3374022029089827,
          -1.769585792875065,
          0.7824251490555052,
          -0.45802641924446996,
          0.5068791824566319,
          0.5275133432840038,
          0.9511672102602415,
          -0.7625223505564455,
          -2.410741386351486,
          -0.507924546178929,
          -1.4675375868347356,
          -0.27459017964509824,
          -0.03113635927484934,
          0.7391712376475289,
          0.2970522520979106,
          2.4314459346924906,
          -1.1951128713298187,
          -0.12754852794758628,
          0.3815298036628025,
          -0.27579117180706453,
          -1.1895175411507892,
          0.4685399709554705,
          -0.5370305241661832,
          -0.01690455876988005,
          -0.3187115873922865,
          0.5699447190004894,
          0.542856573551537,
          0.4170790196748748,
          1.119691957283167,
          0.48628227147625475,
          -0.35947513245747564,
          -0.756552382995433,
          -2.221532168108824,
          0.6100525508901942,
          1.0174467014168214,
          -0.5054489385179858,
          -0.358152743368648,
          -2.4109117440282226,
          0.8132654839817042,
          -0.9469437587689875,
          -0.1966778287985121,
          2.5269418651932893,
          -1.2597415003789403,
          1.0758341992422267,
          -0.7069671472601676,
          -0.7806185238327553,
          -0.13686197245146764,
          0.5951662456417477,
          0.8120653119290981,
          -0.22037037970159096,
          1.8292113959816145,
          -0.7655358365700549,
          -1.9760962864906375,
          -0.44449561619815775,
          -2.8920929220710625,
          -0.1533771025874444,
          0.4240708871637344,
          0.5940992720388655,
          -0.3215738488582108,
          -1.1603659418850012,
          -1.1820523847755509,
          -2.8783077551045917,
          -0.679565466604065
         ],
         "xaxis": "x15",
         "y": [
          0.6723335848503301,
          1.101801859179172,
          0.7357435490315392,
          -1.2280625297956265,
          -0.44005532138364406,
          -0.16803502433740874,
          0.17351548394524194,
          -0.10633243490621885,
          0.7743910025386193,
          -1.4194451682443574,
          -0.10468995990216429,
          -1.0228073917500156,
          -1.5110864981774574,
          0.46774634637526913,
          -0.029036546764236424,
          2.257282303524755,
          -0.8534145035587284,
          -0.151571239746341,
          0.05571582131259527,
          0.7206600435884811,
          -0.11948099341997853,
          -0.04046681797066169,
          -2.1807707019167184,
          1.9278107411174663,
          -0.34345869873683005,
          -0.8830041256269417,
          -0.30625062177685547,
          -0.9700713583349314,
          -0.6761901851859845,
          2.0776298353366585,
          -0.6253688610172123,
          -3.4795102633333856,
          -0.49202318052004884,
          -0.6728050067233378,
          0.443847461494667,
          0.03756168972114086,
          2.026266202989236,
          -1.2829151383801376,
          -0.8877238787364174,
          -0.8269487791154158,
          0.8501296371411101,
          -0.4911038405418345,
          -0.4117073853202939,
          0.4508464892954036,
          -0.8011710991782471,
          0.23456400954708972,
          1.21979461080376,
          0.2705423336947931,
          -1.3749472636666433,
          -1.6443155450305198,
          -0.5901230324312452,
          -2.601359374010863,
          0.006956209350416803,
          0.35144868243848426,
          -0.5922937276979022,
          -0.415220928358183,
          -1.1478057759321942,
          0.240849997002987,
          0.39133678982290127,
          0.2812337799478269,
          -0.6061286804849573,
          0.6040571617321238,
          -0.65902589422123,
          0.5803167796163067,
          -2.0540546419731345,
          0.6805207680795181,
          0.18160651808373954,
          -0.5703572679097334,
          -0.05714329407579369,
          -0.40012661552664086,
          0.13796214865742956,
          1.0912609384875758,
          -0.5356081456092818,
          -0.26873089340455436,
          -0.4614811846134316,
          -0.09699149677595723,
          1.6269235472311914,
          0.21715869422828132,
          2.2500908709008414,
          0.943691136337086,
          0.2853156660825992,
          0.4646533381244412,
          -1.4264389756739138,
          -0.6198502359995962,
          0.5971836768817488,
          -0.25558068329428535,
          0.9978931730834676,
          -0.4116200673653917,
          -0.6004733877734261,
          -2.407506367171087,
          -1.7368375573647012,
          -0.3682387015220804,
          -2.377384140524957,
          1.018779544514356,
          -0.3335752771203218,
          0.16240182735686323,
          -1.2189955901752059,
          -0.7814894449663207,
          -0.5443515871725954,
          -0.7259076273739898
         ],
         "yaxis": "y15"
        },
        {
         "histfunc": "count",
         "histnorm": "",
         "marker": {
          "color": "rgba(128, 0, 128, 1.0)",
          "line": {
           "color": "#4D5663",
           "width": 1.3
          }
         },
         "name": "D",
         "nbinsx": 10,
         "opacity": 0.8,
         "orientation": "v",
         "type": "histogram",
         "x": [
          0.6723335848503301,
          1.101801859179172,
          0.7357435490315392,
          -1.2280625297956265,
          -0.44005532138364406,
          -0.16803502433740874,
          0.17351548394524194,
          -0.10633243490621885,
          0.7743910025386193,
          -1.4194451682443574,
          -0.10468995990216429,
          -1.0228073917500156,
          -1.5110864981774574,
          0.46774634637526913,
          -0.029036546764236424,
          2.257282303524755,
          -0.8534145035587284,
          -0.151571239746341,
          0.05571582131259527,
          0.7206600435884811,
          -0.11948099341997853,
          -0.04046681797066169,
          -2.1807707019167184,
          1.9278107411174663,
          -0.34345869873683005,
          -0.8830041256269417,
          -0.30625062177685547,
          -0.9700713583349314,
          -0.6761901851859845,
          2.0776298353366585,
          -0.6253688610172123,
          -3.4795102633333856,
          -0.49202318052004884,
          -0.6728050067233378,
          0.443847461494667,
          0.03756168972114086,
          2.026266202989236,
          -1.2829151383801376,
          -0.8877238787364174,
          -0.8269487791154158,
          0.8501296371411101,
          -0.4911038405418345,
          -0.4117073853202939,
          0.4508464892954036,
          -0.8011710991782471,
          0.23456400954708972,
          1.21979461080376,
          0.2705423336947931,
          -1.3749472636666433,
          -1.6443155450305198,
          -0.5901230324312452,
          -2.601359374010863,
          0.006956209350416803,
          0.35144868243848426,
          -0.5922937276979022,
          -0.415220928358183,
          -1.1478057759321942,
          0.240849997002987,
          0.39133678982290127,
          0.2812337799478269,
          -0.6061286804849573,
          0.6040571617321238,
          -0.65902589422123,
          0.5803167796163067,
          -2.0540546419731345,
          0.6805207680795181,
          0.18160651808373954,
          -0.5703572679097334,
          -0.05714329407579369,
          -0.40012661552664086,
          0.13796214865742956,
          1.0912609384875758,
          -0.5356081456092818,
          -0.26873089340455436,
          -0.4614811846134316,
          -0.09699149677595723,
          1.6269235472311914,
          0.21715869422828132,
          2.2500908709008414,
          0.943691136337086,
          0.2853156660825992,
          0.4646533381244412,
          -1.4264389756739138,
          -0.6198502359995962,
          0.5971836768817488,
          -0.25558068329428535,
          0.9978931730834676,
          -0.4116200673653917,
          -0.6004733877734261,
          -2.407506367171087,
          -1.7368375573647012,
          -0.3682387015220804,
          -2.377384140524957,
          1.018779544514356,
          -0.3335752771203218,
          0.16240182735686323,
          -1.2189955901752059,
          -0.7814894449663207,
          -0.5443515871725954,
          -0.7259076273739898
         ],
         "xaxis": "x16",
         "yaxis": "y16"
        }
       ],
       "layout": {
        "bargap": 0.02,
        "legend": {
         "bgcolor": "#F5F6F9",
         "font": {
          "color": "#4D5663"
         }
        },
        "paper_bgcolor": "#F5F6F9",
        "plot_bgcolor": "#F5F6F9",
        "showlegend": false,
        "template": {
         "data": {
          "bar": [
           {
            "error_x": {
             "color": "#2a3f5f"
            },
            "error_y": {
             "color": "#2a3f5f"
            },
            "marker": {
             "line": {
              "color": "#E5ECF6",
              "width": 0.5
             }
            },
            "type": "bar"
           }
          ],
          "barpolar": [
           {
            "marker": {
             "line": {
              "color": "#E5ECF6",
              "width": 0.5
             }
            },
            "type": "barpolar"
           }
          ],
          "carpet": [
           {
            "aaxis": {
             "endlinecolor": "#2a3f5f",
             "gridcolor": "white",
             "linecolor": "white",
             "minorgridcolor": "white",
             "startlinecolor": "#2a3f5f"
            },
            "baxis": {
             "endlinecolor": "#2a3f5f",
             "gridcolor": "white",
             "linecolor": "white",
             "minorgridcolor": "white",
             "startlinecolor": "#2a3f5f"
            },
            "type": "carpet"
           }
          ],
          "choropleth": [
           {
            "colorbar": {
             "outlinewidth": 0,
             "ticks": ""
            },
            "type": "choropleth"
           }
          ],
          "contour": [
           {
            "colorbar": {
             "outlinewidth": 0,
             "ticks": ""
            },
            "colorscale": [
             [
              0,
              "#0d0887"
             ],
             [
              0.1111111111111111,
              "#46039f"
             ],
             [
              0.2222222222222222,
              "#7201a8"
             ],
             [
              0.3333333333333333,
              "#9c179e"
             ],
             [
              0.4444444444444444,
              "#bd3786"
             ],
             [
              0.5555555555555556,
              "#d8576b"
             ],
             [
              0.6666666666666666,
              "#ed7953"
             ],
             [
              0.7777777777777778,
              "#fb9f3a"
             ],
             [
              0.8888888888888888,
              "#fdca26"
             ],
             [
              1,
              "#f0f921"
             ]
            ],
            "type": "contour"
           }
          ],
          "contourcarpet": [
           {
            "colorbar": {
             "outlinewidth": 0,
             "ticks": ""
            },
            "type": "contourcarpet"
           }
          ],
          "heatmap": [
           {
            "colorbar": {
             "outlinewidth": 0,
             "ticks": ""
            },
            "colorscale": [
             [
              0,
              "#0d0887"
             ],
             [
              0.1111111111111111,
              "#46039f"
             ],
             [
              0.2222222222222222,
              "#7201a8"
             ],
             [
              0.3333333333333333,
              "#9c179e"
             ],
             [
              0.4444444444444444,
              "#bd3786"
             ],
             [
              0.5555555555555556,
              "#d8576b"
             ],
             [
              0.6666666666666666,
              "#ed7953"
             ],
             [
              0.7777777777777778,
              "#fb9f3a"
             ],
             [
              0.8888888888888888,
              "#fdca26"
             ],
             [
              1,
              "#f0f921"
             ]
            ],
            "type": "heatmap"
           }
          ],
          "heatmapgl": [
           {
            "colorbar": {
             "outlinewidth": 0,
             "ticks": ""
            },
            "colorscale": [
             [
              0,
              "#0d0887"
             ],
             [
              0.1111111111111111,
              "#46039f"
             ],
             [
              0.2222222222222222,
              "#7201a8"
             ],
             [
              0.3333333333333333,
              "#9c179e"
             ],
             [
              0.4444444444444444,
              "#bd3786"
             ],
             [
              0.5555555555555556,
              "#d8576b"
             ],
             [
              0.6666666666666666,
              "#ed7953"
             ],
             [
              0.7777777777777778,
              "#fb9f3a"
             ],
             [
              0.8888888888888888,
              "#fdca26"
             ],
             [
              1,
              "#f0f921"
             ]
            ],
            "type": "heatmapgl"
           }
          ],
          "histogram": [
           {
            "marker": {
             "colorbar": {
              "outlinewidth": 0,
              "ticks": ""
             }
            },
            "type": "histogram"
           }
          ],
          "histogram2d": [
           {
            "colorbar": {
             "outlinewidth": 0,
             "ticks": ""
            },
            "colorscale": [
             [
              0,
              "#0d0887"
             ],
             [
              0.1111111111111111,
              "#46039f"
             ],
             [
              0.2222222222222222,
              "#7201a8"
             ],
             [
              0.3333333333333333,
              "#9c179e"
             ],
             [
              0.4444444444444444,
              "#bd3786"
             ],
             [
              0.5555555555555556,
              "#d8576b"
             ],
             [
              0.6666666666666666,
              "#ed7953"
             ],
             [
              0.7777777777777778,
              "#fb9f3a"
             ],
             [
              0.8888888888888888,
              "#fdca26"
             ],
             [
              1,
              "#f0f921"
             ]
            ],
            "type": "histogram2d"
           }
          ],
          "histogram2dcontour": [
           {
            "colorbar": {
             "outlinewidth": 0,
             "ticks": ""
            },
            "colorscale": [
             [
              0,
              "#0d0887"
             ],
             [
              0.1111111111111111,
              "#46039f"
             ],
             [
              0.2222222222222222,
              "#7201a8"
             ],
             [
              0.3333333333333333,
              "#9c179e"
             ],
             [
              0.4444444444444444,
              "#bd3786"
             ],
             [
              0.5555555555555556,
              "#d8576b"
             ],
             [
              0.6666666666666666,
              "#ed7953"
             ],
             [
              0.7777777777777778,
              "#fb9f3a"
             ],
             [
              0.8888888888888888,
              "#fdca26"
             ],
             [
              1,
              "#f0f921"
             ]
            ],
            "type": "histogram2dcontour"
           }
          ],
          "mesh3d": [
           {
            "colorbar": {
             "outlinewidth": 0,
             "ticks": ""
            },
            "type": "mesh3d"
           }
          ],
          "parcoords": [
           {
            "line": {
             "colorbar": {
              "outlinewidth": 0,
              "ticks": ""
             }
            },
            "type": "parcoords"
           }
          ],
          "pie": [
           {
            "automargin": true,
            "type": "pie"
           }
          ],
          "scatter": [
           {
            "marker": {
             "colorbar": {
              "outlinewidth": 0,
              "ticks": ""
             }
            },
            "type": "scatter"
           }
          ],
          "scatter3d": [
           {
            "line": {
             "colorbar": {
              "outlinewidth": 0,
              "ticks": ""
             }
            },
            "marker": {
             "colorbar": {
              "outlinewidth": 0,
              "ticks": ""
             }
            },
            "type": "scatter3d"
           }
          ],
          "scattercarpet": [
           {
            "marker": {
             "colorbar": {
              "outlinewidth": 0,
              "ticks": ""
             }
            },
            "type": "scattercarpet"
           }
          ],
          "scattergeo": [
           {
            "marker": {
             "colorbar": {
              "outlinewidth": 0,
              "ticks": ""
             }
            },
            "type": "scattergeo"
           }
          ],
          "scattergl": [
           {
            "marker": {
             "colorbar": {
              "outlinewidth": 0,
              "ticks": ""
             }
            },
            "type": "scattergl"
           }
          ],
          "scattermapbox": [
           {
            "marker": {
             "colorbar": {
              "outlinewidth": 0,
              "ticks": ""
             }
            },
            "type": "scattermapbox"
           }
          ],
          "scatterpolar": [
           {
            "marker": {
             "colorbar": {
              "outlinewidth": 0,
              "ticks": ""
             }
            },
            "type": "scatterpolar"
           }
          ],
          "scatterpolargl": [
           {
            "marker": {
             "colorbar": {
              "outlinewidth": 0,
              "ticks": ""
             }
            },
            "type": "scatterpolargl"
           }
          ],
          "scatterternary": [
           {
            "marker": {
             "colorbar": {
              "outlinewidth": 0,
              "ticks": ""
             }
            },
            "type": "scatterternary"
           }
          ],
          "surface": [
           {
            "colorbar": {
             "outlinewidth": 0,
             "ticks": ""
            },
            "colorscale": [
             [
              0,
              "#0d0887"
             ],
             [
              0.1111111111111111,
              "#46039f"
             ],
             [
              0.2222222222222222,
              "#7201a8"
             ],
             [
              0.3333333333333333,
              "#9c179e"
             ],
             [
              0.4444444444444444,
              "#bd3786"
             ],
             [
              0.5555555555555556,
              "#d8576b"
             ],
             [
              0.6666666666666666,
              "#ed7953"
             ],
             [
              0.7777777777777778,
              "#fb9f3a"
             ],
             [
              0.8888888888888888,
              "#fdca26"
             ],
             [
              1,
              "#f0f921"
             ]
            ],
            "type": "surface"
           }
          ],
          "table": [
           {
            "cells": {
             "fill": {
              "color": "#EBF0F8"
             },
             "line": {
              "color": "white"
             }
            },
            "header": {
             "fill": {
              "color": "#C8D4E3"
             },
             "line": {
              "color": "white"
             }
            },
            "type": "table"
           }
          ]
         },
         "layout": {
          "annotationdefaults": {
           "arrowcolor": "#2a3f5f",
           "arrowhead": 0,
           "arrowwidth": 1
          },
          "autotypenumbers": "strict",
          "coloraxis": {
           "colorbar": {
            "outlinewidth": 0,
            "ticks": ""
           }
          },
          "colorscale": {
           "diverging": [
            [
             0,
             "#8e0152"
            ],
            [
             0.1,
             "#c51b7d"
            ],
            [
             0.2,
             "#de77ae"
            ],
            [
             0.3,
             "#f1b6da"
            ],
            [
             0.4,
             "#fde0ef"
            ],
            [
             0.5,
             "#f7f7f7"
            ],
            [
             0.6,
             "#e6f5d0"
            ],
            [
             0.7,
             "#b8e186"
            ],
            [
             0.8,
             "#7fbc41"
            ],
            [
             0.9,
             "#4d9221"
            ],
            [
             1,
             "#276419"
            ]
           ],
           "sequential": [
            [
             0,
             "#0d0887"
            ],
            [
             0.1111111111111111,
             "#46039f"
            ],
            [
             0.2222222222222222,
             "#7201a8"
            ],
            [
             0.3333333333333333,
             "#9c179e"
            ],
            [
             0.4444444444444444,
             "#bd3786"
            ],
            [
             0.5555555555555556,
             "#d8576b"
            ],
            [
             0.6666666666666666,
             "#ed7953"
            ],
            [
             0.7777777777777778,
             "#fb9f3a"
            ],
            [
             0.8888888888888888,
             "#fdca26"
            ],
            [
             1,
             "#f0f921"
            ]
           ],
           "sequentialminus": [
            [
             0,
             "#0d0887"
            ],
            [
             0.1111111111111111,
             "#46039f"
            ],
            [
             0.2222222222222222,
             "#7201a8"
            ],
            [
             0.3333333333333333,
             "#9c179e"
            ],
            [
             0.4444444444444444,
             "#bd3786"
            ],
            [
             0.5555555555555556,
             "#d8576b"
            ],
            [
             0.6666666666666666,
             "#ed7953"
            ],
            [
             0.7777777777777778,
             "#fb9f3a"
            ],
            [
             0.8888888888888888,
             "#fdca26"
            ],
            [
             1,
             "#f0f921"
            ]
           ]
          },
          "colorway": [
           "#636efa",
           "#EF553B",
           "#00cc96",
           "#ab63fa",
           "#FFA15A",
           "#19d3f3",
           "#FF6692",
           "#B6E880",
           "#FF97FF",
           "#FECB52"
          ],
          "font": {
           "color": "#2a3f5f"
          },
          "geo": {
           "bgcolor": "white",
           "lakecolor": "white",
           "landcolor": "#E5ECF6",
           "showlakes": true,
           "showland": true,
           "subunitcolor": "white"
          },
          "hoverlabel": {
           "align": "left"
          },
          "hovermode": "closest",
          "mapbox": {
           "style": "light"
          },
          "paper_bgcolor": "white",
          "plot_bgcolor": "#E5ECF6",
          "polar": {
           "angularaxis": {
            "gridcolor": "white",
            "linecolor": "white",
            "ticks": ""
           },
           "bgcolor": "#E5ECF6",
           "radialaxis": {
            "gridcolor": "white",
            "linecolor": "white",
            "ticks": ""
           }
          },
          "scene": {
           "xaxis": {
            "backgroundcolor": "#E5ECF6",
            "gridcolor": "white",
            "gridwidth": 2,
            "linecolor": "white",
            "showbackground": true,
            "ticks": "",
            "zerolinecolor": "white"
           },
           "yaxis": {
            "backgroundcolor": "#E5ECF6",
            "gridcolor": "white",
            "gridwidth": 2,
            "linecolor": "white",
            "showbackground": true,
            "ticks": "",
            "zerolinecolor": "white"
           },
           "zaxis": {
            "backgroundcolor": "#E5ECF6",
            "gridcolor": "white",
            "gridwidth": 2,
            "linecolor": "white",
            "showbackground": true,
            "ticks": "",
            "zerolinecolor": "white"
           }
          },
          "shapedefaults": {
           "line": {
            "color": "#2a3f5f"
           }
          },
          "ternary": {
           "aaxis": {
            "gridcolor": "white",
            "linecolor": "white",
            "ticks": ""
           },
           "baxis": {
            "gridcolor": "white",
            "linecolor": "white",
            "ticks": ""
           },
           "bgcolor": "#E5ECF6",
           "caxis": {
            "gridcolor": "white",
            "linecolor": "white",
            "ticks": ""
           }
          },
          "title": {
           "x": 0.05
          },
          "xaxis": {
           "automargin": true,
           "gridcolor": "white",
           "linecolor": "white",
           "ticks": "",
           "title": {
            "standoff": 15
           },
           "zerolinecolor": "white",
           "zerolinewidth": 2
          },
          "yaxis": {
           "automargin": true,
           "gridcolor": "white",
           "linecolor": "white",
           "ticks": "",
           "title": {
            "standoff": 15
           },
           "zerolinecolor": "white",
           "zerolinewidth": 2
          }
         }
        },
        "title": {
         "font": {
          "color": "#4D5663"
         }
        },
        "xaxis": {
         "anchor": "y",
         "domain": [
          0,
          0.2125
         ],
         "gridcolor": "#E1E5ED",
         "showgrid": false,
         "tickfont": {
          "color": "#4D5663"
         },
         "title": {
          "font": {
           "color": "#4D5663"
          },
          "text": ""
         },
         "zerolinecolor": "#E1E5ED"
        },
        "xaxis10": {
         "anchor": "y10",
         "domain": [
          0.2625,
          0.475
         ],
         "gridcolor": "#E1E5ED",
         "showgrid": false,
         "tickfont": {
          "color": "#4D5663"
         },
         "title": {
          "font": {
           "color": "#4D5663"
          },
          "text": ""
         },
         "zerolinecolor": "#E1E5ED"
        },
        "xaxis11": {
         "anchor": "y11",
         "domain": [
          0.525,
          0.7375
         ],
         "gridcolor": "#E1E5ED",
         "showgrid": false,
         "tickfont": {
          "color": "#4D5663"
         },
         "title": {
          "font": {
           "color": "#4D5663"
          },
          "text": ""
         },
         "zerolinecolor": "#E1E5ED"
        },
        "xaxis12": {
         "anchor": "y12",
         "domain": [
          0.7875,
          1
         ],
         "gridcolor": "#E1E5ED",
         "showgrid": false,
         "tickfont": {
          "color": "#4D5663"
         },
         "title": {
          "font": {
           "color": "#4D5663"
          },
          "text": ""
         },
         "zerolinecolor": "#E1E5ED"
        },
        "xaxis13": {
         "anchor": "y13",
         "domain": [
          0,
          0.2125
         ],
         "gridcolor": "#E1E5ED",
         "showgrid": false,
         "tickfont": {
          "color": "#4D5663"
         },
         "title": {
          "font": {
           "color": "#4D5663"
          },
          "text": ""
         },
         "zerolinecolor": "#E1E5ED"
        },
        "xaxis14": {
         "anchor": "y14",
         "domain": [
          0.2625,
          0.475
         ],
         "gridcolor": "#E1E5ED",
         "showgrid": false,
         "tickfont": {
          "color": "#4D5663"
         },
         "title": {
          "font": {
           "color": "#4D5663"
          },
          "text": ""
         },
         "zerolinecolor": "#E1E5ED"
        },
        "xaxis15": {
         "anchor": "y15",
         "domain": [
          0.525,
          0.7375
         ],
         "gridcolor": "#E1E5ED",
         "showgrid": false,
         "tickfont": {
          "color": "#4D5663"
         },
         "title": {
          "font": {
           "color": "#4D5663"
          },
          "text": ""
         },
         "zerolinecolor": "#E1E5ED"
        },
        "xaxis16": {
         "anchor": "y16",
         "domain": [
          0.7875,
          1
         ],
         "gridcolor": "#E1E5ED",
         "showgrid": false,
         "tickfont": {
          "color": "#4D5663"
         },
         "title": {
          "font": {
           "color": "#4D5663"
          },
          "text": ""
         },
         "zerolinecolor": "#E1E5ED"
        },
        "xaxis2": {
         "anchor": "y2",
         "domain": [
          0.2625,
          0.475
         ],
         "gridcolor": "#E1E5ED",
         "showgrid": false,
         "tickfont": {
          "color": "#4D5663"
         },
         "title": {
          "font": {
           "color": "#4D5663"
          },
          "text": ""
         },
         "zerolinecolor": "#E1E5ED"
        },
        "xaxis3": {
         "anchor": "y3",
         "domain": [
          0.525,
          0.7375
         ],
         "gridcolor": "#E1E5ED",
         "showgrid": false,
         "tickfont": {
          "color": "#4D5663"
         },
         "title": {
          "font": {
           "color": "#4D5663"
          },
          "text": ""
         },
         "zerolinecolor": "#E1E5ED"
        },
        "xaxis4": {
         "anchor": "y4",
         "domain": [
          0.7875,
          1
         ],
         "gridcolor": "#E1E5ED",
         "showgrid": false,
         "tickfont": {
          "color": "#4D5663"
         },
         "title": {
          "font": {
           "color": "#4D5663"
          },
          "text": ""
         },
         "zerolinecolor": "#E1E5ED"
        },
        "xaxis5": {
         "anchor": "y5",
         "domain": [
          0,
          0.2125
         ],
         "gridcolor": "#E1E5ED",
         "showgrid": false,
         "tickfont": {
          "color": "#4D5663"
         },
         "title": {
          "font": {
           "color": "#4D5663"
          },
          "text": ""
         },
         "zerolinecolor": "#E1E5ED"
        },
        "xaxis6": {
         "anchor": "y6",
         "domain": [
          0.2625,
          0.475
         ],
         "gridcolor": "#E1E5ED",
         "showgrid": false,
         "tickfont": {
          "color": "#4D5663"
         },
         "title": {
          "font": {
           "color": "#4D5663"
          },
          "text": ""
         },
         "zerolinecolor": "#E1E5ED"
        },
        "xaxis7": {
         "anchor": "y7",
         "domain": [
          0.525,
          0.7375
         ],
         "gridcolor": "#E1E5ED",
         "showgrid": false,
         "tickfont": {
          "color": "#4D5663"
         },
         "title": {
          "font": {
           "color": "#4D5663"
          },
          "text": ""
         },
         "zerolinecolor": "#E1E5ED"
        },
        "xaxis8": {
         "anchor": "y8",
         "domain": [
          0.7875,
          1
         ],
         "gridcolor": "#E1E5ED",
         "showgrid": false,
         "tickfont": {
          "color": "#4D5663"
         },
         "title": {
          "font": {
           "color": "#4D5663"
          },
          "text": ""
         },
         "zerolinecolor": "#E1E5ED"
        },
        "xaxis9": {
         "anchor": "y9",
         "domain": [
          0,
          0.2125
         ],
         "gridcolor": "#E1E5ED",
         "showgrid": false,
         "tickfont": {
          "color": "#4D5663"
         },
         "title": {
          "font": {
           "color": "#4D5663"
          },
          "text": ""
         },
         "zerolinecolor": "#E1E5ED"
        },
        "yaxis": {
         "anchor": "x",
         "domain": [
          0.8025,
          1
         ],
         "gridcolor": "#E1E5ED",
         "showgrid": false,
         "tickfont": {
          "color": "#4D5663"
         },
         "title": {
          "font": {
           "color": "#4D5663"
          },
          "text": ""
         },
         "zerolinecolor": "#E1E5ED"
        },
        "yaxis10": {
         "anchor": "x10",
         "domain": [
          0.2675,
          0.465
         ],
         "gridcolor": "#E1E5ED",
         "showgrid": false,
         "tickfont": {
          "color": "#4D5663"
         },
         "title": {
          "font": {
           "color": "#4D5663"
          },
          "text": ""
         },
         "zerolinecolor": "#E1E5ED"
        },
        "yaxis11": {
         "anchor": "x11",
         "domain": [
          0.2675,
          0.465
         ],
         "gridcolor": "#E1E5ED",
         "showgrid": false,
         "tickfont": {
          "color": "#4D5663"
         },
         "title": {
          "font": {
           "color": "#4D5663"
          },
          "text": ""
         },
         "zerolinecolor": "#E1E5ED"
        },
        "yaxis12": {
         "anchor": "x12",
         "domain": [
          0.2675,
          0.465
         ],
         "gridcolor": "#E1E5ED",
         "showgrid": false,
         "tickfont": {
          "color": "#4D5663"
         },
         "title": {
          "font": {
           "color": "#4D5663"
          },
          "text": ""
         },
         "zerolinecolor": "#E1E5ED"
        },
        "yaxis13": {
         "anchor": "x13",
         "domain": [
          0,
          0.1975
         ],
         "gridcolor": "#E1E5ED",
         "showgrid": false,
         "tickfont": {
          "color": "#4D5663"
         },
         "title": {
          "font": {
           "color": "#4D5663"
          },
          "text": ""
         },
         "zerolinecolor": "#E1E5ED"
        },
        "yaxis14": {
         "anchor": "x14",
         "domain": [
          0,
          0.1975
         ],
         "gridcolor": "#E1E5ED",
         "showgrid": false,
         "tickfont": {
          "color": "#4D5663"
         },
         "title": {
          "font": {
           "color": "#4D5663"
          },
          "text": ""
         },
         "zerolinecolor": "#E1E5ED"
        },
        "yaxis15": {
         "anchor": "x15",
         "domain": [
          0,
          0.1975
         ],
         "gridcolor": "#E1E5ED",
         "showgrid": false,
         "tickfont": {
          "color": "#4D5663"
         },
         "title": {
          "font": {
           "color": "#4D5663"
          },
          "text": ""
         },
         "zerolinecolor": "#E1E5ED"
        },
        "yaxis16": {
         "anchor": "x16",
         "domain": [
          0,
          0.1975
         ],
         "gridcolor": "#E1E5ED",
         "showgrid": false,
         "tickfont": {
          "color": "#4D5663"
         },
         "title": {
          "font": {
           "color": "#4D5663"
          },
          "text": ""
         },
         "zerolinecolor": "#E1E5ED"
        },
        "yaxis2": {
         "anchor": "x2",
         "domain": [
          0.8025,
          1
         ],
         "gridcolor": "#E1E5ED",
         "showgrid": false,
         "tickfont": {
          "color": "#4D5663"
         },
         "title": {
          "font": {
           "color": "#4D5663"
          },
          "text": ""
         },
         "zerolinecolor": "#E1E5ED"
        },
        "yaxis3": {
         "anchor": "x3",
         "domain": [
          0.8025,
          1
         ],
         "gridcolor": "#E1E5ED",
         "showgrid": false,
         "tickfont": {
          "color": "#4D5663"
         },
         "title": {
          "font": {
           "color": "#4D5663"
          },
          "text": ""
         },
         "zerolinecolor": "#E1E5ED"
        },
        "yaxis4": {
         "anchor": "x4",
         "domain": [
          0.8025,
          1
         ],
         "gridcolor": "#E1E5ED",
         "showgrid": false,
         "tickfont": {
          "color": "#4D5663"
         },
         "title": {
          "font": {
           "color": "#4D5663"
          },
          "text": ""
         },
         "zerolinecolor": "#E1E5ED"
        },
        "yaxis5": {
         "anchor": "x5",
         "domain": [
          0.535,
          0.7325
         ],
         "gridcolor": "#E1E5ED",
         "showgrid": false,
         "tickfont": {
          "color": "#4D5663"
         },
         "title": {
          "font": {
           "color": "#4D5663"
          },
          "text": ""
         },
         "zerolinecolor": "#E1E5ED"
        },
        "yaxis6": {
         "anchor": "x6",
         "domain": [
          0.535,
          0.7325
         ],
         "gridcolor": "#E1E5ED",
         "showgrid": false,
         "tickfont": {
          "color": "#4D5663"
         },
         "title": {
          "font": {
           "color": "#4D5663"
          },
          "text": ""
         },
         "zerolinecolor": "#E1E5ED"
        },
        "yaxis7": {
         "anchor": "x7",
         "domain": [
          0.535,
          0.7325
         ],
         "gridcolor": "#E1E5ED",
         "showgrid": false,
         "tickfont": {
          "color": "#4D5663"
         },
         "title": {
          "font": {
           "color": "#4D5663"
          },
          "text": ""
         },
         "zerolinecolor": "#E1E5ED"
        },
        "yaxis8": {
         "anchor": "x8",
         "domain": [
          0.535,
          0.7325
         ],
         "gridcolor": "#E1E5ED",
         "showgrid": false,
         "tickfont": {
          "color": "#4D5663"
         },
         "title": {
          "font": {
           "color": "#4D5663"
          },
          "text": ""
         },
         "zerolinecolor": "#E1E5ED"
        },
        "yaxis9": {
         "anchor": "x9",
         "domain": [
          0.2675,
          0.465
         ],
         "gridcolor": "#E1E5ED",
         "showgrid": false,
         "tickfont": {
          "color": "#4D5663"
         },
         "title": {
          "font": {
           "color": "#4D5663"
          },
          "text": ""
         },
         "zerolinecolor": "#E1E5ED"
        }
       }
      },
      "text/html": [
       "<div>                            <div id=\"a0e83d9b-428d-4749-9009-9b4054355ee6\" class=\"plotly-graph-div\" style=\"height:525px; width:100%;\"></div>            <script type=\"text/javascript\">                require([\"plotly\"], function(Plotly) {                    window.PLOTLYENV=window.PLOTLYENV || {};\n",
       "                    window.PLOTLYENV.BASE_URL='https://plot.ly';                                    if (document.getElementById(\"a0e83d9b-428d-4749-9009-9b4054355ee6\")) {                    Plotly.newPlot(                        \"a0e83d9b-428d-4749-9009-9b4054355ee6\",                        [{\"histfunc\": \"count\", \"histnorm\": \"\", \"marker\": {\"color\": \"rgba(255, 153, 51, 1.0)\", \"line\": {\"color\": \"#4D5663\", \"width\": 1.3}}, \"name\": \"A\", \"nbinsx\": 10, \"opacity\": 0.8, \"orientation\": \"v\", \"type\": \"histogram\", \"x\": [-0.7847662484388648, 0.5887290310128517, -0.5514071090214487, 0.08840812267345483, -0.957132276940948, -0.1747201870186245, -0.775383100878524, 0.4945756457748739, -0.45784395724355104, -0.7299542464491161, 2.120508885901264, -2.2347271889052647, -0.216174711781822, -2.846486640307819, -0.5216053610061037, 1.0601574186659917, -0.3979067592077603, 1.8802233263322539, 1.203817333279283, -0.8843606774688277, 1.03031872907569, -0.4257523627376736, 0.8729366328539484, 0.7015791574627109, -0.38686542056186624, 0.8413262603687331, 0.05399293108518775, 0.043179544666969855, -2.9220805766557323, 0.08340038015300334, 3.5137406018102793, 0.06710822950599729, -0.8317463668012348, 0.11787537086880737, -0.40091873975019443, -0.647274188279839, -1.2526617333340366, 0.06122457684630888, -0.1444120037528103, -0.7903713996915007, -0.1232958328995701, 1.026244203860463, 0.24784413058545027, 0.07654902167655836, 0.6316802536407472, -1.3413050172070276, -1.4416712533630667, -0.10415219238574984, 0.20676801944816472, -0.8887833483806576, -0.18089986860947765, -1.1791549223426931, 0.8841397805651795, 0.5430023355298771, -0.9259578970567877, 0.6119061006624439, 0.574018323672333, 1.3093577253163893, 0.5563033371402298, 1.8136943649705675, -0.6442541240275126, 2.0713926711402553, -1.0477806925379496, -1.2191288405576126, 0.46833740043259986, -0.2272374953217602, -0.48093633214803955, 0.9640139774346485, 0.2698896656277988, 0.08284925087705126, 0.4891500704201871, 0.740009758283557, -0.9394610595033338, 1.0125457768568211, -0.6380799097814033, -0.532143093193377, 0.7800276603962227, -0.6985563151031897, -0.9621143302322339, -0.6193184582765459, 0.9043920195398775, -1.4522395983454406, -0.4893232211608719, -0.2642170873783527, 0.8316859700169948, 1.2489509315576732, -0.405229252832221, -0.3993210218041567, 0.6301892319317067, -2.032615377066661, -0.2978316144783474, -0.7430723467788538, -0.05140898799930743, -1.6170545960302538, -0.04932390232689837, -0.8155700860817712, -1.7788024582795317, -1.6174420443715154, 0.11267862990631071, 1.2787293893763918], \"xaxis\": \"x\", \"yaxis\": \"y\"}, {\"line\": {\"color\": \"rgba(128, 128, 128, 1.0)\", \"dash\": \"solid\", \"shape\": \"linear\", \"width\": 1.3}, \"marker\": {\"size\": 2, \"symbol\": \"circle\"}, \"mode\": \"markers\", \"name\": \"A\", \"text\": \"\", \"type\": \"scatter\", \"x\": [0.5572145425894736, -0.45504520577696367, 0.4397244784970589, -0.2763388377694911, -0.08571023954655589, -1.6755292215779456, -1.8334924719643624, -0.660543388652614, 0.7078090548539063, -0.30404582808658714, 0.7983154440193301, 0.6389687724326867, -1.8050197876858236, -0.4025794005207336, 0.3704656336659906, -0.747624783090879, -0.4392091376941933, -0.33047162205148, -0.1364354262968888, -0.8633476502974338, -0.16814011189850314, -1.4696332886345858, 0.1585322391907727, -2.418076999992624, 0.6622146788284973, 0.8721367999555061, -1.25976348157494, 1.8348088004628051, 0.47688346565844086, 0.14213908096085381, -1.8637299698264642, 0.18280931235672152, 1.2439722521750312, -0.3733871869316914, -2.1740967689550086, -0.15732638770451998, 0.0633022732022018, -0.7790326367796533, -0.24491703017219643, 0.5040191789600832, -0.9515995713121651, -0.8414065588473638, 0.5955986478906864, 0.7154922596789571, -0.0540021267028095, -0.045508513386948043, 0.6119646956030508, 1.1102705897798857, 0.19750938669276072, -1.0931085199143398, -0.6088374888059043, 0.879357016729816, -1.0545177862425543, -1.0615585452683487, -0.3395286389548686, 0.9167954596280192, 0.3056287217220758, 1.1897269806627724, -0.5785892939226185, 1.1882930981736926, -1.9453934420960646, 0.40404565925308905, -0.47793302435649154, 0.9554348023325204, -0.12910337890098902, -0.011338204028426009, -1.2864013072197011, 1.9501586903960613, 0.18449132473611274, -1.352778989230137, 0.8139484363174008, -0.282173902035499, 0.055616892028192616, 1.1233026493199727, -0.06175109687338001, 2.6230381340766007, -0.5766957704909688, -0.7597006964718782, -0.3769501067141862, -0.1760010222169406, 2.688186774678746, -2.3362883690467933, -0.00034980439845702736, -0.3079688557143545, -0.4116002100009419, 0.5599206118343988, 0.16222988523787568, -0.3746644731060114, 1.3783064233466986, -0.28963624409219874, 0.48917493779357635, 0.84254699744496, -0.16749916523803782, -0.44959956190182654, 0.5678994707214291, 0.05294747982035926, -0.5544304088936962, -0.41553679147877703, -1.9093260964550836, -0.11837954489758033], \"xaxis\": \"x2\", \"y\": [-0.7847662484388648, 0.5887290310128517, -0.5514071090214487, 0.08840812267345483, -0.957132276940948, -0.1747201870186245, -0.775383100878524, 0.4945756457748739, -0.45784395724355104, -0.7299542464491161, 2.120508885901264, -2.2347271889052647, -0.216174711781822, -2.846486640307819, -0.5216053610061037, 1.0601574186659917, -0.3979067592077603, 1.8802233263322539, 1.203817333279283, -0.8843606774688277, 1.03031872907569, -0.4257523627376736, 0.8729366328539484, 0.7015791574627109, -0.38686542056186624, 0.8413262603687331, 0.05399293108518775, 0.043179544666969855, -2.9220805766557323, 0.08340038015300334, 3.5137406018102793, 0.06710822950599729, -0.8317463668012348, 0.11787537086880737, -0.40091873975019443, -0.647274188279839, -1.2526617333340366, 0.06122457684630888, -0.1444120037528103, -0.7903713996915007, -0.1232958328995701, 1.026244203860463, 0.24784413058545027, 0.07654902167655836, 0.6316802536407472, -1.3413050172070276, -1.4416712533630667, -0.10415219238574984, 0.20676801944816472, -0.8887833483806576, -0.18089986860947765, -1.1791549223426931, 0.8841397805651795, 0.5430023355298771, -0.9259578970567877, 0.6119061006624439, 0.574018323672333, 1.3093577253163893, 0.5563033371402298, 1.8136943649705675, -0.6442541240275126, 2.0713926711402553, -1.0477806925379496, -1.2191288405576126, 0.46833740043259986, -0.2272374953217602, -0.48093633214803955, 0.9640139774346485, 0.2698896656277988, 0.08284925087705126, 0.4891500704201871, 0.740009758283557, -0.9394610595033338, 1.0125457768568211, -0.6380799097814033, -0.532143093193377, 0.7800276603962227, -0.6985563151031897, -0.9621143302322339, -0.6193184582765459, 0.9043920195398775, -1.4522395983454406, -0.4893232211608719, -0.2642170873783527, 0.8316859700169948, 1.2489509315576732, -0.405229252832221, -0.3993210218041567, 0.6301892319317067, -2.032615377066661, -0.2978316144783474, -0.7430723467788538, -0.05140898799930743, -1.6170545960302538, -0.04932390232689837, -0.8155700860817712, -1.7788024582795317, -1.6174420443715154, 0.11267862990631071, 1.2787293893763918], \"yaxis\": \"y2\"}, {\"line\": {\"color\": \"rgba(128, 128, 128, 1.0)\", \"dash\": \"solid\", \"shape\": \"linear\", \"width\": 1.3}, \"marker\": {\"size\": 2, \"symbol\": \"circle\"}, \"mode\": \"markers\", \"name\": \"A\", \"text\": \"\", \"type\": \"scatter\", \"x\": [-0.8455490038100929, -0.48454338439593486, 0.02742728679775391, -1.321577142465884, 0.22034173887314507, -2.093631831489845, 1.6375593956971584, -1.1277801936235505, 0.3825700052350184, 1.8822973419146725, -0.39605151558761664, 0.02557761876486907, -0.4001338463321016, -0.5476109604279163, 1.0000540287182, 1.3809141250288433, 1.3559001306200087, -0.537461808418586, 1.9764025692250418, -0.5450285848233788, -0.8184105442459356, 0.9660172851223123, 0.04360607110929835, 0.6555413572469578, 0.6478938871416958, 0.8232634438410178, 0.360630010432651, -1.666274007640765, 1.2420290975760535, -0.427908886341726, 0.6953509714286061, 0.22873233028397466, 2.5809679815426256, -0.647901182200101, 1.161375338165576, 0.9335962221008012, 1.6328807925024402, -0.3374022029089827, -1.769585792875065, 0.7824251490555052, -0.45802641924446996, 0.5068791824566319, 0.5275133432840038, 0.9511672102602415, -0.7625223505564455, -2.410741386351486, -0.507924546178929, -1.4675375868347356, -0.27459017964509824, -0.03113635927484934, 0.7391712376475289, 0.2970522520979106, 2.4314459346924906, -1.1951128713298187, -0.12754852794758628, 0.3815298036628025, -0.27579117180706453, -1.1895175411507892, 0.4685399709554705, -0.5370305241661832, -0.01690455876988005, -0.3187115873922865, 0.5699447190004894, 0.542856573551537, 0.4170790196748748, 1.119691957283167, 0.48628227147625475, -0.35947513245747564, -0.756552382995433, -2.221532168108824, 0.6100525508901942, 1.0174467014168214, -0.5054489385179858, -0.358152743368648, -2.4109117440282226, 0.8132654839817042, -0.9469437587689875, -0.1966778287985121, 2.5269418651932893, -1.2597415003789403, 1.0758341992422267, -0.7069671472601676, -0.7806185238327553, -0.13686197245146764, 0.5951662456417477, 0.8120653119290981, -0.22037037970159096, 1.8292113959816145, -0.7655358365700549, -1.9760962864906375, -0.44449561619815775, -2.8920929220710625, -0.1533771025874444, 0.4240708871637344, 0.5940992720388655, -0.3215738488582108, -1.1603659418850012, -1.1820523847755509, -2.8783077551045917, -0.679565466604065], \"xaxis\": \"x3\", \"y\": [-0.7847662484388648, 0.5887290310128517, -0.5514071090214487, 0.08840812267345483, -0.957132276940948, -0.1747201870186245, -0.775383100878524, 0.4945756457748739, -0.45784395724355104, -0.7299542464491161, 2.120508885901264, -2.2347271889052647, -0.216174711781822, -2.846486640307819, -0.5216053610061037, 1.0601574186659917, -0.3979067592077603, 1.8802233263322539, 1.203817333279283, -0.8843606774688277, 1.03031872907569, -0.4257523627376736, 0.8729366328539484, 0.7015791574627109, -0.38686542056186624, 0.8413262603687331, 0.05399293108518775, 0.043179544666969855, -2.9220805766557323, 0.08340038015300334, 3.5137406018102793, 0.06710822950599729, -0.8317463668012348, 0.11787537086880737, -0.40091873975019443, -0.647274188279839, -1.2526617333340366, 0.06122457684630888, -0.1444120037528103, -0.7903713996915007, -0.1232958328995701, 1.026244203860463, 0.24784413058545027, 0.07654902167655836, 0.6316802536407472, -1.3413050172070276, -1.4416712533630667, -0.10415219238574984, 0.20676801944816472, -0.8887833483806576, -0.18089986860947765, -1.1791549223426931, 0.8841397805651795, 0.5430023355298771, -0.9259578970567877, 0.6119061006624439, 0.574018323672333, 1.3093577253163893, 0.5563033371402298, 1.8136943649705675, -0.6442541240275126, 2.0713926711402553, -1.0477806925379496, -1.2191288405576126, 0.46833740043259986, -0.2272374953217602, -0.48093633214803955, 0.9640139774346485, 0.2698896656277988, 0.08284925087705126, 0.4891500704201871, 0.740009758283557, -0.9394610595033338, 1.0125457768568211, -0.6380799097814033, -0.532143093193377, 0.7800276603962227, -0.6985563151031897, -0.9621143302322339, -0.6193184582765459, 0.9043920195398775, -1.4522395983454406, -0.4893232211608719, -0.2642170873783527, 0.8316859700169948, 1.2489509315576732, -0.405229252832221, -0.3993210218041567, 0.6301892319317067, -2.032615377066661, -0.2978316144783474, -0.7430723467788538, -0.05140898799930743, -1.6170545960302538, -0.04932390232689837, -0.8155700860817712, -1.7788024582795317, -1.6174420443715154, 0.11267862990631071, 1.2787293893763918], \"yaxis\": \"y3\"}, {\"line\": {\"color\": \"rgba(128, 128, 128, 1.0)\", \"dash\": \"solid\", \"shape\": \"linear\", \"width\": 1.3}, \"marker\": {\"size\": 2, \"symbol\": \"circle\"}, \"mode\": \"markers\", \"name\": \"A\", \"text\": \"\", \"type\": \"scatter\", \"x\": [0.6723335848503301, 1.101801859179172, 0.7357435490315392, -1.2280625297956265, -0.44005532138364406, -0.16803502433740874, 0.17351548394524194, -0.10633243490621885, 0.7743910025386193, -1.4194451682443574, -0.10468995990216429, -1.0228073917500156, -1.5110864981774574, 0.46774634637526913, -0.029036546764236424, 2.257282303524755, -0.8534145035587284, -0.151571239746341, 0.05571582131259527, 0.7206600435884811, -0.11948099341997853, -0.04046681797066169, -2.1807707019167184, 1.9278107411174663, -0.34345869873683005, -0.8830041256269417, -0.30625062177685547, -0.9700713583349314, -0.6761901851859845, 2.0776298353366585, -0.6253688610172123, -3.4795102633333856, -0.49202318052004884, -0.6728050067233378, 0.443847461494667, 0.03756168972114086, 2.026266202989236, -1.2829151383801376, -0.8877238787364174, -0.8269487791154158, 0.8501296371411101, -0.4911038405418345, -0.4117073853202939, 0.4508464892954036, -0.8011710991782471, 0.23456400954708972, 1.21979461080376, 0.2705423336947931, -1.3749472636666433, -1.6443155450305198, -0.5901230324312452, -2.601359374010863, 0.006956209350416803, 0.35144868243848426, -0.5922937276979022, -0.415220928358183, -1.1478057759321942, 0.240849997002987, 0.39133678982290127, 0.2812337799478269, -0.6061286804849573, 0.6040571617321238, -0.65902589422123, 0.5803167796163067, -2.0540546419731345, 0.6805207680795181, 0.18160651808373954, -0.5703572679097334, -0.05714329407579369, -0.40012661552664086, 0.13796214865742956, 1.0912609384875758, -0.5356081456092818, -0.26873089340455436, -0.4614811846134316, -0.09699149677595723, 1.6269235472311914, 0.21715869422828132, 2.2500908709008414, 0.943691136337086, 0.2853156660825992, 0.4646533381244412, -1.4264389756739138, -0.6198502359995962, 0.5971836768817488, -0.25558068329428535, 0.9978931730834676, -0.4116200673653917, -0.6004733877734261, -2.407506367171087, -1.7368375573647012, -0.3682387015220804, -2.377384140524957, 1.018779544514356, -0.3335752771203218, 0.16240182735686323, -1.2189955901752059, -0.7814894449663207, -0.5443515871725954, -0.7259076273739898], \"xaxis\": \"x4\", \"y\": [-0.7847662484388648, 0.5887290310128517, -0.5514071090214487, 0.08840812267345483, -0.957132276940948, -0.1747201870186245, -0.775383100878524, 0.4945756457748739, -0.45784395724355104, -0.7299542464491161, 2.120508885901264, -2.2347271889052647, -0.216174711781822, -2.846486640307819, -0.5216053610061037, 1.0601574186659917, -0.3979067592077603, 1.8802233263322539, 1.203817333279283, -0.8843606774688277, 1.03031872907569, -0.4257523627376736, 0.8729366328539484, 0.7015791574627109, -0.38686542056186624, 0.8413262603687331, 0.05399293108518775, 0.043179544666969855, -2.9220805766557323, 0.08340038015300334, 3.5137406018102793, 0.06710822950599729, -0.8317463668012348, 0.11787537086880737, -0.40091873975019443, -0.647274188279839, -1.2526617333340366, 0.06122457684630888, -0.1444120037528103, -0.7903713996915007, -0.1232958328995701, 1.026244203860463, 0.24784413058545027, 0.07654902167655836, 0.6316802536407472, -1.3413050172070276, -1.4416712533630667, -0.10415219238574984, 0.20676801944816472, -0.8887833483806576, -0.18089986860947765, -1.1791549223426931, 0.8841397805651795, 0.5430023355298771, -0.9259578970567877, 0.6119061006624439, 0.574018323672333, 1.3093577253163893, 0.5563033371402298, 1.8136943649705675, -0.6442541240275126, 2.0713926711402553, -1.0477806925379496, -1.2191288405576126, 0.46833740043259986, -0.2272374953217602, -0.48093633214803955, 0.9640139774346485, 0.2698896656277988, 0.08284925087705126, 0.4891500704201871, 0.740009758283557, -0.9394610595033338, 1.0125457768568211, -0.6380799097814033, -0.532143093193377, 0.7800276603962227, -0.6985563151031897, -0.9621143302322339, -0.6193184582765459, 0.9043920195398775, -1.4522395983454406, -0.4893232211608719, -0.2642170873783527, 0.8316859700169948, 1.2489509315576732, -0.405229252832221, -0.3993210218041567, 0.6301892319317067, -2.032615377066661, -0.2978316144783474, -0.7430723467788538, -0.05140898799930743, -1.6170545960302538, -0.04932390232689837, -0.8155700860817712, -1.7788024582795317, -1.6174420443715154, 0.11267862990631071, 1.2787293893763918], \"yaxis\": \"y4\"}, {\"line\": {\"color\": \"rgba(128, 128, 128, 1.0)\", \"dash\": \"solid\", \"shape\": \"linear\", \"width\": 1.3}, \"marker\": {\"size\": 2, \"symbol\": \"circle\"}, \"mode\": \"markers\", \"name\": \"B\", \"text\": \"\", \"type\": \"scatter\", \"x\": [-0.7847662484388648, 0.5887290310128517, -0.5514071090214487, 0.08840812267345483, -0.957132276940948, -0.1747201870186245, -0.775383100878524, 0.4945756457748739, -0.45784395724355104, -0.7299542464491161, 2.120508885901264, -2.2347271889052647, -0.216174711781822, -2.846486640307819, -0.5216053610061037, 1.0601574186659917, -0.3979067592077603, 1.8802233263322539, 1.203817333279283, -0.8843606774688277, 1.03031872907569, -0.4257523627376736, 0.8729366328539484, 0.7015791574627109, -0.38686542056186624, 0.8413262603687331, 0.05399293108518775, 0.043179544666969855, -2.9220805766557323, 0.08340038015300334, 3.5137406018102793, 0.06710822950599729, -0.8317463668012348, 0.11787537086880737, -0.40091873975019443, -0.647274188279839, -1.2526617333340366, 0.06122457684630888, -0.1444120037528103, -0.7903713996915007, -0.1232958328995701, 1.026244203860463, 0.24784413058545027, 0.07654902167655836, 0.6316802536407472, -1.3413050172070276, -1.4416712533630667, -0.10415219238574984, 0.20676801944816472, -0.8887833483806576, -0.18089986860947765, -1.1791549223426931, 0.8841397805651795, 0.5430023355298771, -0.9259578970567877, 0.6119061006624439, 0.574018323672333, 1.3093577253163893, 0.5563033371402298, 1.8136943649705675, -0.6442541240275126, 2.0713926711402553, -1.0477806925379496, -1.2191288405576126, 0.46833740043259986, -0.2272374953217602, -0.48093633214803955, 0.9640139774346485, 0.2698896656277988, 0.08284925087705126, 0.4891500704201871, 0.740009758283557, -0.9394610595033338, 1.0125457768568211, -0.6380799097814033, -0.532143093193377, 0.7800276603962227, -0.6985563151031897, -0.9621143302322339, -0.6193184582765459, 0.9043920195398775, -1.4522395983454406, -0.4893232211608719, -0.2642170873783527, 0.8316859700169948, 1.2489509315576732, -0.405229252832221, -0.3993210218041567, 0.6301892319317067, -2.032615377066661, -0.2978316144783474, -0.7430723467788538, -0.05140898799930743, -1.6170545960302538, -0.04932390232689837, -0.8155700860817712, -1.7788024582795317, -1.6174420443715154, 0.11267862990631071, 1.2787293893763918], \"xaxis\": \"x5\", \"y\": [0.5572145425894736, -0.45504520577696367, 0.4397244784970589, -0.2763388377694911, -0.08571023954655589, -1.6755292215779456, -1.8334924719643624, -0.660543388652614, 0.7078090548539063, -0.30404582808658714, 0.7983154440193301, 0.6389687724326867, -1.8050197876858236, -0.4025794005207336, 0.3704656336659906, -0.747624783090879, -0.4392091376941933, -0.33047162205148, -0.1364354262968888, -0.8633476502974338, -0.16814011189850314, -1.4696332886345858, 0.1585322391907727, -2.418076999992624, 0.6622146788284973, 0.8721367999555061, -1.25976348157494, 1.8348088004628051, 0.47688346565844086, 0.14213908096085381, -1.8637299698264642, 0.18280931235672152, 1.2439722521750312, -0.3733871869316914, -2.1740967689550086, -0.15732638770451998, 0.0633022732022018, -0.7790326367796533, -0.24491703017219643, 0.5040191789600832, -0.9515995713121651, -0.8414065588473638, 0.5955986478906864, 0.7154922596789571, -0.0540021267028095, -0.045508513386948043, 0.6119646956030508, 1.1102705897798857, 0.19750938669276072, -1.0931085199143398, -0.6088374888059043, 0.879357016729816, -1.0545177862425543, -1.0615585452683487, -0.3395286389548686, 0.9167954596280192, 0.3056287217220758, 1.1897269806627724, -0.5785892939226185, 1.1882930981736926, -1.9453934420960646, 0.40404565925308905, -0.47793302435649154, 0.9554348023325204, -0.12910337890098902, -0.011338204028426009, -1.2864013072197011, 1.9501586903960613, 0.18449132473611274, -1.352778989230137, 0.8139484363174008, -0.282173902035499, 0.055616892028192616, 1.1233026493199727, -0.06175109687338001, 2.6230381340766007, -0.5766957704909688, -0.7597006964718782, -0.3769501067141862, -0.1760010222169406, 2.688186774678746, -2.3362883690467933, -0.00034980439845702736, -0.3079688557143545, -0.4116002100009419, 0.5599206118343988, 0.16222988523787568, -0.3746644731060114, 1.3783064233466986, -0.28963624409219874, 0.48917493779357635, 0.84254699744496, -0.16749916523803782, -0.44959956190182654, 0.5678994707214291, 0.05294747982035926, -0.5544304088936962, -0.41553679147877703, -1.9093260964550836, -0.11837954489758033], \"yaxis\": \"y5\"}, {\"histfunc\": \"count\", \"histnorm\": \"\", \"marker\": {\"color\": \"rgba(55, 128, 191, 1.0)\", \"line\": {\"color\": \"#4D5663\", \"width\": 1.3}}, \"name\": \"B\", \"nbinsx\": 10, \"opacity\": 0.8, \"orientation\": \"v\", \"type\": \"histogram\", \"x\": [0.5572145425894736, -0.45504520577696367, 0.4397244784970589, -0.2763388377694911, -0.08571023954655589, -1.6755292215779456, -1.8334924719643624, -0.660543388652614, 0.7078090548539063, -0.30404582808658714, 0.7983154440193301, 0.6389687724326867, -1.8050197876858236, -0.4025794005207336, 0.3704656336659906, -0.747624783090879, -0.4392091376941933, -0.33047162205148, -0.1364354262968888, -0.8633476502974338, -0.16814011189850314, -1.4696332886345858, 0.1585322391907727, -2.418076999992624, 0.6622146788284973, 0.8721367999555061, -1.25976348157494, 1.8348088004628051, 0.47688346565844086, 0.14213908096085381, -1.8637299698264642, 0.18280931235672152, 1.2439722521750312, -0.3733871869316914, -2.1740967689550086, -0.15732638770451998, 0.0633022732022018, -0.7790326367796533, -0.24491703017219643, 0.5040191789600832, -0.9515995713121651, -0.8414065588473638, 0.5955986478906864, 0.7154922596789571, -0.0540021267028095, -0.045508513386948043, 0.6119646956030508, 1.1102705897798857, 0.19750938669276072, -1.0931085199143398, -0.6088374888059043, 0.879357016729816, -1.0545177862425543, -1.0615585452683487, -0.3395286389548686, 0.9167954596280192, 0.3056287217220758, 1.1897269806627724, -0.5785892939226185, 1.1882930981736926, -1.9453934420960646, 0.40404565925308905, -0.47793302435649154, 0.9554348023325204, -0.12910337890098902, -0.011338204028426009, -1.2864013072197011, 1.9501586903960613, 0.18449132473611274, -1.352778989230137, 0.8139484363174008, -0.282173902035499, 0.055616892028192616, 1.1233026493199727, -0.06175109687338001, 2.6230381340766007, -0.5766957704909688, -0.7597006964718782, -0.3769501067141862, -0.1760010222169406, 2.688186774678746, -2.3362883690467933, -0.00034980439845702736, -0.3079688557143545, -0.4116002100009419, 0.5599206118343988, 0.16222988523787568, -0.3746644731060114, 1.3783064233466986, -0.28963624409219874, 0.48917493779357635, 0.84254699744496, -0.16749916523803782, -0.44959956190182654, 0.5678994707214291, 0.05294747982035926, -0.5544304088936962, -0.41553679147877703, -1.9093260964550836, -0.11837954489758033], \"xaxis\": \"x6\", \"yaxis\": \"y6\"}, {\"line\": {\"color\": \"rgba(128, 128, 128, 1.0)\", \"dash\": \"solid\", \"shape\": \"linear\", \"width\": 1.3}, \"marker\": {\"size\": 2, \"symbol\": \"circle\"}, \"mode\": \"markers\", \"name\": \"B\", \"text\": \"\", \"type\": \"scatter\", \"x\": [-0.8455490038100929, -0.48454338439593486, 0.02742728679775391, -1.321577142465884, 0.22034173887314507, -2.093631831489845, 1.6375593956971584, -1.1277801936235505, 0.3825700052350184, 1.8822973419146725, -0.39605151558761664, 0.02557761876486907, -0.4001338463321016, -0.5476109604279163, 1.0000540287182, 1.3809141250288433, 1.3559001306200087, -0.537461808418586, 1.9764025692250418, -0.5450285848233788, -0.8184105442459356, 0.9660172851223123, 0.04360607110929835, 0.6555413572469578, 0.6478938871416958, 0.8232634438410178, 0.360630010432651, -1.666274007640765, 1.2420290975760535, -0.427908886341726, 0.6953509714286061, 0.22873233028397466, 2.5809679815426256, -0.647901182200101, 1.161375338165576, 0.9335962221008012, 1.6328807925024402, -0.3374022029089827, -1.769585792875065, 0.7824251490555052, -0.45802641924446996, 0.5068791824566319, 0.5275133432840038, 0.9511672102602415, -0.7625223505564455, -2.410741386351486, -0.507924546178929, -1.4675375868347356, -0.27459017964509824, -0.03113635927484934, 0.7391712376475289, 0.2970522520979106, 2.4314459346924906, -1.1951128713298187, -0.12754852794758628, 0.3815298036628025, -0.27579117180706453, -1.1895175411507892, 0.4685399709554705, -0.5370305241661832, -0.01690455876988005, -0.3187115873922865, 0.5699447190004894, 0.542856573551537, 0.4170790196748748, 1.119691957283167, 0.48628227147625475, -0.35947513245747564, -0.756552382995433, -2.221532168108824, 0.6100525508901942, 1.0174467014168214, -0.5054489385179858, -0.358152743368648, -2.4109117440282226, 0.8132654839817042, -0.9469437587689875, -0.1966778287985121, 2.5269418651932893, -1.2597415003789403, 1.0758341992422267, -0.7069671472601676, -0.7806185238327553, -0.13686197245146764, 0.5951662456417477, 0.8120653119290981, -0.22037037970159096, 1.8292113959816145, -0.7655358365700549, -1.9760962864906375, -0.44449561619815775, -2.8920929220710625, -0.1533771025874444, 0.4240708871637344, 0.5940992720388655, -0.3215738488582108, -1.1603659418850012, -1.1820523847755509, -2.8783077551045917, -0.679565466604065], \"xaxis\": \"x7\", \"y\": [0.5572145425894736, -0.45504520577696367, 0.4397244784970589, -0.2763388377694911, -0.08571023954655589, -1.6755292215779456, -1.8334924719643624, -0.660543388652614, 0.7078090548539063, -0.30404582808658714, 0.7983154440193301, 0.6389687724326867, -1.8050197876858236, -0.4025794005207336, 0.3704656336659906, -0.747624783090879, -0.4392091376941933, -0.33047162205148, -0.1364354262968888, -0.8633476502974338, -0.16814011189850314, -1.4696332886345858, 0.1585322391907727, -2.418076999992624, 0.6622146788284973, 0.8721367999555061, -1.25976348157494, 1.8348088004628051, 0.47688346565844086, 0.14213908096085381, -1.8637299698264642, 0.18280931235672152, 1.2439722521750312, -0.3733871869316914, -2.1740967689550086, -0.15732638770451998, 0.0633022732022018, -0.7790326367796533, -0.24491703017219643, 0.5040191789600832, -0.9515995713121651, -0.8414065588473638, 0.5955986478906864, 0.7154922596789571, -0.0540021267028095, -0.045508513386948043, 0.6119646956030508, 1.1102705897798857, 0.19750938669276072, -1.0931085199143398, -0.6088374888059043, 0.879357016729816, -1.0545177862425543, -1.0615585452683487, -0.3395286389548686, 0.9167954596280192, 0.3056287217220758, 1.1897269806627724, -0.5785892939226185, 1.1882930981736926, -1.9453934420960646, 0.40404565925308905, -0.47793302435649154, 0.9554348023325204, -0.12910337890098902, -0.011338204028426009, -1.2864013072197011, 1.9501586903960613, 0.18449132473611274, -1.352778989230137, 0.8139484363174008, -0.282173902035499, 0.055616892028192616, 1.1233026493199727, -0.06175109687338001, 2.6230381340766007, -0.5766957704909688, -0.7597006964718782, -0.3769501067141862, -0.1760010222169406, 2.688186774678746, -2.3362883690467933, -0.00034980439845702736, -0.3079688557143545, -0.4116002100009419, 0.5599206118343988, 0.16222988523787568, -0.3746644731060114, 1.3783064233466986, -0.28963624409219874, 0.48917493779357635, 0.84254699744496, -0.16749916523803782, -0.44959956190182654, 0.5678994707214291, 0.05294747982035926, -0.5544304088936962, -0.41553679147877703, -1.9093260964550836, -0.11837954489758033], \"yaxis\": \"y7\"}, {\"line\": {\"color\": \"rgba(128, 128, 128, 1.0)\", \"dash\": \"solid\", \"shape\": \"linear\", \"width\": 1.3}, \"marker\": {\"size\": 2, \"symbol\": \"circle\"}, \"mode\": \"markers\", \"name\": \"B\", \"text\": \"\", \"type\": \"scatter\", \"x\": [0.6723335848503301, 1.101801859179172, 0.7357435490315392, -1.2280625297956265, -0.44005532138364406, -0.16803502433740874, 0.17351548394524194, -0.10633243490621885, 0.7743910025386193, -1.4194451682443574, -0.10468995990216429, -1.0228073917500156, -1.5110864981774574, 0.46774634637526913, -0.029036546764236424, 2.257282303524755, -0.8534145035587284, -0.151571239746341, 0.05571582131259527, 0.7206600435884811, -0.11948099341997853, -0.04046681797066169, -2.1807707019167184, 1.9278107411174663, -0.34345869873683005, -0.8830041256269417, -0.30625062177685547, -0.9700713583349314, -0.6761901851859845, 2.0776298353366585, -0.6253688610172123, -3.4795102633333856, -0.49202318052004884, -0.6728050067233378, 0.443847461494667, 0.03756168972114086, 2.026266202989236, -1.2829151383801376, -0.8877238787364174, -0.8269487791154158, 0.8501296371411101, -0.4911038405418345, -0.4117073853202939, 0.4508464892954036, -0.8011710991782471, 0.23456400954708972, 1.21979461080376, 0.2705423336947931, -1.3749472636666433, -1.6443155450305198, -0.5901230324312452, -2.601359374010863, 0.006956209350416803, 0.35144868243848426, -0.5922937276979022, -0.415220928358183, -1.1478057759321942, 0.240849997002987, 0.39133678982290127, 0.2812337799478269, -0.6061286804849573, 0.6040571617321238, -0.65902589422123, 0.5803167796163067, -2.0540546419731345, 0.6805207680795181, 0.18160651808373954, -0.5703572679097334, -0.05714329407579369, -0.40012661552664086, 0.13796214865742956, 1.0912609384875758, -0.5356081456092818, -0.26873089340455436, -0.4614811846134316, -0.09699149677595723, 1.6269235472311914, 0.21715869422828132, 2.2500908709008414, 0.943691136337086, 0.2853156660825992, 0.4646533381244412, -1.4264389756739138, -0.6198502359995962, 0.5971836768817488, -0.25558068329428535, 0.9978931730834676, -0.4116200673653917, -0.6004733877734261, -2.407506367171087, -1.7368375573647012, -0.3682387015220804, -2.377384140524957, 1.018779544514356, -0.3335752771203218, 0.16240182735686323, -1.2189955901752059, -0.7814894449663207, -0.5443515871725954, -0.7259076273739898], \"xaxis\": \"x8\", \"y\": [0.5572145425894736, -0.45504520577696367, 0.4397244784970589, -0.2763388377694911, -0.08571023954655589, -1.6755292215779456, -1.8334924719643624, -0.660543388652614, 0.7078090548539063, -0.30404582808658714, 0.7983154440193301, 0.6389687724326867, -1.8050197876858236, -0.4025794005207336, 0.3704656336659906, -0.747624783090879, -0.4392091376941933, -0.33047162205148, -0.1364354262968888, -0.8633476502974338, -0.16814011189850314, -1.4696332886345858, 0.1585322391907727, -2.418076999992624, 0.6622146788284973, 0.8721367999555061, -1.25976348157494, 1.8348088004628051, 0.47688346565844086, 0.14213908096085381, -1.8637299698264642, 0.18280931235672152, 1.2439722521750312, -0.3733871869316914, -2.1740967689550086, -0.15732638770451998, 0.0633022732022018, -0.7790326367796533, -0.24491703017219643, 0.5040191789600832, -0.9515995713121651, -0.8414065588473638, 0.5955986478906864, 0.7154922596789571, -0.0540021267028095, -0.045508513386948043, 0.6119646956030508, 1.1102705897798857, 0.19750938669276072, -1.0931085199143398, -0.6088374888059043, 0.879357016729816, -1.0545177862425543, -1.0615585452683487, -0.3395286389548686, 0.9167954596280192, 0.3056287217220758, 1.1897269806627724, -0.5785892939226185, 1.1882930981736926, -1.9453934420960646, 0.40404565925308905, -0.47793302435649154, 0.9554348023325204, -0.12910337890098902, -0.011338204028426009, -1.2864013072197011, 1.9501586903960613, 0.18449132473611274, -1.352778989230137, 0.8139484363174008, -0.282173902035499, 0.055616892028192616, 1.1233026493199727, -0.06175109687338001, 2.6230381340766007, -0.5766957704909688, -0.7597006964718782, -0.3769501067141862, -0.1760010222169406, 2.688186774678746, -2.3362883690467933, -0.00034980439845702736, -0.3079688557143545, -0.4116002100009419, 0.5599206118343988, 0.16222988523787568, -0.3746644731060114, 1.3783064233466986, -0.28963624409219874, 0.48917493779357635, 0.84254699744496, -0.16749916523803782, -0.44959956190182654, 0.5678994707214291, 0.05294747982035926, -0.5544304088936962, -0.41553679147877703, -1.9093260964550836, -0.11837954489758033], \"yaxis\": \"y8\"}, {\"line\": {\"color\": \"rgba(128, 128, 128, 1.0)\", \"dash\": \"solid\", \"shape\": \"linear\", \"width\": 1.3}, \"marker\": {\"size\": 2, \"symbol\": \"circle\"}, \"mode\": \"markers\", \"name\": \"C\", \"text\": \"\", \"type\": \"scatter\", \"x\": [-0.7847662484388648, 0.5887290310128517, -0.5514071090214487, 0.08840812267345483, -0.957132276940948, -0.1747201870186245, -0.775383100878524, 0.4945756457748739, -0.45784395724355104, -0.7299542464491161, 2.120508885901264, -2.2347271889052647, -0.216174711781822, -2.846486640307819, -0.5216053610061037, 1.0601574186659917, -0.3979067592077603, 1.8802233263322539, 1.203817333279283, -0.8843606774688277, 1.03031872907569, -0.4257523627376736, 0.8729366328539484, 0.7015791574627109, -0.38686542056186624, 0.8413262603687331, 0.05399293108518775, 0.043179544666969855, -2.9220805766557323, 0.08340038015300334, 3.5137406018102793, 0.06710822950599729, -0.8317463668012348, 0.11787537086880737, -0.40091873975019443, -0.647274188279839, -1.2526617333340366, 0.06122457684630888, -0.1444120037528103, -0.7903713996915007, -0.1232958328995701, 1.026244203860463, 0.24784413058545027, 0.07654902167655836, 0.6316802536407472, -1.3413050172070276, -1.4416712533630667, -0.10415219238574984, 0.20676801944816472, -0.8887833483806576, -0.18089986860947765, -1.1791549223426931, 0.8841397805651795, 0.5430023355298771, -0.9259578970567877, 0.6119061006624439, 0.574018323672333, 1.3093577253163893, 0.5563033371402298, 1.8136943649705675, -0.6442541240275126, 2.0713926711402553, -1.0477806925379496, -1.2191288405576126, 0.46833740043259986, -0.2272374953217602, -0.48093633214803955, 0.9640139774346485, 0.2698896656277988, 0.08284925087705126, 0.4891500704201871, 0.740009758283557, -0.9394610595033338, 1.0125457768568211, -0.6380799097814033, -0.532143093193377, 0.7800276603962227, -0.6985563151031897, -0.9621143302322339, -0.6193184582765459, 0.9043920195398775, -1.4522395983454406, -0.4893232211608719, -0.2642170873783527, 0.8316859700169948, 1.2489509315576732, -0.405229252832221, -0.3993210218041567, 0.6301892319317067, -2.032615377066661, -0.2978316144783474, -0.7430723467788538, -0.05140898799930743, -1.6170545960302538, -0.04932390232689837, -0.8155700860817712, -1.7788024582795317, -1.6174420443715154, 0.11267862990631071, 1.2787293893763918], \"xaxis\": \"x9\", \"y\": [-0.8455490038100929, -0.48454338439593486, 0.02742728679775391, -1.321577142465884, 0.22034173887314507, -2.093631831489845, 1.6375593956971584, -1.1277801936235505, 0.3825700052350184, 1.8822973419146725, -0.39605151558761664, 0.02557761876486907, -0.4001338463321016, -0.5476109604279163, 1.0000540287182, 1.3809141250288433, 1.3559001306200087, -0.537461808418586, 1.9764025692250418, -0.5450285848233788, -0.8184105442459356, 0.9660172851223123, 0.04360607110929835, 0.6555413572469578, 0.6478938871416958, 0.8232634438410178, 0.360630010432651, -1.666274007640765, 1.2420290975760535, -0.427908886341726, 0.6953509714286061, 0.22873233028397466, 2.5809679815426256, -0.647901182200101, 1.161375338165576, 0.9335962221008012, 1.6328807925024402, -0.3374022029089827, -1.769585792875065, 0.7824251490555052, -0.45802641924446996, 0.5068791824566319, 0.5275133432840038, 0.9511672102602415, -0.7625223505564455, -2.410741386351486, -0.507924546178929, -1.4675375868347356, -0.27459017964509824, -0.03113635927484934, 0.7391712376475289, 0.2970522520979106, 2.4314459346924906, -1.1951128713298187, -0.12754852794758628, 0.3815298036628025, -0.27579117180706453, -1.1895175411507892, 0.4685399709554705, -0.5370305241661832, -0.01690455876988005, -0.3187115873922865, 0.5699447190004894, 0.542856573551537, 0.4170790196748748, 1.119691957283167, 0.48628227147625475, -0.35947513245747564, -0.756552382995433, -2.221532168108824, 0.6100525508901942, 1.0174467014168214, -0.5054489385179858, -0.358152743368648, -2.4109117440282226, 0.8132654839817042, -0.9469437587689875, -0.1966778287985121, 2.5269418651932893, -1.2597415003789403, 1.0758341992422267, -0.7069671472601676, -0.7806185238327553, -0.13686197245146764, 0.5951662456417477, 0.8120653119290981, -0.22037037970159096, 1.8292113959816145, -0.7655358365700549, -1.9760962864906375, -0.44449561619815775, -2.8920929220710625, -0.1533771025874444, 0.4240708871637344, 0.5940992720388655, -0.3215738488582108, -1.1603659418850012, -1.1820523847755509, -2.8783077551045917, -0.679565466604065], \"yaxis\": \"y9\"}, {\"line\": {\"color\": \"rgba(128, 128, 128, 1.0)\", \"dash\": \"solid\", \"shape\": \"linear\", \"width\": 1.3}, \"marker\": {\"size\": 2, \"symbol\": \"circle\"}, \"mode\": \"markers\", \"name\": \"C\", \"text\": \"\", \"type\": \"scatter\", \"x\": [0.5572145425894736, -0.45504520577696367, 0.4397244784970589, -0.2763388377694911, -0.08571023954655589, -1.6755292215779456, -1.8334924719643624, -0.660543388652614, 0.7078090548539063, -0.30404582808658714, 0.7983154440193301, 0.6389687724326867, -1.8050197876858236, -0.4025794005207336, 0.3704656336659906, -0.747624783090879, -0.4392091376941933, -0.33047162205148, -0.1364354262968888, -0.8633476502974338, -0.16814011189850314, -1.4696332886345858, 0.1585322391907727, -2.418076999992624, 0.6622146788284973, 0.8721367999555061, -1.25976348157494, 1.8348088004628051, 0.47688346565844086, 0.14213908096085381, -1.8637299698264642, 0.18280931235672152, 1.2439722521750312, -0.3733871869316914, -2.1740967689550086, -0.15732638770451998, 0.0633022732022018, -0.7790326367796533, -0.24491703017219643, 0.5040191789600832, -0.9515995713121651, -0.8414065588473638, 0.5955986478906864, 0.7154922596789571, -0.0540021267028095, -0.045508513386948043, 0.6119646956030508, 1.1102705897798857, 0.19750938669276072, -1.0931085199143398, -0.6088374888059043, 0.879357016729816, -1.0545177862425543, -1.0615585452683487, -0.3395286389548686, 0.9167954596280192, 0.3056287217220758, 1.1897269806627724, -0.5785892939226185, 1.1882930981736926, -1.9453934420960646, 0.40404565925308905, -0.47793302435649154, 0.9554348023325204, -0.12910337890098902, -0.011338204028426009, -1.2864013072197011, 1.9501586903960613, 0.18449132473611274, -1.352778989230137, 0.8139484363174008, -0.282173902035499, 0.055616892028192616, 1.1233026493199727, -0.06175109687338001, 2.6230381340766007, -0.5766957704909688, -0.7597006964718782, -0.3769501067141862, -0.1760010222169406, 2.688186774678746, -2.3362883690467933, -0.00034980439845702736, -0.3079688557143545, -0.4116002100009419, 0.5599206118343988, 0.16222988523787568, -0.3746644731060114, 1.3783064233466986, -0.28963624409219874, 0.48917493779357635, 0.84254699744496, -0.16749916523803782, -0.44959956190182654, 0.5678994707214291, 0.05294747982035926, -0.5544304088936962, -0.41553679147877703, -1.9093260964550836, -0.11837954489758033], \"xaxis\": \"x10\", \"y\": [-0.8455490038100929, -0.48454338439593486, 0.02742728679775391, -1.321577142465884, 0.22034173887314507, -2.093631831489845, 1.6375593956971584, -1.1277801936235505, 0.3825700052350184, 1.8822973419146725, -0.39605151558761664, 0.02557761876486907, -0.4001338463321016, -0.5476109604279163, 1.0000540287182, 1.3809141250288433, 1.3559001306200087, -0.537461808418586, 1.9764025692250418, -0.5450285848233788, -0.8184105442459356, 0.9660172851223123, 0.04360607110929835, 0.6555413572469578, 0.6478938871416958, 0.8232634438410178, 0.360630010432651, -1.666274007640765, 1.2420290975760535, -0.427908886341726, 0.6953509714286061, 0.22873233028397466, 2.5809679815426256, -0.647901182200101, 1.161375338165576, 0.9335962221008012, 1.6328807925024402, -0.3374022029089827, -1.769585792875065, 0.7824251490555052, -0.45802641924446996, 0.5068791824566319, 0.5275133432840038, 0.9511672102602415, -0.7625223505564455, -2.410741386351486, -0.507924546178929, -1.4675375868347356, -0.27459017964509824, -0.03113635927484934, 0.7391712376475289, 0.2970522520979106, 2.4314459346924906, -1.1951128713298187, -0.12754852794758628, 0.3815298036628025, -0.27579117180706453, -1.1895175411507892, 0.4685399709554705, -0.5370305241661832, -0.01690455876988005, -0.3187115873922865, 0.5699447190004894, 0.542856573551537, 0.4170790196748748, 1.119691957283167, 0.48628227147625475, -0.35947513245747564, -0.756552382995433, -2.221532168108824, 0.6100525508901942, 1.0174467014168214, -0.5054489385179858, -0.358152743368648, -2.4109117440282226, 0.8132654839817042, -0.9469437587689875, -0.1966778287985121, 2.5269418651932893, -1.2597415003789403, 1.0758341992422267, -0.7069671472601676, -0.7806185238327553, -0.13686197245146764, 0.5951662456417477, 0.8120653119290981, -0.22037037970159096, 1.8292113959816145, -0.7655358365700549, -1.9760962864906375, -0.44449561619815775, -2.8920929220710625, -0.1533771025874444, 0.4240708871637344, 0.5940992720388655, -0.3215738488582108, -1.1603659418850012, -1.1820523847755509, -2.8783077551045917, -0.679565466604065], \"yaxis\": \"y10\"}, {\"histfunc\": \"count\", \"histnorm\": \"\", \"marker\": {\"color\": \"rgba(50, 171, 96, 1.0)\", \"line\": {\"color\": \"#4D5663\", \"width\": 1.3}}, \"name\": \"C\", \"nbinsx\": 10, \"opacity\": 0.8, \"orientation\": \"v\", \"type\": \"histogram\", \"x\": [-0.8455490038100929, -0.48454338439593486, 0.02742728679775391, -1.321577142465884, 0.22034173887314507, -2.093631831489845, 1.6375593956971584, -1.1277801936235505, 0.3825700052350184, 1.8822973419146725, -0.39605151558761664, 0.02557761876486907, -0.4001338463321016, -0.5476109604279163, 1.0000540287182, 1.3809141250288433, 1.3559001306200087, -0.537461808418586, 1.9764025692250418, -0.5450285848233788, -0.8184105442459356, 0.9660172851223123, 0.04360607110929835, 0.6555413572469578, 0.6478938871416958, 0.8232634438410178, 0.360630010432651, -1.666274007640765, 1.2420290975760535, -0.427908886341726, 0.6953509714286061, 0.22873233028397466, 2.5809679815426256, -0.647901182200101, 1.161375338165576, 0.9335962221008012, 1.6328807925024402, -0.3374022029089827, -1.769585792875065, 0.7824251490555052, -0.45802641924446996, 0.5068791824566319, 0.5275133432840038, 0.9511672102602415, -0.7625223505564455, -2.410741386351486, -0.507924546178929, -1.4675375868347356, -0.27459017964509824, -0.03113635927484934, 0.7391712376475289, 0.2970522520979106, 2.4314459346924906, -1.1951128713298187, -0.12754852794758628, 0.3815298036628025, -0.27579117180706453, -1.1895175411507892, 0.4685399709554705, -0.5370305241661832, -0.01690455876988005, -0.3187115873922865, 0.5699447190004894, 0.542856573551537, 0.4170790196748748, 1.119691957283167, 0.48628227147625475, -0.35947513245747564, -0.756552382995433, -2.221532168108824, 0.6100525508901942, 1.0174467014168214, -0.5054489385179858, -0.358152743368648, -2.4109117440282226, 0.8132654839817042, -0.9469437587689875, -0.1966778287985121, 2.5269418651932893, -1.2597415003789403, 1.0758341992422267, -0.7069671472601676, -0.7806185238327553, -0.13686197245146764, 0.5951662456417477, 0.8120653119290981, -0.22037037970159096, 1.8292113959816145, -0.7655358365700549, -1.9760962864906375, -0.44449561619815775, -2.8920929220710625, -0.1533771025874444, 0.4240708871637344, 0.5940992720388655, -0.3215738488582108, -1.1603659418850012, -1.1820523847755509, -2.8783077551045917, -0.679565466604065], \"xaxis\": \"x11\", \"yaxis\": \"y11\"}, {\"line\": {\"color\": \"rgba(128, 128, 128, 1.0)\", \"dash\": \"solid\", \"shape\": \"linear\", \"width\": 1.3}, \"marker\": {\"size\": 2, \"symbol\": \"circle\"}, \"mode\": \"markers\", \"name\": \"C\", \"text\": \"\", \"type\": \"scatter\", \"x\": [0.6723335848503301, 1.101801859179172, 0.7357435490315392, -1.2280625297956265, -0.44005532138364406, -0.16803502433740874, 0.17351548394524194, -0.10633243490621885, 0.7743910025386193, -1.4194451682443574, -0.10468995990216429, -1.0228073917500156, -1.5110864981774574, 0.46774634637526913, -0.029036546764236424, 2.257282303524755, -0.8534145035587284, -0.151571239746341, 0.05571582131259527, 0.7206600435884811, -0.11948099341997853, -0.04046681797066169, -2.1807707019167184, 1.9278107411174663, -0.34345869873683005, -0.8830041256269417, -0.30625062177685547, -0.9700713583349314, -0.6761901851859845, 2.0776298353366585, -0.6253688610172123, -3.4795102633333856, -0.49202318052004884, -0.6728050067233378, 0.443847461494667, 0.03756168972114086, 2.026266202989236, -1.2829151383801376, -0.8877238787364174, -0.8269487791154158, 0.8501296371411101, -0.4911038405418345, -0.4117073853202939, 0.4508464892954036, -0.8011710991782471, 0.23456400954708972, 1.21979461080376, 0.2705423336947931, -1.3749472636666433, -1.6443155450305198, -0.5901230324312452, -2.601359374010863, 0.006956209350416803, 0.35144868243848426, -0.5922937276979022, -0.415220928358183, -1.1478057759321942, 0.240849997002987, 0.39133678982290127, 0.2812337799478269, -0.6061286804849573, 0.6040571617321238, -0.65902589422123, 0.5803167796163067, -2.0540546419731345, 0.6805207680795181, 0.18160651808373954, -0.5703572679097334, -0.05714329407579369, -0.40012661552664086, 0.13796214865742956, 1.0912609384875758, -0.5356081456092818, -0.26873089340455436, -0.4614811846134316, -0.09699149677595723, 1.6269235472311914, 0.21715869422828132, 2.2500908709008414, 0.943691136337086, 0.2853156660825992, 0.4646533381244412, -1.4264389756739138, -0.6198502359995962, 0.5971836768817488, -0.25558068329428535, 0.9978931730834676, -0.4116200673653917, -0.6004733877734261, -2.407506367171087, -1.7368375573647012, -0.3682387015220804, -2.377384140524957, 1.018779544514356, -0.3335752771203218, 0.16240182735686323, -1.2189955901752059, -0.7814894449663207, -0.5443515871725954, -0.7259076273739898], \"xaxis\": \"x12\", \"y\": [-0.8455490038100929, -0.48454338439593486, 0.02742728679775391, -1.321577142465884, 0.22034173887314507, -2.093631831489845, 1.6375593956971584, -1.1277801936235505, 0.3825700052350184, 1.8822973419146725, -0.39605151558761664, 0.02557761876486907, -0.4001338463321016, -0.5476109604279163, 1.0000540287182, 1.3809141250288433, 1.3559001306200087, -0.537461808418586, 1.9764025692250418, -0.5450285848233788, -0.8184105442459356, 0.9660172851223123, 0.04360607110929835, 0.6555413572469578, 0.6478938871416958, 0.8232634438410178, 0.360630010432651, -1.666274007640765, 1.2420290975760535, -0.427908886341726, 0.6953509714286061, 0.22873233028397466, 2.5809679815426256, -0.647901182200101, 1.161375338165576, 0.9335962221008012, 1.6328807925024402, -0.3374022029089827, -1.769585792875065, 0.7824251490555052, -0.45802641924446996, 0.5068791824566319, 0.5275133432840038, 0.9511672102602415, -0.7625223505564455, -2.410741386351486, -0.507924546178929, -1.4675375868347356, -0.27459017964509824, -0.03113635927484934, 0.7391712376475289, 0.2970522520979106, 2.4314459346924906, -1.1951128713298187, -0.12754852794758628, 0.3815298036628025, -0.27579117180706453, -1.1895175411507892, 0.4685399709554705, -0.5370305241661832, -0.01690455876988005, -0.3187115873922865, 0.5699447190004894, 0.542856573551537, 0.4170790196748748, 1.119691957283167, 0.48628227147625475, -0.35947513245747564, -0.756552382995433, -2.221532168108824, 0.6100525508901942, 1.0174467014168214, -0.5054489385179858, -0.358152743368648, -2.4109117440282226, 0.8132654839817042, -0.9469437587689875, -0.1966778287985121, 2.5269418651932893, -1.2597415003789403, 1.0758341992422267, -0.7069671472601676, -0.7806185238327553, -0.13686197245146764, 0.5951662456417477, 0.8120653119290981, -0.22037037970159096, 1.8292113959816145, -0.7655358365700549, -1.9760962864906375, -0.44449561619815775, -2.8920929220710625, -0.1533771025874444, 0.4240708871637344, 0.5940992720388655, -0.3215738488582108, -1.1603659418850012, -1.1820523847755509, -2.8783077551045917, -0.679565466604065], \"yaxis\": \"y12\"}, {\"line\": {\"color\": \"rgba(128, 128, 128, 1.0)\", \"dash\": \"solid\", \"shape\": \"linear\", \"width\": 1.3}, \"marker\": {\"size\": 2, \"symbol\": \"circle\"}, \"mode\": \"markers\", \"name\": \"D\", \"text\": \"\", \"type\": \"scatter\", \"x\": [-0.7847662484388648, 0.5887290310128517, -0.5514071090214487, 0.08840812267345483, -0.957132276940948, -0.1747201870186245, -0.775383100878524, 0.4945756457748739, -0.45784395724355104, -0.7299542464491161, 2.120508885901264, -2.2347271889052647, -0.216174711781822, -2.846486640307819, -0.5216053610061037, 1.0601574186659917, -0.3979067592077603, 1.8802233263322539, 1.203817333279283, -0.8843606774688277, 1.03031872907569, -0.4257523627376736, 0.8729366328539484, 0.7015791574627109, -0.38686542056186624, 0.8413262603687331, 0.05399293108518775, 0.043179544666969855, -2.9220805766557323, 0.08340038015300334, 3.5137406018102793, 0.06710822950599729, -0.8317463668012348, 0.11787537086880737, -0.40091873975019443, -0.647274188279839, -1.2526617333340366, 0.06122457684630888, -0.1444120037528103, -0.7903713996915007, -0.1232958328995701, 1.026244203860463, 0.24784413058545027, 0.07654902167655836, 0.6316802536407472, -1.3413050172070276, -1.4416712533630667, -0.10415219238574984, 0.20676801944816472, -0.8887833483806576, -0.18089986860947765, -1.1791549223426931, 0.8841397805651795, 0.5430023355298771, -0.9259578970567877, 0.6119061006624439, 0.574018323672333, 1.3093577253163893, 0.5563033371402298, 1.8136943649705675, -0.6442541240275126, 2.0713926711402553, -1.0477806925379496, -1.2191288405576126, 0.46833740043259986, -0.2272374953217602, -0.48093633214803955, 0.9640139774346485, 0.2698896656277988, 0.08284925087705126, 0.4891500704201871, 0.740009758283557, -0.9394610595033338, 1.0125457768568211, -0.6380799097814033, -0.532143093193377, 0.7800276603962227, -0.6985563151031897, -0.9621143302322339, -0.6193184582765459, 0.9043920195398775, -1.4522395983454406, -0.4893232211608719, -0.2642170873783527, 0.8316859700169948, 1.2489509315576732, -0.405229252832221, -0.3993210218041567, 0.6301892319317067, -2.032615377066661, -0.2978316144783474, -0.7430723467788538, -0.05140898799930743, -1.6170545960302538, -0.04932390232689837, -0.8155700860817712, -1.7788024582795317, -1.6174420443715154, 0.11267862990631071, 1.2787293893763918], \"xaxis\": \"x13\", \"y\": [0.6723335848503301, 1.101801859179172, 0.7357435490315392, -1.2280625297956265, -0.44005532138364406, -0.16803502433740874, 0.17351548394524194, -0.10633243490621885, 0.7743910025386193, -1.4194451682443574, -0.10468995990216429, -1.0228073917500156, -1.5110864981774574, 0.46774634637526913, -0.029036546764236424, 2.257282303524755, -0.8534145035587284, -0.151571239746341, 0.05571582131259527, 0.7206600435884811, -0.11948099341997853, -0.04046681797066169, -2.1807707019167184, 1.9278107411174663, -0.34345869873683005, -0.8830041256269417, -0.30625062177685547, -0.9700713583349314, -0.6761901851859845, 2.0776298353366585, -0.6253688610172123, -3.4795102633333856, -0.49202318052004884, -0.6728050067233378, 0.443847461494667, 0.03756168972114086, 2.026266202989236, -1.2829151383801376, -0.8877238787364174, -0.8269487791154158, 0.8501296371411101, -0.4911038405418345, -0.4117073853202939, 0.4508464892954036, -0.8011710991782471, 0.23456400954708972, 1.21979461080376, 0.2705423336947931, -1.3749472636666433, -1.6443155450305198, -0.5901230324312452, -2.601359374010863, 0.006956209350416803, 0.35144868243848426, -0.5922937276979022, -0.415220928358183, -1.1478057759321942, 0.240849997002987, 0.39133678982290127, 0.2812337799478269, -0.6061286804849573, 0.6040571617321238, -0.65902589422123, 0.5803167796163067, -2.0540546419731345, 0.6805207680795181, 0.18160651808373954, -0.5703572679097334, -0.05714329407579369, -0.40012661552664086, 0.13796214865742956, 1.0912609384875758, -0.5356081456092818, -0.26873089340455436, -0.4614811846134316, -0.09699149677595723, 1.6269235472311914, 0.21715869422828132, 2.2500908709008414, 0.943691136337086, 0.2853156660825992, 0.4646533381244412, -1.4264389756739138, -0.6198502359995962, 0.5971836768817488, -0.25558068329428535, 0.9978931730834676, -0.4116200673653917, -0.6004733877734261, -2.407506367171087, -1.7368375573647012, -0.3682387015220804, -2.377384140524957, 1.018779544514356, -0.3335752771203218, 0.16240182735686323, -1.2189955901752059, -0.7814894449663207, -0.5443515871725954, -0.7259076273739898], \"yaxis\": \"y13\"}, {\"line\": {\"color\": \"rgba(128, 128, 128, 1.0)\", \"dash\": \"solid\", \"shape\": \"linear\", \"width\": 1.3}, \"marker\": {\"size\": 2, \"symbol\": \"circle\"}, \"mode\": \"markers\", \"name\": \"D\", \"text\": \"\", \"type\": \"scatter\", \"x\": [0.5572145425894736, -0.45504520577696367, 0.4397244784970589, -0.2763388377694911, -0.08571023954655589, -1.6755292215779456, -1.8334924719643624, -0.660543388652614, 0.7078090548539063, -0.30404582808658714, 0.7983154440193301, 0.6389687724326867, -1.8050197876858236, -0.4025794005207336, 0.3704656336659906, -0.747624783090879, -0.4392091376941933, -0.33047162205148, -0.1364354262968888, -0.8633476502974338, -0.16814011189850314, -1.4696332886345858, 0.1585322391907727, -2.418076999992624, 0.6622146788284973, 0.8721367999555061, -1.25976348157494, 1.8348088004628051, 0.47688346565844086, 0.14213908096085381, -1.8637299698264642, 0.18280931235672152, 1.2439722521750312, -0.3733871869316914, -2.1740967689550086, -0.15732638770451998, 0.0633022732022018, -0.7790326367796533, -0.24491703017219643, 0.5040191789600832, -0.9515995713121651, -0.8414065588473638, 0.5955986478906864, 0.7154922596789571, -0.0540021267028095, -0.045508513386948043, 0.6119646956030508, 1.1102705897798857, 0.19750938669276072, -1.0931085199143398, -0.6088374888059043, 0.879357016729816, -1.0545177862425543, -1.0615585452683487, -0.3395286389548686, 0.9167954596280192, 0.3056287217220758, 1.1897269806627724, -0.5785892939226185, 1.1882930981736926, -1.9453934420960646, 0.40404565925308905, -0.47793302435649154, 0.9554348023325204, -0.12910337890098902, -0.011338204028426009, -1.2864013072197011, 1.9501586903960613, 0.18449132473611274, -1.352778989230137, 0.8139484363174008, -0.282173902035499, 0.055616892028192616, 1.1233026493199727, -0.06175109687338001, 2.6230381340766007, -0.5766957704909688, -0.7597006964718782, -0.3769501067141862, -0.1760010222169406, 2.688186774678746, -2.3362883690467933, -0.00034980439845702736, -0.3079688557143545, -0.4116002100009419, 0.5599206118343988, 0.16222988523787568, -0.3746644731060114, 1.3783064233466986, -0.28963624409219874, 0.48917493779357635, 0.84254699744496, -0.16749916523803782, -0.44959956190182654, 0.5678994707214291, 0.05294747982035926, -0.5544304088936962, -0.41553679147877703, -1.9093260964550836, -0.11837954489758033], \"xaxis\": \"x14\", \"y\": [0.6723335848503301, 1.101801859179172, 0.7357435490315392, -1.2280625297956265, -0.44005532138364406, -0.16803502433740874, 0.17351548394524194, -0.10633243490621885, 0.7743910025386193, -1.4194451682443574, -0.10468995990216429, -1.0228073917500156, -1.5110864981774574, 0.46774634637526913, -0.029036546764236424, 2.257282303524755, -0.8534145035587284, -0.151571239746341, 0.05571582131259527, 0.7206600435884811, -0.11948099341997853, -0.04046681797066169, -2.1807707019167184, 1.9278107411174663, -0.34345869873683005, -0.8830041256269417, -0.30625062177685547, -0.9700713583349314, -0.6761901851859845, 2.0776298353366585, -0.6253688610172123, -3.4795102633333856, -0.49202318052004884, -0.6728050067233378, 0.443847461494667, 0.03756168972114086, 2.026266202989236, -1.2829151383801376, -0.8877238787364174, -0.8269487791154158, 0.8501296371411101, -0.4911038405418345, -0.4117073853202939, 0.4508464892954036, -0.8011710991782471, 0.23456400954708972, 1.21979461080376, 0.2705423336947931, -1.3749472636666433, -1.6443155450305198, -0.5901230324312452, -2.601359374010863, 0.006956209350416803, 0.35144868243848426, -0.5922937276979022, -0.415220928358183, -1.1478057759321942, 0.240849997002987, 0.39133678982290127, 0.2812337799478269, -0.6061286804849573, 0.6040571617321238, -0.65902589422123, 0.5803167796163067, -2.0540546419731345, 0.6805207680795181, 0.18160651808373954, -0.5703572679097334, -0.05714329407579369, -0.40012661552664086, 0.13796214865742956, 1.0912609384875758, -0.5356081456092818, -0.26873089340455436, -0.4614811846134316, -0.09699149677595723, 1.6269235472311914, 0.21715869422828132, 2.2500908709008414, 0.943691136337086, 0.2853156660825992, 0.4646533381244412, -1.4264389756739138, -0.6198502359995962, 0.5971836768817488, -0.25558068329428535, 0.9978931730834676, -0.4116200673653917, -0.6004733877734261, -2.407506367171087, -1.7368375573647012, -0.3682387015220804, -2.377384140524957, 1.018779544514356, -0.3335752771203218, 0.16240182735686323, -1.2189955901752059, -0.7814894449663207, -0.5443515871725954, -0.7259076273739898], \"yaxis\": \"y14\"}, {\"line\": {\"color\": \"rgba(128, 128, 128, 1.0)\", \"dash\": \"solid\", \"shape\": \"linear\", \"width\": 1.3}, \"marker\": {\"size\": 2, \"symbol\": \"circle\"}, \"mode\": \"markers\", \"name\": \"D\", \"text\": \"\", \"type\": \"scatter\", \"x\": [-0.8455490038100929, -0.48454338439593486, 0.02742728679775391, -1.321577142465884, 0.22034173887314507, -2.093631831489845, 1.6375593956971584, -1.1277801936235505, 0.3825700052350184, 1.8822973419146725, -0.39605151558761664, 0.02557761876486907, -0.4001338463321016, -0.5476109604279163, 1.0000540287182, 1.3809141250288433, 1.3559001306200087, -0.537461808418586, 1.9764025692250418, -0.5450285848233788, -0.8184105442459356, 0.9660172851223123, 0.04360607110929835, 0.6555413572469578, 0.6478938871416958, 0.8232634438410178, 0.360630010432651, -1.666274007640765, 1.2420290975760535, -0.427908886341726, 0.6953509714286061, 0.22873233028397466, 2.5809679815426256, -0.647901182200101, 1.161375338165576, 0.9335962221008012, 1.6328807925024402, -0.3374022029089827, -1.769585792875065, 0.7824251490555052, -0.45802641924446996, 0.5068791824566319, 0.5275133432840038, 0.9511672102602415, -0.7625223505564455, -2.410741386351486, -0.507924546178929, -1.4675375868347356, -0.27459017964509824, -0.03113635927484934, 0.7391712376475289, 0.2970522520979106, 2.4314459346924906, -1.1951128713298187, -0.12754852794758628, 0.3815298036628025, -0.27579117180706453, -1.1895175411507892, 0.4685399709554705, -0.5370305241661832, -0.01690455876988005, -0.3187115873922865, 0.5699447190004894, 0.542856573551537, 0.4170790196748748, 1.119691957283167, 0.48628227147625475, -0.35947513245747564, -0.756552382995433, -2.221532168108824, 0.6100525508901942, 1.0174467014168214, -0.5054489385179858, -0.358152743368648, -2.4109117440282226, 0.8132654839817042, -0.9469437587689875, -0.1966778287985121, 2.5269418651932893, -1.2597415003789403, 1.0758341992422267, -0.7069671472601676, -0.7806185238327553, -0.13686197245146764, 0.5951662456417477, 0.8120653119290981, -0.22037037970159096, 1.8292113959816145, -0.7655358365700549, -1.9760962864906375, -0.44449561619815775, -2.8920929220710625, -0.1533771025874444, 0.4240708871637344, 0.5940992720388655, -0.3215738488582108, -1.1603659418850012, -1.1820523847755509, -2.8783077551045917, -0.679565466604065], \"xaxis\": \"x15\", \"y\": [0.6723335848503301, 1.101801859179172, 0.7357435490315392, -1.2280625297956265, -0.44005532138364406, -0.16803502433740874, 0.17351548394524194, -0.10633243490621885, 0.7743910025386193, -1.4194451682443574, -0.10468995990216429, -1.0228073917500156, -1.5110864981774574, 0.46774634637526913, -0.029036546764236424, 2.257282303524755, -0.8534145035587284, -0.151571239746341, 0.05571582131259527, 0.7206600435884811, -0.11948099341997853, -0.04046681797066169, -2.1807707019167184, 1.9278107411174663, -0.34345869873683005, -0.8830041256269417, -0.30625062177685547, -0.9700713583349314, -0.6761901851859845, 2.0776298353366585, -0.6253688610172123, -3.4795102633333856, -0.49202318052004884, -0.6728050067233378, 0.443847461494667, 0.03756168972114086, 2.026266202989236, -1.2829151383801376, -0.8877238787364174, -0.8269487791154158, 0.8501296371411101, -0.4911038405418345, -0.4117073853202939, 0.4508464892954036, -0.8011710991782471, 0.23456400954708972, 1.21979461080376, 0.2705423336947931, -1.3749472636666433, -1.6443155450305198, -0.5901230324312452, -2.601359374010863, 0.006956209350416803, 0.35144868243848426, -0.5922937276979022, -0.415220928358183, -1.1478057759321942, 0.240849997002987, 0.39133678982290127, 0.2812337799478269, -0.6061286804849573, 0.6040571617321238, -0.65902589422123, 0.5803167796163067, -2.0540546419731345, 0.6805207680795181, 0.18160651808373954, -0.5703572679097334, -0.05714329407579369, -0.40012661552664086, 0.13796214865742956, 1.0912609384875758, -0.5356081456092818, -0.26873089340455436, -0.4614811846134316, -0.09699149677595723, 1.6269235472311914, 0.21715869422828132, 2.2500908709008414, 0.943691136337086, 0.2853156660825992, 0.4646533381244412, -1.4264389756739138, -0.6198502359995962, 0.5971836768817488, -0.25558068329428535, 0.9978931730834676, -0.4116200673653917, -0.6004733877734261, -2.407506367171087, -1.7368375573647012, -0.3682387015220804, -2.377384140524957, 1.018779544514356, -0.3335752771203218, 0.16240182735686323, -1.2189955901752059, -0.7814894449663207, -0.5443515871725954, -0.7259076273739898], \"yaxis\": \"y15\"}, {\"histfunc\": \"count\", \"histnorm\": \"\", \"marker\": {\"color\": \"rgba(128, 0, 128, 1.0)\", \"line\": {\"color\": \"#4D5663\", \"width\": 1.3}}, \"name\": \"D\", \"nbinsx\": 10, \"opacity\": 0.8, \"orientation\": \"v\", \"type\": \"histogram\", \"x\": [0.6723335848503301, 1.101801859179172, 0.7357435490315392, -1.2280625297956265, -0.44005532138364406, -0.16803502433740874, 0.17351548394524194, -0.10633243490621885, 0.7743910025386193, -1.4194451682443574, -0.10468995990216429, -1.0228073917500156, -1.5110864981774574, 0.46774634637526913, -0.029036546764236424, 2.257282303524755, -0.8534145035587284, -0.151571239746341, 0.05571582131259527, 0.7206600435884811, -0.11948099341997853, -0.04046681797066169, -2.1807707019167184, 1.9278107411174663, -0.34345869873683005, -0.8830041256269417, -0.30625062177685547, -0.9700713583349314, -0.6761901851859845, 2.0776298353366585, -0.6253688610172123, -3.4795102633333856, -0.49202318052004884, -0.6728050067233378, 0.443847461494667, 0.03756168972114086, 2.026266202989236, -1.2829151383801376, -0.8877238787364174, -0.8269487791154158, 0.8501296371411101, -0.4911038405418345, -0.4117073853202939, 0.4508464892954036, -0.8011710991782471, 0.23456400954708972, 1.21979461080376, 0.2705423336947931, -1.3749472636666433, -1.6443155450305198, -0.5901230324312452, -2.601359374010863, 0.006956209350416803, 0.35144868243848426, -0.5922937276979022, -0.415220928358183, -1.1478057759321942, 0.240849997002987, 0.39133678982290127, 0.2812337799478269, -0.6061286804849573, 0.6040571617321238, -0.65902589422123, 0.5803167796163067, -2.0540546419731345, 0.6805207680795181, 0.18160651808373954, -0.5703572679097334, -0.05714329407579369, -0.40012661552664086, 0.13796214865742956, 1.0912609384875758, -0.5356081456092818, -0.26873089340455436, -0.4614811846134316, -0.09699149677595723, 1.6269235472311914, 0.21715869422828132, 2.2500908709008414, 0.943691136337086, 0.2853156660825992, 0.4646533381244412, -1.4264389756739138, -0.6198502359995962, 0.5971836768817488, -0.25558068329428535, 0.9978931730834676, -0.4116200673653917, -0.6004733877734261, -2.407506367171087, -1.7368375573647012, -0.3682387015220804, -2.377384140524957, 1.018779544514356, -0.3335752771203218, 0.16240182735686323, -1.2189955901752059, -0.7814894449663207, -0.5443515871725954, -0.7259076273739898], \"xaxis\": \"x16\", \"yaxis\": \"y16\"}],                        {\"bargap\": 0.02, \"legend\": {\"bgcolor\": \"#F5F6F9\", \"font\": {\"color\": \"#4D5663\"}}, \"paper_bgcolor\": \"#F5F6F9\", \"plot_bgcolor\": \"#F5F6F9\", \"showlegend\": false, \"template\": {\"data\": {\"bar\": [{\"error_x\": {\"color\": \"#2a3f5f\"}, \"error_y\": {\"color\": \"#2a3f5f\"}, \"marker\": {\"line\": {\"color\": \"#E5ECF6\", \"width\": 0.5}}, \"type\": \"bar\"}], \"barpolar\": [{\"marker\": {\"line\": {\"color\": \"#E5ECF6\", \"width\": 0.5}}, \"type\": \"barpolar\"}], \"carpet\": [{\"aaxis\": {\"endlinecolor\": \"#2a3f5f\", \"gridcolor\": \"white\", \"linecolor\": \"white\", \"minorgridcolor\": \"white\", \"startlinecolor\": \"#2a3f5f\"}, \"baxis\": {\"endlinecolor\": \"#2a3f5f\", \"gridcolor\": \"white\", \"linecolor\": \"white\", \"minorgridcolor\": \"white\", \"startlinecolor\": \"#2a3f5f\"}, \"type\": \"carpet\"}], \"choropleth\": [{\"colorbar\": {\"outlinewidth\": 0, \"ticks\": \"\"}, \"type\": \"choropleth\"}], \"contour\": [{\"colorbar\": {\"outlinewidth\": 0, \"ticks\": \"\"}, \"colorscale\": [[0.0, \"#0d0887\"], [0.1111111111111111, \"#46039f\"], [0.2222222222222222, \"#7201a8\"], [0.3333333333333333, \"#9c179e\"], [0.4444444444444444, \"#bd3786\"], [0.5555555555555556, \"#d8576b\"], [0.6666666666666666, \"#ed7953\"], [0.7777777777777778, \"#fb9f3a\"], [0.8888888888888888, \"#fdca26\"], [1.0, \"#f0f921\"]], \"type\": \"contour\"}], \"contourcarpet\": [{\"colorbar\": {\"outlinewidth\": 0, \"ticks\": \"\"}, \"type\": \"contourcarpet\"}], \"heatmap\": [{\"colorbar\": {\"outlinewidth\": 0, \"ticks\": \"\"}, \"colorscale\": [[0.0, \"#0d0887\"], [0.1111111111111111, \"#46039f\"], [0.2222222222222222, \"#7201a8\"], [0.3333333333333333, \"#9c179e\"], [0.4444444444444444, \"#bd3786\"], [0.5555555555555556, \"#d8576b\"], [0.6666666666666666, \"#ed7953\"], [0.7777777777777778, \"#fb9f3a\"], [0.8888888888888888, \"#fdca26\"], [1.0, \"#f0f921\"]], \"type\": \"heatmap\"}], \"heatmapgl\": [{\"colorbar\": {\"outlinewidth\": 0, \"ticks\": \"\"}, \"colorscale\": [[0.0, \"#0d0887\"], [0.1111111111111111, \"#46039f\"], [0.2222222222222222, \"#7201a8\"], [0.3333333333333333, \"#9c179e\"], [0.4444444444444444, \"#bd3786\"], [0.5555555555555556, \"#d8576b\"], [0.6666666666666666, \"#ed7953\"], [0.7777777777777778, \"#fb9f3a\"], [0.8888888888888888, \"#fdca26\"], [1.0, \"#f0f921\"]], \"type\": \"heatmapgl\"}], \"histogram\": [{\"marker\": {\"colorbar\": {\"outlinewidth\": 0, \"ticks\": \"\"}}, \"type\": \"histogram\"}], \"histogram2d\": [{\"colorbar\": {\"outlinewidth\": 0, \"ticks\": \"\"}, \"colorscale\": [[0.0, \"#0d0887\"], [0.1111111111111111, \"#46039f\"], [0.2222222222222222, \"#7201a8\"], [0.3333333333333333, \"#9c179e\"], [0.4444444444444444, \"#bd3786\"], [0.5555555555555556, \"#d8576b\"], [0.6666666666666666, \"#ed7953\"], [0.7777777777777778, \"#fb9f3a\"], [0.8888888888888888, \"#fdca26\"], [1.0, \"#f0f921\"]], \"type\": \"histogram2d\"}], \"histogram2dcontour\": [{\"colorbar\": {\"outlinewidth\": 0, \"ticks\": \"\"}, \"colorscale\": [[0.0, \"#0d0887\"], [0.1111111111111111, \"#46039f\"], [0.2222222222222222, \"#7201a8\"], [0.3333333333333333, \"#9c179e\"], [0.4444444444444444, \"#bd3786\"], [0.5555555555555556, \"#d8576b\"], [0.6666666666666666, \"#ed7953\"], [0.7777777777777778, \"#fb9f3a\"], [0.8888888888888888, \"#fdca26\"], [1.0, \"#f0f921\"]], \"type\": \"histogram2dcontour\"}], \"mesh3d\": [{\"colorbar\": {\"outlinewidth\": 0, \"ticks\": \"\"}, \"type\": \"mesh3d\"}], \"parcoords\": [{\"line\": {\"colorbar\": {\"outlinewidth\": 0, \"ticks\": \"\"}}, \"type\": \"parcoords\"}], \"pie\": [{\"automargin\": true, \"type\": \"pie\"}], \"scatter\": [{\"marker\": {\"colorbar\": {\"outlinewidth\": 0, \"ticks\": \"\"}}, \"type\": \"scatter\"}], \"scatter3d\": [{\"line\": {\"colorbar\": {\"outlinewidth\": 0, \"ticks\": \"\"}}, \"marker\": {\"colorbar\": {\"outlinewidth\": 0, \"ticks\": \"\"}}, \"type\": \"scatter3d\"}], \"scattercarpet\": [{\"marker\": {\"colorbar\": {\"outlinewidth\": 0, \"ticks\": \"\"}}, \"type\": \"scattercarpet\"}], \"scattergeo\": [{\"marker\": {\"colorbar\": {\"outlinewidth\": 0, \"ticks\": \"\"}}, \"type\": \"scattergeo\"}], \"scattergl\": [{\"marker\": {\"colorbar\": {\"outlinewidth\": 0, \"ticks\": \"\"}}, \"type\": \"scattergl\"}], \"scattermapbox\": [{\"marker\": {\"colorbar\": {\"outlinewidth\": 0, \"ticks\": \"\"}}, \"type\": \"scattermapbox\"}], \"scatterpolar\": [{\"marker\": {\"colorbar\": {\"outlinewidth\": 0, \"ticks\": \"\"}}, \"type\": \"scatterpolar\"}], \"scatterpolargl\": [{\"marker\": {\"colorbar\": {\"outlinewidth\": 0, \"ticks\": \"\"}}, \"type\": \"scatterpolargl\"}], \"scatterternary\": [{\"marker\": {\"colorbar\": {\"outlinewidth\": 0, \"ticks\": \"\"}}, \"type\": \"scatterternary\"}], \"surface\": [{\"colorbar\": {\"outlinewidth\": 0, \"ticks\": \"\"}, \"colorscale\": [[0.0, \"#0d0887\"], [0.1111111111111111, \"#46039f\"], [0.2222222222222222, \"#7201a8\"], [0.3333333333333333, \"#9c179e\"], [0.4444444444444444, \"#bd3786\"], [0.5555555555555556, \"#d8576b\"], [0.6666666666666666, \"#ed7953\"], [0.7777777777777778, \"#fb9f3a\"], [0.8888888888888888, \"#fdca26\"], [1.0, \"#f0f921\"]], \"type\": \"surface\"}], \"table\": [{\"cells\": {\"fill\": {\"color\": \"#EBF0F8\"}, \"line\": {\"color\": \"white\"}}, \"header\": {\"fill\": {\"color\": \"#C8D4E3\"}, \"line\": {\"color\": \"white\"}}, \"type\": \"table\"}]}, \"layout\": {\"annotationdefaults\": {\"arrowcolor\": \"#2a3f5f\", \"arrowhead\": 0, \"arrowwidth\": 1}, \"autotypenumbers\": \"strict\", \"coloraxis\": {\"colorbar\": {\"outlinewidth\": 0, \"ticks\": \"\"}}, \"colorscale\": {\"diverging\": [[0, \"#8e0152\"], [0.1, \"#c51b7d\"], [0.2, \"#de77ae\"], [0.3, \"#f1b6da\"], [0.4, \"#fde0ef\"], [0.5, \"#f7f7f7\"], [0.6, \"#e6f5d0\"], [0.7, \"#b8e186\"], [0.8, \"#7fbc41\"], [0.9, \"#4d9221\"], [1, \"#276419\"]], \"sequential\": [[0.0, \"#0d0887\"], [0.1111111111111111, \"#46039f\"], [0.2222222222222222, \"#7201a8\"], [0.3333333333333333, \"#9c179e\"], [0.4444444444444444, \"#bd3786\"], [0.5555555555555556, \"#d8576b\"], [0.6666666666666666, \"#ed7953\"], [0.7777777777777778, \"#fb9f3a\"], [0.8888888888888888, \"#fdca26\"], [1.0, \"#f0f921\"]], \"sequentialminus\": [[0.0, \"#0d0887\"], [0.1111111111111111, \"#46039f\"], [0.2222222222222222, \"#7201a8\"], [0.3333333333333333, \"#9c179e\"], [0.4444444444444444, \"#bd3786\"], [0.5555555555555556, \"#d8576b\"], [0.6666666666666666, \"#ed7953\"], [0.7777777777777778, \"#fb9f3a\"], [0.8888888888888888, \"#fdca26\"], [1.0, \"#f0f921\"]]}, \"colorway\": [\"#636efa\", \"#EF553B\", \"#00cc96\", \"#ab63fa\", \"#FFA15A\", \"#19d3f3\", \"#FF6692\", \"#B6E880\", \"#FF97FF\", \"#FECB52\"], \"font\": {\"color\": \"#2a3f5f\"}, \"geo\": {\"bgcolor\": \"white\", \"lakecolor\": \"white\", \"landcolor\": \"#E5ECF6\", \"showlakes\": true, \"showland\": true, \"subunitcolor\": \"white\"}, \"hoverlabel\": {\"align\": \"left\"}, \"hovermode\": \"closest\", \"mapbox\": {\"style\": \"light\"}, \"paper_bgcolor\": \"white\", \"plot_bgcolor\": \"#E5ECF6\", \"polar\": {\"angularaxis\": {\"gridcolor\": \"white\", \"linecolor\": \"white\", \"ticks\": \"\"}, \"bgcolor\": \"#E5ECF6\", \"radialaxis\": {\"gridcolor\": \"white\", \"linecolor\": \"white\", \"ticks\": \"\"}}, \"scene\": {\"xaxis\": {\"backgroundcolor\": \"#E5ECF6\", \"gridcolor\": \"white\", \"gridwidth\": 2, \"linecolor\": \"white\", \"showbackground\": true, \"ticks\": \"\", \"zerolinecolor\": \"white\"}, \"yaxis\": {\"backgroundcolor\": \"#E5ECF6\", \"gridcolor\": \"white\", \"gridwidth\": 2, \"linecolor\": \"white\", \"showbackground\": true, \"ticks\": \"\", \"zerolinecolor\": \"white\"}, \"zaxis\": {\"backgroundcolor\": \"#E5ECF6\", \"gridcolor\": \"white\", \"gridwidth\": 2, \"linecolor\": \"white\", \"showbackground\": true, \"ticks\": \"\", \"zerolinecolor\": \"white\"}}, \"shapedefaults\": {\"line\": {\"color\": \"#2a3f5f\"}}, \"ternary\": {\"aaxis\": {\"gridcolor\": \"white\", \"linecolor\": \"white\", \"ticks\": \"\"}, \"baxis\": {\"gridcolor\": \"white\", \"linecolor\": \"white\", \"ticks\": \"\"}, \"bgcolor\": \"#E5ECF6\", \"caxis\": {\"gridcolor\": \"white\", \"linecolor\": \"white\", \"ticks\": \"\"}}, \"title\": {\"x\": 0.05}, \"xaxis\": {\"automargin\": true, \"gridcolor\": \"white\", \"linecolor\": \"white\", \"ticks\": \"\", \"title\": {\"standoff\": 15}, \"zerolinecolor\": \"white\", \"zerolinewidth\": 2}, \"yaxis\": {\"automargin\": true, \"gridcolor\": \"white\", \"linecolor\": \"white\", \"ticks\": \"\", \"title\": {\"standoff\": 15}, \"zerolinecolor\": \"white\", \"zerolinewidth\": 2}}}, \"title\": {\"font\": {\"color\": \"#4D5663\"}}, \"xaxis\": {\"anchor\": \"y\", \"domain\": [0.0, 0.2125], \"gridcolor\": \"#E1E5ED\", \"showgrid\": false, \"tickfont\": {\"color\": \"#4D5663\"}, \"title\": {\"font\": {\"color\": \"#4D5663\"}, \"text\": \"\"}, \"zerolinecolor\": \"#E1E5ED\"}, \"xaxis10\": {\"anchor\": \"y10\", \"domain\": [0.2625, 0.475], \"gridcolor\": \"#E1E5ED\", \"showgrid\": false, \"tickfont\": {\"color\": \"#4D5663\"}, \"title\": {\"font\": {\"color\": \"#4D5663\"}, \"text\": \"\"}, \"zerolinecolor\": \"#E1E5ED\"}, \"xaxis11\": {\"anchor\": \"y11\", \"domain\": [0.525, 0.7375], \"gridcolor\": \"#E1E5ED\", \"showgrid\": false, \"tickfont\": {\"color\": \"#4D5663\"}, \"title\": {\"font\": {\"color\": \"#4D5663\"}, \"text\": \"\"}, \"zerolinecolor\": \"#E1E5ED\"}, \"xaxis12\": {\"anchor\": \"y12\", \"domain\": [0.7875, 1.0], \"gridcolor\": \"#E1E5ED\", \"showgrid\": false, \"tickfont\": {\"color\": \"#4D5663\"}, \"title\": {\"font\": {\"color\": \"#4D5663\"}, \"text\": \"\"}, \"zerolinecolor\": \"#E1E5ED\"}, \"xaxis13\": {\"anchor\": \"y13\", \"domain\": [0.0, 0.2125], \"gridcolor\": \"#E1E5ED\", \"showgrid\": false, \"tickfont\": {\"color\": \"#4D5663\"}, \"title\": {\"font\": {\"color\": \"#4D5663\"}, \"text\": \"\"}, \"zerolinecolor\": \"#E1E5ED\"}, \"xaxis14\": {\"anchor\": \"y14\", \"domain\": [0.2625, 0.475], \"gridcolor\": \"#E1E5ED\", \"showgrid\": false, \"tickfont\": {\"color\": \"#4D5663\"}, \"title\": {\"font\": {\"color\": \"#4D5663\"}, \"text\": \"\"}, \"zerolinecolor\": \"#E1E5ED\"}, \"xaxis15\": {\"anchor\": \"y15\", \"domain\": [0.525, 0.7375], \"gridcolor\": \"#E1E5ED\", \"showgrid\": false, \"tickfont\": {\"color\": \"#4D5663\"}, \"title\": {\"font\": {\"color\": \"#4D5663\"}, \"text\": \"\"}, \"zerolinecolor\": \"#E1E5ED\"}, \"xaxis16\": {\"anchor\": \"y16\", \"domain\": [0.7875, 1.0], \"gridcolor\": \"#E1E5ED\", \"showgrid\": false, \"tickfont\": {\"color\": \"#4D5663\"}, \"title\": {\"font\": {\"color\": \"#4D5663\"}, \"text\": \"\"}, \"zerolinecolor\": \"#E1E5ED\"}, \"xaxis2\": {\"anchor\": \"y2\", \"domain\": [0.2625, 0.475], \"gridcolor\": \"#E1E5ED\", \"showgrid\": false, \"tickfont\": {\"color\": \"#4D5663\"}, \"title\": {\"font\": {\"color\": \"#4D5663\"}, \"text\": \"\"}, \"zerolinecolor\": \"#E1E5ED\"}, \"xaxis3\": {\"anchor\": \"y3\", \"domain\": [0.525, 0.7375], \"gridcolor\": \"#E1E5ED\", \"showgrid\": false, \"tickfont\": {\"color\": \"#4D5663\"}, \"title\": {\"font\": {\"color\": \"#4D5663\"}, \"text\": \"\"}, \"zerolinecolor\": \"#E1E5ED\"}, \"xaxis4\": {\"anchor\": \"y4\", \"domain\": [0.7875, 1.0], \"gridcolor\": \"#E1E5ED\", \"showgrid\": false, \"tickfont\": {\"color\": \"#4D5663\"}, \"title\": {\"font\": {\"color\": \"#4D5663\"}, \"text\": \"\"}, \"zerolinecolor\": \"#E1E5ED\"}, \"xaxis5\": {\"anchor\": \"y5\", \"domain\": [0.0, 0.2125], \"gridcolor\": \"#E1E5ED\", \"showgrid\": false, \"tickfont\": {\"color\": \"#4D5663\"}, \"title\": {\"font\": {\"color\": \"#4D5663\"}, \"text\": \"\"}, \"zerolinecolor\": \"#E1E5ED\"}, \"xaxis6\": {\"anchor\": \"y6\", \"domain\": [0.2625, 0.475], \"gridcolor\": \"#E1E5ED\", \"showgrid\": false, \"tickfont\": {\"color\": \"#4D5663\"}, \"title\": {\"font\": {\"color\": \"#4D5663\"}, \"text\": \"\"}, \"zerolinecolor\": \"#E1E5ED\"}, \"xaxis7\": {\"anchor\": \"y7\", \"domain\": [0.525, 0.7375], \"gridcolor\": \"#E1E5ED\", \"showgrid\": false, \"tickfont\": {\"color\": \"#4D5663\"}, \"title\": {\"font\": {\"color\": \"#4D5663\"}, \"text\": \"\"}, \"zerolinecolor\": \"#E1E5ED\"}, \"xaxis8\": {\"anchor\": \"y8\", \"domain\": [0.7875, 1.0], \"gridcolor\": \"#E1E5ED\", \"showgrid\": false, \"tickfont\": {\"color\": \"#4D5663\"}, \"title\": {\"font\": {\"color\": \"#4D5663\"}, \"text\": \"\"}, \"zerolinecolor\": \"#E1E5ED\"}, \"xaxis9\": {\"anchor\": \"y9\", \"domain\": [0.0, 0.2125], \"gridcolor\": \"#E1E5ED\", \"showgrid\": false, \"tickfont\": {\"color\": \"#4D5663\"}, \"title\": {\"font\": {\"color\": \"#4D5663\"}, \"text\": \"\"}, \"zerolinecolor\": \"#E1E5ED\"}, \"yaxis\": {\"anchor\": \"x\", \"domain\": [0.8025, 1.0], \"gridcolor\": \"#E1E5ED\", \"showgrid\": false, \"tickfont\": {\"color\": \"#4D5663\"}, \"title\": {\"font\": {\"color\": \"#4D5663\"}, \"text\": \"\"}, \"zerolinecolor\": \"#E1E5ED\"}, \"yaxis10\": {\"anchor\": \"x10\", \"domain\": [0.2675, 0.465], \"gridcolor\": \"#E1E5ED\", \"showgrid\": false, \"tickfont\": {\"color\": \"#4D5663\"}, \"title\": {\"font\": {\"color\": \"#4D5663\"}, \"text\": \"\"}, \"zerolinecolor\": \"#E1E5ED\"}, \"yaxis11\": {\"anchor\": \"x11\", \"domain\": [0.2675, 0.465], \"gridcolor\": \"#E1E5ED\", \"showgrid\": false, \"tickfont\": {\"color\": \"#4D5663\"}, \"title\": {\"font\": {\"color\": \"#4D5663\"}, \"text\": \"\"}, \"zerolinecolor\": \"#E1E5ED\"}, \"yaxis12\": {\"anchor\": \"x12\", \"domain\": [0.2675, 0.465], \"gridcolor\": \"#E1E5ED\", \"showgrid\": false, \"tickfont\": {\"color\": \"#4D5663\"}, \"title\": {\"font\": {\"color\": \"#4D5663\"}, \"text\": \"\"}, \"zerolinecolor\": \"#E1E5ED\"}, \"yaxis13\": {\"anchor\": \"x13\", \"domain\": [0.0, 0.1975], \"gridcolor\": \"#E1E5ED\", \"showgrid\": false, \"tickfont\": {\"color\": \"#4D5663\"}, \"title\": {\"font\": {\"color\": \"#4D5663\"}, \"text\": \"\"}, \"zerolinecolor\": \"#E1E5ED\"}, \"yaxis14\": {\"anchor\": \"x14\", \"domain\": [0.0, 0.1975], \"gridcolor\": \"#E1E5ED\", \"showgrid\": false, \"tickfont\": {\"color\": \"#4D5663\"}, \"title\": {\"font\": {\"color\": \"#4D5663\"}, \"text\": \"\"}, \"zerolinecolor\": \"#E1E5ED\"}, \"yaxis15\": {\"anchor\": \"x15\", \"domain\": [0.0, 0.1975], \"gridcolor\": \"#E1E5ED\", \"showgrid\": false, \"tickfont\": {\"color\": \"#4D5663\"}, \"title\": {\"font\": {\"color\": \"#4D5663\"}, \"text\": \"\"}, \"zerolinecolor\": \"#E1E5ED\"}, \"yaxis16\": {\"anchor\": \"x16\", \"domain\": [0.0, 0.1975], \"gridcolor\": \"#E1E5ED\", \"showgrid\": false, \"tickfont\": {\"color\": \"#4D5663\"}, \"title\": {\"font\": {\"color\": \"#4D5663\"}, \"text\": \"\"}, \"zerolinecolor\": \"#E1E5ED\"}, \"yaxis2\": {\"anchor\": \"x2\", \"domain\": [0.8025, 1.0], \"gridcolor\": \"#E1E5ED\", \"showgrid\": false, \"tickfont\": {\"color\": \"#4D5663\"}, \"title\": {\"font\": {\"color\": \"#4D5663\"}, \"text\": \"\"}, \"zerolinecolor\": \"#E1E5ED\"}, \"yaxis3\": {\"anchor\": \"x3\", \"domain\": [0.8025, 1.0], \"gridcolor\": \"#E1E5ED\", \"showgrid\": false, \"tickfont\": {\"color\": \"#4D5663\"}, \"title\": {\"font\": {\"color\": \"#4D5663\"}, \"text\": \"\"}, \"zerolinecolor\": \"#E1E5ED\"}, \"yaxis4\": {\"anchor\": \"x4\", \"domain\": [0.8025, 1.0], \"gridcolor\": \"#E1E5ED\", \"showgrid\": false, \"tickfont\": {\"color\": \"#4D5663\"}, \"title\": {\"font\": {\"color\": \"#4D5663\"}, \"text\": \"\"}, \"zerolinecolor\": \"#E1E5ED\"}, \"yaxis5\": {\"anchor\": \"x5\", \"domain\": [0.535, 0.7325], \"gridcolor\": \"#E1E5ED\", \"showgrid\": false, \"tickfont\": {\"color\": \"#4D5663\"}, \"title\": {\"font\": {\"color\": \"#4D5663\"}, \"text\": \"\"}, \"zerolinecolor\": \"#E1E5ED\"}, \"yaxis6\": {\"anchor\": \"x6\", \"domain\": [0.535, 0.7325], \"gridcolor\": \"#E1E5ED\", \"showgrid\": false, \"tickfont\": {\"color\": \"#4D5663\"}, \"title\": {\"font\": {\"color\": \"#4D5663\"}, \"text\": \"\"}, \"zerolinecolor\": \"#E1E5ED\"}, \"yaxis7\": {\"anchor\": \"x7\", \"domain\": [0.535, 0.7325], \"gridcolor\": \"#E1E5ED\", \"showgrid\": false, \"tickfont\": {\"color\": \"#4D5663\"}, \"title\": {\"font\": {\"color\": \"#4D5663\"}, \"text\": \"\"}, \"zerolinecolor\": \"#E1E5ED\"}, \"yaxis8\": {\"anchor\": \"x8\", \"domain\": [0.535, 0.7325], \"gridcolor\": \"#E1E5ED\", \"showgrid\": false, \"tickfont\": {\"color\": \"#4D5663\"}, \"title\": {\"font\": {\"color\": \"#4D5663\"}, \"text\": \"\"}, \"zerolinecolor\": \"#E1E5ED\"}, \"yaxis9\": {\"anchor\": \"x9\", \"domain\": [0.2675, 0.465], \"gridcolor\": \"#E1E5ED\", \"showgrid\": false, \"tickfont\": {\"color\": \"#4D5663\"}, \"title\": {\"font\": {\"color\": \"#4D5663\"}, \"text\": \"\"}, \"zerolinecolor\": \"#E1E5ED\"}},                        {\"showLink\": true, \"linkText\": \"Export to plot.ly\", \"plotlyServerURL\": \"https://plot.ly\", \"responsive\": true}                    ).then(function(){\n",
       "                            \n",
       "var gd = document.getElementById('a0e83d9b-428d-4749-9009-9b4054355ee6');\n",
       "var x = new MutationObserver(function (mutations, observer) {{\n",
       "        var display = window.getComputedStyle(gd).display;\n",
       "        if (!display || display === 'none') {{\n",
       "            console.log([gd, 'removed!']);\n",
       "            Plotly.purge(gd);\n",
       "            observer.disconnect();\n",
       "        }}\n",
       "}});\n",
       "\n",
       "// Listen for the removal of the full notebook cells\n",
       "var notebookContainer = gd.closest('#notebook-container');\n",
       "if (notebookContainer) {{\n",
       "    x.observe(notebookContainer, {childList: true});\n",
       "}}\n",
       "\n",
       "// Listen for the clearing of the current output cell\n",
       "var outputEl = gd.closest('.output');\n",
       "if (outputEl) {{\n",
       "    x.observe(outputEl, {childList: true});\n",
       "}}\n",
       "\n",
       "                        })                };                });            </script>        </div>"
      ]
     },
     "metadata": {},
     "output_type": "display_data"
    }
   ],
   "source": [
    "df.scatter_matrix()"
   ]
  },
  {
   "cell_type": "markdown",
   "metadata": {
    "collapsed": true
   },
   "source": [
    "# Buen trabajo!"
   ]
  }
 ],
 "metadata": {
  "kernelspec": {
   "display_name": "Python 3 (ipykernel)",
   "language": "python",
   "name": "python3"
  },
  "language_info": {
   "codemirror_mode": {
    "name": "ipython",
    "version": 3
   },
   "file_extension": ".py",
   "mimetype": "text/x-python",
   "name": "python",
   "nbconvert_exporter": "python",
   "pygments_lexer": "ipython3",
   "version": "3.10.7"
  }
 },
 "nbformat": 4,
 "nbformat_minor": 1
}
