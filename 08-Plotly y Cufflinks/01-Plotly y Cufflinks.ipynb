{
 "cells": [
  {
   "cell_type": "markdown",
   "metadata": {},
   "source": [
    "___\n",
    "\n",
    "<a href='https://plotly.com/python/'> <img src='https://plotly.com/all_static/images/plotly_graphing_libraries_1.png' /></a>\n",
    "___\n",
    "# Plotly y Cufflinks"
   ]
  },
  {
   "cell_type": "markdown",
   "metadata": {},
   "source": [
    "**Plotly** es una libreria que permite crear gráficos interactivos para poder usarse en cuadros de mando o sitios web (se pueden guardar como archivos html o imágenes estáticas).\n",
    "\n",
    "**Cufflinks** es una libreria que conecta un dataframe de Pandas con Plotly, lo que permite a los usuarios crear visualizaciones directamente desde Pandas. Esta libreria une el poder de Plotly con la flexibilidad de Pandas para facilitar la visualización de los datos.\n",
    "\n",
    "## Instalación\n",
    "\n",
    "Para que todo esto funcione, se deberá instalar plotly y cufflinks para llamar a los gráficos directamente desde un dataframe de Pandas. Estas librerias no están disponibles actualmente a través de Conda, pero están disponibles a través de pip . Instalar las librerias en su línea de comando/terminal usando:\n",
    "\n",
    "    pip install plotly\n",
    "    pip install cufflinks\n",
    "\n",
    "## Importaciones y configuración "
   ]
  },
  {
   "cell_type": "code",
   "execution_count": 1,
   "metadata": {},
   "outputs": [],
   "source": [
    "import pandas as pd\n",
    "import numpy as np\n",
    "%matplotlib inline"
   ]
  },
  {
   "cell_type": "code",
   "execution_count": 2,
   "metadata": {},
   "outputs": [],
   "source": [
    "import plotly"
   ]
  },
  {
   "cell_type": "code",
   "execution_count": 3,
   "metadata": {},
   "outputs": [
    {
     "name": "stdout",
     "output_type": "stream",
     "text": [
      "5.15.0\n"
     ]
    }
   ],
   "source": [
    "from plotly import __version__\n",
    "from plotly.offline import download_plotlyjs, init_notebook_mode, plot, iplot\n",
    "\n",
    "print(__version__) # requires version >= 1.9.0"
   ]
  },
  {
   "cell_type": "code",
   "execution_count": 4,
   "metadata": {},
   "outputs": [],
   "source": [
    "import cufflinks as cf"
   ]
  },
  {
   "cell_type": "code",
   "execution_count": 8,
   "metadata": {},
   "outputs": [
    {
     "name": "stdout",
     "output_type": "stream",
     "text": [
      "Requirement already satisfied: plotly in c:\\python311\\lib\\site-packages (5.15.0)\n",
      "Requirement already satisfied: tenacity>=6.2.0 in c:\\python311\\lib\\site-packages (from plotly) (8.2.2)\n",
      "Requirement already satisfied: packaging in c:\\python311\\lib\\site-packages (from plotly) (23.1)\n"
     ]
    }
   ],
   "source": [
    "!pip install plotly"
   ]
  },
  {
   "cell_type": "code",
   "execution_count": 9,
   "metadata": {},
   "outputs": [
    {
     "name": "stdout",
     "output_type": "stream",
     "text": [
      "Requirement already satisfied: cufflinks in c:\\users\\usuario\\appdata\\roaming\\python\\python311\\site-packages (0.17.3)\n",
      "Requirement already satisfied: numpy>=1.9.2 in c:\\python311\\lib\\site-packages (from cufflinks) (1.24.3)\n",
      "Requirement already satisfied: pandas>=0.19.2 in c:\\users\\usuario\\appdata\\roaming\\python\\python311\\site-packages (from cufflinks) (2.0.2)\n",
      "Requirement already satisfied: plotly>=4.1.1 in c:\\python311\\lib\\site-packages (from cufflinks) (5.15.0)\n",
      "Requirement already satisfied: six>=1.9.0 in c:\\python311\\lib\\site-packages (from cufflinks) (1.16.0)\n",
      "Requirement already satisfied: colorlover>=0.2.1 in c:\\python311\\lib\\site-packages (from cufflinks) (0.3.0)\n",
      "Requirement already satisfied: setuptools>=34.4.1 in c:\\python311\\lib\\site-packages (from cufflinks) (65.5.0)\n",
      "Requirement already satisfied: ipython>=5.3.0 in c:\\users\\usuario\\appdata\\roaming\\python\\python311\\site-packages (from cufflinks) (8.14.0)\n",
      "Requirement already satisfied: ipywidgets>=7.0.0 in c:\\users\\usuario\\appdata\\roaming\\python\\python311\\site-packages (from cufflinks) (8.0.6)\n",
      "Requirement already satisfied: backcall in c:\\python311\\lib\\site-packages (from ipython>=5.3.0->cufflinks) (0.2.0)\n",
      "Requirement already satisfied: decorator in c:\\users\\usuario\\appdata\\roaming\\python\\python311\\site-packages (from ipython>=5.3.0->cufflinks) (5.1.1)\n",
      "Requirement already satisfied: jedi>=0.16 in c:\\users\\usuario\\appdata\\roaming\\python\\python311\\site-packages (from ipython>=5.3.0->cufflinks) (0.18.2)\n",
      "Requirement already satisfied: matplotlib-inline in c:\\python311\\lib\\site-packages (from ipython>=5.3.0->cufflinks) (0.1.6)\n",
      "Requirement already satisfied: pickleshare in c:\\python311\\lib\\site-packages (from ipython>=5.3.0->cufflinks) (0.7.5)\n",
      "Requirement already satisfied: prompt-toolkit!=3.0.37,<3.1.0,>=3.0.30 in c:\\python311\\lib\\site-packages (from ipython>=5.3.0->cufflinks) (3.0.38)\n",
      "Requirement already satisfied: pygments>=2.4.0 in c:\\python311\\lib\\site-packages (from ipython>=5.3.0->cufflinks) (2.15.1)\n",
      "Requirement already satisfied: stack-data in c:\\users\\usuario\\appdata\\roaming\\python\\python311\\site-packages (from ipython>=5.3.0->cufflinks) (0.6.2)\n",
      "Requirement already satisfied: traitlets>=5 in c:\\python311\\lib\\site-packages (from ipython>=5.3.0->cufflinks) (5.9.0)\n",
      "Requirement already satisfied: colorama in c:\\users\\usuario\\appdata\\roaming\\python\\python311\\site-packages (from ipython>=5.3.0->cufflinks) (0.4.6)\n",
      "Requirement already satisfied: ipykernel>=4.5.1 in c:\\users\\usuario\\appdata\\roaming\\python\\python311\\site-packages (from ipywidgets>=7.0.0->cufflinks) (6.23.2)\n",
      "Requirement already satisfied: widgetsnbextension~=4.0.7 in c:\\python311\\lib\\site-packages (from ipywidgets>=7.0.0->cufflinks) (4.0.7)\n",
      "Requirement already satisfied: jupyterlab-widgets~=3.0.7 in c:\\python311\\lib\\site-packages (from ipywidgets>=7.0.0->cufflinks) (3.0.7)\n",
      "Requirement already satisfied: python-dateutil>=2.8.2 in c:\\python311\\lib\\site-packages (from pandas>=0.19.2->cufflinks) (2.8.2)\n",
      "Requirement already satisfied: pytz>=2020.1 in c:\\python311\\lib\\site-packages (from pandas>=0.19.2->cufflinks) (2023.3)\n",
      "Requirement already satisfied: tzdata>=2022.1 in c:\\python311\\lib\\site-packages (from pandas>=0.19.2->cufflinks) (2023.3)\n",
      "Requirement already satisfied: tenacity>=6.2.0 in c:\\python311\\lib\\site-packages (from plotly>=4.1.1->cufflinks) (8.2.2)\n",
      "Requirement already satisfied: packaging in c:\\python311\\lib\\site-packages (from plotly>=4.1.1->cufflinks) (23.1)\n",
      "Requirement already satisfied: comm>=0.1.1 in c:\\users\\usuario\\appdata\\roaming\\python\\python311\\site-packages (from ipykernel>=4.5.1->ipywidgets>=7.0.0->cufflinks) (0.1.3)\n",
      "Requirement already satisfied: debugpy>=1.6.5 in c:\\users\\usuario\\appdata\\roaming\\python\\python311\\site-packages (from ipykernel>=4.5.1->ipywidgets>=7.0.0->cufflinks) (1.6.7)\n",
      "Requirement already satisfied: jupyter-client>=6.1.12 in c:\\users\\usuario\\appdata\\roaming\\python\\python311\\site-packages (from ipykernel>=4.5.1->ipywidgets>=7.0.0->cufflinks) (8.2.0)\n",
      "Requirement already satisfied: jupyter-core!=5.0.*,>=4.12 in c:\\users\\usuario\\appdata\\roaming\\python\\python311\\site-packages (from ipykernel>=4.5.1->ipywidgets>=7.0.0->cufflinks) (5.3.0)\n",
      "Requirement already satisfied: nest-asyncio in c:\\python311\\lib\\site-packages (from ipykernel>=4.5.1->ipywidgets>=7.0.0->cufflinks) (1.5.6)\n",
      "Requirement already satisfied: psutil in c:\\python311\\lib\\site-packages (from ipykernel>=4.5.1->ipywidgets>=7.0.0->cufflinks) (5.9.5)\n",
      "Requirement already satisfied: pyzmq>=20 in c:\\python311\\lib\\site-packages (from ipykernel>=4.5.1->ipywidgets>=7.0.0->cufflinks) (25.1.0)\n",
      "Requirement already satisfied: tornado>=6.1 in c:\\python311\\lib\\site-packages (from ipykernel>=4.5.1->ipywidgets>=7.0.0->cufflinks) (6.3.2)\n",
      "Requirement already satisfied: parso<0.9.0,>=0.8.0 in c:\\python311\\lib\\site-packages (from jedi>=0.16->ipython>=5.3.0->cufflinks) (0.8.3)\n",
      "Requirement already satisfied: wcwidth in c:\\python311\\lib\\site-packages (from prompt-toolkit!=3.0.37,<3.1.0,>=3.0.30->ipython>=5.3.0->cufflinks) (0.2.6)\n",
      "Requirement already satisfied: executing>=1.2.0 in c:\\python311\\lib\\site-packages (from stack-data->ipython>=5.3.0->cufflinks) (1.2.0)\n",
      "Requirement already satisfied: asttokens>=2.1.0 in c:\\users\\usuario\\appdata\\roaming\\python\\python311\\site-packages (from stack-data->ipython>=5.3.0->cufflinks) (2.2.1)\n",
      "Requirement already satisfied: pure-eval in c:\\python311\\lib\\site-packages (from stack-data->ipython>=5.3.0->cufflinks) (0.2.2)\n",
      "Requirement already satisfied: platformdirs>=2.5 in c:\\python311\\lib\\site-packages (from jupyter-core!=5.0.*,>=4.12->ipykernel>=4.5.1->ipywidgets>=7.0.0->cufflinks) (3.5.3)\n",
      "Requirement already satisfied: pywin32>=300 in c:\\python311\\lib\\site-packages (from jupyter-core!=5.0.*,>=4.12->ipykernel>=4.5.1->ipywidgets>=7.0.0->cufflinks) (306)\n"
     ]
    }
   ],
   "source": [
    "!pip install cufflinks --user"
   ]
  },
  {
   "cell_type": "code",
   "execution_count": 5,
   "metadata": {},
   "outputs": [
    {
     "data": {
      "text/html": [
       "        <script type=\"text/javascript\">\n",
       "        window.PlotlyConfig = {MathJaxConfig: 'local'};\n",
       "        if (window.MathJax && window.MathJax.Hub && window.MathJax.Hub.Config) {window.MathJax.Hub.Config({SVG: {font: \"STIX-Web\"}});}\n",
       "        if (typeof require !== 'undefined') {\n",
       "        require.undef(\"plotly\");\n",
       "        requirejs.config({\n",
       "            paths: {\n",
       "                'plotly': ['https://cdn.plot.ly/plotly-2.24.1.min']\n",
       "            }\n",
       "        });\n",
       "        require(['plotly'], function(Plotly) {\n",
       "            window._Plotly = Plotly;\n",
       "        });\n",
       "        }\n",
       "        </script>\n",
       "        "
      ]
     },
     "metadata": {},
     "output_type": "display_data"
    }
   ],
   "source": [
    "# Para Notebooks\n",
    "init_notebook_mode(connected=True)"
   ]
  },
  {
   "cell_type": "code",
   "execution_count": 11,
   "metadata": {},
   "outputs": [
    {
     "data": {
      "text/html": [
       "        <script type=\"text/javascript\">\n",
       "        window.PlotlyConfig = {MathJaxConfig: 'local'};\n",
       "        if (window.MathJax && window.MathJax.Hub && window.MathJax.Hub.Config) {window.MathJax.Hub.Config({SVG: {font: \"STIX-Web\"}});}\n",
       "        if (typeof require !== 'undefined') {\n",
       "        require.undef(\"plotly\");\n",
       "        requirejs.config({\n",
       "            paths: {\n",
       "                'plotly': ['https://cdn.plot.ly/plotly-2.24.1.min']\n",
       "            }\n",
       "        });\n",
       "        require(['plotly'], function(Plotly) {\n",
       "            window._Plotly = Plotly;\n",
       "        });\n",
       "        }\n",
       "        </script>\n",
       "        "
      ]
     },
     "metadata": {},
     "output_type": "display_data"
    }
   ],
   "source": [
    "# Para uso offline colocar\n",
    "cf.go_offline()"
   ]
  },
  {
   "cell_type": "markdown",
   "metadata": {},
   "source": [
    "### Datos de prueba"
   ]
  },
  {
   "cell_type": "code",
   "execution_count": 6,
   "metadata": {},
   "outputs": [],
   "source": [
    "df = pd.DataFrame(np.random.randn(100,4),columns='A B C D'.split())"
   ]
  },
  {
   "cell_type": "code",
   "execution_count": 7,
   "metadata": {},
   "outputs": [
    {
     "data": {
      "text/html": [
       "<div>\n",
       "<style scoped>\n",
       "    .dataframe tbody tr th:only-of-type {\n",
       "        vertical-align: middle;\n",
       "    }\n",
       "\n",
       "    .dataframe tbody tr th {\n",
       "        vertical-align: top;\n",
       "    }\n",
       "\n",
       "    .dataframe thead th {\n",
       "        text-align: right;\n",
       "    }\n",
       "</style>\n",
       "<table border=\"1\" class=\"dataframe\">\n",
       "  <thead>\n",
       "    <tr style=\"text-align: right;\">\n",
       "      <th></th>\n",
       "      <th>A</th>\n",
       "      <th>B</th>\n",
       "      <th>C</th>\n",
       "      <th>D</th>\n",
       "    </tr>\n",
       "  </thead>\n",
       "  <tbody>\n",
       "    <tr>\n",
       "      <th>0</th>\n",
       "      <td>-0.745992</td>\n",
       "      <td>3.002485</td>\n",
       "      <td>0.811302</td>\n",
       "      <td>-1.583470</td>\n",
       "    </tr>\n",
       "    <tr>\n",
       "      <th>1</th>\n",
       "      <td>-0.298533</td>\n",
       "      <td>-0.671202</td>\n",
       "      <td>-1.616592</td>\n",
       "      <td>-0.782564</td>\n",
       "    </tr>\n",
       "    <tr>\n",
       "      <th>2</th>\n",
       "      <td>-0.592307</td>\n",
       "      <td>1.612295</td>\n",
       "      <td>-0.342106</td>\n",
       "      <td>1.564753</td>\n",
       "    </tr>\n",
       "    <tr>\n",
       "      <th>3</th>\n",
       "      <td>1.024135</td>\n",
       "      <td>0.048319</td>\n",
       "      <td>-0.160838</td>\n",
       "      <td>0.666574</td>\n",
       "    </tr>\n",
       "    <tr>\n",
       "      <th>4</th>\n",
       "      <td>1.347465</td>\n",
       "      <td>-0.703722</td>\n",
       "      <td>-1.593017</td>\n",
       "      <td>0.917907</td>\n",
       "    </tr>\n",
       "  </tbody>\n",
       "</table>\n",
       "</div>"
      ],
      "text/plain": [
       "          A         B         C         D\n",
       "0 -0.745992  3.002485  0.811302 -1.583470\n",
       "1 -0.298533 -0.671202 -1.616592 -0.782564\n",
       "2 -0.592307  1.612295 -0.342106  1.564753\n",
       "3  1.024135  0.048319 -0.160838  0.666574\n",
       "4  1.347465 -0.703722 -1.593017  0.917907"
      ]
     },
     "execution_count": 7,
     "metadata": {},
     "output_type": "execute_result"
    }
   ],
   "source": [
    "df.head()"
   ]
  },
  {
   "cell_type": "code",
   "execution_count": 8,
   "metadata": {},
   "outputs": [],
   "source": [
    "df2 = pd.DataFrame({'Category':['A','B','C'],'Values':[32,43,50]})"
   ]
  },
  {
   "cell_type": "code",
   "execution_count": 9,
   "metadata": {},
   "outputs": [
    {
     "data": {
      "text/html": [
       "<div>\n",
       "<style scoped>\n",
       "    .dataframe tbody tr th:only-of-type {\n",
       "        vertical-align: middle;\n",
       "    }\n",
       "\n",
       "    .dataframe tbody tr th {\n",
       "        vertical-align: top;\n",
       "    }\n",
       "\n",
       "    .dataframe thead th {\n",
       "        text-align: right;\n",
       "    }\n",
       "</style>\n",
       "<table border=\"1\" class=\"dataframe\">\n",
       "  <thead>\n",
       "    <tr style=\"text-align: right;\">\n",
       "      <th></th>\n",
       "      <th>Category</th>\n",
       "      <th>Values</th>\n",
       "    </tr>\n",
       "  </thead>\n",
       "  <tbody>\n",
       "    <tr>\n",
       "      <th>0</th>\n",
       "      <td>A</td>\n",
       "      <td>32</td>\n",
       "    </tr>\n",
       "    <tr>\n",
       "      <th>1</th>\n",
       "      <td>B</td>\n",
       "      <td>43</td>\n",
       "    </tr>\n",
       "    <tr>\n",
       "      <th>2</th>\n",
       "      <td>C</td>\n",
       "      <td>50</td>\n",
       "    </tr>\n",
       "  </tbody>\n",
       "</table>\n",
       "</div>"
      ],
      "text/plain": [
       "  Category  Values\n",
       "0        A      32\n",
       "1        B      43\n",
       "2        C      50"
      ]
     },
     "execution_count": 9,
     "metadata": {},
     "output_type": "execute_result"
    }
   ],
   "source": [
    "df2.head()"
   ]
  },
  {
   "cell_type": "markdown",
   "metadata": {},
   "source": [
    "## Usando Cufflinks e iplot()\n",
    "\n",
    "* Scatter\n",
    "* Bar\n",
    "* Boxplot\n",
    "* 3D surface\n",
    "* Histograma\n",
    "* Burbujas"
   ]
  },
  {
   "cell_type": "markdown",
   "metadata": {},
   "source": [
    "## Scatter"
   ]
  },
  {
   "cell_type": "code",
   "execution_count": 12,
   "metadata": {},
   "outputs": [
    {
     "data": {
      "application/vnd.plotly.v1+json": {
       "config": {
        "linkText": "Export to plot.ly",
        "plotlyServerURL": "https://plot.ly",
        "showLink": true
       },
       "data": [
        {
         "line": {
          "color": "rgba(255, 153, 51, 1.0)",
          "dash": "solid",
          "shape": "linear",
          "width": 1.3
         },
         "marker": {
          "size": 10,
          "symbol": "circle"
         },
         "mode": "markers",
         "name": "B",
         "text": "",
         "type": "scatter",
         "x": [
          -0.7459921802284659,
          -0.2985331193711804,
          -0.5923070930794322,
          1.0241349657605285,
          1.3474652422939397,
          -0.3306346733325379,
          0.12698460532380978,
          -1.2396216588120965,
          1.4135882069108947,
          -0.4340229477075488,
          -2.1086061405379892,
          0.6650868623623832,
          -0.9392383681720982,
          -0.8012157757144039,
          0.3556419166568355,
          0.17027391249413223,
          1.2373283151950252,
          -0.4278715023691055,
          0.5122398939890646,
          -0.11651123285876328,
          0.24228686745884245,
          2.7388904967110514,
          -0.07739903639478632,
          -1.7729344017310518,
          -0.8044559993420353,
          0.32858915549721407,
          1.6938449970171683,
          0.20667478488806795,
          0.3730087418711053,
          1.2819911073395296,
          1.0994228222100382,
          -0.6375445967919214,
          -0.015269635410634546,
          1.3432161615550722,
          0.38147805069172214,
          0.8090768264403407,
          -0.2651207647914632,
          -0.16152848676210493,
          -0.7269239383533179,
          -0.6137628729964091,
          0.5453822578346342,
          3.3903895782942266,
          -0.06297500095351101,
          0.04123220659054581,
          -0.5207128486462764,
          0.529189297618538,
          -0.2932635542935991,
          -1.7590769255017142,
          0.4561990099342433,
          -1.2014994000604384,
          0.7457774415845939,
          -0.6599210785512793,
          0.49290673558060794,
          -0.09439724081832111,
          0.5776279393791839,
          0.6604600090753378,
          0.2617093580743427,
          0.7413067020176657,
          -0.1261681498761519,
          1.0310886998176432,
          -2.0567488675287304,
          1.125328876952449,
          1.3869881729229596,
          1.1651878049553273,
          -1.7468494092187064,
          -0.05160940085340369,
          -1.6270745323537221,
          -0.8729420211114243,
          -0.4416407332362468,
          0.14056114799324715,
          -0.13450494629745824,
          1.1135561248487242,
          -0.24136313385725927,
          0.2953075790841706,
          0.9533194362152135,
          0.30431001658093426,
          -0.19300675495041086,
          0.3705726709997868,
          0.27881990624938835,
          1.8364326683786332,
          0.4284722687128993,
          -1.2617417433708187,
          -1.3276369663042034,
          0.7562551076888145,
          -0.41477062335883763,
          -1.031744056577676,
          0.7731528564898905,
          0.024136114280125243,
          1.4344322176590476,
          -1.6726958453708354,
          -0.6738035330410321,
          -1.64588650160417,
          0.00019750244670672836,
          0.2418395172388969,
          -1.2328421931298899,
          0.43474031290286197,
          -0.935102556309525,
          -3.030241304070444,
          0.1630101373330067,
          -1.0259787293633311
         ],
         "y": [
          3.0024849906902924,
          -0.6712017479592524,
          1.6122949489688632,
          0.048319156974700864,
          -0.7037217982582277,
          -0.7346015241816336,
          0.46733197276926874,
          -1.2163230831125607,
          -1.8376965510535215,
          -0.37220305547565036,
          0.4982038444106561,
          0.41856621895463025,
          1.440065157327684,
          0.034012958086091255,
          -0.3857573090224651,
          0.06890290989061831,
          -0.2469046756260349,
          0.5308059485294074,
          1.2798339250090698,
          -0.6612866651020235,
          -0.4309505792491207,
          0.41609482167032685,
          -1.2642759525596383,
          0.8088606095923593,
          -0.3287787352467742,
          -0.6640834034711206,
          -0.7619309954237736,
          0.4226777605230677,
          0.24979936237140168,
          0.28290305086873324,
          -0.2587768684335364,
          -1.1073499176529262,
          1.2678433641662228,
          0.7205688117833361,
          0.013101018318805328,
          1.0924839966821154,
          -1.365552472959164,
          -0.6069035061411017,
          -0.7144470408869261,
          1.0164384956684194,
          0.443418569079833,
          1.5261437417082782,
          -0.4466690260594189,
          -0.03827589074987316,
          1.8217727999067659,
          0.9210873939031335,
          -0.6617860453960066,
          0.16821137523823973,
          -0.1432853121140892,
          -2.7978845041908693,
          -0.9871087600490078,
          0.23248038532172627,
          1.24398179577353,
          -0.49018419946746145,
          0.21244678095206795,
          1.0542662813242147,
          0.41159843284465036,
          -0.3283155232768134,
          -0.14949025923677958,
          -0.9729735249688074,
          0.4689267035066989,
          0.39267582822134933,
          -0.2970338809944145,
          -0.3276061866690047,
          0.14517824094086815,
          -0.5009911239461405,
          0.2938491028086687,
          -0.05358032996194319,
          0.15824222616038994,
          -1.0316553589625612,
          -0.8889064599434631,
          -1.0109186708122362,
          0.8680587463217743,
          -0.523884874888583,
          -0.19984029864885086,
          -0.14148835743846858,
          -0.009625828651904937,
          1.2595153681009292,
          -0.7494574853190527,
          1.165196594856903,
          -0.15616145611462873,
          -0.5545374650676813,
          -1.0616810378264292,
          -1.3512784595061946,
          -1.3413189832986294,
          0.30622554758114745,
          -1.3427236915580891,
          -0.8361594218203363,
          -0.32322420311663497,
          0.6932830181946397,
          0.45785925248063436,
          -0.26482801927470795,
          -0.21506392508465094,
          -0.20592211725464296,
          0.12609007771073222,
          -1.5140332619993535,
          0.569167999467806,
          0.21077166262899988,
          -0.3175134211123909,
          0.26939347185908497
         ]
        }
       ],
       "layout": {
        "legend": {
         "bgcolor": "#F5F6F9",
         "font": {
          "color": "#4D5663"
         }
        },
        "paper_bgcolor": "#F5F6F9",
        "plot_bgcolor": "#F5F6F9",
        "template": {
         "data": {
          "bar": [
           {
            "error_x": {
             "color": "#2a3f5f"
            },
            "error_y": {
             "color": "#2a3f5f"
            },
            "marker": {
             "line": {
              "color": "#E5ECF6",
              "width": 0.5
             },
             "pattern": {
              "fillmode": "overlay",
              "size": 10,
              "solidity": 0.2
             }
            },
            "type": "bar"
           }
          ],
          "barpolar": [
           {
            "marker": {
             "line": {
              "color": "#E5ECF6",
              "width": 0.5
             },
             "pattern": {
              "fillmode": "overlay",
              "size": 10,
              "solidity": 0.2
             }
            },
            "type": "barpolar"
           }
          ],
          "carpet": [
           {
            "aaxis": {
             "endlinecolor": "#2a3f5f",
             "gridcolor": "white",
             "linecolor": "white",
             "minorgridcolor": "white",
             "startlinecolor": "#2a3f5f"
            },
            "baxis": {
             "endlinecolor": "#2a3f5f",
             "gridcolor": "white",
             "linecolor": "white",
             "minorgridcolor": "white",
             "startlinecolor": "#2a3f5f"
            },
            "type": "carpet"
           }
          ],
          "choropleth": [
           {
            "colorbar": {
             "outlinewidth": 0,
             "ticks": ""
            },
            "type": "choropleth"
           }
          ],
          "contour": [
           {
            "colorbar": {
             "outlinewidth": 0,
             "ticks": ""
            },
            "colorscale": [
             [
              0,
              "#0d0887"
             ],
             [
              0.1111111111111111,
              "#46039f"
             ],
             [
              0.2222222222222222,
              "#7201a8"
             ],
             [
              0.3333333333333333,
              "#9c179e"
             ],
             [
              0.4444444444444444,
              "#bd3786"
             ],
             [
              0.5555555555555556,
              "#d8576b"
             ],
             [
              0.6666666666666666,
              "#ed7953"
             ],
             [
              0.7777777777777778,
              "#fb9f3a"
             ],
             [
              0.8888888888888888,
              "#fdca26"
             ],
             [
              1,
              "#f0f921"
             ]
            ],
            "type": "contour"
           }
          ],
          "contourcarpet": [
           {
            "colorbar": {
             "outlinewidth": 0,
             "ticks": ""
            },
            "type": "contourcarpet"
           }
          ],
          "heatmap": [
           {
            "colorbar": {
             "outlinewidth": 0,
             "ticks": ""
            },
            "colorscale": [
             [
              0,
              "#0d0887"
             ],
             [
              0.1111111111111111,
              "#46039f"
             ],
             [
              0.2222222222222222,
              "#7201a8"
             ],
             [
              0.3333333333333333,
              "#9c179e"
             ],
             [
              0.4444444444444444,
              "#bd3786"
             ],
             [
              0.5555555555555556,
              "#d8576b"
             ],
             [
              0.6666666666666666,
              "#ed7953"
             ],
             [
              0.7777777777777778,
              "#fb9f3a"
             ],
             [
              0.8888888888888888,
              "#fdca26"
             ],
             [
              1,
              "#f0f921"
             ]
            ],
            "type": "heatmap"
           }
          ],
          "heatmapgl": [
           {
            "colorbar": {
             "outlinewidth": 0,
             "ticks": ""
            },
            "colorscale": [
             [
              0,
              "#0d0887"
             ],
             [
              0.1111111111111111,
              "#46039f"
             ],
             [
              0.2222222222222222,
              "#7201a8"
             ],
             [
              0.3333333333333333,
              "#9c179e"
             ],
             [
              0.4444444444444444,
              "#bd3786"
             ],
             [
              0.5555555555555556,
              "#d8576b"
             ],
             [
              0.6666666666666666,
              "#ed7953"
             ],
             [
              0.7777777777777778,
              "#fb9f3a"
             ],
             [
              0.8888888888888888,
              "#fdca26"
             ],
             [
              1,
              "#f0f921"
             ]
            ],
            "type": "heatmapgl"
           }
          ],
          "histogram": [
           {
            "marker": {
             "pattern": {
              "fillmode": "overlay",
              "size": 10,
              "solidity": 0.2
             }
            },
            "type": "histogram"
           }
          ],
          "histogram2d": [
           {
            "colorbar": {
             "outlinewidth": 0,
             "ticks": ""
            },
            "colorscale": [
             [
              0,
              "#0d0887"
             ],
             [
              0.1111111111111111,
              "#46039f"
             ],
             [
              0.2222222222222222,
              "#7201a8"
             ],
             [
              0.3333333333333333,
              "#9c179e"
             ],
             [
              0.4444444444444444,
              "#bd3786"
             ],
             [
              0.5555555555555556,
              "#d8576b"
             ],
             [
              0.6666666666666666,
              "#ed7953"
             ],
             [
              0.7777777777777778,
              "#fb9f3a"
             ],
             [
              0.8888888888888888,
              "#fdca26"
             ],
             [
              1,
              "#f0f921"
             ]
            ],
            "type": "histogram2d"
           }
          ],
          "histogram2dcontour": [
           {
            "colorbar": {
             "outlinewidth": 0,
             "ticks": ""
            },
            "colorscale": [
             [
              0,
              "#0d0887"
             ],
             [
              0.1111111111111111,
              "#46039f"
             ],
             [
              0.2222222222222222,
              "#7201a8"
             ],
             [
              0.3333333333333333,
              "#9c179e"
             ],
             [
              0.4444444444444444,
              "#bd3786"
             ],
             [
              0.5555555555555556,
              "#d8576b"
             ],
             [
              0.6666666666666666,
              "#ed7953"
             ],
             [
              0.7777777777777778,
              "#fb9f3a"
             ],
             [
              0.8888888888888888,
              "#fdca26"
             ],
             [
              1,
              "#f0f921"
             ]
            ],
            "type": "histogram2dcontour"
           }
          ],
          "mesh3d": [
           {
            "colorbar": {
             "outlinewidth": 0,
             "ticks": ""
            },
            "type": "mesh3d"
           }
          ],
          "parcoords": [
           {
            "line": {
             "colorbar": {
              "outlinewidth": 0,
              "ticks": ""
             }
            },
            "type": "parcoords"
           }
          ],
          "pie": [
           {
            "automargin": true,
            "type": "pie"
           }
          ],
          "scatter": [
           {
            "fillpattern": {
             "fillmode": "overlay",
             "size": 10,
             "solidity": 0.2
            },
            "type": "scatter"
           }
          ],
          "scatter3d": [
           {
            "line": {
             "colorbar": {
              "outlinewidth": 0,
              "ticks": ""
             }
            },
            "marker": {
             "colorbar": {
              "outlinewidth": 0,
              "ticks": ""
             }
            },
            "type": "scatter3d"
           }
          ],
          "scattercarpet": [
           {
            "marker": {
             "colorbar": {
              "outlinewidth": 0,
              "ticks": ""
             }
            },
            "type": "scattercarpet"
           }
          ],
          "scattergeo": [
           {
            "marker": {
             "colorbar": {
              "outlinewidth": 0,
              "ticks": ""
             }
            },
            "type": "scattergeo"
           }
          ],
          "scattergl": [
           {
            "marker": {
             "colorbar": {
              "outlinewidth": 0,
              "ticks": ""
             }
            },
            "type": "scattergl"
           }
          ],
          "scattermapbox": [
           {
            "marker": {
             "colorbar": {
              "outlinewidth": 0,
              "ticks": ""
             }
            },
            "type": "scattermapbox"
           }
          ],
          "scatterpolar": [
           {
            "marker": {
             "colorbar": {
              "outlinewidth": 0,
              "ticks": ""
             }
            },
            "type": "scatterpolar"
           }
          ],
          "scatterpolargl": [
           {
            "marker": {
             "colorbar": {
              "outlinewidth": 0,
              "ticks": ""
             }
            },
            "type": "scatterpolargl"
           }
          ],
          "scatterternary": [
           {
            "marker": {
             "colorbar": {
              "outlinewidth": 0,
              "ticks": ""
             }
            },
            "type": "scatterternary"
           }
          ],
          "surface": [
           {
            "colorbar": {
             "outlinewidth": 0,
             "ticks": ""
            },
            "colorscale": [
             [
              0,
              "#0d0887"
             ],
             [
              0.1111111111111111,
              "#46039f"
             ],
             [
              0.2222222222222222,
              "#7201a8"
             ],
             [
              0.3333333333333333,
              "#9c179e"
             ],
             [
              0.4444444444444444,
              "#bd3786"
             ],
             [
              0.5555555555555556,
              "#d8576b"
             ],
             [
              0.6666666666666666,
              "#ed7953"
             ],
             [
              0.7777777777777778,
              "#fb9f3a"
             ],
             [
              0.8888888888888888,
              "#fdca26"
             ],
             [
              1,
              "#f0f921"
             ]
            ],
            "type": "surface"
           }
          ],
          "table": [
           {
            "cells": {
             "fill": {
              "color": "#EBF0F8"
             },
             "line": {
              "color": "white"
             }
            },
            "header": {
             "fill": {
              "color": "#C8D4E3"
             },
             "line": {
              "color": "white"
             }
            },
            "type": "table"
           }
          ]
         },
         "layout": {
          "annotationdefaults": {
           "arrowcolor": "#2a3f5f",
           "arrowhead": 0,
           "arrowwidth": 1
          },
          "autotypenumbers": "strict",
          "coloraxis": {
           "colorbar": {
            "outlinewidth": 0,
            "ticks": ""
           }
          },
          "colorscale": {
           "diverging": [
            [
             0,
             "#8e0152"
            ],
            [
             0.1,
             "#c51b7d"
            ],
            [
             0.2,
             "#de77ae"
            ],
            [
             0.3,
             "#f1b6da"
            ],
            [
             0.4,
             "#fde0ef"
            ],
            [
             0.5,
             "#f7f7f7"
            ],
            [
             0.6,
             "#e6f5d0"
            ],
            [
             0.7,
             "#b8e186"
            ],
            [
             0.8,
             "#7fbc41"
            ],
            [
             0.9,
             "#4d9221"
            ],
            [
             1,
             "#276419"
            ]
           ],
           "sequential": [
            [
             0,
             "#0d0887"
            ],
            [
             0.1111111111111111,
             "#46039f"
            ],
            [
             0.2222222222222222,
             "#7201a8"
            ],
            [
             0.3333333333333333,
             "#9c179e"
            ],
            [
             0.4444444444444444,
             "#bd3786"
            ],
            [
             0.5555555555555556,
             "#d8576b"
            ],
            [
             0.6666666666666666,
             "#ed7953"
            ],
            [
             0.7777777777777778,
             "#fb9f3a"
            ],
            [
             0.8888888888888888,
             "#fdca26"
            ],
            [
             1,
             "#f0f921"
            ]
           ],
           "sequentialminus": [
            [
             0,
             "#0d0887"
            ],
            [
             0.1111111111111111,
             "#46039f"
            ],
            [
             0.2222222222222222,
             "#7201a8"
            ],
            [
             0.3333333333333333,
             "#9c179e"
            ],
            [
             0.4444444444444444,
             "#bd3786"
            ],
            [
             0.5555555555555556,
             "#d8576b"
            ],
            [
             0.6666666666666666,
             "#ed7953"
            ],
            [
             0.7777777777777778,
             "#fb9f3a"
            ],
            [
             0.8888888888888888,
             "#fdca26"
            ],
            [
             1,
             "#f0f921"
            ]
           ]
          },
          "colorway": [
           "#636efa",
           "#EF553B",
           "#00cc96",
           "#ab63fa",
           "#FFA15A",
           "#19d3f3",
           "#FF6692",
           "#B6E880",
           "#FF97FF",
           "#FECB52"
          ],
          "font": {
           "color": "#2a3f5f"
          },
          "geo": {
           "bgcolor": "white",
           "lakecolor": "white",
           "landcolor": "#E5ECF6",
           "showlakes": true,
           "showland": true,
           "subunitcolor": "white"
          },
          "hoverlabel": {
           "align": "left"
          },
          "hovermode": "closest",
          "mapbox": {
           "style": "light"
          },
          "paper_bgcolor": "white",
          "plot_bgcolor": "#E5ECF6",
          "polar": {
           "angularaxis": {
            "gridcolor": "white",
            "linecolor": "white",
            "ticks": ""
           },
           "bgcolor": "#E5ECF6",
           "radialaxis": {
            "gridcolor": "white",
            "linecolor": "white",
            "ticks": ""
           }
          },
          "scene": {
           "xaxis": {
            "backgroundcolor": "#E5ECF6",
            "gridcolor": "white",
            "gridwidth": 2,
            "linecolor": "white",
            "showbackground": true,
            "ticks": "",
            "zerolinecolor": "white"
           },
           "yaxis": {
            "backgroundcolor": "#E5ECF6",
            "gridcolor": "white",
            "gridwidth": 2,
            "linecolor": "white",
            "showbackground": true,
            "ticks": "",
            "zerolinecolor": "white"
           },
           "zaxis": {
            "backgroundcolor": "#E5ECF6",
            "gridcolor": "white",
            "gridwidth": 2,
            "linecolor": "white",
            "showbackground": true,
            "ticks": "",
            "zerolinecolor": "white"
           }
          },
          "shapedefaults": {
           "line": {
            "color": "#2a3f5f"
           }
          },
          "ternary": {
           "aaxis": {
            "gridcolor": "white",
            "linecolor": "white",
            "ticks": ""
           },
           "baxis": {
            "gridcolor": "white",
            "linecolor": "white",
            "ticks": ""
           },
           "bgcolor": "#E5ECF6",
           "caxis": {
            "gridcolor": "white",
            "linecolor": "white",
            "ticks": ""
           }
          },
          "title": {
           "x": 0.05
          },
          "xaxis": {
           "automargin": true,
           "gridcolor": "white",
           "linecolor": "white",
           "ticks": "",
           "title": {
            "standoff": 15
           },
           "zerolinecolor": "white",
           "zerolinewidth": 2
          },
          "yaxis": {
           "automargin": true,
           "gridcolor": "white",
           "linecolor": "white",
           "ticks": "",
           "title": {
            "standoff": 15
           },
           "zerolinecolor": "white",
           "zerolinewidth": 2
          }
         }
        },
        "title": {
         "font": {
          "color": "#4D5663"
         }
        },
        "xaxis": {
         "gridcolor": "#E1E5ED",
         "showgrid": true,
         "tickfont": {
          "color": "#4D5663"
         },
         "title": {
          "font": {
           "color": "#4D5663"
          },
          "text": ""
         },
         "zerolinecolor": "#E1E5ED"
        },
        "yaxis": {
         "gridcolor": "#E1E5ED",
         "showgrid": true,
         "tickfont": {
          "color": "#4D5663"
         },
         "title": {
          "font": {
           "color": "#4D5663"
          },
          "text": ""
         },
         "zerolinecolor": "#E1E5ED"
        }
       }
      },
      "text/html": [
       "<div>                            <div id=\"aed0184d-b199-4d3e-af5a-ce0e0823b364\" class=\"plotly-graph-div\" style=\"height:525px; width:100%;\"></div>            <script type=\"text/javascript\">                require([\"plotly\"], function(Plotly) {                    window.PLOTLYENV=window.PLOTLYENV || {};\n",
       "                    window.PLOTLYENV.BASE_URL='https://plot.ly';                                    if (document.getElementById(\"aed0184d-b199-4d3e-af5a-ce0e0823b364\")) {                    Plotly.newPlot(                        \"aed0184d-b199-4d3e-af5a-ce0e0823b364\",                        [{\"line\":{\"color\":\"rgba(255, 153, 51, 1.0)\",\"dash\":\"solid\",\"shape\":\"linear\",\"width\":1.3},\"marker\":{\"size\":10,\"symbol\":\"circle\"},\"mode\":\"markers\",\"name\":\"B\",\"text\":\"\",\"x\":[-0.7459921802284659,-0.2985331193711804,-0.5923070930794322,1.0241349657605285,1.3474652422939397,-0.3306346733325379,0.12698460532380978,-1.2396216588120965,1.4135882069108947,-0.4340229477075488,-2.1086061405379892,0.6650868623623832,-0.9392383681720982,-0.8012157757144039,0.3556419166568355,0.17027391249413223,1.2373283151950252,-0.4278715023691055,0.5122398939890646,-0.11651123285876328,0.24228686745884245,2.7388904967110514,-0.07739903639478632,-1.7729344017310518,-0.8044559993420353,0.32858915549721407,1.6938449970171683,0.20667478488806795,0.3730087418711053,1.2819911073395296,1.0994228222100382,-0.6375445967919214,-0.015269635410634546,1.3432161615550722,0.38147805069172214,0.8090768264403407,-0.2651207647914632,-0.16152848676210493,-0.7269239383533179,-0.6137628729964091,0.5453822578346342,3.3903895782942266,-0.06297500095351101,0.04123220659054581,-0.5207128486462764,0.529189297618538,-0.2932635542935991,-1.7590769255017142,0.4561990099342433,-1.2014994000604384,0.7457774415845939,-0.6599210785512793,0.49290673558060794,-0.09439724081832111,0.5776279393791839,0.6604600090753378,0.2617093580743427,0.7413067020176657,-0.1261681498761519,1.0310886998176432,-2.0567488675287304,1.125328876952449,1.3869881729229596,1.1651878049553273,-1.7468494092187064,-0.05160940085340369,-1.6270745323537221,-0.8729420211114243,-0.4416407332362468,0.14056114799324715,-0.13450494629745824,1.1135561248487242,-0.24136313385725927,0.2953075790841706,0.9533194362152135,0.30431001658093426,-0.19300675495041086,0.3705726709997868,0.27881990624938835,1.8364326683786332,0.4284722687128993,-1.2617417433708187,-1.3276369663042034,0.7562551076888145,-0.41477062335883763,-1.031744056577676,0.7731528564898905,0.024136114280125243,1.4344322176590476,-1.6726958453708354,-0.6738035330410321,-1.64588650160417,0.00019750244670672836,0.2418395172388969,-1.2328421931298899,0.43474031290286197,-0.935102556309525,-3.030241304070444,0.1630101373330067,-1.0259787293633311],\"y\":[3.0024849906902924,-0.6712017479592524,1.6122949489688632,0.048319156974700864,-0.7037217982582277,-0.7346015241816336,0.46733197276926874,-1.2163230831125607,-1.8376965510535215,-0.37220305547565036,0.4982038444106561,0.41856621895463025,1.440065157327684,0.034012958086091255,-0.3857573090224651,0.06890290989061831,-0.2469046756260349,0.5308059485294074,1.2798339250090698,-0.6612866651020235,-0.4309505792491207,0.41609482167032685,-1.2642759525596383,0.8088606095923593,-0.3287787352467742,-0.6640834034711206,-0.7619309954237736,0.4226777605230677,0.24979936237140168,0.28290305086873324,-0.2587768684335364,-1.1073499176529262,1.2678433641662228,0.7205688117833361,0.013101018318805328,1.0924839966821154,-1.365552472959164,-0.6069035061411017,-0.7144470408869261,1.0164384956684194,0.443418569079833,1.5261437417082782,-0.4466690260594189,-0.03827589074987316,1.8217727999067659,0.9210873939031335,-0.6617860453960066,0.16821137523823973,-0.1432853121140892,-2.7978845041908693,-0.9871087600490078,0.23248038532172627,1.24398179577353,-0.49018419946746145,0.21244678095206795,1.0542662813242147,0.41159843284465036,-0.3283155232768134,-0.14949025923677958,-0.9729735249688074,0.4689267035066989,0.39267582822134933,-0.2970338809944145,-0.3276061866690047,0.14517824094086815,-0.5009911239461405,0.2938491028086687,-0.05358032996194319,0.15824222616038994,-1.0316553589625612,-0.8889064599434631,-1.0109186708122362,0.8680587463217743,-0.523884874888583,-0.19984029864885086,-0.14148835743846858,-0.009625828651904937,1.2595153681009292,-0.7494574853190527,1.165196594856903,-0.15616145611462873,-0.5545374650676813,-1.0616810378264292,-1.3512784595061946,-1.3413189832986294,0.30622554758114745,-1.3427236915580891,-0.8361594218203363,-0.32322420311663497,0.6932830181946397,0.45785925248063436,-0.26482801927470795,-0.21506392508465094,-0.20592211725464296,0.12609007771073222,-1.5140332619993535,0.569167999467806,0.21077166262899988,-0.3175134211123909,0.26939347185908497],\"type\":\"scatter\"}],                        {\"legend\":{\"bgcolor\":\"#F5F6F9\",\"font\":{\"color\":\"#4D5663\"}},\"paper_bgcolor\":\"#F5F6F9\",\"plot_bgcolor\":\"#F5F6F9\",\"template\":{\"data\":{\"barpolar\":[{\"marker\":{\"line\":{\"color\":\"#E5ECF6\",\"width\":0.5},\"pattern\":{\"fillmode\":\"overlay\",\"size\":10,\"solidity\":0.2}},\"type\":\"barpolar\"}],\"bar\":[{\"error_x\":{\"color\":\"#2a3f5f\"},\"error_y\":{\"color\":\"#2a3f5f\"},\"marker\":{\"line\":{\"color\":\"#E5ECF6\",\"width\":0.5},\"pattern\":{\"fillmode\":\"overlay\",\"size\":10,\"solidity\":0.2}},\"type\":\"bar\"}],\"carpet\":[{\"aaxis\":{\"endlinecolor\":\"#2a3f5f\",\"gridcolor\":\"white\",\"linecolor\":\"white\",\"minorgridcolor\":\"white\",\"startlinecolor\":\"#2a3f5f\"},\"baxis\":{\"endlinecolor\":\"#2a3f5f\",\"gridcolor\":\"white\",\"linecolor\":\"white\",\"minorgridcolor\":\"white\",\"startlinecolor\":\"#2a3f5f\"},\"type\":\"carpet\"}],\"choropleth\":[{\"colorbar\":{\"outlinewidth\":0,\"ticks\":\"\"},\"type\":\"choropleth\"}],\"contourcarpet\":[{\"colorbar\":{\"outlinewidth\":0,\"ticks\":\"\"},\"type\":\"contourcarpet\"}],\"contour\":[{\"colorbar\":{\"outlinewidth\":0,\"ticks\":\"\"},\"colorscale\":[[0.0,\"#0d0887\"],[0.1111111111111111,\"#46039f\"],[0.2222222222222222,\"#7201a8\"],[0.3333333333333333,\"#9c179e\"],[0.4444444444444444,\"#bd3786\"],[0.5555555555555556,\"#d8576b\"],[0.6666666666666666,\"#ed7953\"],[0.7777777777777778,\"#fb9f3a\"],[0.8888888888888888,\"#fdca26\"],[1.0,\"#f0f921\"]],\"type\":\"contour\"}],\"heatmapgl\":[{\"colorbar\":{\"outlinewidth\":0,\"ticks\":\"\"},\"colorscale\":[[0.0,\"#0d0887\"],[0.1111111111111111,\"#46039f\"],[0.2222222222222222,\"#7201a8\"],[0.3333333333333333,\"#9c179e\"],[0.4444444444444444,\"#bd3786\"],[0.5555555555555556,\"#d8576b\"],[0.6666666666666666,\"#ed7953\"],[0.7777777777777778,\"#fb9f3a\"],[0.8888888888888888,\"#fdca26\"],[1.0,\"#f0f921\"]],\"type\":\"heatmapgl\"}],\"heatmap\":[{\"colorbar\":{\"outlinewidth\":0,\"ticks\":\"\"},\"colorscale\":[[0.0,\"#0d0887\"],[0.1111111111111111,\"#46039f\"],[0.2222222222222222,\"#7201a8\"],[0.3333333333333333,\"#9c179e\"],[0.4444444444444444,\"#bd3786\"],[0.5555555555555556,\"#d8576b\"],[0.6666666666666666,\"#ed7953\"],[0.7777777777777778,\"#fb9f3a\"],[0.8888888888888888,\"#fdca26\"],[1.0,\"#f0f921\"]],\"type\":\"heatmap\"}],\"histogram2dcontour\":[{\"colorbar\":{\"outlinewidth\":0,\"ticks\":\"\"},\"colorscale\":[[0.0,\"#0d0887\"],[0.1111111111111111,\"#46039f\"],[0.2222222222222222,\"#7201a8\"],[0.3333333333333333,\"#9c179e\"],[0.4444444444444444,\"#bd3786\"],[0.5555555555555556,\"#d8576b\"],[0.6666666666666666,\"#ed7953\"],[0.7777777777777778,\"#fb9f3a\"],[0.8888888888888888,\"#fdca26\"],[1.0,\"#f0f921\"]],\"type\":\"histogram2dcontour\"}],\"histogram2d\":[{\"colorbar\":{\"outlinewidth\":0,\"ticks\":\"\"},\"colorscale\":[[0.0,\"#0d0887\"],[0.1111111111111111,\"#46039f\"],[0.2222222222222222,\"#7201a8\"],[0.3333333333333333,\"#9c179e\"],[0.4444444444444444,\"#bd3786\"],[0.5555555555555556,\"#d8576b\"],[0.6666666666666666,\"#ed7953\"],[0.7777777777777778,\"#fb9f3a\"],[0.8888888888888888,\"#fdca26\"],[1.0,\"#f0f921\"]],\"type\":\"histogram2d\"}],\"histogram\":[{\"marker\":{\"pattern\":{\"fillmode\":\"overlay\",\"size\":10,\"solidity\":0.2}},\"type\":\"histogram\"}],\"mesh3d\":[{\"colorbar\":{\"outlinewidth\":0,\"ticks\":\"\"},\"type\":\"mesh3d\"}],\"parcoords\":[{\"line\":{\"colorbar\":{\"outlinewidth\":0,\"ticks\":\"\"}},\"type\":\"parcoords\"}],\"pie\":[{\"automargin\":true,\"type\":\"pie\"}],\"scatter3d\":[{\"line\":{\"colorbar\":{\"outlinewidth\":0,\"ticks\":\"\"}},\"marker\":{\"colorbar\":{\"outlinewidth\":0,\"ticks\":\"\"}},\"type\":\"scatter3d\"}],\"scattercarpet\":[{\"marker\":{\"colorbar\":{\"outlinewidth\":0,\"ticks\":\"\"}},\"type\":\"scattercarpet\"}],\"scattergeo\":[{\"marker\":{\"colorbar\":{\"outlinewidth\":0,\"ticks\":\"\"}},\"type\":\"scattergeo\"}],\"scattergl\":[{\"marker\":{\"colorbar\":{\"outlinewidth\":0,\"ticks\":\"\"}},\"type\":\"scattergl\"}],\"scattermapbox\":[{\"marker\":{\"colorbar\":{\"outlinewidth\":0,\"ticks\":\"\"}},\"type\":\"scattermapbox\"}],\"scatterpolargl\":[{\"marker\":{\"colorbar\":{\"outlinewidth\":0,\"ticks\":\"\"}},\"type\":\"scatterpolargl\"}],\"scatterpolar\":[{\"marker\":{\"colorbar\":{\"outlinewidth\":0,\"ticks\":\"\"}},\"type\":\"scatterpolar\"}],\"scatter\":[{\"fillpattern\":{\"fillmode\":\"overlay\",\"size\":10,\"solidity\":0.2},\"type\":\"scatter\"}],\"scatterternary\":[{\"marker\":{\"colorbar\":{\"outlinewidth\":0,\"ticks\":\"\"}},\"type\":\"scatterternary\"}],\"surface\":[{\"colorbar\":{\"outlinewidth\":0,\"ticks\":\"\"},\"colorscale\":[[0.0,\"#0d0887\"],[0.1111111111111111,\"#46039f\"],[0.2222222222222222,\"#7201a8\"],[0.3333333333333333,\"#9c179e\"],[0.4444444444444444,\"#bd3786\"],[0.5555555555555556,\"#d8576b\"],[0.6666666666666666,\"#ed7953\"],[0.7777777777777778,\"#fb9f3a\"],[0.8888888888888888,\"#fdca26\"],[1.0,\"#f0f921\"]],\"type\":\"surface\"}],\"table\":[{\"cells\":{\"fill\":{\"color\":\"#EBF0F8\"},\"line\":{\"color\":\"white\"}},\"header\":{\"fill\":{\"color\":\"#C8D4E3\"},\"line\":{\"color\":\"white\"}},\"type\":\"table\"}]},\"layout\":{\"annotationdefaults\":{\"arrowcolor\":\"#2a3f5f\",\"arrowhead\":0,\"arrowwidth\":1},\"autotypenumbers\":\"strict\",\"coloraxis\":{\"colorbar\":{\"outlinewidth\":0,\"ticks\":\"\"}},\"colorscale\":{\"diverging\":[[0,\"#8e0152\"],[0.1,\"#c51b7d\"],[0.2,\"#de77ae\"],[0.3,\"#f1b6da\"],[0.4,\"#fde0ef\"],[0.5,\"#f7f7f7\"],[0.6,\"#e6f5d0\"],[0.7,\"#b8e186\"],[0.8,\"#7fbc41\"],[0.9,\"#4d9221\"],[1,\"#276419\"]],\"sequential\":[[0.0,\"#0d0887\"],[0.1111111111111111,\"#46039f\"],[0.2222222222222222,\"#7201a8\"],[0.3333333333333333,\"#9c179e\"],[0.4444444444444444,\"#bd3786\"],[0.5555555555555556,\"#d8576b\"],[0.6666666666666666,\"#ed7953\"],[0.7777777777777778,\"#fb9f3a\"],[0.8888888888888888,\"#fdca26\"],[1.0,\"#f0f921\"]],\"sequentialminus\":[[0.0,\"#0d0887\"],[0.1111111111111111,\"#46039f\"],[0.2222222222222222,\"#7201a8\"],[0.3333333333333333,\"#9c179e\"],[0.4444444444444444,\"#bd3786\"],[0.5555555555555556,\"#d8576b\"],[0.6666666666666666,\"#ed7953\"],[0.7777777777777778,\"#fb9f3a\"],[0.8888888888888888,\"#fdca26\"],[1.0,\"#f0f921\"]]},\"colorway\":[\"#636efa\",\"#EF553B\",\"#00cc96\",\"#ab63fa\",\"#FFA15A\",\"#19d3f3\",\"#FF6692\",\"#B6E880\",\"#FF97FF\",\"#FECB52\"],\"font\":{\"color\":\"#2a3f5f\"},\"geo\":{\"bgcolor\":\"white\",\"lakecolor\":\"white\",\"landcolor\":\"#E5ECF6\",\"showlakes\":true,\"showland\":true,\"subunitcolor\":\"white\"},\"hoverlabel\":{\"align\":\"left\"},\"hovermode\":\"closest\",\"mapbox\":{\"style\":\"light\"},\"paper_bgcolor\":\"white\",\"plot_bgcolor\":\"#E5ECF6\",\"polar\":{\"angularaxis\":{\"gridcolor\":\"white\",\"linecolor\":\"white\",\"ticks\":\"\"},\"bgcolor\":\"#E5ECF6\",\"radialaxis\":{\"gridcolor\":\"white\",\"linecolor\":\"white\",\"ticks\":\"\"}},\"scene\":{\"xaxis\":{\"backgroundcolor\":\"#E5ECF6\",\"gridcolor\":\"white\",\"gridwidth\":2,\"linecolor\":\"white\",\"showbackground\":true,\"ticks\":\"\",\"zerolinecolor\":\"white\"},\"yaxis\":{\"backgroundcolor\":\"#E5ECF6\",\"gridcolor\":\"white\",\"gridwidth\":2,\"linecolor\":\"white\",\"showbackground\":true,\"ticks\":\"\",\"zerolinecolor\":\"white\"},\"zaxis\":{\"backgroundcolor\":\"#E5ECF6\",\"gridcolor\":\"white\",\"gridwidth\":2,\"linecolor\":\"white\",\"showbackground\":true,\"ticks\":\"\",\"zerolinecolor\":\"white\"}},\"shapedefaults\":{\"line\":{\"color\":\"#2a3f5f\"}},\"ternary\":{\"aaxis\":{\"gridcolor\":\"white\",\"linecolor\":\"white\",\"ticks\":\"\"},\"baxis\":{\"gridcolor\":\"white\",\"linecolor\":\"white\",\"ticks\":\"\"},\"bgcolor\":\"#E5ECF6\",\"caxis\":{\"gridcolor\":\"white\",\"linecolor\":\"white\",\"ticks\":\"\"}},\"title\":{\"x\":0.05},\"xaxis\":{\"automargin\":true,\"gridcolor\":\"white\",\"linecolor\":\"white\",\"ticks\":\"\",\"title\":{\"standoff\":15},\"zerolinecolor\":\"white\",\"zerolinewidth\":2},\"yaxis\":{\"automargin\":true,\"gridcolor\":\"white\",\"linecolor\":\"white\",\"ticks\":\"\",\"title\":{\"standoff\":15},\"zerolinecolor\":\"white\",\"zerolinewidth\":2}}},\"title\":{\"font\":{\"color\":\"#4D5663\"}},\"xaxis\":{\"gridcolor\":\"#E1E5ED\",\"showgrid\":true,\"tickfont\":{\"color\":\"#4D5663\"},\"title\":{\"font\":{\"color\":\"#4D5663\"},\"text\":\"\"},\"zerolinecolor\":\"#E1E5ED\"},\"yaxis\":{\"gridcolor\":\"#E1E5ED\",\"showgrid\":true,\"tickfont\":{\"color\":\"#4D5663\"},\"title\":{\"font\":{\"color\":\"#4D5663\"},\"text\":\"\"},\"zerolinecolor\":\"#E1E5ED\"}},                        {\"showLink\": true, \"linkText\": \"Export to plot.ly\", \"plotlyServerURL\": \"https://plot.ly\", \"responsive\": true}                    ).then(function(){\n",
       "                            \n",
       "var gd = document.getElementById('aed0184d-b199-4d3e-af5a-ce0e0823b364');\n",
       "var x = new MutationObserver(function (mutations, observer) {{\n",
       "        var display = window.getComputedStyle(gd).display;\n",
       "        if (!display || display === 'none') {{\n",
       "            console.log([gd, 'removed!']);\n",
       "            Plotly.purge(gd);\n",
       "            observer.disconnect();\n",
       "        }}\n",
       "}});\n",
       "\n",
       "// Listen for the removal of the full notebook cells\n",
       "var notebookContainer = gd.closest('#notebook-container');\n",
       "if (notebookContainer) {{\n",
       "    x.observe(notebookContainer, {childList: true});\n",
       "}}\n",
       "\n",
       "// Listen for the clearing of the current output cell\n",
       "var outputEl = gd.closest('.output');\n",
       "if (outputEl) {{\n",
       "    x.observe(outputEl, {childList: true});\n",
       "}}\n",
       "\n",
       "                        })                };                });            </script>        </div>"
      ]
     },
     "metadata": {},
     "output_type": "display_data"
    }
   ],
   "source": [
    "df.iplot(kind='scatter',x='A',y='B',mode='markers',size=10)"
   ]
  },
  {
   "cell_type": "markdown",
   "metadata": {},
   "source": [
    "## Bar Plots"
   ]
  },
  {
   "cell_type": "code",
   "execution_count": 13,
   "metadata": {},
   "outputs": [
    {
     "data": {
      "application/vnd.plotly.v1+json": {
       "config": {
        "linkText": "Export to plot.ly",
        "plotlyServerURL": "https://plot.ly",
        "showLink": true
       },
       "data": [
        {
         "marker": {
          "color": "rgba(255, 153, 51, 0.6)",
          "line": {
           "color": "rgba(255, 153, 51, 1.0)",
           "width": 1
          }
         },
         "name": "Values",
         "orientation": "v",
         "text": "",
         "type": "bar",
         "x": [
          "A",
          "B",
          "C"
         ],
         "y": [
          32,
          43,
          50
         ]
        }
       ],
       "layout": {
        "legend": {
         "bgcolor": "#F5F6F9",
         "font": {
          "color": "#4D5663"
         }
        },
        "paper_bgcolor": "#F5F6F9",
        "plot_bgcolor": "#F5F6F9",
        "template": {
         "data": {
          "bar": [
           {
            "error_x": {
             "color": "#2a3f5f"
            },
            "error_y": {
             "color": "#2a3f5f"
            },
            "marker": {
             "line": {
              "color": "#E5ECF6",
              "width": 0.5
             },
             "pattern": {
              "fillmode": "overlay",
              "size": 10,
              "solidity": 0.2
             }
            },
            "type": "bar"
           }
          ],
          "barpolar": [
           {
            "marker": {
             "line": {
              "color": "#E5ECF6",
              "width": 0.5
             },
             "pattern": {
              "fillmode": "overlay",
              "size": 10,
              "solidity": 0.2
             }
            },
            "type": "barpolar"
           }
          ],
          "carpet": [
           {
            "aaxis": {
             "endlinecolor": "#2a3f5f",
             "gridcolor": "white",
             "linecolor": "white",
             "minorgridcolor": "white",
             "startlinecolor": "#2a3f5f"
            },
            "baxis": {
             "endlinecolor": "#2a3f5f",
             "gridcolor": "white",
             "linecolor": "white",
             "minorgridcolor": "white",
             "startlinecolor": "#2a3f5f"
            },
            "type": "carpet"
           }
          ],
          "choropleth": [
           {
            "colorbar": {
             "outlinewidth": 0,
             "ticks": ""
            },
            "type": "choropleth"
           }
          ],
          "contour": [
           {
            "colorbar": {
             "outlinewidth": 0,
             "ticks": ""
            },
            "colorscale": [
             [
              0,
              "#0d0887"
             ],
             [
              0.1111111111111111,
              "#46039f"
             ],
             [
              0.2222222222222222,
              "#7201a8"
             ],
             [
              0.3333333333333333,
              "#9c179e"
             ],
             [
              0.4444444444444444,
              "#bd3786"
             ],
             [
              0.5555555555555556,
              "#d8576b"
             ],
             [
              0.6666666666666666,
              "#ed7953"
             ],
             [
              0.7777777777777778,
              "#fb9f3a"
             ],
             [
              0.8888888888888888,
              "#fdca26"
             ],
             [
              1,
              "#f0f921"
             ]
            ],
            "type": "contour"
           }
          ],
          "contourcarpet": [
           {
            "colorbar": {
             "outlinewidth": 0,
             "ticks": ""
            },
            "type": "contourcarpet"
           }
          ],
          "heatmap": [
           {
            "colorbar": {
             "outlinewidth": 0,
             "ticks": ""
            },
            "colorscale": [
             [
              0,
              "#0d0887"
             ],
             [
              0.1111111111111111,
              "#46039f"
             ],
             [
              0.2222222222222222,
              "#7201a8"
             ],
             [
              0.3333333333333333,
              "#9c179e"
             ],
             [
              0.4444444444444444,
              "#bd3786"
             ],
             [
              0.5555555555555556,
              "#d8576b"
             ],
             [
              0.6666666666666666,
              "#ed7953"
             ],
             [
              0.7777777777777778,
              "#fb9f3a"
             ],
             [
              0.8888888888888888,
              "#fdca26"
             ],
             [
              1,
              "#f0f921"
             ]
            ],
            "type": "heatmap"
           }
          ],
          "heatmapgl": [
           {
            "colorbar": {
             "outlinewidth": 0,
             "ticks": ""
            },
            "colorscale": [
             [
              0,
              "#0d0887"
             ],
             [
              0.1111111111111111,
              "#46039f"
             ],
             [
              0.2222222222222222,
              "#7201a8"
             ],
             [
              0.3333333333333333,
              "#9c179e"
             ],
             [
              0.4444444444444444,
              "#bd3786"
             ],
             [
              0.5555555555555556,
              "#d8576b"
             ],
             [
              0.6666666666666666,
              "#ed7953"
             ],
             [
              0.7777777777777778,
              "#fb9f3a"
             ],
             [
              0.8888888888888888,
              "#fdca26"
             ],
             [
              1,
              "#f0f921"
             ]
            ],
            "type": "heatmapgl"
           }
          ],
          "histogram": [
           {
            "marker": {
             "pattern": {
              "fillmode": "overlay",
              "size": 10,
              "solidity": 0.2
             }
            },
            "type": "histogram"
           }
          ],
          "histogram2d": [
           {
            "colorbar": {
             "outlinewidth": 0,
             "ticks": ""
            },
            "colorscale": [
             [
              0,
              "#0d0887"
             ],
             [
              0.1111111111111111,
              "#46039f"
             ],
             [
              0.2222222222222222,
              "#7201a8"
             ],
             [
              0.3333333333333333,
              "#9c179e"
             ],
             [
              0.4444444444444444,
              "#bd3786"
             ],
             [
              0.5555555555555556,
              "#d8576b"
             ],
             [
              0.6666666666666666,
              "#ed7953"
             ],
             [
              0.7777777777777778,
              "#fb9f3a"
             ],
             [
              0.8888888888888888,
              "#fdca26"
             ],
             [
              1,
              "#f0f921"
             ]
            ],
            "type": "histogram2d"
           }
          ],
          "histogram2dcontour": [
           {
            "colorbar": {
             "outlinewidth": 0,
             "ticks": ""
            },
            "colorscale": [
             [
              0,
              "#0d0887"
             ],
             [
              0.1111111111111111,
              "#46039f"
             ],
             [
              0.2222222222222222,
              "#7201a8"
             ],
             [
              0.3333333333333333,
              "#9c179e"
             ],
             [
              0.4444444444444444,
              "#bd3786"
             ],
             [
              0.5555555555555556,
              "#d8576b"
             ],
             [
              0.6666666666666666,
              "#ed7953"
             ],
             [
              0.7777777777777778,
              "#fb9f3a"
             ],
             [
              0.8888888888888888,
              "#fdca26"
             ],
             [
              1,
              "#f0f921"
             ]
            ],
            "type": "histogram2dcontour"
           }
          ],
          "mesh3d": [
           {
            "colorbar": {
             "outlinewidth": 0,
             "ticks": ""
            },
            "type": "mesh3d"
           }
          ],
          "parcoords": [
           {
            "line": {
             "colorbar": {
              "outlinewidth": 0,
              "ticks": ""
             }
            },
            "type": "parcoords"
           }
          ],
          "pie": [
           {
            "automargin": true,
            "type": "pie"
           }
          ],
          "scatter": [
           {
            "fillpattern": {
             "fillmode": "overlay",
             "size": 10,
             "solidity": 0.2
            },
            "type": "scatter"
           }
          ],
          "scatter3d": [
           {
            "line": {
             "colorbar": {
              "outlinewidth": 0,
              "ticks": ""
             }
            },
            "marker": {
             "colorbar": {
              "outlinewidth": 0,
              "ticks": ""
             }
            },
            "type": "scatter3d"
           }
          ],
          "scattercarpet": [
           {
            "marker": {
             "colorbar": {
              "outlinewidth": 0,
              "ticks": ""
             }
            },
            "type": "scattercarpet"
           }
          ],
          "scattergeo": [
           {
            "marker": {
             "colorbar": {
              "outlinewidth": 0,
              "ticks": ""
             }
            },
            "type": "scattergeo"
           }
          ],
          "scattergl": [
           {
            "marker": {
             "colorbar": {
              "outlinewidth": 0,
              "ticks": ""
             }
            },
            "type": "scattergl"
           }
          ],
          "scattermapbox": [
           {
            "marker": {
             "colorbar": {
              "outlinewidth": 0,
              "ticks": ""
             }
            },
            "type": "scattermapbox"
           }
          ],
          "scatterpolar": [
           {
            "marker": {
             "colorbar": {
              "outlinewidth": 0,
              "ticks": ""
             }
            },
            "type": "scatterpolar"
           }
          ],
          "scatterpolargl": [
           {
            "marker": {
             "colorbar": {
              "outlinewidth": 0,
              "ticks": ""
             }
            },
            "type": "scatterpolargl"
           }
          ],
          "scatterternary": [
           {
            "marker": {
             "colorbar": {
              "outlinewidth": 0,
              "ticks": ""
             }
            },
            "type": "scatterternary"
           }
          ],
          "surface": [
           {
            "colorbar": {
             "outlinewidth": 0,
             "ticks": ""
            },
            "colorscale": [
             [
              0,
              "#0d0887"
             ],
             [
              0.1111111111111111,
              "#46039f"
             ],
             [
              0.2222222222222222,
              "#7201a8"
             ],
             [
              0.3333333333333333,
              "#9c179e"
             ],
             [
              0.4444444444444444,
              "#bd3786"
             ],
             [
              0.5555555555555556,
              "#d8576b"
             ],
             [
              0.6666666666666666,
              "#ed7953"
             ],
             [
              0.7777777777777778,
              "#fb9f3a"
             ],
             [
              0.8888888888888888,
              "#fdca26"
             ],
             [
              1,
              "#f0f921"
             ]
            ],
            "type": "surface"
           }
          ],
          "table": [
           {
            "cells": {
             "fill": {
              "color": "#EBF0F8"
             },
             "line": {
              "color": "white"
             }
            },
            "header": {
             "fill": {
              "color": "#C8D4E3"
             },
             "line": {
              "color": "white"
             }
            },
            "type": "table"
           }
          ]
         },
         "layout": {
          "annotationdefaults": {
           "arrowcolor": "#2a3f5f",
           "arrowhead": 0,
           "arrowwidth": 1
          },
          "autotypenumbers": "strict",
          "coloraxis": {
           "colorbar": {
            "outlinewidth": 0,
            "ticks": ""
           }
          },
          "colorscale": {
           "diverging": [
            [
             0,
             "#8e0152"
            ],
            [
             0.1,
             "#c51b7d"
            ],
            [
             0.2,
             "#de77ae"
            ],
            [
             0.3,
             "#f1b6da"
            ],
            [
             0.4,
             "#fde0ef"
            ],
            [
             0.5,
             "#f7f7f7"
            ],
            [
             0.6,
             "#e6f5d0"
            ],
            [
             0.7,
             "#b8e186"
            ],
            [
             0.8,
             "#7fbc41"
            ],
            [
             0.9,
             "#4d9221"
            ],
            [
             1,
             "#276419"
            ]
           ],
           "sequential": [
            [
             0,
             "#0d0887"
            ],
            [
             0.1111111111111111,
             "#46039f"
            ],
            [
             0.2222222222222222,
             "#7201a8"
            ],
            [
             0.3333333333333333,
             "#9c179e"
            ],
            [
             0.4444444444444444,
             "#bd3786"
            ],
            [
             0.5555555555555556,
             "#d8576b"
            ],
            [
             0.6666666666666666,
             "#ed7953"
            ],
            [
             0.7777777777777778,
             "#fb9f3a"
            ],
            [
             0.8888888888888888,
             "#fdca26"
            ],
            [
             1,
             "#f0f921"
            ]
           ],
           "sequentialminus": [
            [
             0,
             "#0d0887"
            ],
            [
             0.1111111111111111,
             "#46039f"
            ],
            [
             0.2222222222222222,
             "#7201a8"
            ],
            [
             0.3333333333333333,
             "#9c179e"
            ],
            [
             0.4444444444444444,
             "#bd3786"
            ],
            [
             0.5555555555555556,
             "#d8576b"
            ],
            [
             0.6666666666666666,
             "#ed7953"
            ],
            [
             0.7777777777777778,
             "#fb9f3a"
            ],
            [
             0.8888888888888888,
             "#fdca26"
            ],
            [
             1,
             "#f0f921"
            ]
           ]
          },
          "colorway": [
           "#636efa",
           "#EF553B",
           "#00cc96",
           "#ab63fa",
           "#FFA15A",
           "#19d3f3",
           "#FF6692",
           "#B6E880",
           "#FF97FF",
           "#FECB52"
          ],
          "font": {
           "color": "#2a3f5f"
          },
          "geo": {
           "bgcolor": "white",
           "lakecolor": "white",
           "landcolor": "#E5ECF6",
           "showlakes": true,
           "showland": true,
           "subunitcolor": "white"
          },
          "hoverlabel": {
           "align": "left"
          },
          "hovermode": "closest",
          "mapbox": {
           "style": "light"
          },
          "paper_bgcolor": "white",
          "plot_bgcolor": "#E5ECF6",
          "polar": {
           "angularaxis": {
            "gridcolor": "white",
            "linecolor": "white",
            "ticks": ""
           },
           "bgcolor": "#E5ECF6",
           "radialaxis": {
            "gridcolor": "white",
            "linecolor": "white",
            "ticks": ""
           }
          },
          "scene": {
           "xaxis": {
            "backgroundcolor": "#E5ECF6",
            "gridcolor": "white",
            "gridwidth": 2,
            "linecolor": "white",
            "showbackground": true,
            "ticks": "",
            "zerolinecolor": "white"
           },
           "yaxis": {
            "backgroundcolor": "#E5ECF6",
            "gridcolor": "white",
            "gridwidth": 2,
            "linecolor": "white",
            "showbackground": true,
            "ticks": "",
            "zerolinecolor": "white"
           },
           "zaxis": {
            "backgroundcolor": "#E5ECF6",
            "gridcolor": "white",
            "gridwidth": 2,
            "linecolor": "white",
            "showbackground": true,
            "ticks": "",
            "zerolinecolor": "white"
           }
          },
          "shapedefaults": {
           "line": {
            "color": "#2a3f5f"
           }
          },
          "ternary": {
           "aaxis": {
            "gridcolor": "white",
            "linecolor": "white",
            "ticks": ""
           },
           "baxis": {
            "gridcolor": "white",
            "linecolor": "white",
            "ticks": ""
           },
           "bgcolor": "#E5ECF6",
           "caxis": {
            "gridcolor": "white",
            "linecolor": "white",
            "ticks": ""
           }
          },
          "title": {
           "x": 0.05
          },
          "xaxis": {
           "automargin": true,
           "gridcolor": "white",
           "linecolor": "white",
           "ticks": "",
           "title": {
            "standoff": 15
           },
           "zerolinecolor": "white",
           "zerolinewidth": 2
          },
          "yaxis": {
           "automargin": true,
           "gridcolor": "white",
           "linecolor": "white",
           "ticks": "",
           "title": {
            "standoff": 15
           },
           "zerolinecolor": "white",
           "zerolinewidth": 2
          }
         }
        },
        "title": {
         "font": {
          "color": "#4D5663"
         }
        },
        "xaxis": {
         "gridcolor": "#E1E5ED",
         "showgrid": true,
         "tickfont": {
          "color": "#4D5663"
         },
         "title": {
          "font": {
           "color": "#4D5663"
          },
          "text": ""
         },
         "zerolinecolor": "#E1E5ED"
        },
        "yaxis": {
         "gridcolor": "#E1E5ED",
         "showgrid": true,
         "tickfont": {
          "color": "#4D5663"
         },
         "title": {
          "font": {
           "color": "#4D5663"
          },
          "text": ""
         },
         "zerolinecolor": "#E1E5ED"
        }
       }
      },
      "text/html": [
       "<div>                            <div id=\"739111cf-e04a-4b0b-8ff1-8dce563909c7\" class=\"plotly-graph-div\" style=\"height:525px; width:100%;\"></div>            <script type=\"text/javascript\">                require([\"plotly\"], function(Plotly) {                    window.PLOTLYENV=window.PLOTLYENV || {};\n",
       "                    window.PLOTLYENV.BASE_URL='https://plot.ly';                                    if (document.getElementById(\"739111cf-e04a-4b0b-8ff1-8dce563909c7\")) {                    Plotly.newPlot(                        \"739111cf-e04a-4b0b-8ff1-8dce563909c7\",                        [{\"marker\":{\"color\":\"rgba(255, 153, 51, 0.6)\",\"line\":{\"color\":\"rgba(255, 153, 51, 1.0)\",\"width\":1}},\"name\":\"Values\",\"orientation\":\"v\",\"text\":\"\",\"x\":[\"A\",\"B\",\"C\"],\"y\":[32,43,50],\"type\":\"bar\"}],                        {\"legend\":{\"bgcolor\":\"#F5F6F9\",\"font\":{\"color\":\"#4D5663\"}},\"paper_bgcolor\":\"#F5F6F9\",\"plot_bgcolor\":\"#F5F6F9\",\"template\":{\"data\":{\"barpolar\":[{\"marker\":{\"line\":{\"color\":\"#E5ECF6\",\"width\":0.5},\"pattern\":{\"fillmode\":\"overlay\",\"size\":10,\"solidity\":0.2}},\"type\":\"barpolar\"}],\"bar\":[{\"error_x\":{\"color\":\"#2a3f5f\"},\"error_y\":{\"color\":\"#2a3f5f\"},\"marker\":{\"line\":{\"color\":\"#E5ECF6\",\"width\":0.5},\"pattern\":{\"fillmode\":\"overlay\",\"size\":10,\"solidity\":0.2}},\"type\":\"bar\"}],\"carpet\":[{\"aaxis\":{\"endlinecolor\":\"#2a3f5f\",\"gridcolor\":\"white\",\"linecolor\":\"white\",\"minorgridcolor\":\"white\",\"startlinecolor\":\"#2a3f5f\"},\"baxis\":{\"endlinecolor\":\"#2a3f5f\",\"gridcolor\":\"white\",\"linecolor\":\"white\",\"minorgridcolor\":\"white\",\"startlinecolor\":\"#2a3f5f\"},\"type\":\"carpet\"}],\"choropleth\":[{\"colorbar\":{\"outlinewidth\":0,\"ticks\":\"\"},\"type\":\"choropleth\"}],\"contourcarpet\":[{\"colorbar\":{\"outlinewidth\":0,\"ticks\":\"\"},\"type\":\"contourcarpet\"}],\"contour\":[{\"colorbar\":{\"outlinewidth\":0,\"ticks\":\"\"},\"colorscale\":[[0.0,\"#0d0887\"],[0.1111111111111111,\"#46039f\"],[0.2222222222222222,\"#7201a8\"],[0.3333333333333333,\"#9c179e\"],[0.4444444444444444,\"#bd3786\"],[0.5555555555555556,\"#d8576b\"],[0.6666666666666666,\"#ed7953\"],[0.7777777777777778,\"#fb9f3a\"],[0.8888888888888888,\"#fdca26\"],[1.0,\"#f0f921\"]],\"type\":\"contour\"}],\"heatmapgl\":[{\"colorbar\":{\"outlinewidth\":0,\"ticks\":\"\"},\"colorscale\":[[0.0,\"#0d0887\"],[0.1111111111111111,\"#46039f\"],[0.2222222222222222,\"#7201a8\"],[0.3333333333333333,\"#9c179e\"],[0.4444444444444444,\"#bd3786\"],[0.5555555555555556,\"#d8576b\"],[0.6666666666666666,\"#ed7953\"],[0.7777777777777778,\"#fb9f3a\"],[0.8888888888888888,\"#fdca26\"],[1.0,\"#f0f921\"]],\"type\":\"heatmapgl\"}],\"heatmap\":[{\"colorbar\":{\"outlinewidth\":0,\"ticks\":\"\"},\"colorscale\":[[0.0,\"#0d0887\"],[0.1111111111111111,\"#46039f\"],[0.2222222222222222,\"#7201a8\"],[0.3333333333333333,\"#9c179e\"],[0.4444444444444444,\"#bd3786\"],[0.5555555555555556,\"#d8576b\"],[0.6666666666666666,\"#ed7953\"],[0.7777777777777778,\"#fb9f3a\"],[0.8888888888888888,\"#fdca26\"],[1.0,\"#f0f921\"]],\"type\":\"heatmap\"}],\"histogram2dcontour\":[{\"colorbar\":{\"outlinewidth\":0,\"ticks\":\"\"},\"colorscale\":[[0.0,\"#0d0887\"],[0.1111111111111111,\"#46039f\"],[0.2222222222222222,\"#7201a8\"],[0.3333333333333333,\"#9c179e\"],[0.4444444444444444,\"#bd3786\"],[0.5555555555555556,\"#d8576b\"],[0.6666666666666666,\"#ed7953\"],[0.7777777777777778,\"#fb9f3a\"],[0.8888888888888888,\"#fdca26\"],[1.0,\"#f0f921\"]],\"type\":\"histogram2dcontour\"}],\"histogram2d\":[{\"colorbar\":{\"outlinewidth\":0,\"ticks\":\"\"},\"colorscale\":[[0.0,\"#0d0887\"],[0.1111111111111111,\"#46039f\"],[0.2222222222222222,\"#7201a8\"],[0.3333333333333333,\"#9c179e\"],[0.4444444444444444,\"#bd3786\"],[0.5555555555555556,\"#d8576b\"],[0.6666666666666666,\"#ed7953\"],[0.7777777777777778,\"#fb9f3a\"],[0.8888888888888888,\"#fdca26\"],[1.0,\"#f0f921\"]],\"type\":\"histogram2d\"}],\"histogram\":[{\"marker\":{\"pattern\":{\"fillmode\":\"overlay\",\"size\":10,\"solidity\":0.2}},\"type\":\"histogram\"}],\"mesh3d\":[{\"colorbar\":{\"outlinewidth\":0,\"ticks\":\"\"},\"type\":\"mesh3d\"}],\"parcoords\":[{\"line\":{\"colorbar\":{\"outlinewidth\":0,\"ticks\":\"\"}},\"type\":\"parcoords\"}],\"pie\":[{\"automargin\":true,\"type\":\"pie\"}],\"scatter3d\":[{\"line\":{\"colorbar\":{\"outlinewidth\":0,\"ticks\":\"\"}},\"marker\":{\"colorbar\":{\"outlinewidth\":0,\"ticks\":\"\"}},\"type\":\"scatter3d\"}],\"scattercarpet\":[{\"marker\":{\"colorbar\":{\"outlinewidth\":0,\"ticks\":\"\"}},\"type\":\"scattercarpet\"}],\"scattergeo\":[{\"marker\":{\"colorbar\":{\"outlinewidth\":0,\"ticks\":\"\"}},\"type\":\"scattergeo\"}],\"scattergl\":[{\"marker\":{\"colorbar\":{\"outlinewidth\":0,\"ticks\":\"\"}},\"type\":\"scattergl\"}],\"scattermapbox\":[{\"marker\":{\"colorbar\":{\"outlinewidth\":0,\"ticks\":\"\"}},\"type\":\"scattermapbox\"}],\"scatterpolargl\":[{\"marker\":{\"colorbar\":{\"outlinewidth\":0,\"ticks\":\"\"}},\"type\":\"scatterpolargl\"}],\"scatterpolar\":[{\"marker\":{\"colorbar\":{\"outlinewidth\":0,\"ticks\":\"\"}},\"type\":\"scatterpolar\"}],\"scatter\":[{\"fillpattern\":{\"fillmode\":\"overlay\",\"size\":10,\"solidity\":0.2},\"type\":\"scatter\"}],\"scatterternary\":[{\"marker\":{\"colorbar\":{\"outlinewidth\":0,\"ticks\":\"\"}},\"type\":\"scatterternary\"}],\"surface\":[{\"colorbar\":{\"outlinewidth\":0,\"ticks\":\"\"},\"colorscale\":[[0.0,\"#0d0887\"],[0.1111111111111111,\"#46039f\"],[0.2222222222222222,\"#7201a8\"],[0.3333333333333333,\"#9c179e\"],[0.4444444444444444,\"#bd3786\"],[0.5555555555555556,\"#d8576b\"],[0.6666666666666666,\"#ed7953\"],[0.7777777777777778,\"#fb9f3a\"],[0.8888888888888888,\"#fdca26\"],[1.0,\"#f0f921\"]],\"type\":\"surface\"}],\"table\":[{\"cells\":{\"fill\":{\"color\":\"#EBF0F8\"},\"line\":{\"color\":\"white\"}},\"header\":{\"fill\":{\"color\":\"#C8D4E3\"},\"line\":{\"color\":\"white\"}},\"type\":\"table\"}]},\"layout\":{\"annotationdefaults\":{\"arrowcolor\":\"#2a3f5f\",\"arrowhead\":0,\"arrowwidth\":1},\"autotypenumbers\":\"strict\",\"coloraxis\":{\"colorbar\":{\"outlinewidth\":0,\"ticks\":\"\"}},\"colorscale\":{\"diverging\":[[0,\"#8e0152\"],[0.1,\"#c51b7d\"],[0.2,\"#de77ae\"],[0.3,\"#f1b6da\"],[0.4,\"#fde0ef\"],[0.5,\"#f7f7f7\"],[0.6,\"#e6f5d0\"],[0.7,\"#b8e186\"],[0.8,\"#7fbc41\"],[0.9,\"#4d9221\"],[1,\"#276419\"]],\"sequential\":[[0.0,\"#0d0887\"],[0.1111111111111111,\"#46039f\"],[0.2222222222222222,\"#7201a8\"],[0.3333333333333333,\"#9c179e\"],[0.4444444444444444,\"#bd3786\"],[0.5555555555555556,\"#d8576b\"],[0.6666666666666666,\"#ed7953\"],[0.7777777777777778,\"#fb9f3a\"],[0.8888888888888888,\"#fdca26\"],[1.0,\"#f0f921\"]],\"sequentialminus\":[[0.0,\"#0d0887\"],[0.1111111111111111,\"#46039f\"],[0.2222222222222222,\"#7201a8\"],[0.3333333333333333,\"#9c179e\"],[0.4444444444444444,\"#bd3786\"],[0.5555555555555556,\"#d8576b\"],[0.6666666666666666,\"#ed7953\"],[0.7777777777777778,\"#fb9f3a\"],[0.8888888888888888,\"#fdca26\"],[1.0,\"#f0f921\"]]},\"colorway\":[\"#636efa\",\"#EF553B\",\"#00cc96\",\"#ab63fa\",\"#FFA15A\",\"#19d3f3\",\"#FF6692\",\"#B6E880\",\"#FF97FF\",\"#FECB52\"],\"font\":{\"color\":\"#2a3f5f\"},\"geo\":{\"bgcolor\":\"white\",\"lakecolor\":\"white\",\"landcolor\":\"#E5ECF6\",\"showlakes\":true,\"showland\":true,\"subunitcolor\":\"white\"},\"hoverlabel\":{\"align\":\"left\"},\"hovermode\":\"closest\",\"mapbox\":{\"style\":\"light\"},\"paper_bgcolor\":\"white\",\"plot_bgcolor\":\"#E5ECF6\",\"polar\":{\"angularaxis\":{\"gridcolor\":\"white\",\"linecolor\":\"white\",\"ticks\":\"\"},\"bgcolor\":\"#E5ECF6\",\"radialaxis\":{\"gridcolor\":\"white\",\"linecolor\":\"white\",\"ticks\":\"\"}},\"scene\":{\"xaxis\":{\"backgroundcolor\":\"#E5ECF6\",\"gridcolor\":\"white\",\"gridwidth\":2,\"linecolor\":\"white\",\"showbackground\":true,\"ticks\":\"\",\"zerolinecolor\":\"white\"},\"yaxis\":{\"backgroundcolor\":\"#E5ECF6\",\"gridcolor\":\"white\",\"gridwidth\":2,\"linecolor\":\"white\",\"showbackground\":true,\"ticks\":\"\",\"zerolinecolor\":\"white\"},\"zaxis\":{\"backgroundcolor\":\"#E5ECF6\",\"gridcolor\":\"white\",\"gridwidth\":2,\"linecolor\":\"white\",\"showbackground\":true,\"ticks\":\"\",\"zerolinecolor\":\"white\"}},\"shapedefaults\":{\"line\":{\"color\":\"#2a3f5f\"}},\"ternary\":{\"aaxis\":{\"gridcolor\":\"white\",\"linecolor\":\"white\",\"ticks\":\"\"},\"baxis\":{\"gridcolor\":\"white\",\"linecolor\":\"white\",\"ticks\":\"\"},\"bgcolor\":\"#E5ECF6\",\"caxis\":{\"gridcolor\":\"white\",\"linecolor\":\"white\",\"ticks\":\"\"}},\"title\":{\"x\":0.05},\"xaxis\":{\"automargin\":true,\"gridcolor\":\"white\",\"linecolor\":\"white\",\"ticks\":\"\",\"title\":{\"standoff\":15},\"zerolinecolor\":\"white\",\"zerolinewidth\":2},\"yaxis\":{\"automargin\":true,\"gridcolor\":\"white\",\"linecolor\":\"white\",\"ticks\":\"\",\"title\":{\"standoff\":15},\"zerolinecolor\":\"white\",\"zerolinewidth\":2}}},\"title\":{\"font\":{\"color\":\"#4D5663\"}},\"xaxis\":{\"gridcolor\":\"#E1E5ED\",\"showgrid\":true,\"tickfont\":{\"color\":\"#4D5663\"},\"title\":{\"font\":{\"color\":\"#4D5663\"},\"text\":\"\"},\"zerolinecolor\":\"#E1E5ED\"},\"yaxis\":{\"gridcolor\":\"#E1E5ED\",\"showgrid\":true,\"tickfont\":{\"color\":\"#4D5663\"},\"title\":{\"font\":{\"color\":\"#4D5663\"},\"text\":\"\"},\"zerolinecolor\":\"#E1E5ED\"}},                        {\"showLink\": true, \"linkText\": \"Export to plot.ly\", \"plotlyServerURL\": \"https://plot.ly\", \"responsive\": true}                    ).then(function(){\n",
       "                            \n",
       "var gd = document.getElementById('739111cf-e04a-4b0b-8ff1-8dce563909c7');\n",
       "var x = new MutationObserver(function (mutations, observer) {{\n",
       "        var display = window.getComputedStyle(gd).display;\n",
       "        if (!display || display === 'none') {{\n",
       "            console.log([gd, 'removed!']);\n",
       "            Plotly.purge(gd);\n",
       "            observer.disconnect();\n",
       "        }}\n",
       "}});\n",
       "\n",
       "// Listen for the removal of the full notebook cells\n",
       "var notebookContainer = gd.closest('#notebook-container');\n",
       "if (notebookContainer) {{\n",
       "    x.observe(notebookContainer, {childList: true});\n",
       "}}\n",
       "\n",
       "// Listen for the clearing of the current output cell\n",
       "var outputEl = gd.closest('.output');\n",
       "if (outputEl) {{\n",
       "    x.observe(outputEl, {childList: true});\n",
       "}}\n",
       "\n",
       "                        })                };                });            </script>        </div>"
      ]
     },
     "metadata": {},
     "output_type": "display_data"
    }
   ],
   "source": [
    "df2.iplot(kind='bar',x='Category',y='Values')"
   ]
  },
  {
   "cell_type": "code",
   "execution_count": 14,
   "metadata": {},
   "outputs": [
    {
     "data": {
      "application/vnd.plotly.v1+json": {
       "config": {
        "linkText": "Export to plot.ly",
        "plotlyServerURL": "https://plot.ly",
        "showLink": true
       },
       "data": [
        {
         "marker": {
          "color": "rgba(255, 153, 51, 0.6)",
          "line": {
           "color": "rgba(255, 153, 51, 1.0)",
           "width": 1
          }
         },
         "name": "None",
         "orientation": "v",
         "text": "",
         "type": "bar",
         "x": [
          "A",
          "B",
          "C",
          "D"
         ],
         "y": [
          100,
          100,
          100,
          100
         ]
        }
       ],
       "layout": {
        "legend": {
         "bgcolor": "#F5F6F9",
         "font": {
          "color": "#4D5663"
         }
        },
        "paper_bgcolor": "#F5F6F9",
        "plot_bgcolor": "#F5F6F9",
        "template": {
         "data": {
          "bar": [
           {
            "error_x": {
             "color": "#2a3f5f"
            },
            "error_y": {
             "color": "#2a3f5f"
            },
            "marker": {
             "line": {
              "color": "#E5ECF6",
              "width": 0.5
             },
             "pattern": {
              "fillmode": "overlay",
              "size": 10,
              "solidity": 0.2
             }
            },
            "type": "bar"
           }
          ],
          "barpolar": [
           {
            "marker": {
             "line": {
              "color": "#E5ECF6",
              "width": 0.5
             },
             "pattern": {
              "fillmode": "overlay",
              "size": 10,
              "solidity": 0.2
             }
            },
            "type": "barpolar"
           }
          ],
          "carpet": [
           {
            "aaxis": {
             "endlinecolor": "#2a3f5f",
             "gridcolor": "white",
             "linecolor": "white",
             "minorgridcolor": "white",
             "startlinecolor": "#2a3f5f"
            },
            "baxis": {
             "endlinecolor": "#2a3f5f",
             "gridcolor": "white",
             "linecolor": "white",
             "minorgridcolor": "white",
             "startlinecolor": "#2a3f5f"
            },
            "type": "carpet"
           }
          ],
          "choropleth": [
           {
            "colorbar": {
             "outlinewidth": 0,
             "ticks": ""
            },
            "type": "choropleth"
           }
          ],
          "contour": [
           {
            "colorbar": {
             "outlinewidth": 0,
             "ticks": ""
            },
            "colorscale": [
             [
              0,
              "#0d0887"
             ],
             [
              0.1111111111111111,
              "#46039f"
             ],
             [
              0.2222222222222222,
              "#7201a8"
             ],
             [
              0.3333333333333333,
              "#9c179e"
             ],
             [
              0.4444444444444444,
              "#bd3786"
             ],
             [
              0.5555555555555556,
              "#d8576b"
             ],
             [
              0.6666666666666666,
              "#ed7953"
             ],
             [
              0.7777777777777778,
              "#fb9f3a"
             ],
             [
              0.8888888888888888,
              "#fdca26"
             ],
             [
              1,
              "#f0f921"
             ]
            ],
            "type": "contour"
           }
          ],
          "contourcarpet": [
           {
            "colorbar": {
             "outlinewidth": 0,
             "ticks": ""
            },
            "type": "contourcarpet"
           }
          ],
          "heatmap": [
           {
            "colorbar": {
             "outlinewidth": 0,
             "ticks": ""
            },
            "colorscale": [
             [
              0,
              "#0d0887"
             ],
             [
              0.1111111111111111,
              "#46039f"
             ],
             [
              0.2222222222222222,
              "#7201a8"
             ],
             [
              0.3333333333333333,
              "#9c179e"
             ],
             [
              0.4444444444444444,
              "#bd3786"
             ],
             [
              0.5555555555555556,
              "#d8576b"
             ],
             [
              0.6666666666666666,
              "#ed7953"
             ],
             [
              0.7777777777777778,
              "#fb9f3a"
             ],
             [
              0.8888888888888888,
              "#fdca26"
             ],
             [
              1,
              "#f0f921"
             ]
            ],
            "type": "heatmap"
           }
          ],
          "heatmapgl": [
           {
            "colorbar": {
             "outlinewidth": 0,
             "ticks": ""
            },
            "colorscale": [
             [
              0,
              "#0d0887"
             ],
             [
              0.1111111111111111,
              "#46039f"
             ],
             [
              0.2222222222222222,
              "#7201a8"
             ],
             [
              0.3333333333333333,
              "#9c179e"
             ],
             [
              0.4444444444444444,
              "#bd3786"
             ],
             [
              0.5555555555555556,
              "#d8576b"
             ],
             [
              0.6666666666666666,
              "#ed7953"
             ],
             [
              0.7777777777777778,
              "#fb9f3a"
             ],
             [
              0.8888888888888888,
              "#fdca26"
             ],
             [
              1,
              "#f0f921"
             ]
            ],
            "type": "heatmapgl"
           }
          ],
          "histogram": [
           {
            "marker": {
             "pattern": {
              "fillmode": "overlay",
              "size": 10,
              "solidity": 0.2
             }
            },
            "type": "histogram"
           }
          ],
          "histogram2d": [
           {
            "colorbar": {
             "outlinewidth": 0,
             "ticks": ""
            },
            "colorscale": [
             [
              0,
              "#0d0887"
             ],
             [
              0.1111111111111111,
              "#46039f"
             ],
             [
              0.2222222222222222,
              "#7201a8"
             ],
             [
              0.3333333333333333,
              "#9c179e"
             ],
             [
              0.4444444444444444,
              "#bd3786"
             ],
             [
              0.5555555555555556,
              "#d8576b"
             ],
             [
              0.6666666666666666,
              "#ed7953"
             ],
             [
              0.7777777777777778,
              "#fb9f3a"
             ],
             [
              0.8888888888888888,
              "#fdca26"
             ],
             [
              1,
              "#f0f921"
             ]
            ],
            "type": "histogram2d"
           }
          ],
          "histogram2dcontour": [
           {
            "colorbar": {
             "outlinewidth": 0,
             "ticks": ""
            },
            "colorscale": [
             [
              0,
              "#0d0887"
             ],
             [
              0.1111111111111111,
              "#46039f"
             ],
             [
              0.2222222222222222,
              "#7201a8"
             ],
             [
              0.3333333333333333,
              "#9c179e"
             ],
             [
              0.4444444444444444,
              "#bd3786"
             ],
             [
              0.5555555555555556,
              "#d8576b"
             ],
             [
              0.6666666666666666,
              "#ed7953"
             ],
             [
              0.7777777777777778,
              "#fb9f3a"
             ],
             [
              0.8888888888888888,
              "#fdca26"
             ],
             [
              1,
              "#f0f921"
             ]
            ],
            "type": "histogram2dcontour"
           }
          ],
          "mesh3d": [
           {
            "colorbar": {
             "outlinewidth": 0,
             "ticks": ""
            },
            "type": "mesh3d"
           }
          ],
          "parcoords": [
           {
            "line": {
             "colorbar": {
              "outlinewidth": 0,
              "ticks": ""
             }
            },
            "type": "parcoords"
           }
          ],
          "pie": [
           {
            "automargin": true,
            "type": "pie"
           }
          ],
          "scatter": [
           {
            "fillpattern": {
             "fillmode": "overlay",
             "size": 10,
             "solidity": 0.2
            },
            "type": "scatter"
           }
          ],
          "scatter3d": [
           {
            "line": {
             "colorbar": {
              "outlinewidth": 0,
              "ticks": ""
             }
            },
            "marker": {
             "colorbar": {
              "outlinewidth": 0,
              "ticks": ""
             }
            },
            "type": "scatter3d"
           }
          ],
          "scattercarpet": [
           {
            "marker": {
             "colorbar": {
              "outlinewidth": 0,
              "ticks": ""
             }
            },
            "type": "scattercarpet"
           }
          ],
          "scattergeo": [
           {
            "marker": {
             "colorbar": {
              "outlinewidth": 0,
              "ticks": ""
             }
            },
            "type": "scattergeo"
           }
          ],
          "scattergl": [
           {
            "marker": {
             "colorbar": {
              "outlinewidth": 0,
              "ticks": ""
             }
            },
            "type": "scattergl"
           }
          ],
          "scattermapbox": [
           {
            "marker": {
             "colorbar": {
              "outlinewidth": 0,
              "ticks": ""
             }
            },
            "type": "scattermapbox"
           }
          ],
          "scatterpolar": [
           {
            "marker": {
             "colorbar": {
              "outlinewidth": 0,
              "ticks": ""
             }
            },
            "type": "scatterpolar"
           }
          ],
          "scatterpolargl": [
           {
            "marker": {
             "colorbar": {
              "outlinewidth": 0,
              "ticks": ""
             }
            },
            "type": "scatterpolargl"
           }
          ],
          "scatterternary": [
           {
            "marker": {
             "colorbar": {
              "outlinewidth": 0,
              "ticks": ""
             }
            },
            "type": "scatterternary"
           }
          ],
          "surface": [
           {
            "colorbar": {
             "outlinewidth": 0,
             "ticks": ""
            },
            "colorscale": [
             [
              0,
              "#0d0887"
             ],
             [
              0.1111111111111111,
              "#46039f"
             ],
             [
              0.2222222222222222,
              "#7201a8"
             ],
             [
              0.3333333333333333,
              "#9c179e"
             ],
             [
              0.4444444444444444,
              "#bd3786"
             ],
             [
              0.5555555555555556,
              "#d8576b"
             ],
             [
              0.6666666666666666,
              "#ed7953"
             ],
             [
              0.7777777777777778,
              "#fb9f3a"
             ],
             [
              0.8888888888888888,
              "#fdca26"
             ],
             [
              1,
              "#f0f921"
             ]
            ],
            "type": "surface"
           }
          ],
          "table": [
           {
            "cells": {
             "fill": {
              "color": "#EBF0F8"
             },
             "line": {
              "color": "white"
             }
            },
            "header": {
             "fill": {
              "color": "#C8D4E3"
             },
             "line": {
              "color": "white"
             }
            },
            "type": "table"
           }
          ]
         },
         "layout": {
          "annotationdefaults": {
           "arrowcolor": "#2a3f5f",
           "arrowhead": 0,
           "arrowwidth": 1
          },
          "autotypenumbers": "strict",
          "coloraxis": {
           "colorbar": {
            "outlinewidth": 0,
            "ticks": ""
           }
          },
          "colorscale": {
           "diverging": [
            [
             0,
             "#8e0152"
            ],
            [
             0.1,
             "#c51b7d"
            ],
            [
             0.2,
             "#de77ae"
            ],
            [
             0.3,
             "#f1b6da"
            ],
            [
             0.4,
             "#fde0ef"
            ],
            [
             0.5,
             "#f7f7f7"
            ],
            [
             0.6,
             "#e6f5d0"
            ],
            [
             0.7,
             "#b8e186"
            ],
            [
             0.8,
             "#7fbc41"
            ],
            [
             0.9,
             "#4d9221"
            ],
            [
             1,
             "#276419"
            ]
           ],
           "sequential": [
            [
             0,
             "#0d0887"
            ],
            [
             0.1111111111111111,
             "#46039f"
            ],
            [
             0.2222222222222222,
             "#7201a8"
            ],
            [
             0.3333333333333333,
             "#9c179e"
            ],
            [
             0.4444444444444444,
             "#bd3786"
            ],
            [
             0.5555555555555556,
             "#d8576b"
            ],
            [
             0.6666666666666666,
             "#ed7953"
            ],
            [
             0.7777777777777778,
             "#fb9f3a"
            ],
            [
             0.8888888888888888,
             "#fdca26"
            ],
            [
             1,
             "#f0f921"
            ]
           ],
           "sequentialminus": [
            [
             0,
             "#0d0887"
            ],
            [
             0.1111111111111111,
             "#46039f"
            ],
            [
             0.2222222222222222,
             "#7201a8"
            ],
            [
             0.3333333333333333,
             "#9c179e"
            ],
            [
             0.4444444444444444,
             "#bd3786"
            ],
            [
             0.5555555555555556,
             "#d8576b"
            ],
            [
             0.6666666666666666,
             "#ed7953"
            ],
            [
             0.7777777777777778,
             "#fb9f3a"
            ],
            [
             0.8888888888888888,
             "#fdca26"
            ],
            [
             1,
             "#f0f921"
            ]
           ]
          },
          "colorway": [
           "#636efa",
           "#EF553B",
           "#00cc96",
           "#ab63fa",
           "#FFA15A",
           "#19d3f3",
           "#FF6692",
           "#B6E880",
           "#FF97FF",
           "#FECB52"
          ],
          "font": {
           "color": "#2a3f5f"
          },
          "geo": {
           "bgcolor": "white",
           "lakecolor": "white",
           "landcolor": "#E5ECF6",
           "showlakes": true,
           "showland": true,
           "subunitcolor": "white"
          },
          "hoverlabel": {
           "align": "left"
          },
          "hovermode": "closest",
          "mapbox": {
           "style": "light"
          },
          "paper_bgcolor": "white",
          "plot_bgcolor": "#E5ECF6",
          "polar": {
           "angularaxis": {
            "gridcolor": "white",
            "linecolor": "white",
            "ticks": ""
           },
           "bgcolor": "#E5ECF6",
           "radialaxis": {
            "gridcolor": "white",
            "linecolor": "white",
            "ticks": ""
           }
          },
          "scene": {
           "xaxis": {
            "backgroundcolor": "#E5ECF6",
            "gridcolor": "white",
            "gridwidth": 2,
            "linecolor": "white",
            "showbackground": true,
            "ticks": "",
            "zerolinecolor": "white"
           },
           "yaxis": {
            "backgroundcolor": "#E5ECF6",
            "gridcolor": "white",
            "gridwidth": 2,
            "linecolor": "white",
            "showbackground": true,
            "ticks": "",
            "zerolinecolor": "white"
           },
           "zaxis": {
            "backgroundcolor": "#E5ECF6",
            "gridcolor": "white",
            "gridwidth": 2,
            "linecolor": "white",
            "showbackground": true,
            "ticks": "",
            "zerolinecolor": "white"
           }
          },
          "shapedefaults": {
           "line": {
            "color": "#2a3f5f"
           }
          },
          "ternary": {
           "aaxis": {
            "gridcolor": "white",
            "linecolor": "white",
            "ticks": ""
           },
           "baxis": {
            "gridcolor": "white",
            "linecolor": "white",
            "ticks": ""
           },
           "bgcolor": "#E5ECF6",
           "caxis": {
            "gridcolor": "white",
            "linecolor": "white",
            "ticks": ""
           }
          },
          "title": {
           "x": 0.05
          },
          "xaxis": {
           "automargin": true,
           "gridcolor": "white",
           "linecolor": "white",
           "ticks": "",
           "title": {
            "standoff": 15
           },
           "zerolinecolor": "white",
           "zerolinewidth": 2
          },
          "yaxis": {
           "automargin": true,
           "gridcolor": "white",
           "linecolor": "white",
           "ticks": "",
           "title": {
            "standoff": 15
           },
           "zerolinecolor": "white",
           "zerolinewidth": 2
          }
         }
        },
        "title": {
         "font": {
          "color": "#4D5663"
         }
        },
        "xaxis": {
         "gridcolor": "#E1E5ED",
         "showgrid": true,
         "tickfont": {
          "color": "#4D5663"
         },
         "title": {
          "font": {
           "color": "#4D5663"
          },
          "text": ""
         },
         "zerolinecolor": "#E1E5ED"
        },
        "yaxis": {
         "gridcolor": "#E1E5ED",
         "showgrid": true,
         "tickfont": {
          "color": "#4D5663"
         },
         "title": {
          "font": {
           "color": "#4D5663"
          },
          "text": ""
         },
         "zerolinecolor": "#E1E5ED"
        }
       }
      },
      "text/html": [
       "<div>                            <div id=\"7f695ad5-875f-42e2-81ac-b907be074298\" class=\"plotly-graph-div\" style=\"height:525px; width:100%;\"></div>            <script type=\"text/javascript\">                require([\"plotly\"], function(Plotly) {                    window.PLOTLYENV=window.PLOTLYENV || {};\n",
       "                    window.PLOTLYENV.BASE_URL='https://plot.ly';                                    if (document.getElementById(\"7f695ad5-875f-42e2-81ac-b907be074298\")) {                    Plotly.newPlot(                        \"7f695ad5-875f-42e2-81ac-b907be074298\",                        [{\"marker\":{\"color\":\"rgba(255, 153, 51, 0.6)\",\"line\":{\"color\":\"rgba(255, 153, 51, 1.0)\",\"width\":1}},\"name\":\"None\",\"orientation\":\"v\",\"text\":\"\",\"x\":[\"A\",\"B\",\"C\",\"D\"],\"y\":[100,100,100,100],\"type\":\"bar\"}],                        {\"legend\":{\"bgcolor\":\"#F5F6F9\",\"font\":{\"color\":\"#4D5663\"}},\"paper_bgcolor\":\"#F5F6F9\",\"plot_bgcolor\":\"#F5F6F9\",\"template\":{\"data\":{\"barpolar\":[{\"marker\":{\"line\":{\"color\":\"#E5ECF6\",\"width\":0.5},\"pattern\":{\"fillmode\":\"overlay\",\"size\":10,\"solidity\":0.2}},\"type\":\"barpolar\"}],\"bar\":[{\"error_x\":{\"color\":\"#2a3f5f\"},\"error_y\":{\"color\":\"#2a3f5f\"},\"marker\":{\"line\":{\"color\":\"#E5ECF6\",\"width\":0.5},\"pattern\":{\"fillmode\":\"overlay\",\"size\":10,\"solidity\":0.2}},\"type\":\"bar\"}],\"carpet\":[{\"aaxis\":{\"endlinecolor\":\"#2a3f5f\",\"gridcolor\":\"white\",\"linecolor\":\"white\",\"minorgridcolor\":\"white\",\"startlinecolor\":\"#2a3f5f\"},\"baxis\":{\"endlinecolor\":\"#2a3f5f\",\"gridcolor\":\"white\",\"linecolor\":\"white\",\"minorgridcolor\":\"white\",\"startlinecolor\":\"#2a3f5f\"},\"type\":\"carpet\"}],\"choropleth\":[{\"colorbar\":{\"outlinewidth\":0,\"ticks\":\"\"},\"type\":\"choropleth\"}],\"contourcarpet\":[{\"colorbar\":{\"outlinewidth\":0,\"ticks\":\"\"},\"type\":\"contourcarpet\"}],\"contour\":[{\"colorbar\":{\"outlinewidth\":0,\"ticks\":\"\"},\"colorscale\":[[0.0,\"#0d0887\"],[0.1111111111111111,\"#46039f\"],[0.2222222222222222,\"#7201a8\"],[0.3333333333333333,\"#9c179e\"],[0.4444444444444444,\"#bd3786\"],[0.5555555555555556,\"#d8576b\"],[0.6666666666666666,\"#ed7953\"],[0.7777777777777778,\"#fb9f3a\"],[0.8888888888888888,\"#fdca26\"],[1.0,\"#f0f921\"]],\"type\":\"contour\"}],\"heatmapgl\":[{\"colorbar\":{\"outlinewidth\":0,\"ticks\":\"\"},\"colorscale\":[[0.0,\"#0d0887\"],[0.1111111111111111,\"#46039f\"],[0.2222222222222222,\"#7201a8\"],[0.3333333333333333,\"#9c179e\"],[0.4444444444444444,\"#bd3786\"],[0.5555555555555556,\"#d8576b\"],[0.6666666666666666,\"#ed7953\"],[0.7777777777777778,\"#fb9f3a\"],[0.8888888888888888,\"#fdca26\"],[1.0,\"#f0f921\"]],\"type\":\"heatmapgl\"}],\"heatmap\":[{\"colorbar\":{\"outlinewidth\":0,\"ticks\":\"\"},\"colorscale\":[[0.0,\"#0d0887\"],[0.1111111111111111,\"#46039f\"],[0.2222222222222222,\"#7201a8\"],[0.3333333333333333,\"#9c179e\"],[0.4444444444444444,\"#bd3786\"],[0.5555555555555556,\"#d8576b\"],[0.6666666666666666,\"#ed7953\"],[0.7777777777777778,\"#fb9f3a\"],[0.8888888888888888,\"#fdca26\"],[1.0,\"#f0f921\"]],\"type\":\"heatmap\"}],\"histogram2dcontour\":[{\"colorbar\":{\"outlinewidth\":0,\"ticks\":\"\"},\"colorscale\":[[0.0,\"#0d0887\"],[0.1111111111111111,\"#46039f\"],[0.2222222222222222,\"#7201a8\"],[0.3333333333333333,\"#9c179e\"],[0.4444444444444444,\"#bd3786\"],[0.5555555555555556,\"#d8576b\"],[0.6666666666666666,\"#ed7953\"],[0.7777777777777778,\"#fb9f3a\"],[0.8888888888888888,\"#fdca26\"],[1.0,\"#f0f921\"]],\"type\":\"histogram2dcontour\"}],\"histogram2d\":[{\"colorbar\":{\"outlinewidth\":0,\"ticks\":\"\"},\"colorscale\":[[0.0,\"#0d0887\"],[0.1111111111111111,\"#46039f\"],[0.2222222222222222,\"#7201a8\"],[0.3333333333333333,\"#9c179e\"],[0.4444444444444444,\"#bd3786\"],[0.5555555555555556,\"#d8576b\"],[0.6666666666666666,\"#ed7953\"],[0.7777777777777778,\"#fb9f3a\"],[0.8888888888888888,\"#fdca26\"],[1.0,\"#f0f921\"]],\"type\":\"histogram2d\"}],\"histogram\":[{\"marker\":{\"pattern\":{\"fillmode\":\"overlay\",\"size\":10,\"solidity\":0.2}},\"type\":\"histogram\"}],\"mesh3d\":[{\"colorbar\":{\"outlinewidth\":0,\"ticks\":\"\"},\"type\":\"mesh3d\"}],\"parcoords\":[{\"line\":{\"colorbar\":{\"outlinewidth\":0,\"ticks\":\"\"}},\"type\":\"parcoords\"}],\"pie\":[{\"automargin\":true,\"type\":\"pie\"}],\"scatter3d\":[{\"line\":{\"colorbar\":{\"outlinewidth\":0,\"ticks\":\"\"}},\"marker\":{\"colorbar\":{\"outlinewidth\":0,\"ticks\":\"\"}},\"type\":\"scatter3d\"}],\"scattercarpet\":[{\"marker\":{\"colorbar\":{\"outlinewidth\":0,\"ticks\":\"\"}},\"type\":\"scattercarpet\"}],\"scattergeo\":[{\"marker\":{\"colorbar\":{\"outlinewidth\":0,\"ticks\":\"\"}},\"type\":\"scattergeo\"}],\"scattergl\":[{\"marker\":{\"colorbar\":{\"outlinewidth\":0,\"ticks\":\"\"}},\"type\":\"scattergl\"}],\"scattermapbox\":[{\"marker\":{\"colorbar\":{\"outlinewidth\":0,\"ticks\":\"\"}},\"type\":\"scattermapbox\"}],\"scatterpolargl\":[{\"marker\":{\"colorbar\":{\"outlinewidth\":0,\"ticks\":\"\"}},\"type\":\"scatterpolargl\"}],\"scatterpolar\":[{\"marker\":{\"colorbar\":{\"outlinewidth\":0,\"ticks\":\"\"}},\"type\":\"scatterpolar\"}],\"scatter\":[{\"fillpattern\":{\"fillmode\":\"overlay\",\"size\":10,\"solidity\":0.2},\"type\":\"scatter\"}],\"scatterternary\":[{\"marker\":{\"colorbar\":{\"outlinewidth\":0,\"ticks\":\"\"}},\"type\":\"scatterternary\"}],\"surface\":[{\"colorbar\":{\"outlinewidth\":0,\"ticks\":\"\"},\"colorscale\":[[0.0,\"#0d0887\"],[0.1111111111111111,\"#46039f\"],[0.2222222222222222,\"#7201a8\"],[0.3333333333333333,\"#9c179e\"],[0.4444444444444444,\"#bd3786\"],[0.5555555555555556,\"#d8576b\"],[0.6666666666666666,\"#ed7953\"],[0.7777777777777778,\"#fb9f3a\"],[0.8888888888888888,\"#fdca26\"],[1.0,\"#f0f921\"]],\"type\":\"surface\"}],\"table\":[{\"cells\":{\"fill\":{\"color\":\"#EBF0F8\"},\"line\":{\"color\":\"white\"}},\"header\":{\"fill\":{\"color\":\"#C8D4E3\"},\"line\":{\"color\":\"white\"}},\"type\":\"table\"}]},\"layout\":{\"annotationdefaults\":{\"arrowcolor\":\"#2a3f5f\",\"arrowhead\":0,\"arrowwidth\":1},\"autotypenumbers\":\"strict\",\"coloraxis\":{\"colorbar\":{\"outlinewidth\":0,\"ticks\":\"\"}},\"colorscale\":{\"diverging\":[[0,\"#8e0152\"],[0.1,\"#c51b7d\"],[0.2,\"#de77ae\"],[0.3,\"#f1b6da\"],[0.4,\"#fde0ef\"],[0.5,\"#f7f7f7\"],[0.6,\"#e6f5d0\"],[0.7,\"#b8e186\"],[0.8,\"#7fbc41\"],[0.9,\"#4d9221\"],[1,\"#276419\"]],\"sequential\":[[0.0,\"#0d0887\"],[0.1111111111111111,\"#46039f\"],[0.2222222222222222,\"#7201a8\"],[0.3333333333333333,\"#9c179e\"],[0.4444444444444444,\"#bd3786\"],[0.5555555555555556,\"#d8576b\"],[0.6666666666666666,\"#ed7953\"],[0.7777777777777778,\"#fb9f3a\"],[0.8888888888888888,\"#fdca26\"],[1.0,\"#f0f921\"]],\"sequentialminus\":[[0.0,\"#0d0887\"],[0.1111111111111111,\"#46039f\"],[0.2222222222222222,\"#7201a8\"],[0.3333333333333333,\"#9c179e\"],[0.4444444444444444,\"#bd3786\"],[0.5555555555555556,\"#d8576b\"],[0.6666666666666666,\"#ed7953\"],[0.7777777777777778,\"#fb9f3a\"],[0.8888888888888888,\"#fdca26\"],[1.0,\"#f0f921\"]]},\"colorway\":[\"#636efa\",\"#EF553B\",\"#00cc96\",\"#ab63fa\",\"#FFA15A\",\"#19d3f3\",\"#FF6692\",\"#B6E880\",\"#FF97FF\",\"#FECB52\"],\"font\":{\"color\":\"#2a3f5f\"},\"geo\":{\"bgcolor\":\"white\",\"lakecolor\":\"white\",\"landcolor\":\"#E5ECF6\",\"showlakes\":true,\"showland\":true,\"subunitcolor\":\"white\"},\"hoverlabel\":{\"align\":\"left\"},\"hovermode\":\"closest\",\"mapbox\":{\"style\":\"light\"},\"paper_bgcolor\":\"white\",\"plot_bgcolor\":\"#E5ECF6\",\"polar\":{\"angularaxis\":{\"gridcolor\":\"white\",\"linecolor\":\"white\",\"ticks\":\"\"},\"bgcolor\":\"#E5ECF6\",\"radialaxis\":{\"gridcolor\":\"white\",\"linecolor\":\"white\",\"ticks\":\"\"}},\"scene\":{\"xaxis\":{\"backgroundcolor\":\"#E5ECF6\",\"gridcolor\":\"white\",\"gridwidth\":2,\"linecolor\":\"white\",\"showbackground\":true,\"ticks\":\"\",\"zerolinecolor\":\"white\"},\"yaxis\":{\"backgroundcolor\":\"#E5ECF6\",\"gridcolor\":\"white\",\"gridwidth\":2,\"linecolor\":\"white\",\"showbackground\":true,\"ticks\":\"\",\"zerolinecolor\":\"white\"},\"zaxis\":{\"backgroundcolor\":\"#E5ECF6\",\"gridcolor\":\"white\",\"gridwidth\":2,\"linecolor\":\"white\",\"showbackground\":true,\"ticks\":\"\",\"zerolinecolor\":\"white\"}},\"shapedefaults\":{\"line\":{\"color\":\"#2a3f5f\"}},\"ternary\":{\"aaxis\":{\"gridcolor\":\"white\",\"linecolor\":\"white\",\"ticks\":\"\"},\"baxis\":{\"gridcolor\":\"white\",\"linecolor\":\"white\",\"ticks\":\"\"},\"bgcolor\":\"#E5ECF6\",\"caxis\":{\"gridcolor\":\"white\",\"linecolor\":\"white\",\"ticks\":\"\"}},\"title\":{\"x\":0.05},\"xaxis\":{\"automargin\":true,\"gridcolor\":\"white\",\"linecolor\":\"white\",\"ticks\":\"\",\"title\":{\"standoff\":15},\"zerolinecolor\":\"white\",\"zerolinewidth\":2},\"yaxis\":{\"automargin\":true,\"gridcolor\":\"white\",\"linecolor\":\"white\",\"ticks\":\"\",\"title\":{\"standoff\":15},\"zerolinecolor\":\"white\",\"zerolinewidth\":2}}},\"title\":{\"font\":{\"color\":\"#4D5663\"}},\"xaxis\":{\"gridcolor\":\"#E1E5ED\",\"showgrid\":true,\"tickfont\":{\"color\":\"#4D5663\"},\"title\":{\"font\":{\"color\":\"#4D5663\"},\"text\":\"\"},\"zerolinecolor\":\"#E1E5ED\"},\"yaxis\":{\"gridcolor\":\"#E1E5ED\",\"showgrid\":true,\"tickfont\":{\"color\":\"#4D5663\"},\"title\":{\"font\":{\"color\":\"#4D5663\"},\"text\":\"\"},\"zerolinecolor\":\"#E1E5ED\"}},                        {\"showLink\": true, \"linkText\": \"Export to plot.ly\", \"plotlyServerURL\": \"https://plot.ly\", \"responsive\": true}                    ).then(function(){\n",
       "                            \n",
       "var gd = document.getElementById('7f695ad5-875f-42e2-81ac-b907be074298');\n",
       "var x = new MutationObserver(function (mutations, observer) {{\n",
       "        var display = window.getComputedStyle(gd).display;\n",
       "        if (!display || display === 'none') {{\n",
       "            console.log([gd, 'removed!']);\n",
       "            Plotly.purge(gd);\n",
       "            observer.disconnect();\n",
       "        }}\n",
       "}});\n",
       "\n",
       "// Listen for the removal of the full notebook cells\n",
       "var notebookContainer = gd.closest('#notebook-container');\n",
       "if (notebookContainer) {{\n",
       "    x.observe(notebookContainer, {childList: true});\n",
       "}}\n",
       "\n",
       "// Listen for the clearing of the current output cell\n",
       "var outputEl = gd.closest('.output');\n",
       "if (outputEl) {{\n",
       "    x.observe(outputEl, {childList: true});\n",
       "}}\n",
       "\n",
       "                        })                };                });            </script>        </div>"
      ]
     },
     "metadata": {},
     "output_type": "display_data"
    }
   ],
   "source": [
    "df.count().iplot(kind='bar')"
   ]
  },
  {
   "cell_type": "markdown",
   "metadata": {},
   "source": [
    "## Boxplots"
   ]
  },
  {
   "cell_type": "code",
   "execution_count": 15,
   "metadata": {},
   "outputs": [
    {
     "data": {
      "application/vnd.plotly.v1+json": {
       "config": {
        "linkText": "Export to plot.ly",
        "plotlyServerURL": "https://plot.ly",
        "showLink": true
       },
       "data": [
        {
         "boxpoints": false,
         "line": {
          "width": 1.3
         },
         "marker": {
          "color": "rgba(255, 153, 51, 1.0)"
         },
         "name": "A",
         "orientation": "v",
         "type": "box",
         "y": [
          -0.7459921802284659,
          -0.2985331193711804,
          -0.5923070930794322,
          1.0241349657605285,
          1.3474652422939397,
          -0.3306346733325379,
          0.12698460532380978,
          -1.2396216588120965,
          1.4135882069108947,
          -0.4340229477075488,
          -2.1086061405379892,
          0.6650868623623832,
          -0.9392383681720982,
          -0.8012157757144039,
          0.3556419166568355,
          0.17027391249413223,
          1.2373283151950252,
          -0.4278715023691055,
          0.5122398939890646,
          -0.11651123285876328,
          0.24228686745884245,
          2.7388904967110514,
          -0.07739903639478632,
          -1.7729344017310518,
          -0.8044559993420353,
          0.32858915549721407,
          1.6938449970171683,
          0.20667478488806795,
          0.3730087418711053,
          1.2819911073395296,
          1.0994228222100382,
          -0.6375445967919214,
          -0.015269635410634546,
          1.3432161615550722,
          0.38147805069172214,
          0.8090768264403407,
          -0.2651207647914632,
          -0.16152848676210493,
          -0.7269239383533179,
          -0.6137628729964091,
          0.5453822578346342,
          3.3903895782942266,
          -0.06297500095351101,
          0.04123220659054581,
          -0.5207128486462764,
          0.529189297618538,
          -0.2932635542935991,
          -1.7590769255017142,
          0.4561990099342433,
          -1.2014994000604384,
          0.7457774415845939,
          -0.6599210785512793,
          0.49290673558060794,
          -0.09439724081832111,
          0.5776279393791839,
          0.6604600090753378,
          0.2617093580743427,
          0.7413067020176657,
          -0.1261681498761519,
          1.0310886998176432,
          -2.0567488675287304,
          1.125328876952449,
          1.3869881729229596,
          1.1651878049553273,
          -1.7468494092187064,
          -0.05160940085340369,
          -1.6270745323537221,
          -0.8729420211114243,
          -0.4416407332362468,
          0.14056114799324715,
          -0.13450494629745824,
          1.1135561248487242,
          -0.24136313385725927,
          0.2953075790841706,
          0.9533194362152135,
          0.30431001658093426,
          -0.19300675495041086,
          0.3705726709997868,
          0.27881990624938835,
          1.8364326683786332,
          0.4284722687128993,
          -1.2617417433708187,
          -1.3276369663042034,
          0.7562551076888145,
          -0.41477062335883763,
          -1.031744056577676,
          0.7731528564898905,
          0.024136114280125243,
          1.4344322176590476,
          -1.6726958453708354,
          -0.6738035330410321,
          -1.64588650160417,
          0.00019750244670672836,
          0.2418395172388969,
          -1.2328421931298899,
          0.43474031290286197,
          -0.935102556309525,
          -3.030241304070444,
          0.1630101373330067,
          -1.0259787293633311
         ]
        },
        {
         "boxpoints": false,
         "line": {
          "width": 1.3
         },
         "marker": {
          "color": "rgba(55, 128, 191, 1.0)"
         },
         "name": "B",
         "orientation": "v",
         "type": "box",
         "y": [
          3.0024849906902924,
          -0.6712017479592524,
          1.6122949489688632,
          0.048319156974700864,
          -0.7037217982582277,
          -0.7346015241816336,
          0.46733197276926874,
          -1.2163230831125607,
          -1.8376965510535215,
          -0.37220305547565036,
          0.4982038444106561,
          0.41856621895463025,
          1.440065157327684,
          0.034012958086091255,
          -0.3857573090224651,
          0.06890290989061831,
          -0.2469046756260349,
          0.5308059485294074,
          1.2798339250090698,
          -0.6612866651020235,
          -0.4309505792491207,
          0.41609482167032685,
          -1.2642759525596383,
          0.8088606095923593,
          -0.3287787352467742,
          -0.6640834034711206,
          -0.7619309954237736,
          0.4226777605230677,
          0.24979936237140168,
          0.28290305086873324,
          -0.2587768684335364,
          -1.1073499176529262,
          1.2678433641662228,
          0.7205688117833361,
          0.013101018318805328,
          1.0924839966821154,
          -1.365552472959164,
          -0.6069035061411017,
          -0.7144470408869261,
          1.0164384956684194,
          0.443418569079833,
          1.5261437417082782,
          -0.4466690260594189,
          -0.03827589074987316,
          1.8217727999067659,
          0.9210873939031335,
          -0.6617860453960066,
          0.16821137523823973,
          -0.1432853121140892,
          -2.7978845041908693,
          -0.9871087600490078,
          0.23248038532172627,
          1.24398179577353,
          -0.49018419946746145,
          0.21244678095206795,
          1.0542662813242147,
          0.41159843284465036,
          -0.3283155232768134,
          -0.14949025923677958,
          -0.9729735249688074,
          0.4689267035066989,
          0.39267582822134933,
          -0.2970338809944145,
          -0.3276061866690047,
          0.14517824094086815,
          -0.5009911239461405,
          0.2938491028086687,
          -0.05358032996194319,
          0.15824222616038994,
          -1.0316553589625612,
          -0.8889064599434631,
          -1.0109186708122362,
          0.8680587463217743,
          -0.523884874888583,
          -0.19984029864885086,
          -0.14148835743846858,
          -0.009625828651904937,
          1.2595153681009292,
          -0.7494574853190527,
          1.165196594856903,
          -0.15616145611462873,
          -0.5545374650676813,
          -1.0616810378264292,
          -1.3512784595061946,
          -1.3413189832986294,
          0.30622554758114745,
          -1.3427236915580891,
          -0.8361594218203363,
          -0.32322420311663497,
          0.6932830181946397,
          0.45785925248063436,
          -0.26482801927470795,
          -0.21506392508465094,
          -0.20592211725464296,
          0.12609007771073222,
          -1.5140332619993535,
          0.569167999467806,
          0.21077166262899988,
          -0.3175134211123909,
          0.26939347185908497
         ]
        },
        {
         "boxpoints": false,
         "line": {
          "width": 1.3
         },
         "marker": {
          "color": "rgba(50, 171, 96, 1.0)"
         },
         "name": "C",
         "orientation": "v",
         "type": "box",
         "y": [
          0.8113018159276627,
          -1.616591510992557,
          -0.34210620623359317,
          -0.1608380889424734,
          -1.5930171832968276,
          1.3163945997225097,
          0.14537021411047765,
          -0.31941598554290324,
          -0.043408673181858246,
          0.4218402251857933,
          1.0706319088453258,
          -0.0387041561845792,
          -0.6048296600038991,
          -0.25862060311070534,
          0.2805856976417199,
          -0.49357009305695704,
          0.560811157144869,
          -0.2747554426537597,
          -1.4570763926371968,
          -0.5894314407174535,
          -0.542569606893755,
          0.9695137485948544,
          1.923238732616469,
          -0.1201127967988659,
          -1.2625936436788925,
          1.4161530673322527,
          0.6928904459679615,
          0.15597596266110106,
          -0.18010509321539825,
          2.7869568632946606,
          -0.7727524579134264,
          -0.9512916232408573,
          0.6655970628864091,
          0.14320990353629576,
          -1.163233425097576,
          -1.1699505850992482,
          0.48627632840072155,
          -0.08002200140047959,
          -0.866163781622745,
          -0.7365750121239006,
          0.80107814419454,
          -0.4788418006526577,
          0.711292891715219,
          -0.45203810351847046,
          0.3897190003684126,
          2.086194939010628,
          0.4138766086155095,
          1.0147933603608388,
          -1.0706075825077774,
          0.13424782541174513,
          0.7226514491375658,
          0.43180326020643994,
          -0.6010352902596428,
          0.5133485097482706,
          -1.5185139735237612,
          -0.09325680401253154,
          1.4356914174704043,
          -0.4863913836168061,
          0.9181625178962032,
          1.1412321982521312,
          1.6518123162034772,
          -0.4626919199956366,
          -1.0088298637768962,
          1.3568492527889044,
          -0.979833248540261,
          0.9250213995648844,
          -1.2466304486588788,
          1.4031994601015796,
          -0.21998113203257877,
          -0.7253382859367504,
          0.09488617012844323,
          1.040851900292978,
          0.05093586697419843,
          -0.2675202194885947,
          -1.0655837915440298,
          0.1284908111859617,
          0.6698417823428845,
          1.0736933716461932,
          -0.0004236036007082919,
          0.8714767505757695,
          -0.9027189168019534,
          -0.08729604857291093,
          2.060039092449106,
          1.3447301921359462,
          -1.7900799649521892,
          1.64923527181763,
          0.5290034491709216,
          -0.15555846680224375,
          -0.4471044004759734,
          1.3369808740218303,
          -0.43070999832171797,
          -0.44738783149839034,
          -0.48200056242532596,
          0.9843156571561115,
          -0.9962186196879177,
          2.6606864353612916,
          -0.4343984891365146,
          0.3990878583058662,
          -0.6890321533124985,
          0.21305454433974544
         ]
        },
        {
         "boxpoints": false,
         "line": {
          "width": 1.3
         },
         "marker": {
          "color": "rgba(128, 0, 128, 1.0)"
         },
         "name": "D",
         "orientation": "v",
         "type": "box",
         "y": [
          -1.5834697851579909,
          -0.7825639756743333,
          1.5647530721653389,
          0.6665738843861724,
          0.9179070161090263,
          1.1252093153938167,
          -0.5514268406912114,
          -0.46889949285177746,
          -0.6206162760360194,
          0.2108798117613887,
          -0.3783493244783955,
          0.5042136077299458,
          -1.4586208203934794,
          1.2912723098743222,
          -0.20947923787285871,
          2.2913706160454406,
          -1.8224857607378717,
          -0.0027484726196031115,
          -0.5166730365483232,
          1.084661778503231,
          0.38368659740625566,
          -2.627459295234819,
          0.7468293470424616,
          -0.9738444590021562,
          -1.149366835113078,
          -0.5875061241460016,
          -0.9215439900308457,
          0.8269858946997607,
          0.11573647663864463,
          -1.446237192850758,
          -0.26436644873993737,
          -0.9442682068582215,
          -0.5310299833174894,
          -0.0479546733652983,
          -2.0433344715405988,
          0.22188718745946992,
          -1.129153267778444,
          -0.8485430488921378,
          0.38306254883799906,
          0.53461624832531,
          -0.3791237885566834,
          0.30272409746642337,
          0.21130593108566786,
          0.9097476628582934,
          -1.890060857566516,
          0.15313781758630732,
          -0.4448902190835499,
          -0.5395809052879742,
          -0.24286760274253633,
          1.9607760160002479,
          -0.5460757031753178,
          -0.7559482319618465,
          0.15276127622373334,
          0.09115330392890346,
          0.11936276867588004,
          -1.0380997387230315,
          1.2817698631679533,
          -1.032771814372345,
          -0.529363399194491,
          1.4760321282045017,
          0.5350437936214948,
          0.17880345684652296,
          0.011245862447948595,
          -0.9714533079896704,
          0.6572313477128922,
          -0.09810124347477055,
          -1.3487285237789288,
          0.9235965259080726,
          -0.7359193510652727,
          -1.6151096203332505,
          1.072207202252124,
          -0.39246292521949194,
          -0.5938987883601538,
          -0.5020075232295248,
          0.9928938951087263,
          -2.7691399769520904,
          -0.42403908031201104,
          2.8150882271346687,
          0.4315319751713658,
          -0.1764233652463163,
          -0.9179004761631729,
          0.6827020125608767,
          -0.7920828900921183,
          -2.466873678892425,
          0.08342115316629682,
          0.39369422006736843,
          -0.13890414142264046,
          0.24475164965416543,
          0.5541996490339449,
          0.004838809382971433,
          1.9426062212036994,
          0.15023694684415653,
          -0.18706037913695334,
          0.4696909594283362,
          0.3009907728739544,
          -0.3902225432444208,
          -1.6440593494498816,
          -0.8843173126622377,
          0.8054403212007447,
          0.24409360944427766
         ]
        }
       ],
       "layout": {
        "legend": {
         "bgcolor": "#F5F6F9",
         "font": {
          "color": "#4D5663"
         }
        },
        "paper_bgcolor": "#F5F6F9",
        "plot_bgcolor": "#F5F6F9",
        "template": {
         "data": {
          "bar": [
           {
            "error_x": {
             "color": "#2a3f5f"
            },
            "error_y": {
             "color": "#2a3f5f"
            },
            "marker": {
             "line": {
              "color": "#E5ECF6",
              "width": 0.5
             },
             "pattern": {
              "fillmode": "overlay",
              "size": 10,
              "solidity": 0.2
             }
            },
            "type": "bar"
           }
          ],
          "barpolar": [
           {
            "marker": {
             "line": {
              "color": "#E5ECF6",
              "width": 0.5
             },
             "pattern": {
              "fillmode": "overlay",
              "size": 10,
              "solidity": 0.2
             }
            },
            "type": "barpolar"
           }
          ],
          "carpet": [
           {
            "aaxis": {
             "endlinecolor": "#2a3f5f",
             "gridcolor": "white",
             "linecolor": "white",
             "minorgridcolor": "white",
             "startlinecolor": "#2a3f5f"
            },
            "baxis": {
             "endlinecolor": "#2a3f5f",
             "gridcolor": "white",
             "linecolor": "white",
             "minorgridcolor": "white",
             "startlinecolor": "#2a3f5f"
            },
            "type": "carpet"
           }
          ],
          "choropleth": [
           {
            "colorbar": {
             "outlinewidth": 0,
             "ticks": ""
            },
            "type": "choropleth"
           }
          ],
          "contour": [
           {
            "colorbar": {
             "outlinewidth": 0,
             "ticks": ""
            },
            "colorscale": [
             [
              0,
              "#0d0887"
             ],
             [
              0.1111111111111111,
              "#46039f"
             ],
             [
              0.2222222222222222,
              "#7201a8"
             ],
             [
              0.3333333333333333,
              "#9c179e"
             ],
             [
              0.4444444444444444,
              "#bd3786"
             ],
             [
              0.5555555555555556,
              "#d8576b"
             ],
             [
              0.6666666666666666,
              "#ed7953"
             ],
             [
              0.7777777777777778,
              "#fb9f3a"
             ],
             [
              0.8888888888888888,
              "#fdca26"
             ],
             [
              1,
              "#f0f921"
             ]
            ],
            "type": "contour"
           }
          ],
          "contourcarpet": [
           {
            "colorbar": {
             "outlinewidth": 0,
             "ticks": ""
            },
            "type": "contourcarpet"
           }
          ],
          "heatmap": [
           {
            "colorbar": {
             "outlinewidth": 0,
             "ticks": ""
            },
            "colorscale": [
             [
              0,
              "#0d0887"
             ],
             [
              0.1111111111111111,
              "#46039f"
             ],
             [
              0.2222222222222222,
              "#7201a8"
             ],
             [
              0.3333333333333333,
              "#9c179e"
             ],
             [
              0.4444444444444444,
              "#bd3786"
             ],
             [
              0.5555555555555556,
              "#d8576b"
             ],
             [
              0.6666666666666666,
              "#ed7953"
             ],
             [
              0.7777777777777778,
              "#fb9f3a"
             ],
             [
              0.8888888888888888,
              "#fdca26"
             ],
             [
              1,
              "#f0f921"
             ]
            ],
            "type": "heatmap"
           }
          ],
          "heatmapgl": [
           {
            "colorbar": {
             "outlinewidth": 0,
             "ticks": ""
            },
            "colorscale": [
             [
              0,
              "#0d0887"
             ],
             [
              0.1111111111111111,
              "#46039f"
             ],
             [
              0.2222222222222222,
              "#7201a8"
             ],
             [
              0.3333333333333333,
              "#9c179e"
             ],
             [
              0.4444444444444444,
              "#bd3786"
             ],
             [
              0.5555555555555556,
              "#d8576b"
             ],
             [
              0.6666666666666666,
              "#ed7953"
             ],
             [
              0.7777777777777778,
              "#fb9f3a"
             ],
             [
              0.8888888888888888,
              "#fdca26"
             ],
             [
              1,
              "#f0f921"
             ]
            ],
            "type": "heatmapgl"
           }
          ],
          "histogram": [
           {
            "marker": {
             "pattern": {
              "fillmode": "overlay",
              "size": 10,
              "solidity": 0.2
             }
            },
            "type": "histogram"
           }
          ],
          "histogram2d": [
           {
            "colorbar": {
             "outlinewidth": 0,
             "ticks": ""
            },
            "colorscale": [
             [
              0,
              "#0d0887"
             ],
             [
              0.1111111111111111,
              "#46039f"
             ],
             [
              0.2222222222222222,
              "#7201a8"
             ],
             [
              0.3333333333333333,
              "#9c179e"
             ],
             [
              0.4444444444444444,
              "#bd3786"
             ],
             [
              0.5555555555555556,
              "#d8576b"
             ],
             [
              0.6666666666666666,
              "#ed7953"
             ],
             [
              0.7777777777777778,
              "#fb9f3a"
             ],
             [
              0.8888888888888888,
              "#fdca26"
             ],
             [
              1,
              "#f0f921"
             ]
            ],
            "type": "histogram2d"
           }
          ],
          "histogram2dcontour": [
           {
            "colorbar": {
             "outlinewidth": 0,
             "ticks": ""
            },
            "colorscale": [
             [
              0,
              "#0d0887"
             ],
             [
              0.1111111111111111,
              "#46039f"
             ],
             [
              0.2222222222222222,
              "#7201a8"
             ],
             [
              0.3333333333333333,
              "#9c179e"
             ],
             [
              0.4444444444444444,
              "#bd3786"
             ],
             [
              0.5555555555555556,
              "#d8576b"
             ],
             [
              0.6666666666666666,
              "#ed7953"
             ],
             [
              0.7777777777777778,
              "#fb9f3a"
             ],
             [
              0.8888888888888888,
              "#fdca26"
             ],
             [
              1,
              "#f0f921"
             ]
            ],
            "type": "histogram2dcontour"
           }
          ],
          "mesh3d": [
           {
            "colorbar": {
             "outlinewidth": 0,
             "ticks": ""
            },
            "type": "mesh3d"
           }
          ],
          "parcoords": [
           {
            "line": {
             "colorbar": {
              "outlinewidth": 0,
              "ticks": ""
             }
            },
            "type": "parcoords"
           }
          ],
          "pie": [
           {
            "automargin": true,
            "type": "pie"
           }
          ],
          "scatter": [
           {
            "fillpattern": {
             "fillmode": "overlay",
             "size": 10,
             "solidity": 0.2
            },
            "type": "scatter"
           }
          ],
          "scatter3d": [
           {
            "line": {
             "colorbar": {
              "outlinewidth": 0,
              "ticks": ""
             }
            },
            "marker": {
             "colorbar": {
              "outlinewidth": 0,
              "ticks": ""
             }
            },
            "type": "scatter3d"
           }
          ],
          "scattercarpet": [
           {
            "marker": {
             "colorbar": {
              "outlinewidth": 0,
              "ticks": ""
             }
            },
            "type": "scattercarpet"
           }
          ],
          "scattergeo": [
           {
            "marker": {
             "colorbar": {
              "outlinewidth": 0,
              "ticks": ""
             }
            },
            "type": "scattergeo"
           }
          ],
          "scattergl": [
           {
            "marker": {
             "colorbar": {
              "outlinewidth": 0,
              "ticks": ""
             }
            },
            "type": "scattergl"
           }
          ],
          "scattermapbox": [
           {
            "marker": {
             "colorbar": {
              "outlinewidth": 0,
              "ticks": ""
             }
            },
            "type": "scattermapbox"
           }
          ],
          "scatterpolar": [
           {
            "marker": {
             "colorbar": {
              "outlinewidth": 0,
              "ticks": ""
             }
            },
            "type": "scatterpolar"
           }
          ],
          "scatterpolargl": [
           {
            "marker": {
             "colorbar": {
              "outlinewidth": 0,
              "ticks": ""
             }
            },
            "type": "scatterpolargl"
           }
          ],
          "scatterternary": [
           {
            "marker": {
             "colorbar": {
              "outlinewidth": 0,
              "ticks": ""
             }
            },
            "type": "scatterternary"
           }
          ],
          "surface": [
           {
            "colorbar": {
             "outlinewidth": 0,
             "ticks": ""
            },
            "colorscale": [
             [
              0,
              "#0d0887"
             ],
             [
              0.1111111111111111,
              "#46039f"
             ],
             [
              0.2222222222222222,
              "#7201a8"
             ],
             [
              0.3333333333333333,
              "#9c179e"
             ],
             [
              0.4444444444444444,
              "#bd3786"
             ],
             [
              0.5555555555555556,
              "#d8576b"
             ],
             [
              0.6666666666666666,
              "#ed7953"
             ],
             [
              0.7777777777777778,
              "#fb9f3a"
             ],
             [
              0.8888888888888888,
              "#fdca26"
             ],
             [
              1,
              "#f0f921"
             ]
            ],
            "type": "surface"
           }
          ],
          "table": [
           {
            "cells": {
             "fill": {
              "color": "#EBF0F8"
             },
             "line": {
              "color": "white"
             }
            },
            "header": {
             "fill": {
              "color": "#C8D4E3"
             },
             "line": {
              "color": "white"
             }
            },
            "type": "table"
           }
          ]
         },
         "layout": {
          "annotationdefaults": {
           "arrowcolor": "#2a3f5f",
           "arrowhead": 0,
           "arrowwidth": 1
          },
          "autotypenumbers": "strict",
          "coloraxis": {
           "colorbar": {
            "outlinewidth": 0,
            "ticks": ""
           }
          },
          "colorscale": {
           "diverging": [
            [
             0,
             "#8e0152"
            ],
            [
             0.1,
             "#c51b7d"
            ],
            [
             0.2,
             "#de77ae"
            ],
            [
             0.3,
             "#f1b6da"
            ],
            [
             0.4,
             "#fde0ef"
            ],
            [
             0.5,
             "#f7f7f7"
            ],
            [
             0.6,
             "#e6f5d0"
            ],
            [
             0.7,
             "#b8e186"
            ],
            [
             0.8,
             "#7fbc41"
            ],
            [
             0.9,
             "#4d9221"
            ],
            [
             1,
             "#276419"
            ]
           ],
           "sequential": [
            [
             0,
             "#0d0887"
            ],
            [
             0.1111111111111111,
             "#46039f"
            ],
            [
             0.2222222222222222,
             "#7201a8"
            ],
            [
             0.3333333333333333,
             "#9c179e"
            ],
            [
             0.4444444444444444,
             "#bd3786"
            ],
            [
             0.5555555555555556,
             "#d8576b"
            ],
            [
             0.6666666666666666,
             "#ed7953"
            ],
            [
             0.7777777777777778,
             "#fb9f3a"
            ],
            [
             0.8888888888888888,
             "#fdca26"
            ],
            [
             1,
             "#f0f921"
            ]
           ],
           "sequentialminus": [
            [
             0,
             "#0d0887"
            ],
            [
             0.1111111111111111,
             "#46039f"
            ],
            [
             0.2222222222222222,
             "#7201a8"
            ],
            [
             0.3333333333333333,
             "#9c179e"
            ],
            [
             0.4444444444444444,
             "#bd3786"
            ],
            [
             0.5555555555555556,
             "#d8576b"
            ],
            [
             0.6666666666666666,
             "#ed7953"
            ],
            [
             0.7777777777777778,
             "#fb9f3a"
            ],
            [
             0.8888888888888888,
             "#fdca26"
            ],
            [
             1,
             "#f0f921"
            ]
           ]
          },
          "colorway": [
           "#636efa",
           "#EF553B",
           "#00cc96",
           "#ab63fa",
           "#FFA15A",
           "#19d3f3",
           "#FF6692",
           "#B6E880",
           "#FF97FF",
           "#FECB52"
          ],
          "font": {
           "color": "#2a3f5f"
          },
          "geo": {
           "bgcolor": "white",
           "lakecolor": "white",
           "landcolor": "#E5ECF6",
           "showlakes": true,
           "showland": true,
           "subunitcolor": "white"
          },
          "hoverlabel": {
           "align": "left"
          },
          "hovermode": "closest",
          "mapbox": {
           "style": "light"
          },
          "paper_bgcolor": "white",
          "plot_bgcolor": "#E5ECF6",
          "polar": {
           "angularaxis": {
            "gridcolor": "white",
            "linecolor": "white",
            "ticks": ""
           },
           "bgcolor": "#E5ECF6",
           "radialaxis": {
            "gridcolor": "white",
            "linecolor": "white",
            "ticks": ""
           }
          },
          "scene": {
           "xaxis": {
            "backgroundcolor": "#E5ECF6",
            "gridcolor": "white",
            "gridwidth": 2,
            "linecolor": "white",
            "showbackground": true,
            "ticks": "",
            "zerolinecolor": "white"
           },
           "yaxis": {
            "backgroundcolor": "#E5ECF6",
            "gridcolor": "white",
            "gridwidth": 2,
            "linecolor": "white",
            "showbackground": true,
            "ticks": "",
            "zerolinecolor": "white"
           },
           "zaxis": {
            "backgroundcolor": "#E5ECF6",
            "gridcolor": "white",
            "gridwidth": 2,
            "linecolor": "white",
            "showbackground": true,
            "ticks": "",
            "zerolinecolor": "white"
           }
          },
          "shapedefaults": {
           "line": {
            "color": "#2a3f5f"
           }
          },
          "ternary": {
           "aaxis": {
            "gridcolor": "white",
            "linecolor": "white",
            "ticks": ""
           },
           "baxis": {
            "gridcolor": "white",
            "linecolor": "white",
            "ticks": ""
           },
           "bgcolor": "#E5ECF6",
           "caxis": {
            "gridcolor": "white",
            "linecolor": "white",
            "ticks": ""
           }
          },
          "title": {
           "x": 0.05
          },
          "xaxis": {
           "automargin": true,
           "gridcolor": "white",
           "linecolor": "white",
           "ticks": "",
           "title": {
            "standoff": 15
           },
           "zerolinecolor": "white",
           "zerolinewidth": 2
          },
          "yaxis": {
           "automargin": true,
           "gridcolor": "white",
           "linecolor": "white",
           "ticks": "",
           "title": {
            "standoff": 15
           },
           "zerolinecolor": "white",
           "zerolinewidth": 2
          }
         }
        },
        "title": {
         "font": {
          "color": "#4D5663"
         }
        },
        "xaxis": {
         "gridcolor": "#E1E5ED",
         "showgrid": true,
         "tickfont": {
          "color": "#4D5663"
         },
         "title": {
          "font": {
           "color": "#4D5663"
          },
          "text": ""
         },
         "zerolinecolor": "#E1E5ED"
        },
        "yaxis": {
         "gridcolor": "#E1E5ED",
         "showgrid": true,
         "tickfont": {
          "color": "#4D5663"
         },
         "title": {
          "font": {
           "color": "#4D5663"
          },
          "text": ""
         },
         "zerolinecolor": "#E1E5ED"
        }
       }
      },
      "text/html": [
       "<div>                            <div id=\"416b0b22-34af-421e-9772-caecbe2c5cbd\" class=\"plotly-graph-div\" style=\"height:525px; width:100%;\"></div>            <script type=\"text/javascript\">                require([\"plotly\"], function(Plotly) {                    window.PLOTLYENV=window.PLOTLYENV || {};\n",
       "                    window.PLOTLYENV.BASE_URL='https://plot.ly';                                    if (document.getElementById(\"416b0b22-34af-421e-9772-caecbe2c5cbd\")) {                    Plotly.newPlot(                        \"416b0b22-34af-421e-9772-caecbe2c5cbd\",                        [{\"boxpoints\":false,\"line\":{\"width\":1.3},\"marker\":{\"color\":\"rgba(255, 153, 51, 1.0)\"},\"name\":\"A\",\"orientation\":\"v\",\"y\":[-0.7459921802284659,-0.2985331193711804,-0.5923070930794322,1.0241349657605285,1.3474652422939397,-0.3306346733325379,0.12698460532380978,-1.2396216588120965,1.4135882069108947,-0.4340229477075488,-2.1086061405379892,0.6650868623623832,-0.9392383681720982,-0.8012157757144039,0.3556419166568355,0.17027391249413223,1.2373283151950252,-0.4278715023691055,0.5122398939890646,-0.11651123285876328,0.24228686745884245,2.7388904967110514,-0.07739903639478632,-1.7729344017310518,-0.8044559993420353,0.32858915549721407,1.6938449970171683,0.20667478488806795,0.3730087418711053,1.2819911073395296,1.0994228222100382,-0.6375445967919214,-0.015269635410634546,1.3432161615550722,0.38147805069172214,0.8090768264403407,-0.2651207647914632,-0.16152848676210493,-0.7269239383533179,-0.6137628729964091,0.5453822578346342,3.3903895782942266,-0.06297500095351101,0.04123220659054581,-0.5207128486462764,0.529189297618538,-0.2932635542935991,-1.7590769255017142,0.4561990099342433,-1.2014994000604384,0.7457774415845939,-0.6599210785512793,0.49290673558060794,-0.09439724081832111,0.5776279393791839,0.6604600090753378,0.2617093580743427,0.7413067020176657,-0.1261681498761519,1.0310886998176432,-2.0567488675287304,1.125328876952449,1.3869881729229596,1.1651878049553273,-1.7468494092187064,-0.05160940085340369,-1.6270745323537221,-0.8729420211114243,-0.4416407332362468,0.14056114799324715,-0.13450494629745824,1.1135561248487242,-0.24136313385725927,0.2953075790841706,0.9533194362152135,0.30431001658093426,-0.19300675495041086,0.3705726709997868,0.27881990624938835,1.8364326683786332,0.4284722687128993,-1.2617417433708187,-1.3276369663042034,0.7562551076888145,-0.41477062335883763,-1.031744056577676,0.7731528564898905,0.024136114280125243,1.4344322176590476,-1.6726958453708354,-0.6738035330410321,-1.64588650160417,0.00019750244670672836,0.2418395172388969,-1.2328421931298899,0.43474031290286197,-0.935102556309525,-3.030241304070444,0.1630101373330067,-1.0259787293633311],\"type\":\"box\"},{\"boxpoints\":false,\"line\":{\"width\":1.3},\"marker\":{\"color\":\"rgba(55, 128, 191, 1.0)\"},\"name\":\"B\",\"orientation\":\"v\",\"y\":[3.0024849906902924,-0.6712017479592524,1.6122949489688632,0.048319156974700864,-0.7037217982582277,-0.7346015241816336,0.46733197276926874,-1.2163230831125607,-1.8376965510535215,-0.37220305547565036,0.4982038444106561,0.41856621895463025,1.440065157327684,0.034012958086091255,-0.3857573090224651,0.06890290989061831,-0.2469046756260349,0.5308059485294074,1.2798339250090698,-0.6612866651020235,-0.4309505792491207,0.41609482167032685,-1.2642759525596383,0.8088606095923593,-0.3287787352467742,-0.6640834034711206,-0.7619309954237736,0.4226777605230677,0.24979936237140168,0.28290305086873324,-0.2587768684335364,-1.1073499176529262,1.2678433641662228,0.7205688117833361,0.013101018318805328,1.0924839966821154,-1.365552472959164,-0.6069035061411017,-0.7144470408869261,1.0164384956684194,0.443418569079833,1.5261437417082782,-0.4466690260594189,-0.03827589074987316,1.8217727999067659,0.9210873939031335,-0.6617860453960066,0.16821137523823973,-0.1432853121140892,-2.7978845041908693,-0.9871087600490078,0.23248038532172627,1.24398179577353,-0.49018419946746145,0.21244678095206795,1.0542662813242147,0.41159843284465036,-0.3283155232768134,-0.14949025923677958,-0.9729735249688074,0.4689267035066989,0.39267582822134933,-0.2970338809944145,-0.3276061866690047,0.14517824094086815,-0.5009911239461405,0.2938491028086687,-0.05358032996194319,0.15824222616038994,-1.0316553589625612,-0.8889064599434631,-1.0109186708122362,0.8680587463217743,-0.523884874888583,-0.19984029864885086,-0.14148835743846858,-0.009625828651904937,1.2595153681009292,-0.7494574853190527,1.165196594856903,-0.15616145611462873,-0.5545374650676813,-1.0616810378264292,-1.3512784595061946,-1.3413189832986294,0.30622554758114745,-1.3427236915580891,-0.8361594218203363,-0.32322420311663497,0.6932830181946397,0.45785925248063436,-0.26482801927470795,-0.21506392508465094,-0.20592211725464296,0.12609007771073222,-1.5140332619993535,0.569167999467806,0.21077166262899988,-0.3175134211123909,0.26939347185908497],\"type\":\"box\"},{\"boxpoints\":false,\"line\":{\"width\":1.3},\"marker\":{\"color\":\"rgba(50, 171, 96, 1.0)\"},\"name\":\"C\",\"orientation\":\"v\",\"y\":[0.8113018159276627,-1.616591510992557,-0.34210620623359317,-0.1608380889424734,-1.5930171832968276,1.3163945997225097,0.14537021411047765,-0.31941598554290324,-0.043408673181858246,0.4218402251857933,1.0706319088453258,-0.0387041561845792,-0.6048296600038991,-0.25862060311070534,0.2805856976417199,-0.49357009305695704,0.560811157144869,-0.2747554426537597,-1.4570763926371968,-0.5894314407174535,-0.542569606893755,0.9695137485948544,1.923238732616469,-0.1201127967988659,-1.2625936436788925,1.4161530673322527,0.6928904459679615,0.15597596266110106,-0.18010509321539825,2.7869568632946606,-0.7727524579134264,-0.9512916232408573,0.6655970628864091,0.14320990353629576,-1.163233425097576,-1.1699505850992482,0.48627632840072155,-0.08002200140047959,-0.866163781622745,-0.7365750121239006,0.80107814419454,-0.4788418006526577,0.711292891715219,-0.45203810351847046,0.3897190003684126,2.086194939010628,0.4138766086155095,1.0147933603608388,-1.0706075825077774,0.13424782541174513,0.7226514491375658,0.43180326020643994,-0.6010352902596428,0.5133485097482706,-1.5185139735237612,-0.09325680401253154,1.4356914174704043,-0.4863913836168061,0.9181625178962032,1.1412321982521312,1.6518123162034772,-0.4626919199956366,-1.0088298637768962,1.3568492527889044,-0.979833248540261,0.9250213995648844,-1.2466304486588788,1.4031994601015796,-0.21998113203257877,-0.7253382859367504,0.09488617012844323,1.040851900292978,0.05093586697419843,-0.2675202194885947,-1.0655837915440298,0.1284908111859617,0.6698417823428845,1.0736933716461932,-0.0004236036007082919,0.8714767505757695,-0.9027189168019534,-0.08729604857291093,2.060039092449106,1.3447301921359462,-1.7900799649521892,1.64923527181763,0.5290034491709216,-0.15555846680224375,-0.4471044004759734,1.3369808740218303,-0.43070999832171797,-0.44738783149839034,-0.48200056242532596,0.9843156571561115,-0.9962186196879177,2.6606864353612916,-0.4343984891365146,0.3990878583058662,-0.6890321533124985,0.21305454433974544],\"type\":\"box\"},{\"boxpoints\":false,\"line\":{\"width\":1.3},\"marker\":{\"color\":\"rgba(128, 0, 128, 1.0)\"},\"name\":\"D\",\"orientation\":\"v\",\"y\":[-1.5834697851579909,-0.7825639756743333,1.5647530721653389,0.6665738843861724,0.9179070161090263,1.1252093153938167,-0.5514268406912114,-0.46889949285177746,-0.6206162760360194,0.2108798117613887,-0.3783493244783955,0.5042136077299458,-1.4586208203934794,1.2912723098743222,-0.20947923787285871,2.2913706160454406,-1.8224857607378717,-0.0027484726196031115,-0.5166730365483232,1.084661778503231,0.38368659740625566,-2.627459295234819,0.7468293470424616,-0.9738444590021562,-1.149366835113078,-0.5875061241460016,-0.9215439900308457,0.8269858946997607,0.11573647663864463,-1.446237192850758,-0.26436644873993737,-0.9442682068582215,-0.5310299833174894,-0.0479546733652983,-2.0433344715405988,0.22188718745946992,-1.129153267778444,-0.8485430488921378,0.38306254883799906,0.53461624832531,-0.3791237885566834,0.30272409746642337,0.21130593108566786,0.9097476628582934,-1.890060857566516,0.15313781758630732,-0.4448902190835499,-0.5395809052879742,-0.24286760274253633,1.9607760160002479,-0.5460757031753178,-0.7559482319618465,0.15276127622373334,0.09115330392890346,0.11936276867588004,-1.0380997387230315,1.2817698631679533,-1.032771814372345,-0.529363399194491,1.4760321282045017,0.5350437936214948,0.17880345684652296,0.011245862447948595,-0.9714533079896704,0.6572313477128922,-0.09810124347477055,-1.3487285237789288,0.9235965259080726,-0.7359193510652727,-1.6151096203332505,1.072207202252124,-0.39246292521949194,-0.5938987883601538,-0.5020075232295248,0.9928938951087263,-2.7691399769520904,-0.42403908031201104,2.8150882271346687,0.4315319751713658,-0.1764233652463163,-0.9179004761631729,0.6827020125608767,-0.7920828900921183,-2.466873678892425,0.08342115316629682,0.39369422006736843,-0.13890414142264046,0.24475164965416543,0.5541996490339449,0.004838809382971433,1.9426062212036994,0.15023694684415653,-0.18706037913695334,0.4696909594283362,0.3009907728739544,-0.3902225432444208,-1.6440593494498816,-0.8843173126622377,0.8054403212007447,0.24409360944427766],\"type\":\"box\"}],                        {\"legend\":{\"bgcolor\":\"#F5F6F9\",\"font\":{\"color\":\"#4D5663\"}},\"paper_bgcolor\":\"#F5F6F9\",\"plot_bgcolor\":\"#F5F6F9\",\"template\":{\"data\":{\"barpolar\":[{\"marker\":{\"line\":{\"color\":\"#E5ECF6\",\"width\":0.5},\"pattern\":{\"fillmode\":\"overlay\",\"size\":10,\"solidity\":0.2}},\"type\":\"barpolar\"}],\"bar\":[{\"error_x\":{\"color\":\"#2a3f5f\"},\"error_y\":{\"color\":\"#2a3f5f\"},\"marker\":{\"line\":{\"color\":\"#E5ECF6\",\"width\":0.5},\"pattern\":{\"fillmode\":\"overlay\",\"size\":10,\"solidity\":0.2}},\"type\":\"bar\"}],\"carpet\":[{\"aaxis\":{\"endlinecolor\":\"#2a3f5f\",\"gridcolor\":\"white\",\"linecolor\":\"white\",\"minorgridcolor\":\"white\",\"startlinecolor\":\"#2a3f5f\"},\"baxis\":{\"endlinecolor\":\"#2a3f5f\",\"gridcolor\":\"white\",\"linecolor\":\"white\",\"minorgridcolor\":\"white\",\"startlinecolor\":\"#2a3f5f\"},\"type\":\"carpet\"}],\"choropleth\":[{\"colorbar\":{\"outlinewidth\":0,\"ticks\":\"\"},\"type\":\"choropleth\"}],\"contourcarpet\":[{\"colorbar\":{\"outlinewidth\":0,\"ticks\":\"\"},\"type\":\"contourcarpet\"}],\"contour\":[{\"colorbar\":{\"outlinewidth\":0,\"ticks\":\"\"},\"colorscale\":[[0.0,\"#0d0887\"],[0.1111111111111111,\"#46039f\"],[0.2222222222222222,\"#7201a8\"],[0.3333333333333333,\"#9c179e\"],[0.4444444444444444,\"#bd3786\"],[0.5555555555555556,\"#d8576b\"],[0.6666666666666666,\"#ed7953\"],[0.7777777777777778,\"#fb9f3a\"],[0.8888888888888888,\"#fdca26\"],[1.0,\"#f0f921\"]],\"type\":\"contour\"}],\"heatmapgl\":[{\"colorbar\":{\"outlinewidth\":0,\"ticks\":\"\"},\"colorscale\":[[0.0,\"#0d0887\"],[0.1111111111111111,\"#46039f\"],[0.2222222222222222,\"#7201a8\"],[0.3333333333333333,\"#9c179e\"],[0.4444444444444444,\"#bd3786\"],[0.5555555555555556,\"#d8576b\"],[0.6666666666666666,\"#ed7953\"],[0.7777777777777778,\"#fb9f3a\"],[0.8888888888888888,\"#fdca26\"],[1.0,\"#f0f921\"]],\"type\":\"heatmapgl\"}],\"heatmap\":[{\"colorbar\":{\"outlinewidth\":0,\"ticks\":\"\"},\"colorscale\":[[0.0,\"#0d0887\"],[0.1111111111111111,\"#46039f\"],[0.2222222222222222,\"#7201a8\"],[0.3333333333333333,\"#9c179e\"],[0.4444444444444444,\"#bd3786\"],[0.5555555555555556,\"#d8576b\"],[0.6666666666666666,\"#ed7953\"],[0.7777777777777778,\"#fb9f3a\"],[0.8888888888888888,\"#fdca26\"],[1.0,\"#f0f921\"]],\"type\":\"heatmap\"}],\"histogram2dcontour\":[{\"colorbar\":{\"outlinewidth\":0,\"ticks\":\"\"},\"colorscale\":[[0.0,\"#0d0887\"],[0.1111111111111111,\"#46039f\"],[0.2222222222222222,\"#7201a8\"],[0.3333333333333333,\"#9c179e\"],[0.4444444444444444,\"#bd3786\"],[0.5555555555555556,\"#d8576b\"],[0.6666666666666666,\"#ed7953\"],[0.7777777777777778,\"#fb9f3a\"],[0.8888888888888888,\"#fdca26\"],[1.0,\"#f0f921\"]],\"type\":\"histogram2dcontour\"}],\"histogram2d\":[{\"colorbar\":{\"outlinewidth\":0,\"ticks\":\"\"},\"colorscale\":[[0.0,\"#0d0887\"],[0.1111111111111111,\"#46039f\"],[0.2222222222222222,\"#7201a8\"],[0.3333333333333333,\"#9c179e\"],[0.4444444444444444,\"#bd3786\"],[0.5555555555555556,\"#d8576b\"],[0.6666666666666666,\"#ed7953\"],[0.7777777777777778,\"#fb9f3a\"],[0.8888888888888888,\"#fdca26\"],[1.0,\"#f0f921\"]],\"type\":\"histogram2d\"}],\"histogram\":[{\"marker\":{\"pattern\":{\"fillmode\":\"overlay\",\"size\":10,\"solidity\":0.2}},\"type\":\"histogram\"}],\"mesh3d\":[{\"colorbar\":{\"outlinewidth\":0,\"ticks\":\"\"},\"type\":\"mesh3d\"}],\"parcoords\":[{\"line\":{\"colorbar\":{\"outlinewidth\":0,\"ticks\":\"\"}},\"type\":\"parcoords\"}],\"pie\":[{\"automargin\":true,\"type\":\"pie\"}],\"scatter3d\":[{\"line\":{\"colorbar\":{\"outlinewidth\":0,\"ticks\":\"\"}},\"marker\":{\"colorbar\":{\"outlinewidth\":0,\"ticks\":\"\"}},\"type\":\"scatter3d\"}],\"scattercarpet\":[{\"marker\":{\"colorbar\":{\"outlinewidth\":0,\"ticks\":\"\"}},\"type\":\"scattercarpet\"}],\"scattergeo\":[{\"marker\":{\"colorbar\":{\"outlinewidth\":0,\"ticks\":\"\"}},\"type\":\"scattergeo\"}],\"scattergl\":[{\"marker\":{\"colorbar\":{\"outlinewidth\":0,\"ticks\":\"\"}},\"type\":\"scattergl\"}],\"scattermapbox\":[{\"marker\":{\"colorbar\":{\"outlinewidth\":0,\"ticks\":\"\"}},\"type\":\"scattermapbox\"}],\"scatterpolargl\":[{\"marker\":{\"colorbar\":{\"outlinewidth\":0,\"ticks\":\"\"}},\"type\":\"scatterpolargl\"}],\"scatterpolar\":[{\"marker\":{\"colorbar\":{\"outlinewidth\":0,\"ticks\":\"\"}},\"type\":\"scatterpolar\"}],\"scatter\":[{\"fillpattern\":{\"fillmode\":\"overlay\",\"size\":10,\"solidity\":0.2},\"type\":\"scatter\"}],\"scatterternary\":[{\"marker\":{\"colorbar\":{\"outlinewidth\":0,\"ticks\":\"\"}},\"type\":\"scatterternary\"}],\"surface\":[{\"colorbar\":{\"outlinewidth\":0,\"ticks\":\"\"},\"colorscale\":[[0.0,\"#0d0887\"],[0.1111111111111111,\"#46039f\"],[0.2222222222222222,\"#7201a8\"],[0.3333333333333333,\"#9c179e\"],[0.4444444444444444,\"#bd3786\"],[0.5555555555555556,\"#d8576b\"],[0.6666666666666666,\"#ed7953\"],[0.7777777777777778,\"#fb9f3a\"],[0.8888888888888888,\"#fdca26\"],[1.0,\"#f0f921\"]],\"type\":\"surface\"}],\"table\":[{\"cells\":{\"fill\":{\"color\":\"#EBF0F8\"},\"line\":{\"color\":\"white\"}},\"header\":{\"fill\":{\"color\":\"#C8D4E3\"},\"line\":{\"color\":\"white\"}},\"type\":\"table\"}]},\"layout\":{\"annotationdefaults\":{\"arrowcolor\":\"#2a3f5f\",\"arrowhead\":0,\"arrowwidth\":1},\"autotypenumbers\":\"strict\",\"coloraxis\":{\"colorbar\":{\"outlinewidth\":0,\"ticks\":\"\"}},\"colorscale\":{\"diverging\":[[0,\"#8e0152\"],[0.1,\"#c51b7d\"],[0.2,\"#de77ae\"],[0.3,\"#f1b6da\"],[0.4,\"#fde0ef\"],[0.5,\"#f7f7f7\"],[0.6,\"#e6f5d0\"],[0.7,\"#b8e186\"],[0.8,\"#7fbc41\"],[0.9,\"#4d9221\"],[1,\"#276419\"]],\"sequential\":[[0.0,\"#0d0887\"],[0.1111111111111111,\"#46039f\"],[0.2222222222222222,\"#7201a8\"],[0.3333333333333333,\"#9c179e\"],[0.4444444444444444,\"#bd3786\"],[0.5555555555555556,\"#d8576b\"],[0.6666666666666666,\"#ed7953\"],[0.7777777777777778,\"#fb9f3a\"],[0.8888888888888888,\"#fdca26\"],[1.0,\"#f0f921\"]],\"sequentialminus\":[[0.0,\"#0d0887\"],[0.1111111111111111,\"#46039f\"],[0.2222222222222222,\"#7201a8\"],[0.3333333333333333,\"#9c179e\"],[0.4444444444444444,\"#bd3786\"],[0.5555555555555556,\"#d8576b\"],[0.6666666666666666,\"#ed7953\"],[0.7777777777777778,\"#fb9f3a\"],[0.8888888888888888,\"#fdca26\"],[1.0,\"#f0f921\"]]},\"colorway\":[\"#636efa\",\"#EF553B\",\"#00cc96\",\"#ab63fa\",\"#FFA15A\",\"#19d3f3\",\"#FF6692\",\"#B6E880\",\"#FF97FF\",\"#FECB52\"],\"font\":{\"color\":\"#2a3f5f\"},\"geo\":{\"bgcolor\":\"white\",\"lakecolor\":\"white\",\"landcolor\":\"#E5ECF6\",\"showlakes\":true,\"showland\":true,\"subunitcolor\":\"white\"},\"hoverlabel\":{\"align\":\"left\"},\"hovermode\":\"closest\",\"mapbox\":{\"style\":\"light\"},\"paper_bgcolor\":\"white\",\"plot_bgcolor\":\"#E5ECF6\",\"polar\":{\"angularaxis\":{\"gridcolor\":\"white\",\"linecolor\":\"white\",\"ticks\":\"\"},\"bgcolor\":\"#E5ECF6\",\"radialaxis\":{\"gridcolor\":\"white\",\"linecolor\":\"white\",\"ticks\":\"\"}},\"scene\":{\"xaxis\":{\"backgroundcolor\":\"#E5ECF6\",\"gridcolor\":\"white\",\"gridwidth\":2,\"linecolor\":\"white\",\"showbackground\":true,\"ticks\":\"\",\"zerolinecolor\":\"white\"},\"yaxis\":{\"backgroundcolor\":\"#E5ECF6\",\"gridcolor\":\"white\",\"gridwidth\":2,\"linecolor\":\"white\",\"showbackground\":true,\"ticks\":\"\",\"zerolinecolor\":\"white\"},\"zaxis\":{\"backgroundcolor\":\"#E5ECF6\",\"gridcolor\":\"white\",\"gridwidth\":2,\"linecolor\":\"white\",\"showbackground\":true,\"ticks\":\"\",\"zerolinecolor\":\"white\"}},\"shapedefaults\":{\"line\":{\"color\":\"#2a3f5f\"}},\"ternary\":{\"aaxis\":{\"gridcolor\":\"white\",\"linecolor\":\"white\",\"ticks\":\"\"},\"baxis\":{\"gridcolor\":\"white\",\"linecolor\":\"white\",\"ticks\":\"\"},\"bgcolor\":\"#E5ECF6\",\"caxis\":{\"gridcolor\":\"white\",\"linecolor\":\"white\",\"ticks\":\"\"}},\"title\":{\"x\":0.05},\"xaxis\":{\"automargin\":true,\"gridcolor\":\"white\",\"linecolor\":\"white\",\"ticks\":\"\",\"title\":{\"standoff\":15},\"zerolinecolor\":\"white\",\"zerolinewidth\":2},\"yaxis\":{\"automargin\":true,\"gridcolor\":\"white\",\"linecolor\":\"white\",\"ticks\":\"\",\"title\":{\"standoff\":15},\"zerolinecolor\":\"white\",\"zerolinewidth\":2}}},\"title\":{\"font\":{\"color\":\"#4D5663\"}},\"xaxis\":{\"gridcolor\":\"#E1E5ED\",\"showgrid\":true,\"tickfont\":{\"color\":\"#4D5663\"},\"title\":{\"font\":{\"color\":\"#4D5663\"},\"text\":\"\"},\"zerolinecolor\":\"#E1E5ED\"},\"yaxis\":{\"gridcolor\":\"#E1E5ED\",\"showgrid\":true,\"tickfont\":{\"color\":\"#4D5663\"},\"title\":{\"font\":{\"color\":\"#4D5663\"},\"text\":\"\"},\"zerolinecolor\":\"#E1E5ED\"}},                        {\"showLink\": true, \"linkText\": \"Export to plot.ly\", \"plotlyServerURL\": \"https://plot.ly\", \"responsive\": true}                    ).then(function(){\n",
       "                            \n",
       "var gd = document.getElementById('416b0b22-34af-421e-9772-caecbe2c5cbd');\n",
       "var x = new MutationObserver(function (mutations, observer) {{\n",
       "        var display = window.getComputedStyle(gd).display;\n",
       "        if (!display || display === 'none') {{\n",
       "            console.log([gd, 'removed!']);\n",
       "            Plotly.purge(gd);\n",
       "            observer.disconnect();\n",
       "        }}\n",
       "}});\n",
       "\n",
       "// Listen for the removal of the full notebook cells\n",
       "var notebookContainer = gd.closest('#notebook-container');\n",
       "if (notebookContainer) {{\n",
       "    x.observe(notebookContainer, {childList: true});\n",
       "}}\n",
       "\n",
       "// Listen for the clearing of the current output cell\n",
       "var outputEl = gd.closest('.output');\n",
       "if (outputEl) {{\n",
       "    x.observe(outputEl, {childList: true});\n",
       "}}\n",
       "\n",
       "                        })                };                });            </script>        </div>"
      ]
     },
     "metadata": {},
     "output_type": "display_data"
    }
   ],
   "source": [
    "df.iplot(kind='box')"
   ]
  },
  {
   "cell_type": "markdown",
   "metadata": {},
   "source": [
    "## Superficie 3D"
   ]
  },
  {
   "cell_type": "code",
   "execution_count": 16,
   "metadata": {},
   "outputs": [
    {
     "data": {
      "application/vnd.plotly.v1+json": {
       "config": {
        "linkText": "Export to plot.ly",
        "plotlyServerURL": "https://plot.ly",
        "showLink": true
       },
       "data": [
        {
         "colorscale": [
          [
           0,
           "rgb(165,0,38)"
          ],
          [
           0.1,
           "rgb(215,48,39)"
          ],
          [
           0.2,
           "rgb(244,109,67)"
          ],
          [
           0.3,
           "rgb(253,174,97)"
          ],
          [
           0.4,
           "rgb(254,224,144)"
          ],
          [
           0.5,
           "rgb(255,255,191)"
          ],
          [
           0.6,
           "rgb(224,243,248)"
          ],
          [
           0.7,
           "rgb(171,217,233)"
          ],
          [
           0.8,
           "rgb(116,173,209)"
          ],
          [
           0.9,
           "rgb(69,117,180)"
          ],
          [
           1,
           "rgb(49,54,149)"
          ]
         ],
         "type": "surface",
         "x": [
          0,
          1,
          2,
          3,
          4
         ],
         "y": [
          "x",
          "y",
          "z"
         ],
         "z": [
          [
           1,
           2,
           3,
           4,
           5
          ],
          [
           10,
           20,
           30,
           20,
           10
          ],
          [
           5,
           4,
           3,
           2,
           1
          ]
         ]
        }
       ],
       "layout": {
        "legend": {
         "bgcolor": "#F5F6F9",
         "font": {
          "color": "#4D5663"
         }
        },
        "paper_bgcolor": "#F5F6F9",
        "plot_bgcolor": "#F5F6F9",
        "template": {
         "data": {
          "bar": [
           {
            "error_x": {
             "color": "#2a3f5f"
            },
            "error_y": {
             "color": "#2a3f5f"
            },
            "marker": {
             "line": {
              "color": "#E5ECF6",
              "width": 0.5
             },
             "pattern": {
              "fillmode": "overlay",
              "size": 10,
              "solidity": 0.2
             }
            },
            "type": "bar"
           }
          ],
          "barpolar": [
           {
            "marker": {
             "line": {
              "color": "#E5ECF6",
              "width": 0.5
             },
             "pattern": {
              "fillmode": "overlay",
              "size": 10,
              "solidity": 0.2
             }
            },
            "type": "barpolar"
           }
          ],
          "carpet": [
           {
            "aaxis": {
             "endlinecolor": "#2a3f5f",
             "gridcolor": "white",
             "linecolor": "white",
             "minorgridcolor": "white",
             "startlinecolor": "#2a3f5f"
            },
            "baxis": {
             "endlinecolor": "#2a3f5f",
             "gridcolor": "white",
             "linecolor": "white",
             "minorgridcolor": "white",
             "startlinecolor": "#2a3f5f"
            },
            "type": "carpet"
           }
          ],
          "choropleth": [
           {
            "colorbar": {
             "outlinewidth": 0,
             "ticks": ""
            },
            "type": "choropleth"
           }
          ],
          "contour": [
           {
            "colorbar": {
             "outlinewidth": 0,
             "ticks": ""
            },
            "colorscale": [
             [
              0,
              "#0d0887"
             ],
             [
              0.1111111111111111,
              "#46039f"
             ],
             [
              0.2222222222222222,
              "#7201a8"
             ],
             [
              0.3333333333333333,
              "#9c179e"
             ],
             [
              0.4444444444444444,
              "#bd3786"
             ],
             [
              0.5555555555555556,
              "#d8576b"
             ],
             [
              0.6666666666666666,
              "#ed7953"
             ],
             [
              0.7777777777777778,
              "#fb9f3a"
             ],
             [
              0.8888888888888888,
              "#fdca26"
             ],
             [
              1,
              "#f0f921"
             ]
            ],
            "type": "contour"
           }
          ],
          "contourcarpet": [
           {
            "colorbar": {
             "outlinewidth": 0,
             "ticks": ""
            },
            "type": "contourcarpet"
           }
          ],
          "heatmap": [
           {
            "colorbar": {
             "outlinewidth": 0,
             "ticks": ""
            },
            "colorscale": [
             [
              0,
              "#0d0887"
             ],
             [
              0.1111111111111111,
              "#46039f"
             ],
             [
              0.2222222222222222,
              "#7201a8"
             ],
             [
              0.3333333333333333,
              "#9c179e"
             ],
             [
              0.4444444444444444,
              "#bd3786"
             ],
             [
              0.5555555555555556,
              "#d8576b"
             ],
             [
              0.6666666666666666,
              "#ed7953"
             ],
             [
              0.7777777777777778,
              "#fb9f3a"
             ],
             [
              0.8888888888888888,
              "#fdca26"
             ],
             [
              1,
              "#f0f921"
             ]
            ],
            "type": "heatmap"
           }
          ],
          "heatmapgl": [
           {
            "colorbar": {
             "outlinewidth": 0,
             "ticks": ""
            },
            "colorscale": [
             [
              0,
              "#0d0887"
             ],
             [
              0.1111111111111111,
              "#46039f"
             ],
             [
              0.2222222222222222,
              "#7201a8"
             ],
             [
              0.3333333333333333,
              "#9c179e"
             ],
             [
              0.4444444444444444,
              "#bd3786"
             ],
             [
              0.5555555555555556,
              "#d8576b"
             ],
             [
              0.6666666666666666,
              "#ed7953"
             ],
             [
              0.7777777777777778,
              "#fb9f3a"
             ],
             [
              0.8888888888888888,
              "#fdca26"
             ],
             [
              1,
              "#f0f921"
             ]
            ],
            "type": "heatmapgl"
           }
          ],
          "histogram": [
           {
            "marker": {
             "pattern": {
              "fillmode": "overlay",
              "size": 10,
              "solidity": 0.2
             }
            },
            "type": "histogram"
           }
          ],
          "histogram2d": [
           {
            "colorbar": {
             "outlinewidth": 0,
             "ticks": ""
            },
            "colorscale": [
             [
              0,
              "#0d0887"
             ],
             [
              0.1111111111111111,
              "#46039f"
             ],
             [
              0.2222222222222222,
              "#7201a8"
             ],
             [
              0.3333333333333333,
              "#9c179e"
             ],
             [
              0.4444444444444444,
              "#bd3786"
             ],
             [
              0.5555555555555556,
              "#d8576b"
             ],
             [
              0.6666666666666666,
              "#ed7953"
             ],
             [
              0.7777777777777778,
              "#fb9f3a"
             ],
             [
              0.8888888888888888,
              "#fdca26"
             ],
             [
              1,
              "#f0f921"
             ]
            ],
            "type": "histogram2d"
           }
          ],
          "histogram2dcontour": [
           {
            "colorbar": {
             "outlinewidth": 0,
             "ticks": ""
            },
            "colorscale": [
             [
              0,
              "#0d0887"
             ],
             [
              0.1111111111111111,
              "#46039f"
             ],
             [
              0.2222222222222222,
              "#7201a8"
             ],
             [
              0.3333333333333333,
              "#9c179e"
             ],
             [
              0.4444444444444444,
              "#bd3786"
             ],
             [
              0.5555555555555556,
              "#d8576b"
             ],
             [
              0.6666666666666666,
              "#ed7953"
             ],
             [
              0.7777777777777778,
              "#fb9f3a"
             ],
             [
              0.8888888888888888,
              "#fdca26"
             ],
             [
              1,
              "#f0f921"
             ]
            ],
            "type": "histogram2dcontour"
           }
          ],
          "mesh3d": [
           {
            "colorbar": {
             "outlinewidth": 0,
             "ticks": ""
            },
            "type": "mesh3d"
           }
          ],
          "parcoords": [
           {
            "line": {
             "colorbar": {
              "outlinewidth": 0,
              "ticks": ""
             }
            },
            "type": "parcoords"
           }
          ],
          "pie": [
           {
            "automargin": true,
            "type": "pie"
           }
          ],
          "scatter": [
           {
            "fillpattern": {
             "fillmode": "overlay",
             "size": 10,
             "solidity": 0.2
            },
            "type": "scatter"
           }
          ],
          "scatter3d": [
           {
            "line": {
             "colorbar": {
              "outlinewidth": 0,
              "ticks": ""
             }
            },
            "marker": {
             "colorbar": {
              "outlinewidth": 0,
              "ticks": ""
             }
            },
            "type": "scatter3d"
           }
          ],
          "scattercarpet": [
           {
            "marker": {
             "colorbar": {
              "outlinewidth": 0,
              "ticks": ""
             }
            },
            "type": "scattercarpet"
           }
          ],
          "scattergeo": [
           {
            "marker": {
             "colorbar": {
              "outlinewidth": 0,
              "ticks": ""
             }
            },
            "type": "scattergeo"
           }
          ],
          "scattergl": [
           {
            "marker": {
             "colorbar": {
              "outlinewidth": 0,
              "ticks": ""
             }
            },
            "type": "scattergl"
           }
          ],
          "scattermapbox": [
           {
            "marker": {
             "colorbar": {
              "outlinewidth": 0,
              "ticks": ""
             }
            },
            "type": "scattermapbox"
           }
          ],
          "scatterpolar": [
           {
            "marker": {
             "colorbar": {
              "outlinewidth": 0,
              "ticks": ""
             }
            },
            "type": "scatterpolar"
           }
          ],
          "scatterpolargl": [
           {
            "marker": {
             "colorbar": {
              "outlinewidth": 0,
              "ticks": ""
             }
            },
            "type": "scatterpolargl"
           }
          ],
          "scatterternary": [
           {
            "marker": {
             "colorbar": {
              "outlinewidth": 0,
              "ticks": ""
             }
            },
            "type": "scatterternary"
           }
          ],
          "surface": [
           {
            "colorbar": {
             "outlinewidth": 0,
             "ticks": ""
            },
            "colorscale": [
             [
              0,
              "#0d0887"
             ],
             [
              0.1111111111111111,
              "#46039f"
             ],
             [
              0.2222222222222222,
              "#7201a8"
             ],
             [
              0.3333333333333333,
              "#9c179e"
             ],
             [
              0.4444444444444444,
              "#bd3786"
             ],
             [
              0.5555555555555556,
              "#d8576b"
             ],
             [
              0.6666666666666666,
              "#ed7953"
             ],
             [
              0.7777777777777778,
              "#fb9f3a"
             ],
             [
              0.8888888888888888,
              "#fdca26"
             ],
             [
              1,
              "#f0f921"
             ]
            ],
            "type": "surface"
           }
          ],
          "table": [
           {
            "cells": {
             "fill": {
              "color": "#EBF0F8"
             },
             "line": {
              "color": "white"
             }
            },
            "header": {
             "fill": {
              "color": "#C8D4E3"
             },
             "line": {
              "color": "white"
             }
            },
            "type": "table"
           }
          ]
         },
         "layout": {
          "annotationdefaults": {
           "arrowcolor": "#2a3f5f",
           "arrowhead": 0,
           "arrowwidth": 1
          },
          "autotypenumbers": "strict",
          "coloraxis": {
           "colorbar": {
            "outlinewidth": 0,
            "ticks": ""
           }
          },
          "colorscale": {
           "diverging": [
            [
             0,
             "#8e0152"
            ],
            [
             0.1,
             "#c51b7d"
            ],
            [
             0.2,
             "#de77ae"
            ],
            [
             0.3,
             "#f1b6da"
            ],
            [
             0.4,
             "#fde0ef"
            ],
            [
             0.5,
             "#f7f7f7"
            ],
            [
             0.6,
             "#e6f5d0"
            ],
            [
             0.7,
             "#b8e186"
            ],
            [
             0.8,
             "#7fbc41"
            ],
            [
             0.9,
             "#4d9221"
            ],
            [
             1,
             "#276419"
            ]
           ],
           "sequential": [
            [
             0,
             "#0d0887"
            ],
            [
             0.1111111111111111,
             "#46039f"
            ],
            [
             0.2222222222222222,
             "#7201a8"
            ],
            [
             0.3333333333333333,
             "#9c179e"
            ],
            [
             0.4444444444444444,
             "#bd3786"
            ],
            [
             0.5555555555555556,
             "#d8576b"
            ],
            [
             0.6666666666666666,
             "#ed7953"
            ],
            [
             0.7777777777777778,
             "#fb9f3a"
            ],
            [
             0.8888888888888888,
             "#fdca26"
            ],
            [
             1,
             "#f0f921"
            ]
           ],
           "sequentialminus": [
            [
             0,
             "#0d0887"
            ],
            [
             0.1111111111111111,
             "#46039f"
            ],
            [
             0.2222222222222222,
             "#7201a8"
            ],
            [
             0.3333333333333333,
             "#9c179e"
            ],
            [
             0.4444444444444444,
             "#bd3786"
            ],
            [
             0.5555555555555556,
             "#d8576b"
            ],
            [
             0.6666666666666666,
             "#ed7953"
            ],
            [
             0.7777777777777778,
             "#fb9f3a"
            ],
            [
             0.8888888888888888,
             "#fdca26"
            ],
            [
             1,
             "#f0f921"
            ]
           ]
          },
          "colorway": [
           "#636efa",
           "#EF553B",
           "#00cc96",
           "#ab63fa",
           "#FFA15A",
           "#19d3f3",
           "#FF6692",
           "#B6E880",
           "#FF97FF",
           "#FECB52"
          ],
          "font": {
           "color": "#2a3f5f"
          },
          "geo": {
           "bgcolor": "white",
           "lakecolor": "white",
           "landcolor": "#E5ECF6",
           "showlakes": true,
           "showland": true,
           "subunitcolor": "white"
          },
          "hoverlabel": {
           "align": "left"
          },
          "hovermode": "closest",
          "mapbox": {
           "style": "light"
          },
          "paper_bgcolor": "white",
          "plot_bgcolor": "#E5ECF6",
          "polar": {
           "angularaxis": {
            "gridcolor": "white",
            "linecolor": "white",
            "ticks": ""
           },
           "bgcolor": "#E5ECF6",
           "radialaxis": {
            "gridcolor": "white",
            "linecolor": "white",
            "ticks": ""
           }
          },
          "scene": {
           "xaxis": {
            "backgroundcolor": "#E5ECF6",
            "gridcolor": "white",
            "gridwidth": 2,
            "linecolor": "white",
            "showbackground": true,
            "ticks": "",
            "zerolinecolor": "white"
           },
           "yaxis": {
            "backgroundcolor": "#E5ECF6",
            "gridcolor": "white",
            "gridwidth": 2,
            "linecolor": "white",
            "showbackground": true,
            "ticks": "",
            "zerolinecolor": "white"
           },
           "zaxis": {
            "backgroundcolor": "#E5ECF6",
            "gridcolor": "white",
            "gridwidth": 2,
            "linecolor": "white",
            "showbackground": true,
            "ticks": "",
            "zerolinecolor": "white"
           }
          },
          "shapedefaults": {
           "line": {
            "color": "#2a3f5f"
           }
          },
          "ternary": {
           "aaxis": {
            "gridcolor": "white",
            "linecolor": "white",
            "ticks": ""
           },
           "baxis": {
            "gridcolor": "white",
            "linecolor": "white",
            "ticks": ""
           },
           "bgcolor": "#E5ECF6",
           "caxis": {
            "gridcolor": "white",
            "linecolor": "white",
            "ticks": ""
           }
          },
          "title": {
           "x": 0.05
          },
          "xaxis": {
           "automargin": true,
           "gridcolor": "white",
           "linecolor": "white",
           "ticks": "",
           "title": {
            "standoff": 15
           },
           "zerolinecolor": "white",
           "zerolinewidth": 2
          },
          "yaxis": {
           "automargin": true,
           "gridcolor": "white",
           "linecolor": "white",
           "ticks": "",
           "title": {
            "standoff": 15
           },
           "zerolinecolor": "white",
           "zerolinewidth": 2
          }
         }
        },
        "title": {
         "font": {
          "color": "#4D5663"
         }
        },
        "xaxis": {
         "gridcolor": "#E1E5ED",
         "showgrid": true,
         "tickfont": {
          "color": "#4D5663"
         },
         "title": {
          "font": {
           "color": "#4D5663"
          },
          "text": ""
         },
         "zerolinecolor": "#E1E5ED"
        },
        "yaxis": {
         "gridcolor": "#E1E5ED",
         "showgrid": true,
         "tickfont": {
          "color": "#4D5663"
         },
         "title": {
          "font": {
           "color": "#4D5663"
          },
          "text": ""
         },
         "zerolinecolor": "#E1E5ED"
        }
       }
      },
      "text/html": [
       "<div>                            <div id=\"2662d351-43a5-4e0b-83cb-9d9c7643f96f\" class=\"plotly-graph-div\" style=\"height:525px; width:100%;\"></div>            <script type=\"text/javascript\">                require([\"plotly\"], function(Plotly) {                    window.PLOTLYENV=window.PLOTLYENV || {};\n",
       "                    window.PLOTLYENV.BASE_URL='https://plot.ly';                                    if (document.getElementById(\"2662d351-43a5-4e0b-83cb-9d9c7643f96f\")) {                    Plotly.newPlot(                        \"2662d351-43a5-4e0b-83cb-9d9c7643f96f\",                        [{\"colorscale\":[[0.0,\"rgb(165,0,38)\"],[0.1,\"rgb(215,48,39)\"],[0.2,\"rgb(244,109,67)\"],[0.3,\"rgb(253,174,97)\"],[0.4,\"rgb(254,224,144)\"],[0.5,\"rgb(255,255,191)\"],[0.6,\"rgb(224,243,248)\"],[0.7,\"rgb(171,217,233)\"],[0.8,\"rgb(116,173,209)\"],[0.9,\"rgb(69,117,180)\"],[1.0,\"rgb(49,54,149)\"]],\"x\":[0,1,2,3,4],\"y\":[\"x\",\"y\",\"z\"],\"z\":[[1,2,3,4,5],[10,20,30,20,10],[5,4,3,2,1]],\"type\":\"surface\"}],                        {\"legend\":{\"bgcolor\":\"#F5F6F9\",\"font\":{\"color\":\"#4D5663\"}},\"paper_bgcolor\":\"#F5F6F9\",\"plot_bgcolor\":\"#F5F6F9\",\"template\":{\"data\":{\"barpolar\":[{\"marker\":{\"line\":{\"color\":\"#E5ECF6\",\"width\":0.5},\"pattern\":{\"fillmode\":\"overlay\",\"size\":10,\"solidity\":0.2}},\"type\":\"barpolar\"}],\"bar\":[{\"error_x\":{\"color\":\"#2a3f5f\"},\"error_y\":{\"color\":\"#2a3f5f\"},\"marker\":{\"line\":{\"color\":\"#E5ECF6\",\"width\":0.5},\"pattern\":{\"fillmode\":\"overlay\",\"size\":10,\"solidity\":0.2}},\"type\":\"bar\"}],\"carpet\":[{\"aaxis\":{\"endlinecolor\":\"#2a3f5f\",\"gridcolor\":\"white\",\"linecolor\":\"white\",\"minorgridcolor\":\"white\",\"startlinecolor\":\"#2a3f5f\"},\"baxis\":{\"endlinecolor\":\"#2a3f5f\",\"gridcolor\":\"white\",\"linecolor\":\"white\",\"minorgridcolor\":\"white\",\"startlinecolor\":\"#2a3f5f\"},\"type\":\"carpet\"}],\"choropleth\":[{\"colorbar\":{\"outlinewidth\":0,\"ticks\":\"\"},\"type\":\"choropleth\"}],\"contourcarpet\":[{\"colorbar\":{\"outlinewidth\":0,\"ticks\":\"\"},\"type\":\"contourcarpet\"}],\"contour\":[{\"colorbar\":{\"outlinewidth\":0,\"ticks\":\"\"},\"colorscale\":[[0.0,\"#0d0887\"],[0.1111111111111111,\"#46039f\"],[0.2222222222222222,\"#7201a8\"],[0.3333333333333333,\"#9c179e\"],[0.4444444444444444,\"#bd3786\"],[0.5555555555555556,\"#d8576b\"],[0.6666666666666666,\"#ed7953\"],[0.7777777777777778,\"#fb9f3a\"],[0.8888888888888888,\"#fdca26\"],[1.0,\"#f0f921\"]],\"type\":\"contour\"}],\"heatmapgl\":[{\"colorbar\":{\"outlinewidth\":0,\"ticks\":\"\"},\"colorscale\":[[0.0,\"#0d0887\"],[0.1111111111111111,\"#46039f\"],[0.2222222222222222,\"#7201a8\"],[0.3333333333333333,\"#9c179e\"],[0.4444444444444444,\"#bd3786\"],[0.5555555555555556,\"#d8576b\"],[0.6666666666666666,\"#ed7953\"],[0.7777777777777778,\"#fb9f3a\"],[0.8888888888888888,\"#fdca26\"],[1.0,\"#f0f921\"]],\"type\":\"heatmapgl\"}],\"heatmap\":[{\"colorbar\":{\"outlinewidth\":0,\"ticks\":\"\"},\"colorscale\":[[0.0,\"#0d0887\"],[0.1111111111111111,\"#46039f\"],[0.2222222222222222,\"#7201a8\"],[0.3333333333333333,\"#9c179e\"],[0.4444444444444444,\"#bd3786\"],[0.5555555555555556,\"#d8576b\"],[0.6666666666666666,\"#ed7953\"],[0.7777777777777778,\"#fb9f3a\"],[0.8888888888888888,\"#fdca26\"],[1.0,\"#f0f921\"]],\"type\":\"heatmap\"}],\"histogram2dcontour\":[{\"colorbar\":{\"outlinewidth\":0,\"ticks\":\"\"},\"colorscale\":[[0.0,\"#0d0887\"],[0.1111111111111111,\"#46039f\"],[0.2222222222222222,\"#7201a8\"],[0.3333333333333333,\"#9c179e\"],[0.4444444444444444,\"#bd3786\"],[0.5555555555555556,\"#d8576b\"],[0.6666666666666666,\"#ed7953\"],[0.7777777777777778,\"#fb9f3a\"],[0.8888888888888888,\"#fdca26\"],[1.0,\"#f0f921\"]],\"type\":\"histogram2dcontour\"}],\"histogram2d\":[{\"colorbar\":{\"outlinewidth\":0,\"ticks\":\"\"},\"colorscale\":[[0.0,\"#0d0887\"],[0.1111111111111111,\"#46039f\"],[0.2222222222222222,\"#7201a8\"],[0.3333333333333333,\"#9c179e\"],[0.4444444444444444,\"#bd3786\"],[0.5555555555555556,\"#d8576b\"],[0.6666666666666666,\"#ed7953\"],[0.7777777777777778,\"#fb9f3a\"],[0.8888888888888888,\"#fdca26\"],[1.0,\"#f0f921\"]],\"type\":\"histogram2d\"}],\"histogram\":[{\"marker\":{\"pattern\":{\"fillmode\":\"overlay\",\"size\":10,\"solidity\":0.2}},\"type\":\"histogram\"}],\"mesh3d\":[{\"colorbar\":{\"outlinewidth\":0,\"ticks\":\"\"},\"type\":\"mesh3d\"}],\"parcoords\":[{\"line\":{\"colorbar\":{\"outlinewidth\":0,\"ticks\":\"\"}},\"type\":\"parcoords\"}],\"pie\":[{\"automargin\":true,\"type\":\"pie\"}],\"scatter3d\":[{\"line\":{\"colorbar\":{\"outlinewidth\":0,\"ticks\":\"\"}},\"marker\":{\"colorbar\":{\"outlinewidth\":0,\"ticks\":\"\"}},\"type\":\"scatter3d\"}],\"scattercarpet\":[{\"marker\":{\"colorbar\":{\"outlinewidth\":0,\"ticks\":\"\"}},\"type\":\"scattercarpet\"}],\"scattergeo\":[{\"marker\":{\"colorbar\":{\"outlinewidth\":0,\"ticks\":\"\"}},\"type\":\"scattergeo\"}],\"scattergl\":[{\"marker\":{\"colorbar\":{\"outlinewidth\":0,\"ticks\":\"\"}},\"type\":\"scattergl\"}],\"scattermapbox\":[{\"marker\":{\"colorbar\":{\"outlinewidth\":0,\"ticks\":\"\"}},\"type\":\"scattermapbox\"}],\"scatterpolargl\":[{\"marker\":{\"colorbar\":{\"outlinewidth\":0,\"ticks\":\"\"}},\"type\":\"scatterpolargl\"}],\"scatterpolar\":[{\"marker\":{\"colorbar\":{\"outlinewidth\":0,\"ticks\":\"\"}},\"type\":\"scatterpolar\"}],\"scatter\":[{\"fillpattern\":{\"fillmode\":\"overlay\",\"size\":10,\"solidity\":0.2},\"type\":\"scatter\"}],\"scatterternary\":[{\"marker\":{\"colorbar\":{\"outlinewidth\":0,\"ticks\":\"\"}},\"type\":\"scatterternary\"}],\"surface\":[{\"colorbar\":{\"outlinewidth\":0,\"ticks\":\"\"},\"colorscale\":[[0.0,\"#0d0887\"],[0.1111111111111111,\"#46039f\"],[0.2222222222222222,\"#7201a8\"],[0.3333333333333333,\"#9c179e\"],[0.4444444444444444,\"#bd3786\"],[0.5555555555555556,\"#d8576b\"],[0.6666666666666666,\"#ed7953\"],[0.7777777777777778,\"#fb9f3a\"],[0.8888888888888888,\"#fdca26\"],[1.0,\"#f0f921\"]],\"type\":\"surface\"}],\"table\":[{\"cells\":{\"fill\":{\"color\":\"#EBF0F8\"},\"line\":{\"color\":\"white\"}},\"header\":{\"fill\":{\"color\":\"#C8D4E3\"},\"line\":{\"color\":\"white\"}},\"type\":\"table\"}]},\"layout\":{\"annotationdefaults\":{\"arrowcolor\":\"#2a3f5f\",\"arrowhead\":0,\"arrowwidth\":1},\"autotypenumbers\":\"strict\",\"coloraxis\":{\"colorbar\":{\"outlinewidth\":0,\"ticks\":\"\"}},\"colorscale\":{\"diverging\":[[0,\"#8e0152\"],[0.1,\"#c51b7d\"],[0.2,\"#de77ae\"],[0.3,\"#f1b6da\"],[0.4,\"#fde0ef\"],[0.5,\"#f7f7f7\"],[0.6,\"#e6f5d0\"],[0.7,\"#b8e186\"],[0.8,\"#7fbc41\"],[0.9,\"#4d9221\"],[1,\"#276419\"]],\"sequential\":[[0.0,\"#0d0887\"],[0.1111111111111111,\"#46039f\"],[0.2222222222222222,\"#7201a8\"],[0.3333333333333333,\"#9c179e\"],[0.4444444444444444,\"#bd3786\"],[0.5555555555555556,\"#d8576b\"],[0.6666666666666666,\"#ed7953\"],[0.7777777777777778,\"#fb9f3a\"],[0.8888888888888888,\"#fdca26\"],[1.0,\"#f0f921\"]],\"sequentialminus\":[[0.0,\"#0d0887\"],[0.1111111111111111,\"#46039f\"],[0.2222222222222222,\"#7201a8\"],[0.3333333333333333,\"#9c179e\"],[0.4444444444444444,\"#bd3786\"],[0.5555555555555556,\"#d8576b\"],[0.6666666666666666,\"#ed7953\"],[0.7777777777777778,\"#fb9f3a\"],[0.8888888888888888,\"#fdca26\"],[1.0,\"#f0f921\"]]},\"colorway\":[\"#636efa\",\"#EF553B\",\"#00cc96\",\"#ab63fa\",\"#FFA15A\",\"#19d3f3\",\"#FF6692\",\"#B6E880\",\"#FF97FF\",\"#FECB52\"],\"font\":{\"color\":\"#2a3f5f\"},\"geo\":{\"bgcolor\":\"white\",\"lakecolor\":\"white\",\"landcolor\":\"#E5ECF6\",\"showlakes\":true,\"showland\":true,\"subunitcolor\":\"white\"},\"hoverlabel\":{\"align\":\"left\"},\"hovermode\":\"closest\",\"mapbox\":{\"style\":\"light\"},\"paper_bgcolor\":\"white\",\"plot_bgcolor\":\"#E5ECF6\",\"polar\":{\"angularaxis\":{\"gridcolor\":\"white\",\"linecolor\":\"white\",\"ticks\":\"\"},\"bgcolor\":\"#E5ECF6\",\"radialaxis\":{\"gridcolor\":\"white\",\"linecolor\":\"white\",\"ticks\":\"\"}},\"scene\":{\"xaxis\":{\"backgroundcolor\":\"#E5ECF6\",\"gridcolor\":\"white\",\"gridwidth\":2,\"linecolor\":\"white\",\"showbackground\":true,\"ticks\":\"\",\"zerolinecolor\":\"white\"},\"yaxis\":{\"backgroundcolor\":\"#E5ECF6\",\"gridcolor\":\"white\",\"gridwidth\":2,\"linecolor\":\"white\",\"showbackground\":true,\"ticks\":\"\",\"zerolinecolor\":\"white\"},\"zaxis\":{\"backgroundcolor\":\"#E5ECF6\",\"gridcolor\":\"white\",\"gridwidth\":2,\"linecolor\":\"white\",\"showbackground\":true,\"ticks\":\"\",\"zerolinecolor\":\"white\"}},\"shapedefaults\":{\"line\":{\"color\":\"#2a3f5f\"}},\"ternary\":{\"aaxis\":{\"gridcolor\":\"white\",\"linecolor\":\"white\",\"ticks\":\"\"},\"baxis\":{\"gridcolor\":\"white\",\"linecolor\":\"white\",\"ticks\":\"\"},\"bgcolor\":\"#E5ECF6\",\"caxis\":{\"gridcolor\":\"white\",\"linecolor\":\"white\",\"ticks\":\"\"}},\"title\":{\"x\":0.05},\"xaxis\":{\"automargin\":true,\"gridcolor\":\"white\",\"linecolor\":\"white\",\"ticks\":\"\",\"title\":{\"standoff\":15},\"zerolinecolor\":\"white\",\"zerolinewidth\":2},\"yaxis\":{\"automargin\":true,\"gridcolor\":\"white\",\"linecolor\":\"white\",\"ticks\":\"\",\"title\":{\"standoff\":15},\"zerolinecolor\":\"white\",\"zerolinewidth\":2}}},\"title\":{\"font\":{\"color\":\"#4D5663\"}},\"xaxis\":{\"gridcolor\":\"#E1E5ED\",\"showgrid\":true,\"tickfont\":{\"color\":\"#4D5663\"},\"title\":{\"font\":{\"color\":\"#4D5663\"},\"text\":\"\"},\"zerolinecolor\":\"#E1E5ED\"},\"yaxis\":{\"gridcolor\":\"#E1E5ED\",\"showgrid\":true,\"tickfont\":{\"color\":\"#4D5663\"},\"title\":{\"font\":{\"color\":\"#4D5663\"},\"text\":\"\"},\"zerolinecolor\":\"#E1E5ED\"}},                        {\"showLink\": true, \"linkText\": \"Export to plot.ly\", \"plotlyServerURL\": \"https://plot.ly\", \"responsive\": true}                    ).then(function(){\n",
       "                            \n",
       "var gd = document.getElementById('2662d351-43a5-4e0b-83cb-9d9c7643f96f');\n",
       "var x = new MutationObserver(function (mutations, observer) {{\n",
       "        var display = window.getComputedStyle(gd).display;\n",
       "        if (!display || display === 'none') {{\n",
       "            console.log([gd, 'removed!']);\n",
       "            Plotly.purge(gd);\n",
       "            observer.disconnect();\n",
       "        }}\n",
       "}});\n",
       "\n",
       "// Listen for the removal of the full notebook cells\n",
       "var notebookContainer = gd.closest('#notebook-container');\n",
       "if (notebookContainer) {{\n",
       "    x.observe(notebookContainer, {childList: true});\n",
       "}}\n",
       "\n",
       "// Listen for the clearing of the current output cell\n",
       "var outputEl = gd.closest('.output');\n",
       "if (outputEl) {{\n",
       "    x.observe(outputEl, {childList: true});\n",
       "}}\n",
       "\n",
       "                        })                };                });            </script>        </div>"
      ]
     },
     "metadata": {},
     "output_type": "display_data"
    }
   ],
   "source": [
    "df3 = pd.DataFrame({'x':[1,2,3,4,5],'y':[10,20,30,20,10],'z':[5,4,3,2,1]})\n",
    "df3.iplot(kind='surface',colorscale='rdylbu')"
   ]
  },
  {
   "cell_type": "markdown",
   "metadata": {},
   "source": [
    "## histogram"
   ]
  },
  {
   "cell_type": "code",
   "execution_count": 17,
   "metadata": {},
   "outputs": [
    {
     "data": {
      "application/vnd.plotly.v1+json": {
       "config": {
        "linkText": "Export to plot.ly",
        "plotlyServerURL": "https://plot.ly",
        "showLink": true
       },
       "data": [
        {
         "histfunc": "count",
         "histnorm": "",
         "marker": {
          "color": "rgba(255, 153, 51, 1.0)",
          "line": {
           "color": "#4D5663",
           "width": 1.3
          }
         },
         "name": "A",
         "nbinsx": 25,
         "opacity": 0.8,
         "orientation": "v",
         "type": "histogram",
         "x": [
          -0.7459921802284659,
          -0.2985331193711804,
          -0.5923070930794322,
          1.0241349657605285,
          1.3474652422939397,
          -0.3306346733325379,
          0.12698460532380978,
          -1.2396216588120965,
          1.4135882069108947,
          -0.4340229477075488,
          -2.1086061405379892,
          0.6650868623623832,
          -0.9392383681720982,
          -0.8012157757144039,
          0.3556419166568355,
          0.17027391249413223,
          1.2373283151950252,
          -0.4278715023691055,
          0.5122398939890646,
          -0.11651123285876328,
          0.24228686745884245,
          2.7388904967110514,
          -0.07739903639478632,
          -1.7729344017310518,
          -0.8044559993420353,
          0.32858915549721407,
          1.6938449970171683,
          0.20667478488806795,
          0.3730087418711053,
          1.2819911073395296,
          1.0994228222100382,
          -0.6375445967919214,
          -0.015269635410634546,
          1.3432161615550722,
          0.38147805069172214,
          0.8090768264403407,
          -0.2651207647914632,
          -0.16152848676210493,
          -0.7269239383533179,
          -0.6137628729964091,
          0.5453822578346342,
          3.3903895782942266,
          -0.06297500095351101,
          0.04123220659054581,
          -0.5207128486462764,
          0.529189297618538,
          -0.2932635542935991,
          -1.7590769255017142,
          0.4561990099342433,
          -1.2014994000604384,
          0.7457774415845939,
          -0.6599210785512793,
          0.49290673558060794,
          -0.09439724081832111,
          0.5776279393791839,
          0.6604600090753378,
          0.2617093580743427,
          0.7413067020176657,
          -0.1261681498761519,
          1.0310886998176432,
          -2.0567488675287304,
          1.125328876952449,
          1.3869881729229596,
          1.1651878049553273,
          -1.7468494092187064,
          -0.05160940085340369,
          -1.6270745323537221,
          -0.8729420211114243,
          -0.4416407332362468,
          0.14056114799324715,
          -0.13450494629745824,
          1.1135561248487242,
          -0.24136313385725927,
          0.2953075790841706,
          0.9533194362152135,
          0.30431001658093426,
          -0.19300675495041086,
          0.3705726709997868,
          0.27881990624938835,
          1.8364326683786332,
          0.4284722687128993,
          -1.2617417433708187,
          -1.3276369663042034,
          0.7562551076888145,
          -0.41477062335883763,
          -1.031744056577676,
          0.7731528564898905,
          0.024136114280125243,
          1.4344322176590476,
          -1.6726958453708354,
          -0.6738035330410321,
          -1.64588650160417,
          0.00019750244670672836,
          0.2418395172388969,
          -1.2328421931298899,
          0.43474031290286197,
          -0.935102556309525,
          -3.030241304070444,
          0.1630101373330067,
          -1.0259787293633311
         ]
        }
       ],
       "layout": {
        "barmode": "overlay",
        "legend": {
         "bgcolor": "#F5F6F9",
         "font": {
          "color": "#4D5663"
         }
        },
        "paper_bgcolor": "#F5F6F9",
        "plot_bgcolor": "#F5F6F9",
        "template": {
         "data": {
          "bar": [
           {
            "error_x": {
             "color": "#2a3f5f"
            },
            "error_y": {
             "color": "#2a3f5f"
            },
            "marker": {
             "line": {
              "color": "#E5ECF6",
              "width": 0.5
             },
             "pattern": {
              "fillmode": "overlay",
              "size": 10,
              "solidity": 0.2
             }
            },
            "type": "bar"
           }
          ],
          "barpolar": [
           {
            "marker": {
             "line": {
              "color": "#E5ECF6",
              "width": 0.5
             },
             "pattern": {
              "fillmode": "overlay",
              "size": 10,
              "solidity": 0.2
             }
            },
            "type": "barpolar"
           }
          ],
          "carpet": [
           {
            "aaxis": {
             "endlinecolor": "#2a3f5f",
             "gridcolor": "white",
             "linecolor": "white",
             "minorgridcolor": "white",
             "startlinecolor": "#2a3f5f"
            },
            "baxis": {
             "endlinecolor": "#2a3f5f",
             "gridcolor": "white",
             "linecolor": "white",
             "minorgridcolor": "white",
             "startlinecolor": "#2a3f5f"
            },
            "type": "carpet"
           }
          ],
          "choropleth": [
           {
            "colorbar": {
             "outlinewidth": 0,
             "ticks": ""
            },
            "type": "choropleth"
           }
          ],
          "contour": [
           {
            "colorbar": {
             "outlinewidth": 0,
             "ticks": ""
            },
            "colorscale": [
             [
              0,
              "#0d0887"
             ],
             [
              0.1111111111111111,
              "#46039f"
             ],
             [
              0.2222222222222222,
              "#7201a8"
             ],
             [
              0.3333333333333333,
              "#9c179e"
             ],
             [
              0.4444444444444444,
              "#bd3786"
             ],
             [
              0.5555555555555556,
              "#d8576b"
             ],
             [
              0.6666666666666666,
              "#ed7953"
             ],
             [
              0.7777777777777778,
              "#fb9f3a"
             ],
             [
              0.8888888888888888,
              "#fdca26"
             ],
             [
              1,
              "#f0f921"
             ]
            ],
            "type": "contour"
           }
          ],
          "contourcarpet": [
           {
            "colorbar": {
             "outlinewidth": 0,
             "ticks": ""
            },
            "type": "contourcarpet"
           }
          ],
          "heatmap": [
           {
            "colorbar": {
             "outlinewidth": 0,
             "ticks": ""
            },
            "colorscale": [
             [
              0,
              "#0d0887"
             ],
             [
              0.1111111111111111,
              "#46039f"
             ],
             [
              0.2222222222222222,
              "#7201a8"
             ],
             [
              0.3333333333333333,
              "#9c179e"
             ],
             [
              0.4444444444444444,
              "#bd3786"
             ],
             [
              0.5555555555555556,
              "#d8576b"
             ],
             [
              0.6666666666666666,
              "#ed7953"
             ],
             [
              0.7777777777777778,
              "#fb9f3a"
             ],
             [
              0.8888888888888888,
              "#fdca26"
             ],
             [
              1,
              "#f0f921"
             ]
            ],
            "type": "heatmap"
           }
          ],
          "heatmapgl": [
           {
            "colorbar": {
             "outlinewidth": 0,
             "ticks": ""
            },
            "colorscale": [
             [
              0,
              "#0d0887"
             ],
             [
              0.1111111111111111,
              "#46039f"
             ],
             [
              0.2222222222222222,
              "#7201a8"
             ],
             [
              0.3333333333333333,
              "#9c179e"
             ],
             [
              0.4444444444444444,
              "#bd3786"
             ],
             [
              0.5555555555555556,
              "#d8576b"
             ],
             [
              0.6666666666666666,
              "#ed7953"
             ],
             [
              0.7777777777777778,
              "#fb9f3a"
             ],
             [
              0.8888888888888888,
              "#fdca26"
             ],
             [
              1,
              "#f0f921"
             ]
            ],
            "type": "heatmapgl"
           }
          ],
          "histogram": [
           {
            "marker": {
             "pattern": {
              "fillmode": "overlay",
              "size": 10,
              "solidity": 0.2
             }
            },
            "type": "histogram"
           }
          ],
          "histogram2d": [
           {
            "colorbar": {
             "outlinewidth": 0,
             "ticks": ""
            },
            "colorscale": [
             [
              0,
              "#0d0887"
             ],
             [
              0.1111111111111111,
              "#46039f"
             ],
             [
              0.2222222222222222,
              "#7201a8"
             ],
             [
              0.3333333333333333,
              "#9c179e"
             ],
             [
              0.4444444444444444,
              "#bd3786"
             ],
             [
              0.5555555555555556,
              "#d8576b"
             ],
             [
              0.6666666666666666,
              "#ed7953"
             ],
             [
              0.7777777777777778,
              "#fb9f3a"
             ],
             [
              0.8888888888888888,
              "#fdca26"
             ],
             [
              1,
              "#f0f921"
             ]
            ],
            "type": "histogram2d"
           }
          ],
          "histogram2dcontour": [
           {
            "colorbar": {
             "outlinewidth": 0,
             "ticks": ""
            },
            "colorscale": [
             [
              0,
              "#0d0887"
             ],
             [
              0.1111111111111111,
              "#46039f"
             ],
             [
              0.2222222222222222,
              "#7201a8"
             ],
             [
              0.3333333333333333,
              "#9c179e"
             ],
             [
              0.4444444444444444,
              "#bd3786"
             ],
             [
              0.5555555555555556,
              "#d8576b"
             ],
             [
              0.6666666666666666,
              "#ed7953"
             ],
             [
              0.7777777777777778,
              "#fb9f3a"
             ],
             [
              0.8888888888888888,
              "#fdca26"
             ],
             [
              1,
              "#f0f921"
             ]
            ],
            "type": "histogram2dcontour"
           }
          ],
          "mesh3d": [
           {
            "colorbar": {
             "outlinewidth": 0,
             "ticks": ""
            },
            "type": "mesh3d"
           }
          ],
          "parcoords": [
           {
            "line": {
             "colorbar": {
              "outlinewidth": 0,
              "ticks": ""
             }
            },
            "type": "parcoords"
           }
          ],
          "pie": [
           {
            "automargin": true,
            "type": "pie"
           }
          ],
          "scatter": [
           {
            "fillpattern": {
             "fillmode": "overlay",
             "size": 10,
             "solidity": 0.2
            },
            "type": "scatter"
           }
          ],
          "scatter3d": [
           {
            "line": {
             "colorbar": {
              "outlinewidth": 0,
              "ticks": ""
             }
            },
            "marker": {
             "colorbar": {
              "outlinewidth": 0,
              "ticks": ""
             }
            },
            "type": "scatter3d"
           }
          ],
          "scattercarpet": [
           {
            "marker": {
             "colorbar": {
              "outlinewidth": 0,
              "ticks": ""
             }
            },
            "type": "scattercarpet"
           }
          ],
          "scattergeo": [
           {
            "marker": {
             "colorbar": {
              "outlinewidth": 0,
              "ticks": ""
             }
            },
            "type": "scattergeo"
           }
          ],
          "scattergl": [
           {
            "marker": {
             "colorbar": {
              "outlinewidth": 0,
              "ticks": ""
             }
            },
            "type": "scattergl"
           }
          ],
          "scattermapbox": [
           {
            "marker": {
             "colorbar": {
              "outlinewidth": 0,
              "ticks": ""
             }
            },
            "type": "scattermapbox"
           }
          ],
          "scatterpolar": [
           {
            "marker": {
             "colorbar": {
              "outlinewidth": 0,
              "ticks": ""
             }
            },
            "type": "scatterpolar"
           }
          ],
          "scatterpolargl": [
           {
            "marker": {
             "colorbar": {
              "outlinewidth": 0,
              "ticks": ""
             }
            },
            "type": "scatterpolargl"
           }
          ],
          "scatterternary": [
           {
            "marker": {
             "colorbar": {
              "outlinewidth": 0,
              "ticks": ""
             }
            },
            "type": "scatterternary"
           }
          ],
          "surface": [
           {
            "colorbar": {
             "outlinewidth": 0,
             "ticks": ""
            },
            "colorscale": [
             [
              0,
              "#0d0887"
             ],
             [
              0.1111111111111111,
              "#46039f"
             ],
             [
              0.2222222222222222,
              "#7201a8"
             ],
             [
              0.3333333333333333,
              "#9c179e"
             ],
             [
              0.4444444444444444,
              "#bd3786"
             ],
             [
              0.5555555555555556,
              "#d8576b"
             ],
             [
              0.6666666666666666,
              "#ed7953"
             ],
             [
              0.7777777777777778,
              "#fb9f3a"
             ],
             [
              0.8888888888888888,
              "#fdca26"
             ],
             [
              1,
              "#f0f921"
             ]
            ],
            "type": "surface"
           }
          ],
          "table": [
           {
            "cells": {
             "fill": {
              "color": "#EBF0F8"
             },
             "line": {
              "color": "white"
             }
            },
            "header": {
             "fill": {
              "color": "#C8D4E3"
             },
             "line": {
              "color": "white"
             }
            },
            "type": "table"
           }
          ]
         },
         "layout": {
          "annotationdefaults": {
           "arrowcolor": "#2a3f5f",
           "arrowhead": 0,
           "arrowwidth": 1
          },
          "autotypenumbers": "strict",
          "coloraxis": {
           "colorbar": {
            "outlinewidth": 0,
            "ticks": ""
           }
          },
          "colorscale": {
           "diverging": [
            [
             0,
             "#8e0152"
            ],
            [
             0.1,
             "#c51b7d"
            ],
            [
             0.2,
             "#de77ae"
            ],
            [
             0.3,
             "#f1b6da"
            ],
            [
             0.4,
             "#fde0ef"
            ],
            [
             0.5,
             "#f7f7f7"
            ],
            [
             0.6,
             "#e6f5d0"
            ],
            [
             0.7,
             "#b8e186"
            ],
            [
             0.8,
             "#7fbc41"
            ],
            [
             0.9,
             "#4d9221"
            ],
            [
             1,
             "#276419"
            ]
           ],
           "sequential": [
            [
             0,
             "#0d0887"
            ],
            [
             0.1111111111111111,
             "#46039f"
            ],
            [
             0.2222222222222222,
             "#7201a8"
            ],
            [
             0.3333333333333333,
             "#9c179e"
            ],
            [
             0.4444444444444444,
             "#bd3786"
            ],
            [
             0.5555555555555556,
             "#d8576b"
            ],
            [
             0.6666666666666666,
             "#ed7953"
            ],
            [
             0.7777777777777778,
             "#fb9f3a"
            ],
            [
             0.8888888888888888,
             "#fdca26"
            ],
            [
             1,
             "#f0f921"
            ]
           ],
           "sequentialminus": [
            [
             0,
             "#0d0887"
            ],
            [
             0.1111111111111111,
             "#46039f"
            ],
            [
             0.2222222222222222,
             "#7201a8"
            ],
            [
             0.3333333333333333,
             "#9c179e"
            ],
            [
             0.4444444444444444,
             "#bd3786"
            ],
            [
             0.5555555555555556,
             "#d8576b"
            ],
            [
             0.6666666666666666,
             "#ed7953"
            ],
            [
             0.7777777777777778,
             "#fb9f3a"
            ],
            [
             0.8888888888888888,
             "#fdca26"
            ],
            [
             1,
             "#f0f921"
            ]
           ]
          },
          "colorway": [
           "#636efa",
           "#EF553B",
           "#00cc96",
           "#ab63fa",
           "#FFA15A",
           "#19d3f3",
           "#FF6692",
           "#B6E880",
           "#FF97FF",
           "#FECB52"
          ],
          "font": {
           "color": "#2a3f5f"
          },
          "geo": {
           "bgcolor": "white",
           "lakecolor": "white",
           "landcolor": "#E5ECF6",
           "showlakes": true,
           "showland": true,
           "subunitcolor": "white"
          },
          "hoverlabel": {
           "align": "left"
          },
          "hovermode": "closest",
          "mapbox": {
           "style": "light"
          },
          "paper_bgcolor": "white",
          "plot_bgcolor": "#E5ECF6",
          "polar": {
           "angularaxis": {
            "gridcolor": "white",
            "linecolor": "white",
            "ticks": ""
           },
           "bgcolor": "#E5ECF6",
           "radialaxis": {
            "gridcolor": "white",
            "linecolor": "white",
            "ticks": ""
           }
          },
          "scene": {
           "xaxis": {
            "backgroundcolor": "#E5ECF6",
            "gridcolor": "white",
            "gridwidth": 2,
            "linecolor": "white",
            "showbackground": true,
            "ticks": "",
            "zerolinecolor": "white"
           },
           "yaxis": {
            "backgroundcolor": "#E5ECF6",
            "gridcolor": "white",
            "gridwidth": 2,
            "linecolor": "white",
            "showbackground": true,
            "ticks": "",
            "zerolinecolor": "white"
           },
           "zaxis": {
            "backgroundcolor": "#E5ECF6",
            "gridcolor": "white",
            "gridwidth": 2,
            "linecolor": "white",
            "showbackground": true,
            "ticks": "",
            "zerolinecolor": "white"
           }
          },
          "shapedefaults": {
           "line": {
            "color": "#2a3f5f"
           }
          },
          "ternary": {
           "aaxis": {
            "gridcolor": "white",
            "linecolor": "white",
            "ticks": ""
           },
           "baxis": {
            "gridcolor": "white",
            "linecolor": "white",
            "ticks": ""
           },
           "bgcolor": "#E5ECF6",
           "caxis": {
            "gridcolor": "white",
            "linecolor": "white",
            "ticks": ""
           }
          },
          "title": {
           "x": 0.05
          },
          "xaxis": {
           "automargin": true,
           "gridcolor": "white",
           "linecolor": "white",
           "ticks": "",
           "title": {
            "standoff": 15
           },
           "zerolinecolor": "white",
           "zerolinewidth": 2
          },
          "yaxis": {
           "automargin": true,
           "gridcolor": "white",
           "linecolor": "white",
           "ticks": "",
           "title": {
            "standoff": 15
           },
           "zerolinecolor": "white",
           "zerolinewidth": 2
          }
         }
        },
        "title": {
         "font": {
          "color": "#4D5663"
         }
        },
        "xaxis": {
         "gridcolor": "#E1E5ED",
         "showgrid": true,
         "tickfont": {
          "color": "#4D5663"
         },
         "title": {
          "font": {
           "color": "#4D5663"
          },
          "text": ""
         },
         "zerolinecolor": "#E1E5ED"
        },
        "yaxis": {
         "gridcolor": "#E1E5ED",
         "showgrid": true,
         "tickfont": {
          "color": "#4D5663"
         },
         "title": {
          "font": {
           "color": "#4D5663"
          },
          "text": ""
         },
         "zerolinecolor": "#E1E5ED"
        }
       }
      },
      "text/html": [
       "<div>                            <div id=\"5c91640d-6551-466c-905c-4496c5693206\" class=\"plotly-graph-div\" style=\"height:525px; width:100%;\"></div>            <script type=\"text/javascript\">                require([\"plotly\"], function(Plotly) {                    window.PLOTLYENV=window.PLOTLYENV || {};\n",
       "                    window.PLOTLYENV.BASE_URL='https://plot.ly';                                    if (document.getElementById(\"5c91640d-6551-466c-905c-4496c5693206\")) {                    Plotly.newPlot(                        \"5c91640d-6551-466c-905c-4496c5693206\",                        [{\"histfunc\":\"count\",\"histnorm\":\"\",\"marker\":{\"color\":\"rgba(255, 153, 51, 1.0)\",\"line\":{\"color\":\"#4D5663\",\"width\":1.3}},\"name\":\"A\",\"nbinsx\":25,\"opacity\":0.8,\"orientation\":\"v\",\"x\":[-0.7459921802284659,-0.2985331193711804,-0.5923070930794322,1.0241349657605285,1.3474652422939397,-0.3306346733325379,0.12698460532380978,-1.2396216588120965,1.4135882069108947,-0.4340229477075488,-2.1086061405379892,0.6650868623623832,-0.9392383681720982,-0.8012157757144039,0.3556419166568355,0.17027391249413223,1.2373283151950252,-0.4278715023691055,0.5122398939890646,-0.11651123285876328,0.24228686745884245,2.7388904967110514,-0.07739903639478632,-1.7729344017310518,-0.8044559993420353,0.32858915549721407,1.6938449970171683,0.20667478488806795,0.3730087418711053,1.2819911073395296,1.0994228222100382,-0.6375445967919214,-0.015269635410634546,1.3432161615550722,0.38147805069172214,0.8090768264403407,-0.2651207647914632,-0.16152848676210493,-0.7269239383533179,-0.6137628729964091,0.5453822578346342,3.3903895782942266,-0.06297500095351101,0.04123220659054581,-0.5207128486462764,0.529189297618538,-0.2932635542935991,-1.7590769255017142,0.4561990099342433,-1.2014994000604384,0.7457774415845939,-0.6599210785512793,0.49290673558060794,-0.09439724081832111,0.5776279393791839,0.6604600090753378,0.2617093580743427,0.7413067020176657,-0.1261681498761519,1.0310886998176432,-2.0567488675287304,1.125328876952449,1.3869881729229596,1.1651878049553273,-1.7468494092187064,-0.05160940085340369,-1.6270745323537221,-0.8729420211114243,-0.4416407332362468,0.14056114799324715,-0.13450494629745824,1.1135561248487242,-0.24136313385725927,0.2953075790841706,0.9533194362152135,0.30431001658093426,-0.19300675495041086,0.3705726709997868,0.27881990624938835,1.8364326683786332,0.4284722687128993,-1.2617417433708187,-1.3276369663042034,0.7562551076888145,-0.41477062335883763,-1.031744056577676,0.7731528564898905,0.024136114280125243,1.4344322176590476,-1.6726958453708354,-0.6738035330410321,-1.64588650160417,0.00019750244670672836,0.2418395172388969,-1.2328421931298899,0.43474031290286197,-0.935102556309525,-3.030241304070444,0.1630101373330067,-1.0259787293633311],\"type\":\"histogram\"}],                        {\"barmode\":\"overlay\",\"legend\":{\"bgcolor\":\"#F5F6F9\",\"font\":{\"color\":\"#4D5663\"}},\"paper_bgcolor\":\"#F5F6F9\",\"plot_bgcolor\":\"#F5F6F9\",\"template\":{\"data\":{\"barpolar\":[{\"marker\":{\"line\":{\"color\":\"#E5ECF6\",\"width\":0.5},\"pattern\":{\"fillmode\":\"overlay\",\"size\":10,\"solidity\":0.2}},\"type\":\"barpolar\"}],\"bar\":[{\"error_x\":{\"color\":\"#2a3f5f\"},\"error_y\":{\"color\":\"#2a3f5f\"},\"marker\":{\"line\":{\"color\":\"#E5ECF6\",\"width\":0.5},\"pattern\":{\"fillmode\":\"overlay\",\"size\":10,\"solidity\":0.2}},\"type\":\"bar\"}],\"carpet\":[{\"aaxis\":{\"endlinecolor\":\"#2a3f5f\",\"gridcolor\":\"white\",\"linecolor\":\"white\",\"minorgridcolor\":\"white\",\"startlinecolor\":\"#2a3f5f\"},\"baxis\":{\"endlinecolor\":\"#2a3f5f\",\"gridcolor\":\"white\",\"linecolor\":\"white\",\"minorgridcolor\":\"white\",\"startlinecolor\":\"#2a3f5f\"},\"type\":\"carpet\"}],\"choropleth\":[{\"colorbar\":{\"outlinewidth\":0,\"ticks\":\"\"},\"type\":\"choropleth\"}],\"contourcarpet\":[{\"colorbar\":{\"outlinewidth\":0,\"ticks\":\"\"},\"type\":\"contourcarpet\"}],\"contour\":[{\"colorbar\":{\"outlinewidth\":0,\"ticks\":\"\"},\"colorscale\":[[0.0,\"#0d0887\"],[0.1111111111111111,\"#46039f\"],[0.2222222222222222,\"#7201a8\"],[0.3333333333333333,\"#9c179e\"],[0.4444444444444444,\"#bd3786\"],[0.5555555555555556,\"#d8576b\"],[0.6666666666666666,\"#ed7953\"],[0.7777777777777778,\"#fb9f3a\"],[0.8888888888888888,\"#fdca26\"],[1.0,\"#f0f921\"]],\"type\":\"contour\"}],\"heatmapgl\":[{\"colorbar\":{\"outlinewidth\":0,\"ticks\":\"\"},\"colorscale\":[[0.0,\"#0d0887\"],[0.1111111111111111,\"#46039f\"],[0.2222222222222222,\"#7201a8\"],[0.3333333333333333,\"#9c179e\"],[0.4444444444444444,\"#bd3786\"],[0.5555555555555556,\"#d8576b\"],[0.6666666666666666,\"#ed7953\"],[0.7777777777777778,\"#fb9f3a\"],[0.8888888888888888,\"#fdca26\"],[1.0,\"#f0f921\"]],\"type\":\"heatmapgl\"}],\"heatmap\":[{\"colorbar\":{\"outlinewidth\":0,\"ticks\":\"\"},\"colorscale\":[[0.0,\"#0d0887\"],[0.1111111111111111,\"#46039f\"],[0.2222222222222222,\"#7201a8\"],[0.3333333333333333,\"#9c179e\"],[0.4444444444444444,\"#bd3786\"],[0.5555555555555556,\"#d8576b\"],[0.6666666666666666,\"#ed7953\"],[0.7777777777777778,\"#fb9f3a\"],[0.8888888888888888,\"#fdca26\"],[1.0,\"#f0f921\"]],\"type\":\"heatmap\"}],\"histogram2dcontour\":[{\"colorbar\":{\"outlinewidth\":0,\"ticks\":\"\"},\"colorscale\":[[0.0,\"#0d0887\"],[0.1111111111111111,\"#46039f\"],[0.2222222222222222,\"#7201a8\"],[0.3333333333333333,\"#9c179e\"],[0.4444444444444444,\"#bd3786\"],[0.5555555555555556,\"#d8576b\"],[0.6666666666666666,\"#ed7953\"],[0.7777777777777778,\"#fb9f3a\"],[0.8888888888888888,\"#fdca26\"],[1.0,\"#f0f921\"]],\"type\":\"histogram2dcontour\"}],\"histogram2d\":[{\"colorbar\":{\"outlinewidth\":0,\"ticks\":\"\"},\"colorscale\":[[0.0,\"#0d0887\"],[0.1111111111111111,\"#46039f\"],[0.2222222222222222,\"#7201a8\"],[0.3333333333333333,\"#9c179e\"],[0.4444444444444444,\"#bd3786\"],[0.5555555555555556,\"#d8576b\"],[0.6666666666666666,\"#ed7953\"],[0.7777777777777778,\"#fb9f3a\"],[0.8888888888888888,\"#fdca26\"],[1.0,\"#f0f921\"]],\"type\":\"histogram2d\"}],\"histogram\":[{\"marker\":{\"pattern\":{\"fillmode\":\"overlay\",\"size\":10,\"solidity\":0.2}},\"type\":\"histogram\"}],\"mesh3d\":[{\"colorbar\":{\"outlinewidth\":0,\"ticks\":\"\"},\"type\":\"mesh3d\"}],\"parcoords\":[{\"line\":{\"colorbar\":{\"outlinewidth\":0,\"ticks\":\"\"}},\"type\":\"parcoords\"}],\"pie\":[{\"automargin\":true,\"type\":\"pie\"}],\"scatter3d\":[{\"line\":{\"colorbar\":{\"outlinewidth\":0,\"ticks\":\"\"}},\"marker\":{\"colorbar\":{\"outlinewidth\":0,\"ticks\":\"\"}},\"type\":\"scatter3d\"}],\"scattercarpet\":[{\"marker\":{\"colorbar\":{\"outlinewidth\":0,\"ticks\":\"\"}},\"type\":\"scattercarpet\"}],\"scattergeo\":[{\"marker\":{\"colorbar\":{\"outlinewidth\":0,\"ticks\":\"\"}},\"type\":\"scattergeo\"}],\"scattergl\":[{\"marker\":{\"colorbar\":{\"outlinewidth\":0,\"ticks\":\"\"}},\"type\":\"scattergl\"}],\"scattermapbox\":[{\"marker\":{\"colorbar\":{\"outlinewidth\":0,\"ticks\":\"\"}},\"type\":\"scattermapbox\"}],\"scatterpolargl\":[{\"marker\":{\"colorbar\":{\"outlinewidth\":0,\"ticks\":\"\"}},\"type\":\"scatterpolargl\"}],\"scatterpolar\":[{\"marker\":{\"colorbar\":{\"outlinewidth\":0,\"ticks\":\"\"}},\"type\":\"scatterpolar\"}],\"scatter\":[{\"fillpattern\":{\"fillmode\":\"overlay\",\"size\":10,\"solidity\":0.2},\"type\":\"scatter\"}],\"scatterternary\":[{\"marker\":{\"colorbar\":{\"outlinewidth\":0,\"ticks\":\"\"}},\"type\":\"scatterternary\"}],\"surface\":[{\"colorbar\":{\"outlinewidth\":0,\"ticks\":\"\"},\"colorscale\":[[0.0,\"#0d0887\"],[0.1111111111111111,\"#46039f\"],[0.2222222222222222,\"#7201a8\"],[0.3333333333333333,\"#9c179e\"],[0.4444444444444444,\"#bd3786\"],[0.5555555555555556,\"#d8576b\"],[0.6666666666666666,\"#ed7953\"],[0.7777777777777778,\"#fb9f3a\"],[0.8888888888888888,\"#fdca26\"],[1.0,\"#f0f921\"]],\"type\":\"surface\"}],\"table\":[{\"cells\":{\"fill\":{\"color\":\"#EBF0F8\"},\"line\":{\"color\":\"white\"}},\"header\":{\"fill\":{\"color\":\"#C8D4E3\"},\"line\":{\"color\":\"white\"}},\"type\":\"table\"}]},\"layout\":{\"annotationdefaults\":{\"arrowcolor\":\"#2a3f5f\",\"arrowhead\":0,\"arrowwidth\":1},\"autotypenumbers\":\"strict\",\"coloraxis\":{\"colorbar\":{\"outlinewidth\":0,\"ticks\":\"\"}},\"colorscale\":{\"diverging\":[[0,\"#8e0152\"],[0.1,\"#c51b7d\"],[0.2,\"#de77ae\"],[0.3,\"#f1b6da\"],[0.4,\"#fde0ef\"],[0.5,\"#f7f7f7\"],[0.6,\"#e6f5d0\"],[0.7,\"#b8e186\"],[0.8,\"#7fbc41\"],[0.9,\"#4d9221\"],[1,\"#276419\"]],\"sequential\":[[0.0,\"#0d0887\"],[0.1111111111111111,\"#46039f\"],[0.2222222222222222,\"#7201a8\"],[0.3333333333333333,\"#9c179e\"],[0.4444444444444444,\"#bd3786\"],[0.5555555555555556,\"#d8576b\"],[0.6666666666666666,\"#ed7953\"],[0.7777777777777778,\"#fb9f3a\"],[0.8888888888888888,\"#fdca26\"],[1.0,\"#f0f921\"]],\"sequentialminus\":[[0.0,\"#0d0887\"],[0.1111111111111111,\"#46039f\"],[0.2222222222222222,\"#7201a8\"],[0.3333333333333333,\"#9c179e\"],[0.4444444444444444,\"#bd3786\"],[0.5555555555555556,\"#d8576b\"],[0.6666666666666666,\"#ed7953\"],[0.7777777777777778,\"#fb9f3a\"],[0.8888888888888888,\"#fdca26\"],[1.0,\"#f0f921\"]]},\"colorway\":[\"#636efa\",\"#EF553B\",\"#00cc96\",\"#ab63fa\",\"#FFA15A\",\"#19d3f3\",\"#FF6692\",\"#B6E880\",\"#FF97FF\",\"#FECB52\"],\"font\":{\"color\":\"#2a3f5f\"},\"geo\":{\"bgcolor\":\"white\",\"lakecolor\":\"white\",\"landcolor\":\"#E5ECF6\",\"showlakes\":true,\"showland\":true,\"subunitcolor\":\"white\"},\"hoverlabel\":{\"align\":\"left\"},\"hovermode\":\"closest\",\"mapbox\":{\"style\":\"light\"},\"paper_bgcolor\":\"white\",\"plot_bgcolor\":\"#E5ECF6\",\"polar\":{\"angularaxis\":{\"gridcolor\":\"white\",\"linecolor\":\"white\",\"ticks\":\"\"},\"bgcolor\":\"#E5ECF6\",\"radialaxis\":{\"gridcolor\":\"white\",\"linecolor\":\"white\",\"ticks\":\"\"}},\"scene\":{\"xaxis\":{\"backgroundcolor\":\"#E5ECF6\",\"gridcolor\":\"white\",\"gridwidth\":2,\"linecolor\":\"white\",\"showbackground\":true,\"ticks\":\"\",\"zerolinecolor\":\"white\"},\"yaxis\":{\"backgroundcolor\":\"#E5ECF6\",\"gridcolor\":\"white\",\"gridwidth\":2,\"linecolor\":\"white\",\"showbackground\":true,\"ticks\":\"\",\"zerolinecolor\":\"white\"},\"zaxis\":{\"backgroundcolor\":\"#E5ECF6\",\"gridcolor\":\"white\",\"gridwidth\":2,\"linecolor\":\"white\",\"showbackground\":true,\"ticks\":\"\",\"zerolinecolor\":\"white\"}},\"shapedefaults\":{\"line\":{\"color\":\"#2a3f5f\"}},\"ternary\":{\"aaxis\":{\"gridcolor\":\"white\",\"linecolor\":\"white\",\"ticks\":\"\"},\"baxis\":{\"gridcolor\":\"white\",\"linecolor\":\"white\",\"ticks\":\"\"},\"bgcolor\":\"#E5ECF6\",\"caxis\":{\"gridcolor\":\"white\",\"linecolor\":\"white\",\"ticks\":\"\"}},\"title\":{\"x\":0.05},\"xaxis\":{\"automargin\":true,\"gridcolor\":\"white\",\"linecolor\":\"white\",\"ticks\":\"\",\"title\":{\"standoff\":15},\"zerolinecolor\":\"white\",\"zerolinewidth\":2},\"yaxis\":{\"automargin\":true,\"gridcolor\":\"white\",\"linecolor\":\"white\",\"ticks\":\"\",\"title\":{\"standoff\":15},\"zerolinecolor\":\"white\",\"zerolinewidth\":2}}},\"title\":{\"font\":{\"color\":\"#4D5663\"}},\"xaxis\":{\"gridcolor\":\"#E1E5ED\",\"showgrid\":true,\"tickfont\":{\"color\":\"#4D5663\"},\"title\":{\"font\":{\"color\":\"#4D5663\"},\"text\":\"\"},\"zerolinecolor\":\"#E1E5ED\"},\"yaxis\":{\"gridcolor\":\"#E1E5ED\",\"showgrid\":true,\"tickfont\":{\"color\":\"#4D5663\"},\"title\":{\"font\":{\"color\":\"#4D5663\"},\"text\":\"\"},\"zerolinecolor\":\"#E1E5ED\"}},                        {\"showLink\": true, \"linkText\": \"Export to plot.ly\", \"plotlyServerURL\": \"https://plot.ly\", \"responsive\": true}                    ).then(function(){\n",
       "                            \n",
       "var gd = document.getElementById('5c91640d-6551-466c-905c-4496c5693206');\n",
       "var x = new MutationObserver(function (mutations, observer) {{\n",
       "        var display = window.getComputedStyle(gd).display;\n",
       "        if (!display || display === 'none') {{\n",
       "            console.log([gd, 'removed!']);\n",
       "            Plotly.purge(gd);\n",
       "            observer.disconnect();\n",
       "        }}\n",
       "}});\n",
       "\n",
       "// Listen for the removal of the full notebook cells\n",
       "var notebookContainer = gd.closest('#notebook-container');\n",
       "if (notebookContainer) {{\n",
       "    x.observe(notebookContainer, {childList: true});\n",
       "}}\n",
       "\n",
       "// Listen for the clearing of the current output cell\n",
       "var outputEl = gd.closest('.output');\n",
       "if (outputEl) {{\n",
       "    x.observe(outputEl, {childList: true});\n",
       "}}\n",
       "\n",
       "                        })                };                });            </script>        </div>"
      ]
     },
     "metadata": {},
     "output_type": "display_data"
    }
   ],
   "source": [
    "df['A'].iplot(kind='hist',bins=25)"
   ]
  },
  {
   "cell_type": "code",
   "execution_count": 18,
   "metadata": {},
   "outputs": [
    {
     "data": {
      "application/vnd.plotly.v1+json": {
       "config": {
        "linkText": "Export to plot.ly",
        "plotlyServerURL": "https://plot.ly",
        "showLink": true
       },
       "data": [
        {
         "marker": {
          "color": [
           "rgb(255, 153, 51)",
           "rgb(55, 128, 191)",
           "rgb(50, 171, 96)",
           "rgb(128, 0, 128)",
           "rgb(219, 64, 82)",
           "rgb(0, 128, 128)",
           "rgb(255, 255, 51)",
           "rgb(128, 128, 0)",
           "rgb(251, 128, 114)",
           "rgb(128, 177, 211)"
          ],
          "line": {
           "width": 1.3
          },
          "size": [
           68,
           15,
           43,
           47,
           16,
           79,
           54,
           44,
           50,
           60,
           74,
           50,
           37,
           45,
           57,
           40,
           63,
           45,
           19,
           38,
           39,
           72,
           93,
           48,
           23,
           82,
           66,
           54,
           47,
           112,
           34,
           30,
           65,
           54,
           25,
           25,
           61,
           49,
           32,
           35,
           68,
           40,
           66,
           41,
           59,
           96,
           60,
           73,
           27,
           54,
           66,
           60,
           37,
           62,
           17,
           49,
           82,
           40,
           71,
           76,
           87,
           41,
           29,
           80,
           29,
           71,
           23,
           81,
           46,
           35,
           53,
           73,
           52,
           45,
           27,
           53,
           65,
           74,
           51,
           70,
           31,
           49,
           96,
           80,
           12,
           87,
           62,
           47,
           41,
           80,
           41,
           41,
           40,
           72,
           29,
           109,
           41,
           59,
           36,
           55
          ],
          "symbol": "circle"
         },
         "mode": "markers",
         "text": "",
         "type": "scatter",
         "x": [
          -0.7459921802284659,
          -0.2985331193711804,
          -0.5923070930794322,
          1.0241349657605285,
          1.3474652422939397,
          -0.3306346733325379,
          0.12698460532380978,
          -1.2396216588120965,
          1.4135882069108947,
          -0.4340229477075488,
          -2.1086061405379892,
          0.6650868623623832,
          -0.9392383681720982,
          -0.8012157757144039,
          0.3556419166568355,
          0.17027391249413223,
          1.2373283151950252,
          -0.4278715023691055,
          0.5122398939890646,
          -0.11651123285876328,
          0.24228686745884245,
          2.7388904967110514,
          -0.07739903639478632,
          -1.7729344017310518,
          -0.8044559993420353,
          0.32858915549721407,
          1.6938449970171683,
          0.20667478488806795,
          0.3730087418711053,
          1.2819911073395296,
          1.0994228222100382,
          -0.6375445967919214,
          -0.015269635410634546,
          1.3432161615550722,
          0.38147805069172214,
          0.8090768264403407,
          -0.2651207647914632,
          -0.16152848676210493,
          -0.7269239383533179,
          -0.6137628729964091,
          0.5453822578346342,
          3.3903895782942266,
          -0.06297500095351101,
          0.04123220659054581,
          -0.5207128486462764,
          0.529189297618538,
          -0.2932635542935991,
          -1.7590769255017142,
          0.4561990099342433,
          -1.2014994000604384,
          0.7457774415845939,
          -0.6599210785512793,
          0.49290673558060794,
          -0.09439724081832111,
          0.5776279393791839,
          0.6604600090753378,
          0.2617093580743427,
          0.7413067020176657,
          -0.1261681498761519,
          1.0310886998176432,
          -2.0567488675287304,
          1.125328876952449,
          1.3869881729229596,
          1.1651878049553273,
          -1.7468494092187064,
          -0.05160940085340369,
          -1.6270745323537221,
          -0.8729420211114243,
          -0.4416407332362468,
          0.14056114799324715,
          -0.13450494629745824,
          1.1135561248487242,
          -0.24136313385725927,
          0.2953075790841706,
          0.9533194362152135,
          0.30431001658093426,
          -0.19300675495041086,
          0.3705726709997868,
          0.27881990624938835,
          1.8364326683786332,
          0.4284722687128993,
          -1.2617417433708187,
          -1.3276369663042034,
          0.7562551076888145,
          -0.41477062335883763,
          -1.031744056577676,
          0.7731528564898905,
          0.024136114280125243,
          1.4344322176590476,
          -1.6726958453708354,
          -0.6738035330410321,
          -1.64588650160417,
          0.00019750244670672836,
          0.2418395172388969,
          -1.2328421931298899,
          0.43474031290286197,
          -0.935102556309525,
          -3.030241304070444,
          0.1630101373330067,
          -1.0259787293633311
         ],
         "y": [
          3.0024849906902924,
          -0.6712017479592524,
          1.6122949489688632,
          0.048319156974700864,
          -0.7037217982582277,
          -0.7346015241816336,
          0.46733197276926874,
          -1.2163230831125607,
          -1.8376965510535215,
          -0.37220305547565036,
          0.4982038444106561,
          0.41856621895463025,
          1.440065157327684,
          0.034012958086091255,
          -0.3857573090224651,
          0.06890290989061831,
          -0.2469046756260349,
          0.5308059485294074,
          1.2798339250090698,
          -0.6612866651020235,
          -0.4309505792491207,
          0.41609482167032685,
          -1.2642759525596383,
          0.8088606095923593,
          -0.3287787352467742,
          -0.6640834034711206,
          -0.7619309954237736,
          0.4226777605230677,
          0.24979936237140168,
          0.28290305086873324,
          -0.2587768684335364,
          -1.1073499176529262,
          1.2678433641662228,
          0.7205688117833361,
          0.013101018318805328,
          1.0924839966821154,
          -1.365552472959164,
          -0.6069035061411017,
          -0.7144470408869261,
          1.0164384956684194,
          0.443418569079833,
          1.5261437417082782,
          -0.4466690260594189,
          -0.03827589074987316,
          1.8217727999067659,
          0.9210873939031335,
          -0.6617860453960066,
          0.16821137523823973,
          -0.1432853121140892,
          -2.7978845041908693,
          -0.9871087600490078,
          0.23248038532172627,
          1.24398179577353,
          -0.49018419946746145,
          0.21244678095206795,
          1.0542662813242147,
          0.41159843284465036,
          -0.3283155232768134,
          -0.14949025923677958,
          -0.9729735249688074,
          0.4689267035066989,
          0.39267582822134933,
          -0.2970338809944145,
          -0.3276061866690047,
          0.14517824094086815,
          -0.5009911239461405,
          0.2938491028086687,
          -0.05358032996194319,
          0.15824222616038994,
          -1.0316553589625612,
          -0.8889064599434631,
          -1.0109186708122362,
          0.8680587463217743,
          -0.523884874888583,
          -0.19984029864885086,
          -0.14148835743846858,
          -0.009625828651904937,
          1.2595153681009292,
          -0.7494574853190527,
          1.165196594856903,
          -0.15616145611462873,
          -0.5545374650676813,
          -1.0616810378264292,
          -1.3512784595061946,
          -1.3413189832986294,
          0.30622554758114745,
          -1.3427236915580891,
          -0.8361594218203363,
          -0.32322420311663497,
          0.6932830181946397,
          0.45785925248063436,
          -0.26482801927470795,
          -0.21506392508465094,
          -0.20592211725464296,
          0.12609007771073222,
          -1.5140332619993535,
          0.569167999467806,
          0.21077166262899988,
          -0.3175134211123909,
          0.26939347185908497
         ]
        }
       ],
       "layout": {
        "legend": {
         "bgcolor": "#F5F6F9",
         "font": {
          "color": "#4D5663"
         }
        },
        "paper_bgcolor": "#F5F6F9",
        "plot_bgcolor": "#F5F6F9",
        "template": {
         "data": {
          "bar": [
           {
            "error_x": {
             "color": "#2a3f5f"
            },
            "error_y": {
             "color": "#2a3f5f"
            },
            "marker": {
             "line": {
              "color": "#E5ECF6",
              "width": 0.5
             },
             "pattern": {
              "fillmode": "overlay",
              "size": 10,
              "solidity": 0.2
             }
            },
            "type": "bar"
           }
          ],
          "barpolar": [
           {
            "marker": {
             "line": {
              "color": "#E5ECF6",
              "width": 0.5
             },
             "pattern": {
              "fillmode": "overlay",
              "size": 10,
              "solidity": 0.2
             }
            },
            "type": "barpolar"
           }
          ],
          "carpet": [
           {
            "aaxis": {
             "endlinecolor": "#2a3f5f",
             "gridcolor": "white",
             "linecolor": "white",
             "minorgridcolor": "white",
             "startlinecolor": "#2a3f5f"
            },
            "baxis": {
             "endlinecolor": "#2a3f5f",
             "gridcolor": "white",
             "linecolor": "white",
             "minorgridcolor": "white",
             "startlinecolor": "#2a3f5f"
            },
            "type": "carpet"
           }
          ],
          "choropleth": [
           {
            "colorbar": {
             "outlinewidth": 0,
             "ticks": ""
            },
            "type": "choropleth"
           }
          ],
          "contour": [
           {
            "colorbar": {
             "outlinewidth": 0,
             "ticks": ""
            },
            "colorscale": [
             [
              0,
              "#0d0887"
             ],
             [
              0.1111111111111111,
              "#46039f"
             ],
             [
              0.2222222222222222,
              "#7201a8"
             ],
             [
              0.3333333333333333,
              "#9c179e"
             ],
             [
              0.4444444444444444,
              "#bd3786"
             ],
             [
              0.5555555555555556,
              "#d8576b"
             ],
             [
              0.6666666666666666,
              "#ed7953"
             ],
             [
              0.7777777777777778,
              "#fb9f3a"
             ],
             [
              0.8888888888888888,
              "#fdca26"
             ],
             [
              1,
              "#f0f921"
             ]
            ],
            "type": "contour"
           }
          ],
          "contourcarpet": [
           {
            "colorbar": {
             "outlinewidth": 0,
             "ticks": ""
            },
            "type": "contourcarpet"
           }
          ],
          "heatmap": [
           {
            "colorbar": {
             "outlinewidth": 0,
             "ticks": ""
            },
            "colorscale": [
             [
              0,
              "#0d0887"
             ],
             [
              0.1111111111111111,
              "#46039f"
             ],
             [
              0.2222222222222222,
              "#7201a8"
             ],
             [
              0.3333333333333333,
              "#9c179e"
             ],
             [
              0.4444444444444444,
              "#bd3786"
             ],
             [
              0.5555555555555556,
              "#d8576b"
             ],
             [
              0.6666666666666666,
              "#ed7953"
             ],
             [
              0.7777777777777778,
              "#fb9f3a"
             ],
             [
              0.8888888888888888,
              "#fdca26"
             ],
             [
              1,
              "#f0f921"
             ]
            ],
            "type": "heatmap"
           }
          ],
          "heatmapgl": [
           {
            "colorbar": {
             "outlinewidth": 0,
             "ticks": ""
            },
            "colorscale": [
             [
              0,
              "#0d0887"
             ],
             [
              0.1111111111111111,
              "#46039f"
             ],
             [
              0.2222222222222222,
              "#7201a8"
             ],
             [
              0.3333333333333333,
              "#9c179e"
             ],
             [
              0.4444444444444444,
              "#bd3786"
             ],
             [
              0.5555555555555556,
              "#d8576b"
             ],
             [
              0.6666666666666666,
              "#ed7953"
             ],
             [
              0.7777777777777778,
              "#fb9f3a"
             ],
             [
              0.8888888888888888,
              "#fdca26"
             ],
             [
              1,
              "#f0f921"
             ]
            ],
            "type": "heatmapgl"
           }
          ],
          "histogram": [
           {
            "marker": {
             "pattern": {
              "fillmode": "overlay",
              "size": 10,
              "solidity": 0.2
             }
            },
            "type": "histogram"
           }
          ],
          "histogram2d": [
           {
            "colorbar": {
             "outlinewidth": 0,
             "ticks": ""
            },
            "colorscale": [
             [
              0,
              "#0d0887"
             ],
             [
              0.1111111111111111,
              "#46039f"
             ],
             [
              0.2222222222222222,
              "#7201a8"
             ],
             [
              0.3333333333333333,
              "#9c179e"
             ],
             [
              0.4444444444444444,
              "#bd3786"
             ],
             [
              0.5555555555555556,
              "#d8576b"
             ],
             [
              0.6666666666666666,
              "#ed7953"
             ],
             [
              0.7777777777777778,
              "#fb9f3a"
             ],
             [
              0.8888888888888888,
              "#fdca26"
             ],
             [
              1,
              "#f0f921"
             ]
            ],
            "type": "histogram2d"
           }
          ],
          "histogram2dcontour": [
           {
            "colorbar": {
             "outlinewidth": 0,
             "ticks": ""
            },
            "colorscale": [
             [
              0,
              "#0d0887"
             ],
             [
              0.1111111111111111,
              "#46039f"
             ],
             [
              0.2222222222222222,
              "#7201a8"
             ],
             [
              0.3333333333333333,
              "#9c179e"
             ],
             [
              0.4444444444444444,
              "#bd3786"
             ],
             [
              0.5555555555555556,
              "#d8576b"
             ],
             [
              0.6666666666666666,
              "#ed7953"
             ],
             [
              0.7777777777777778,
              "#fb9f3a"
             ],
             [
              0.8888888888888888,
              "#fdca26"
             ],
             [
              1,
              "#f0f921"
             ]
            ],
            "type": "histogram2dcontour"
           }
          ],
          "mesh3d": [
           {
            "colorbar": {
             "outlinewidth": 0,
             "ticks": ""
            },
            "type": "mesh3d"
           }
          ],
          "parcoords": [
           {
            "line": {
             "colorbar": {
              "outlinewidth": 0,
              "ticks": ""
             }
            },
            "type": "parcoords"
           }
          ],
          "pie": [
           {
            "automargin": true,
            "type": "pie"
           }
          ],
          "scatter": [
           {
            "fillpattern": {
             "fillmode": "overlay",
             "size": 10,
             "solidity": 0.2
            },
            "type": "scatter"
           }
          ],
          "scatter3d": [
           {
            "line": {
             "colorbar": {
              "outlinewidth": 0,
              "ticks": ""
             }
            },
            "marker": {
             "colorbar": {
              "outlinewidth": 0,
              "ticks": ""
             }
            },
            "type": "scatter3d"
           }
          ],
          "scattercarpet": [
           {
            "marker": {
             "colorbar": {
              "outlinewidth": 0,
              "ticks": ""
             }
            },
            "type": "scattercarpet"
           }
          ],
          "scattergeo": [
           {
            "marker": {
             "colorbar": {
              "outlinewidth": 0,
              "ticks": ""
             }
            },
            "type": "scattergeo"
           }
          ],
          "scattergl": [
           {
            "marker": {
             "colorbar": {
              "outlinewidth": 0,
              "ticks": ""
             }
            },
            "type": "scattergl"
           }
          ],
          "scattermapbox": [
           {
            "marker": {
             "colorbar": {
              "outlinewidth": 0,
              "ticks": ""
             }
            },
            "type": "scattermapbox"
           }
          ],
          "scatterpolar": [
           {
            "marker": {
             "colorbar": {
              "outlinewidth": 0,
              "ticks": ""
             }
            },
            "type": "scatterpolar"
           }
          ],
          "scatterpolargl": [
           {
            "marker": {
             "colorbar": {
              "outlinewidth": 0,
              "ticks": ""
             }
            },
            "type": "scatterpolargl"
           }
          ],
          "scatterternary": [
           {
            "marker": {
             "colorbar": {
              "outlinewidth": 0,
              "ticks": ""
             }
            },
            "type": "scatterternary"
           }
          ],
          "surface": [
           {
            "colorbar": {
             "outlinewidth": 0,
             "ticks": ""
            },
            "colorscale": [
             [
              0,
              "#0d0887"
             ],
             [
              0.1111111111111111,
              "#46039f"
             ],
             [
              0.2222222222222222,
              "#7201a8"
             ],
             [
              0.3333333333333333,
              "#9c179e"
             ],
             [
              0.4444444444444444,
              "#bd3786"
             ],
             [
              0.5555555555555556,
              "#d8576b"
             ],
             [
              0.6666666666666666,
              "#ed7953"
             ],
             [
              0.7777777777777778,
              "#fb9f3a"
             ],
             [
              0.8888888888888888,
              "#fdca26"
             ],
             [
              1,
              "#f0f921"
             ]
            ],
            "type": "surface"
           }
          ],
          "table": [
           {
            "cells": {
             "fill": {
              "color": "#EBF0F8"
             },
             "line": {
              "color": "white"
             }
            },
            "header": {
             "fill": {
              "color": "#C8D4E3"
             },
             "line": {
              "color": "white"
             }
            },
            "type": "table"
           }
          ]
         },
         "layout": {
          "annotationdefaults": {
           "arrowcolor": "#2a3f5f",
           "arrowhead": 0,
           "arrowwidth": 1
          },
          "autotypenumbers": "strict",
          "coloraxis": {
           "colorbar": {
            "outlinewidth": 0,
            "ticks": ""
           }
          },
          "colorscale": {
           "diverging": [
            [
             0,
             "#8e0152"
            ],
            [
             0.1,
             "#c51b7d"
            ],
            [
             0.2,
             "#de77ae"
            ],
            [
             0.3,
             "#f1b6da"
            ],
            [
             0.4,
             "#fde0ef"
            ],
            [
             0.5,
             "#f7f7f7"
            ],
            [
             0.6,
             "#e6f5d0"
            ],
            [
             0.7,
             "#b8e186"
            ],
            [
             0.8,
             "#7fbc41"
            ],
            [
             0.9,
             "#4d9221"
            ],
            [
             1,
             "#276419"
            ]
           ],
           "sequential": [
            [
             0,
             "#0d0887"
            ],
            [
             0.1111111111111111,
             "#46039f"
            ],
            [
             0.2222222222222222,
             "#7201a8"
            ],
            [
             0.3333333333333333,
             "#9c179e"
            ],
            [
             0.4444444444444444,
             "#bd3786"
            ],
            [
             0.5555555555555556,
             "#d8576b"
            ],
            [
             0.6666666666666666,
             "#ed7953"
            ],
            [
             0.7777777777777778,
             "#fb9f3a"
            ],
            [
             0.8888888888888888,
             "#fdca26"
            ],
            [
             1,
             "#f0f921"
            ]
           ],
           "sequentialminus": [
            [
             0,
             "#0d0887"
            ],
            [
             0.1111111111111111,
             "#46039f"
            ],
            [
             0.2222222222222222,
             "#7201a8"
            ],
            [
             0.3333333333333333,
             "#9c179e"
            ],
            [
             0.4444444444444444,
             "#bd3786"
            ],
            [
             0.5555555555555556,
             "#d8576b"
            ],
            [
             0.6666666666666666,
             "#ed7953"
            ],
            [
             0.7777777777777778,
             "#fb9f3a"
            ],
            [
             0.8888888888888888,
             "#fdca26"
            ],
            [
             1,
             "#f0f921"
            ]
           ]
          },
          "colorway": [
           "#636efa",
           "#EF553B",
           "#00cc96",
           "#ab63fa",
           "#FFA15A",
           "#19d3f3",
           "#FF6692",
           "#B6E880",
           "#FF97FF",
           "#FECB52"
          ],
          "font": {
           "color": "#2a3f5f"
          },
          "geo": {
           "bgcolor": "white",
           "lakecolor": "white",
           "landcolor": "#E5ECF6",
           "showlakes": true,
           "showland": true,
           "subunitcolor": "white"
          },
          "hoverlabel": {
           "align": "left"
          },
          "hovermode": "closest",
          "mapbox": {
           "style": "light"
          },
          "paper_bgcolor": "white",
          "plot_bgcolor": "#E5ECF6",
          "polar": {
           "angularaxis": {
            "gridcolor": "white",
            "linecolor": "white",
            "ticks": ""
           },
           "bgcolor": "#E5ECF6",
           "radialaxis": {
            "gridcolor": "white",
            "linecolor": "white",
            "ticks": ""
           }
          },
          "scene": {
           "xaxis": {
            "backgroundcolor": "#E5ECF6",
            "gridcolor": "white",
            "gridwidth": 2,
            "linecolor": "white",
            "showbackground": true,
            "ticks": "",
            "zerolinecolor": "white"
           },
           "yaxis": {
            "backgroundcolor": "#E5ECF6",
            "gridcolor": "white",
            "gridwidth": 2,
            "linecolor": "white",
            "showbackground": true,
            "ticks": "",
            "zerolinecolor": "white"
           },
           "zaxis": {
            "backgroundcolor": "#E5ECF6",
            "gridcolor": "white",
            "gridwidth": 2,
            "linecolor": "white",
            "showbackground": true,
            "ticks": "",
            "zerolinecolor": "white"
           }
          },
          "shapedefaults": {
           "line": {
            "color": "#2a3f5f"
           }
          },
          "ternary": {
           "aaxis": {
            "gridcolor": "white",
            "linecolor": "white",
            "ticks": ""
           },
           "baxis": {
            "gridcolor": "white",
            "linecolor": "white",
            "ticks": ""
           },
           "bgcolor": "#E5ECF6",
           "caxis": {
            "gridcolor": "white",
            "linecolor": "white",
            "ticks": ""
           }
          },
          "title": {
           "x": 0.05
          },
          "xaxis": {
           "automargin": true,
           "gridcolor": "white",
           "linecolor": "white",
           "ticks": "",
           "title": {
            "standoff": 15
           },
           "zerolinecolor": "white",
           "zerolinewidth": 2
          },
          "yaxis": {
           "automargin": true,
           "gridcolor": "white",
           "linecolor": "white",
           "ticks": "",
           "title": {
            "standoff": 15
           },
           "zerolinecolor": "white",
           "zerolinewidth": 2
          }
         }
        },
        "title": {
         "font": {
          "color": "#4D5663"
         }
        },
        "xaxis": {
         "gridcolor": "#E1E5ED",
         "showgrid": true,
         "tickfont": {
          "color": "#4D5663"
         },
         "title": {
          "font": {
           "color": "#4D5663"
          },
          "text": ""
         },
         "zerolinecolor": "#E1E5ED"
        },
        "yaxis": {
         "gridcolor": "#E1E5ED",
         "showgrid": true,
         "tickfont": {
          "color": "#4D5663"
         },
         "title": {
          "font": {
           "color": "#4D5663"
          },
          "text": ""
         },
         "zerolinecolor": "#E1E5ED"
        }
       }
      },
      "text/html": [
       "<div>                            <div id=\"cbc9cea9-cb25-4b9f-8765-19f83cc53f0c\" class=\"plotly-graph-div\" style=\"height:525px; width:100%;\"></div>            <script type=\"text/javascript\">                require([\"plotly\"], function(Plotly) {                    window.PLOTLYENV=window.PLOTLYENV || {};\n",
       "                    window.PLOTLYENV.BASE_URL='https://plot.ly';                                    if (document.getElementById(\"cbc9cea9-cb25-4b9f-8765-19f83cc53f0c\")) {                    Plotly.newPlot(                        \"cbc9cea9-cb25-4b9f-8765-19f83cc53f0c\",                        [{\"marker\":{\"color\":[\"rgb(255, 153, 51)\",\"rgb(55, 128, 191)\",\"rgb(50, 171, 96)\",\"rgb(128, 0, 128)\",\"rgb(219, 64, 82)\",\"rgb(0, 128, 128)\",\"rgb(255, 255, 51)\",\"rgb(128, 128, 0)\",\"rgb(251, 128, 114)\",\"rgb(128, 177, 211)\"],\"line\":{\"width\":1.3},\"size\":[68,15,43,47,16,79,54,44,50,60,74,50,37,45,57,40,63,45,19,38,39,72,93,48,23,82,66,54,47,112,34,30,65,54,25,25,61,49,32,35,68,40,66,41,59,96,60,73,27,54,66,60,37,62,17,49,82,40,71,76,87,41,29,80,29,71,23,81,46,35,53,73,52,45,27,53,65,74,51,70,31,49,96,80,12,87,62,47,41,80,41,41,40,72,29,109,41,59,36,55],\"symbol\":\"circle\"},\"mode\":\"markers\",\"text\":\"\",\"x\":[-0.7459921802284659,-0.2985331193711804,-0.5923070930794322,1.0241349657605285,1.3474652422939397,-0.3306346733325379,0.12698460532380978,-1.2396216588120965,1.4135882069108947,-0.4340229477075488,-2.1086061405379892,0.6650868623623832,-0.9392383681720982,-0.8012157757144039,0.3556419166568355,0.17027391249413223,1.2373283151950252,-0.4278715023691055,0.5122398939890646,-0.11651123285876328,0.24228686745884245,2.7388904967110514,-0.07739903639478632,-1.7729344017310518,-0.8044559993420353,0.32858915549721407,1.6938449970171683,0.20667478488806795,0.3730087418711053,1.2819911073395296,1.0994228222100382,-0.6375445967919214,-0.015269635410634546,1.3432161615550722,0.38147805069172214,0.8090768264403407,-0.2651207647914632,-0.16152848676210493,-0.7269239383533179,-0.6137628729964091,0.5453822578346342,3.3903895782942266,-0.06297500095351101,0.04123220659054581,-0.5207128486462764,0.529189297618538,-0.2932635542935991,-1.7590769255017142,0.4561990099342433,-1.2014994000604384,0.7457774415845939,-0.6599210785512793,0.49290673558060794,-0.09439724081832111,0.5776279393791839,0.6604600090753378,0.2617093580743427,0.7413067020176657,-0.1261681498761519,1.0310886998176432,-2.0567488675287304,1.125328876952449,1.3869881729229596,1.1651878049553273,-1.7468494092187064,-0.05160940085340369,-1.6270745323537221,-0.8729420211114243,-0.4416407332362468,0.14056114799324715,-0.13450494629745824,1.1135561248487242,-0.24136313385725927,0.2953075790841706,0.9533194362152135,0.30431001658093426,-0.19300675495041086,0.3705726709997868,0.27881990624938835,1.8364326683786332,0.4284722687128993,-1.2617417433708187,-1.3276369663042034,0.7562551076888145,-0.41477062335883763,-1.031744056577676,0.7731528564898905,0.024136114280125243,1.4344322176590476,-1.6726958453708354,-0.6738035330410321,-1.64588650160417,0.00019750244670672836,0.2418395172388969,-1.2328421931298899,0.43474031290286197,-0.935102556309525,-3.030241304070444,0.1630101373330067,-1.0259787293633311],\"y\":[3.0024849906902924,-0.6712017479592524,1.6122949489688632,0.048319156974700864,-0.7037217982582277,-0.7346015241816336,0.46733197276926874,-1.2163230831125607,-1.8376965510535215,-0.37220305547565036,0.4982038444106561,0.41856621895463025,1.440065157327684,0.034012958086091255,-0.3857573090224651,0.06890290989061831,-0.2469046756260349,0.5308059485294074,1.2798339250090698,-0.6612866651020235,-0.4309505792491207,0.41609482167032685,-1.2642759525596383,0.8088606095923593,-0.3287787352467742,-0.6640834034711206,-0.7619309954237736,0.4226777605230677,0.24979936237140168,0.28290305086873324,-0.2587768684335364,-1.1073499176529262,1.2678433641662228,0.7205688117833361,0.013101018318805328,1.0924839966821154,-1.365552472959164,-0.6069035061411017,-0.7144470408869261,1.0164384956684194,0.443418569079833,1.5261437417082782,-0.4466690260594189,-0.03827589074987316,1.8217727999067659,0.9210873939031335,-0.6617860453960066,0.16821137523823973,-0.1432853121140892,-2.7978845041908693,-0.9871087600490078,0.23248038532172627,1.24398179577353,-0.49018419946746145,0.21244678095206795,1.0542662813242147,0.41159843284465036,-0.3283155232768134,-0.14949025923677958,-0.9729735249688074,0.4689267035066989,0.39267582822134933,-0.2970338809944145,-0.3276061866690047,0.14517824094086815,-0.5009911239461405,0.2938491028086687,-0.05358032996194319,0.15824222616038994,-1.0316553589625612,-0.8889064599434631,-1.0109186708122362,0.8680587463217743,-0.523884874888583,-0.19984029864885086,-0.14148835743846858,-0.009625828651904937,1.2595153681009292,-0.7494574853190527,1.165196594856903,-0.15616145611462873,-0.5545374650676813,-1.0616810378264292,-1.3512784595061946,-1.3413189832986294,0.30622554758114745,-1.3427236915580891,-0.8361594218203363,-0.32322420311663497,0.6932830181946397,0.45785925248063436,-0.26482801927470795,-0.21506392508465094,-0.20592211725464296,0.12609007771073222,-1.5140332619993535,0.569167999467806,0.21077166262899988,-0.3175134211123909,0.26939347185908497],\"type\":\"scatter\"}],                        {\"legend\":{\"bgcolor\":\"#F5F6F9\",\"font\":{\"color\":\"#4D5663\"}},\"paper_bgcolor\":\"#F5F6F9\",\"plot_bgcolor\":\"#F5F6F9\",\"template\":{\"data\":{\"barpolar\":[{\"marker\":{\"line\":{\"color\":\"#E5ECF6\",\"width\":0.5},\"pattern\":{\"fillmode\":\"overlay\",\"size\":10,\"solidity\":0.2}},\"type\":\"barpolar\"}],\"bar\":[{\"error_x\":{\"color\":\"#2a3f5f\"},\"error_y\":{\"color\":\"#2a3f5f\"},\"marker\":{\"line\":{\"color\":\"#E5ECF6\",\"width\":0.5},\"pattern\":{\"fillmode\":\"overlay\",\"size\":10,\"solidity\":0.2}},\"type\":\"bar\"}],\"carpet\":[{\"aaxis\":{\"endlinecolor\":\"#2a3f5f\",\"gridcolor\":\"white\",\"linecolor\":\"white\",\"minorgridcolor\":\"white\",\"startlinecolor\":\"#2a3f5f\"},\"baxis\":{\"endlinecolor\":\"#2a3f5f\",\"gridcolor\":\"white\",\"linecolor\":\"white\",\"minorgridcolor\":\"white\",\"startlinecolor\":\"#2a3f5f\"},\"type\":\"carpet\"}],\"choropleth\":[{\"colorbar\":{\"outlinewidth\":0,\"ticks\":\"\"},\"type\":\"choropleth\"}],\"contourcarpet\":[{\"colorbar\":{\"outlinewidth\":0,\"ticks\":\"\"},\"type\":\"contourcarpet\"}],\"contour\":[{\"colorbar\":{\"outlinewidth\":0,\"ticks\":\"\"},\"colorscale\":[[0.0,\"#0d0887\"],[0.1111111111111111,\"#46039f\"],[0.2222222222222222,\"#7201a8\"],[0.3333333333333333,\"#9c179e\"],[0.4444444444444444,\"#bd3786\"],[0.5555555555555556,\"#d8576b\"],[0.6666666666666666,\"#ed7953\"],[0.7777777777777778,\"#fb9f3a\"],[0.8888888888888888,\"#fdca26\"],[1.0,\"#f0f921\"]],\"type\":\"contour\"}],\"heatmapgl\":[{\"colorbar\":{\"outlinewidth\":0,\"ticks\":\"\"},\"colorscale\":[[0.0,\"#0d0887\"],[0.1111111111111111,\"#46039f\"],[0.2222222222222222,\"#7201a8\"],[0.3333333333333333,\"#9c179e\"],[0.4444444444444444,\"#bd3786\"],[0.5555555555555556,\"#d8576b\"],[0.6666666666666666,\"#ed7953\"],[0.7777777777777778,\"#fb9f3a\"],[0.8888888888888888,\"#fdca26\"],[1.0,\"#f0f921\"]],\"type\":\"heatmapgl\"}],\"heatmap\":[{\"colorbar\":{\"outlinewidth\":0,\"ticks\":\"\"},\"colorscale\":[[0.0,\"#0d0887\"],[0.1111111111111111,\"#46039f\"],[0.2222222222222222,\"#7201a8\"],[0.3333333333333333,\"#9c179e\"],[0.4444444444444444,\"#bd3786\"],[0.5555555555555556,\"#d8576b\"],[0.6666666666666666,\"#ed7953\"],[0.7777777777777778,\"#fb9f3a\"],[0.8888888888888888,\"#fdca26\"],[1.0,\"#f0f921\"]],\"type\":\"heatmap\"}],\"histogram2dcontour\":[{\"colorbar\":{\"outlinewidth\":0,\"ticks\":\"\"},\"colorscale\":[[0.0,\"#0d0887\"],[0.1111111111111111,\"#46039f\"],[0.2222222222222222,\"#7201a8\"],[0.3333333333333333,\"#9c179e\"],[0.4444444444444444,\"#bd3786\"],[0.5555555555555556,\"#d8576b\"],[0.6666666666666666,\"#ed7953\"],[0.7777777777777778,\"#fb9f3a\"],[0.8888888888888888,\"#fdca26\"],[1.0,\"#f0f921\"]],\"type\":\"histogram2dcontour\"}],\"histogram2d\":[{\"colorbar\":{\"outlinewidth\":0,\"ticks\":\"\"},\"colorscale\":[[0.0,\"#0d0887\"],[0.1111111111111111,\"#46039f\"],[0.2222222222222222,\"#7201a8\"],[0.3333333333333333,\"#9c179e\"],[0.4444444444444444,\"#bd3786\"],[0.5555555555555556,\"#d8576b\"],[0.6666666666666666,\"#ed7953\"],[0.7777777777777778,\"#fb9f3a\"],[0.8888888888888888,\"#fdca26\"],[1.0,\"#f0f921\"]],\"type\":\"histogram2d\"}],\"histogram\":[{\"marker\":{\"pattern\":{\"fillmode\":\"overlay\",\"size\":10,\"solidity\":0.2}},\"type\":\"histogram\"}],\"mesh3d\":[{\"colorbar\":{\"outlinewidth\":0,\"ticks\":\"\"},\"type\":\"mesh3d\"}],\"parcoords\":[{\"line\":{\"colorbar\":{\"outlinewidth\":0,\"ticks\":\"\"}},\"type\":\"parcoords\"}],\"pie\":[{\"automargin\":true,\"type\":\"pie\"}],\"scatter3d\":[{\"line\":{\"colorbar\":{\"outlinewidth\":0,\"ticks\":\"\"}},\"marker\":{\"colorbar\":{\"outlinewidth\":0,\"ticks\":\"\"}},\"type\":\"scatter3d\"}],\"scattercarpet\":[{\"marker\":{\"colorbar\":{\"outlinewidth\":0,\"ticks\":\"\"}},\"type\":\"scattercarpet\"}],\"scattergeo\":[{\"marker\":{\"colorbar\":{\"outlinewidth\":0,\"ticks\":\"\"}},\"type\":\"scattergeo\"}],\"scattergl\":[{\"marker\":{\"colorbar\":{\"outlinewidth\":0,\"ticks\":\"\"}},\"type\":\"scattergl\"}],\"scattermapbox\":[{\"marker\":{\"colorbar\":{\"outlinewidth\":0,\"ticks\":\"\"}},\"type\":\"scattermapbox\"}],\"scatterpolargl\":[{\"marker\":{\"colorbar\":{\"outlinewidth\":0,\"ticks\":\"\"}},\"type\":\"scatterpolargl\"}],\"scatterpolar\":[{\"marker\":{\"colorbar\":{\"outlinewidth\":0,\"ticks\":\"\"}},\"type\":\"scatterpolar\"}],\"scatter\":[{\"fillpattern\":{\"fillmode\":\"overlay\",\"size\":10,\"solidity\":0.2},\"type\":\"scatter\"}],\"scatterternary\":[{\"marker\":{\"colorbar\":{\"outlinewidth\":0,\"ticks\":\"\"}},\"type\":\"scatterternary\"}],\"surface\":[{\"colorbar\":{\"outlinewidth\":0,\"ticks\":\"\"},\"colorscale\":[[0.0,\"#0d0887\"],[0.1111111111111111,\"#46039f\"],[0.2222222222222222,\"#7201a8\"],[0.3333333333333333,\"#9c179e\"],[0.4444444444444444,\"#bd3786\"],[0.5555555555555556,\"#d8576b\"],[0.6666666666666666,\"#ed7953\"],[0.7777777777777778,\"#fb9f3a\"],[0.8888888888888888,\"#fdca26\"],[1.0,\"#f0f921\"]],\"type\":\"surface\"}],\"table\":[{\"cells\":{\"fill\":{\"color\":\"#EBF0F8\"},\"line\":{\"color\":\"white\"}},\"header\":{\"fill\":{\"color\":\"#C8D4E3\"},\"line\":{\"color\":\"white\"}},\"type\":\"table\"}]},\"layout\":{\"annotationdefaults\":{\"arrowcolor\":\"#2a3f5f\",\"arrowhead\":0,\"arrowwidth\":1},\"autotypenumbers\":\"strict\",\"coloraxis\":{\"colorbar\":{\"outlinewidth\":0,\"ticks\":\"\"}},\"colorscale\":{\"diverging\":[[0,\"#8e0152\"],[0.1,\"#c51b7d\"],[0.2,\"#de77ae\"],[0.3,\"#f1b6da\"],[0.4,\"#fde0ef\"],[0.5,\"#f7f7f7\"],[0.6,\"#e6f5d0\"],[0.7,\"#b8e186\"],[0.8,\"#7fbc41\"],[0.9,\"#4d9221\"],[1,\"#276419\"]],\"sequential\":[[0.0,\"#0d0887\"],[0.1111111111111111,\"#46039f\"],[0.2222222222222222,\"#7201a8\"],[0.3333333333333333,\"#9c179e\"],[0.4444444444444444,\"#bd3786\"],[0.5555555555555556,\"#d8576b\"],[0.6666666666666666,\"#ed7953\"],[0.7777777777777778,\"#fb9f3a\"],[0.8888888888888888,\"#fdca26\"],[1.0,\"#f0f921\"]],\"sequentialminus\":[[0.0,\"#0d0887\"],[0.1111111111111111,\"#46039f\"],[0.2222222222222222,\"#7201a8\"],[0.3333333333333333,\"#9c179e\"],[0.4444444444444444,\"#bd3786\"],[0.5555555555555556,\"#d8576b\"],[0.6666666666666666,\"#ed7953\"],[0.7777777777777778,\"#fb9f3a\"],[0.8888888888888888,\"#fdca26\"],[1.0,\"#f0f921\"]]},\"colorway\":[\"#636efa\",\"#EF553B\",\"#00cc96\",\"#ab63fa\",\"#FFA15A\",\"#19d3f3\",\"#FF6692\",\"#B6E880\",\"#FF97FF\",\"#FECB52\"],\"font\":{\"color\":\"#2a3f5f\"},\"geo\":{\"bgcolor\":\"white\",\"lakecolor\":\"white\",\"landcolor\":\"#E5ECF6\",\"showlakes\":true,\"showland\":true,\"subunitcolor\":\"white\"},\"hoverlabel\":{\"align\":\"left\"},\"hovermode\":\"closest\",\"mapbox\":{\"style\":\"light\"},\"paper_bgcolor\":\"white\",\"plot_bgcolor\":\"#E5ECF6\",\"polar\":{\"angularaxis\":{\"gridcolor\":\"white\",\"linecolor\":\"white\",\"ticks\":\"\"},\"bgcolor\":\"#E5ECF6\",\"radialaxis\":{\"gridcolor\":\"white\",\"linecolor\":\"white\",\"ticks\":\"\"}},\"scene\":{\"xaxis\":{\"backgroundcolor\":\"#E5ECF6\",\"gridcolor\":\"white\",\"gridwidth\":2,\"linecolor\":\"white\",\"showbackground\":true,\"ticks\":\"\",\"zerolinecolor\":\"white\"},\"yaxis\":{\"backgroundcolor\":\"#E5ECF6\",\"gridcolor\":\"white\",\"gridwidth\":2,\"linecolor\":\"white\",\"showbackground\":true,\"ticks\":\"\",\"zerolinecolor\":\"white\"},\"zaxis\":{\"backgroundcolor\":\"#E5ECF6\",\"gridcolor\":\"white\",\"gridwidth\":2,\"linecolor\":\"white\",\"showbackground\":true,\"ticks\":\"\",\"zerolinecolor\":\"white\"}},\"shapedefaults\":{\"line\":{\"color\":\"#2a3f5f\"}},\"ternary\":{\"aaxis\":{\"gridcolor\":\"white\",\"linecolor\":\"white\",\"ticks\":\"\"},\"baxis\":{\"gridcolor\":\"white\",\"linecolor\":\"white\",\"ticks\":\"\"},\"bgcolor\":\"#E5ECF6\",\"caxis\":{\"gridcolor\":\"white\",\"linecolor\":\"white\",\"ticks\":\"\"}},\"title\":{\"x\":0.05},\"xaxis\":{\"automargin\":true,\"gridcolor\":\"white\",\"linecolor\":\"white\",\"ticks\":\"\",\"title\":{\"standoff\":15},\"zerolinecolor\":\"white\",\"zerolinewidth\":2},\"yaxis\":{\"automargin\":true,\"gridcolor\":\"white\",\"linecolor\":\"white\",\"ticks\":\"\",\"title\":{\"standoff\":15},\"zerolinecolor\":\"white\",\"zerolinewidth\":2}}},\"title\":{\"font\":{\"color\":\"#4D5663\"}},\"xaxis\":{\"gridcolor\":\"#E1E5ED\",\"showgrid\":true,\"tickfont\":{\"color\":\"#4D5663\"},\"title\":{\"font\":{\"color\":\"#4D5663\"},\"text\":\"\"},\"zerolinecolor\":\"#E1E5ED\"},\"yaxis\":{\"gridcolor\":\"#E1E5ED\",\"showgrid\":true,\"tickfont\":{\"color\":\"#4D5663\"},\"title\":{\"font\":{\"color\":\"#4D5663\"},\"text\":\"\"},\"zerolinecolor\":\"#E1E5ED\"}},                        {\"showLink\": true, \"linkText\": \"Export to plot.ly\", \"plotlyServerURL\": \"https://plot.ly\", \"responsive\": true}                    ).then(function(){\n",
       "                            \n",
       "var gd = document.getElementById('cbc9cea9-cb25-4b9f-8765-19f83cc53f0c');\n",
       "var x = new MutationObserver(function (mutations, observer) {{\n",
       "        var display = window.getComputedStyle(gd).display;\n",
       "        if (!display || display === 'none') {{\n",
       "            console.log([gd, 'removed!']);\n",
       "            Plotly.purge(gd);\n",
       "            observer.disconnect();\n",
       "        }}\n",
       "}});\n",
       "\n",
       "// Listen for the removal of the full notebook cells\n",
       "var notebookContainer = gd.closest('#notebook-container');\n",
       "if (notebookContainer) {{\n",
       "    x.observe(notebookContainer, {childList: true});\n",
       "}}\n",
       "\n",
       "// Listen for the clearing of the current output cell\n",
       "var outputEl = gd.closest('.output');\n",
       "if (outputEl) {{\n",
       "    x.observe(outputEl, {childList: true});\n",
       "}}\n",
       "\n",
       "                        })                };                });            </script>        </div>"
      ]
     },
     "metadata": {},
     "output_type": "display_data"
    }
   ],
   "source": [
    "df.iplot(kind='bubble',x='A',y='B',size='C')"
   ]
  },
  {
   "cell_type": "markdown",
   "metadata": {},
   "source": [
    "## scatter_matrix()\n",
    "\n",
    "Similar a sns.pairplot()"
   ]
  },
  {
   "cell_type": "code",
   "execution_count": 19,
   "metadata": {},
   "outputs": [
    {
     "data": {
      "application/vnd.plotly.v1+json": {
       "config": {
        "linkText": "Export to plot.ly",
        "plotlyServerURL": "https://plot.ly",
        "showLink": true
       },
       "data": [
        {
         "histfunc": "count",
         "histnorm": "",
         "marker": {
          "color": "rgba(255, 153, 51, 1.0)",
          "line": {
           "color": "#4D5663",
           "width": 1.3
          }
         },
         "name": "A",
         "nbinsx": 10,
         "opacity": 0.8,
         "orientation": "v",
         "type": "histogram",
         "x": [
          -0.7459921802284659,
          -0.2985331193711804,
          -0.5923070930794322,
          1.0241349657605285,
          1.3474652422939397,
          -0.3306346733325379,
          0.12698460532380978,
          -1.2396216588120965,
          1.4135882069108947,
          -0.4340229477075488,
          -2.1086061405379892,
          0.6650868623623832,
          -0.9392383681720982,
          -0.8012157757144039,
          0.3556419166568355,
          0.17027391249413223,
          1.2373283151950252,
          -0.4278715023691055,
          0.5122398939890646,
          -0.11651123285876328,
          0.24228686745884245,
          2.7388904967110514,
          -0.07739903639478632,
          -1.7729344017310518,
          -0.8044559993420353,
          0.32858915549721407,
          1.6938449970171683,
          0.20667478488806795,
          0.3730087418711053,
          1.2819911073395296,
          1.0994228222100382,
          -0.6375445967919214,
          -0.015269635410634546,
          1.3432161615550722,
          0.38147805069172214,
          0.8090768264403407,
          -0.2651207647914632,
          -0.16152848676210493,
          -0.7269239383533179,
          -0.6137628729964091,
          0.5453822578346342,
          3.3903895782942266,
          -0.06297500095351101,
          0.04123220659054581,
          -0.5207128486462764,
          0.529189297618538,
          -0.2932635542935991,
          -1.7590769255017142,
          0.4561990099342433,
          -1.2014994000604384,
          0.7457774415845939,
          -0.6599210785512793,
          0.49290673558060794,
          -0.09439724081832111,
          0.5776279393791839,
          0.6604600090753378,
          0.2617093580743427,
          0.7413067020176657,
          -0.1261681498761519,
          1.0310886998176432,
          -2.0567488675287304,
          1.125328876952449,
          1.3869881729229596,
          1.1651878049553273,
          -1.7468494092187064,
          -0.05160940085340369,
          -1.6270745323537221,
          -0.8729420211114243,
          -0.4416407332362468,
          0.14056114799324715,
          -0.13450494629745824,
          1.1135561248487242,
          -0.24136313385725927,
          0.2953075790841706,
          0.9533194362152135,
          0.30431001658093426,
          -0.19300675495041086,
          0.3705726709997868,
          0.27881990624938835,
          1.8364326683786332,
          0.4284722687128993,
          -1.2617417433708187,
          -1.3276369663042034,
          0.7562551076888145,
          -0.41477062335883763,
          -1.031744056577676,
          0.7731528564898905,
          0.024136114280125243,
          1.4344322176590476,
          -1.6726958453708354,
          -0.6738035330410321,
          -1.64588650160417,
          0.00019750244670672836,
          0.2418395172388969,
          -1.2328421931298899,
          0.43474031290286197,
          -0.935102556309525,
          -3.030241304070444,
          0.1630101373330067,
          -1.0259787293633311
         ],
         "xaxis": "x",
         "yaxis": "y"
        },
        {
         "line": {
          "color": "rgba(128, 128, 128, 1.0)",
          "dash": "solid",
          "shape": "linear",
          "width": 1.3
         },
         "marker": {
          "size": 2,
          "symbol": "circle"
         },
         "mode": "markers",
         "name": "A",
         "text": "",
         "type": "scatter",
         "x": [
          3.0024849906902924,
          -0.6712017479592524,
          1.6122949489688632,
          0.048319156974700864,
          -0.7037217982582277,
          -0.7346015241816336,
          0.46733197276926874,
          -1.2163230831125607,
          -1.8376965510535215,
          -0.37220305547565036,
          0.4982038444106561,
          0.41856621895463025,
          1.440065157327684,
          0.034012958086091255,
          -0.3857573090224651,
          0.06890290989061831,
          -0.2469046756260349,
          0.5308059485294074,
          1.2798339250090698,
          -0.6612866651020235,
          -0.4309505792491207,
          0.41609482167032685,
          -1.2642759525596383,
          0.8088606095923593,
          -0.3287787352467742,
          -0.6640834034711206,
          -0.7619309954237736,
          0.4226777605230677,
          0.24979936237140168,
          0.28290305086873324,
          -0.2587768684335364,
          -1.1073499176529262,
          1.2678433641662228,
          0.7205688117833361,
          0.013101018318805328,
          1.0924839966821154,
          -1.365552472959164,
          -0.6069035061411017,
          -0.7144470408869261,
          1.0164384956684194,
          0.443418569079833,
          1.5261437417082782,
          -0.4466690260594189,
          -0.03827589074987316,
          1.8217727999067659,
          0.9210873939031335,
          -0.6617860453960066,
          0.16821137523823973,
          -0.1432853121140892,
          -2.7978845041908693,
          -0.9871087600490078,
          0.23248038532172627,
          1.24398179577353,
          -0.49018419946746145,
          0.21244678095206795,
          1.0542662813242147,
          0.41159843284465036,
          -0.3283155232768134,
          -0.14949025923677958,
          -0.9729735249688074,
          0.4689267035066989,
          0.39267582822134933,
          -0.2970338809944145,
          -0.3276061866690047,
          0.14517824094086815,
          -0.5009911239461405,
          0.2938491028086687,
          -0.05358032996194319,
          0.15824222616038994,
          -1.0316553589625612,
          -0.8889064599434631,
          -1.0109186708122362,
          0.8680587463217743,
          -0.523884874888583,
          -0.19984029864885086,
          -0.14148835743846858,
          -0.009625828651904937,
          1.2595153681009292,
          -0.7494574853190527,
          1.165196594856903,
          -0.15616145611462873,
          -0.5545374650676813,
          -1.0616810378264292,
          -1.3512784595061946,
          -1.3413189832986294,
          0.30622554758114745,
          -1.3427236915580891,
          -0.8361594218203363,
          -0.32322420311663497,
          0.6932830181946397,
          0.45785925248063436,
          -0.26482801927470795,
          -0.21506392508465094,
          -0.20592211725464296,
          0.12609007771073222,
          -1.5140332619993535,
          0.569167999467806,
          0.21077166262899988,
          -0.3175134211123909,
          0.26939347185908497
         ],
         "xaxis": "x2",
         "y": [
          -0.7459921802284659,
          -0.2985331193711804,
          -0.5923070930794322,
          1.0241349657605285,
          1.3474652422939397,
          -0.3306346733325379,
          0.12698460532380978,
          -1.2396216588120965,
          1.4135882069108947,
          -0.4340229477075488,
          -2.1086061405379892,
          0.6650868623623832,
          -0.9392383681720982,
          -0.8012157757144039,
          0.3556419166568355,
          0.17027391249413223,
          1.2373283151950252,
          -0.4278715023691055,
          0.5122398939890646,
          -0.11651123285876328,
          0.24228686745884245,
          2.7388904967110514,
          -0.07739903639478632,
          -1.7729344017310518,
          -0.8044559993420353,
          0.32858915549721407,
          1.6938449970171683,
          0.20667478488806795,
          0.3730087418711053,
          1.2819911073395296,
          1.0994228222100382,
          -0.6375445967919214,
          -0.015269635410634546,
          1.3432161615550722,
          0.38147805069172214,
          0.8090768264403407,
          -0.2651207647914632,
          -0.16152848676210493,
          -0.7269239383533179,
          -0.6137628729964091,
          0.5453822578346342,
          3.3903895782942266,
          -0.06297500095351101,
          0.04123220659054581,
          -0.5207128486462764,
          0.529189297618538,
          -0.2932635542935991,
          -1.7590769255017142,
          0.4561990099342433,
          -1.2014994000604384,
          0.7457774415845939,
          -0.6599210785512793,
          0.49290673558060794,
          -0.09439724081832111,
          0.5776279393791839,
          0.6604600090753378,
          0.2617093580743427,
          0.7413067020176657,
          -0.1261681498761519,
          1.0310886998176432,
          -2.0567488675287304,
          1.125328876952449,
          1.3869881729229596,
          1.1651878049553273,
          -1.7468494092187064,
          -0.05160940085340369,
          -1.6270745323537221,
          -0.8729420211114243,
          -0.4416407332362468,
          0.14056114799324715,
          -0.13450494629745824,
          1.1135561248487242,
          -0.24136313385725927,
          0.2953075790841706,
          0.9533194362152135,
          0.30431001658093426,
          -0.19300675495041086,
          0.3705726709997868,
          0.27881990624938835,
          1.8364326683786332,
          0.4284722687128993,
          -1.2617417433708187,
          -1.3276369663042034,
          0.7562551076888145,
          -0.41477062335883763,
          -1.031744056577676,
          0.7731528564898905,
          0.024136114280125243,
          1.4344322176590476,
          -1.6726958453708354,
          -0.6738035330410321,
          -1.64588650160417,
          0.00019750244670672836,
          0.2418395172388969,
          -1.2328421931298899,
          0.43474031290286197,
          -0.935102556309525,
          -3.030241304070444,
          0.1630101373330067,
          -1.0259787293633311
         ],
         "yaxis": "y2"
        },
        {
         "line": {
          "color": "rgba(128, 128, 128, 1.0)",
          "dash": "solid",
          "shape": "linear",
          "width": 1.3
         },
         "marker": {
          "size": 2,
          "symbol": "circle"
         },
         "mode": "markers",
         "name": "A",
         "text": "",
         "type": "scatter",
         "x": [
          0.8113018159276627,
          -1.616591510992557,
          -0.34210620623359317,
          -0.1608380889424734,
          -1.5930171832968276,
          1.3163945997225097,
          0.14537021411047765,
          -0.31941598554290324,
          -0.043408673181858246,
          0.4218402251857933,
          1.0706319088453258,
          -0.0387041561845792,
          -0.6048296600038991,
          -0.25862060311070534,
          0.2805856976417199,
          -0.49357009305695704,
          0.560811157144869,
          -0.2747554426537597,
          -1.4570763926371968,
          -0.5894314407174535,
          -0.542569606893755,
          0.9695137485948544,
          1.923238732616469,
          -0.1201127967988659,
          -1.2625936436788925,
          1.4161530673322527,
          0.6928904459679615,
          0.15597596266110106,
          -0.18010509321539825,
          2.7869568632946606,
          -0.7727524579134264,
          -0.9512916232408573,
          0.6655970628864091,
          0.14320990353629576,
          -1.163233425097576,
          -1.1699505850992482,
          0.48627632840072155,
          -0.08002200140047959,
          -0.866163781622745,
          -0.7365750121239006,
          0.80107814419454,
          -0.4788418006526577,
          0.711292891715219,
          -0.45203810351847046,
          0.3897190003684126,
          2.086194939010628,
          0.4138766086155095,
          1.0147933603608388,
          -1.0706075825077774,
          0.13424782541174513,
          0.7226514491375658,
          0.43180326020643994,
          -0.6010352902596428,
          0.5133485097482706,
          -1.5185139735237612,
          -0.09325680401253154,
          1.4356914174704043,
          -0.4863913836168061,
          0.9181625178962032,
          1.1412321982521312,
          1.6518123162034772,
          -0.4626919199956366,
          -1.0088298637768962,
          1.3568492527889044,
          -0.979833248540261,
          0.9250213995648844,
          -1.2466304486588788,
          1.4031994601015796,
          -0.21998113203257877,
          -0.7253382859367504,
          0.09488617012844323,
          1.040851900292978,
          0.05093586697419843,
          -0.2675202194885947,
          -1.0655837915440298,
          0.1284908111859617,
          0.6698417823428845,
          1.0736933716461932,
          -0.0004236036007082919,
          0.8714767505757695,
          -0.9027189168019534,
          -0.08729604857291093,
          2.060039092449106,
          1.3447301921359462,
          -1.7900799649521892,
          1.64923527181763,
          0.5290034491709216,
          -0.15555846680224375,
          -0.4471044004759734,
          1.3369808740218303,
          -0.43070999832171797,
          -0.44738783149839034,
          -0.48200056242532596,
          0.9843156571561115,
          -0.9962186196879177,
          2.6606864353612916,
          -0.4343984891365146,
          0.3990878583058662,
          -0.6890321533124985,
          0.21305454433974544
         ],
         "xaxis": "x3",
         "y": [
          -0.7459921802284659,
          -0.2985331193711804,
          -0.5923070930794322,
          1.0241349657605285,
          1.3474652422939397,
          -0.3306346733325379,
          0.12698460532380978,
          -1.2396216588120965,
          1.4135882069108947,
          -0.4340229477075488,
          -2.1086061405379892,
          0.6650868623623832,
          -0.9392383681720982,
          -0.8012157757144039,
          0.3556419166568355,
          0.17027391249413223,
          1.2373283151950252,
          -0.4278715023691055,
          0.5122398939890646,
          -0.11651123285876328,
          0.24228686745884245,
          2.7388904967110514,
          -0.07739903639478632,
          -1.7729344017310518,
          -0.8044559993420353,
          0.32858915549721407,
          1.6938449970171683,
          0.20667478488806795,
          0.3730087418711053,
          1.2819911073395296,
          1.0994228222100382,
          -0.6375445967919214,
          -0.015269635410634546,
          1.3432161615550722,
          0.38147805069172214,
          0.8090768264403407,
          -0.2651207647914632,
          -0.16152848676210493,
          -0.7269239383533179,
          -0.6137628729964091,
          0.5453822578346342,
          3.3903895782942266,
          -0.06297500095351101,
          0.04123220659054581,
          -0.5207128486462764,
          0.529189297618538,
          -0.2932635542935991,
          -1.7590769255017142,
          0.4561990099342433,
          -1.2014994000604384,
          0.7457774415845939,
          -0.6599210785512793,
          0.49290673558060794,
          -0.09439724081832111,
          0.5776279393791839,
          0.6604600090753378,
          0.2617093580743427,
          0.7413067020176657,
          -0.1261681498761519,
          1.0310886998176432,
          -2.0567488675287304,
          1.125328876952449,
          1.3869881729229596,
          1.1651878049553273,
          -1.7468494092187064,
          -0.05160940085340369,
          -1.6270745323537221,
          -0.8729420211114243,
          -0.4416407332362468,
          0.14056114799324715,
          -0.13450494629745824,
          1.1135561248487242,
          -0.24136313385725927,
          0.2953075790841706,
          0.9533194362152135,
          0.30431001658093426,
          -0.19300675495041086,
          0.3705726709997868,
          0.27881990624938835,
          1.8364326683786332,
          0.4284722687128993,
          -1.2617417433708187,
          -1.3276369663042034,
          0.7562551076888145,
          -0.41477062335883763,
          -1.031744056577676,
          0.7731528564898905,
          0.024136114280125243,
          1.4344322176590476,
          -1.6726958453708354,
          -0.6738035330410321,
          -1.64588650160417,
          0.00019750244670672836,
          0.2418395172388969,
          -1.2328421931298899,
          0.43474031290286197,
          -0.935102556309525,
          -3.030241304070444,
          0.1630101373330067,
          -1.0259787293633311
         ],
         "yaxis": "y3"
        },
        {
         "line": {
          "color": "rgba(128, 128, 128, 1.0)",
          "dash": "solid",
          "shape": "linear",
          "width": 1.3
         },
         "marker": {
          "size": 2,
          "symbol": "circle"
         },
         "mode": "markers",
         "name": "A",
         "text": "",
         "type": "scatter",
         "x": [
          -1.5834697851579909,
          -0.7825639756743333,
          1.5647530721653389,
          0.6665738843861724,
          0.9179070161090263,
          1.1252093153938167,
          -0.5514268406912114,
          -0.46889949285177746,
          -0.6206162760360194,
          0.2108798117613887,
          -0.3783493244783955,
          0.5042136077299458,
          -1.4586208203934794,
          1.2912723098743222,
          -0.20947923787285871,
          2.2913706160454406,
          -1.8224857607378717,
          -0.0027484726196031115,
          -0.5166730365483232,
          1.084661778503231,
          0.38368659740625566,
          -2.627459295234819,
          0.7468293470424616,
          -0.9738444590021562,
          -1.149366835113078,
          -0.5875061241460016,
          -0.9215439900308457,
          0.8269858946997607,
          0.11573647663864463,
          -1.446237192850758,
          -0.26436644873993737,
          -0.9442682068582215,
          -0.5310299833174894,
          -0.0479546733652983,
          -2.0433344715405988,
          0.22188718745946992,
          -1.129153267778444,
          -0.8485430488921378,
          0.38306254883799906,
          0.53461624832531,
          -0.3791237885566834,
          0.30272409746642337,
          0.21130593108566786,
          0.9097476628582934,
          -1.890060857566516,
          0.15313781758630732,
          -0.4448902190835499,
          -0.5395809052879742,
          -0.24286760274253633,
          1.9607760160002479,
          -0.5460757031753178,
          -0.7559482319618465,
          0.15276127622373334,
          0.09115330392890346,
          0.11936276867588004,
          -1.0380997387230315,
          1.2817698631679533,
          -1.032771814372345,
          -0.529363399194491,
          1.4760321282045017,
          0.5350437936214948,
          0.17880345684652296,
          0.011245862447948595,
          -0.9714533079896704,
          0.6572313477128922,
          -0.09810124347477055,
          -1.3487285237789288,
          0.9235965259080726,
          -0.7359193510652727,
          -1.6151096203332505,
          1.072207202252124,
          -0.39246292521949194,
          -0.5938987883601538,
          -0.5020075232295248,
          0.9928938951087263,
          -2.7691399769520904,
          -0.42403908031201104,
          2.8150882271346687,
          0.4315319751713658,
          -0.1764233652463163,
          -0.9179004761631729,
          0.6827020125608767,
          -0.7920828900921183,
          -2.466873678892425,
          0.08342115316629682,
          0.39369422006736843,
          -0.13890414142264046,
          0.24475164965416543,
          0.5541996490339449,
          0.004838809382971433,
          1.9426062212036994,
          0.15023694684415653,
          -0.18706037913695334,
          0.4696909594283362,
          0.3009907728739544,
          -0.3902225432444208,
          -1.6440593494498816,
          -0.8843173126622377,
          0.8054403212007447,
          0.24409360944427766
         ],
         "xaxis": "x4",
         "y": [
          -0.7459921802284659,
          -0.2985331193711804,
          -0.5923070930794322,
          1.0241349657605285,
          1.3474652422939397,
          -0.3306346733325379,
          0.12698460532380978,
          -1.2396216588120965,
          1.4135882069108947,
          -0.4340229477075488,
          -2.1086061405379892,
          0.6650868623623832,
          -0.9392383681720982,
          -0.8012157757144039,
          0.3556419166568355,
          0.17027391249413223,
          1.2373283151950252,
          -0.4278715023691055,
          0.5122398939890646,
          -0.11651123285876328,
          0.24228686745884245,
          2.7388904967110514,
          -0.07739903639478632,
          -1.7729344017310518,
          -0.8044559993420353,
          0.32858915549721407,
          1.6938449970171683,
          0.20667478488806795,
          0.3730087418711053,
          1.2819911073395296,
          1.0994228222100382,
          -0.6375445967919214,
          -0.015269635410634546,
          1.3432161615550722,
          0.38147805069172214,
          0.8090768264403407,
          -0.2651207647914632,
          -0.16152848676210493,
          -0.7269239383533179,
          -0.6137628729964091,
          0.5453822578346342,
          3.3903895782942266,
          -0.06297500095351101,
          0.04123220659054581,
          -0.5207128486462764,
          0.529189297618538,
          -0.2932635542935991,
          -1.7590769255017142,
          0.4561990099342433,
          -1.2014994000604384,
          0.7457774415845939,
          -0.6599210785512793,
          0.49290673558060794,
          -0.09439724081832111,
          0.5776279393791839,
          0.6604600090753378,
          0.2617093580743427,
          0.7413067020176657,
          -0.1261681498761519,
          1.0310886998176432,
          -2.0567488675287304,
          1.125328876952449,
          1.3869881729229596,
          1.1651878049553273,
          -1.7468494092187064,
          -0.05160940085340369,
          -1.6270745323537221,
          -0.8729420211114243,
          -0.4416407332362468,
          0.14056114799324715,
          -0.13450494629745824,
          1.1135561248487242,
          -0.24136313385725927,
          0.2953075790841706,
          0.9533194362152135,
          0.30431001658093426,
          -0.19300675495041086,
          0.3705726709997868,
          0.27881990624938835,
          1.8364326683786332,
          0.4284722687128993,
          -1.2617417433708187,
          -1.3276369663042034,
          0.7562551076888145,
          -0.41477062335883763,
          -1.031744056577676,
          0.7731528564898905,
          0.024136114280125243,
          1.4344322176590476,
          -1.6726958453708354,
          -0.6738035330410321,
          -1.64588650160417,
          0.00019750244670672836,
          0.2418395172388969,
          -1.2328421931298899,
          0.43474031290286197,
          -0.935102556309525,
          -3.030241304070444,
          0.1630101373330067,
          -1.0259787293633311
         ],
         "yaxis": "y4"
        },
        {
         "line": {
          "color": "rgba(128, 128, 128, 1.0)",
          "dash": "solid",
          "shape": "linear",
          "width": 1.3
         },
         "marker": {
          "size": 2,
          "symbol": "circle"
         },
         "mode": "markers",
         "name": "B",
         "text": "",
         "type": "scatter",
         "x": [
          -0.7459921802284659,
          -0.2985331193711804,
          -0.5923070930794322,
          1.0241349657605285,
          1.3474652422939397,
          -0.3306346733325379,
          0.12698460532380978,
          -1.2396216588120965,
          1.4135882069108947,
          -0.4340229477075488,
          -2.1086061405379892,
          0.6650868623623832,
          -0.9392383681720982,
          -0.8012157757144039,
          0.3556419166568355,
          0.17027391249413223,
          1.2373283151950252,
          -0.4278715023691055,
          0.5122398939890646,
          -0.11651123285876328,
          0.24228686745884245,
          2.7388904967110514,
          -0.07739903639478632,
          -1.7729344017310518,
          -0.8044559993420353,
          0.32858915549721407,
          1.6938449970171683,
          0.20667478488806795,
          0.3730087418711053,
          1.2819911073395296,
          1.0994228222100382,
          -0.6375445967919214,
          -0.015269635410634546,
          1.3432161615550722,
          0.38147805069172214,
          0.8090768264403407,
          -0.2651207647914632,
          -0.16152848676210493,
          -0.7269239383533179,
          -0.6137628729964091,
          0.5453822578346342,
          3.3903895782942266,
          -0.06297500095351101,
          0.04123220659054581,
          -0.5207128486462764,
          0.529189297618538,
          -0.2932635542935991,
          -1.7590769255017142,
          0.4561990099342433,
          -1.2014994000604384,
          0.7457774415845939,
          -0.6599210785512793,
          0.49290673558060794,
          -0.09439724081832111,
          0.5776279393791839,
          0.6604600090753378,
          0.2617093580743427,
          0.7413067020176657,
          -0.1261681498761519,
          1.0310886998176432,
          -2.0567488675287304,
          1.125328876952449,
          1.3869881729229596,
          1.1651878049553273,
          -1.7468494092187064,
          -0.05160940085340369,
          -1.6270745323537221,
          -0.8729420211114243,
          -0.4416407332362468,
          0.14056114799324715,
          -0.13450494629745824,
          1.1135561248487242,
          -0.24136313385725927,
          0.2953075790841706,
          0.9533194362152135,
          0.30431001658093426,
          -0.19300675495041086,
          0.3705726709997868,
          0.27881990624938835,
          1.8364326683786332,
          0.4284722687128993,
          -1.2617417433708187,
          -1.3276369663042034,
          0.7562551076888145,
          -0.41477062335883763,
          -1.031744056577676,
          0.7731528564898905,
          0.024136114280125243,
          1.4344322176590476,
          -1.6726958453708354,
          -0.6738035330410321,
          -1.64588650160417,
          0.00019750244670672836,
          0.2418395172388969,
          -1.2328421931298899,
          0.43474031290286197,
          -0.935102556309525,
          -3.030241304070444,
          0.1630101373330067,
          -1.0259787293633311
         ],
         "xaxis": "x5",
         "y": [
          3.0024849906902924,
          -0.6712017479592524,
          1.6122949489688632,
          0.048319156974700864,
          -0.7037217982582277,
          -0.7346015241816336,
          0.46733197276926874,
          -1.2163230831125607,
          -1.8376965510535215,
          -0.37220305547565036,
          0.4982038444106561,
          0.41856621895463025,
          1.440065157327684,
          0.034012958086091255,
          -0.3857573090224651,
          0.06890290989061831,
          -0.2469046756260349,
          0.5308059485294074,
          1.2798339250090698,
          -0.6612866651020235,
          -0.4309505792491207,
          0.41609482167032685,
          -1.2642759525596383,
          0.8088606095923593,
          -0.3287787352467742,
          -0.6640834034711206,
          -0.7619309954237736,
          0.4226777605230677,
          0.24979936237140168,
          0.28290305086873324,
          -0.2587768684335364,
          -1.1073499176529262,
          1.2678433641662228,
          0.7205688117833361,
          0.013101018318805328,
          1.0924839966821154,
          -1.365552472959164,
          -0.6069035061411017,
          -0.7144470408869261,
          1.0164384956684194,
          0.443418569079833,
          1.5261437417082782,
          -0.4466690260594189,
          -0.03827589074987316,
          1.8217727999067659,
          0.9210873939031335,
          -0.6617860453960066,
          0.16821137523823973,
          -0.1432853121140892,
          -2.7978845041908693,
          -0.9871087600490078,
          0.23248038532172627,
          1.24398179577353,
          -0.49018419946746145,
          0.21244678095206795,
          1.0542662813242147,
          0.41159843284465036,
          -0.3283155232768134,
          -0.14949025923677958,
          -0.9729735249688074,
          0.4689267035066989,
          0.39267582822134933,
          -0.2970338809944145,
          -0.3276061866690047,
          0.14517824094086815,
          -0.5009911239461405,
          0.2938491028086687,
          -0.05358032996194319,
          0.15824222616038994,
          -1.0316553589625612,
          -0.8889064599434631,
          -1.0109186708122362,
          0.8680587463217743,
          -0.523884874888583,
          -0.19984029864885086,
          -0.14148835743846858,
          -0.009625828651904937,
          1.2595153681009292,
          -0.7494574853190527,
          1.165196594856903,
          -0.15616145611462873,
          -0.5545374650676813,
          -1.0616810378264292,
          -1.3512784595061946,
          -1.3413189832986294,
          0.30622554758114745,
          -1.3427236915580891,
          -0.8361594218203363,
          -0.32322420311663497,
          0.6932830181946397,
          0.45785925248063436,
          -0.26482801927470795,
          -0.21506392508465094,
          -0.20592211725464296,
          0.12609007771073222,
          -1.5140332619993535,
          0.569167999467806,
          0.21077166262899988,
          -0.3175134211123909,
          0.26939347185908497
         ],
         "yaxis": "y5"
        },
        {
         "histfunc": "count",
         "histnorm": "",
         "marker": {
          "color": "rgba(55, 128, 191, 1.0)",
          "line": {
           "color": "#4D5663",
           "width": 1.3
          }
         },
         "name": "B",
         "nbinsx": 10,
         "opacity": 0.8,
         "orientation": "v",
         "type": "histogram",
         "x": [
          3.0024849906902924,
          -0.6712017479592524,
          1.6122949489688632,
          0.048319156974700864,
          -0.7037217982582277,
          -0.7346015241816336,
          0.46733197276926874,
          -1.2163230831125607,
          -1.8376965510535215,
          -0.37220305547565036,
          0.4982038444106561,
          0.41856621895463025,
          1.440065157327684,
          0.034012958086091255,
          -0.3857573090224651,
          0.06890290989061831,
          -0.2469046756260349,
          0.5308059485294074,
          1.2798339250090698,
          -0.6612866651020235,
          -0.4309505792491207,
          0.41609482167032685,
          -1.2642759525596383,
          0.8088606095923593,
          -0.3287787352467742,
          -0.6640834034711206,
          -0.7619309954237736,
          0.4226777605230677,
          0.24979936237140168,
          0.28290305086873324,
          -0.2587768684335364,
          -1.1073499176529262,
          1.2678433641662228,
          0.7205688117833361,
          0.013101018318805328,
          1.0924839966821154,
          -1.365552472959164,
          -0.6069035061411017,
          -0.7144470408869261,
          1.0164384956684194,
          0.443418569079833,
          1.5261437417082782,
          -0.4466690260594189,
          -0.03827589074987316,
          1.8217727999067659,
          0.9210873939031335,
          -0.6617860453960066,
          0.16821137523823973,
          -0.1432853121140892,
          -2.7978845041908693,
          -0.9871087600490078,
          0.23248038532172627,
          1.24398179577353,
          -0.49018419946746145,
          0.21244678095206795,
          1.0542662813242147,
          0.41159843284465036,
          -0.3283155232768134,
          -0.14949025923677958,
          -0.9729735249688074,
          0.4689267035066989,
          0.39267582822134933,
          -0.2970338809944145,
          -0.3276061866690047,
          0.14517824094086815,
          -0.5009911239461405,
          0.2938491028086687,
          -0.05358032996194319,
          0.15824222616038994,
          -1.0316553589625612,
          -0.8889064599434631,
          -1.0109186708122362,
          0.8680587463217743,
          -0.523884874888583,
          -0.19984029864885086,
          -0.14148835743846858,
          -0.009625828651904937,
          1.2595153681009292,
          -0.7494574853190527,
          1.165196594856903,
          -0.15616145611462873,
          -0.5545374650676813,
          -1.0616810378264292,
          -1.3512784595061946,
          -1.3413189832986294,
          0.30622554758114745,
          -1.3427236915580891,
          -0.8361594218203363,
          -0.32322420311663497,
          0.6932830181946397,
          0.45785925248063436,
          -0.26482801927470795,
          -0.21506392508465094,
          -0.20592211725464296,
          0.12609007771073222,
          -1.5140332619993535,
          0.569167999467806,
          0.21077166262899988,
          -0.3175134211123909,
          0.26939347185908497
         ],
         "xaxis": "x6",
         "yaxis": "y6"
        },
        {
         "line": {
          "color": "rgba(128, 128, 128, 1.0)",
          "dash": "solid",
          "shape": "linear",
          "width": 1.3
         },
         "marker": {
          "size": 2,
          "symbol": "circle"
         },
         "mode": "markers",
         "name": "B",
         "text": "",
         "type": "scatter",
         "x": [
          0.8113018159276627,
          -1.616591510992557,
          -0.34210620623359317,
          -0.1608380889424734,
          -1.5930171832968276,
          1.3163945997225097,
          0.14537021411047765,
          -0.31941598554290324,
          -0.043408673181858246,
          0.4218402251857933,
          1.0706319088453258,
          -0.0387041561845792,
          -0.6048296600038991,
          -0.25862060311070534,
          0.2805856976417199,
          -0.49357009305695704,
          0.560811157144869,
          -0.2747554426537597,
          -1.4570763926371968,
          -0.5894314407174535,
          -0.542569606893755,
          0.9695137485948544,
          1.923238732616469,
          -0.1201127967988659,
          -1.2625936436788925,
          1.4161530673322527,
          0.6928904459679615,
          0.15597596266110106,
          -0.18010509321539825,
          2.7869568632946606,
          -0.7727524579134264,
          -0.9512916232408573,
          0.6655970628864091,
          0.14320990353629576,
          -1.163233425097576,
          -1.1699505850992482,
          0.48627632840072155,
          -0.08002200140047959,
          -0.866163781622745,
          -0.7365750121239006,
          0.80107814419454,
          -0.4788418006526577,
          0.711292891715219,
          -0.45203810351847046,
          0.3897190003684126,
          2.086194939010628,
          0.4138766086155095,
          1.0147933603608388,
          -1.0706075825077774,
          0.13424782541174513,
          0.7226514491375658,
          0.43180326020643994,
          -0.6010352902596428,
          0.5133485097482706,
          -1.5185139735237612,
          -0.09325680401253154,
          1.4356914174704043,
          -0.4863913836168061,
          0.9181625178962032,
          1.1412321982521312,
          1.6518123162034772,
          -0.4626919199956366,
          -1.0088298637768962,
          1.3568492527889044,
          -0.979833248540261,
          0.9250213995648844,
          -1.2466304486588788,
          1.4031994601015796,
          -0.21998113203257877,
          -0.7253382859367504,
          0.09488617012844323,
          1.040851900292978,
          0.05093586697419843,
          -0.2675202194885947,
          -1.0655837915440298,
          0.1284908111859617,
          0.6698417823428845,
          1.0736933716461932,
          -0.0004236036007082919,
          0.8714767505757695,
          -0.9027189168019534,
          -0.08729604857291093,
          2.060039092449106,
          1.3447301921359462,
          -1.7900799649521892,
          1.64923527181763,
          0.5290034491709216,
          -0.15555846680224375,
          -0.4471044004759734,
          1.3369808740218303,
          -0.43070999832171797,
          -0.44738783149839034,
          -0.48200056242532596,
          0.9843156571561115,
          -0.9962186196879177,
          2.6606864353612916,
          -0.4343984891365146,
          0.3990878583058662,
          -0.6890321533124985,
          0.21305454433974544
         ],
         "xaxis": "x7",
         "y": [
          3.0024849906902924,
          -0.6712017479592524,
          1.6122949489688632,
          0.048319156974700864,
          -0.7037217982582277,
          -0.7346015241816336,
          0.46733197276926874,
          -1.2163230831125607,
          -1.8376965510535215,
          -0.37220305547565036,
          0.4982038444106561,
          0.41856621895463025,
          1.440065157327684,
          0.034012958086091255,
          -0.3857573090224651,
          0.06890290989061831,
          -0.2469046756260349,
          0.5308059485294074,
          1.2798339250090698,
          -0.6612866651020235,
          -0.4309505792491207,
          0.41609482167032685,
          -1.2642759525596383,
          0.8088606095923593,
          -0.3287787352467742,
          -0.6640834034711206,
          -0.7619309954237736,
          0.4226777605230677,
          0.24979936237140168,
          0.28290305086873324,
          -0.2587768684335364,
          -1.1073499176529262,
          1.2678433641662228,
          0.7205688117833361,
          0.013101018318805328,
          1.0924839966821154,
          -1.365552472959164,
          -0.6069035061411017,
          -0.7144470408869261,
          1.0164384956684194,
          0.443418569079833,
          1.5261437417082782,
          -0.4466690260594189,
          -0.03827589074987316,
          1.8217727999067659,
          0.9210873939031335,
          -0.6617860453960066,
          0.16821137523823973,
          -0.1432853121140892,
          -2.7978845041908693,
          -0.9871087600490078,
          0.23248038532172627,
          1.24398179577353,
          -0.49018419946746145,
          0.21244678095206795,
          1.0542662813242147,
          0.41159843284465036,
          -0.3283155232768134,
          -0.14949025923677958,
          -0.9729735249688074,
          0.4689267035066989,
          0.39267582822134933,
          -0.2970338809944145,
          -0.3276061866690047,
          0.14517824094086815,
          -0.5009911239461405,
          0.2938491028086687,
          -0.05358032996194319,
          0.15824222616038994,
          -1.0316553589625612,
          -0.8889064599434631,
          -1.0109186708122362,
          0.8680587463217743,
          -0.523884874888583,
          -0.19984029864885086,
          -0.14148835743846858,
          -0.009625828651904937,
          1.2595153681009292,
          -0.7494574853190527,
          1.165196594856903,
          -0.15616145611462873,
          -0.5545374650676813,
          -1.0616810378264292,
          -1.3512784595061946,
          -1.3413189832986294,
          0.30622554758114745,
          -1.3427236915580891,
          -0.8361594218203363,
          -0.32322420311663497,
          0.6932830181946397,
          0.45785925248063436,
          -0.26482801927470795,
          -0.21506392508465094,
          -0.20592211725464296,
          0.12609007771073222,
          -1.5140332619993535,
          0.569167999467806,
          0.21077166262899988,
          -0.3175134211123909,
          0.26939347185908497
         ],
         "yaxis": "y7"
        },
        {
         "line": {
          "color": "rgba(128, 128, 128, 1.0)",
          "dash": "solid",
          "shape": "linear",
          "width": 1.3
         },
         "marker": {
          "size": 2,
          "symbol": "circle"
         },
         "mode": "markers",
         "name": "B",
         "text": "",
         "type": "scatter",
         "x": [
          -1.5834697851579909,
          -0.7825639756743333,
          1.5647530721653389,
          0.6665738843861724,
          0.9179070161090263,
          1.1252093153938167,
          -0.5514268406912114,
          -0.46889949285177746,
          -0.6206162760360194,
          0.2108798117613887,
          -0.3783493244783955,
          0.5042136077299458,
          -1.4586208203934794,
          1.2912723098743222,
          -0.20947923787285871,
          2.2913706160454406,
          -1.8224857607378717,
          -0.0027484726196031115,
          -0.5166730365483232,
          1.084661778503231,
          0.38368659740625566,
          -2.627459295234819,
          0.7468293470424616,
          -0.9738444590021562,
          -1.149366835113078,
          -0.5875061241460016,
          -0.9215439900308457,
          0.8269858946997607,
          0.11573647663864463,
          -1.446237192850758,
          -0.26436644873993737,
          -0.9442682068582215,
          -0.5310299833174894,
          -0.0479546733652983,
          -2.0433344715405988,
          0.22188718745946992,
          -1.129153267778444,
          -0.8485430488921378,
          0.38306254883799906,
          0.53461624832531,
          -0.3791237885566834,
          0.30272409746642337,
          0.21130593108566786,
          0.9097476628582934,
          -1.890060857566516,
          0.15313781758630732,
          -0.4448902190835499,
          -0.5395809052879742,
          -0.24286760274253633,
          1.9607760160002479,
          -0.5460757031753178,
          -0.7559482319618465,
          0.15276127622373334,
          0.09115330392890346,
          0.11936276867588004,
          -1.0380997387230315,
          1.2817698631679533,
          -1.032771814372345,
          -0.529363399194491,
          1.4760321282045017,
          0.5350437936214948,
          0.17880345684652296,
          0.011245862447948595,
          -0.9714533079896704,
          0.6572313477128922,
          -0.09810124347477055,
          -1.3487285237789288,
          0.9235965259080726,
          -0.7359193510652727,
          -1.6151096203332505,
          1.072207202252124,
          -0.39246292521949194,
          -0.5938987883601538,
          -0.5020075232295248,
          0.9928938951087263,
          -2.7691399769520904,
          -0.42403908031201104,
          2.8150882271346687,
          0.4315319751713658,
          -0.1764233652463163,
          -0.9179004761631729,
          0.6827020125608767,
          -0.7920828900921183,
          -2.466873678892425,
          0.08342115316629682,
          0.39369422006736843,
          -0.13890414142264046,
          0.24475164965416543,
          0.5541996490339449,
          0.004838809382971433,
          1.9426062212036994,
          0.15023694684415653,
          -0.18706037913695334,
          0.4696909594283362,
          0.3009907728739544,
          -0.3902225432444208,
          -1.6440593494498816,
          -0.8843173126622377,
          0.8054403212007447,
          0.24409360944427766
         ],
         "xaxis": "x8",
         "y": [
          3.0024849906902924,
          -0.6712017479592524,
          1.6122949489688632,
          0.048319156974700864,
          -0.7037217982582277,
          -0.7346015241816336,
          0.46733197276926874,
          -1.2163230831125607,
          -1.8376965510535215,
          -0.37220305547565036,
          0.4982038444106561,
          0.41856621895463025,
          1.440065157327684,
          0.034012958086091255,
          -0.3857573090224651,
          0.06890290989061831,
          -0.2469046756260349,
          0.5308059485294074,
          1.2798339250090698,
          -0.6612866651020235,
          -0.4309505792491207,
          0.41609482167032685,
          -1.2642759525596383,
          0.8088606095923593,
          -0.3287787352467742,
          -0.6640834034711206,
          -0.7619309954237736,
          0.4226777605230677,
          0.24979936237140168,
          0.28290305086873324,
          -0.2587768684335364,
          -1.1073499176529262,
          1.2678433641662228,
          0.7205688117833361,
          0.013101018318805328,
          1.0924839966821154,
          -1.365552472959164,
          -0.6069035061411017,
          -0.7144470408869261,
          1.0164384956684194,
          0.443418569079833,
          1.5261437417082782,
          -0.4466690260594189,
          -0.03827589074987316,
          1.8217727999067659,
          0.9210873939031335,
          -0.6617860453960066,
          0.16821137523823973,
          -0.1432853121140892,
          -2.7978845041908693,
          -0.9871087600490078,
          0.23248038532172627,
          1.24398179577353,
          -0.49018419946746145,
          0.21244678095206795,
          1.0542662813242147,
          0.41159843284465036,
          -0.3283155232768134,
          -0.14949025923677958,
          -0.9729735249688074,
          0.4689267035066989,
          0.39267582822134933,
          -0.2970338809944145,
          -0.3276061866690047,
          0.14517824094086815,
          -0.5009911239461405,
          0.2938491028086687,
          -0.05358032996194319,
          0.15824222616038994,
          -1.0316553589625612,
          -0.8889064599434631,
          -1.0109186708122362,
          0.8680587463217743,
          -0.523884874888583,
          -0.19984029864885086,
          -0.14148835743846858,
          -0.009625828651904937,
          1.2595153681009292,
          -0.7494574853190527,
          1.165196594856903,
          -0.15616145611462873,
          -0.5545374650676813,
          -1.0616810378264292,
          -1.3512784595061946,
          -1.3413189832986294,
          0.30622554758114745,
          -1.3427236915580891,
          -0.8361594218203363,
          -0.32322420311663497,
          0.6932830181946397,
          0.45785925248063436,
          -0.26482801927470795,
          -0.21506392508465094,
          -0.20592211725464296,
          0.12609007771073222,
          -1.5140332619993535,
          0.569167999467806,
          0.21077166262899988,
          -0.3175134211123909,
          0.26939347185908497
         ],
         "yaxis": "y8"
        },
        {
         "line": {
          "color": "rgba(128, 128, 128, 1.0)",
          "dash": "solid",
          "shape": "linear",
          "width": 1.3
         },
         "marker": {
          "size": 2,
          "symbol": "circle"
         },
         "mode": "markers",
         "name": "C",
         "text": "",
         "type": "scatter",
         "x": [
          -0.7459921802284659,
          -0.2985331193711804,
          -0.5923070930794322,
          1.0241349657605285,
          1.3474652422939397,
          -0.3306346733325379,
          0.12698460532380978,
          -1.2396216588120965,
          1.4135882069108947,
          -0.4340229477075488,
          -2.1086061405379892,
          0.6650868623623832,
          -0.9392383681720982,
          -0.8012157757144039,
          0.3556419166568355,
          0.17027391249413223,
          1.2373283151950252,
          -0.4278715023691055,
          0.5122398939890646,
          -0.11651123285876328,
          0.24228686745884245,
          2.7388904967110514,
          -0.07739903639478632,
          -1.7729344017310518,
          -0.8044559993420353,
          0.32858915549721407,
          1.6938449970171683,
          0.20667478488806795,
          0.3730087418711053,
          1.2819911073395296,
          1.0994228222100382,
          -0.6375445967919214,
          -0.015269635410634546,
          1.3432161615550722,
          0.38147805069172214,
          0.8090768264403407,
          -0.2651207647914632,
          -0.16152848676210493,
          -0.7269239383533179,
          -0.6137628729964091,
          0.5453822578346342,
          3.3903895782942266,
          -0.06297500095351101,
          0.04123220659054581,
          -0.5207128486462764,
          0.529189297618538,
          -0.2932635542935991,
          -1.7590769255017142,
          0.4561990099342433,
          -1.2014994000604384,
          0.7457774415845939,
          -0.6599210785512793,
          0.49290673558060794,
          -0.09439724081832111,
          0.5776279393791839,
          0.6604600090753378,
          0.2617093580743427,
          0.7413067020176657,
          -0.1261681498761519,
          1.0310886998176432,
          -2.0567488675287304,
          1.125328876952449,
          1.3869881729229596,
          1.1651878049553273,
          -1.7468494092187064,
          -0.05160940085340369,
          -1.6270745323537221,
          -0.8729420211114243,
          -0.4416407332362468,
          0.14056114799324715,
          -0.13450494629745824,
          1.1135561248487242,
          -0.24136313385725927,
          0.2953075790841706,
          0.9533194362152135,
          0.30431001658093426,
          -0.19300675495041086,
          0.3705726709997868,
          0.27881990624938835,
          1.8364326683786332,
          0.4284722687128993,
          -1.2617417433708187,
          -1.3276369663042034,
          0.7562551076888145,
          -0.41477062335883763,
          -1.031744056577676,
          0.7731528564898905,
          0.024136114280125243,
          1.4344322176590476,
          -1.6726958453708354,
          -0.6738035330410321,
          -1.64588650160417,
          0.00019750244670672836,
          0.2418395172388969,
          -1.2328421931298899,
          0.43474031290286197,
          -0.935102556309525,
          -3.030241304070444,
          0.1630101373330067,
          -1.0259787293633311
         ],
         "xaxis": "x9",
         "y": [
          0.8113018159276627,
          -1.616591510992557,
          -0.34210620623359317,
          -0.1608380889424734,
          -1.5930171832968276,
          1.3163945997225097,
          0.14537021411047765,
          -0.31941598554290324,
          -0.043408673181858246,
          0.4218402251857933,
          1.0706319088453258,
          -0.0387041561845792,
          -0.6048296600038991,
          -0.25862060311070534,
          0.2805856976417199,
          -0.49357009305695704,
          0.560811157144869,
          -0.2747554426537597,
          -1.4570763926371968,
          -0.5894314407174535,
          -0.542569606893755,
          0.9695137485948544,
          1.923238732616469,
          -0.1201127967988659,
          -1.2625936436788925,
          1.4161530673322527,
          0.6928904459679615,
          0.15597596266110106,
          -0.18010509321539825,
          2.7869568632946606,
          -0.7727524579134264,
          -0.9512916232408573,
          0.6655970628864091,
          0.14320990353629576,
          -1.163233425097576,
          -1.1699505850992482,
          0.48627632840072155,
          -0.08002200140047959,
          -0.866163781622745,
          -0.7365750121239006,
          0.80107814419454,
          -0.4788418006526577,
          0.711292891715219,
          -0.45203810351847046,
          0.3897190003684126,
          2.086194939010628,
          0.4138766086155095,
          1.0147933603608388,
          -1.0706075825077774,
          0.13424782541174513,
          0.7226514491375658,
          0.43180326020643994,
          -0.6010352902596428,
          0.5133485097482706,
          -1.5185139735237612,
          -0.09325680401253154,
          1.4356914174704043,
          -0.4863913836168061,
          0.9181625178962032,
          1.1412321982521312,
          1.6518123162034772,
          -0.4626919199956366,
          -1.0088298637768962,
          1.3568492527889044,
          -0.979833248540261,
          0.9250213995648844,
          -1.2466304486588788,
          1.4031994601015796,
          -0.21998113203257877,
          -0.7253382859367504,
          0.09488617012844323,
          1.040851900292978,
          0.05093586697419843,
          -0.2675202194885947,
          -1.0655837915440298,
          0.1284908111859617,
          0.6698417823428845,
          1.0736933716461932,
          -0.0004236036007082919,
          0.8714767505757695,
          -0.9027189168019534,
          -0.08729604857291093,
          2.060039092449106,
          1.3447301921359462,
          -1.7900799649521892,
          1.64923527181763,
          0.5290034491709216,
          -0.15555846680224375,
          -0.4471044004759734,
          1.3369808740218303,
          -0.43070999832171797,
          -0.44738783149839034,
          -0.48200056242532596,
          0.9843156571561115,
          -0.9962186196879177,
          2.6606864353612916,
          -0.4343984891365146,
          0.3990878583058662,
          -0.6890321533124985,
          0.21305454433974544
         ],
         "yaxis": "y9"
        },
        {
         "line": {
          "color": "rgba(128, 128, 128, 1.0)",
          "dash": "solid",
          "shape": "linear",
          "width": 1.3
         },
         "marker": {
          "size": 2,
          "symbol": "circle"
         },
         "mode": "markers",
         "name": "C",
         "text": "",
         "type": "scatter",
         "x": [
          3.0024849906902924,
          -0.6712017479592524,
          1.6122949489688632,
          0.048319156974700864,
          -0.7037217982582277,
          -0.7346015241816336,
          0.46733197276926874,
          -1.2163230831125607,
          -1.8376965510535215,
          -0.37220305547565036,
          0.4982038444106561,
          0.41856621895463025,
          1.440065157327684,
          0.034012958086091255,
          -0.3857573090224651,
          0.06890290989061831,
          -0.2469046756260349,
          0.5308059485294074,
          1.2798339250090698,
          -0.6612866651020235,
          -0.4309505792491207,
          0.41609482167032685,
          -1.2642759525596383,
          0.8088606095923593,
          -0.3287787352467742,
          -0.6640834034711206,
          -0.7619309954237736,
          0.4226777605230677,
          0.24979936237140168,
          0.28290305086873324,
          -0.2587768684335364,
          -1.1073499176529262,
          1.2678433641662228,
          0.7205688117833361,
          0.013101018318805328,
          1.0924839966821154,
          -1.365552472959164,
          -0.6069035061411017,
          -0.7144470408869261,
          1.0164384956684194,
          0.443418569079833,
          1.5261437417082782,
          -0.4466690260594189,
          -0.03827589074987316,
          1.8217727999067659,
          0.9210873939031335,
          -0.6617860453960066,
          0.16821137523823973,
          -0.1432853121140892,
          -2.7978845041908693,
          -0.9871087600490078,
          0.23248038532172627,
          1.24398179577353,
          -0.49018419946746145,
          0.21244678095206795,
          1.0542662813242147,
          0.41159843284465036,
          -0.3283155232768134,
          -0.14949025923677958,
          -0.9729735249688074,
          0.4689267035066989,
          0.39267582822134933,
          -0.2970338809944145,
          -0.3276061866690047,
          0.14517824094086815,
          -0.5009911239461405,
          0.2938491028086687,
          -0.05358032996194319,
          0.15824222616038994,
          -1.0316553589625612,
          -0.8889064599434631,
          -1.0109186708122362,
          0.8680587463217743,
          -0.523884874888583,
          -0.19984029864885086,
          -0.14148835743846858,
          -0.009625828651904937,
          1.2595153681009292,
          -0.7494574853190527,
          1.165196594856903,
          -0.15616145611462873,
          -0.5545374650676813,
          -1.0616810378264292,
          -1.3512784595061946,
          -1.3413189832986294,
          0.30622554758114745,
          -1.3427236915580891,
          -0.8361594218203363,
          -0.32322420311663497,
          0.6932830181946397,
          0.45785925248063436,
          -0.26482801927470795,
          -0.21506392508465094,
          -0.20592211725464296,
          0.12609007771073222,
          -1.5140332619993535,
          0.569167999467806,
          0.21077166262899988,
          -0.3175134211123909,
          0.26939347185908497
         ],
         "xaxis": "x10",
         "y": [
          0.8113018159276627,
          -1.616591510992557,
          -0.34210620623359317,
          -0.1608380889424734,
          -1.5930171832968276,
          1.3163945997225097,
          0.14537021411047765,
          -0.31941598554290324,
          -0.043408673181858246,
          0.4218402251857933,
          1.0706319088453258,
          -0.0387041561845792,
          -0.6048296600038991,
          -0.25862060311070534,
          0.2805856976417199,
          -0.49357009305695704,
          0.560811157144869,
          -0.2747554426537597,
          -1.4570763926371968,
          -0.5894314407174535,
          -0.542569606893755,
          0.9695137485948544,
          1.923238732616469,
          -0.1201127967988659,
          -1.2625936436788925,
          1.4161530673322527,
          0.6928904459679615,
          0.15597596266110106,
          -0.18010509321539825,
          2.7869568632946606,
          -0.7727524579134264,
          -0.9512916232408573,
          0.6655970628864091,
          0.14320990353629576,
          -1.163233425097576,
          -1.1699505850992482,
          0.48627632840072155,
          -0.08002200140047959,
          -0.866163781622745,
          -0.7365750121239006,
          0.80107814419454,
          -0.4788418006526577,
          0.711292891715219,
          -0.45203810351847046,
          0.3897190003684126,
          2.086194939010628,
          0.4138766086155095,
          1.0147933603608388,
          -1.0706075825077774,
          0.13424782541174513,
          0.7226514491375658,
          0.43180326020643994,
          -0.6010352902596428,
          0.5133485097482706,
          -1.5185139735237612,
          -0.09325680401253154,
          1.4356914174704043,
          -0.4863913836168061,
          0.9181625178962032,
          1.1412321982521312,
          1.6518123162034772,
          -0.4626919199956366,
          -1.0088298637768962,
          1.3568492527889044,
          -0.979833248540261,
          0.9250213995648844,
          -1.2466304486588788,
          1.4031994601015796,
          -0.21998113203257877,
          -0.7253382859367504,
          0.09488617012844323,
          1.040851900292978,
          0.05093586697419843,
          -0.2675202194885947,
          -1.0655837915440298,
          0.1284908111859617,
          0.6698417823428845,
          1.0736933716461932,
          -0.0004236036007082919,
          0.8714767505757695,
          -0.9027189168019534,
          -0.08729604857291093,
          2.060039092449106,
          1.3447301921359462,
          -1.7900799649521892,
          1.64923527181763,
          0.5290034491709216,
          -0.15555846680224375,
          -0.4471044004759734,
          1.3369808740218303,
          -0.43070999832171797,
          -0.44738783149839034,
          -0.48200056242532596,
          0.9843156571561115,
          -0.9962186196879177,
          2.6606864353612916,
          -0.4343984891365146,
          0.3990878583058662,
          -0.6890321533124985,
          0.21305454433974544
         ],
         "yaxis": "y10"
        },
        {
         "histfunc": "count",
         "histnorm": "",
         "marker": {
          "color": "rgba(50, 171, 96, 1.0)",
          "line": {
           "color": "#4D5663",
           "width": 1.3
          }
         },
         "name": "C",
         "nbinsx": 10,
         "opacity": 0.8,
         "orientation": "v",
         "type": "histogram",
         "x": [
          0.8113018159276627,
          -1.616591510992557,
          -0.34210620623359317,
          -0.1608380889424734,
          -1.5930171832968276,
          1.3163945997225097,
          0.14537021411047765,
          -0.31941598554290324,
          -0.043408673181858246,
          0.4218402251857933,
          1.0706319088453258,
          -0.0387041561845792,
          -0.6048296600038991,
          -0.25862060311070534,
          0.2805856976417199,
          -0.49357009305695704,
          0.560811157144869,
          -0.2747554426537597,
          -1.4570763926371968,
          -0.5894314407174535,
          -0.542569606893755,
          0.9695137485948544,
          1.923238732616469,
          -0.1201127967988659,
          -1.2625936436788925,
          1.4161530673322527,
          0.6928904459679615,
          0.15597596266110106,
          -0.18010509321539825,
          2.7869568632946606,
          -0.7727524579134264,
          -0.9512916232408573,
          0.6655970628864091,
          0.14320990353629576,
          -1.163233425097576,
          -1.1699505850992482,
          0.48627632840072155,
          -0.08002200140047959,
          -0.866163781622745,
          -0.7365750121239006,
          0.80107814419454,
          -0.4788418006526577,
          0.711292891715219,
          -0.45203810351847046,
          0.3897190003684126,
          2.086194939010628,
          0.4138766086155095,
          1.0147933603608388,
          -1.0706075825077774,
          0.13424782541174513,
          0.7226514491375658,
          0.43180326020643994,
          -0.6010352902596428,
          0.5133485097482706,
          -1.5185139735237612,
          -0.09325680401253154,
          1.4356914174704043,
          -0.4863913836168061,
          0.9181625178962032,
          1.1412321982521312,
          1.6518123162034772,
          -0.4626919199956366,
          -1.0088298637768962,
          1.3568492527889044,
          -0.979833248540261,
          0.9250213995648844,
          -1.2466304486588788,
          1.4031994601015796,
          -0.21998113203257877,
          -0.7253382859367504,
          0.09488617012844323,
          1.040851900292978,
          0.05093586697419843,
          -0.2675202194885947,
          -1.0655837915440298,
          0.1284908111859617,
          0.6698417823428845,
          1.0736933716461932,
          -0.0004236036007082919,
          0.8714767505757695,
          -0.9027189168019534,
          -0.08729604857291093,
          2.060039092449106,
          1.3447301921359462,
          -1.7900799649521892,
          1.64923527181763,
          0.5290034491709216,
          -0.15555846680224375,
          -0.4471044004759734,
          1.3369808740218303,
          -0.43070999832171797,
          -0.44738783149839034,
          -0.48200056242532596,
          0.9843156571561115,
          -0.9962186196879177,
          2.6606864353612916,
          -0.4343984891365146,
          0.3990878583058662,
          -0.6890321533124985,
          0.21305454433974544
         ],
         "xaxis": "x11",
         "yaxis": "y11"
        },
        {
         "line": {
          "color": "rgba(128, 128, 128, 1.0)",
          "dash": "solid",
          "shape": "linear",
          "width": 1.3
         },
         "marker": {
          "size": 2,
          "symbol": "circle"
         },
         "mode": "markers",
         "name": "C",
         "text": "",
         "type": "scatter",
         "x": [
          -1.5834697851579909,
          -0.7825639756743333,
          1.5647530721653389,
          0.6665738843861724,
          0.9179070161090263,
          1.1252093153938167,
          -0.5514268406912114,
          -0.46889949285177746,
          -0.6206162760360194,
          0.2108798117613887,
          -0.3783493244783955,
          0.5042136077299458,
          -1.4586208203934794,
          1.2912723098743222,
          -0.20947923787285871,
          2.2913706160454406,
          -1.8224857607378717,
          -0.0027484726196031115,
          -0.5166730365483232,
          1.084661778503231,
          0.38368659740625566,
          -2.627459295234819,
          0.7468293470424616,
          -0.9738444590021562,
          -1.149366835113078,
          -0.5875061241460016,
          -0.9215439900308457,
          0.8269858946997607,
          0.11573647663864463,
          -1.446237192850758,
          -0.26436644873993737,
          -0.9442682068582215,
          -0.5310299833174894,
          -0.0479546733652983,
          -2.0433344715405988,
          0.22188718745946992,
          -1.129153267778444,
          -0.8485430488921378,
          0.38306254883799906,
          0.53461624832531,
          -0.3791237885566834,
          0.30272409746642337,
          0.21130593108566786,
          0.9097476628582934,
          -1.890060857566516,
          0.15313781758630732,
          -0.4448902190835499,
          -0.5395809052879742,
          -0.24286760274253633,
          1.9607760160002479,
          -0.5460757031753178,
          -0.7559482319618465,
          0.15276127622373334,
          0.09115330392890346,
          0.11936276867588004,
          -1.0380997387230315,
          1.2817698631679533,
          -1.032771814372345,
          -0.529363399194491,
          1.4760321282045017,
          0.5350437936214948,
          0.17880345684652296,
          0.011245862447948595,
          -0.9714533079896704,
          0.6572313477128922,
          -0.09810124347477055,
          -1.3487285237789288,
          0.9235965259080726,
          -0.7359193510652727,
          -1.6151096203332505,
          1.072207202252124,
          -0.39246292521949194,
          -0.5938987883601538,
          -0.5020075232295248,
          0.9928938951087263,
          -2.7691399769520904,
          -0.42403908031201104,
          2.8150882271346687,
          0.4315319751713658,
          -0.1764233652463163,
          -0.9179004761631729,
          0.6827020125608767,
          -0.7920828900921183,
          -2.466873678892425,
          0.08342115316629682,
          0.39369422006736843,
          -0.13890414142264046,
          0.24475164965416543,
          0.5541996490339449,
          0.004838809382971433,
          1.9426062212036994,
          0.15023694684415653,
          -0.18706037913695334,
          0.4696909594283362,
          0.3009907728739544,
          -0.3902225432444208,
          -1.6440593494498816,
          -0.8843173126622377,
          0.8054403212007447,
          0.24409360944427766
         ],
         "xaxis": "x12",
         "y": [
          0.8113018159276627,
          -1.616591510992557,
          -0.34210620623359317,
          -0.1608380889424734,
          -1.5930171832968276,
          1.3163945997225097,
          0.14537021411047765,
          -0.31941598554290324,
          -0.043408673181858246,
          0.4218402251857933,
          1.0706319088453258,
          -0.0387041561845792,
          -0.6048296600038991,
          -0.25862060311070534,
          0.2805856976417199,
          -0.49357009305695704,
          0.560811157144869,
          -0.2747554426537597,
          -1.4570763926371968,
          -0.5894314407174535,
          -0.542569606893755,
          0.9695137485948544,
          1.923238732616469,
          -0.1201127967988659,
          -1.2625936436788925,
          1.4161530673322527,
          0.6928904459679615,
          0.15597596266110106,
          -0.18010509321539825,
          2.7869568632946606,
          -0.7727524579134264,
          -0.9512916232408573,
          0.6655970628864091,
          0.14320990353629576,
          -1.163233425097576,
          -1.1699505850992482,
          0.48627632840072155,
          -0.08002200140047959,
          -0.866163781622745,
          -0.7365750121239006,
          0.80107814419454,
          -0.4788418006526577,
          0.711292891715219,
          -0.45203810351847046,
          0.3897190003684126,
          2.086194939010628,
          0.4138766086155095,
          1.0147933603608388,
          -1.0706075825077774,
          0.13424782541174513,
          0.7226514491375658,
          0.43180326020643994,
          -0.6010352902596428,
          0.5133485097482706,
          -1.5185139735237612,
          -0.09325680401253154,
          1.4356914174704043,
          -0.4863913836168061,
          0.9181625178962032,
          1.1412321982521312,
          1.6518123162034772,
          -0.4626919199956366,
          -1.0088298637768962,
          1.3568492527889044,
          -0.979833248540261,
          0.9250213995648844,
          -1.2466304486588788,
          1.4031994601015796,
          -0.21998113203257877,
          -0.7253382859367504,
          0.09488617012844323,
          1.040851900292978,
          0.05093586697419843,
          -0.2675202194885947,
          -1.0655837915440298,
          0.1284908111859617,
          0.6698417823428845,
          1.0736933716461932,
          -0.0004236036007082919,
          0.8714767505757695,
          -0.9027189168019534,
          -0.08729604857291093,
          2.060039092449106,
          1.3447301921359462,
          -1.7900799649521892,
          1.64923527181763,
          0.5290034491709216,
          -0.15555846680224375,
          -0.4471044004759734,
          1.3369808740218303,
          -0.43070999832171797,
          -0.44738783149839034,
          -0.48200056242532596,
          0.9843156571561115,
          -0.9962186196879177,
          2.6606864353612916,
          -0.4343984891365146,
          0.3990878583058662,
          -0.6890321533124985,
          0.21305454433974544
         ],
         "yaxis": "y12"
        },
        {
         "line": {
          "color": "rgba(128, 128, 128, 1.0)",
          "dash": "solid",
          "shape": "linear",
          "width": 1.3
         },
         "marker": {
          "size": 2,
          "symbol": "circle"
         },
         "mode": "markers",
         "name": "D",
         "text": "",
         "type": "scatter",
         "x": [
          -0.7459921802284659,
          -0.2985331193711804,
          -0.5923070930794322,
          1.0241349657605285,
          1.3474652422939397,
          -0.3306346733325379,
          0.12698460532380978,
          -1.2396216588120965,
          1.4135882069108947,
          -0.4340229477075488,
          -2.1086061405379892,
          0.6650868623623832,
          -0.9392383681720982,
          -0.8012157757144039,
          0.3556419166568355,
          0.17027391249413223,
          1.2373283151950252,
          -0.4278715023691055,
          0.5122398939890646,
          -0.11651123285876328,
          0.24228686745884245,
          2.7388904967110514,
          -0.07739903639478632,
          -1.7729344017310518,
          -0.8044559993420353,
          0.32858915549721407,
          1.6938449970171683,
          0.20667478488806795,
          0.3730087418711053,
          1.2819911073395296,
          1.0994228222100382,
          -0.6375445967919214,
          -0.015269635410634546,
          1.3432161615550722,
          0.38147805069172214,
          0.8090768264403407,
          -0.2651207647914632,
          -0.16152848676210493,
          -0.7269239383533179,
          -0.6137628729964091,
          0.5453822578346342,
          3.3903895782942266,
          -0.06297500095351101,
          0.04123220659054581,
          -0.5207128486462764,
          0.529189297618538,
          -0.2932635542935991,
          -1.7590769255017142,
          0.4561990099342433,
          -1.2014994000604384,
          0.7457774415845939,
          -0.6599210785512793,
          0.49290673558060794,
          -0.09439724081832111,
          0.5776279393791839,
          0.6604600090753378,
          0.2617093580743427,
          0.7413067020176657,
          -0.1261681498761519,
          1.0310886998176432,
          -2.0567488675287304,
          1.125328876952449,
          1.3869881729229596,
          1.1651878049553273,
          -1.7468494092187064,
          -0.05160940085340369,
          -1.6270745323537221,
          -0.8729420211114243,
          -0.4416407332362468,
          0.14056114799324715,
          -0.13450494629745824,
          1.1135561248487242,
          -0.24136313385725927,
          0.2953075790841706,
          0.9533194362152135,
          0.30431001658093426,
          -0.19300675495041086,
          0.3705726709997868,
          0.27881990624938835,
          1.8364326683786332,
          0.4284722687128993,
          -1.2617417433708187,
          -1.3276369663042034,
          0.7562551076888145,
          -0.41477062335883763,
          -1.031744056577676,
          0.7731528564898905,
          0.024136114280125243,
          1.4344322176590476,
          -1.6726958453708354,
          -0.6738035330410321,
          -1.64588650160417,
          0.00019750244670672836,
          0.2418395172388969,
          -1.2328421931298899,
          0.43474031290286197,
          -0.935102556309525,
          -3.030241304070444,
          0.1630101373330067,
          -1.0259787293633311
         ],
         "xaxis": "x13",
         "y": [
          -1.5834697851579909,
          -0.7825639756743333,
          1.5647530721653389,
          0.6665738843861724,
          0.9179070161090263,
          1.1252093153938167,
          -0.5514268406912114,
          -0.46889949285177746,
          -0.6206162760360194,
          0.2108798117613887,
          -0.3783493244783955,
          0.5042136077299458,
          -1.4586208203934794,
          1.2912723098743222,
          -0.20947923787285871,
          2.2913706160454406,
          -1.8224857607378717,
          -0.0027484726196031115,
          -0.5166730365483232,
          1.084661778503231,
          0.38368659740625566,
          -2.627459295234819,
          0.7468293470424616,
          -0.9738444590021562,
          -1.149366835113078,
          -0.5875061241460016,
          -0.9215439900308457,
          0.8269858946997607,
          0.11573647663864463,
          -1.446237192850758,
          -0.26436644873993737,
          -0.9442682068582215,
          -0.5310299833174894,
          -0.0479546733652983,
          -2.0433344715405988,
          0.22188718745946992,
          -1.129153267778444,
          -0.8485430488921378,
          0.38306254883799906,
          0.53461624832531,
          -0.3791237885566834,
          0.30272409746642337,
          0.21130593108566786,
          0.9097476628582934,
          -1.890060857566516,
          0.15313781758630732,
          -0.4448902190835499,
          -0.5395809052879742,
          -0.24286760274253633,
          1.9607760160002479,
          -0.5460757031753178,
          -0.7559482319618465,
          0.15276127622373334,
          0.09115330392890346,
          0.11936276867588004,
          -1.0380997387230315,
          1.2817698631679533,
          -1.032771814372345,
          -0.529363399194491,
          1.4760321282045017,
          0.5350437936214948,
          0.17880345684652296,
          0.011245862447948595,
          -0.9714533079896704,
          0.6572313477128922,
          -0.09810124347477055,
          -1.3487285237789288,
          0.9235965259080726,
          -0.7359193510652727,
          -1.6151096203332505,
          1.072207202252124,
          -0.39246292521949194,
          -0.5938987883601538,
          -0.5020075232295248,
          0.9928938951087263,
          -2.7691399769520904,
          -0.42403908031201104,
          2.8150882271346687,
          0.4315319751713658,
          -0.1764233652463163,
          -0.9179004761631729,
          0.6827020125608767,
          -0.7920828900921183,
          -2.466873678892425,
          0.08342115316629682,
          0.39369422006736843,
          -0.13890414142264046,
          0.24475164965416543,
          0.5541996490339449,
          0.004838809382971433,
          1.9426062212036994,
          0.15023694684415653,
          -0.18706037913695334,
          0.4696909594283362,
          0.3009907728739544,
          -0.3902225432444208,
          -1.6440593494498816,
          -0.8843173126622377,
          0.8054403212007447,
          0.24409360944427766
         ],
         "yaxis": "y13"
        },
        {
         "line": {
          "color": "rgba(128, 128, 128, 1.0)",
          "dash": "solid",
          "shape": "linear",
          "width": 1.3
         },
         "marker": {
          "size": 2,
          "symbol": "circle"
         },
         "mode": "markers",
         "name": "D",
         "text": "",
         "type": "scatter",
         "x": [
          3.0024849906902924,
          -0.6712017479592524,
          1.6122949489688632,
          0.048319156974700864,
          -0.7037217982582277,
          -0.7346015241816336,
          0.46733197276926874,
          -1.2163230831125607,
          -1.8376965510535215,
          -0.37220305547565036,
          0.4982038444106561,
          0.41856621895463025,
          1.440065157327684,
          0.034012958086091255,
          -0.3857573090224651,
          0.06890290989061831,
          -0.2469046756260349,
          0.5308059485294074,
          1.2798339250090698,
          -0.6612866651020235,
          -0.4309505792491207,
          0.41609482167032685,
          -1.2642759525596383,
          0.8088606095923593,
          -0.3287787352467742,
          -0.6640834034711206,
          -0.7619309954237736,
          0.4226777605230677,
          0.24979936237140168,
          0.28290305086873324,
          -0.2587768684335364,
          -1.1073499176529262,
          1.2678433641662228,
          0.7205688117833361,
          0.013101018318805328,
          1.0924839966821154,
          -1.365552472959164,
          -0.6069035061411017,
          -0.7144470408869261,
          1.0164384956684194,
          0.443418569079833,
          1.5261437417082782,
          -0.4466690260594189,
          -0.03827589074987316,
          1.8217727999067659,
          0.9210873939031335,
          -0.6617860453960066,
          0.16821137523823973,
          -0.1432853121140892,
          -2.7978845041908693,
          -0.9871087600490078,
          0.23248038532172627,
          1.24398179577353,
          -0.49018419946746145,
          0.21244678095206795,
          1.0542662813242147,
          0.41159843284465036,
          -0.3283155232768134,
          -0.14949025923677958,
          -0.9729735249688074,
          0.4689267035066989,
          0.39267582822134933,
          -0.2970338809944145,
          -0.3276061866690047,
          0.14517824094086815,
          -0.5009911239461405,
          0.2938491028086687,
          -0.05358032996194319,
          0.15824222616038994,
          -1.0316553589625612,
          -0.8889064599434631,
          -1.0109186708122362,
          0.8680587463217743,
          -0.523884874888583,
          -0.19984029864885086,
          -0.14148835743846858,
          -0.009625828651904937,
          1.2595153681009292,
          -0.7494574853190527,
          1.165196594856903,
          -0.15616145611462873,
          -0.5545374650676813,
          -1.0616810378264292,
          -1.3512784595061946,
          -1.3413189832986294,
          0.30622554758114745,
          -1.3427236915580891,
          -0.8361594218203363,
          -0.32322420311663497,
          0.6932830181946397,
          0.45785925248063436,
          -0.26482801927470795,
          -0.21506392508465094,
          -0.20592211725464296,
          0.12609007771073222,
          -1.5140332619993535,
          0.569167999467806,
          0.21077166262899988,
          -0.3175134211123909,
          0.26939347185908497
         ],
         "xaxis": "x14",
         "y": [
          -1.5834697851579909,
          -0.7825639756743333,
          1.5647530721653389,
          0.6665738843861724,
          0.9179070161090263,
          1.1252093153938167,
          -0.5514268406912114,
          -0.46889949285177746,
          -0.6206162760360194,
          0.2108798117613887,
          -0.3783493244783955,
          0.5042136077299458,
          -1.4586208203934794,
          1.2912723098743222,
          -0.20947923787285871,
          2.2913706160454406,
          -1.8224857607378717,
          -0.0027484726196031115,
          -0.5166730365483232,
          1.084661778503231,
          0.38368659740625566,
          -2.627459295234819,
          0.7468293470424616,
          -0.9738444590021562,
          -1.149366835113078,
          -0.5875061241460016,
          -0.9215439900308457,
          0.8269858946997607,
          0.11573647663864463,
          -1.446237192850758,
          -0.26436644873993737,
          -0.9442682068582215,
          -0.5310299833174894,
          -0.0479546733652983,
          -2.0433344715405988,
          0.22188718745946992,
          -1.129153267778444,
          -0.8485430488921378,
          0.38306254883799906,
          0.53461624832531,
          -0.3791237885566834,
          0.30272409746642337,
          0.21130593108566786,
          0.9097476628582934,
          -1.890060857566516,
          0.15313781758630732,
          -0.4448902190835499,
          -0.5395809052879742,
          -0.24286760274253633,
          1.9607760160002479,
          -0.5460757031753178,
          -0.7559482319618465,
          0.15276127622373334,
          0.09115330392890346,
          0.11936276867588004,
          -1.0380997387230315,
          1.2817698631679533,
          -1.032771814372345,
          -0.529363399194491,
          1.4760321282045017,
          0.5350437936214948,
          0.17880345684652296,
          0.011245862447948595,
          -0.9714533079896704,
          0.6572313477128922,
          -0.09810124347477055,
          -1.3487285237789288,
          0.9235965259080726,
          -0.7359193510652727,
          -1.6151096203332505,
          1.072207202252124,
          -0.39246292521949194,
          -0.5938987883601538,
          -0.5020075232295248,
          0.9928938951087263,
          -2.7691399769520904,
          -0.42403908031201104,
          2.8150882271346687,
          0.4315319751713658,
          -0.1764233652463163,
          -0.9179004761631729,
          0.6827020125608767,
          -0.7920828900921183,
          -2.466873678892425,
          0.08342115316629682,
          0.39369422006736843,
          -0.13890414142264046,
          0.24475164965416543,
          0.5541996490339449,
          0.004838809382971433,
          1.9426062212036994,
          0.15023694684415653,
          -0.18706037913695334,
          0.4696909594283362,
          0.3009907728739544,
          -0.3902225432444208,
          -1.6440593494498816,
          -0.8843173126622377,
          0.8054403212007447,
          0.24409360944427766
         ],
         "yaxis": "y14"
        },
        {
         "line": {
          "color": "rgba(128, 128, 128, 1.0)",
          "dash": "solid",
          "shape": "linear",
          "width": 1.3
         },
         "marker": {
          "size": 2,
          "symbol": "circle"
         },
         "mode": "markers",
         "name": "D",
         "text": "",
         "type": "scatter",
         "x": [
          0.8113018159276627,
          -1.616591510992557,
          -0.34210620623359317,
          -0.1608380889424734,
          -1.5930171832968276,
          1.3163945997225097,
          0.14537021411047765,
          -0.31941598554290324,
          -0.043408673181858246,
          0.4218402251857933,
          1.0706319088453258,
          -0.0387041561845792,
          -0.6048296600038991,
          -0.25862060311070534,
          0.2805856976417199,
          -0.49357009305695704,
          0.560811157144869,
          -0.2747554426537597,
          -1.4570763926371968,
          -0.5894314407174535,
          -0.542569606893755,
          0.9695137485948544,
          1.923238732616469,
          -0.1201127967988659,
          -1.2625936436788925,
          1.4161530673322527,
          0.6928904459679615,
          0.15597596266110106,
          -0.18010509321539825,
          2.7869568632946606,
          -0.7727524579134264,
          -0.9512916232408573,
          0.6655970628864091,
          0.14320990353629576,
          -1.163233425097576,
          -1.1699505850992482,
          0.48627632840072155,
          -0.08002200140047959,
          -0.866163781622745,
          -0.7365750121239006,
          0.80107814419454,
          -0.4788418006526577,
          0.711292891715219,
          -0.45203810351847046,
          0.3897190003684126,
          2.086194939010628,
          0.4138766086155095,
          1.0147933603608388,
          -1.0706075825077774,
          0.13424782541174513,
          0.7226514491375658,
          0.43180326020643994,
          -0.6010352902596428,
          0.5133485097482706,
          -1.5185139735237612,
          -0.09325680401253154,
          1.4356914174704043,
          -0.4863913836168061,
          0.9181625178962032,
          1.1412321982521312,
          1.6518123162034772,
          -0.4626919199956366,
          -1.0088298637768962,
          1.3568492527889044,
          -0.979833248540261,
          0.9250213995648844,
          -1.2466304486588788,
          1.4031994601015796,
          -0.21998113203257877,
          -0.7253382859367504,
          0.09488617012844323,
          1.040851900292978,
          0.05093586697419843,
          -0.2675202194885947,
          -1.0655837915440298,
          0.1284908111859617,
          0.6698417823428845,
          1.0736933716461932,
          -0.0004236036007082919,
          0.8714767505757695,
          -0.9027189168019534,
          -0.08729604857291093,
          2.060039092449106,
          1.3447301921359462,
          -1.7900799649521892,
          1.64923527181763,
          0.5290034491709216,
          -0.15555846680224375,
          -0.4471044004759734,
          1.3369808740218303,
          -0.43070999832171797,
          -0.44738783149839034,
          -0.48200056242532596,
          0.9843156571561115,
          -0.9962186196879177,
          2.6606864353612916,
          -0.4343984891365146,
          0.3990878583058662,
          -0.6890321533124985,
          0.21305454433974544
         ],
         "xaxis": "x15",
         "y": [
          -1.5834697851579909,
          -0.7825639756743333,
          1.5647530721653389,
          0.6665738843861724,
          0.9179070161090263,
          1.1252093153938167,
          -0.5514268406912114,
          -0.46889949285177746,
          -0.6206162760360194,
          0.2108798117613887,
          -0.3783493244783955,
          0.5042136077299458,
          -1.4586208203934794,
          1.2912723098743222,
          -0.20947923787285871,
          2.2913706160454406,
          -1.8224857607378717,
          -0.0027484726196031115,
          -0.5166730365483232,
          1.084661778503231,
          0.38368659740625566,
          -2.627459295234819,
          0.7468293470424616,
          -0.9738444590021562,
          -1.149366835113078,
          -0.5875061241460016,
          -0.9215439900308457,
          0.8269858946997607,
          0.11573647663864463,
          -1.446237192850758,
          -0.26436644873993737,
          -0.9442682068582215,
          -0.5310299833174894,
          -0.0479546733652983,
          -2.0433344715405988,
          0.22188718745946992,
          -1.129153267778444,
          -0.8485430488921378,
          0.38306254883799906,
          0.53461624832531,
          -0.3791237885566834,
          0.30272409746642337,
          0.21130593108566786,
          0.9097476628582934,
          -1.890060857566516,
          0.15313781758630732,
          -0.4448902190835499,
          -0.5395809052879742,
          -0.24286760274253633,
          1.9607760160002479,
          -0.5460757031753178,
          -0.7559482319618465,
          0.15276127622373334,
          0.09115330392890346,
          0.11936276867588004,
          -1.0380997387230315,
          1.2817698631679533,
          -1.032771814372345,
          -0.529363399194491,
          1.4760321282045017,
          0.5350437936214948,
          0.17880345684652296,
          0.011245862447948595,
          -0.9714533079896704,
          0.6572313477128922,
          -0.09810124347477055,
          -1.3487285237789288,
          0.9235965259080726,
          -0.7359193510652727,
          -1.6151096203332505,
          1.072207202252124,
          -0.39246292521949194,
          -0.5938987883601538,
          -0.5020075232295248,
          0.9928938951087263,
          -2.7691399769520904,
          -0.42403908031201104,
          2.8150882271346687,
          0.4315319751713658,
          -0.1764233652463163,
          -0.9179004761631729,
          0.6827020125608767,
          -0.7920828900921183,
          -2.466873678892425,
          0.08342115316629682,
          0.39369422006736843,
          -0.13890414142264046,
          0.24475164965416543,
          0.5541996490339449,
          0.004838809382971433,
          1.9426062212036994,
          0.15023694684415653,
          -0.18706037913695334,
          0.4696909594283362,
          0.3009907728739544,
          -0.3902225432444208,
          -1.6440593494498816,
          -0.8843173126622377,
          0.8054403212007447,
          0.24409360944427766
         ],
         "yaxis": "y15"
        },
        {
         "histfunc": "count",
         "histnorm": "",
         "marker": {
          "color": "rgba(128, 0, 128, 1.0)",
          "line": {
           "color": "#4D5663",
           "width": 1.3
          }
         },
         "name": "D",
         "nbinsx": 10,
         "opacity": 0.8,
         "orientation": "v",
         "type": "histogram",
         "x": [
          -1.5834697851579909,
          -0.7825639756743333,
          1.5647530721653389,
          0.6665738843861724,
          0.9179070161090263,
          1.1252093153938167,
          -0.5514268406912114,
          -0.46889949285177746,
          -0.6206162760360194,
          0.2108798117613887,
          -0.3783493244783955,
          0.5042136077299458,
          -1.4586208203934794,
          1.2912723098743222,
          -0.20947923787285871,
          2.2913706160454406,
          -1.8224857607378717,
          -0.0027484726196031115,
          -0.5166730365483232,
          1.084661778503231,
          0.38368659740625566,
          -2.627459295234819,
          0.7468293470424616,
          -0.9738444590021562,
          -1.149366835113078,
          -0.5875061241460016,
          -0.9215439900308457,
          0.8269858946997607,
          0.11573647663864463,
          -1.446237192850758,
          -0.26436644873993737,
          -0.9442682068582215,
          -0.5310299833174894,
          -0.0479546733652983,
          -2.0433344715405988,
          0.22188718745946992,
          -1.129153267778444,
          -0.8485430488921378,
          0.38306254883799906,
          0.53461624832531,
          -0.3791237885566834,
          0.30272409746642337,
          0.21130593108566786,
          0.9097476628582934,
          -1.890060857566516,
          0.15313781758630732,
          -0.4448902190835499,
          -0.5395809052879742,
          -0.24286760274253633,
          1.9607760160002479,
          -0.5460757031753178,
          -0.7559482319618465,
          0.15276127622373334,
          0.09115330392890346,
          0.11936276867588004,
          -1.0380997387230315,
          1.2817698631679533,
          -1.032771814372345,
          -0.529363399194491,
          1.4760321282045017,
          0.5350437936214948,
          0.17880345684652296,
          0.011245862447948595,
          -0.9714533079896704,
          0.6572313477128922,
          -0.09810124347477055,
          -1.3487285237789288,
          0.9235965259080726,
          -0.7359193510652727,
          -1.6151096203332505,
          1.072207202252124,
          -0.39246292521949194,
          -0.5938987883601538,
          -0.5020075232295248,
          0.9928938951087263,
          -2.7691399769520904,
          -0.42403908031201104,
          2.8150882271346687,
          0.4315319751713658,
          -0.1764233652463163,
          -0.9179004761631729,
          0.6827020125608767,
          -0.7920828900921183,
          -2.466873678892425,
          0.08342115316629682,
          0.39369422006736843,
          -0.13890414142264046,
          0.24475164965416543,
          0.5541996490339449,
          0.004838809382971433,
          1.9426062212036994,
          0.15023694684415653,
          -0.18706037913695334,
          0.4696909594283362,
          0.3009907728739544,
          -0.3902225432444208,
          -1.6440593494498816,
          -0.8843173126622377,
          0.8054403212007447,
          0.24409360944427766
         ],
         "xaxis": "x16",
         "yaxis": "y16"
        }
       ],
       "layout": {
        "bargap": 0.02,
        "legend": {
         "bgcolor": "#F5F6F9",
         "font": {
          "color": "#4D5663"
         }
        },
        "paper_bgcolor": "#F5F6F9",
        "plot_bgcolor": "#F5F6F9",
        "showlegend": false,
        "template": {
         "data": {
          "bar": [
           {
            "error_x": {
             "color": "#2a3f5f"
            },
            "error_y": {
             "color": "#2a3f5f"
            },
            "marker": {
             "line": {
              "color": "#E5ECF6",
              "width": 0.5
             },
             "pattern": {
              "fillmode": "overlay",
              "size": 10,
              "solidity": 0.2
             }
            },
            "type": "bar"
           }
          ],
          "barpolar": [
           {
            "marker": {
             "line": {
              "color": "#E5ECF6",
              "width": 0.5
             },
             "pattern": {
              "fillmode": "overlay",
              "size": 10,
              "solidity": 0.2
             }
            },
            "type": "barpolar"
           }
          ],
          "carpet": [
           {
            "aaxis": {
             "endlinecolor": "#2a3f5f",
             "gridcolor": "white",
             "linecolor": "white",
             "minorgridcolor": "white",
             "startlinecolor": "#2a3f5f"
            },
            "baxis": {
             "endlinecolor": "#2a3f5f",
             "gridcolor": "white",
             "linecolor": "white",
             "minorgridcolor": "white",
             "startlinecolor": "#2a3f5f"
            },
            "type": "carpet"
           }
          ],
          "choropleth": [
           {
            "colorbar": {
             "outlinewidth": 0,
             "ticks": ""
            },
            "type": "choropleth"
           }
          ],
          "contour": [
           {
            "colorbar": {
             "outlinewidth": 0,
             "ticks": ""
            },
            "colorscale": [
             [
              0,
              "#0d0887"
             ],
             [
              0.1111111111111111,
              "#46039f"
             ],
             [
              0.2222222222222222,
              "#7201a8"
             ],
             [
              0.3333333333333333,
              "#9c179e"
             ],
             [
              0.4444444444444444,
              "#bd3786"
             ],
             [
              0.5555555555555556,
              "#d8576b"
             ],
             [
              0.6666666666666666,
              "#ed7953"
             ],
             [
              0.7777777777777778,
              "#fb9f3a"
             ],
             [
              0.8888888888888888,
              "#fdca26"
             ],
             [
              1,
              "#f0f921"
             ]
            ],
            "type": "contour"
           }
          ],
          "contourcarpet": [
           {
            "colorbar": {
             "outlinewidth": 0,
             "ticks": ""
            },
            "type": "contourcarpet"
           }
          ],
          "heatmap": [
           {
            "colorbar": {
             "outlinewidth": 0,
             "ticks": ""
            },
            "colorscale": [
             [
              0,
              "#0d0887"
             ],
             [
              0.1111111111111111,
              "#46039f"
             ],
             [
              0.2222222222222222,
              "#7201a8"
             ],
             [
              0.3333333333333333,
              "#9c179e"
             ],
             [
              0.4444444444444444,
              "#bd3786"
             ],
             [
              0.5555555555555556,
              "#d8576b"
             ],
             [
              0.6666666666666666,
              "#ed7953"
             ],
             [
              0.7777777777777778,
              "#fb9f3a"
             ],
             [
              0.8888888888888888,
              "#fdca26"
             ],
             [
              1,
              "#f0f921"
             ]
            ],
            "type": "heatmap"
           }
          ],
          "heatmapgl": [
           {
            "colorbar": {
             "outlinewidth": 0,
             "ticks": ""
            },
            "colorscale": [
             [
              0,
              "#0d0887"
             ],
             [
              0.1111111111111111,
              "#46039f"
             ],
             [
              0.2222222222222222,
              "#7201a8"
             ],
             [
              0.3333333333333333,
              "#9c179e"
             ],
             [
              0.4444444444444444,
              "#bd3786"
             ],
             [
              0.5555555555555556,
              "#d8576b"
             ],
             [
              0.6666666666666666,
              "#ed7953"
             ],
             [
              0.7777777777777778,
              "#fb9f3a"
             ],
             [
              0.8888888888888888,
              "#fdca26"
             ],
             [
              1,
              "#f0f921"
             ]
            ],
            "type": "heatmapgl"
           }
          ],
          "histogram": [
           {
            "marker": {
             "pattern": {
              "fillmode": "overlay",
              "size": 10,
              "solidity": 0.2
             }
            },
            "type": "histogram"
           }
          ],
          "histogram2d": [
           {
            "colorbar": {
             "outlinewidth": 0,
             "ticks": ""
            },
            "colorscale": [
             [
              0,
              "#0d0887"
             ],
             [
              0.1111111111111111,
              "#46039f"
             ],
             [
              0.2222222222222222,
              "#7201a8"
             ],
             [
              0.3333333333333333,
              "#9c179e"
             ],
             [
              0.4444444444444444,
              "#bd3786"
             ],
             [
              0.5555555555555556,
              "#d8576b"
             ],
             [
              0.6666666666666666,
              "#ed7953"
             ],
             [
              0.7777777777777778,
              "#fb9f3a"
             ],
             [
              0.8888888888888888,
              "#fdca26"
             ],
             [
              1,
              "#f0f921"
             ]
            ],
            "type": "histogram2d"
           }
          ],
          "histogram2dcontour": [
           {
            "colorbar": {
             "outlinewidth": 0,
             "ticks": ""
            },
            "colorscale": [
             [
              0,
              "#0d0887"
             ],
             [
              0.1111111111111111,
              "#46039f"
             ],
             [
              0.2222222222222222,
              "#7201a8"
             ],
             [
              0.3333333333333333,
              "#9c179e"
             ],
             [
              0.4444444444444444,
              "#bd3786"
             ],
             [
              0.5555555555555556,
              "#d8576b"
             ],
             [
              0.6666666666666666,
              "#ed7953"
             ],
             [
              0.7777777777777778,
              "#fb9f3a"
             ],
             [
              0.8888888888888888,
              "#fdca26"
             ],
             [
              1,
              "#f0f921"
             ]
            ],
            "type": "histogram2dcontour"
           }
          ],
          "mesh3d": [
           {
            "colorbar": {
             "outlinewidth": 0,
             "ticks": ""
            },
            "type": "mesh3d"
           }
          ],
          "parcoords": [
           {
            "line": {
             "colorbar": {
              "outlinewidth": 0,
              "ticks": ""
             }
            },
            "type": "parcoords"
           }
          ],
          "pie": [
           {
            "automargin": true,
            "type": "pie"
           }
          ],
          "scatter": [
           {
            "fillpattern": {
             "fillmode": "overlay",
             "size": 10,
             "solidity": 0.2
            },
            "type": "scatter"
           }
          ],
          "scatter3d": [
           {
            "line": {
             "colorbar": {
              "outlinewidth": 0,
              "ticks": ""
             }
            },
            "marker": {
             "colorbar": {
              "outlinewidth": 0,
              "ticks": ""
             }
            },
            "type": "scatter3d"
           }
          ],
          "scattercarpet": [
           {
            "marker": {
             "colorbar": {
              "outlinewidth": 0,
              "ticks": ""
             }
            },
            "type": "scattercarpet"
           }
          ],
          "scattergeo": [
           {
            "marker": {
             "colorbar": {
              "outlinewidth": 0,
              "ticks": ""
             }
            },
            "type": "scattergeo"
           }
          ],
          "scattergl": [
           {
            "marker": {
             "colorbar": {
              "outlinewidth": 0,
              "ticks": ""
             }
            },
            "type": "scattergl"
           }
          ],
          "scattermapbox": [
           {
            "marker": {
             "colorbar": {
              "outlinewidth": 0,
              "ticks": ""
             }
            },
            "type": "scattermapbox"
           }
          ],
          "scatterpolar": [
           {
            "marker": {
             "colorbar": {
              "outlinewidth": 0,
              "ticks": ""
             }
            },
            "type": "scatterpolar"
           }
          ],
          "scatterpolargl": [
           {
            "marker": {
             "colorbar": {
              "outlinewidth": 0,
              "ticks": ""
             }
            },
            "type": "scatterpolargl"
           }
          ],
          "scatterternary": [
           {
            "marker": {
             "colorbar": {
              "outlinewidth": 0,
              "ticks": ""
             }
            },
            "type": "scatterternary"
           }
          ],
          "surface": [
           {
            "colorbar": {
             "outlinewidth": 0,
             "ticks": ""
            },
            "colorscale": [
             [
              0,
              "#0d0887"
             ],
             [
              0.1111111111111111,
              "#46039f"
             ],
             [
              0.2222222222222222,
              "#7201a8"
             ],
             [
              0.3333333333333333,
              "#9c179e"
             ],
             [
              0.4444444444444444,
              "#bd3786"
             ],
             [
              0.5555555555555556,
              "#d8576b"
             ],
             [
              0.6666666666666666,
              "#ed7953"
             ],
             [
              0.7777777777777778,
              "#fb9f3a"
             ],
             [
              0.8888888888888888,
              "#fdca26"
             ],
             [
              1,
              "#f0f921"
             ]
            ],
            "type": "surface"
           }
          ],
          "table": [
           {
            "cells": {
             "fill": {
              "color": "#EBF0F8"
             },
             "line": {
              "color": "white"
             }
            },
            "header": {
             "fill": {
              "color": "#C8D4E3"
             },
             "line": {
              "color": "white"
             }
            },
            "type": "table"
           }
          ]
         },
         "layout": {
          "annotationdefaults": {
           "arrowcolor": "#2a3f5f",
           "arrowhead": 0,
           "arrowwidth": 1
          },
          "autotypenumbers": "strict",
          "coloraxis": {
           "colorbar": {
            "outlinewidth": 0,
            "ticks": ""
           }
          },
          "colorscale": {
           "diverging": [
            [
             0,
             "#8e0152"
            ],
            [
             0.1,
             "#c51b7d"
            ],
            [
             0.2,
             "#de77ae"
            ],
            [
             0.3,
             "#f1b6da"
            ],
            [
             0.4,
             "#fde0ef"
            ],
            [
             0.5,
             "#f7f7f7"
            ],
            [
             0.6,
             "#e6f5d0"
            ],
            [
             0.7,
             "#b8e186"
            ],
            [
             0.8,
             "#7fbc41"
            ],
            [
             0.9,
             "#4d9221"
            ],
            [
             1,
             "#276419"
            ]
           ],
           "sequential": [
            [
             0,
             "#0d0887"
            ],
            [
             0.1111111111111111,
             "#46039f"
            ],
            [
             0.2222222222222222,
             "#7201a8"
            ],
            [
             0.3333333333333333,
             "#9c179e"
            ],
            [
             0.4444444444444444,
             "#bd3786"
            ],
            [
             0.5555555555555556,
             "#d8576b"
            ],
            [
             0.6666666666666666,
             "#ed7953"
            ],
            [
             0.7777777777777778,
             "#fb9f3a"
            ],
            [
             0.8888888888888888,
             "#fdca26"
            ],
            [
             1,
             "#f0f921"
            ]
           ],
           "sequentialminus": [
            [
             0,
             "#0d0887"
            ],
            [
             0.1111111111111111,
             "#46039f"
            ],
            [
             0.2222222222222222,
             "#7201a8"
            ],
            [
             0.3333333333333333,
             "#9c179e"
            ],
            [
             0.4444444444444444,
             "#bd3786"
            ],
            [
             0.5555555555555556,
             "#d8576b"
            ],
            [
             0.6666666666666666,
             "#ed7953"
            ],
            [
             0.7777777777777778,
             "#fb9f3a"
            ],
            [
             0.8888888888888888,
             "#fdca26"
            ],
            [
             1,
             "#f0f921"
            ]
           ]
          },
          "colorway": [
           "#636efa",
           "#EF553B",
           "#00cc96",
           "#ab63fa",
           "#FFA15A",
           "#19d3f3",
           "#FF6692",
           "#B6E880",
           "#FF97FF",
           "#FECB52"
          ],
          "font": {
           "color": "#2a3f5f"
          },
          "geo": {
           "bgcolor": "white",
           "lakecolor": "white",
           "landcolor": "#E5ECF6",
           "showlakes": true,
           "showland": true,
           "subunitcolor": "white"
          },
          "hoverlabel": {
           "align": "left"
          },
          "hovermode": "closest",
          "mapbox": {
           "style": "light"
          },
          "paper_bgcolor": "white",
          "plot_bgcolor": "#E5ECF6",
          "polar": {
           "angularaxis": {
            "gridcolor": "white",
            "linecolor": "white",
            "ticks": ""
           },
           "bgcolor": "#E5ECF6",
           "radialaxis": {
            "gridcolor": "white",
            "linecolor": "white",
            "ticks": ""
           }
          },
          "scene": {
           "xaxis": {
            "backgroundcolor": "#E5ECF6",
            "gridcolor": "white",
            "gridwidth": 2,
            "linecolor": "white",
            "showbackground": true,
            "ticks": "",
            "zerolinecolor": "white"
           },
           "yaxis": {
            "backgroundcolor": "#E5ECF6",
            "gridcolor": "white",
            "gridwidth": 2,
            "linecolor": "white",
            "showbackground": true,
            "ticks": "",
            "zerolinecolor": "white"
           },
           "zaxis": {
            "backgroundcolor": "#E5ECF6",
            "gridcolor": "white",
            "gridwidth": 2,
            "linecolor": "white",
            "showbackground": true,
            "ticks": "",
            "zerolinecolor": "white"
           }
          },
          "shapedefaults": {
           "line": {
            "color": "#2a3f5f"
           }
          },
          "ternary": {
           "aaxis": {
            "gridcolor": "white",
            "linecolor": "white",
            "ticks": ""
           },
           "baxis": {
            "gridcolor": "white",
            "linecolor": "white",
            "ticks": ""
           },
           "bgcolor": "#E5ECF6",
           "caxis": {
            "gridcolor": "white",
            "linecolor": "white",
            "ticks": ""
           }
          },
          "title": {
           "x": 0.05
          },
          "xaxis": {
           "automargin": true,
           "gridcolor": "white",
           "linecolor": "white",
           "ticks": "",
           "title": {
            "standoff": 15
           },
           "zerolinecolor": "white",
           "zerolinewidth": 2
          },
          "yaxis": {
           "automargin": true,
           "gridcolor": "white",
           "linecolor": "white",
           "ticks": "",
           "title": {
            "standoff": 15
           },
           "zerolinecolor": "white",
           "zerolinewidth": 2
          }
         }
        },
        "title": {
         "font": {
          "color": "#4D5663"
         }
        },
        "xaxis": {
         "anchor": "y",
         "domain": [
          0,
          0.2125
         ],
         "gridcolor": "#E1E5ED",
         "showgrid": false,
         "tickfont": {
          "color": "#4D5663"
         },
         "title": {
          "font": {
           "color": "#4D5663"
          },
          "text": ""
         },
         "zerolinecolor": "#E1E5ED"
        },
        "xaxis10": {
         "anchor": "y10",
         "domain": [
          0.2625,
          0.475
         ],
         "gridcolor": "#E1E5ED",
         "showgrid": false,
         "tickfont": {
          "color": "#4D5663"
         },
         "title": {
          "font": {
           "color": "#4D5663"
          },
          "text": ""
         },
         "zerolinecolor": "#E1E5ED"
        },
        "xaxis11": {
         "anchor": "y11",
         "domain": [
          0.525,
          0.7375
         ],
         "gridcolor": "#E1E5ED",
         "showgrid": false,
         "tickfont": {
          "color": "#4D5663"
         },
         "title": {
          "font": {
           "color": "#4D5663"
          },
          "text": ""
         },
         "zerolinecolor": "#E1E5ED"
        },
        "xaxis12": {
         "anchor": "y12",
         "domain": [
          0.7875,
          1
         ],
         "gridcolor": "#E1E5ED",
         "showgrid": false,
         "tickfont": {
          "color": "#4D5663"
         },
         "title": {
          "font": {
           "color": "#4D5663"
          },
          "text": ""
         },
         "zerolinecolor": "#E1E5ED"
        },
        "xaxis13": {
         "anchor": "y13",
         "domain": [
          0,
          0.2125
         ],
         "gridcolor": "#E1E5ED",
         "showgrid": false,
         "tickfont": {
          "color": "#4D5663"
         },
         "title": {
          "font": {
           "color": "#4D5663"
          },
          "text": ""
         },
         "zerolinecolor": "#E1E5ED"
        },
        "xaxis14": {
         "anchor": "y14",
         "domain": [
          0.2625,
          0.475
         ],
         "gridcolor": "#E1E5ED",
         "showgrid": false,
         "tickfont": {
          "color": "#4D5663"
         },
         "title": {
          "font": {
           "color": "#4D5663"
          },
          "text": ""
         },
         "zerolinecolor": "#E1E5ED"
        },
        "xaxis15": {
         "anchor": "y15",
         "domain": [
          0.525,
          0.7375
         ],
         "gridcolor": "#E1E5ED",
         "showgrid": false,
         "tickfont": {
          "color": "#4D5663"
         },
         "title": {
          "font": {
           "color": "#4D5663"
          },
          "text": ""
         },
         "zerolinecolor": "#E1E5ED"
        },
        "xaxis16": {
         "anchor": "y16",
         "domain": [
          0.7875,
          1
         ],
         "gridcolor": "#E1E5ED",
         "showgrid": false,
         "tickfont": {
          "color": "#4D5663"
         },
         "title": {
          "font": {
           "color": "#4D5663"
          },
          "text": ""
         },
         "zerolinecolor": "#E1E5ED"
        },
        "xaxis2": {
         "anchor": "y2",
         "domain": [
          0.2625,
          0.475
         ],
         "gridcolor": "#E1E5ED",
         "showgrid": false,
         "tickfont": {
          "color": "#4D5663"
         },
         "title": {
          "font": {
           "color": "#4D5663"
          },
          "text": ""
         },
         "zerolinecolor": "#E1E5ED"
        },
        "xaxis3": {
         "anchor": "y3",
         "domain": [
          0.525,
          0.7375
         ],
         "gridcolor": "#E1E5ED",
         "showgrid": false,
         "tickfont": {
          "color": "#4D5663"
         },
         "title": {
          "font": {
           "color": "#4D5663"
          },
          "text": ""
         },
         "zerolinecolor": "#E1E5ED"
        },
        "xaxis4": {
         "anchor": "y4",
         "domain": [
          0.7875,
          1
         ],
         "gridcolor": "#E1E5ED",
         "showgrid": false,
         "tickfont": {
          "color": "#4D5663"
         },
         "title": {
          "font": {
           "color": "#4D5663"
          },
          "text": ""
         },
         "zerolinecolor": "#E1E5ED"
        },
        "xaxis5": {
         "anchor": "y5",
         "domain": [
          0,
          0.2125
         ],
         "gridcolor": "#E1E5ED",
         "showgrid": false,
         "tickfont": {
          "color": "#4D5663"
         },
         "title": {
          "font": {
           "color": "#4D5663"
          },
          "text": ""
         },
         "zerolinecolor": "#E1E5ED"
        },
        "xaxis6": {
         "anchor": "y6",
         "domain": [
          0.2625,
          0.475
         ],
         "gridcolor": "#E1E5ED",
         "showgrid": false,
         "tickfont": {
          "color": "#4D5663"
         },
         "title": {
          "font": {
           "color": "#4D5663"
          },
          "text": ""
         },
         "zerolinecolor": "#E1E5ED"
        },
        "xaxis7": {
         "anchor": "y7",
         "domain": [
          0.525,
          0.7375
         ],
         "gridcolor": "#E1E5ED",
         "showgrid": false,
         "tickfont": {
          "color": "#4D5663"
         },
         "title": {
          "font": {
           "color": "#4D5663"
          },
          "text": ""
         },
         "zerolinecolor": "#E1E5ED"
        },
        "xaxis8": {
         "anchor": "y8",
         "domain": [
          0.7875,
          1
         ],
         "gridcolor": "#E1E5ED",
         "showgrid": false,
         "tickfont": {
          "color": "#4D5663"
         },
         "title": {
          "font": {
           "color": "#4D5663"
          },
          "text": ""
         },
         "zerolinecolor": "#E1E5ED"
        },
        "xaxis9": {
         "anchor": "y9",
         "domain": [
          0,
          0.2125
         ],
         "gridcolor": "#E1E5ED",
         "showgrid": false,
         "tickfont": {
          "color": "#4D5663"
         },
         "title": {
          "font": {
           "color": "#4D5663"
          },
          "text": ""
         },
         "zerolinecolor": "#E1E5ED"
        },
        "yaxis": {
         "anchor": "x",
         "domain": [
          0.8025,
          1
         ],
         "gridcolor": "#E1E5ED",
         "showgrid": false,
         "tickfont": {
          "color": "#4D5663"
         },
         "title": {
          "font": {
           "color": "#4D5663"
          },
          "text": ""
         },
         "zerolinecolor": "#E1E5ED"
        },
        "yaxis10": {
         "anchor": "x10",
         "domain": [
          0.2675,
          0.465
         ],
         "gridcolor": "#E1E5ED",
         "showgrid": false,
         "tickfont": {
          "color": "#4D5663"
         },
         "title": {
          "font": {
           "color": "#4D5663"
          },
          "text": ""
         },
         "zerolinecolor": "#E1E5ED"
        },
        "yaxis11": {
         "anchor": "x11",
         "domain": [
          0.2675,
          0.465
         ],
         "gridcolor": "#E1E5ED",
         "showgrid": false,
         "tickfont": {
          "color": "#4D5663"
         },
         "title": {
          "font": {
           "color": "#4D5663"
          },
          "text": ""
         },
         "zerolinecolor": "#E1E5ED"
        },
        "yaxis12": {
         "anchor": "x12",
         "domain": [
          0.2675,
          0.465
         ],
         "gridcolor": "#E1E5ED",
         "showgrid": false,
         "tickfont": {
          "color": "#4D5663"
         },
         "title": {
          "font": {
           "color": "#4D5663"
          },
          "text": ""
         },
         "zerolinecolor": "#E1E5ED"
        },
        "yaxis13": {
         "anchor": "x13",
         "domain": [
          0,
          0.1975
         ],
         "gridcolor": "#E1E5ED",
         "showgrid": false,
         "tickfont": {
          "color": "#4D5663"
         },
         "title": {
          "font": {
           "color": "#4D5663"
          },
          "text": ""
         },
         "zerolinecolor": "#E1E5ED"
        },
        "yaxis14": {
         "anchor": "x14",
         "domain": [
          0,
          0.1975
         ],
         "gridcolor": "#E1E5ED",
         "showgrid": false,
         "tickfont": {
          "color": "#4D5663"
         },
         "title": {
          "font": {
           "color": "#4D5663"
          },
          "text": ""
         },
         "zerolinecolor": "#E1E5ED"
        },
        "yaxis15": {
         "anchor": "x15",
         "domain": [
          0,
          0.1975
         ],
         "gridcolor": "#E1E5ED",
         "showgrid": false,
         "tickfont": {
          "color": "#4D5663"
         },
         "title": {
          "font": {
           "color": "#4D5663"
          },
          "text": ""
         },
         "zerolinecolor": "#E1E5ED"
        },
        "yaxis16": {
         "anchor": "x16",
         "domain": [
          0,
          0.1975
         ],
         "gridcolor": "#E1E5ED",
         "showgrid": false,
         "tickfont": {
          "color": "#4D5663"
         },
         "title": {
          "font": {
           "color": "#4D5663"
          },
          "text": ""
         },
         "zerolinecolor": "#E1E5ED"
        },
        "yaxis2": {
         "anchor": "x2",
         "domain": [
          0.8025,
          1
         ],
         "gridcolor": "#E1E5ED",
         "showgrid": false,
         "tickfont": {
          "color": "#4D5663"
         },
         "title": {
          "font": {
           "color": "#4D5663"
          },
          "text": ""
         },
         "zerolinecolor": "#E1E5ED"
        },
        "yaxis3": {
         "anchor": "x3",
         "domain": [
          0.8025,
          1
         ],
         "gridcolor": "#E1E5ED",
         "showgrid": false,
         "tickfont": {
          "color": "#4D5663"
         },
         "title": {
          "font": {
           "color": "#4D5663"
          },
          "text": ""
         },
         "zerolinecolor": "#E1E5ED"
        },
        "yaxis4": {
         "anchor": "x4",
         "domain": [
          0.8025,
          1
         ],
         "gridcolor": "#E1E5ED",
         "showgrid": false,
         "tickfont": {
          "color": "#4D5663"
         },
         "title": {
          "font": {
           "color": "#4D5663"
          },
          "text": ""
         },
         "zerolinecolor": "#E1E5ED"
        },
        "yaxis5": {
         "anchor": "x5",
         "domain": [
          0.535,
          0.7325
         ],
         "gridcolor": "#E1E5ED",
         "showgrid": false,
         "tickfont": {
          "color": "#4D5663"
         },
         "title": {
          "font": {
           "color": "#4D5663"
          },
          "text": ""
         },
         "zerolinecolor": "#E1E5ED"
        },
        "yaxis6": {
         "anchor": "x6",
         "domain": [
          0.535,
          0.7325
         ],
         "gridcolor": "#E1E5ED",
         "showgrid": false,
         "tickfont": {
          "color": "#4D5663"
         },
         "title": {
          "font": {
           "color": "#4D5663"
          },
          "text": ""
         },
         "zerolinecolor": "#E1E5ED"
        },
        "yaxis7": {
         "anchor": "x7",
         "domain": [
          0.535,
          0.7325
         ],
         "gridcolor": "#E1E5ED",
         "showgrid": false,
         "tickfont": {
          "color": "#4D5663"
         },
         "title": {
          "font": {
           "color": "#4D5663"
          },
          "text": ""
         },
         "zerolinecolor": "#E1E5ED"
        },
        "yaxis8": {
         "anchor": "x8",
         "domain": [
          0.535,
          0.7325
         ],
         "gridcolor": "#E1E5ED",
         "showgrid": false,
         "tickfont": {
          "color": "#4D5663"
         },
         "title": {
          "font": {
           "color": "#4D5663"
          },
          "text": ""
         },
         "zerolinecolor": "#E1E5ED"
        },
        "yaxis9": {
         "anchor": "x9",
         "domain": [
          0.2675,
          0.465
         ],
         "gridcolor": "#E1E5ED",
         "showgrid": false,
         "tickfont": {
          "color": "#4D5663"
         },
         "title": {
          "font": {
           "color": "#4D5663"
          },
          "text": ""
         },
         "zerolinecolor": "#E1E5ED"
        }
       }
      },
      "text/html": [
       "<div>                            <div id=\"4a3da8c0-cd19-4752-b531-a3411874cdb0\" class=\"plotly-graph-div\" style=\"height:525px; width:100%;\"></div>            <script type=\"text/javascript\">                require([\"plotly\"], function(Plotly) {                    window.PLOTLYENV=window.PLOTLYENV || {};\n",
       "                    window.PLOTLYENV.BASE_URL='https://plot.ly';                                    if (document.getElementById(\"4a3da8c0-cd19-4752-b531-a3411874cdb0\")) {                    Plotly.newPlot(                        \"4a3da8c0-cd19-4752-b531-a3411874cdb0\",                        [{\"histfunc\":\"count\",\"histnorm\":\"\",\"marker\":{\"color\":\"rgba(255, 153, 51, 1.0)\",\"line\":{\"color\":\"#4D5663\",\"width\":1.3}},\"name\":\"A\",\"nbinsx\":10,\"opacity\":0.8,\"orientation\":\"v\",\"x\":[-0.7459921802284659,-0.2985331193711804,-0.5923070930794322,1.0241349657605285,1.3474652422939397,-0.3306346733325379,0.12698460532380978,-1.2396216588120965,1.4135882069108947,-0.4340229477075488,-2.1086061405379892,0.6650868623623832,-0.9392383681720982,-0.8012157757144039,0.3556419166568355,0.17027391249413223,1.2373283151950252,-0.4278715023691055,0.5122398939890646,-0.11651123285876328,0.24228686745884245,2.7388904967110514,-0.07739903639478632,-1.7729344017310518,-0.8044559993420353,0.32858915549721407,1.6938449970171683,0.20667478488806795,0.3730087418711053,1.2819911073395296,1.0994228222100382,-0.6375445967919214,-0.015269635410634546,1.3432161615550722,0.38147805069172214,0.8090768264403407,-0.2651207647914632,-0.16152848676210493,-0.7269239383533179,-0.6137628729964091,0.5453822578346342,3.3903895782942266,-0.06297500095351101,0.04123220659054581,-0.5207128486462764,0.529189297618538,-0.2932635542935991,-1.7590769255017142,0.4561990099342433,-1.2014994000604384,0.7457774415845939,-0.6599210785512793,0.49290673558060794,-0.09439724081832111,0.5776279393791839,0.6604600090753378,0.2617093580743427,0.7413067020176657,-0.1261681498761519,1.0310886998176432,-2.0567488675287304,1.125328876952449,1.3869881729229596,1.1651878049553273,-1.7468494092187064,-0.05160940085340369,-1.6270745323537221,-0.8729420211114243,-0.4416407332362468,0.14056114799324715,-0.13450494629745824,1.1135561248487242,-0.24136313385725927,0.2953075790841706,0.9533194362152135,0.30431001658093426,-0.19300675495041086,0.3705726709997868,0.27881990624938835,1.8364326683786332,0.4284722687128993,-1.2617417433708187,-1.3276369663042034,0.7562551076888145,-0.41477062335883763,-1.031744056577676,0.7731528564898905,0.024136114280125243,1.4344322176590476,-1.6726958453708354,-0.6738035330410321,-1.64588650160417,0.00019750244670672836,0.2418395172388969,-1.2328421931298899,0.43474031290286197,-0.935102556309525,-3.030241304070444,0.1630101373330067,-1.0259787293633311],\"xaxis\":\"x\",\"yaxis\":\"y\",\"type\":\"histogram\"},{\"line\":{\"color\":\"rgba(128, 128, 128, 1.0)\",\"dash\":\"solid\",\"shape\":\"linear\",\"width\":1.3},\"marker\":{\"size\":2,\"symbol\":\"circle\"},\"mode\":\"markers\",\"name\":\"A\",\"text\":\"\",\"x\":[3.0024849906902924,-0.6712017479592524,1.6122949489688632,0.048319156974700864,-0.7037217982582277,-0.7346015241816336,0.46733197276926874,-1.2163230831125607,-1.8376965510535215,-0.37220305547565036,0.4982038444106561,0.41856621895463025,1.440065157327684,0.034012958086091255,-0.3857573090224651,0.06890290989061831,-0.2469046756260349,0.5308059485294074,1.2798339250090698,-0.6612866651020235,-0.4309505792491207,0.41609482167032685,-1.2642759525596383,0.8088606095923593,-0.3287787352467742,-0.6640834034711206,-0.7619309954237736,0.4226777605230677,0.24979936237140168,0.28290305086873324,-0.2587768684335364,-1.1073499176529262,1.2678433641662228,0.7205688117833361,0.013101018318805328,1.0924839966821154,-1.365552472959164,-0.6069035061411017,-0.7144470408869261,1.0164384956684194,0.443418569079833,1.5261437417082782,-0.4466690260594189,-0.03827589074987316,1.8217727999067659,0.9210873939031335,-0.6617860453960066,0.16821137523823973,-0.1432853121140892,-2.7978845041908693,-0.9871087600490078,0.23248038532172627,1.24398179577353,-0.49018419946746145,0.21244678095206795,1.0542662813242147,0.41159843284465036,-0.3283155232768134,-0.14949025923677958,-0.9729735249688074,0.4689267035066989,0.39267582822134933,-0.2970338809944145,-0.3276061866690047,0.14517824094086815,-0.5009911239461405,0.2938491028086687,-0.05358032996194319,0.15824222616038994,-1.0316553589625612,-0.8889064599434631,-1.0109186708122362,0.8680587463217743,-0.523884874888583,-0.19984029864885086,-0.14148835743846858,-0.009625828651904937,1.2595153681009292,-0.7494574853190527,1.165196594856903,-0.15616145611462873,-0.5545374650676813,-1.0616810378264292,-1.3512784595061946,-1.3413189832986294,0.30622554758114745,-1.3427236915580891,-0.8361594218203363,-0.32322420311663497,0.6932830181946397,0.45785925248063436,-0.26482801927470795,-0.21506392508465094,-0.20592211725464296,0.12609007771073222,-1.5140332619993535,0.569167999467806,0.21077166262899988,-0.3175134211123909,0.26939347185908497],\"xaxis\":\"x2\",\"y\":[-0.7459921802284659,-0.2985331193711804,-0.5923070930794322,1.0241349657605285,1.3474652422939397,-0.3306346733325379,0.12698460532380978,-1.2396216588120965,1.4135882069108947,-0.4340229477075488,-2.1086061405379892,0.6650868623623832,-0.9392383681720982,-0.8012157757144039,0.3556419166568355,0.17027391249413223,1.2373283151950252,-0.4278715023691055,0.5122398939890646,-0.11651123285876328,0.24228686745884245,2.7388904967110514,-0.07739903639478632,-1.7729344017310518,-0.8044559993420353,0.32858915549721407,1.6938449970171683,0.20667478488806795,0.3730087418711053,1.2819911073395296,1.0994228222100382,-0.6375445967919214,-0.015269635410634546,1.3432161615550722,0.38147805069172214,0.8090768264403407,-0.2651207647914632,-0.16152848676210493,-0.7269239383533179,-0.6137628729964091,0.5453822578346342,3.3903895782942266,-0.06297500095351101,0.04123220659054581,-0.5207128486462764,0.529189297618538,-0.2932635542935991,-1.7590769255017142,0.4561990099342433,-1.2014994000604384,0.7457774415845939,-0.6599210785512793,0.49290673558060794,-0.09439724081832111,0.5776279393791839,0.6604600090753378,0.2617093580743427,0.7413067020176657,-0.1261681498761519,1.0310886998176432,-2.0567488675287304,1.125328876952449,1.3869881729229596,1.1651878049553273,-1.7468494092187064,-0.05160940085340369,-1.6270745323537221,-0.8729420211114243,-0.4416407332362468,0.14056114799324715,-0.13450494629745824,1.1135561248487242,-0.24136313385725927,0.2953075790841706,0.9533194362152135,0.30431001658093426,-0.19300675495041086,0.3705726709997868,0.27881990624938835,1.8364326683786332,0.4284722687128993,-1.2617417433708187,-1.3276369663042034,0.7562551076888145,-0.41477062335883763,-1.031744056577676,0.7731528564898905,0.024136114280125243,1.4344322176590476,-1.6726958453708354,-0.6738035330410321,-1.64588650160417,0.00019750244670672836,0.2418395172388969,-1.2328421931298899,0.43474031290286197,-0.935102556309525,-3.030241304070444,0.1630101373330067,-1.0259787293633311],\"yaxis\":\"y2\",\"type\":\"scatter\"},{\"line\":{\"color\":\"rgba(128, 128, 128, 1.0)\",\"dash\":\"solid\",\"shape\":\"linear\",\"width\":1.3},\"marker\":{\"size\":2,\"symbol\":\"circle\"},\"mode\":\"markers\",\"name\":\"A\",\"text\":\"\",\"x\":[0.8113018159276627,-1.616591510992557,-0.34210620623359317,-0.1608380889424734,-1.5930171832968276,1.3163945997225097,0.14537021411047765,-0.31941598554290324,-0.043408673181858246,0.4218402251857933,1.0706319088453258,-0.0387041561845792,-0.6048296600038991,-0.25862060311070534,0.2805856976417199,-0.49357009305695704,0.560811157144869,-0.2747554426537597,-1.4570763926371968,-0.5894314407174535,-0.542569606893755,0.9695137485948544,1.923238732616469,-0.1201127967988659,-1.2625936436788925,1.4161530673322527,0.6928904459679615,0.15597596266110106,-0.18010509321539825,2.7869568632946606,-0.7727524579134264,-0.9512916232408573,0.6655970628864091,0.14320990353629576,-1.163233425097576,-1.1699505850992482,0.48627632840072155,-0.08002200140047959,-0.866163781622745,-0.7365750121239006,0.80107814419454,-0.4788418006526577,0.711292891715219,-0.45203810351847046,0.3897190003684126,2.086194939010628,0.4138766086155095,1.0147933603608388,-1.0706075825077774,0.13424782541174513,0.7226514491375658,0.43180326020643994,-0.6010352902596428,0.5133485097482706,-1.5185139735237612,-0.09325680401253154,1.4356914174704043,-0.4863913836168061,0.9181625178962032,1.1412321982521312,1.6518123162034772,-0.4626919199956366,-1.0088298637768962,1.3568492527889044,-0.979833248540261,0.9250213995648844,-1.2466304486588788,1.4031994601015796,-0.21998113203257877,-0.7253382859367504,0.09488617012844323,1.040851900292978,0.05093586697419843,-0.2675202194885947,-1.0655837915440298,0.1284908111859617,0.6698417823428845,1.0736933716461932,-0.0004236036007082919,0.8714767505757695,-0.9027189168019534,-0.08729604857291093,2.060039092449106,1.3447301921359462,-1.7900799649521892,1.64923527181763,0.5290034491709216,-0.15555846680224375,-0.4471044004759734,1.3369808740218303,-0.43070999832171797,-0.44738783149839034,-0.48200056242532596,0.9843156571561115,-0.9962186196879177,2.6606864353612916,-0.4343984891365146,0.3990878583058662,-0.6890321533124985,0.21305454433974544],\"xaxis\":\"x3\",\"y\":[-0.7459921802284659,-0.2985331193711804,-0.5923070930794322,1.0241349657605285,1.3474652422939397,-0.3306346733325379,0.12698460532380978,-1.2396216588120965,1.4135882069108947,-0.4340229477075488,-2.1086061405379892,0.6650868623623832,-0.9392383681720982,-0.8012157757144039,0.3556419166568355,0.17027391249413223,1.2373283151950252,-0.4278715023691055,0.5122398939890646,-0.11651123285876328,0.24228686745884245,2.7388904967110514,-0.07739903639478632,-1.7729344017310518,-0.8044559993420353,0.32858915549721407,1.6938449970171683,0.20667478488806795,0.3730087418711053,1.2819911073395296,1.0994228222100382,-0.6375445967919214,-0.015269635410634546,1.3432161615550722,0.38147805069172214,0.8090768264403407,-0.2651207647914632,-0.16152848676210493,-0.7269239383533179,-0.6137628729964091,0.5453822578346342,3.3903895782942266,-0.06297500095351101,0.04123220659054581,-0.5207128486462764,0.529189297618538,-0.2932635542935991,-1.7590769255017142,0.4561990099342433,-1.2014994000604384,0.7457774415845939,-0.6599210785512793,0.49290673558060794,-0.09439724081832111,0.5776279393791839,0.6604600090753378,0.2617093580743427,0.7413067020176657,-0.1261681498761519,1.0310886998176432,-2.0567488675287304,1.125328876952449,1.3869881729229596,1.1651878049553273,-1.7468494092187064,-0.05160940085340369,-1.6270745323537221,-0.8729420211114243,-0.4416407332362468,0.14056114799324715,-0.13450494629745824,1.1135561248487242,-0.24136313385725927,0.2953075790841706,0.9533194362152135,0.30431001658093426,-0.19300675495041086,0.3705726709997868,0.27881990624938835,1.8364326683786332,0.4284722687128993,-1.2617417433708187,-1.3276369663042034,0.7562551076888145,-0.41477062335883763,-1.031744056577676,0.7731528564898905,0.024136114280125243,1.4344322176590476,-1.6726958453708354,-0.6738035330410321,-1.64588650160417,0.00019750244670672836,0.2418395172388969,-1.2328421931298899,0.43474031290286197,-0.935102556309525,-3.030241304070444,0.1630101373330067,-1.0259787293633311],\"yaxis\":\"y3\",\"type\":\"scatter\"},{\"line\":{\"color\":\"rgba(128, 128, 128, 1.0)\",\"dash\":\"solid\",\"shape\":\"linear\",\"width\":1.3},\"marker\":{\"size\":2,\"symbol\":\"circle\"},\"mode\":\"markers\",\"name\":\"A\",\"text\":\"\",\"x\":[-1.5834697851579909,-0.7825639756743333,1.5647530721653389,0.6665738843861724,0.9179070161090263,1.1252093153938167,-0.5514268406912114,-0.46889949285177746,-0.6206162760360194,0.2108798117613887,-0.3783493244783955,0.5042136077299458,-1.4586208203934794,1.2912723098743222,-0.20947923787285871,2.2913706160454406,-1.8224857607378717,-0.0027484726196031115,-0.5166730365483232,1.084661778503231,0.38368659740625566,-2.627459295234819,0.7468293470424616,-0.9738444590021562,-1.149366835113078,-0.5875061241460016,-0.9215439900308457,0.8269858946997607,0.11573647663864463,-1.446237192850758,-0.26436644873993737,-0.9442682068582215,-0.5310299833174894,-0.0479546733652983,-2.0433344715405988,0.22188718745946992,-1.129153267778444,-0.8485430488921378,0.38306254883799906,0.53461624832531,-0.3791237885566834,0.30272409746642337,0.21130593108566786,0.9097476628582934,-1.890060857566516,0.15313781758630732,-0.4448902190835499,-0.5395809052879742,-0.24286760274253633,1.9607760160002479,-0.5460757031753178,-0.7559482319618465,0.15276127622373334,0.09115330392890346,0.11936276867588004,-1.0380997387230315,1.2817698631679533,-1.032771814372345,-0.529363399194491,1.4760321282045017,0.5350437936214948,0.17880345684652296,0.011245862447948595,-0.9714533079896704,0.6572313477128922,-0.09810124347477055,-1.3487285237789288,0.9235965259080726,-0.7359193510652727,-1.6151096203332505,1.072207202252124,-0.39246292521949194,-0.5938987883601538,-0.5020075232295248,0.9928938951087263,-2.7691399769520904,-0.42403908031201104,2.8150882271346687,0.4315319751713658,-0.1764233652463163,-0.9179004761631729,0.6827020125608767,-0.7920828900921183,-2.466873678892425,0.08342115316629682,0.39369422006736843,-0.13890414142264046,0.24475164965416543,0.5541996490339449,0.004838809382971433,1.9426062212036994,0.15023694684415653,-0.18706037913695334,0.4696909594283362,0.3009907728739544,-0.3902225432444208,-1.6440593494498816,-0.8843173126622377,0.8054403212007447,0.24409360944427766],\"xaxis\":\"x4\",\"y\":[-0.7459921802284659,-0.2985331193711804,-0.5923070930794322,1.0241349657605285,1.3474652422939397,-0.3306346733325379,0.12698460532380978,-1.2396216588120965,1.4135882069108947,-0.4340229477075488,-2.1086061405379892,0.6650868623623832,-0.9392383681720982,-0.8012157757144039,0.3556419166568355,0.17027391249413223,1.2373283151950252,-0.4278715023691055,0.5122398939890646,-0.11651123285876328,0.24228686745884245,2.7388904967110514,-0.07739903639478632,-1.7729344017310518,-0.8044559993420353,0.32858915549721407,1.6938449970171683,0.20667478488806795,0.3730087418711053,1.2819911073395296,1.0994228222100382,-0.6375445967919214,-0.015269635410634546,1.3432161615550722,0.38147805069172214,0.8090768264403407,-0.2651207647914632,-0.16152848676210493,-0.7269239383533179,-0.6137628729964091,0.5453822578346342,3.3903895782942266,-0.06297500095351101,0.04123220659054581,-0.5207128486462764,0.529189297618538,-0.2932635542935991,-1.7590769255017142,0.4561990099342433,-1.2014994000604384,0.7457774415845939,-0.6599210785512793,0.49290673558060794,-0.09439724081832111,0.5776279393791839,0.6604600090753378,0.2617093580743427,0.7413067020176657,-0.1261681498761519,1.0310886998176432,-2.0567488675287304,1.125328876952449,1.3869881729229596,1.1651878049553273,-1.7468494092187064,-0.05160940085340369,-1.6270745323537221,-0.8729420211114243,-0.4416407332362468,0.14056114799324715,-0.13450494629745824,1.1135561248487242,-0.24136313385725927,0.2953075790841706,0.9533194362152135,0.30431001658093426,-0.19300675495041086,0.3705726709997868,0.27881990624938835,1.8364326683786332,0.4284722687128993,-1.2617417433708187,-1.3276369663042034,0.7562551076888145,-0.41477062335883763,-1.031744056577676,0.7731528564898905,0.024136114280125243,1.4344322176590476,-1.6726958453708354,-0.6738035330410321,-1.64588650160417,0.00019750244670672836,0.2418395172388969,-1.2328421931298899,0.43474031290286197,-0.935102556309525,-3.030241304070444,0.1630101373330067,-1.0259787293633311],\"yaxis\":\"y4\",\"type\":\"scatter\"},{\"line\":{\"color\":\"rgba(128, 128, 128, 1.0)\",\"dash\":\"solid\",\"shape\":\"linear\",\"width\":1.3},\"marker\":{\"size\":2,\"symbol\":\"circle\"},\"mode\":\"markers\",\"name\":\"B\",\"text\":\"\",\"x\":[-0.7459921802284659,-0.2985331193711804,-0.5923070930794322,1.0241349657605285,1.3474652422939397,-0.3306346733325379,0.12698460532380978,-1.2396216588120965,1.4135882069108947,-0.4340229477075488,-2.1086061405379892,0.6650868623623832,-0.9392383681720982,-0.8012157757144039,0.3556419166568355,0.17027391249413223,1.2373283151950252,-0.4278715023691055,0.5122398939890646,-0.11651123285876328,0.24228686745884245,2.7388904967110514,-0.07739903639478632,-1.7729344017310518,-0.8044559993420353,0.32858915549721407,1.6938449970171683,0.20667478488806795,0.3730087418711053,1.2819911073395296,1.0994228222100382,-0.6375445967919214,-0.015269635410634546,1.3432161615550722,0.38147805069172214,0.8090768264403407,-0.2651207647914632,-0.16152848676210493,-0.7269239383533179,-0.6137628729964091,0.5453822578346342,3.3903895782942266,-0.06297500095351101,0.04123220659054581,-0.5207128486462764,0.529189297618538,-0.2932635542935991,-1.7590769255017142,0.4561990099342433,-1.2014994000604384,0.7457774415845939,-0.6599210785512793,0.49290673558060794,-0.09439724081832111,0.5776279393791839,0.6604600090753378,0.2617093580743427,0.7413067020176657,-0.1261681498761519,1.0310886998176432,-2.0567488675287304,1.125328876952449,1.3869881729229596,1.1651878049553273,-1.7468494092187064,-0.05160940085340369,-1.6270745323537221,-0.8729420211114243,-0.4416407332362468,0.14056114799324715,-0.13450494629745824,1.1135561248487242,-0.24136313385725927,0.2953075790841706,0.9533194362152135,0.30431001658093426,-0.19300675495041086,0.3705726709997868,0.27881990624938835,1.8364326683786332,0.4284722687128993,-1.2617417433708187,-1.3276369663042034,0.7562551076888145,-0.41477062335883763,-1.031744056577676,0.7731528564898905,0.024136114280125243,1.4344322176590476,-1.6726958453708354,-0.6738035330410321,-1.64588650160417,0.00019750244670672836,0.2418395172388969,-1.2328421931298899,0.43474031290286197,-0.935102556309525,-3.030241304070444,0.1630101373330067,-1.0259787293633311],\"xaxis\":\"x5\",\"y\":[3.0024849906902924,-0.6712017479592524,1.6122949489688632,0.048319156974700864,-0.7037217982582277,-0.7346015241816336,0.46733197276926874,-1.2163230831125607,-1.8376965510535215,-0.37220305547565036,0.4982038444106561,0.41856621895463025,1.440065157327684,0.034012958086091255,-0.3857573090224651,0.06890290989061831,-0.2469046756260349,0.5308059485294074,1.2798339250090698,-0.6612866651020235,-0.4309505792491207,0.41609482167032685,-1.2642759525596383,0.8088606095923593,-0.3287787352467742,-0.6640834034711206,-0.7619309954237736,0.4226777605230677,0.24979936237140168,0.28290305086873324,-0.2587768684335364,-1.1073499176529262,1.2678433641662228,0.7205688117833361,0.013101018318805328,1.0924839966821154,-1.365552472959164,-0.6069035061411017,-0.7144470408869261,1.0164384956684194,0.443418569079833,1.5261437417082782,-0.4466690260594189,-0.03827589074987316,1.8217727999067659,0.9210873939031335,-0.6617860453960066,0.16821137523823973,-0.1432853121140892,-2.7978845041908693,-0.9871087600490078,0.23248038532172627,1.24398179577353,-0.49018419946746145,0.21244678095206795,1.0542662813242147,0.41159843284465036,-0.3283155232768134,-0.14949025923677958,-0.9729735249688074,0.4689267035066989,0.39267582822134933,-0.2970338809944145,-0.3276061866690047,0.14517824094086815,-0.5009911239461405,0.2938491028086687,-0.05358032996194319,0.15824222616038994,-1.0316553589625612,-0.8889064599434631,-1.0109186708122362,0.8680587463217743,-0.523884874888583,-0.19984029864885086,-0.14148835743846858,-0.009625828651904937,1.2595153681009292,-0.7494574853190527,1.165196594856903,-0.15616145611462873,-0.5545374650676813,-1.0616810378264292,-1.3512784595061946,-1.3413189832986294,0.30622554758114745,-1.3427236915580891,-0.8361594218203363,-0.32322420311663497,0.6932830181946397,0.45785925248063436,-0.26482801927470795,-0.21506392508465094,-0.20592211725464296,0.12609007771073222,-1.5140332619993535,0.569167999467806,0.21077166262899988,-0.3175134211123909,0.26939347185908497],\"yaxis\":\"y5\",\"type\":\"scatter\"},{\"histfunc\":\"count\",\"histnorm\":\"\",\"marker\":{\"color\":\"rgba(55, 128, 191, 1.0)\",\"line\":{\"color\":\"#4D5663\",\"width\":1.3}},\"name\":\"B\",\"nbinsx\":10,\"opacity\":0.8,\"orientation\":\"v\",\"x\":[3.0024849906902924,-0.6712017479592524,1.6122949489688632,0.048319156974700864,-0.7037217982582277,-0.7346015241816336,0.46733197276926874,-1.2163230831125607,-1.8376965510535215,-0.37220305547565036,0.4982038444106561,0.41856621895463025,1.440065157327684,0.034012958086091255,-0.3857573090224651,0.06890290989061831,-0.2469046756260349,0.5308059485294074,1.2798339250090698,-0.6612866651020235,-0.4309505792491207,0.41609482167032685,-1.2642759525596383,0.8088606095923593,-0.3287787352467742,-0.6640834034711206,-0.7619309954237736,0.4226777605230677,0.24979936237140168,0.28290305086873324,-0.2587768684335364,-1.1073499176529262,1.2678433641662228,0.7205688117833361,0.013101018318805328,1.0924839966821154,-1.365552472959164,-0.6069035061411017,-0.7144470408869261,1.0164384956684194,0.443418569079833,1.5261437417082782,-0.4466690260594189,-0.03827589074987316,1.8217727999067659,0.9210873939031335,-0.6617860453960066,0.16821137523823973,-0.1432853121140892,-2.7978845041908693,-0.9871087600490078,0.23248038532172627,1.24398179577353,-0.49018419946746145,0.21244678095206795,1.0542662813242147,0.41159843284465036,-0.3283155232768134,-0.14949025923677958,-0.9729735249688074,0.4689267035066989,0.39267582822134933,-0.2970338809944145,-0.3276061866690047,0.14517824094086815,-0.5009911239461405,0.2938491028086687,-0.05358032996194319,0.15824222616038994,-1.0316553589625612,-0.8889064599434631,-1.0109186708122362,0.8680587463217743,-0.523884874888583,-0.19984029864885086,-0.14148835743846858,-0.009625828651904937,1.2595153681009292,-0.7494574853190527,1.165196594856903,-0.15616145611462873,-0.5545374650676813,-1.0616810378264292,-1.3512784595061946,-1.3413189832986294,0.30622554758114745,-1.3427236915580891,-0.8361594218203363,-0.32322420311663497,0.6932830181946397,0.45785925248063436,-0.26482801927470795,-0.21506392508465094,-0.20592211725464296,0.12609007771073222,-1.5140332619993535,0.569167999467806,0.21077166262899988,-0.3175134211123909,0.26939347185908497],\"xaxis\":\"x6\",\"yaxis\":\"y6\",\"type\":\"histogram\"},{\"line\":{\"color\":\"rgba(128, 128, 128, 1.0)\",\"dash\":\"solid\",\"shape\":\"linear\",\"width\":1.3},\"marker\":{\"size\":2,\"symbol\":\"circle\"},\"mode\":\"markers\",\"name\":\"B\",\"text\":\"\",\"x\":[0.8113018159276627,-1.616591510992557,-0.34210620623359317,-0.1608380889424734,-1.5930171832968276,1.3163945997225097,0.14537021411047765,-0.31941598554290324,-0.043408673181858246,0.4218402251857933,1.0706319088453258,-0.0387041561845792,-0.6048296600038991,-0.25862060311070534,0.2805856976417199,-0.49357009305695704,0.560811157144869,-0.2747554426537597,-1.4570763926371968,-0.5894314407174535,-0.542569606893755,0.9695137485948544,1.923238732616469,-0.1201127967988659,-1.2625936436788925,1.4161530673322527,0.6928904459679615,0.15597596266110106,-0.18010509321539825,2.7869568632946606,-0.7727524579134264,-0.9512916232408573,0.6655970628864091,0.14320990353629576,-1.163233425097576,-1.1699505850992482,0.48627632840072155,-0.08002200140047959,-0.866163781622745,-0.7365750121239006,0.80107814419454,-0.4788418006526577,0.711292891715219,-0.45203810351847046,0.3897190003684126,2.086194939010628,0.4138766086155095,1.0147933603608388,-1.0706075825077774,0.13424782541174513,0.7226514491375658,0.43180326020643994,-0.6010352902596428,0.5133485097482706,-1.5185139735237612,-0.09325680401253154,1.4356914174704043,-0.4863913836168061,0.9181625178962032,1.1412321982521312,1.6518123162034772,-0.4626919199956366,-1.0088298637768962,1.3568492527889044,-0.979833248540261,0.9250213995648844,-1.2466304486588788,1.4031994601015796,-0.21998113203257877,-0.7253382859367504,0.09488617012844323,1.040851900292978,0.05093586697419843,-0.2675202194885947,-1.0655837915440298,0.1284908111859617,0.6698417823428845,1.0736933716461932,-0.0004236036007082919,0.8714767505757695,-0.9027189168019534,-0.08729604857291093,2.060039092449106,1.3447301921359462,-1.7900799649521892,1.64923527181763,0.5290034491709216,-0.15555846680224375,-0.4471044004759734,1.3369808740218303,-0.43070999832171797,-0.44738783149839034,-0.48200056242532596,0.9843156571561115,-0.9962186196879177,2.6606864353612916,-0.4343984891365146,0.3990878583058662,-0.6890321533124985,0.21305454433974544],\"xaxis\":\"x7\",\"y\":[3.0024849906902924,-0.6712017479592524,1.6122949489688632,0.048319156974700864,-0.7037217982582277,-0.7346015241816336,0.46733197276926874,-1.2163230831125607,-1.8376965510535215,-0.37220305547565036,0.4982038444106561,0.41856621895463025,1.440065157327684,0.034012958086091255,-0.3857573090224651,0.06890290989061831,-0.2469046756260349,0.5308059485294074,1.2798339250090698,-0.6612866651020235,-0.4309505792491207,0.41609482167032685,-1.2642759525596383,0.8088606095923593,-0.3287787352467742,-0.6640834034711206,-0.7619309954237736,0.4226777605230677,0.24979936237140168,0.28290305086873324,-0.2587768684335364,-1.1073499176529262,1.2678433641662228,0.7205688117833361,0.013101018318805328,1.0924839966821154,-1.365552472959164,-0.6069035061411017,-0.7144470408869261,1.0164384956684194,0.443418569079833,1.5261437417082782,-0.4466690260594189,-0.03827589074987316,1.8217727999067659,0.9210873939031335,-0.6617860453960066,0.16821137523823973,-0.1432853121140892,-2.7978845041908693,-0.9871087600490078,0.23248038532172627,1.24398179577353,-0.49018419946746145,0.21244678095206795,1.0542662813242147,0.41159843284465036,-0.3283155232768134,-0.14949025923677958,-0.9729735249688074,0.4689267035066989,0.39267582822134933,-0.2970338809944145,-0.3276061866690047,0.14517824094086815,-0.5009911239461405,0.2938491028086687,-0.05358032996194319,0.15824222616038994,-1.0316553589625612,-0.8889064599434631,-1.0109186708122362,0.8680587463217743,-0.523884874888583,-0.19984029864885086,-0.14148835743846858,-0.009625828651904937,1.2595153681009292,-0.7494574853190527,1.165196594856903,-0.15616145611462873,-0.5545374650676813,-1.0616810378264292,-1.3512784595061946,-1.3413189832986294,0.30622554758114745,-1.3427236915580891,-0.8361594218203363,-0.32322420311663497,0.6932830181946397,0.45785925248063436,-0.26482801927470795,-0.21506392508465094,-0.20592211725464296,0.12609007771073222,-1.5140332619993535,0.569167999467806,0.21077166262899988,-0.3175134211123909,0.26939347185908497],\"yaxis\":\"y7\",\"type\":\"scatter\"},{\"line\":{\"color\":\"rgba(128, 128, 128, 1.0)\",\"dash\":\"solid\",\"shape\":\"linear\",\"width\":1.3},\"marker\":{\"size\":2,\"symbol\":\"circle\"},\"mode\":\"markers\",\"name\":\"B\",\"text\":\"\",\"x\":[-1.5834697851579909,-0.7825639756743333,1.5647530721653389,0.6665738843861724,0.9179070161090263,1.1252093153938167,-0.5514268406912114,-0.46889949285177746,-0.6206162760360194,0.2108798117613887,-0.3783493244783955,0.5042136077299458,-1.4586208203934794,1.2912723098743222,-0.20947923787285871,2.2913706160454406,-1.8224857607378717,-0.0027484726196031115,-0.5166730365483232,1.084661778503231,0.38368659740625566,-2.627459295234819,0.7468293470424616,-0.9738444590021562,-1.149366835113078,-0.5875061241460016,-0.9215439900308457,0.8269858946997607,0.11573647663864463,-1.446237192850758,-0.26436644873993737,-0.9442682068582215,-0.5310299833174894,-0.0479546733652983,-2.0433344715405988,0.22188718745946992,-1.129153267778444,-0.8485430488921378,0.38306254883799906,0.53461624832531,-0.3791237885566834,0.30272409746642337,0.21130593108566786,0.9097476628582934,-1.890060857566516,0.15313781758630732,-0.4448902190835499,-0.5395809052879742,-0.24286760274253633,1.9607760160002479,-0.5460757031753178,-0.7559482319618465,0.15276127622373334,0.09115330392890346,0.11936276867588004,-1.0380997387230315,1.2817698631679533,-1.032771814372345,-0.529363399194491,1.4760321282045017,0.5350437936214948,0.17880345684652296,0.011245862447948595,-0.9714533079896704,0.6572313477128922,-0.09810124347477055,-1.3487285237789288,0.9235965259080726,-0.7359193510652727,-1.6151096203332505,1.072207202252124,-0.39246292521949194,-0.5938987883601538,-0.5020075232295248,0.9928938951087263,-2.7691399769520904,-0.42403908031201104,2.8150882271346687,0.4315319751713658,-0.1764233652463163,-0.9179004761631729,0.6827020125608767,-0.7920828900921183,-2.466873678892425,0.08342115316629682,0.39369422006736843,-0.13890414142264046,0.24475164965416543,0.5541996490339449,0.004838809382971433,1.9426062212036994,0.15023694684415653,-0.18706037913695334,0.4696909594283362,0.3009907728739544,-0.3902225432444208,-1.6440593494498816,-0.8843173126622377,0.8054403212007447,0.24409360944427766],\"xaxis\":\"x8\",\"y\":[3.0024849906902924,-0.6712017479592524,1.6122949489688632,0.048319156974700864,-0.7037217982582277,-0.7346015241816336,0.46733197276926874,-1.2163230831125607,-1.8376965510535215,-0.37220305547565036,0.4982038444106561,0.41856621895463025,1.440065157327684,0.034012958086091255,-0.3857573090224651,0.06890290989061831,-0.2469046756260349,0.5308059485294074,1.2798339250090698,-0.6612866651020235,-0.4309505792491207,0.41609482167032685,-1.2642759525596383,0.8088606095923593,-0.3287787352467742,-0.6640834034711206,-0.7619309954237736,0.4226777605230677,0.24979936237140168,0.28290305086873324,-0.2587768684335364,-1.1073499176529262,1.2678433641662228,0.7205688117833361,0.013101018318805328,1.0924839966821154,-1.365552472959164,-0.6069035061411017,-0.7144470408869261,1.0164384956684194,0.443418569079833,1.5261437417082782,-0.4466690260594189,-0.03827589074987316,1.8217727999067659,0.9210873939031335,-0.6617860453960066,0.16821137523823973,-0.1432853121140892,-2.7978845041908693,-0.9871087600490078,0.23248038532172627,1.24398179577353,-0.49018419946746145,0.21244678095206795,1.0542662813242147,0.41159843284465036,-0.3283155232768134,-0.14949025923677958,-0.9729735249688074,0.4689267035066989,0.39267582822134933,-0.2970338809944145,-0.3276061866690047,0.14517824094086815,-0.5009911239461405,0.2938491028086687,-0.05358032996194319,0.15824222616038994,-1.0316553589625612,-0.8889064599434631,-1.0109186708122362,0.8680587463217743,-0.523884874888583,-0.19984029864885086,-0.14148835743846858,-0.009625828651904937,1.2595153681009292,-0.7494574853190527,1.165196594856903,-0.15616145611462873,-0.5545374650676813,-1.0616810378264292,-1.3512784595061946,-1.3413189832986294,0.30622554758114745,-1.3427236915580891,-0.8361594218203363,-0.32322420311663497,0.6932830181946397,0.45785925248063436,-0.26482801927470795,-0.21506392508465094,-0.20592211725464296,0.12609007771073222,-1.5140332619993535,0.569167999467806,0.21077166262899988,-0.3175134211123909,0.26939347185908497],\"yaxis\":\"y8\",\"type\":\"scatter\"},{\"line\":{\"color\":\"rgba(128, 128, 128, 1.0)\",\"dash\":\"solid\",\"shape\":\"linear\",\"width\":1.3},\"marker\":{\"size\":2,\"symbol\":\"circle\"},\"mode\":\"markers\",\"name\":\"C\",\"text\":\"\",\"x\":[-0.7459921802284659,-0.2985331193711804,-0.5923070930794322,1.0241349657605285,1.3474652422939397,-0.3306346733325379,0.12698460532380978,-1.2396216588120965,1.4135882069108947,-0.4340229477075488,-2.1086061405379892,0.6650868623623832,-0.9392383681720982,-0.8012157757144039,0.3556419166568355,0.17027391249413223,1.2373283151950252,-0.4278715023691055,0.5122398939890646,-0.11651123285876328,0.24228686745884245,2.7388904967110514,-0.07739903639478632,-1.7729344017310518,-0.8044559993420353,0.32858915549721407,1.6938449970171683,0.20667478488806795,0.3730087418711053,1.2819911073395296,1.0994228222100382,-0.6375445967919214,-0.015269635410634546,1.3432161615550722,0.38147805069172214,0.8090768264403407,-0.2651207647914632,-0.16152848676210493,-0.7269239383533179,-0.6137628729964091,0.5453822578346342,3.3903895782942266,-0.06297500095351101,0.04123220659054581,-0.5207128486462764,0.529189297618538,-0.2932635542935991,-1.7590769255017142,0.4561990099342433,-1.2014994000604384,0.7457774415845939,-0.6599210785512793,0.49290673558060794,-0.09439724081832111,0.5776279393791839,0.6604600090753378,0.2617093580743427,0.7413067020176657,-0.1261681498761519,1.0310886998176432,-2.0567488675287304,1.125328876952449,1.3869881729229596,1.1651878049553273,-1.7468494092187064,-0.05160940085340369,-1.6270745323537221,-0.8729420211114243,-0.4416407332362468,0.14056114799324715,-0.13450494629745824,1.1135561248487242,-0.24136313385725927,0.2953075790841706,0.9533194362152135,0.30431001658093426,-0.19300675495041086,0.3705726709997868,0.27881990624938835,1.8364326683786332,0.4284722687128993,-1.2617417433708187,-1.3276369663042034,0.7562551076888145,-0.41477062335883763,-1.031744056577676,0.7731528564898905,0.024136114280125243,1.4344322176590476,-1.6726958453708354,-0.6738035330410321,-1.64588650160417,0.00019750244670672836,0.2418395172388969,-1.2328421931298899,0.43474031290286197,-0.935102556309525,-3.030241304070444,0.1630101373330067,-1.0259787293633311],\"xaxis\":\"x9\",\"y\":[0.8113018159276627,-1.616591510992557,-0.34210620623359317,-0.1608380889424734,-1.5930171832968276,1.3163945997225097,0.14537021411047765,-0.31941598554290324,-0.043408673181858246,0.4218402251857933,1.0706319088453258,-0.0387041561845792,-0.6048296600038991,-0.25862060311070534,0.2805856976417199,-0.49357009305695704,0.560811157144869,-0.2747554426537597,-1.4570763926371968,-0.5894314407174535,-0.542569606893755,0.9695137485948544,1.923238732616469,-0.1201127967988659,-1.2625936436788925,1.4161530673322527,0.6928904459679615,0.15597596266110106,-0.18010509321539825,2.7869568632946606,-0.7727524579134264,-0.9512916232408573,0.6655970628864091,0.14320990353629576,-1.163233425097576,-1.1699505850992482,0.48627632840072155,-0.08002200140047959,-0.866163781622745,-0.7365750121239006,0.80107814419454,-0.4788418006526577,0.711292891715219,-0.45203810351847046,0.3897190003684126,2.086194939010628,0.4138766086155095,1.0147933603608388,-1.0706075825077774,0.13424782541174513,0.7226514491375658,0.43180326020643994,-0.6010352902596428,0.5133485097482706,-1.5185139735237612,-0.09325680401253154,1.4356914174704043,-0.4863913836168061,0.9181625178962032,1.1412321982521312,1.6518123162034772,-0.4626919199956366,-1.0088298637768962,1.3568492527889044,-0.979833248540261,0.9250213995648844,-1.2466304486588788,1.4031994601015796,-0.21998113203257877,-0.7253382859367504,0.09488617012844323,1.040851900292978,0.05093586697419843,-0.2675202194885947,-1.0655837915440298,0.1284908111859617,0.6698417823428845,1.0736933716461932,-0.0004236036007082919,0.8714767505757695,-0.9027189168019534,-0.08729604857291093,2.060039092449106,1.3447301921359462,-1.7900799649521892,1.64923527181763,0.5290034491709216,-0.15555846680224375,-0.4471044004759734,1.3369808740218303,-0.43070999832171797,-0.44738783149839034,-0.48200056242532596,0.9843156571561115,-0.9962186196879177,2.6606864353612916,-0.4343984891365146,0.3990878583058662,-0.6890321533124985,0.21305454433974544],\"yaxis\":\"y9\",\"type\":\"scatter\"},{\"line\":{\"color\":\"rgba(128, 128, 128, 1.0)\",\"dash\":\"solid\",\"shape\":\"linear\",\"width\":1.3},\"marker\":{\"size\":2,\"symbol\":\"circle\"},\"mode\":\"markers\",\"name\":\"C\",\"text\":\"\",\"x\":[3.0024849906902924,-0.6712017479592524,1.6122949489688632,0.048319156974700864,-0.7037217982582277,-0.7346015241816336,0.46733197276926874,-1.2163230831125607,-1.8376965510535215,-0.37220305547565036,0.4982038444106561,0.41856621895463025,1.440065157327684,0.034012958086091255,-0.3857573090224651,0.06890290989061831,-0.2469046756260349,0.5308059485294074,1.2798339250090698,-0.6612866651020235,-0.4309505792491207,0.41609482167032685,-1.2642759525596383,0.8088606095923593,-0.3287787352467742,-0.6640834034711206,-0.7619309954237736,0.4226777605230677,0.24979936237140168,0.28290305086873324,-0.2587768684335364,-1.1073499176529262,1.2678433641662228,0.7205688117833361,0.013101018318805328,1.0924839966821154,-1.365552472959164,-0.6069035061411017,-0.7144470408869261,1.0164384956684194,0.443418569079833,1.5261437417082782,-0.4466690260594189,-0.03827589074987316,1.8217727999067659,0.9210873939031335,-0.6617860453960066,0.16821137523823973,-0.1432853121140892,-2.7978845041908693,-0.9871087600490078,0.23248038532172627,1.24398179577353,-0.49018419946746145,0.21244678095206795,1.0542662813242147,0.41159843284465036,-0.3283155232768134,-0.14949025923677958,-0.9729735249688074,0.4689267035066989,0.39267582822134933,-0.2970338809944145,-0.3276061866690047,0.14517824094086815,-0.5009911239461405,0.2938491028086687,-0.05358032996194319,0.15824222616038994,-1.0316553589625612,-0.8889064599434631,-1.0109186708122362,0.8680587463217743,-0.523884874888583,-0.19984029864885086,-0.14148835743846858,-0.009625828651904937,1.2595153681009292,-0.7494574853190527,1.165196594856903,-0.15616145611462873,-0.5545374650676813,-1.0616810378264292,-1.3512784595061946,-1.3413189832986294,0.30622554758114745,-1.3427236915580891,-0.8361594218203363,-0.32322420311663497,0.6932830181946397,0.45785925248063436,-0.26482801927470795,-0.21506392508465094,-0.20592211725464296,0.12609007771073222,-1.5140332619993535,0.569167999467806,0.21077166262899988,-0.3175134211123909,0.26939347185908497],\"xaxis\":\"x10\",\"y\":[0.8113018159276627,-1.616591510992557,-0.34210620623359317,-0.1608380889424734,-1.5930171832968276,1.3163945997225097,0.14537021411047765,-0.31941598554290324,-0.043408673181858246,0.4218402251857933,1.0706319088453258,-0.0387041561845792,-0.6048296600038991,-0.25862060311070534,0.2805856976417199,-0.49357009305695704,0.560811157144869,-0.2747554426537597,-1.4570763926371968,-0.5894314407174535,-0.542569606893755,0.9695137485948544,1.923238732616469,-0.1201127967988659,-1.2625936436788925,1.4161530673322527,0.6928904459679615,0.15597596266110106,-0.18010509321539825,2.7869568632946606,-0.7727524579134264,-0.9512916232408573,0.6655970628864091,0.14320990353629576,-1.163233425097576,-1.1699505850992482,0.48627632840072155,-0.08002200140047959,-0.866163781622745,-0.7365750121239006,0.80107814419454,-0.4788418006526577,0.711292891715219,-0.45203810351847046,0.3897190003684126,2.086194939010628,0.4138766086155095,1.0147933603608388,-1.0706075825077774,0.13424782541174513,0.7226514491375658,0.43180326020643994,-0.6010352902596428,0.5133485097482706,-1.5185139735237612,-0.09325680401253154,1.4356914174704043,-0.4863913836168061,0.9181625178962032,1.1412321982521312,1.6518123162034772,-0.4626919199956366,-1.0088298637768962,1.3568492527889044,-0.979833248540261,0.9250213995648844,-1.2466304486588788,1.4031994601015796,-0.21998113203257877,-0.7253382859367504,0.09488617012844323,1.040851900292978,0.05093586697419843,-0.2675202194885947,-1.0655837915440298,0.1284908111859617,0.6698417823428845,1.0736933716461932,-0.0004236036007082919,0.8714767505757695,-0.9027189168019534,-0.08729604857291093,2.060039092449106,1.3447301921359462,-1.7900799649521892,1.64923527181763,0.5290034491709216,-0.15555846680224375,-0.4471044004759734,1.3369808740218303,-0.43070999832171797,-0.44738783149839034,-0.48200056242532596,0.9843156571561115,-0.9962186196879177,2.6606864353612916,-0.4343984891365146,0.3990878583058662,-0.6890321533124985,0.21305454433974544],\"yaxis\":\"y10\",\"type\":\"scatter\"},{\"histfunc\":\"count\",\"histnorm\":\"\",\"marker\":{\"color\":\"rgba(50, 171, 96, 1.0)\",\"line\":{\"color\":\"#4D5663\",\"width\":1.3}},\"name\":\"C\",\"nbinsx\":10,\"opacity\":0.8,\"orientation\":\"v\",\"x\":[0.8113018159276627,-1.616591510992557,-0.34210620623359317,-0.1608380889424734,-1.5930171832968276,1.3163945997225097,0.14537021411047765,-0.31941598554290324,-0.043408673181858246,0.4218402251857933,1.0706319088453258,-0.0387041561845792,-0.6048296600038991,-0.25862060311070534,0.2805856976417199,-0.49357009305695704,0.560811157144869,-0.2747554426537597,-1.4570763926371968,-0.5894314407174535,-0.542569606893755,0.9695137485948544,1.923238732616469,-0.1201127967988659,-1.2625936436788925,1.4161530673322527,0.6928904459679615,0.15597596266110106,-0.18010509321539825,2.7869568632946606,-0.7727524579134264,-0.9512916232408573,0.6655970628864091,0.14320990353629576,-1.163233425097576,-1.1699505850992482,0.48627632840072155,-0.08002200140047959,-0.866163781622745,-0.7365750121239006,0.80107814419454,-0.4788418006526577,0.711292891715219,-0.45203810351847046,0.3897190003684126,2.086194939010628,0.4138766086155095,1.0147933603608388,-1.0706075825077774,0.13424782541174513,0.7226514491375658,0.43180326020643994,-0.6010352902596428,0.5133485097482706,-1.5185139735237612,-0.09325680401253154,1.4356914174704043,-0.4863913836168061,0.9181625178962032,1.1412321982521312,1.6518123162034772,-0.4626919199956366,-1.0088298637768962,1.3568492527889044,-0.979833248540261,0.9250213995648844,-1.2466304486588788,1.4031994601015796,-0.21998113203257877,-0.7253382859367504,0.09488617012844323,1.040851900292978,0.05093586697419843,-0.2675202194885947,-1.0655837915440298,0.1284908111859617,0.6698417823428845,1.0736933716461932,-0.0004236036007082919,0.8714767505757695,-0.9027189168019534,-0.08729604857291093,2.060039092449106,1.3447301921359462,-1.7900799649521892,1.64923527181763,0.5290034491709216,-0.15555846680224375,-0.4471044004759734,1.3369808740218303,-0.43070999832171797,-0.44738783149839034,-0.48200056242532596,0.9843156571561115,-0.9962186196879177,2.6606864353612916,-0.4343984891365146,0.3990878583058662,-0.6890321533124985,0.21305454433974544],\"xaxis\":\"x11\",\"yaxis\":\"y11\",\"type\":\"histogram\"},{\"line\":{\"color\":\"rgba(128, 128, 128, 1.0)\",\"dash\":\"solid\",\"shape\":\"linear\",\"width\":1.3},\"marker\":{\"size\":2,\"symbol\":\"circle\"},\"mode\":\"markers\",\"name\":\"C\",\"text\":\"\",\"x\":[-1.5834697851579909,-0.7825639756743333,1.5647530721653389,0.6665738843861724,0.9179070161090263,1.1252093153938167,-0.5514268406912114,-0.46889949285177746,-0.6206162760360194,0.2108798117613887,-0.3783493244783955,0.5042136077299458,-1.4586208203934794,1.2912723098743222,-0.20947923787285871,2.2913706160454406,-1.8224857607378717,-0.0027484726196031115,-0.5166730365483232,1.084661778503231,0.38368659740625566,-2.627459295234819,0.7468293470424616,-0.9738444590021562,-1.149366835113078,-0.5875061241460016,-0.9215439900308457,0.8269858946997607,0.11573647663864463,-1.446237192850758,-0.26436644873993737,-0.9442682068582215,-0.5310299833174894,-0.0479546733652983,-2.0433344715405988,0.22188718745946992,-1.129153267778444,-0.8485430488921378,0.38306254883799906,0.53461624832531,-0.3791237885566834,0.30272409746642337,0.21130593108566786,0.9097476628582934,-1.890060857566516,0.15313781758630732,-0.4448902190835499,-0.5395809052879742,-0.24286760274253633,1.9607760160002479,-0.5460757031753178,-0.7559482319618465,0.15276127622373334,0.09115330392890346,0.11936276867588004,-1.0380997387230315,1.2817698631679533,-1.032771814372345,-0.529363399194491,1.4760321282045017,0.5350437936214948,0.17880345684652296,0.011245862447948595,-0.9714533079896704,0.6572313477128922,-0.09810124347477055,-1.3487285237789288,0.9235965259080726,-0.7359193510652727,-1.6151096203332505,1.072207202252124,-0.39246292521949194,-0.5938987883601538,-0.5020075232295248,0.9928938951087263,-2.7691399769520904,-0.42403908031201104,2.8150882271346687,0.4315319751713658,-0.1764233652463163,-0.9179004761631729,0.6827020125608767,-0.7920828900921183,-2.466873678892425,0.08342115316629682,0.39369422006736843,-0.13890414142264046,0.24475164965416543,0.5541996490339449,0.004838809382971433,1.9426062212036994,0.15023694684415653,-0.18706037913695334,0.4696909594283362,0.3009907728739544,-0.3902225432444208,-1.6440593494498816,-0.8843173126622377,0.8054403212007447,0.24409360944427766],\"xaxis\":\"x12\",\"y\":[0.8113018159276627,-1.616591510992557,-0.34210620623359317,-0.1608380889424734,-1.5930171832968276,1.3163945997225097,0.14537021411047765,-0.31941598554290324,-0.043408673181858246,0.4218402251857933,1.0706319088453258,-0.0387041561845792,-0.6048296600038991,-0.25862060311070534,0.2805856976417199,-0.49357009305695704,0.560811157144869,-0.2747554426537597,-1.4570763926371968,-0.5894314407174535,-0.542569606893755,0.9695137485948544,1.923238732616469,-0.1201127967988659,-1.2625936436788925,1.4161530673322527,0.6928904459679615,0.15597596266110106,-0.18010509321539825,2.7869568632946606,-0.7727524579134264,-0.9512916232408573,0.6655970628864091,0.14320990353629576,-1.163233425097576,-1.1699505850992482,0.48627632840072155,-0.08002200140047959,-0.866163781622745,-0.7365750121239006,0.80107814419454,-0.4788418006526577,0.711292891715219,-0.45203810351847046,0.3897190003684126,2.086194939010628,0.4138766086155095,1.0147933603608388,-1.0706075825077774,0.13424782541174513,0.7226514491375658,0.43180326020643994,-0.6010352902596428,0.5133485097482706,-1.5185139735237612,-0.09325680401253154,1.4356914174704043,-0.4863913836168061,0.9181625178962032,1.1412321982521312,1.6518123162034772,-0.4626919199956366,-1.0088298637768962,1.3568492527889044,-0.979833248540261,0.9250213995648844,-1.2466304486588788,1.4031994601015796,-0.21998113203257877,-0.7253382859367504,0.09488617012844323,1.040851900292978,0.05093586697419843,-0.2675202194885947,-1.0655837915440298,0.1284908111859617,0.6698417823428845,1.0736933716461932,-0.0004236036007082919,0.8714767505757695,-0.9027189168019534,-0.08729604857291093,2.060039092449106,1.3447301921359462,-1.7900799649521892,1.64923527181763,0.5290034491709216,-0.15555846680224375,-0.4471044004759734,1.3369808740218303,-0.43070999832171797,-0.44738783149839034,-0.48200056242532596,0.9843156571561115,-0.9962186196879177,2.6606864353612916,-0.4343984891365146,0.3990878583058662,-0.6890321533124985,0.21305454433974544],\"yaxis\":\"y12\",\"type\":\"scatter\"},{\"line\":{\"color\":\"rgba(128, 128, 128, 1.0)\",\"dash\":\"solid\",\"shape\":\"linear\",\"width\":1.3},\"marker\":{\"size\":2,\"symbol\":\"circle\"},\"mode\":\"markers\",\"name\":\"D\",\"text\":\"\",\"x\":[-0.7459921802284659,-0.2985331193711804,-0.5923070930794322,1.0241349657605285,1.3474652422939397,-0.3306346733325379,0.12698460532380978,-1.2396216588120965,1.4135882069108947,-0.4340229477075488,-2.1086061405379892,0.6650868623623832,-0.9392383681720982,-0.8012157757144039,0.3556419166568355,0.17027391249413223,1.2373283151950252,-0.4278715023691055,0.5122398939890646,-0.11651123285876328,0.24228686745884245,2.7388904967110514,-0.07739903639478632,-1.7729344017310518,-0.8044559993420353,0.32858915549721407,1.6938449970171683,0.20667478488806795,0.3730087418711053,1.2819911073395296,1.0994228222100382,-0.6375445967919214,-0.015269635410634546,1.3432161615550722,0.38147805069172214,0.8090768264403407,-0.2651207647914632,-0.16152848676210493,-0.7269239383533179,-0.6137628729964091,0.5453822578346342,3.3903895782942266,-0.06297500095351101,0.04123220659054581,-0.5207128486462764,0.529189297618538,-0.2932635542935991,-1.7590769255017142,0.4561990099342433,-1.2014994000604384,0.7457774415845939,-0.6599210785512793,0.49290673558060794,-0.09439724081832111,0.5776279393791839,0.6604600090753378,0.2617093580743427,0.7413067020176657,-0.1261681498761519,1.0310886998176432,-2.0567488675287304,1.125328876952449,1.3869881729229596,1.1651878049553273,-1.7468494092187064,-0.05160940085340369,-1.6270745323537221,-0.8729420211114243,-0.4416407332362468,0.14056114799324715,-0.13450494629745824,1.1135561248487242,-0.24136313385725927,0.2953075790841706,0.9533194362152135,0.30431001658093426,-0.19300675495041086,0.3705726709997868,0.27881990624938835,1.8364326683786332,0.4284722687128993,-1.2617417433708187,-1.3276369663042034,0.7562551076888145,-0.41477062335883763,-1.031744056577676,0.7731528564898905,0.024136114280125243,1.4344322176590476,-1.6726958453708354,-0.6738035330410321,-1.64588650160417,0.00019750244670672836,0.2418395172388969,-1.2328421931298899,0.43474031290286197,-0.935102556309525,-3.030241304070444,0.1630101373330067,-1.0259787293633311],\"xaxis\":\"x13\",\"y\":[-1.5834697851579909,-0.7825639756743333,1.5647530721653389,0.6665738843861724,0.9179070161090263,1.1252093153938167,-0.5514268406912114,-0.46889949285177746,-0.6206162760360194,0.2108798117613887,-0.3783493244783955,0.5042136077299458,-1.4586208203934794,1.2912723098743222,-0.20947923787285871,2.2913706160454406,-1.8224857607378717,-0.0027484726196031115,-0.5166730365483232,1.084661778503231,0.38368659740625566,-2.627459295234819,0.7468293470424616,-0.9738444590021562,-1.149366835113078,-0.5875061241460016,-0.9215439900308457,0.8269858946997607,0.11573647663864463,-1.446237192850758,-0.26436644873993737,-0.9442682068582215,-0.5310299833174894,-0.0479546733652983,-2.0433344715405988,0.22188718745946992,-1.129153267778444,-0.8485430488921378,0.38306254883799906,0.53461624832531,-0.3791237885566834,0.30272409746642337,0.21130593108566786,0.9097476628582934,-1.890060857566516,0.15313781758630732,-0.4448902190835499,-0.5395809052879742,-0.24286760274253633,1.9607760160002479,-0.5460757031753178,-0.7559482319618465,0.15276127622373334,0.09115330392890346,0.11936276867588004,-1.0380997387230315,1.2817698631679533,-1.032771814372345,-0.529363399194491,1.4760321282045017,0.5350437936214948,0.17880345684652296,0.011245862447948595,-0.9714533079896704,0.6572313477128922,-0.09810124347477055,-1.3487285237789288,0.9235965259080726,-0.7359193510652727,-1.6151096203332505,1.072207202252124,-0.39246292521949194,-0.5938987883601538,-0.5020075232295248,0.9928938951087263,-2.7691399769520904,-0.42403908031201104,2.8150882271346687,0.4315319751713658,-0.1764233652463163,-0.9179004761631729,0.6827020125608767,-0.7920828900921183,-2.466873678892425,0.08342115316629682,0.39369422006736843,-0.13890414142264046,0.24475164965416543,0.5541996490339449,0.004838809382971433,1.9426062212036994,0.15023694684415653,-0.18706037913695334,0.4696909594283362,0.3009907728739544,-0.3902225432444208,-1.6440593494498816,-0.8843173126622377,0.8054403212007447,0.24409360944427766],\"yaxis\":\"y13\",\"type\":\"scatter\"},{\"line\":{\"color\":\"rgba(128, 128, 128, 1.0)\",\"dash\":\"solid\",\"shape\":\"linear\",\"width\":1.3},\"marker\":{\"size\":2,\"symbol\":\"circle\"},\"mode\":\"markers\",\"name\":\"D\",\"text\":\"\",\"x\":[3.0024849906902924,-0.6712017479592524,1.6122949489688632,0.048319156974700864,-0.7037217982582277,-0.7346015241816336,0.46733197276926874,-1.2163230831125607,-1.8376965510535215,-0.37220305547565036,0.4982038444106561,0.41856621895463025,1.440065157327684,0.034012958086091255,-0.3857573090224651,0.06890290989061831,-0.2469046756260349,0.5308059485294074,1.2798339250090698,-0.6612866651020235,-0.4309505792491207,0.41609482167032685,-1.2642759525596383,0.8088606095923593,-0.3287787352467742,-0.6640834034711206,-0.7619309954237736,0.4226777605230677,0.24979936237140168,0.28290305086873324,-0.2587768684335364,-1.1073499176529262,1.2678433641662228,0.7205688117833361,0.013101018318805328,1.0924839966821154,-1.365552472959164,-0.6069035061411017,-0.7144470408869261,1.0164384956684194,0.443418569079833,1.5261437417082782,-0.4466690260594189,-0.03827589074987316,1.8217727999067659,0.9210873939031335,-0.6617860453960066,0.16821137523823973,-0.1432853121140892,-2.7978845041908693,-0.9871087600490078,0.23248038532172627,1.24398179577353,-0.49018419946746145,0.21244678095206795,1.0542662813242147,0.41159843284465036,-0.3283155232768134,-0.14949025923677958,-0.9729735249688074,0.4689267035066989,0.39267582822134933,-0.2970338809944145,-0.3276061866690047,0.14517824094086815,-0.5009911239461405,0.2938491028086687,-0.05358032996194319,0.15824222616038994,-1.0316553589625612,-0.8889064599434631,-1.0109186708122362,0.8680587463217743,-0.523884874888583,-0.19984029864885086,-0.14148835743846858,-0.009625828651904937,1.2595153681009292,-0.7494574853190527,1.165196594856903,-0.15616145611462873,-0.5545374650676813,-1.0616810378264292,-1.3512784595061946,-1.3413189832986294,0.30622554758114745,-1.3427236915580891,-0.8361594218203363,-0.32322420311663497,0.6932830181946397,0.45785925248063436,-0.26482801927470795,-0.21506392508465094,-0.20592211725464296,0.12609007771073222,-1.5140332619993535,0.569167999467806,0.21077166262899988,-0.3175134211123909,0.26939347185908497],\"xaxis\":\"x14\",\"y\":[-1.5834697851579909,-0.7825639756743333,1.5647530721653389,0.6665738843861724,0.9179070161090263,1.1252093153938167,-0.5514268406912114,-0.46889949285177746,-0.6206162760360194,0.2108798117613887,-0.3783493244783955,0.5042136077299458,-1.4586208203934794,1.2912723098743222,-0.20947923787285871,2.2913706160454406,-1.8224857607378717,-0.0027484726196031115,-0.5166730365483232,1.084661778503231,0.38368659740625566,-2.627459295234819,0.7468293470424616,-0.9738444590021562,-1.149366835113078,-0.5875061241460016,-0.9215439900308457,0.8269858946997607,0.11573647663864463,-1.446237192850758,-0.26436644873993737,-0.9442682068582215,-0.5310299833174894,-0.0479546733652983,-2.0433344715405988,0.22188718745946992,-1.129153267778444,-0.8485430488921378,0.38306254883799906,0.53461624832531,-0.3791237885566834,0.30272409746642337,0.21130593108566786,0.9097476628582934,-1.890060857566516,0.15313781758630732,-0.4448902190835499,-0.5395809052879742,-0.24286760274253633,1.9607760160002479,-0.5460757031753178,-0.7559482319618465,0.15276127622373334,0.09115330392890346,0.11936276867588004,-1.0380997387230315,1.2817698631679533,-1.032771814372345,-0.529363399194491,1.4760321282045017,0.5350437936214948,0.17880345684652296,0.011245862447948595,-0.9714533079896704,0.6572313477128922,-0.09810124347477055,-1.3487285237789288,0.9235965259080726,-0.7359193510652727,-1.6151096203332505,1.072207202252124,-0.39246292521949194,-0.5938987883601538,-0.5020075232295248,0.9928938951087263,-2.7691399769520904,-0.42403908031201104,2.8150882271346687,0.4315319751713658,-0.1764233652463163,-0.9179004761631729,0.6827020125608767,-0.7920828900921183,-2.466873678892425,0.08342115316629682,0.39369422006736843,-0.13890414142264046,0.24475164965416543,0.5541996490339449,0.004838809382971433,1.9426062212036994,0.15023694684415653,-0.18706037913695334,0.4696909594283362,0.3009907728739544,-0.3902225432444208,-1.6440593494498816,-0.8843173126622377,0.8054403212007447,0.24409360944427766],\"yaxis\":\"y14\",\"type\":\"scatter\"},{\"line\":{\"color\":\"rgba(128, 128, 128, 1.0)\",\"dash\":\"solid\",\"shape\":\"linear\",\"width\":1.3},\"marker\":{\"size\":2,\"symbol\":\"circle\"},\"mode\":\"markers\",\"name\":\"D\",\"text\":\"\",\"x\":[0.8113018159276627,-1.616591510992557,-0.34210620623359317,-0.1608380889424734,-1.5930171832968276,1.3163945997225097,0.14537021411047765,-0.31941598554290324,-0.043408673181858246,0.4218402251857933,1.0706319088453258,-0.0387041561845792,-0.6048296600038991,-0.25862060311070534,0.2805856976417199,-0.49357009305695704,0.560811157144869,-0.2747554426537597,-1.4570763926371968,-0.5894314407174535,-0.542569606893755,0.9695137485948544,1.923238732616469,-0.1201127967988659,-1.2625936436788925,1.4161530673322527,0.6928904459679615,0.15597596266110106,-0.18010509321539825,2.7869568632946606,-0.7727524579134264,-0.9512916232408573,0.6655970628864091,0.14320990353629576,-1.163233425097576,-1.1699505850992482,0.48627632840072155,-0.08002200140047959,-0.866163781622745,-0.7365750121239006,0.80107814419454,-0.4788418006526577,0.711292891715219,-0.45203810351847046,0.3897190003684126,2.086194939010628,0.4138766086155095,1.0147933603608388,-1.0706075825077774,0.13424782541174513,0.7226514491375658,0.43180326020643994,-0.6010352902596428,0.5133485097482706,-1.5185139735237612,-0.09325680401253154,1.4356914174704043,-0.4863913836168061,0.9181625178962032,1.1412321982521312,1.6518123162034772,-0.4626919199956366,-1.0088298637768962,1.3568492527889044,-0.979833248540261,0.9250213995648844,-1.2466304486588788,1.4031994601015796,-0.21998113203257877,-0.7253382859367504,0.09488617012844323,1.040851900292978,0.05093586697419843,-0.2675202194885947,-1.0655837915440298,0.1284908111859617,0.6698417823428845,1.0736933716461932,-0.0004236036007082919,0.8714767505757695,-0.9027189168019534,-0.08729604857291093,2.060039092449106,1.3447301921359462,-1.7900799649521892,1.64923527181763,0.5290034491709216,-0.15555846680224375,-0.4471044004759734,1.3369808740218303,-0.43070999832171797,-0.44738783149839034,-0.48200056242532596,0.9843156571561115,-0.9962186196879177,2.6606864353612916,-0.4343984891365146,0.3990878583058662,-0.6890321533124985,0.21305454433974544],\"xaxis\":\"x15\",\"y\":[-1.5834697851579909,-0.7825639756743333,1.5647530721653389,0.6665738843861724,0.9179070161090263,1.1252093153938167,-0.5514268406912114,-0.46889949285177746,-0.6206162760360194,0.2108798117613887,-0.3783493244783955,0.5042136077299458,-1.4586208203934794,1.2912723098743222,-0.20947923787285871,2.2913706160454406,-1.8224857607378717,-0.0027484726196031115,-0.5166730365483232,1.084661778503231,0.38368659740625566,-2.627459295234819,0.7468293470424616,-0.9738444590021562,-1.149366835113078,-0.5875061241460016,-0.9215439900308457,0.8269858946997607,0.11573647663864463,-1.446237192850758,-0.26436644873993737,-0.9442682068582215,-0.5310299833174894,-0.0479546733652983,-2.0433344715405988,0.22188718745946992,-1.129153267778444,-0.8485430488921378,0.38306254883799906,0.53461624832531,-0.3791237885566834,0.30272409746642337,0.21130593108566786,0.9097476628582934,-1.890060857566516,0.15313781758630732,-0.4448902190835499,-0.5395809052879742,-0.24286760274253633,1.9607760160002479,-0.5460757031753178,-0.7559482319618465,0.15276127622373334,0.09115330392890346,0.11936276867588004,-1.0380997387230315,1.2817698631679533,-1.032771814372345,-0.529363399194491,1.4760321282045017,0.5350437936214948,0.17880345684652296,0.011245862447948595,-0.9714533079896704,0.6572313477128922,-0.09810124347477055,-1.3487285237789288,0.9235965259080726,-0.7359193510652727,-1.6151096203332505,1.072207202252124,-0.39246292521949194,-0.5938987883601538,-0.5020075232295248,0.9928938951087263,-2.7691399769520904,-0.42403908031201104,2.8150882271346687,0.4315319751713658,-0.1764233652463163,-0.9179004761631729,0.6827020125608767,-0.7920828900921183,-2.466873678892425,0.08342115316629682,0.39369422006736843,-0.13890414142264046,0.24475164965416543,0.5541996490339449,0.004838809382971433,1.9426062212036994,0.15023694684415653,-0.18706037913695334,0.4696909594283362,0.3009907728739544,-0.3902225432444208,-1.6440593494498816,-0.8843173126622377,0.8054403212007447,0.24409360944427766],\"yaxis\":\"y15\",\"type\":\"scatter\"},{\"histfunc\":\"count\",\"histnorm\":\"\",\"marker\":{\"color\":\"rgba(128, 0, 128, 1.0)\",\"line\":{\"color\":\"#4D5663\",\"width\":1.3}},\"name\":\"D\",\"nbinsx\":10,\"opacity\":0.8,\"orientation\":\"v\",\"x\":[-1.5834697851579909,-0.7825639756743333,1.5647530721653389,0.6665738843861724,0.9179070161090263,1.1252093153938167,-0.5514268406912114,-0.46889949285177746,-0.6206162760360194,0.2108798117613887,-0.3783493244783955,0.5042136077299458,-1.4586208203934794,1.2912723098743222,-0.20947923787285871,2.2913706160454406,-1.8224857607378717,-0.0027484726196031115,-0.5166730365483232,1.084661778503231,0.38368659740625566,-2.627459295234819,0.7468293470424616,-0.9738444590021562,-1.149366835113078,-0.5875061241460016,-0.9215439900308457,0.8269858946997607,0.11573647663864463,-1.446237192850758,-0.26436644873993737,-0.9442682068582215,-0.5310299833174894,-0.0479546733652983,-2.0433344715405988,0.22188718745946992,-1.129153267778444,-0.8485430488921378,0.38306254883799906,0.53461624832531,-0.3791237885566834,0.30272409746642337,0.21130593108566786,0.9097476628582934,-1.890060857566516,0.15313781758630732,-0.4448902190835499,-0.5395809052879742,-0.24286760274253633,1.9607760160002479,-0.5460757031753178,-0.7559482319618465,0.15276127622373334,0.09115330392890346,0.11936276867588004,-1.0380997387230315,1.2817698631679533,-1.032771814372345,-0.529363399194491,1.4760321282045017,0.5350437936214948,0.17880345684652296,0.011245862447948595,-0.9714533079896704,0.6572313477128922,-0.09810124347477055,-1.3487285237789288,0.9235965259080726,-0.7359193510652727,-1.6151096203332505,1.072207202252124,-0.39246292521949194,-0.5938987883601538,-0.5020075232295248,0.9928938951087263,-2.7691399769520904,-0.42403908031201104,2.8150882271346687,0.4315319751713658,-0.1764233652463163,-0.9179004761631729,0.6827020125608767,-0.7920828900921183,-2.466873678892425,0.08342115316629682,0.39369422006736843,-0.13890414142264046,0.24475164965416543,0.5541996490339449,0.004838809382971433,1.9426062212036994,0.15023694684415653,-0.18706037913695334,0.4696909594283362,0.3009907728739544,-0.3902225432444208,-1.6440593494498816,-0.8843173126622377,0.8054403212007447,0.24409360944427766],\"xaxis\":\"x16\",\"yaxis\":\"y16\",\"type\":\"histogram\"}],                        {\"bargap\":0.02,\"legend\":{\"bgcolor\":\"#F5F6F9\",\"font\":{\"color\":\"#4D5663\"}},\"paper_bgcolor\":\"#F5F6F9\",\"plot_bgcolor\":\"#F5F6F9\",\"showlegend\":false,\"template\":{\"data\":{\"barpolar\":[{\"marker\":{\"line\":{\"color\":\"#E5ECF6\",\"width\":0.5},\"pattern\":{\"fillmode\":\"overlay\",\"size\":10,\"solidity\":0.2}},\"type\":\"barpolar\"}],\"bar\":[{\"error_x\":{\"color\":\"#2a3f5f\"},\"error_y\":{\"color\":\"#2a3f5f\"},\"marker\":{\"line\":{\"color\":\"#E5ECF6\",\"width\":0.5},\"pattern\":{\"fillmode\":\"overlay\",\"size\":10,\"solidity\":0.2}},\"type\":\"bar\"}],\"carpet\":[{\"aaxis\":{\"endlinecolor\":\"#2a3f5f\",\"gridcolor\":\"white\",\"linecolor\":\"white\",\"minorgridcolor\":\"white\",\"startlinecolor\":\"#2a3f5f\"},\"baxis\":{\"endlinecolor\":\"#2a3f5f\",\"gridcolor\":\"white\",\"linecolor\":\"white\",\"minorgridcolor\":\"white\",\"startlinecolor\":\"#2a3f5f\"},\"type\":\"carpet\"}],\"choropleth\":[{\"colorbar\":{\"outlinewidth\":0,\"ticks\":\"\"},\"type\":\"choropleth\"}],\"contourcarpet\":[{\"colorbar\":{\"outlinewidth\":0,\"ticks\":\"\"},\"type\":\"contourcarpet\"}],\"contour\":[{\"colorbar\":{\"outlinewidth\":0,\"ticks\":\"\"},\"colorscale\":[[0.0,\"#0d0887\"],[0.1111111111111111,\"#46039f\"],[0.2222222222222222,\"#7201a8\"],[0.3333333333333333,\"#9c179e\"],[0.4444444444444444,\"#bd3786\"],[0.5555555555555556,\"#d8576b\"],[0.6666666666666666,\"#ed7953\"],[0.7777777777777778,\"#fb9f3a\"],[0.8888888888888888,\"#fdca26\"],[1.0,\"#f0f921\"]],\"type\":\"contour\"}],\"heatmapgl\":[{\"colorbar\":{\"outlinewidth\":0,\"ticks\":\"\"},\"colorscale\":[[0.0,\"#0d0887\"],[0.1111111111111111,\"#46039f\"],[0.2222222222222222,\"#7201a8\"],[0.3333333333333333,\"#9c179e\"],[0.4444444444444444,\"#bd3786\"],[0.5555555555555556,\"#d8576b\"],[0.6666666666666666,\"#ed7953\"],[0.7777777777777778,\"#fb9f3a\"],[0.8888888888888888,\"#fdca26\"],[1.0,\"#f0f921\"]],\"type\":\"heatmapgl\"}],\"heatmap\":[{\"colorbar\":{\"outlinewidth\":0,\"ticks\":\"\"},\"colorscale\":[[0.0,\"#0d0887\"],[0.1111111111111111,\"#46039f\"],[0.2222222222222222,\"#7201a8\"],[0.3333333333333333,\"#9c179e\"],[0.4444444444444444,\"#bd3786\"],[0.5555555555555556,\"#d8576b\"],[0.6666666666666666,\"#ed7953\"],[0.7777777777777778,\"#fb9f3a\"],[0.8888888888888888,\"#fdca26\"],[1.0,\"#f0f921\"]],\"type\":\"heatmap\"}],\"histogram2dcontour\":[{\"colorbar\":{\"outlinewidth\":0,\"ticks\":\"\"},\"colorscale\":[[0.0,\"#0d0887\"],[0.1111111111111111,\"#46039f\"],[0.2222222222222222,\"#7201a8\"],[0.3333333333333333,\"#9c179e\"],[0.4444444444444444,\"#bd3786\"],[0.5555555555555556,\"#d8576b\"],[0.6666666666666666,\"#ed7953\"],[0.7777777777777778,\"#fb9f3a\"],[0.8888888888888888,\"#fdca26\"],[1.0,\"#f0f921\"]],\"type\":\"histogram2dcontour\"}],\"histogram2d\":[{\"colorbar\":{\"outlinewidth\":0,\"ticks\":\"\"},\"colorscale\":[[0.0,\"#0d0887\"],[0.1111111111111111,\"#46039f\"],[0.2222222222222222,\"#7201a8\"],[0.3333333333333333,\"#9c179e\"],[0.4444444444444444,\"#bd3786\"],[0.5555555555555556,\"#d8576b\"],[0.6666666666666666,\"#ed7953\"],[0.7777777777777778,\"#fb9f3a\"],[0.8888888888888888,\"#fdca26\"],[1.0,\"#f0f921\"]],\"type\":\"histogram2d\"}],\"histogram\":[{\"marker\":{\"pattern\":{\"fillmode\":\"overlay\",\"size\":10,\"solidity\":0.2}},\"type\":\"histogram\"}],\"mesh3d\":[{\"colorbar\":{\"outlinewidth\":0,\"ticks\":\"\"},\"type\":\"mesh3d\"}],\"parcoords\":[{\"line\":{\"colorbar\":{\"outlinewidth\":0,\"ticks\":\"\"}},\"type\":\"parcoords\"}],\"pie\":[{\"automargin\":true,\"type\":\"pie\"}],\"scatter3d\":[{\"line\":{\"colorbar\":{\"outlinewidth\":0,\"ticks\":\"\"}},\"marker\":{\"colorbar\":{\"outlinewidth\":0,\"ticks\":\"\"}},\"type\":\"scatter3d\"}],\"scattercarpet\":[{\"marker\":{\"colorbar\":{\"outlinewidth\":0,\"ticks\":\"\"}},\"type\":\"scattercarpet\"}],\"scattergeo\":[{\"marker\":{\"colorbar\":{\"outlinewidth\":0,\"ticks\":\"\"}},\"type\":\"scattergeo\"}],\"scattergl\":[{\"marker\":{\"colorbar\":{\"outlinewidth\":0,\"ticks\":\"\"}},\"type\":\"scattergl\"}],\"scattermapbox\":[{\"marker\":{\"colorbar\":{\"outlinewidth\":0,\"ticks\":\"\"}},\"type\":\"scattermapbox\"}],\"scatterpolargl\":[{\"marker\":{\"colorbar\":{\"outlinewidth\":0,\"ticks\":\"\"}},\"type\":\"scatterpolargl\"}],\"scatterpolar\":[{\"marker\":{\"colorbar\":{\"outlinewidth\":0,\"ticks\":\"\"}},\"type\":\"scatterpolar\"}],\"scatter\":[{\"fillpattern\":{\"fillmode\":\"overlay\",\"size\":10,\"solidity\":0.2},\"type\":\"scatter\"}],\"scatterternary\":[{\"marker\":{\"colorbar\":{\"outlinewidth\":0,\"ticks\":\"\"}},\"type\":\"scatterternary\"}],\"surface\":[{\"colorbar\":{\"outlinewidth\":0,\"ticks\":\"\"},\"colorscale\":[[0.0,\"#0d0887\"],[0.1111111111111111,\"#46039f\"],[0.2222222222222222,\"#7201a8\"],[0.3333333333333333,\"#9c179e\"],[0.4444444444444444,\"#bd3786\"],[0.5555555555555556,\"#d8576b\"],[0.6666666666666666,\"#ed7953\"],[0.7777777777777778,\"#fb9f3a\"],[0.8888888888888888,\"#fdca26\"],[1.0,\"#f0f921\"]],\"type\":\"surface\"}],\"table\":[{\"cells\":{\"fill\":{\"color\":\"#EBF0F8\"},\"line\":{\"color\":\"white\"}},\"header\":{\"fill\":{\"color\":\"#C8D4E3\"},\"line\":{\"color\":\"white\"}},\"type\":\"table\"}]},\"layout\":{\"annotationdefaults\":{\"arrowcolor\":\"#2a3f5f\",\"arrowhead\":0,\"arrowwidth\":1},\"autotypenumbers\":\"strict\",\"coloraxis\":{\"colorbar\":{\"outlinewidth\":0,\"ticks\":\"\"}},\"colorscale\":{\"diverging\":[[0,\"#8e0152\"],[0.1,\"#c51b7d\"],[0.2,\"#de77ae\"],[0.3,\"#f1b6da\"],[0.4,\"#fde0ef\"],[0.5,\"#f7f7f7\"],[0.6,\"#e6f5d0\"],[0.7,\"#b8e186\"],[0.8,\"#7fbc41\"],[0.9,\"#4d9221\"],[1,\"#276419\"]],\"sequential\":[[0.0,\"#0d0887\"],[0.1111111111111111,\"#46039f\"],[0.2222222222222222,\"#7201a8\"],[0.3333333333333333,\"#9c179e\"],[0.4444444444444444,\"#bd3786\"],[0.5555555555555556,\"#d8576b\"],[0.6666666666666666,\"#ed7953\"],[0.7777777777777778,\"#fb9f3a\"],[0.8888888888888888,\"#fdca26\"],[1.0,\"#f0f921\"]],\"sequentialminus\":[[0.0,\"#0d0887\"],[0.1111111111111111,\"#46039f\"],[0.2222222222222222,\"#7201a8\"],[0.3333333333333333,\"#9c179e\"],[0.4444444444444444,\"#bd3786\"],[0.5555555555555556,\"#d8576b\"],[0.6666666666666666,\"#ed7953\"],[0.7777777777777778,\"#fb9f3a\"],[0.8888888888888888,\"#fdca26\"],[1.0,\"#f0f921\"]]},\"colorway\":[\"#636efa\",\"#EF553B\",\"#00cc96\",\"#ab63fa\",\"#FFA15A\",\"#19d3f3\",\"#FF6692\",\"#B6E880\",\"#FF97FF\",\"#FECB52\"],\"font\":{\"color\":\"#2a3f5f\"},\"geo\":{\"bgcolor\":\"white\",\"lakecolor\":\"white\",\"landcolor\":\"#E5ECF6\",\"showlakes\":true,\"showland\":true,\"subunitcolor\":\"white\"},\"hoverlabel\":{\"align\":\"left\"},\"hovermode\":\"closest\",\"mapbox\":{\"style\":\"light\"},\"paper_bgcolor\":\"white\",\"plot_bgcolor\":\"#E5ECF6\",\"polar\":{\"angularaxis\":{\"gridcolor\":\"white\",\"linecolor\":\"white\",\"ticks\":\"\"},\"bgcolor\":\"#E5ECF6\",\"radialaxis\":{\"gridcolor\":\"white\",\"linecolor\":\"white\",\"ticks\":\"\"}},\"scene\":{\"xaxis\":{\"backgroundcolor\":\"#E5ECF6\",\"gridcolor\":\"white\",\"gridwidth\":2,\"linecolor\":\"white\",\"showbackground\":true,\"ticks\":\"\",\"zerolinecolor\":\"white\"},\"yaxis\":{\"backgroundcolor\":\"#E5ECF6\",\"gridcolor\":\"white\",\"gridwidth\":2,\"linecolor\":\"white\",\"showbackground\":true,\"ticks\":\"\",\"zerolinecolor\":\"white\"},\"zaxis\":{\"backgroundcolor\":\"#E5ECF6\",\"gridcolor\":\"white\",\"gridwidth\":2,\"linecolor\":\"white\",\"showbackground\":true,\"ticks\":\"\",\"zerolinecolor\":\"white\"}},\"shapedefaults\":{\"line\":{\"color\":\"#2a3f5f\"}},\"ternary\":{\"aaxis\":{\"gridcolor\":\"white\",\"linecolor\":\"white\",\"ticks\":\"\"},\"baxis\":{\"gridcolor\":\"white\",\"linecolor\":\"white\",\"ticks\":\"\"},\"bgcolor\":\"#E5ECF6\",\"caxis\":{\"gridcolor\":\"white\",\"linecolor\":\"white\",\"ticks\":\"\"}},\"title\":{\"x\":0.05},\"xaxis\":{\"automargin\":true,\"gridcolor\":\"white\",\"linecolor\":\"white\",\"ticks\":\"\",\"title\":{\"standoff\":15},\"zerolinecolor\":\"white\",\"zerolinewidth\":2},\"yaxis\":{\"automargin\":true,\"gridcolor\":\"white\",\"linecolor\":\"white\",\"ticks\":\"\",\"title\":{\"standoff\":15},\"zerolinecolor\":\"white\",\"zerolinewidth\":2}}},\"title\":{\"font\":{\"color\":\"#4D5663\"}},\"xaxis\":{\"anchor\":\"y\",\"domain\":[0.0,0.2125],\"gridcolor\":\"#E1E5ED\",\"showgrid\":false,\"tickfont\":{\"color\":\"#4D5663\"},\"title\":{\"font\":{\"color\":\"#4D5663\"},\"text\":\"\"},\"zerolinecolor\":\"#E1E5ED\"},\"yaxis\":{\"anchor\":\"x\",\"domain\":[0.8025,1.0],\"gridcolor\":\"#E1E5ED\",\"showgrid\":false,\"tickfont\":{\"color\":\"#4D5663\"},\"title\":{\"font\":{\"color\":\"#4D5663\"},\"text\":\"\"},\"zerolinecolor\":\"#E1E5ED\"},\"xaxis2\":{\"anchor\":\"y2\",\"domain\":[0.2625,0.475],\"gridcolor\":\"#E1E5ED\",\"showgrid\":false,\"tickfont\":{\"color\":\"#4D5663\"},\"title\":{\"font\":{\"color\":\"#4D5663\"},\"text\":\"\"},\"zerolinecolor\":\"#E1E5ED\"},\"yaxis2\":{\"anchor\":\"x2\",\"domain\":[0.8025,1.0],\"gridcolor\":\"#E1E5ED\",\"showgrid\":false,\"tickfont\":{\"color\":\"#4D5663\"},\"title\":{\"font\":{\"color\":\"#4D5663\"},\"text\":\"\"},\"zerolinecolor\":\"#E1E5ED\"},\"xaxis3\":{\"anchor\":\"y3\",\"domain\":[0.525,0.7375],\"gridcolor\":\"#E1E5ED\",\"showgrid\":false,\"tickfont\":{\"color\":\"#4D5663\"},\"title\":{\"font\":{\"color\":\"#4D5663\"},\"text\":\"\"},\"zerolinecolor\":\"#E1E5ED\"},\"yaxis3\":{\"anchor\":\"x3\",\"domain\":[0.8025,1.0],\"gridcolor\":\"#E1E5ED\",\"showgrid\":false,\"tickfont\":{\"color\":\"#4D5663\"},\"title\":{\"font\":{\"color\":\"#4D5663\"},\"text\":\"\"},\"zerolinecolor\":\"#E1E5ED\"},\"xaxis4\":{\"anchor\":\"y4\",\"domain\":[0.7875,1.0],\"gridcolor\":\"#E1E5ED\",\"showgrid\":false,\"tickfont\":{\"color\":\"#4D5663\"},\"title\":{\"font\":{\"color\":\"#4D5663\"},\"text\":\"\"},\"zerolinecolor\":\"#E1E5ED\"},\"yaxis4\":{\"anchor\":\"x4\",\"domain\":[0.8025,1.0],\"gridcolor\":\"#E1E5ED\",\"showgrid\":false,\"tickfont\":{\"color\":\"#4D5663\"},\"title\":{\"font\":{\"color\":\"#4D5663\"},\"text\":\"\"},\"zerolinecolor\":\"#E1E5ED\"},\"xaxis5\":{\"anchor\":\"y5\",\"domain\":[0.0,0.2125],\"gridcolor\":\"#E1E5ED\",\"showgrid\":false,\"tickfont\":{\"color\":\"#4D5663\"},\"title\":{\"font\":{\"color\":\"#4D5663\"},\"text\":\"\"},\"zerolinecolor\":\"#E1E5ED\"},\"yaxis5\":{\"anchor\":\"x5\",\"domain\":[0.535,0.7325],\"gridcolor\":\"#E1E5ED\",\"showgrid\":false,\"tickfont\":{\"color\":\"#4D5663\"},\"title\":{\"font\":{\"color\":\"#4D5663\"},\"text\":\"\"},\"zerolinecolor\":\"#E1E5ED\"},\"xaxis6\":{\"anchor\":\"y6\",\"domain\":[0.2625,0.475],\"gridcolor\":\"#E1E5ED\",\"showgrid\":false,\"tickfont\":{\"color\":\"#4D5663\"},\"title\":{\"font\":{\"color\":\"#4D5663\"},\"text\":\"\"},\"zerolinecolor\":\"#E1E5ED\"},\"yaxis6\":{\"anchor\":\"x6\",\"domain\":[0.535,0.7325],\"gridcolor\":\"#E1E5ED\",\"showgrid\":false,\"tickfont\":{\"color\":\"#4D5663\"},\"title\":{\"font\":{\"color\":\"#4D5663\"},\"text\":\"\"},\"zerolinecolor\":\"#E1E5ED\"},\"xaxis7\":{\"anchor\":\"y7\",\"domain\":[0.525,0.7375],\"gridcolor\":\"#E1E5ED\",\"showgrid\":false,\"tickfont\":{\"color\":\"#4D5663\"},\"title\":{\"font\":{\"color\":\"#4D5663\"},\"text\":\"\"},\"zerolinecolor\":\"#E1E5ED\"},\"yaxis7\":{\"anchor\":\"x7\",\"domain\":[0.535,0.7325],\"gridcolor\":\"#E1E5ED\",\"showgrid\":false,\"tickfont\":{\"color\":\"#4D5663\"},\"title\":{\"font\":{\"color\":\"#4D5663\"},\"text\":\"\"},\"zerolinecolor\":\"#E1E5ED\"},\"xaxis8\":{\"anchor\":\"y8\",\"domain\":[0.7875,1.0],\"gridcolor\":\"#E1E5ED\",\"showgrid\":false,\"tickfont\":{\"color\":\"#4D5663\"},\"title\":{\"font\":{\"color\":\"#4D5663\"},\"text\":\"\"},\"zerolinecolor\":\"#E1E5ED\"},\"yaxis8\":{\"anchor\":\"x8\",\"domain\":[0.535,0.7325],\"gridcolor\":\"#E1E5ED\",\"showgrid\":false,\"tickfont\":{\"color\":\"#4D5663\"},\"title\":{\"font\":{\"color\":\"#4D5663\"},\"text\":\"\"},\"zerolinecolor\":\"#E1E5ED\"},\"xaxis9\":{\"anchor\":\"y9\",\"domain\":[0.0,0.2125],\"gridcolor\":\"#E1E5ED\",\"showgrid\":false,\"tickfont\":{\"color\":\"#4D5663\"},\"title\":{\"font\":{\"color\":\"#4D5663\"},\"text\":\"\"},\"zerolinecolor\":\"#E1E5ED\"},\"yaxis9\":{\"anchor\":\"x9\",\"domain\":[0.2675,0.465],\"gridcolor\":\"#E1E5ED\",\"showgrid\":false,\"tickfont\":{\"color\":\"#4D5663\"},\"title\":{\"font\":{\"color\":\"#4D5663\"},\"text\":\"\"},\"zerolinecolor\":\"#E1E5ED\"},\"xaxis10\":{\"anchor\":\"y10\",\"domain\":[0.2625,0.475],\"gridcolor\":\"#E1E5ED\",\"showgrid\":false,\"tickfont\":{\"color\":\"#4D5663\"},\"title\":{\"font\":{\"color\":\"#4D5663\"},\"text\":\"\"},\"zerolinecolor\":\"#E1E5ED\"},\"yaxis10\":{\"anchor\":\"x10\",\"domain\":[0.2675,0.465],\"gridcolor\":\"#E1E5ED\",\"showgrid\":false,\"tickfont\":{\"color\":\"#4D5663\"},\"title\":{\"font\":{\"color\":\"#4D5663\"},\"text\":\"\"},\"zerolinecolor\":\"#E1E5ED\"},\"xaxis11\":{\"anchor\":\"y11\",\"domain\":[0.525,0.7375],\"gridcolor\":\"#E1E5ED\",\"showgrid\":false,\"tickfont\":{\"color\":\"#4D5663\"},\"title\":{\"font\":{\"color\":\"#4D5663\"},\"text\":\"\"},\"zerolinecolor\":\"#E1E5ED\"},\"yaxis11\":{\"anchor\":\"x11\",\"domain\":[0.2675,0.465],\"gridcolor\":\"#E1E5ED\",\"showgrid\":false,\"tickfont\":{\"color\":\"#4D5663\"},\"title\":{\"font\":{\"color\":\"#4D5663\"},\"text\":\"\"},\"zerolinecolor\":\"#E1E5ED\"},\"xaxis12\":{\"anchor\":\"y12\",\"domain\":[0.7875,1.0],\"gridcolor\":\"#E1E5ED\",\"showgrid\":false,\"tickfont\":{\"color\":\"#4D5663\"},\"title\":{\"font\":{\"color\":\"#4D5663\"},\"text\":\"\"},\"zerolinecolor\":\"#E1E5ED\"},\"yaxis12\":{\"anchor\":\"x12\",\"domain\":[0.2675,0.465],\"gridcolor\":\"#E1E5ED\",\"showgrid\":false,\"tickfont\":{\"color\":\"#4D5663\"},\"title\":{\"font\":{\"color\":\"#4D5663\"},\"text\":\"\"},\"zerolinecolor\":\"#E1E5ED\"},\"xaxis13\":{\"anchor\":\"y13\",\"domain\":[0.0,0.2125],\"gridcolor\":\"#E1E5ED\",\"showgrid\":false,\"tickfont\":{\"color\":\"#4D5663\"},\"title\":{\"font\":{\"color\":\"#4D5663\"},\"text\":\"\"},\"zerolinecolor\":\"#E1E5ED\"},\"yaxis13\":{\"anchor\":\"x13\",\"domain\":[0.0,0.1975],\"gridcolor\":\"#E1E5ED\",\"showgrid\":false,\"tickfont\":{\"color\":\"#4D5663\"},\"title\":{\"font\":{\"color\":\"#4D5663\"},\"text\":\"\"},\"zerolinecolor\":\"#E1E5ED\"},\"xaxis14\":{\"anchor\":\"y14\",\"domain\":[0.2625,0.475],\"gridcolor\":\"#E1E5ED\",\"showgrid\":false,\"tickfont\":{\"color\":\"#4D5663\"},\"title\":{\"font\":{\"color\":\"#4D5663\"},\"text\":\"\"},\"zerolinecolor\":\"#E1E5ED\"},\"yaxis14\":{\"anchor\":\"x14\",\"domain\":[0.0,0.1975],\"gridcolor\":\"#E1E5ED\",\"showgrid\":false,\"tickfont\":{\"color\":\"#4D5663\"},\"title\":{\"font\":{\"color\":\"#4D5663\"},\"text\":\"\"},\"zerolinecolor\":\"#E1E5ED\"},\"xaxis15\":{\"anchor\":\"y15\",\"domain\":[0.525,0.7375],\"gridcolor\":\"#E1E5ED\",\"showgrid\":false,\"tickfont\":{\"color\":\"#4D5663\"},\"title\":{\"font\":{\"color\":\"#4D5663\"},\"text\":\"\"},\"zerolinecolor\":\"#E1E5ED\"},\"yaxis15\":{\"anchor\":\"x15\",\"domain\":[0.0,0.1975],\"gridcolor\":\"#E1E5ED\",\"showgrid\":false,\"tickfont\":{\"color\":\"#4D5663\"},\"title\":{\"font\":{\"color\":\"#4D5663\"},\"text\":\"\"},\"zerolinecolor\":\"#E1E5ED\"},\"xaxis16\":{\"anchor\":\"y16\",\"domain\":[0.7875,1.0],\"gridcolor\":\"#E1E5ED\",\"showgrid\":false,\"tickfont\":{\"color\":\"#4D5663\"},\"title\":{\"font\":{\"color\":\"#4D5663\"},\"text\":\"\"},\"zerolinecolor\":\"#E1E5ED\"},\"yaxis16\":{\"anchor\":\"x16\",\"domain\":[0.0,0.1975],\"gridcolor\":\"#E1E5ED\",\"showgrid\":false,\"tickfont\":{\"color\":\"#4D5663\"},\"title\":{\"font\":{\"color\":\"#4D5663\"},\"text\":\"\"},\"zerolinecolor\":\"#E1E5ED\"}},                        {\"showLink\": true, \"linkText\": \"Export to plot.ly\", \"plotlyServerURL\": \"https://plot.ly\", \"responsive\": true}                    ).then(function(){\n",
       "                            \n",
       "var gd = document.getElementById('4a3da8c0-cd19-4752-b531-a3411874cdb0');\n",
       "var x = new MutationObserver(function (mutations, observer) {{\n",
       "        var display = window.getComputedStyle(gd).display;\n",
       "        if (!display || display === 'none') {{\n",
       "            console.log([gd, 'removed!']);\n",
       "            Plotly.purge(gd);\n",
       "            observer.disconnect();\n",
       "        }}\n",
       "}});\n",
       "\n",
       "// Listen for the removal of the full notebook cells\n",
       "var notebookContainer = gd.closest('#notebook-container');\n",
       "if (notebookContainer) {{\n",
       "    x.observe(notebookContainer, {childList: true});\n",
       "}}\n",
       "\n",
       "// Listen for the clearing of the current output cell\n",
       "var outputEl = gd.closest('.output');\n",
       "if (outputEl) {{\n",
       "    x.observe(outputEl, {childList: true});\n",
       "}}\n",
       "\n",
       "                        })                };                });            </script>        </div>"
      ]
     },
     "metadata": {},
     "output_type": "display_data"
    }
   ],
   "source": [
    "df.scatter_matrix()"
   ]
  },
  {
   "cell_type": "markdown",
   "metadata": {
    "collapsed": true
   },
   "source": [
    "# Buen trabajo!"
   ]
  }
 ],
 "metadata": {
  "kernelspec": {
   "display_name": "Python 3 (ipykernel)",
   "language": "python",
   "name": "python3"
  },
  "language_info": {
   "codemirror_mode": {
    "name": "ipython",
    "version": 3
   },
   "file_extension": ".py",
   "mimetype": "text/x-python",
   "name": "python",
   "nbconvert_exporter": "python",
   "pygments_lexer": "ipython3",
   "version": "3.11.3"
  }
 },
 "nbformat": 4,
 "nbformat_minor": 1
}
